{
 "cells": [
  {
   "cell_type": "code",
   "execution_count": 1,
   "id": "a4d6ea1f-05c5-42ce-b4ee-2e2088ce5777",
   "metadata": {},
   "outputs": [
    {
     "data": {
      "text/plain": [
       "<module 'fakeInjectionPipeline' from '/global/cscratch1/sd/shl159/projects/dia_improvement/scripts/fakeInjectionPipeline.py'>"
      ]
     },
     "execution_count": 1,
     "metadata": {},
     "output_type": "execute_result"
    }
   ],
   "source": [
    "import os\n",
    "import sqlite3\n",
    "import matplotlib.pyplot as plt\n",
    "import numpy as np\n",
    "import pandas as pd\n",
    "\n",
    "from lsst.daf.persistence import Butler\n",
    "import fakeInjectionPipeline as fip\n",
    "import data_process_utils as dpu\n",
    "\n",
    "from scipy.stats import norm\n",
    "import scipy.stats as stats\n",
    "\n",
    "import imp\n",
    "imp.reload(fip) "
   ]
  },
  {
   "cell_type": "code",
   "execution_count": 2,
   "id": "832ba2d5-3615-4a0f-a178-50d0c1927c1c",
   "metadata": {},
   "outputs": [
    {
     "name": "stdout",
     "output_type": "stream",
     "text": [
      "/global/cscratch1/sd/shl159/projects/dia_improvement/scripts\n"
     ]
    }
   ],
   "source": [
    "!pwd"
   ]
  },
  {
   "cell_type": "code",
   "execution_count": 3,
   "id": "fb572888-c6ae-4555-9f07-abfbb54695ee",
   "metadata": {},
   "outputs": [],
   "source": [
    "def get_calexp_injection_dict(patch_list, host_mag_range_list):\n",
    "    \n",
    "    conn = sqlite3.connect('../data/table/gal_4639/injection_coord.sqlite')\n",
    "    calexp_info_dict = {}\n",
    "    injection_coord_dict = {}\n",
    "\n",
    "    for patch in patch_list:\n",
    "        patch_1, patch_2 = patch[0], patch[1]\n",
    "        \n",
    "\n",
    "\n",
    "        for host_mag in host_mag_range_list:\n",
    "            min_mag = host_mag[0]\n",
    "            max_mag = host_mag[1]\n",
    "\n",
    "            calexp_info_query = (f'SELECT distinct(visit), filter, detector FROM injection_coord WHERE patch_1={patch_1} AND '\n",
    "                                 f'patch_2={patch_2} AND min_host_mag = {min_mag} AND max_host_mag = {max_mag}'\n",
    "                                )\n",
    "            calexp_info = pd.read_sql_query(calexp_info_query, conn)\n",
    "\n",
    "            calexp_info_dict[f'{patch}_{min_mag}_{max_mag}'] = calexp_info\n",
    "\n",
    "        for host_mag in host_mag_range_list:\n",
    "            min_mag = host_mag[0]\n",
    "            max_mag = host_mag[1]\n",
    "            calexp_info = calexp_info_dict[f'{patch}_{min_mag}_{max_mag}']\n",
    "            for idx, row in calexp_info.iterrows():\n",
    "                visit = row['visit']\n",
    "                filt = row['filter']\n",
    "                detector = row['detector']\n",
    "                coord_query = (\n",
    "                    f'SELECT calexp_coord_x, calexp_coord_y FROM injection_coord '\n",
    "                    f\"WHERE patch_1={patch_1} AND patch_2={patch_2} AND min_host_mag = {min_mag} AND max_host_mag = {max_mag} \"\n",
    "                    f\"AND visit = {visit} AND filter = '{filt}' AND detector = {detector}\"\n",
    "                )\n",
    "                coord = pd.read_sql_query(coord_query, conn).to_numpy()\n",
    "                injection_coord_dict[f'{patch}_{int(min_mag)}_{int(max_mag)}_{int(visit)}_{int(detector)}_{filt}'] = coord\n",
    "    return calexp_info_dict, injection_coord_dict"
   ]
  },
  {
   "cell_type": "code",
   "execution_count": 4,
   "id": "75325339-457f-4588-b719-a6f7f5205237",
   "metadata": {},
   "outputs": [
    {
     "name": "stdout",
     "output_type": "stream",
     "text": [
      "/global/cscratch1/sd/shl159/projects/dia_improvement/scripts\n"
     ]
    }
   ],
   "source": [
    "!pwd"
   ]
  },
  {
   "cell_type": "markdown",
   "id": "1c306f92-3034-4488-8b20-dd8ed45360ea",
   "metadata": {},
   "source": [
    "# injection"
   ]
  },
  {
   "cell_type": "code",
   "execution_count": null,
   "id": "e285474e-2a58-43ff-a617-679ee5699f3b",
   "metadata": {},
   "outputs": [],
   "source": []
  },
  {
   "cell_type": "code",
   "execution_count": 6,
   "id": "6f44ead5-b400-4906-b617-ccc8cc4342e0",
   "metadata": {},
   "outputs": [],
   "source": [
    "patch_list = ['00', '11', '22', '33', '44', '55', '66']\n",
    "host_mag_list = ['20_21', '21_22', '22_23', '23_24', '24_25']\n",
    "fake_mag_list = [23.0, 23.1, 23.2, 23.3, 23.4, 23.5, 23.6, 23.7, 23.8, 23.9, 24.0]\n",
    "\n",
    "host_mag_range_list = [(20, 21), (21, 22), (22,23), (23, 24), (24, 25)]\n",
    "calexp_info_dict, injection_coord_dict = get_calexp_injection_dict(patch_list, host_mag_range_list)\n",
    "\n"
   ]
  },
  {
   "cell_type": "code",
   "execution_count": 7,
   "id": "8e16ed57-973a-41d9-a70e-83d8d3c2986b",
   "metadata": {},
   "outputs": [
    {
     "name": "stdout",
     "output_type": "stream",
     "text": [
      "/global/cscratch1/sd/shl159/projects/dia_improvement/scripts\n"
     ]
    }
   ],
   "source": [
    "!pwd"
   ]
  },
  {
   "cell_type": "code",
   "execution_count": 7,
   "id": "351e8a38-6cf5-4f4b-89fd-1ccb3c7a43a4",
   "metadata": {},
   "outputs": [],
   "source": [
    "fake_dir = f'/global/cscratch1/sd/shl159/projects/dia_improvement/data/patch_0to6/injection/perfect_faint'\n",
    "\n",
    "injector = fip.fakeInjectionPipeline(\n",
    "    fake_dir = fake_dir, patch_list = patch_list,\n",
    "    host_mag_list=host_mag_list, fake_mag_list=fake_mag_list,\n",
    "    calexp_info_dict=calexp_info_dict, injection_coord_dict=injection_coord_dict\n",
    ")"
   ]
  },
  {
   "cell_type": "code",
   "execution_count": 14,
   "id": "34443462-97d6-4ef6-9887-01cd4a283430",
   "metadata": {},
   "outputs": [
    {
     "name": "stdout",
     "output_type": "stream",
     "text": [
      "patch:  00\n",
      "host mag:  20_21\n",
      "host mag:  21_22\n",
      "host mag:  22_23\n",
      "host mag:  23_24\n",
      "host mag:  24_25\n",
      "\n",
      "\n",
      "patch:  11\n",
      "host mag:  20_21\n",
      "host mag:  21_22\n",
      "host mag:  22_23\n",
      "host mag:  23_24\n",
      "host mag:  24_25\n",
      "\n",
      "\n",
      "patch:  22\n",
      "host mag:  20_21\n",
      "host mag:  21_22\n",
      "host mag:  22_23\n",
      "host mag:  23_24\n",
      "host mag:  24_25\n",
      "\n",
      "\n",
      "patch:  33\n",
      "host mag:  20_21\n",
      "host mag:  21_22\n",
      "host mag:  22_23\n",
      "host mag:  23_24\n",
      "host mag:  24_25\n",
      "\n",
      "\n",
      "patch:  44\n",
      "host mag:  20_21\n",
      "host mag:  21_22\n",
      "host mag:  22_23\n",
      "host mag:  23_24\n",
      "host mag:  24_25\n",
      "\n",
      "\n",
      "patch:  55\n",
      "host mag:  20_21\n",
      "host mag:  21_22\n",
      "host mag:  22_23\n",
      "host mag:  23_24\n",
      "host mag:  24_25\n",
      "\n",
      "\n",
      "patch:  66\n",
      "host mag:  20_21\n",
      "host mag:  21_22\n",
      "host mag:  22_23\n",
      "host mag:  23_24\n",
      "host mag:  24_25\n",
      "\n",
      "\n",
      "injection is done\n"
     ]
    }
   ],
   "source": [
    "# injector.make_fake_repo()\n",
    "# injector.inject_fakes(poisson=False)"
   ]
  },
  {
   "cell_type": "code",
   "execution_count": null,
   "id": "fde0c51a-e42d-4575-9373-3aee32c12309",
   "metadata": {},
   "outputs": [],
   "source": []
  },
  {
   "cell_type": "code",
   "execution_count": null,
   "id": "05672487-a98b-4a6d-ba09-6a33c4fc1c7a",
   "metadata": {},
   "outputs": [],
   "source": [
    "fake_dir = f'/global/cscratch1/sd/shl159/projects/dia_improvement/data/patch_0to6/injection/perfect_faint'\n",
    "\n"
   ]
  },
  {
   "cell_type": "code",
   "execution_count": 8,
   "id": "a9d73e4c-0c7a-47d9-9066-8ffabca15ee2",
   "metadata": {},
   "outputs": [],
   "source": [
    "cf_type = 'default_3sig'\n",
    "\n",
    "config = f'./config/diffimConfig_al_{cf_type}.py'\n",
    "file_path = f'../al_faint_perfect.sh'\n",
    "diff_dir =  f'/global/cscratch1/sd/shl159/projects/dia_improvement/data/patch_0to6/diff/perfect/al_faint_{cf_type}'\n",
    "# injector.get_subtraction_script(diff_dir , config=config, file_path=file_path, use_slurm=True)"
   ]
  },
  {
   "cell_type": "code",
   "execution_count": null,
   "id": "d1dfa533-6f3f-4d07-a532-7c73e98408e0",
   "metadata": {},
   "outputs": [],
   "source": []
  },
  {
   "cell_type": "code",
   "execution_count": null,
   "id": "f3d2ff9f-ba29-4869-bd5f-b9128d96b0b9",
   "metadata": {},
   "outputs": [],
   "source": []
  },
  {
   "cell_type": "code",
   "execution_count": null,
   "id": "b0fac12a-d5ba-4ecc-a746-977e8b7a9037",
   "metadata": {},
   "outputs": [],
   "source": []
  },
  {
   "cell_type": "markdown",
   "id": "5692cbac-d360-42a2-9697-33d7917c8eaf",
   "metadata": {},
   "source": [
    "# exsistance"
   ]
  },
  {
   "cell_type": "code",
   "execution_count": null,
   "id": "300996dc-b2d8-4f40-9c50-a0609f372bba",
   "metadata": {},
   "outputs": [],
   "source": []
  },
  {
   "cell_type": "code",
   "execution_count": 10,
   "id": "d487ef6c-ee90-4a2f-a48d-75194e644234",
   "metadata": {},
   "outputs": [
    {
     "name": "stdout",
     "output_type": "stream",
     "text": [
      "\n"
     ]
    }
   ],
   "source": [
    "for patch in patch_list:\n",
    "    \n",
    "    for host_mag in host_mag_list:\n",
    "        calexp_info = calexp_info_dict[f'{patch}_{host_mag}']\n",
    "        \n",
    "        for index, row in calexp_info.iterrows():\n",
    "            visit = row['visit']\n",
    "            filt = row['filter']\n",
    "            detector = row['detector']\n",
    "\n",
    "            for fake_mag in fake_mag_list:\n",
    "                fake_mag_str = str(fake_mag).replace('.', '')\n",
    "\n",
    "                diff_path = os.path.join(\n",
    "                    diff_dir, f'{patch}_{host_mag}_{visit}_{detector}_{filt}/diff_{fake_mag_str}/deepDiff'\n",
    "                )\n",
    "                \n",
    "                if not os.path.exists(diff_path):\n",
    "                    print(diff_path)\n",
    "\n",
    "print()\n"
   ]
  },
  {
   "cell_type": "code",
   "execution_count": 40,
   "id": "a2f0c37d-e6cc-4bf8-97da-0f9af744f64f",
   "metadata": {},
   "outputs": [
    {
     "name": "stdout",
     "output_type": "stream",
     "text": [
      "patch:  00\n",
      "host mag:  20_21\n",
      "host mag:  21_22\n",
      "host mag:  22_23\n",
      "host mag:  23_24\n",
      "host mag:  24_25\n",
      "\n",
      "\n",
      "patch:  11\n",
      "host mag:  20_21\n",
      "host mag:  21_22\n",
      "host mag:  22_23\n",
      "host mag:  23_24\n",
      "host mag:  24_25\n",
      "\n",
      "\n",
      "patch:  22\n",
      "host mag:  20_21\n",
      "host mag:  21_22\n",
      "host mag:  22_23\n",
      "host mag:  23_24\n",
      "host mag:  24_25\n",
      "\n",
      "\n",
      "patch:  33\n",
      "host mag:  20_21\n",
      "host mag:  21_22\n",
      "host mag:  22_23\n",
      "host mag:  23_24\n",
      "host mag:  24_25\n",
      "\n",
      "\n",
      "patch:  44\n",
      "host mag:  20_21\n",
      "host mag:  21_22\n",
      "host mag:  22_23\n",
      "host mag:  23_24\n",
      "host mag:  24_25\n",
      "\n",
      "\n",
      "patch:  55\n",
      "host mag:  20_21\n",
      "host mag:  21_22\n",
      "host mag:  22_23\n",
      "host mag:  23_24\n",
      "host mag:  24_25\n",
      "\n",
      "\n",
      "patch:  66\n",
      "host mag:  20_21\n",
      "host mag:  21_22\n",
      "host mag:  22_23\n",
      "host mag:  23_24\n",
      "host mag:  24_25\n",
      "\n",
      "\n",
      "detection results are saved in /global/cscratch1/sd/shl159/projects/dia_improvement/data/patch_0to6/diff/perfect/al_default_3sig/detection/detection.sqlite\n",
      "fake_src contains the fake information, and artifact contains the artifact information\n",
      "done\n"
     ]
    }
   ],
   "source": [
    "cf_type = 'default_3sig'\n",
    "diff_dir =  f'/global/cscratch1/sd/shl159/projects/dia_improvement/data/patch_0to6/diff/perfect/al_{cf_type}'\n",
    "flux_dir = (\n",
    "    f'/global/cscratch1/sd/shl159/projects/dia_improvement/data'\n",
    "    f'/patch_0to6/diff/perfect/al_{cf_type}/detection'\n",
    ")\n",
    "\n",
    "injector.get_detection(diff_dir=diff_dir, flux_dir=flux_dir, db_name=f'detection.sqlite')\n",
    "print('done')"
   ]
  },
  {
   "cell_type": "code",
   "execution_count": null,
   "id": "53a35fde-c0d5-4cce-b27b-a1794c54b5d2",
   "metadata": {},
   "outputs": [],
   "source": []
  },
  {
   "cell_type": "code",
   "execution_count": 16,
   "id": "52aa2fbf-3a2f-4a58-b666-52d2087e3d98",
   "metadata": {},
   "outputs": [
    {
     "name": "stdout",
     "output_type": "stream",
     "text": [
      "forced photometry coordinates are saved in /global/cscratch1/sd/shl159/projects/dia_improvement/data/patch_0to6/diff/perfect/al_default_3sig/coord\n"
     ]
    }
   ],
   "source": [
    "flux_db_path = '/global/cscratch1/sd/shl159/projects/dia_improvement/data/patch_0to6/diff/perfect/al_default_3sig/detection/detection.sqlite'\n",
    "coord_dir = '/global/cscratch1/sd/shl159/projects/dia_improvement/data/patch_0to6/diff/perfect/al_default_3sig/coord'\n",
    "injector.get_detection_coord(flux_db_path, coord_dir)"
   ]
  },
  {
   "cell_type": "code",
   "execution_count": null,
   "id": "d9557ff4-bf4a-4045-b49f-916cf4fdb95f",
   "metadata": {},
   "outputs": [],
   "source": []
  },
  {
   "cell_type": "code",
   "execution_count": 26,
   "id": "a27a10ae-3e02-4fd2-b59e-c18f6d41b14a",
   "metadata": {},
   "outputs": [
    {
     "name": "stdout",
     "output_type": "stream",
     "text": [
      "patch:  00\n",
      "host mag:  20_21\n",
      "host mag:  21_22\n",
      "host mag:  22_23\n",
      "host mag:  23_24\n",
      "host mag:  24_25\n",
      "\n",
      "\n",
      "patch:  11\n",
      "host mag:  20_21\n",
      "host mag:  21_22\n",
      "host mag:  22_23\n",
      "host mag:  23_24\n",
      "host mag:  24_25\n",
      "\n",
      "\n",
      "patch:  22\n",
      "host mag:  20_21\n",
      "host mag:  21_22\n",
      "host mag:  22_23\n",
      "host mag:  23_24\n",
      "host mag:  24_25\n",
      "\n",
      "\n",
      "patch:  33\n",
      "host mag:  20_21\n",
      "host mag:  21_22\n",
      "host mag:  22_23\n",
      "host mag:  23_24\n",
      "host mag:  24_25\n",
      "\n",
      "\n",
      "patch:  44\n",
      "host mag:  20_21\n",
      "host mag:  21_22\n",
      "host mag:  22_23\n",
      "host mag:  23_24\n",
      "host mag:  24_25\n",
      "\n",
      "\n",
      "patch:  55\n",
      "host mag:  20_21\n",
      "host mag:  21_22\n",
      "host mag:  22_23\n",
      "host mag:  23_24\n",
      "host mag:  24_25\n",
      "\n",
      "\n",
      "patch:  66\n",
      "host mag:  20_21\n",
      "host mag:  21_22\n",
      "host mag:  22_23\n",
      "host mag:  23_24\n",
      "host mag:  24_25\n",
      "\n",
      "\n",
      "please run this file: ../forced_al_default_3sig.sh\n"
     ]
    }
   ],
   "source": [
    "cf_type = 'default_3sig'\n",
    "diff_dir =  f'/global/cscratch1/sd/shl159/projects/dia_improvement/data/patch_0to6/diff/perfect/al_{cf_type}'\n",
    "coord_dir = '/global/cscratch1/sd/shl159/projects/dia_improvement/data/patch_0to6/diff/perfect/al_default_3sig/coord'\n",
    "forced_dir = '/global/cscratch1/sd/shl159/projects/dia_improvement/data/patch_0to6/diff/perfect/al_default_3sig/forced'\n",
    "\n",
    "config = './config/forcedConfig.py'\n",
    "file_path = '../forced_al_default_3sig.sh'\n",
    "injector.get_forced_phot_script(diff_dir, coord_dir, forced_dir, config, file_path=file_path)"
   ]
  },
  {
   "cell_type": "code",
   "execution_count": null,
   "id": "4af1f427-fb17-4a53-b411-3733f204d927",
   "metadata": {},
   "outputs": [],
   "source": []
  },
  {
   "cell_type": "code",
   "execution_count": null,
   "id": "355e0615-447d-462d-9743-152040155d0d",
   "metadata": {},
   "outputs": [],
   "source": []
  },
  {
   "cell_type": "code",
   "execution_count": null,
   "id": "0f628cb6-7958-413f-a2d3-ebdf459a033f",
   "metadata": {},
   "outputs": [],
   "source": []
  },
  {
   "cell_type": "code",
   "execution_count": null,
   "id": "8f7a38e4-059a-48ea-953b-636885defa63",
   "metadata": {},
   "outputs": [],
   "source": []
  },
  {
   "cell_type": "code",
   "execution_count": null,
   "id": "588b984f-7e62-46bb-9dd1-e1e81ce89ca8",
   "metadata": {},
   "outputs": [],
   "source": []
  },
  {
   "cell_type": "code",
   "execution_count": null,
   "id": "e886627d-df75-4262-8604-d8c962ddc3ea",
   "metadata": {},
   "outputs": [],
   "source": []
  },
  {
   "cell_type": "code",
   "execution_count": null,
   "id": "7a6b18f6-c059-4dbb-b28c-756af952b617",
   "metadata": {},
   "outputs": [],
   "source": []
  },
  {
   "cell_type": "code",
   "execution_count": null,
   "id": "e4df6667-f860-48bc-9b72-8fca8520e72e",
   "metadata": {},
   "outputs": [],
   "source": []
  },
  {
   "cell_type": "code",
   "execution_count": null,
   "id": "765c9bc2-164d-4168-8537-2cf3f97523f9",
   "metadata": {},
   "outputs": [],
   "source": []
  },
  {
   "cell_type": "code",
   "execution_count": null,
   "id": "8e6b3ac7-4956-4858-b1f4-1325fe12a855",
   "metadata": {},
   "outputs": [],
   "source": []
  },
  {
   "cell_type": "code",
   "execution_count": null,
   "id": "46e2c72e-b8fa-43c5-9343-20ff0eecd707",
   "metadata": {},
   "outputs": [],
   "source": []
  },
  {
   "cell_type": "code",
   "execution_count": null,
   "id": "4e8a46d7-9a6a-43bf-9958-798760e2445e",
   "metadata": {},
   "outputs": [],
   "source": []
  },
  {
   "cell_type": "code",
   "execution_count": null,
   "id": "4c53cd9f-d9c2-4cb8-bd32-4bdc2dd9a014",
   "metadata": {},
   "outputs": [],
   "source": []
  },
  {
   "cell_type": "code",
   "execution_count": null,
   "id": "ba3cb453-a00d-4eab-b21a-5447e914ce95",
   "metadata": {},
   "outputs": [],
   "source": []
  },
  {
   "cell_type": "code",
   "execution_count": null,
   "id": "79294841-9c34-4d89-94e3-e487851e6484",
   "metadata": {},
   "outputs": [],
   "source": []
  },
  {
   "cell_type": "code",
   "execution_count": null,
   "id": "b547cb9b-af42-4fb7-b480-d633f4eb771e",
   "metadata": {},
   "outputs": [],
   "source": []
  },
  {
   "cell_type": "code",
   "execution_count": null,
   "id": "1ed057c0-0f39-41ed-b8ac-6ffbd9846fa1",
   "metadata": {},
   "outputs": [],
   "source": []
  },
  {
   "cell_type": "code",
   "execution_count": null,
   "id": "f485c907-9d19-4f6e-97b7-bf7cd47e4a54",
   "metadata": {},
   "outputs": [],
   "source": []
  },
  {
   "cell_type": "code",
   "execution_count": null,
   "id": "716fcf9f-f419-4d15-8606-875b9ec08b9f",
   "metadata": {},
   "outputs": [],
   "source": []
  },
  {
   "cell_type": "code",
   "execution_count": null,
   "id": "5686c55b-001c-4a91-a303-dc1b403a1cec",
   "metadata": {},
   "outputs": [],
   "source": []
  },
  {
   "cell_type": "code",
   "execution_count": null,
   "id": "a1b27b80-61f7-4be2-82da-0d42924a5b68",
   "metadata": {},
   "outputs": [],
   "source": []
  },
  {
   "cell_type": "code",
   "execution_count": null,
   "id": "973627ae-e5d3-4c48-b261-a36e44a47305",
   "metadata": {},
   "outputs": [],
   "source": []
  },
  {
   "cell_type": "code",
   "execution_count": null,
   "id": "803eb357-7d3d-4962-b572-b47f8380ade0",
   "metadata": {},
   "outputs": [],
   "source": []
  },
  {
   "cell_type": "code",
   "execution_count": null,
   "id": "bb7ebf8c-e221-486e-a730-198f395dba4d",
   "metadata": {},
   "outputs": [],
   "source": []
  },
  {
   "cell_type": "code",
   "execution_count": null,
   "id": "02648cea-d43c-4dbc-b522-1f0653a42ed5",
   "metadata": {},
   "outputs": [],
   "source": []
  },
  {
   "cell_type": "code",
   "execution_count": null,
   "id": "08e8d8d8-df31-4bb1-b8eb-23a75f90ed7c",
   "metadata": {},
   "outputs": [],
   "source": []
  },
  {
   "cell_type": "code",
   "execution_count": null,
   "id": "192ebb58-8844-44fd-b916-df2135788875",
   "metadata": {},
   "outputs": [],
   "source": []
  },
  {
   "cell_type": "code",
   "execution_count": null,
   "id": "f83f72a2-00c0-45b0-acfe-57f67daddee8",
   "metadata": {},
   "outputs": [],
   "source": []
  },
  {
   "cell_type": "code",
   "execution_count": null,
   "id": "ccc1997e-6544-42e6-8372-cf1419de8f47",
   "metadata": {},
   "outputs": [],
   "source": []
  },
  {
   "cell_type": "code",
   "execution_count": null,
   "id": "32ee9ee7-9c68-4c6e-ac2f-5eee951cfd47",
   "metadata": {},
   "outputs": [],
   "source": []
  },
  {
   "cell_type": "code",
   "execution_count": null,
   "id": "904475a7-592e-4bb2-8fa2-bbe372b53e86",
   "metadata": {},
   "outputs": [],
   "source": []
  },
  {
   "cell_type": "code",
   "execution_count": null,
   "id": "53472441-2e7b-4a37-8177-44e6820e60aa",
   "metadata": {},
   "outputs": [],
   "source": []
  },
  {
   "cell_type": "code",
   "execution_count": null,
   "id": "fd886f24-385c-4334-af64-5f9416419b94",
   "metadata": {},
   "outputs": [],
   "source": []
  },
  {
   "cell_type": "code",
   "execution_count": null,
   "id": "70a2989b-3477-4819-af61-eac9ae3e9cb0",
   "metadata": {},
   "outputs": [],
   "source": []
  },
  {
   "cell_type": "code",
   "execution_count": null,
   "id": "86a5e5f4-e528-41fe-a04a-32f3e93bf2ab",
   "metadata": {},
   "outputs": [],
   "source": []
  },
  {
   "cell_type": "code",
   "execution_count": null,
   "id": "778b092c-2ea5-42f1-8278-8a657f21120a",
   "metadata": {},
   "outputs": [],
   "source": []
  },
  {
   "cell_type": "code",
   "execution_count": null,
   "id": "3e4ccac4-fc9f-4dfc-9e75-4c34d0f190ba",
   "metadata": {},
   "outputs": [],
   "source": []
  },
  {
   "cell_type": "code",
   "execution_count": null,
   "id": "c337b7a8-6875-427d-9453-12e0143262a2",
   "metadata": {},
   "outputs": [],
   "source": []
  },
  {
   "cell_type": "code",
   "execution_count": null,
   "id": "a3b22745-8a38-47dd-b540-25c958bc73a4",
   "metadata": {},
   "outputs": [],
   "source": []
  },
  {
   "cell_type": "code",
   "execution_count": null,
   "id": "373e949c-319a-4aea-a7cc-bd6a11df722a",
   "metadata": {},
   "outputs": [],
   "source": []
  },
  {
   "cell_type": "code",
   "execution_count": null,
   "id": "bc3f9320-245f-4426-91f2-04ea2285916b",
   "metadata": {},
   "outputs": [],
   "source": []
  },
  {
   "cell_type": "code",
   "execution_count": null,
   "id": "489eb066-9cbf-4ee6-8760-15f6e40bbd20",
   "metadata": {},
   "outputs": [],
   "source": []
  },
  {
   "cell_type": "code",
   "execution_count": null,
   "id": "420df9e4-b3d3-4f19-8e64-b668e5ce6ccd",
   "metadata": {},
   "outputs": [],
   "source": []
  },
  {
   "cell_type": "code",
   "execution_count": null,
   "id": "97f6a52a-2b16-49ee-89ff-cea03a1513f1",
   "metadata": {},
   "outputs": [],
   "source": []
  },
  {
   "cell_type": "code",
   "execution_count": null,
   "id": "725c65f0-ad3d-4f2b-9458-8bc88ac9073e",
   "metadata": {},
   "outputs": [],
   "source": []
  },
  {
   "cell_type": "code",
   "execution_count": null,
   "id": "a8ad1d9b-a902-4977-a3eb-cfec7db9db36",
   "metadata": {},
   "outputs": [],
   "source": []
  },
  {
   "cell_type": "code",
   "execution_count": null,
   "id": "d591cd43-f0ea-4384-92c0-2f6f58a10ff7",
   "metadata": {},
   "outputs": [],
   "source": []
  },
  {
   "cell_type": "code",
   "execution_count": null,
   "id": "42b77d44-ea74-4f55-b859-a2813cdb6c56",
   "metadata": {},
   "outputs": [],
   "source": []
  },
  {
   "cell_type": "code",
   "execution_count": null,
   "id": "40961353-0129-45ff-af30-95005a827d78",
   "metadata": {},
   "outputs": [],
   "source": []
  },
  {
   "cell_type": "code",
   "execution_count": 7,
   "id": "c5655ec4-ad42-4dc4-b952-a11f2e684134",
   "metadata": {},
   "outputs": [
    {
     "name": "stdout",
     "output_type": "stream",
     "text": [
      "patch:  00\n",
      "host mag:  20_21\n",
      "host mag:  21_22\n",
      "host mag:  22_23\n",
      "host mag:  23_24\n",
      "host mag:  24_25\n",
      "host mag:  25_26\n",
      "host mag:  26_27\n",
      "host mag:  27_28\n",
      "\n",
      "\n",
      "detection results are saved in /global/cfs/cdirs/desc-sn/dia/data/shl159/projects/dia_improvement/data/patch_0to6/default_3sig/detection/patch_00_detection.sqlite\n",
      "fake_src contains the fake information, and artifact contains the artifact information\n",
      "done\n"
     ]
    }
   ],
   "source": [
    "patch = 0\n",
    "diff_dir = f'/global/cfs/cdirs/desc-sn/dia/data/shl159/projects/dia_improvement/data/patch_0to6/{cf_type}'\n",
    "flux_dir = f'/global/cfs/cdirs/desc-sn/dia/data/shl159/projects/dia_improvement/data/patch_0to6/{cf_type}/detection'\n",
    "\n",
    "injector.get_detection(diff_dir=diff_dir, flux_dir=flux_dir, db_name=f'patch_{patch}{patch}_detection.sqlite')\n",
    "print('done')"
   ]
  },
  {
   "cell_type": "code",
   "execution_count": null,
   "id": "42a2461f-5564-4749-b32b-bb88aa1563c6",
   "metadata": {},
   "outputs": [],
   "source": []
  },
  {
   "cell_type": "code",
   "execution_count": null,
   "id": "aeb86844-5c9f-4f97-8704-bb61887839d9",
   "metadata": {},
   "outputs": [],
   "source": []
  },
  {
   "cell_type": "code",
   "execution_count": 13,
   "id": "8de33aab-de79-4377-bcb7-3e35786bae73",
   "metadata": {},
   "outputs": [
    {
     "name": "stdout",
     "output_type": "stream",
     "text": [
      "forced photometry coordinates are saved in /global/cfs/cdirs/desc-sn/dia/data/shl159/projects/dia_improvement/data/patch_0to6/default_3sig/detection/coord_00\n"
     ]
    }
   ],
   "source": [
    "\n",
    "flux_db_path = '/global/cfs/cdirs/desc-sn/dia/data/shl159/projects/dia_improvement/data/patch_0to6/default_3sig/detection/patch_00_detection.sqlite'\n",
    "coord_dir = '/global/cfs/cdirs/desc-sn/dia/data/shl159/projects/dia_improvement/data/patch_0to6/default_3sig/detection/coord_00'\n",
    "\n",
    "injector.get_detection_coord(flux_db_path, coord_dir)"
   ]
  },
  {
   "cell_type": "code",
   "execution_count": null,
   "id": "4147d31b-3853-476c-9862-eeb9eac076ce",
   "metadata": {},
   "outputs": [],
   "source": []
  },
  {
   "cell_type": "code",
   "execution_count": null,
   "id": "5b7ec985-e69b-45e7-9fa3-c83126fed1c5",
   "metadata": {},
   "outputs": [],
   "source": []
  },
  {
   "cell_type": "code",
   "execution_count": 16,
   "id": "7fa24241-a7b1-4d91-ac5a-b5457a64cbda",
   "metadata": {},
   "outputs": [
    {
     "name": "stdout",
     "output_type": "stream",
     "text": [
      "patch:  00\n",
      "host mag:  20_21\n",
      "host mag:  21_22\n",
      "host mag:  22_23\n",
      "host mag:  23_24\n",
      "host mag:  24_25\n",
      "host mag:  25_26\n",
      "host mag:  26_27\n",
      "host mag:  27_28\n",
      "\n",
      "\n",
      "please run this file: ../forcd_00.sh\n"
     ]
    }
   ],
   "source": [
    "coord_dir = '/global/cfs/cdirs/desc-sn/dia/data/shl159/projects/dia_improvement/data/patch_0to6/default_3sig/detection/coord_00'\n",
    "\n",
    "\n",
    "forced_dir = '/global/cfs/cdirs/desc-sn/dia/data/shl159/projects/dia_improvement/data/patch_0to6/default_3sig/detection/forced_00'\n",
    "config = './forcedConfig.py'\n",
    "file_path = '../forcd_00.sh'\n",
    "injector.get_forced_phot_script(diff_dir, coord_dir, forced_dir, config, file_path=file_path)"
   ]
  },
  {
   "cell_type": "code",
   "execution_count": 14,
   "id": "648b5896-ff70-48e5-ba92-4f7e111b3f3f",
   "metadata": {},
   "outputs": [
    {
     "name": "stdout",
     "output_type": "stream",
     "text": [
      "yes\n"
     ]
    }
   ],
   "source": [
    "print('yes')"
   ]
  },
  {
   "cell_type": "code",
   "execution_count": null,
   "id": "6d1352ae-c386-41c4-a040-6f9868a761b6",
   "metadata": {},
   "outputs": [],
   "source": []
  },
  {
   "cell_type": "code",
   "execution_count": null,
   "id": "0a4c04fc-64c7-42c2-a672-d03b63b9ba29",
   "metadata": {},
   "outputs": [],
   "source": []
  },
  {
   "cell_type": "markdown",
   "id": "78894425-8cec-43d2-9f1a-65f5a5c64e08",
   "metadata": {},
   "source": [
    "# patch 1,1"
   ]
  },
  {
   "cell_type": "code",
   "execution_count": 20,
   "id": "bb6fc23b-fe30-4a14-b354-709d244933a5",
   "metadata": {},
   "outputs": [],
   "source": [
    "patch = 1\n",
    "patch_list = [f'{patch}{patch}']\n",
    "\n",
    "\n",
    "calexp_info_dict_11, injection_coord_dict_11 = get_calexp_injection_dict(patch)\n",
    "\n",
    "fake_dir = f'/global/cfs/cdirs/desc-sn/dia/data/shl159/projects/dia_improvement/data/patch_0to6'\n",
    "patch_list = [f'{patch}{patch}']\n",
    "host_mag_list = ['20_21', '21_22', '22_23', '23_24', '24_25', '25_26', '26_27', '27_28']\n",
    "fake_mag_list = [20, 20.5, 21, 21.5, 22, 22.5, 23, 23.5, 24, 24.5, 25]\n",
    "\n",
    "injector_11 = fip.fakeInjectionPipeline(fake_dir = fake_dir,\n",
    "                                     patch_list = patch_list,\n",
    "                                     host_mag_list=host_mag_list,\n",
    "                                     fake_mag_list=fake_mag_list,\n",
    "                                     calexp_info_dict=calexp_info_dict_11,\n",
    "                                     injection_coord_dict=injection_coord_dict_11)"
   ]
  },
  {
   "cell_type": "code",
   "execution_count": 14,
   "id": "73d6e166-6a60-4e12-9466-813a2c340fb9",
   "metadata": {},
   "outputs": [
    {
     "name": "stdout",
     "output_type": "stream",
     "text": [
      "patch:  11\n",
      "host mag:  20_21\n",
      "host mag:  21_22\n",
      "host mag:  22_23\n",
      "host mag:  23_24\n",
      "host mag:  24_25\n",
      "host mag:  25_26\n",
      "host mag:  26_27\n",
      "host mag:  27_28\n",
      "\n",
      "\n",
      "injection is done\n"
     ]
    }
   ],
   "source": [
    "# injector_11.make_fake_repo()\n",
    "# injector_11.inject_fakes()"
   ]
  },
  {
   "cell_type": "code",
   "execution_count": 21,
   "id": "2e631953-cb13-40cd-90dc-5d175b73997b",
   "metadata": {},
   "outputs": [
    {
     "name": "stdout",
     "output_type": "stream",
     "text": [
      "please run this file: ../subtraction_default_3sig_11.sh\n"
     ]
    }
   ],
   "source": [
    "cf_type = 'default_3sig'\n",
    "patch = 1\n",
    "\n",
    "config = f'diffimConfig_al_{cf_type}.py'\n",
    "file_path = f'../subtraction_{cf_type}_{patch}{patch}.sh'\n",
    "diff_dir = f'/global/cfs/cdirs/desc-sn/dia/data/shl159/projects/dia_improvement/data/patch_0to6/{cf_type}'\n",
    "injector.get_subtraction_script(diff_dir , config=config, file_path=file_path)"
   ]
  },
  {
   "cell_type": "code",
   "execution_count": null,
   "id": "f0b69757-0bac-4932-a942-4b89029b04f4",
   "metadata": {},
   "outputs": [],
   "source": [
    "file_path='./subtraction.sh'"
   ]
  },
  {
   "cell_type": "code",
   "execution_count": 22,
   "id": "be05b607-0c55-4bcf-a5eb-e3fa7cd30acd",
   "metadata": {},
   "outputs": [
    {
     "name": "stdout",
     "output_type": "stream",
     "text": [
      "/global/cfs/cdirs/desc-sn/dia/data/shl159/projects/dia_improvement/scripts\n"
     ]
    }
   ],
   "source": [
    "!pwd"
   ]
  },
  {
   "cell_type": "code",
   "execution_count": null,
   "id": "2d60014d-d4b2-4ef4-91e3-6f79ceef30fa",
   "metadata": {},
   "outputs": [],
   "source": []
  },
  {
   "cell_type": "code",
   "execution_count": null,
   "id": "68ac7b7e-9b68-4f20-b452-75dc9a55e5ea",
   "metadata": {},
   "outputs": [],
   "source": []
  },
  {
   "cell_type": "code",
   "execution_count": null,
   "id": "79971008-530b-4a4d-bf97-d7a4aeb59e9e",
   "metadata": {},
   "outputs": [],
   "source": []
  },
  {
   "cell_type": "code",
   "execution_count": null,
   "id": "b4b7bb44-d330-4488-beb4-764790654711",
   "metadata": {},
   "outputs": [],
   "source": []
  },
  {
   "cell_type": "markdown",
   "id": "9bd85995-63b3-4fe4-81f8-3707780756dd",
   "metadata": {},
   "source": [
    "# patch 2"
   ]
  },
  {
   "cell_type": "code",
   "execution_count": 15,
   "id": "dc82c970-d36d-47ad-ad66-22c731e339c0",
   "metadata": {},
   "outputs": [],
   "source": [
    "# change patch\n",
    "patch = 2\n",
    "# rename calexp_info_dict, injection_coord_dict\n",
    "calexp_info_dict_22, injection_coord_dict_22 = get_calexp_injection_dict(patch)\n",
    "\n",
    "fake_dir = f'/global/cfs/cdirs/desc-sn/dia/data/shl159/projects/dia_improvement/data/patch_0to6'\n",
    "patch_list = [f'{patch}{patch}']\n",
    "host_mag_list = ['20_21', '21_22', '22_23', '23_24', '24_25', '25_26', '26_27', '27_28']\n",
    "fake_mag_list = [20, 20.5, 21, 21.5, 22, 22.5, 23, 23.5, 24, 24.5, 25]\n",
    "\n",
    "# rename injector, change calexp_info_dict, injection_coord_dict\n",
    "injector_22 = fip.fakeInjectionPipeline(fake_dir = fake_dir,\n",
    "                                     patch_list = patch_list,\n",
    "                                     host_mag_list=host_mag_list,\n",
    "                                     fake_mag_list=fake_mag_list,\n",
    "                                     calexp_info_dict=calexp_info_dict_22,\n",
    "                                     injection_coord_dict=injection_coord_dict_22)"
   ]
  },
  {
   "cell_type": "code",
   "execution_count": 16,
   "id": "97225240-8fe5-448e-ab61-328e4970ae07",
   "metadata": {},
   "outputs": [
    {
     "name": "stdout",
     "output_type": "stream",
     "text": [
      "patch:  22\n",
      "host mag:  20_21\n",
      "host mag:  21_22\n",
      "host mag:  22_23\n",
      "host mag:  23_24\n",
      "host mag:  24_25\n",
      "host mag:  25_26\n",
      "host mag:  26_27\n",
      "host mag:  27_28\n",
      "\n",
      "\n",
      "injection is done\n"
     ]
    }
   ],
   "source": [
    "injector_22.make_fake_repo()\n",
    "injector_22.inject_fakes()"
   ]
  },
  {
   "cell_type": "code",
   "execution_count": null,
   "id": "6cc35dc4-f2fe-4b4f-b322-671adc5f01cd",
   "metadata": {},
   "outputs": [],
   "source": []
  },
  {
   "cell_type": "code",
   "execution_count": null,
   "id": "fc939006-87af-4c4f-9eb5-a4535bf06b07",
   "metadata": {},
   "outputs": [],
   "source": []
  },
  {
   "cell_type": "code",
   "execution_count": null,
   "id": "0ac43958-e8a1-4971-8878-c97131ffa903",
   "metadata": {},
   "outputs": [],
   "source": []
  },
  {
   "cell_type": "code",
   "execution_count": 17,
   "id": "a5546ec8-e292-41a0-836f-74318d6c7471",
   "metadata": {},
   "outputs": [],
   "source": [
    "# change patch\n",
    "patch = 3\n",
    "# rename calexp_info_dict, injection_coord_dict\n",
    "calexp_info_dict_33, injection_coord_dict_33 = get_calexp_injection_dict(patch)\n",
    "\n",
    "fake_dir = f'/global/cfs/cdirs/desc-sn/dia/data/shl159/projects/dia_improvement/data/patch_0to6'\n",
    "patch_list = [f'{patch}{patch}']\n",
    "host_mag_list = ['20_21', '21_22', '22_23', '23_24', '24_25', '25_26', '26_27', '27_28']\n",
    "fake_mag_list = [20, 20.5, 21, 21.5, 22, 22.5, 23, 23.5, 24, 24.5, 25]\n",
    "\n",
    "# rename injector, change calexp_info_dict, injection_coord_dict\n",
    "injector_33 = fip.fakeInjectionPipeline(fake_dir = fake_dir,\n",
    "                                     patch_list = patch_list,\n",
    "                                     host_mag_list=host_mag_list,\n",
    "                                     fake_mag_list=fake_mag_list,\n",
    "                                     calexp_info_dict=calexp_info_dict_33,\n",
    "                                     injection_coord_dict=injection_coord_dict_33)"
   ]
  },
  {
   "cell_type": "code",
   "execution_count": 18,
   "id": "9f5f4589-642e-4d29-93e4-cea55b8854c8",
   "metadata": {},
   "outputs": [
    {
     "name": "stdout",
     "output_type": "stream",
     "text": [
      "patch:  33\n",
      "host mag:  20_21\n",
      "host mag:  21_22\n",
      "host mag:  22_23\n",
      "host mag:  23_24\n",
      "host mag:  24_25\n",
      "host mag:  25_26\n",
      "host mag:  26_27\n",
      "host mag:  27_28\n",
      "\n",
      "\n",
      "injection is done\n"
     ]
    }
   ],
   "source": [
    "injector_33.make_fake_repo()\n",
    "injector_33.inject_fakes()"
   ]
  },
  {
   "cell_type": "code",
   "execution_count": null,
   "id": "4ee219aa-3080-425b-a406-1a558f191e75",
   "metadata": {},
   "outputs": [],
   "source": []
  },
  {
   "cell_type": "code",
   "execution_count": null,
   "id": "dfa8009e-c792-464a-b03f-91b07935794a",
   "metadata": {},
   "outputs": [],
   "source": []
  },
  {
   "cell_type": "markdown",
   "id": "bfa299b1-3c9d-4d5a-99ce-2e4c8f3e856f",
   "metadata": {},
   "source": [
    "# patch 4"
   ]
  },
  {
   "cell_type": "code",
   "execution_count": 19,
   "id": "9cbe4411-c8d3-47a4-9a51-2667cf1d2f58",
   "metadata": {},
   "outputs": [],
   "source": [
    "# change patch\n",
    "patch = 4\n",
    "# rename calexp_info_dict, injection_coord_dict\n",
    "calexp_info_dict_44, injection_coord_dict_44 = get_calexp_injection_dict(patch)\n",
    "\n",
    "fake_dir = f'/global/cfs/cdirs/desc-sn/dia/data/shl159/projects/dia_improvement/data/patch_0to6'\n",
    "patch_list = [f'{patch}{patch}']\n",
    "host_mag_list = ['20_21', '21_22', '22_23', '23_24', '24_25', '25_26', '26_27', '27_28']\n",
    "fake_mag_list = [20, 20.5, 21, 21.5, 22, 22.5, 23, 23.5, 24, 24.5, 25]\n",
    "\n",
    "# rename injector, change calexp_info_dict, injection_coord_dict\n",
    "injector_44 = fip.fakeInjectionPipeline(fake_dir = fake_dir,\n",
    "                                     patch_list = patch_list,\n",
    "                                     host_mag_list=host_mag_list,\n",
    "                                     fake_mag_list=fake_mag_list,\n",
    "                                     calexp_info_dict=calexp_info_dict_44,\n",
    "                                     injection_coord_dict=injection_coord_dict_44)"
   ]
  },
  {
   "cell_type": "code",
   "execution_count": 20,
   "id": "a7b58726-7d37-4674-ad4a-6aa9cc3c1225",
   "metadata": {},
   "outputs": [
    {
     "name": "stdout",
     "output_type": "stream",
     "text": [
      "patch:  44\n",
      "host mag:  20_21\n",
      "host mag:  21_22\n",
      "host mag:  22_23\n",
      "host mag:  23_24\n",
      "host mag:  24_25\n",
      "host mag:  25_26\n",
      "host mag:  26_27\n",
      "host mag:  27_28\n",
      "\n",
      "\n",
      "injection is done\n"
     ]
    }
   ],
   "source": [
    "injector_44.make_fake_repo()\n",
    "injector_44.inject_fakes()"
   ]
  },
  {
   "cell_type": "code",
   "execution_count": null,
   "id": "b48975e6-f0e6-4e58-a142-a7b0bf617c32",
   "metadata": {},
   "outputs": [],
   "source": []
  },
  {
   "cell_type": "markdown",
   "id": "c14ff58f-a2fb-48a4-a512-68c59e78596f",
   "metadata": {},
   "source": [
    "# patch 5"
   ]
  },
  {
   "cell_type": "code",
   "execution_count": 21,
   "id": "df811579-fb68-4bad-a856-4c125315e18b",
   "metadata": {},
   "outputs": [],
   "source": [
    "# change patch\n",
    "patch = 5\n",
    "# rename calexp_info_dict, injection_coord_dict\n",
    "calexp_info_dict_55, injection_coord_dict_55 = get_calexp_injection_dict(patch)\n",
    "\n",
    "fake_dir = f'/global/cfs/cdirs/desc-sn/dia/data/shl159/projects/dia_improvement/data/patch_0to6'\n",
    "patch_list = [f'{patch}{patch}']\n",
    "host_mag_list = ['20_21', '21_22', '22_23', '23_24', '24_25', '25_26', '26_27', '27_28']\n",
    "fake_mag_list = [20, 20.5, 21, 21.5, 22, 22.5, 23, 23.5, 24, 24.5, 25]\n",
    "\n",
    "# rename injector, change calexp_info_dict, injection_coord_dict\n",
    "injector_55 = fip.fakeInjectionPipeline(fake_dir = fake_dir,\n",
    "                                     patch_list = patch_list,\n",
    "                                     host_mag_list=host_mag_list,\n",
    "                                     fake_mag_list=fake_mag_list,\n",
    "                                     calexp_info_dict=calexp_info_dict_55,\n",
    "                                     injection_coord_dict=injection_coord_dict_55)"
   ]
  },
  {
   "cell_type": "code",
   "execution_count": 22,
   "id": "be1ebc18-18ab-4190-8339-d32d55a4fceb",
   "metadata": {},
   "outputs": [
    {
     "name": "stdout",
     "output_type": "stream",
     "text": [
      "patch:  55\n",
      "host mag:  20_21\n",
      "host mag:  21_22\n",
      "host mag:  22_23\n",
      "host mag:  23_24\n",
      "host mag:  24_25\n",
      "host mag:  25_26\n",
      "host mag:  26_27\n",
      "host mag:  27_28\n",
      "\n",
      "\n",
      "injection is done\n"
     ]
    }
   ],
   "source": [
    "injector_55.make_fake_repo()\n",
    "injector_55.inject_fakes()"
   ]
  },
  {
   "cell_type": "code",
   "execution_count": null,
   "id": "442d61e6-7b03-48cc-a5d5-18b94c6156be",
   "metadata": {},
   "outputs": [],
   "source": []
  },
  {
   "cell_type": "markdown",
   "id": "9fc3ab6b-be74-48f9-9ccc-cab60be2b64f",
   "metadata": {},
   "source": [
    "# "
   ]
  },
  {
   "cell_type": "code",
   "execution_count": null,
   "id": "498676ab-fce1-4899-a7aa-ed3f2bb23f56",
   "metadata": {},
   "outputs": [
    {
     "data": {
      "text/plain": [
       "4.090909090909091"
      ]
     },
     "execution_count": 9,
     "metadata": {},
     "output_type": "execute_result"
    }
   ],
   "source": [
    "# 8 host mag bins, 10 visits, 11 fake mag bins, 880 subtractions in total\n",
    "# it takes 60 hours (3600min) for subtraction\n",
    "(60 * 60) / (8 * 10 * 11 )"
   ]
  },
  {
   "cell_type": "code",
   "execution_count": null,
   "id": "a81777c7-5d7b-43c9-995b-1591ce70c7e4",
   "metadata": {},
   "outputs": [],
   "source": []
  },
  {
   "cell_type": "code",
   "execution_count": null,
   "id": "df38b54e-ca03-4651-912c-dddea7f1b1fd",
   "metadata": {},
   "outputs": [],
   "source": []
  },
  {
   "cell_type": "code",
   "execution_count": null,
   "id": "7330e57d-bc6f-44b0-90cd-f8278c83ec90",
   "metadata": {},
   "outputs": [],
   "source": []
  }
 ],
 "metadata": {
  "kernelspec": {
   "display_name": "desc-stack-weekly-latest",
   "language": "python",
   "name": "desc-stack-weekly-latest"
  },
  "language_info": {
   "codemirror_mode": {
    "name": "ipython",
    "version": 3
   },
   "file_extension": ".py",
   "mimetype": "text/x-python",
   "name": "python",
   "nbconvert_exporter": "python",
   "pygments_lexer": "ipython3",
   "version": "3.8.8"
  }
 },
 "nbformat": 4,
 "nbformat_minor": 5
}
