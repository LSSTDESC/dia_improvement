{
 "cells": [
  {
   "cell_type": "code",
   "execution_count": 1,
   "id": "a4d6ea1f-05c5-42ce-b4ee-2e2088ce5777",
   "metadata": {},
   "outputs": [
    {
     "data": {
      "text/plain": [
       "<module 'fakeInjectionPipeline' from '/global/cfs/cdirs/desc-sn/dia/data/shl159/projects/dia_improvement/scripts/fakeInjectionPipeline.py'>"
      ]
     },
     "execution_count": 1,
     "metadata": {},
     "output_type": "execute_result"
    }
   ],
   "source": [
    "import os\n",
    "import sqlite3\n",
    "import matplotlib.pyplot as plt\n",
    "import numpy as np\n",
    "import pandas as pd\n",
    "\n",
    "from lsst.daf.persistence import Butler\n",
    "import fakeInjectionPipeline as fip\n",
    "import data_process_utils as dpu\n",
    "\n",
    "from scipy.stats import norm\n",
    "import scipy.stats as stats\n",
    "\n",
    "import imp\n",
    "imp.reload(fip) "
   ]
  },
  {
   "cell_type": "code",
   "execution_count": 2,
   "id": "fb572888-c6ae-4555-9f07-abfbb54695ee",
   "metadata": {},
   "outputs": [],
   "source": [
    "def get_calexp_injection_dict(patch_list, host_mag_range_list):\n",
    "    \n",
    "    conn = sqlite3.connect('../data/table/gal_4639/injection_coord.sqlite')\n",
    "    calexp_info_dict = {}\n",
    "    injection_coord_dict = {}\n",
    "\n",
    "    for patch in patch_list:\n",
    "        patch_1, patch_2 = patch[0], patch[1]\n",
    "        \n",
    "\n",
    "\n",
    "        for host_mag in host_mag_range_list:\n",
    "            min_mag = host_mag[0]\n",
    "            max_mag = host_mag[1]\n",
    "\n",
    "            calexp_info_query = (f'SELECT distinct(visit), filter, detector FROM injection_coord WHERE patch_1={patch_1} AND '\n",
    "                                 f'patch_2={patch_2} AND min_host_mag = {min_mag} AND max_host_mag = {max_mag}'\n",
    "                                )\n",
    "            calexp_info = pd.read_sql_query(calexp_info_query, conn)\n",
    "\n",
    "            calexp_info_dict[f'{patch}_{min_mag}_{max_mag}'] = calexp_info\n",
    "\n",
    "        for host_mag in host_mag_range_list:\n",
    "            min_mag = host_mag[0]\n",
    "            max_mag = host_mag[1]\n",
    "            calexp_info = calexp_info_dict[f'{patch}_{min_mag}_{max_mag}']\n",
    "            for idx, row in calexp_info.iterrows():\n",
    "                visit = row['visit']\n",
    "                filt = row['filter']\n",
    "                detector = row['detector']\n",
    "                coord_query = (\n",
    "                    f'SELECT calexp_coord_x, calexp_coord_y FROM injection_coord '\n",
    "                    f\"WHERE patch_1={patch_1} AND patch_2={patch_2} AND min_host_mag = {min_mag} AND max_host_mag = {max_mag} \"\n",
    "                    f\"AND visit = {visit} AND filter = '{filt}' AND detector = {detector}\"\n",
    "                )\n",
    "                coord = pd.read_sql_query(coord_query, conn).to_numpy()\n",
    "                injection_coord_dict[f'{patch}_{int(min_mag)}_{int(max_mag)}_{int(visit)}_{int(detector)}_{filt}'] = coord\n",
    "    return calexp_info_dict, injection_coord_dict"
   ]
  },
  {
   "cell_type": "markdown",
   "id": "1c306f92-3034-4488-8b20-dd8ed45360ea",
   "metadata": {},
   "source": [
    "# injection"
   ]
  },
  {
   "cell_type": "code",
   "execution_count": 3,
   "id": "6f44ead5-b400-4906-b617-ccc8cc4342e0",
   "metadata": {},
   "outputs": [],
   "source": [
    "host_mag_list = ['20_21', '21_22', '22_23', '23_24', '24_25', '25_26', '26_27', '27_28']\n",
    "fake_mag_list = [20, 20.5, 21, 21.5, 22, 22.5, 23, 23.5, 24, 24.5, 25]\n",
    "\n",
    "host_mag_range_list = [(20, 21), (21, 22), (22,23), (23, 24), (24, 25), (25, 26), (26, 27), (27, 28)]"
   ]
  },
  {
   "cell_type": "markdown",
   "id": "0204b32b-bdf7-45ec-a0b3-df198e0c7307",
   "metadata": {},
   "source": [
    "## patch 00"
   ]
  },
  {
   "cell_type": "code",
   "execution_count": 4,
   "id": "78a5f56e-876d-4a6c-b5a8-a636d8ab5724",
   "metadata": {},
   "outputs": [],
   "source": [
    "# change patch\n",
    "patch = 0\n",
    "\n",
    "patch_list = [f'{patch}{patch}']\n",
    "fake_dir = f'/global/cfs/cdirs/desc-sn/dia/data/shl159/projects/dia_improvement/data/patch_0to6/injection/patch_{patch}{patch}'\n",
    "\n",
    "\n",
    "# calexp_info_dict, injection_coord_dict\n",
    "calexp_info_dict_00, injection_coord_dict_00 = get_calexp_injection_dict(patch_list, host_mag_range_list)\n",
    "# change injector, calexp_info_dict, injection_coord_dict\n",
    "injector_00 = fip.fakeInjectionPipeline(fake_dir = fake_dir,\n",
    "                                     patch_list = patch_list,\n",
    "                                     host_mag_list=host_mag_list,\n",
    "                                     fake_mag_list=fake_mag_list,\n",
    "                                     calexp_info_dict=calexp_info_dict_00,\n",
    "                                     injection_coord_dict=injection_coord_dict_00)"
   ]
  },
  {
   "cell_type": "code",
   "execution_count": 5,
   "id": "91b421a1-f818-483a-9d1f-23732342fc17",
   "metadata": {},
   "outputs": [
    {
     "name": "stdout",
     "output_type": "stream",
     "text": [
      "patch:  00\n",
      "host mag:  20_21\n",
      "host mag:  21_22\n",
      "host mag:  22_23\n",
      "host mag:  23_24\n",
      "host mag:  24_25\n",
      "host mag:  25_26\n",
      "host mag:  26_27\n",
      "host mag:  27_28\n",
      "\n",
      "\n",
      "injection is done\n"
     ]
    }
   ],
   "source": [
    "injector_00.make_fake_repo()\n",
    "injector_00.inject_fakes()"
   ]
  },
  {
   "cell_type": "code",
   "execution_count": null,
   "id": "18fad2a0-1609-4f58-b529-1d12dc07e509",
   "metadata": {
    "tags": []
   },
   "outputs": [],
   "source": []
  },
  {
   "cell_type": "markdown",
   "id": "b155156c-68f0-4999-ac48-881e80c55f18",
   "metadata": {},
   "source": [
    "## patch 11"
   ]
  },
  {
   "cell_type": "code",
   "execution_count": 7,
   "id": "66fc9501-e017-43e6-ab42-3ea164d7b360",
   "metadata": {},
   "outputs": [],
   "source": [
    "# change patch\n",
    "patch = 1\n",
    "\n",
    "patch_list = [f'{patch}{patch}']\n",
    "fake_dir = f'/global/cfs/cdirs/desc-sn/dia/data/shl159/projects/dia_improvement/data/patch_0to6/injection/patch_{patch}{patch}'\n",
    "\n",
    "\n",
    "# calexp_info_dict, injection_coord_dict\n",
    "calexp_info_dict_11, injection_coord_dict_11 = get_calexp_injection_dict(patch_list, host_mag_range_list)\n",
    "# change injector, calexp_info_dict, injection_coord_dict\n",
    "injector_11 = fip.fakeInjectionPipeline(fake_dir = fake_dir,\n",
    "                                     patch_list = patch_list,\n",
    "                                     host_mag_list=host_mag_list,\n",
    "                                     fake_mag_list=fake_mag_list,\n",
    "                                     calexp_info_dict=calexp_info_dict_11,\n",
    "                                     injection_coord_dict=injection_coord_dict_11)"
   ]
  },
  {
   "cell_type": "code",
   "execution_count": 10,
   "id": "c1ec5a22-b6f4-421c-b3cc-171ea99a1e74",
   "metadata": {},
   "outputs": [
    {
     "name": "stdout",
     "output_type": "stream",
     "text": [
      "patch:  11\n",
      "host mag:  20_21\n",
      "host mag:  21_22\n",
      "host mag:  22_23\n",
      "host mag:  23_24\n",
      "host mag:  24_25\n",
      "host mag:  25_26\n",
      "host mag:  26_27\n",
      "host mag:  27_28\n",
      "\n",
      "\n",
      "injection is done\n"
     ]
    }
   ],
   "source": [
    "injector_11.make_fake_repo()\n",
    "injector_11.inject_fakes()"
   ]
  },
  {
   "cell_type": "code",
   "execution_count": null,
   "id": "662ab1e1-59d4-42e0-8dcb-f4394809481e",
   "metadata": {},
   "outputs": [],
   "source": []
  },
  {
   "cell_type": "code",
   "execution_count": null,
   "id": "eb777ac0-bb0a-49e3-9fbc-fc6f8d375972",
   "metadata": {},
   "outputs": [],
   "source": []
  },
  {
   "cell_type": "markdown",
   "id": "b56893f7-92e3-44c8-8243-348cc9df0062",
   "metadata": {},
   "source": [
    "## patch 22"
   ]
  },
  {
   "cell_type": "code",
   "execution_count": 4,
   "id": "e60eaf11-6991-4a48-8a3a-4ae94f295010",
   "metadata": {},
   "outputs": [],
   "source": [
    "# change patch\n",
    "patch = 2\n",
    "\n",
    "patch_list = [f'{patch}{patch}']\n",
    "fake_dir = f'/global/cfs/cdirs/desc-sn/dia/data/shl159/projects/dia_improvement/data/patch_0to6/injection/patch_{patch}{patch}'\n",
    "\n",
    "\n",
    "# calexp_info_dict, injection_coord_dict\n",
    "calexp_info_dict_22, injection_coord_dict_22 = get_calexp_injection_dict(patch_list, host_mag_range_list)\n",
    "# change injector, calexp_info_dict, injection_coord_dict\n",
    "injector_22 = fip.fakeInjectionPipeline(fake_dir = fake_dir,\n",
    "                                     patch_list = patch_list,\n",
    "                                     host_mag_list=host_mag_list,\n",
    "                                     fake_mag_list=fake_mag_list,\n",
    "                                     calexp_info_dict=calexp_info_dict_22,\n",
    "                                     injection_coord_dict=injection_coord_dict_22)"
   ]
  },
  {
   "cell_type": "code",
   "execution_count": 5,
   "id": "5cd0d0e3-dc7c-4041-add4-c97440f25550",
   "metadata": {},
   "outputs": [
    {
     "name": "stdout",
     "output_type": "stream",
     "text": [
      "patch:  22\n",
      "host mag:  20_21\n",
      "host mag:  21_22\n",
      "host mag:  22_23\n",
      "host mag:  23_24\n",
      "host mag:  24_25\n",
      "host mag:  25_26\n",
      "host mag:  26_27\n",
      "host mag:  27_28\n",
      "\n",
      "\n",
      "injection is done\n"
     ]
    }
   ],
   "source": [
    "injector_22.make_fake_repo()\n",
    "injector_22.inject_fakes()"
   ]
  },
  {
   "cell_type": "code",
   "execution_count": null,
   "id": "137158c4-ad45-4b81-a98d-1994af8afa96",
   "metadata": {},
   "outputs": [],
   "source": []
  },
  {
   "cell_type": "code",
   "execution_count": null,
   "id": "4fbc0447-3cfd-4abd-b30a-41b45db2abaa",
   "metadata": {},
   "outputs": [],
   "source": []
  },
  {
   "cell_type": "code",
   "execution_count": null,
   "id": "04979b55-1f74-4e5e-8d6e-9f8cf7cdc2f1",
   "metadata": {},
   "outputs": [],
   "source": []
  },
  {
   "cell_type": "code",
   "execution_count": null,
   "id": "fe870a83-f35e-4938-846b-581a0b0be9ad",
   "metadata": {},
   "outputs": [],
   "source": []
  },
  {
   "cell_type": "code",
   "execution_count": null,
   "id": "9839db35-e47f-47fa-8409-7f9ba243e349",
   "metadata": {},
   "outputs": [],
   "source": []
  },
  {
   "cell_type": "code",
   "execution_count": null,
   "id": "1fded2c6-dd08-4fec-9af0-de6f9b397378",
   "metadata": {},
   "outputs": [],
   "source": []
  },
  {
   "cell_type": "code",
   "execution_count": null,
   "id": "a8f26c11-f0c8-44f9-bf9a-b89f14bff537",
   "metadata": {},
   "outputs": [],
   "source": []
  },
  {
   "cell_type": "code",
   "execution_count": null,
   "id": "bf517a62-eed7-499f-86b2-d430600dee91",
   "metadata": {},
   "outputs": [],
   "source": []
  },
  {
   "cell_type": "code",
   "execution_count": null,
   "id": "caf9258c-1b7d-40b3-9a6a-cf86db5d8599",
   "metadata": {},
   "outputs": [],
   "source": []
  },
  {
   "cell_type": "code",
   "execution_count": null,
   "id": "3aeb2c31-e617-4218-9639-2cdbd4eb02cc",
   "metadata": {},
   "outputs": [],
   "source": []
  },
  {
   "cell_type": "code",
   "execution_count": null,
   "id": "3a2b0197-eb6b-47ec-a02e-c637106c6146",
   "metadata": {},
   "outputs": [],
   "source": []
  },
  {
   "cell_type": "code",
   "execution_count": null,
   "id": "bab6c4c0-f916-43bc-ad38-186d20c519d8",
   "metadata": {},
   "outputs": [],
   "source": []
  },
  {
   "cell_type": "code",
   "execution_count": null,
   "id": "f90c043f-74c3-4160-bb3f-d93fc415b564",
   "metadata": {},
   "outputs": [],
   "source": []
  },
  {
   "cell_type": "code",
   "execution_count": null,
   "id": "4761e66a-0099-41c1-a7d0-f76c129d89d8",
   "metadata": {},
   "outputs": [],
   "source": []
  },
  {
   "cell_type": "code",
   "execution_count": null,
   "id": "c6cb9306-ea0f-4ef5-868b-cba99c468147",
   "metadata": {},
   "outputs": [],
   "source": []
  },
  {
   "cell_type": "code",
   "execution_count": null,
   "id": "1d4e7d6b-25b7-47b0-a32a-6708d1327dc2",
   "metadata": {},
   "outputs": [],
   "source": []
  },
  {
   "cell_type": "code",
   "execution_count": null,
   "id": "1701ab3b-8960-440d-93a9-3e5d1eae32da",
   "metadata": {},
   "outputs": [],
   "source": []
  },
  {
   "cell_type": "code",
   "execution_count": null,
   "id": "8de6ae7d-0d00-46ea-aea8-82fef261b655",
   "metadata": {},
   "outputs": [],
   "source": []
  },
  {
   "cell_type": "code",
   "execution_count": null,
   "id": "b6f2fdf5-bb34-4de0-9625-76af90849a3a",
   "metadata": {},
   "outputs": [],
   "source": []
  },
  {
   "cell_type": "code",
   "execution_count": 12,
   "id": "038212ce-3caa-4ff2-8850-66088ca33c42",
   "metadata": {},
   "outputs": [],
   "source": [
    "cf_type = 'default_3sig'\n",
    "\n",
    "config = f'diffimConfig_al_{cf_type}.py'\n",
    "file_path = f'../subtraction_{cf_type}.sh'\n",
    "diff_dir = f'/global/cfs/cdirs/desc-sn/dia/data/shl159/projects/dia_improvement/data/patch_0to6/{cf_type}'\n",
    "# injector.get_subtraction_script(diff_dir , config=config, file_path=file_path)"
   ]
  },
  {
   "cell_type": "code",
   "execution_count": null,
   "id": "40961353-0129-45ff-af30-95005a827d78",
   "metadata": {},
   "outputs": [],
   "source": []
  },
  {
   "cell_type": "code",
   "execution_count": 7,
   "id": "c5655ec4-ad42-4dc4-b952-a11f2e684134",
   "metadata": {},
   "outputs": [
    {
     "name": "stdout",
     "output_type": "stream",
     "text": [
      "patch:  00\n",
      "host mag:  20_21\n",
      "host mag:  21_22\n",
      "host mag:  22_23\n",
      "host mag:  23_24\n",
      "host mag:  24_25\n",
      "host mag:  25_26\n",
      "host mag:  26_27\n",
      "host mag:  27_28\n",
      "\n",
      "\n",
      "detection results are saved in /global/cfs/cdirs/desc-sn/dia/data/shl159/projects/dia_improvement/data/patch_0to6/default_3sig/detection/patch_00_detection.sqlite\n",
      "fake_src contains the fake information, and artifact contains the artifact information\n",
      "done\n"
     ]
    }
   ],
   "source": [
    "patch = 0\n",
    "diff_dir = f'/global/cfs/cdirs/desc-sn/dia/data/shl159/projects/dia_improvement/data/patch_0to6/{cf_type}'\n",
    "flux_dir = f'/global/cfs/cdirs/desc-sn/dia/data/shl159/projects/dia_improvement/data/patch_0to6/{cf_type}/detection'\n",
    "\n",
    "injector.get_detection(diff_dir=diff_dir, flux_dir=flux_dir, db_name=f'patch_{patch}{patch}_detection.sqlite')\n",
    "print('done')"
   ]
  },
  {
   "cell_type": "code",
   "execution_count": null,
   "id": "42a2461f-5564-4749-b32b-bb88aa1563c6",
   "metadata": {},
   "outputs": [],
   "source": []
  },
  {
   "cell_type": "code",
   "execution_count": null,
   "id": "aeb86844-5c9f-4f97-8704-bb61887839d9",
   "metadata": {},
   "outputs": [],
   "source": []
  },
  {
   "cell_type": "code",
   "execution_count": 13,
   "id": "8de33aab-de79-4377-bcb7-3e35786bae73",
   "metadata": {},
   "outputs": [
    {
     "name": "stdout",
     "output_type": "stream",
     "text": [
      "forced photometry coordinates are saved in /global/cfs/cdirs/desc-sn/dia/data/shl159/projects/dia_improvement/data/patch_0to6/default_3sig/detection/coord_00\n"
     ]
    }
   ],
   "source": [
    "\n",
    "flux_db_path = '/global/cfs/cdirs/desc-sn/dia/data/shl159/projects/dia_improvement/data/patch_0to6/default_3sig/detection/patch_00_detection.sqlite'\n",
    "coord_dir = '/global/cfs/cdirs/desc-sn/dia/data/shl159/projects/dia_improvement/data/patch_0to6/default_3sig/detection/coord_00'\n",
    "\n",
    "injector.get_detection_coord(flux_db_path, coord_dir)"
   ]
  },
  {
   "cell_type": "code",
   "execution_count": null,
   "id": "4147d31b-3853-476c-9862-eeb9eac076ce",
   "metadata": {},
   "outputs": [],
   "source": []
  },
  {
   "cell_type": "code",
   "execution_count": null,
   "id": "5b7ec985-e69b-45e7-9fa3-c83126fed1c5",
   "metadata": {},
   "outputs": [],
   "source": []
  },
  {
   "cell_type": "code",
   "execution_count": 16,
   "id": "7fa24241-a7b1-4d91-ac5a-b5457a64cbda",
   "metadata": {},
   "outputs": [
    {
     "name": "stdout",
     "output_type": "stream",
     "text": [
      "patch:  00\n",
      "host mag:  20_21\n",
      "host mag:  21_22\n",
      "host mag:  22_23\n",
      "host mag:  23_24\n",
      "host mag:  24_25\n",
      "host mag:  25_26\n",
      "host mag:  26_27\n",
      "host mag:  27_28\n",
      "\n",
      "\n",
      "please run this file: ../forcd_00.sh\n"
     ]
    }
   ],
   "source": [
    "coord_dir = '/global/cfs/cdirs/desc-sn/dia/data/shl159/projects/dia_improvement/data/patch_0to6/default_3sig/detection/coord_00'\n",
    "\n",
    "\n",
    "forced_dir = '/global/cfs/cdirs/desc-sn/dia/data/shl159/projects/dia_improvement/data/patch_0to6/default_3sig/detection/forced_00'\n",
    "config = './forcedConfig.py'\n",
    "file_path = '../forcd_00.sh'\n",
    "injector.get_forced_phot_script(diff_dir, coord_dir, forced_dir, config, file_path=file_path)"
   ]
  },
  {
   "cell_type": "code",
   "execution_count": 14,
   "id": "648b5896-ff70-48e5-ba92-4f7e111b3f3f",
   "metadata": {},
   "outputs": [
    {
     "name": "stdout",
     "output_type": "stream",
     "text": [
      "yes\n"
     ]
    }
   ],
   "source": [
    "print('yes')"
   ]
  },
  {
   "cell_type": "code",
   "execution_count": null,
   "id": "6d1352ae-c386-41c4-a040-6f9868a761b6",
   "metadata": {},
   "outputs": [],
   "source": []
  },
  {
   "cell_type": "code",
   "execution_count": null,
   "id": "0a4c04fc-64c7-42c2-a672-d03b63b9ba29",
   "metadata": {},
   "outputs": [],
   "source": []
  },
  {
   "cell_type": "markdown",
   "id": "78894425-8cec-43d2-9f1a-65f5a5c64e08",
   "metadata": {},
   "source": [
    "# patch 1,1"
   ]
  },
  {
   "cell_type": "code",
   "execution_count": 20,
   "id": "bb6fc23b-fe30-4a14-b354-709d244933a5",
   "metadata": {},
   "outputs": [],
   "source": [
    "patch = 1\n",
    "patch_list = [f'{patch}{patch}']\n",
    "\n",
    "\n",
    "calexp_info_dict_11, injection_coord_dict_11 = get_calexp_injection_dict(patch)\n",
    "\n",
    "fake_dir = f'/global/cfs/cdirs/desc-sn/dia/data/shl159/projects/dia_improvement/data/patch_0to6'\n",
    "patch_list = [f'{patch}{patch}']\n",
    "host_mag_list = ['20_21', '21_22', '22_23', '23_24', '24_25', '25_26', '26_27', '27_28']\n",
    "fake_mag_list = [20, 20.5, 21, 21.5, 22, 22.5, 23, 23.5, 24, 24.5, 25]\n",
    "\n",
    "injector_11 = fip.fakeInjectionPipeline(fake_dir = fake_dir,\n",
    "                                     patch_list = patch_list,\n",
    "                                     host_mag_list=host_mag_list,\n",
    "                                     fake_mag_list=fake_mag_list,\n",
    "                                     calexp_info_dict=calexp_info_dict_11,\n",
    "                                     injection_coord_dict=injection_coord_dict_11)"
   ]
  },
  {
   "cell_type": "code",
   "execution_count": 14,
   "id": "73d6e166-6a60-4e12-9466-813a2c340fb9",
   "metadata": {},
   "outputs": [
    {
     "name": "stdout",
     "output_type": "stream",
     "text": [
      "patch:  11\n",
      "host mag:  20_21\n",
      "host mag:  21_22\n",
      "host mag:  22_23\n",
      "host mag:  23_24\n",
      "host mag:  24_25\n",
      "host mag:  25_26\n",
      "host mag:  26_27\n",
      "host mag:  27_28\n",
      "\n",
      "\n",
      "injection is done\n"
     ]
    }
   ],
   "source": [
    "# injector_11.make_fake_repo()\n",
    "# injector_11.inject_fakes()"
   ]
  },
  {
   "cell_type": "code",
   "execution_count": 21,
   "id": "2e631953-cb13-40cd-90dc-5d175b73997b",
   "metadata": {},
   "outputs": [
    {
     "name": "stdout",
     "output_type": "stream",
     "text": [
      "please run this file: ../subtraction_default_3sig_11.sh\n"
     ]
    }
   ],
   "source": [
    "cf_type = 'default_3sig'\n",
    "patch = 1\n",
    "\n",
    "config = f'diffimConfig_al_{cf_type}.py'\n",
    "file_path = f'../subtraction_{cf_type}_{patch}{patch}.sh'\n",
    "diff_dir = f'/global/cfs/cdirs/desc-sn/dia/data/shl159/projects/dia_improvement/data/patch_0to6/{cf_type}'\n",
    "injector.get_subtraction_script(diff_dir , config=config, file_path=file_path)"
   ]
  },
  {
   "cell_type": "code",
   "execution_count": null,
   "id": "f0b69757-0bac-4932-a942-4b89029b04f4",
   "metadata": {},
   "outputs": [],
   "source": [
    "file_path='./subtraction.sh'"
   ]
  },
  {
   "cell_type": "code",
   "execution_count": 22,
   "id": "be05b607-0c55-4bcf-a5eb-e3fa7cd30acd",
   "metadata": {},
   "outputs": [
    {
     "name": "stdout",
     "output_type": "stream",
     "text": [
      "/global/cfs/cdirs/desc-sn/dia/data/shl159/projects/dia_improvement/scripts\n"
     ]
    }
   ],
   "source": [
    "!pwd"
   ]
  },
  {
   "cell_type": "code",
   "execution_count": null,
   "id": "2d60014d-d4b2-4ef4-91e3-6f79ceef30fa",
   "metadata": {},
   "outputs": [],
   "source": []
  },
  {
   "cell_type": "code",
   "execution_count": null,
   "id": "68ac7b7e-9b68-4f20-b452-75dc9a55e5ea",
   "metadata": {},
   "outputs": [],
   "source": []
  },
  {
   "cell_type": "code",
   "execution_count": null,
   "id": "79971008-530b-4a4d-bf97-d7a4aeb59e9e",
   "metadata": {},
   "outputs": [],
   "source": []
  },
  {
   "cell_type": "code",
   "execution_count": null,
   "id": "b4b7bb44-d330-4488-beb4-764790654711",
   "metadata": {},
   "outputs": [],
   "source": []
  },
  {
   "cell_type": "markdown",
   "id": "9bd85995-63b3-4fe4-81f8-3707780756dd",
   "metadata": {},
   "source": [
    "# patch 2"
   ]
  },
  {
   "cell_type": "code",
   "execution_count": 15,
   "id": "dc82c970-d36d-47ad-ad66-22c731e339c0",
   "metadata": {},
   "outputs": [],
   "source": [
    "# change patch\n",
    "patch = 2\n",
    "# rename calexp_info_dict, injection_coord_dict\n",
    "calexp_info_dict_22, injection_coord_dict_22 = get_calexp_injection_dict(patch)\n",
    "\n",
    "fake_dir = f'/global/cfs/cdirs/desc-sn/dia/data/shl159/projects/dia_improvement/data/patch_0to6'\n",
    "patch_list = [f'{patch}{patch}']\n",
    "host_mag_list = ['20_21', '21_22', '22_23', '23_24', '24_25', '25_26', '26_27', '27_28']\n",
    "fake_mag_list = [20, 20.5, 21, 21.5, 22, 22.5, 23, 23.5, 24, 24.5, 25]\n",
    "\n",
    "# rename injector, change calexp_info_dict, injection_coord_dict\n",
    "injector_22 = fip.fakeInjectionPipeline(fake_dir = fake_dir,\n",
    "                                     patch_list = patch_list,\n",
    "                                     host_mag_list=host_mag_list,\n",
    "                                     fake_mag_list=fake_mag_list,\n",
    "                                     calexp_info_dict=calexp_info_dict_22,\n",
    "                                     injection_coord_dict=injection_coord_dict_22)"
   ]
  },
  {
   "cell_type": "code",
   "execution_count": 16,
   "id": "97225240-8fe5-448e-ab61-328e4970ae07",
   "metadata": {},
   "outputs": [
    {
     "name": "stdout",
     "output_type": "stream",
     "text": [
      "patch:  22\n",
      "host mag:  20_21\n",
      "host mag:  21_22\n",
      "host mag:  22_23\n",
      "host mag:  23_24\n",
      "host mag:  24_25\n",
      "host mag:  25_26\n",
      "host mag:  26_27\n",
      "host mag:  27_28\n",
      "\n",
      "\n",
      "injection is done\n"
     ]
    }
   ],
   "source": [
    "injector_22.make_fake_repo()\n",
    "injector_22.inject_fakes()"
   ]
  },
  {
   "cell_type": "code",
   "execution_count": null,
   "id": "6cc35dc4-f2fe-4b4f-b322-671adc5f01cd",
   "metadata": {},
   "outputs": [],
   "source": []
  },
  {
   "cell_type": "code",
   "execution_count": null,
   "id": "fc939006-87af-4c4f-9eb5-a4535bf06b07",
   "metadata": {},
   "outputs": [],
   "source": []
  },
  {
   "cell_type": "code",
   "execution_count": null,
   "id": "0ac43958-e8a1-4971-8878-c97131ffa903",
   "metadata": {},
   "outputs": [],
   "source": []
  },
  {
   "cell_type": "code",
   "execution_count": 17,
   "id": "a5546ec8-e292-41a0-836f-74318d6c7471",
   "metadata": {},
   "outputs": [],
   "source": [
    "# change patch\n",
    "patch = 3\n",
    "# rename calexp_info_dict, injection_coord_dict\n",
    "calexp_info_dict_33, injection_coord_dict_33 = get_calexp_injection_dict(patch)\n",
    "\n",
    "fake_dir = f'/global/cfs/cdirs/desc-sn/dia/data/shl159/projects/dia_improvement/data/patch_0to6'\n",
    "patch_list = [f'{patch}{patch}']\n",
    "host_mag_list = ['20_21', '21_22', '22_23', '23_24', '24_25', '25_26', '26_27', '27_28']\n",
    "fake_mag_list = [20, 20.5, 21, 21.5, 22, 22.5, 23, 23.5, 24, 24.5, 25]\n",
    "\n",
    "# rename injector, change calexp_info_dict, injection_coord_dict\n",
    "injector_33 = fip.fakeInjectionPipeline(fake_dir = fake_dir,\n",
    "                                     patch_list = patch_list,\n",
    "                                     host_mag_list=host_mag_list,\n",
    "                                     fake_mag_list=fake_mag_list,\n",
    "                                     calexp_info_dict=calexp_info_dict_33,\n",
    "                                     injection_coord_dict=injection_coord_dict_33)"
   ]
  },
  {
   "cell_type": "code",
   "execution_count": 18,
   "id": "9f5f4589-642e-4d29-93e4-cea55b8854c8",
   "metadata": {},
   "outputs": [
    {
     "name": "stdout",
     "output_type": "stream",
     "text": [
      "patch:  33\n",
      "host mag:  20_21\n",
      "host mag:  21_22\n",
      "host mag:  22_23\n",
      "host mag:  23_24\n",
      "host mag:  24_25\n",
      "host mag:  25_26\n",
      "host mag:  26_27\n",
      "host mag:  27_28\n",
      "\n",
      "\n",
      "injection is done\n"
     ]
    }
   ],
   "source": [
    "injector_33.make_fake_repo()\n",
    "injector_33.inject_fakes()"
   ]
  },
  {
   "cell_type": "code",
   "execution_count": null,
   "id": "4ee219aa-3080-425b-a406-1a558f191e75",
   "metadata": {},
   "outputs": [],
   "source": []
  },
  {
   "cell_type": "code",
   "execution_count": null,
   "id": "dfa8009e-c792-464a-b03f-91b07935794a",
   "metadata": {},
   "outputs": [],
   "source": []
  },
  {
   "cell_type": "markdown",
   "id": "bfa299b1-3c9d-4d5a-99ce-2e4c8f3e856f",
   "metadata": {},
   "source": [
    "# patch 4"
   ]
  },
  {
   "cell_type": "code",
   "execution_count": 19,
   "id": "9cbe4411-c8d3-47a4-9a51-2667cf1d2f58",
   "metadata": {},
   "outputs": [],
   "source": [
    "# change patch\n",
    "patch = 4\n",
    "# rename calexp_info_dict, injection_coord_dict\n",
    "calexp_info_dict_44, injection_coord_dict_44 = get_calexp_injection_dict(patch)\n",
    "\n",
    "fake_dir = f'/global/cfs/cdirs/desc-sn/dia/data/shl159/projects/dia_improvement/data/patch_0to6'\n",
    "patch_list = [f'{patch}{patch}']\n",
    "host_mag_list = ['20_21', '21_22', '22_23', '23_24', '24_25', '25_26', '26_27', '27_28']\n",
    "fake_mag_list = [20, 20.5, 21, 21.5, 22, 22.5, 23, 23.5, 24, 24.5, 25]\n",
    "\n",
    "# rename injector, change calexp_info_dict, injection_coord_dict\n",
    "injector_44 = fip.fakeInjectionPipeline(fake_dir = fake_dir,\n",
    "                                     patch_list = patch_list,\n",
    "                                     host_mag_list=host_mag_list,\n",
    "                                     fake_mag_list=fake_mag_list,\n",
    "                                     calexp_info_dict=calexp_info_dict_44,\n",
    "                                     injection_coord_dict=injection_coord_dict_44)"
   ]
  },
  {
   "cell_type": "code",
   "execution_count": 20,
   "id": "a7b58726-7d37-4674-ad4a-6aa9cc3c1225",
   "metadata": {},
   "outputs": [
    {
     "name": "stdout",
     "output_type": "stream",
     "text": [
      "patch:  44\n",
      "host mag:  20_21\n",
      "host mag:  21_22\n",
      "host mag:  22_23\n",
      "host mag:  23_24\n",
      "host mag:  24_25\n",
      "host mag:  25_26\n",
      "host mag:  26_27\n",
      "host mag:  27_28\n",
      "\n",
      "\n",
      "injection is done\n"
     ]
    }
   ],
   "source": [
    "injector_44.make_fake_repo()\n",
    "injector_44.inject_fakes()"
   ]
  },
  {
   "cell_type": "code",
   "execution_count": null,
   "id": "b48975e6-f0e6-4e58-a142-a7b0bf617c32",
   "metadata": {},
   "outputs": [],
   "source": []
  },
  {
   "cell_type": "markdown",
   "id": "c14ff58f-a2fb-48a4-a512-68c59e78596f",
   "metadata": {},
   "source": [
    "# patch 5"
   ]
  },
  {
   "cell_type": "code",
   "execution_count": 21,
   "id": "df811579-fb68-4bad-a856-4c125315e18b",
   "metadata": {},
   "outputs": [],
   "source": [
    "# change patch\n",
    "patch = 5\n",
    "# rename calexp_info_dict, injection_coord_dict\n",
    "calexp_info_dict_55, injection_coord_dict_55 = get_calexp_injection_dict(patch)\n",
    "\n",
    "fake_dir = f'/global/cfs/cdirs/desc-sn/dia/data/shl159/projects/dia_improvement/data/patch_0to6'\n",
    "patch_list = [f'{patch}{patch}']\n",
    "host_mag_list = ['20_21', '21_22', '22_23', '23_24', '24_25', '25_26', '26_27', '27_28']\n",
    "fake_mag_list = [20, 20.5, 21, 21.5, 22, 22.5, 23, 23.5, 24, 24.5, 25]\n",
    "\n",
    "# rename injector, change calexp_info_dict, injection_coord_dict\n",
    "injector_55 = fip.fakeInjectionPipeline(fake_dir = fake_dir,\n",
    "                                     patch_list = patch_list,\n",
    "                                     host_mag_list=host_mag_list,\n",
    "                                     fake_mag_list=fake_mag_list,\n",
    "                                     calexp_info_dict=calexp_info_dict_55,\n",
    "                                     injection_coord_dict=injection_coord_dict_55)"
   ]
  },
  {
   "cell_type": "code",
   "execution_count": 22,
   "id": "be1ebc18-18ab-4190-8339-d32d55a4fceb",
   "metadata": {},
   "outputs": [
    {
     "name": "stdout",
     "output_type": "stream",
     "text": [
      "patch:  55\n",
      "host mag:  20_21\n",
      "host mag:  21_22\n",
      "host mag:  22_23\n",
      "host mag:  23_24\n",
      "host mag:  24_25\n",
      "host mag:  25_26\n",
      "host mag:  26_27\n",
      "host mag:  27_28\n",
      "\n",
      "\n",
      "injection is done\n"
     ]
    }
   ],
   "source": [
    "injector_55.make_fake_repo()\n",
    "injector_55.inject_fakes()"
   ]
  },
  {
   "cell_type": "code",
   "execution_count": null,
   "id": "442d61e6-7b03-48cc-a5d5-18b94c6156be",
   "metadata": {},
   "outputs": [],
   "source": []
  },
  {
   "cell_type": "markdown",
   "id": "9fc3ab6b-be74-48f9-9ccc-cab60be2b64f",
   "metadata": {},
   "source": [
    "# "
   ]
  },
  {
   "cell_type": "code",
   "execution_count": null,
   "id": "498676ab-fce1-4899-a7aa-ed3f2bb23f56",
   "metadata": {},
   "outputs": [
    {
     "data": {
      "text/plain": [
       "4.090909090909091"
      ]
     },
     "execution_count": 9,
     "metadata": {},
     "output_type": "execute_result"
    }
   ],
   "source": [
    "# 8 host mag bins, 10 visits, 11 fake mag bins, 880 subtractions in total\n",
    "# it takes 60 hours (3600min) for subtraction\n",
    "(60 * 60) / (8 * 10 * 11 )"
   ]
  },
  {
   "cell_type": "code",
   "execution_count": null,
   "id": "a81777c7-5d7b-43c9-995b-1591ce70c7e4",
   "metadata": {},
   "outputs": [],
   "source": []
  },
  {
   "cell_type": "code",
   "execution_count": null,
   "id": "df38b54e-ca03-4651-912c-dddea7f1b1fd",
   "metadata": {},
   "outputs": [],
   "source": []
  },
  {
   "cell_type": "code",
   "execution_count": null,
   "id": "7330e57d-bc6f-44b0-90cd-f8278c83ec90",
   "metadata": {},
   "outputs": [],
   "source": []
  }
 ],
 "metadata": {
  "kernelspec": {
   "display_name": "desc-dia",
   "language": "python",
   "name": "desc-dia"
  },
  "language_info": {
   "codemirror_mode": {
    "name": "ipython",
    "version": 3
   },
   "file_extension": ".py",
   "mimetype": "text/x-python",
   "name": "python",
   "nbconvert_exporter": "python",
   "pygments_lexer": "ipython3",
   "version": "3.7.2"
  }
 },
 "nbformat": 4,
 "nbformat_minor": 5
}
