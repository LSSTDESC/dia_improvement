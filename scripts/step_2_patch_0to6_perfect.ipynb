{
 "cells": [
  {
   "cell_type": "code",
   "execution_count": 62,
   "id": "a4d6ea1f-05c5-42ce-b4ee-2e2088ce5777",
   "metadata": {},
   "outputs": [
    {
     "data": {
      "text/plain": [
       "<module 'fakeInjectionPipeline' from '/global/cscratch1/sd/shl159/projects/dia_improvement/scripts/fakeInjectionPipeline.py'>"
      ]
     },
     "execution_count": 62,
     "metadata": {},
     "output_type": "execute_result"
    }
   ],
   "source": [
    "import os\n",
    "import sqlite3\n",
    "import matplotlib.pyplot as plt\n",
    "import numpy as np\n",
    "import pandas as pd\n",
    "\n",
    "from lsst.daf.persistence import Butler\n",
    "import fakeInjectionPipeline as fip\n",
    "import data_process_utils as dpu\n",
    "\n",
    "from scipy.stats import norm\n",
    "import scipy.stats as stats\n",
    "\n",
    "import imp\n",
    "imp.reload(fip) "
   ]
  },
  {
   "cell_type": "code",
   "execution_count": 63,
   "id": "832ba2d5-3615-4a0f-a178-50d0c1927c1c",
   "metadata": {},
   "outputs": [
    {
     "name": "stdout",
     "output_type": "stream",
     "text": [
      "/global/cscratch1/sd/shl159/projects/dia_improvement/scripts\n"
     ]
    }
   ],
   "source": [
    "!pwd"
   ]
  },
  {
   "cell_type": "code",
   "execution_count": 64,
   "id": "fb572888-c6ae-4555-9f07-abfbb54695ee",
   "metadata": {},
   "outputs": [],
   "source": [
    "def get_calexp_injection_dict(patch_list, host_mag_range_list):\n",
    "    \n",
    "    conn = sqlite3.connect('../data/table/gal_4639/injection_coord.sqlite')\n",
    "    calexp_info_dict = {}\n",
    "    injection_coord_dict = {}\n",
    "\n",
    "    for patch in patch_list:\n",
    "        patch_1, patch_2 = patch[0], patch[1]\n",
    "        \n",
    "\n",
    "\n",
    "        for host_mag in host_mag_range_list:\n",
    "            min_mag = host_mag[0]\n",
    "            max_mag = host_mag[1]\n",
    "\n",
    "            calexp_info_query = (f'SELECT distinct(visit), filter, detector FROM injection_coord WHERE patch_1={patch_1} AND '\n",
    "                                 f'patch_2={patch_2} AND min_host_mag = {min_mag} AND max_host_mag = {max_mag}'\n",
    "                                )\n",
    "            calexp_info = pd.read_sql_query(calexp_info_query, conn)\n",
    "\n",
    "            calexp_info_dict[f'{patch}_{min_mag}_{max_mag}'] = calexp_info\n",
    "\n",
    "        for host_mag in host_mag_range_list:\n",
    "            min_mag = host_mag[0]\n",
    "            max_mag = host_mag[1]\n",
    "            calexp_info = calexp_info_dict[f'{patch}_{min_mag}_{max_mag}']\n",
    "            for idx, row in calexp_info.iterrows():\n",
    "                visit = row['visit']\n",
    "                filt = row['filter']\n",
    "                detector = row['detector']\n",
    "                coord_query = (\n",
    "                    f'SELECT calexp_coord_x, calexp_coord_y FROM injection_coord '\n",
    "                    f\"WHERE patch_1={patch_1} AND patch_2={patch_2} AND min_host_mag = {min_mag} AND max_host_mag = {max_mag} \"\n",
    "                    f\"AND visit = {visit} AND filter = '{filt}' AND detector = {detector}\"\n",
    "                )\n",
    "                coord = pd.read_sql_query(coord_query, conn).to_numpy()\n",
    "                injection_coord_dict[f'{patch}_{int(min_mag)}_{int(max_mag)}_{int(visit)}_{int(detector)}_{filt}'] = coord\n",
    "    return calexp_info_dict, injection_coord_dict"
   ]
  },
  {
   "cell_type": "code",
   "execution_count": 65,
   "id": "75325339-457f-4588-b719-a6f7f5205237",
   "metadata": {},
   "outputs": [
    {
     "name": "stdout",
     "output_type": "stream",
     "text": [
      "/global/cscratch1/sd/shl159/projects/dia_improvement/scripts\n"
     ]
    }
   ],
   "source": [
    "!pwd"
   ]
  },
  {
   "cell_type": "markdown",
   "id": "1c306f92-3034-4488-8b20-dd8ed45360ea",
   "metadata": {},
   "source": [
    "# injection"
   ]
  },
  {
   "cell_type": "code",
   "execution_count": 66,
   "id": "6f44ead5-b400-4906-b617-ccc8cc4342e0",
   "metadata": {},
   "outputs": [],
   "source": [
    "patch_list = ['00', '11', '22', '33', '44', '55', '66']\n",
    "host_mag_list = ['20_21', '21_22', '22_23', '23_24', '24_25']\n",
    "fake_mag_list = [20, 21, 22, 23, 24]\n",
    "\n",
    "host_mag_range_list = [(20, 21), (21, 22), (22,23), (23, 24), (24, 25)]\n",
    "calexp_info_dict, injection_coord_dict = get_calexp_injection_dict(patch_list, host_mag_range_list)\n",
    "\n"
   ]
  },
  {
   "cell_type": "code",
   "execution_count": 67,
   "id": "8e16ed57-973a-41d9-a70e-83d8d3c2986b",
   "metadata": {},
   "outputs": [
    {
     "name": "stdout",
     "output_type": "stream",
     "text": [
      "/global/cscratch1/sd/shl159/projects/dia_improvement/scripts\n"
     ]
    }
   ],
   "source": [
    "!pwd"
   ]
  },
  {
   "cell_type": "code",
   "execution_count": 68,
   "id": "351e8a38-6cf5-4f4b-89fd-1ccb3c7a43a4",
   "metadata": {},
   "outputs": [],
   "source": [
    "fake_dir = f'/global/cscratch1/sd/shl159/projects/dia_improvement/data/patch_0to6/injection/perfect'\n",
    "\n",
    "injector = fip.fakeInjectionPipeline(\n",
    "    fake_dir = fake_dir, patch_list = patch_list,\n",
    "    host_mag_list=host_mag_list, fake_mag_list=fake_mag_list,\n",
    "    calexp_info_dict=calexp_info_dict, injection_coord_dict=injection_coord_dict\n",
    ")"
   ]
  },
  {
   "cell_type": "code",
   "execution_count": 40,
   "id": "34443462-97d6-4ef6-9887-01cd4a283430",
   "metadata": {},
   "outputs": [],
   "source": [
    "# injector.make_fake_repo()\n",
    "# injector.inject_fakes(poisson=False)"
   ]
  },
  {
   "cell_type": "code",
   "execution_count": null,
   "id": "fde0c51a-e42d-4575-9373-3aee32c12309",
   "metadata": {},
   "outputs": [],
   "source": []
  },
  {
   "cell_type": "code",
   "execution_count": 37,
   "id": "2fcdf52d-2453-442a-8889-27c865607a53",
   "metadata": {},
   "outputs": [],
   "source": [
    "cf_type = 'default_3sig'\n",
    "\n",
    "config = f'./config/diffimConfig_al_{cf_type}.py'\n",
    "file_path = f'../al_{cf_type}_perfect.sh'\n",
    "diff_dir =  f'/global/cscratch1/sd/shl159/projects/dia_improvement/data/patch_0to6/diff/perfect/al_{cf_type}'\n",
    "# injector.get_subtraction_script(diff_dir , config=config, file_path=file_path, use_slurm=True)"
   ]
  },
  {
   "cell_type": "code",
   "execution_count": null,
   "id": "f3d2ff9f-ba29-4869-bd5f-b9128d96b0b9",
   "metadata": {},
   "outputs": [],
   "source": []
  },
  {
   "cell_type": "code",
   "execution_count": null,
   "id": "b0fac12a-d5ba-4ecc-a746-977e8b7a9037",
   "metadata": {},
   "outputs": [],
   "source": []
  },
  {
   "cell_type": "markdown",
   "id": "5692cbac-d360-42a2-9697-33d7917c8eaf",
   "metadata": {},
   "source": [
    "# exsistance"
   ]
  },
  {
   "cell_type": "code",
   "execution_count": null,
   "id": "300996dc-b2d8-4f40-9c50-a0609f372bba",
   "metadata": {},
   "outputs": [],
   "source": []
  },
  {
   "cell_type": "code",
   "execution_count": 1,
   "id": "d487ef6c-ee90-4a2f-a48d-75194e644234",
   "metadata": {},
   "outputs": [
    {
     "name": "stdout",
     "output_type": "stream",
     "text": [
      "\n"
     ]
    }
   ],
   "source": [
    "\"\"\"\n",
    "for patch in patch_list:\n",
    "    \n",
    "    for host_mag in host_mag_list:\n",
    "        calexp_info = calexp_info_dict[f'{patch}_{host_mag}']\n",
    "        \n",
    "        for index, row in calexp_info.iterrows():\n",
    "            visit = row['visit']\n",
    "            filt = row['filter']\n",
    "            detector = row['detector']\n",
    "\n",
    "            for fake_mag in fake_mag_list:\n",
    "                fake_mag_str = str(fake_mag).replace('.', '')\n",
    "\n",
    "                diff_path = os.path.join(\n",
    "                    diff_dir, f'{patch}_{host_mag}_{visit}_{detector}_{filt}/diff_{fake_mag_str}/deepDiff'\n",
    "                )\n",
    "                \n",
    "                if not os.path.exists(diff_path):\n",
    "                    print(diff_path)\n",
    "\"\"\"\n",
    "print()\n"
   ]
  },
  {
   "cell_type": "code",
   "execution_count": 40,
   "id": "a2f0c37d-e6cc-4bf8-97da-0f9af744f64f",
   "metadata": {},
   "outputs": [
    {
     "name": "stdout",
     "output_type": "stream",
     "text": [
      "patch:  00\n",
      "host mag:  20_21\n",
      "host mag:  21_22\n",
      "host mag:  22_23\n",
      "host mag:  23_24\n",
      "host mag:  24_25\n",
      "\n",
      "\n",
      "patch:  11\n",
      "host mag:  20_21\n",
      "host mag:  21_22\n",
      "host mag:  22_23\n",
      "host mag:  23_24\n",
      "host mag:  24_25\n",
      "\n",
      "\n",
      "patch:  22\n",
      "host mag:  20_21\n",
      "host mag:  21_22\n",
      "host mag:  22_23\n",
      "host mag:  23_24\n",
      "host mag:  24_25\n",
      "\n",
      "\n",
      "patch:  33\n",
      "host mag:  20_21\n",
      "host mag:  21_22\n",
      "host mag:  22_23\n",
      "host mag:  23_24\n",
      "host mag:  24_25\n",
      "\n",
      "\n",
      "patch:  44\n",
      "host mag:  20_21\n",
      "host mag:  21_22\n",
      "host mag:  22_23\n",
      "host mag:  23_24\n",
      "host mag:  24_25\n",
      "\n",
      "\n",
      "patch:  55\n",
      "host mag:  20_21\n",
      "host mag:  21_22\n",
      "host mag:  22_23\n",
      "host mag:  23_24\n",
      "host mag:  24_25\n",
      "\n",
      "\n",
      "patch:  66\n",
      "host mag:  20_21\n",
      "host mag:  21_22\n",
      "host mag:  22_23\n",
      "host mag:  23_24\n",
      "host mag:  24_25\n",
      "\n",
      "\n",
      "detection results are saved in /global/cscratch1/sd/shl159/projects/dia_improvement/data/patch_0to6/diff/perfect/al_default_3sig/detection/detection.sqlite\n",
      "fake_src contains the fake information, and artifact contains the artifact information\n",
      "done\n"
     ]
    }
   ],
   "source": [
    "cf_type = 'default_3sig'\n",
    "diff_dir =  f'/global/cscratch1/sd/shl159/projects/dia_improvement/data/patch_0to6/diff/perfect/al_{cf_type}'\n",
    "flux_dir = (\n",
    "    f'/global/cscratch1/sd/shl159/projects/dia_improvement/data'\n",
    "    f'/patch_0to6/diff/perfect/al_{cf_type}/detection'\n",
    ")\n",
    "\n",
    "injector.get_detection(diff_dir=diff_dir, flux_dir=flux_dir, db_name=f'detection.sqlite')\n",
    "print('done')"
   ]
  },
  {
   "cell_type": "code",
   "execution_count": null,
   "id": "53a35fde-c0d5-4cce-b27b-a1794c54b5d2",
   "metadata": {},
   "outputs": [],
   "source": []
  },
  {
   "cell_type": "code",
   "execution_count": 16,
   "id": "52aa2fbf-3a2f-4a58-b666-52d2087e3d98",
   "metadata": {},
   "outputs": [
    {
     "name": "stdout",
     "output_type": "stream",
     "text": [
      "forced photometry coordinates are saved in /global/cscratch1/sd/shl159/projects/dia_improvement/data/patch_0to6/diff/perfect/al_default_3sig/coord\n"
     ]
    }
   ],
   "source": [
    "flux_db_path = '/global/cscratch1/sd/shl159/projects/dia_improvement/data/patch_0to6/diff/perfect/al_default_3sig/detection/detection.sqlite'\n",
    "coord_dir = '/global/cscratch1/sd/shl159/projects/dia_improvement/data/patch_0to6/diff/perfect/al_default_3sig/coord'\n",
    "injector.get_detection_coord(flux_db_path, coord_dir)"
   ]
  },
  {
   "cell_type": "code",
   "execution_count": null,
   "id": "d9557ff4-bf4a-4045-b49f-916cf4fdb95f",
   "metadata": {},
   "outputs": [],
   "source": []
  },
  {
   "cell_type": "code",
   "execution_count": 26,
   "id": "a27a10ae-3e02-4fd2-b59e-c18f6d41b14a",
   "metadata": {},
   "outputs": [
    {
     "name": "stdout",
     "output_type": "stream",
     "text": [
      "patch:  00\n",
      "host mag:  20_21\n",
      "host mag:  21_22\n",
      "host mag:  22_23\n",
      "host mag:  23_24\n",
      "host mag:  24_25\n",
      "\n",
      "\n",
      "patch:  11\n",
      "host mag:  20_21\n",
      "host mag:  21_22\n",
      "host mag:  22_23\n",
      "host mag:  23_24\n",
      "host mag:  24_25\n",
      "\n",
      "\n",
      "patch:  22\n",
      "host mag:  20_21\n",
      "host mag:  21_22\n",
      "host mag:  22_23\n",
      "host mag:  23_24\n",
      "host mag:  24_25\n",
      "\n",
      "\n",
      "patch:  33\n",
      "host mag:  20_21\n",
      "host mag:  21_22\n",
      "host mag:  22_23\n",
      "host mag:  23_24\n",
      "host mag:  24_25\n",
      "\n",
      "\n",
      "patch:  44\n",
      "host mag:  20_21\n",
      "host mag:  21_22\n",
      "host mag:  22_23\n",
      "host mag:  23_24\n",
      "host mag:  24_25\n",
      "\n",
      "\n",
      "patch:  55\n",
      "host mag:  20_21\n",
      "host mag:  21_22\n",
      "host mag:  22_23\n",
      "host mag:  23_24\n",
      "host mag:  24_25\n",
      "\n",
      "\n",
      "patch:  66\n",
      "host mag:  20_21\n",
      "host mag:  21_22\n",
      "host mag:  22_23\n",
      "host mag:  23_24\n",
      "host mag:  24_25\n",
      "\n",
      "\n",
      "please run this file: ../forced_al_default_3sig.sh\n"
     ]
    }
   ],
   "source": [
    "cf_type = 'default_3sig'\n",
    "diff_dir =  f'/global/cscratch1/sd/shl159/projects/dia_improvement/data/patch_0to6/diff/perfect/al_{cf_type}'\n",
    "coord_dir = '/global/cscratch1/sd/shl159/projects/dia_improvement/data/patch_0to6/diff/perfect/al_default_3sig/coord'\n",
    "forced_dir = '/global/cscratch1/sd/shl159/projects/dia_improvement/data/patch_0to6/diff/perfect/al_default_3sig/forced'\n",
    "\n",
    "config = './config/forcedConfig.py'\n",
    "file_path = '../forced_al_default_3sig.sh'\n",
    "injector.get_forced_phot_script(diff_dir, coord_dir, forced_dir, config, file_path=file_path)"
   ]
  },
  {
   "cell_type": "code",
   "execution_count": 69,
   "id": "4af1f427-fb17-4a53-b411-3733f204d927",
   "metadata": {},
   "outputs": [],
   "source": [
    "coord_dir = '/global/cscratch1/sd/shl159/projects/dia_improvement/data/patch_0to6/diff/perfect/al_default_3sig/coord'\n",
    "forced_dir = '/global/cscratch1/sd/shl159/projects/dia_improvement/data/patch_0to6/diff/perfect/al_default_3sig/forced'\n",
    "injector.get_forced_db(coord_dir, forced_dir, db_name='forced.sqlite')"
   ]
  },
  {
   "cell_type": "code",
   "execution_count": null,
   "id": "355e0615-447d-462d-9743-152040155d0d",
   "metadata": {},
   "outputs": [],
   "source": []
  },
  {
   "cell_type": "code",
   "execution_count": null,
   "id": "0f628cb6-7958-413f-a2d3-ebdf459a033f",
   "metadata": {},
   "outputs": [],
   "source": []
  },
  {
   "cell_type": "code",
   "execution_count": null,
   "id": "8f7a38e4-059a-48ea-953b-636885defa63",
   "metadata": {},
   "outputs": [],
   "source": []
  },
  {
   "cell_type": "code",
   "execution_count": 43,
   "id": "588b984f-7e62-46bb-9dd1-e1e81ce89ca8",
   "metadata": {},
   "outputs": [],
   "source": []
  },
  {
   "cell_type": "code",
   "execution_count": null,
   "id": "e886627d-df75-4262-8604-d8c962ddc3ea",
   "metadata": {},
   "outputs": [],
   "source": []
  },
  {
   "cell_type": "code",
   "execution_count": 46,
   "id": "7a6b18f6-c059-4dbb-b28c-756af952b617",
   "metadata": {},
   "outputs": [],
   "source": []
  },
  {
   "cell_type": "code",
   "execution_count": 47,
   "id": "e4df6667-f860-48bc-9b72-8fca8520e72e",
   "metadata": {},
   "outputs": [],
   "source": []
  },
  {
   "cell_type": "code",
   "execution_count": 49,
   "id": "765c9bc2-164d-4168-8537-2cf3f97523f9",
   "metadata": {},
   "outputs": [],
   "source": []
  },
  {
   "cell_type": "code",
   "execution_count": 51,
   "id": "8e6b3ac7-4956-4858-b1f4-1325fe12a855",
   "metadata": {},
   "outputs": [],
   "source": []
  },
  {
   "cell_type": "code",
   "execution_count": null,
   "id": "46e2c72e-b8fa-43c5-9343-20ff0eecd707",
   "metadata": {},
   "outputs": [],
   "source": []
  },
  {
   "cell_type": "code",
   "execution_count": null,
   "id": "4e8a46d7-9a6a-43bf-9958-798760e2445e",
   "metadata": {},
   "outputs": [],
   "source": []
  },
  {
   "cell_type": "code",
   "execution_count": null,
   "id": "4c53cd9f-d9c2-4cb8-bd32-4bdc2dd9a014",
   "metadata": {},
   "outputs": [],
   "source": []
  },
  {
   "cell_type": "code",
   "execution_count": null,
   "id": "ba3cb453-a00d-4eab-b21a-5447e914ce95",
   "metadata": {},
   "outputs": [],
   "source": []
  },
  {
   "cell_type": "code",
   "execution_count": null,
   "id": "79294841-9c34-4d89-94e3-e487851e6484",
   "metadata": {},
   "outputs": [],
   "source": []
  },
  {
   "cell_type": "code",
   "execution_count": null,
   "id": "b547cb9b-af42-4fb7-b480-d633f4eb771e",
   "metadata": {},
   "outputs": [],
   "source": []
  },
  {
   "cell_type": "code",
   "execution_count": null,
   "id": "1ed057c0-0f39-41ed-b8ac-6ffbd9846fa1",
   "metadata": {},
   "outputs": [],
   "source": []
  },
  {
   "cell_type": "code",
   "execution_count": null,
   "id": "f485c907-9d19-4f6e-97b7-bf7cd47e4a54",
   "metadata": {},
   "outputs": [],
   "source": []
  },
  {
   "cell_type": "code",
   "execution_count": null,
   "id": "716fcf9f-f419-4d15-8606-875b9ec08b9f",
   "metadata": {},
   "outputs": [],
   "source": []
  },
  {
   "cell_type": "code",
   "execution_count": null,
   "id": "5686c55b-001c-4a91-a303-dc1b403a1cec",
   "metadata": {},
   "outputs": [],
   "source": []
  }
 ],
 "metadata": {
  "kernelspec": {
   "display_name": "desc-dia",
   "language": "python",
   "name": "desc-dia"
  },
  "language_info": {
   "codemirror_mode": {
    "name": "ipython",
    "version": 3
   },
   "file_extension": ".py",
   "mimetype": "text/x-python",
   "name": "python",
   "nbconvert_exporter": "python",
   "pygments_lexer": "ipython3",
   "version": "3.7.2"
  }
 },
 "nbformat": 4,
 "nbformat_minor": 5
}
