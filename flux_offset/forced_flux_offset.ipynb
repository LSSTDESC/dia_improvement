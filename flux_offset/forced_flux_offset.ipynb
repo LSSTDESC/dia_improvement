{
 "cells": [
  {
   "cell_type": "markdown",
   "metadata": {},
   "source": [
    "# Forced Flux Offset\n",
    "\n",
    "This notebook illustrates the offset issue of forced flux."
   ]
  },
  {
   "cell_type": "code",
   "execution_count": 2,
   "metadata": {},
   "outputs": [],
   "source": [
    "import injection_utils as iu\n",
    "\n",
    "import os\n",
    "\n",
    "import numpy as np\n",
    "import pandas as pd\n",
    "from scipy import stats\n",
    "import matplotlib.pyplot as plt\n",
    "\n",
    "from lsst.daf.persistence import Butler\n",
    "import lsst.geom as geom\n",
    "import lsst.afw.image as afwImage\n",
    "import lsst.afw.display as afwDisplay\n",
    "from lsst.afw.math import Warper\n",
    "import lsst.afw.geom as afwGeom\n",
    "\n",
    "from astropy.table import Table"
   ]
  },
  {
   "cell_type": "code",
   "execution_count": 23,
   "metadata": {},
   "outputs": [
    {
     "name": "stdout",
     "output_type": "stream",
     "text": [
      "/global/cfs/cdirs/desc-sn/dia/data/shl159/fake_injection/flux_offset\n"
     ]
    }
   ],
   "source": [
    "! pwd"
   ]
  },
  {
   "cell_type": "markdown",
   "metadata": {},
   "source": [
    "## 1. make empty calexp repo"
   ]
  },
  {
   "cell_type": "code",
   "execution_count": 18,
   "metadata": {},
   "outputs": [
    {
     "name": "stdout",
     "output_type": "stream",
     "text": [
      "\n"
     ]
    }
   ],
   "source": [
    "# empty_calexp_2_2i is an empty calexp repo, we copy it for injection purpose\n",
    "# 205 means fake mag = 20.5\n",
    "# We want to inject fakes with mag = [20.5, 21, 21.5, 22]\n",
    "\n",
    "! for (( i=205; i<=220; i=i+5 )); do cp -r ./empty_calexp_2_2i/ \\\n",
    "/global/cfs/cdirs/desc-sn/dia/data/shl159/fake_injection/flux_offset/data/gal_$i; done\n",
    "print()"
   ]
  },
  {
   "cell_type": "code",
   "execution_count": null,
   "metadata": {},
   "outputs": [],
   "source": []
  },
  {
   "cell_type": "markdown",
   "metadata": {},
   "source": [
    "## 2. Data Id and Injection Position"
   ]
  },
  {
   "cell_type": "code",
   "execution_count": 6,
   "metadata": {},
   "outputs": [],
   "source": [
    "# Setup data id\n",
    "tract, patch, filt = 2900, '4,4', 'r'\n",
    "visit, detector = 1228976, 8\n",
    "calexp_id = {'visit': visit, 'detector': detector, 'filter': filt}\n",
    "deepCoadd_id = {'tract': tract, 'patch': patch, 'filter': filt}"
   ]
  },
  {
   "cell_type": "code",
   "execution_count": 12,
   "metadata": {},
   "outputs": [],
   "source": [
    "# a list of [x, y] pixel coordinates\n",
    "injection_coord = np.load('./coord_1820.npy')"
   ]
  },
  {
   "cell_type": "code",
   "execution_count": 16,
   "metadata": {},
   "outputs": [],
   "source": []
  },
  {
   "cell_type": "markdown",
   "metadata": {},
   "source": [
    "## 3. Fake Injection"
   ]
  },
  {
   "cell_type": "code",
   "execution_count": 14,
   "metadata": {},
   "outputs": [],
   "source": [
    "fake_dir = './data'\n",
    "fake_pattern = 'gal_{}'"
   ]
  },
  {
   "cell_type": "code",
   "execution_count": 19,
   "metadata": {},
   "outputs": [
    {
     "name": "stdout",
     "output_type": "stream",
     "text": [
      "done\n"
     ]
    }
   ],
   "source": [
    "# We want to inject fakes with mag = [20.5, 21, 21.5, 22]\n",
    "for fake_mag in range(205, 225, 5):\n",
    "    injected_mag = fake_mag * 0.1\n",
    "    calexp_repo = os.path.join(fake_dir, fake_pattern.format(fake_mag))\n",
    "    iu.inject_fakes_to_calexp(calexp_repo, calexp_id, injected_mag, injection_coord, poisson=False)\n",
    "print('done')"
   ]
  },
  {
   "cell_type": "markdown",
   "metadata": {},
   "source": [
    "## 4. Subtractin, Association, and Forced Photometry"
   ]
  },
  {
   "cell_type": "code",
   "execution_count": 22,
   "metadata": {},
   "outputs": [
    {
     "name": "stdout",
     "output_type": "stream",
     "text": [
      "\n"
     ]
    }
   ],
   "source": [
    "# Create a dia_pipeline.sh file for subtraction, association, and forced photometry\n",
    "with open(f'./dia_pipeline.sh', \"w+\") as file:\n",
    "    file.write('#！/bin/bash\\n\\n')\n",
    "        \n",
    "    for i in range(205, 225, 5):\n",
    "        line = 'imageDifferenceDriver.py /global/cfs/cdirs/desc-sn/dia/data/shl159/fake_injection/flux_offset/data/gal_{} \\\\\\n'.format(i)\n",
    "        file.write(line)\n",
    "        line2 = '    --output /global/cfs/cdirs/desc-sn/dia/data/shl159/fake_injection/flux_offset/data/al_{} \\\\\\n'.format(i)\n",
    "        file.write(line2)\n",
    "        line3 = '    --id visit=1228976 detector=8  -C diffimConfig_al-bright.py \\\\\\n'\n",
    "        file.write(line3)\n",
    "        line4 = '    --clobber-config --clobber-versions --cores 4\\n'\n",
    "        file.write(line4) \n",
    "    file.write('\\n')\n",
    "\n",
    "    for i in range(205, 225, 5):\n",
    "        line = 'associationDriver.py /global/cfs/cdirs/desc-sn/dia/data/shl159/fake_injection/flux_offset/data/al_{} \\\\\\n'.format(i)\n",
    "        file.write(line)\n",
    "        line2 = '    --rerun association \\\\\\n'.format(i)\n",
    "        file.write(line2)\n",
    "        line3 = '    --id tract=2900 filter=r --selectId visit=1228976 --cores 4 --batch-type=smp \\\\\\n'\n",
    "        file.write(line3)\n",
    "        line4 = '    --clobber-config --clobber-versions --cores 4\\n'\n",
    "        file.write(line4)\n",
    "    file.write('\\n')\n",
    "        \n",
    "    for i in range(205, 225, 5):\n",
    "        line = 'forcedPhotCcdDiaDriver.py /global/cfs/cdirs/desc-sn/dia/data/shl159/fake_injection/flux_offset/data/al_{}/rerun/association \\\\\\n'.format(i)\n",
    "        file.write(line)\n",
    "        line2 = '    --rerun forced \\\\\\n'.format(i)\n",
    "        file.write(line2)\n",
    "        line3 = '    --id visit=1228976 --cores 10 --clobber-config --clobber-versions \\\\\\n'\n",
    "        file.write(line3)\n",
    "        line4 = \"    --time 100 --batch-options='-C knl -q regular'\\n\"\n",
    "        file.write(line4)\n",
    "print()"
   ]
  },
  {
   "cell_type": "markdown",
   "metadata": {},
   "source": [
    "In terminal run:\n",
    "- source ./setup_subtraction.sh\n",
    "- source ./dia_pipeline.sh"
   ]
  },
  {
   "cell_type": "markdown",
   "metadata": {},
   "source": [
    "## 5. Analysis"
   ]
  },
  {
   "cell_type": "code",
   "execution_count": 32,
   "metadata": {},
   "outputs": [],
   "source": [
    "def calibrate_instFlux(lsst_table=None, photo_calib=None, flux_type='base_PsfFlux', flux_name=None, err_name=None):\n",
    "    # convert instFlux to nanojansky\n",
    "    flux_nanojansky = photo_calib.instFluxToNanojansky(lsst_table, flux_type)\n",
    "    lsst_astropy = lsst_table.asAstropy()\n",
    "    lsst_astropy[flux_name]  = flux_nanojansky[:,0]\n",
    "    lsst_astropy[err_name]  = flux_nanojansky[:,1]\n",
    "    return lsst_astropy\n",
    "\n",
    "\n",
    "def measure_flux(coord, mag_list, mag_range, src_repo_pattern, forced_repo_pattern, diff_id):\n",
    "    # merge a diaSrc table and a Forced table, save the flux from each table to a\n",
    "    # pandas dataframe\n",
    "    efficiency = np.zeros(len(mag_list))\n",
    "    ra_list = []\n",
    "    dec_list = []\n",
    "    # x, y pixel coordinates in calexp image\n",
    "    x_calexp_list = []\n",
    "    y_calexp_list = []\n",
    "    # injected magnitude\n",
    "    mag_injected_list = []\n",
    "    flux_injected_list = []\n",
    "    # flux in diaSrc table\n",
    "    flux_src_list = []\n",
    "    flux_err_src_list = []\n",
    "    # flux in Forced table\n",
    "    flux_forced_list = []\n",
    "    flux_err_forced_list = []\n",
    "    # total number of sources detected in the diaSrc table\n",
    "    total_src_list = []\n",
    "\n",
    "    for i, mag in enumerate(mag_range):\n",
    "        mag_str = mag_list[i]\n",
    "\n",
    "        src_repo = src_repo_pattern.format(mag_str)\n",
    "        src_butler = Butler(src_repo)\n",
    "        src_table = src_butler.get('deepDiff_diaSrc', dataId=calexp_id)\n",
    "        total_src = len(src_table)\n",
    "        src_calib = src_butler.get('deepDiff_differenceExp_photoCalib', dataId=diff_id)\n",
    "        \n",
    "        src_flux_table = calibrate_instFlux(lsst_table=src_table, photo_calib=src_calib,\n",
    "                                            flux_type='base_PsfFlux', flux_name='flux_src_nanojansky',\n",
    "                                            err_name='flux_err_src_nanojansky')\n",
    "\n",
    "        flux_injected_inst = src_calib.magnitudeToInstFlux(mag)\n",
    "        flux_injected_nanojansky = src_calib.instFluxToNanojansky(flux_injected_inst)\n",
    "        \n",
    "        forced_repo = forced_repo_pattern.format(mag_str)\n",
    "        forced_butler = Butler(forced_repo)\n",
    "        forced_table = forced_butler.get('deepDiff_forced_diaSrc', dataId=diff_id)\n",
    "        forced_flux_table = calibrate_instFlux(lsst_table=forced_table, photo_calib=src_calib,\n",
    "                                               flux_type='base_PsfFlux', flux_name='flux_forced_nanojansky',\n",
    "                                               err_name='flux_err_forced_nanojansky') \n",
    "\n",
    "        src_pd = src_flux_table.to_pandas()\n",
    "        forced_pd = forced_flux_table.to_pandas()\n",
    "        # I tried to use 'id' as the key, but it returns a table with 0 entries.\n",
    "        dia_joint_table = pd.merge(src_pd, forced_pd, on='coord_ra', how='outer',\n",
    "                       suffixes=[\"\", \"_\"]).drop('coord_dec_', axis=1)\n",
    "        joint_table_astropy = Table.from_pandas(dia_joint_table)\n",
    "        \n",
    "        # diff_detected is an index set of detected sources, diff_missed is an index set of missed sources \n",
    "        # dia_list is a list of tables, they are ordered as the coord input of check_diaSrc_detecion\n",
    "        # each table contains the sources detected at each coordinate\n",
    "        # for more information, check ?iu.check_diaSrc_detecion\n",
    "        diff_detected, diff_missed, dia_list = iu.check_diaSrc_detecion(coord, joint_table_astropy, half_width=4)\n",
    "        # calculate efficiency\n",
    "        efficiency[i] = len(diff_detected) / (len(diff_detected) + len(diff_missed))\n",
    "\n",
    "        for j in range(len(dia_list)):\n",
    "            if not dia_list[j]:\n",
    "                continue\n",
    "            ra_list.append(dia_list[j][0]['coord_ra'])\n",
    "            dec_list.append(dia_list[j][0]['coord_dec'])\n",
    "            x_calexp_list.append(coord[j][0])\n",
    "            y_calexp_list.append(coord[j][1])\n",
    "\n",
    "            mag_injected_list.append(mag)\n",
    "            flux_injected_list.append(flux_injected_nanojansky)\n",
    "\n",
    "            flux_src_list.append(dia_list[j][0]['flux_src_nanojansky'])\n",
    "            flux_err_src_list.append(dia_list[j][0]['flux_err_src_nanojansky'])\n",
    "            flux_forced_list.append(dia_list[j][0]['flux_forced_nanojansky'])\n",
    "            flux_err_forced_list.append(dia_list[j][0]['flux_err_forced_nanojansky'])\n",
    "            total_src_list.append(total_src)\n",
    "    results = pd.DataFrame({'ra': ra_list, 'dec': dec_list, 'x_calexp': x_calexp_list, 'y_calexp': y_calexp_list,\n",
    "                            'mag_injected': mag_injected_list, 'flux_injected': flux_injected_list,\n",
    "                            'flux_src': flux_src_list, 'flux_err_src': flux_err_src_list,\n",
    "                            'flux_forced': flux_forced_list, 'flux_err_forced': flux_err_forced_list,\n",
    "                            'tot_src': total_src_list})\n",
    "    return results, efficiency"
   ]
  },
  {
   "cell_type": "code",
   "execution_count": 3,
   "metadata": {},
   "outputs": [
    {
     "data": {
      "text/plain": [
       "\u001b[0;31mSignature:\u001b[0m \u001b[0miu\u001b[0m\u001b[0;34m.\u001b[0m\u001b[0mcheck_diaSrc_detecion\u001b[0m\u001b[0;34m(\u001b[0m\u001b[0mcheck_coords\u001b[0m\u001b[0;34m,\u001b[0m \u001b[0msrc_table\u001b[0m\u001b[0;34m,\u001b[0m \u001b[0mhalf_width\u001b[0m\u001b[0;34m=\u001b[0m\u001b[0;36m4\u001b[0m\u001b[0;34m)\u001b[0m\u001b[0;34m\u001b[0m\u001b[0;34m\u001b[0m\u001b[0m\n",
       "\u001b[0;31mDocstring:\u001b[0m\n",
       "This function checks whether dia sources have been detected at the coordinates given\n",
       "by the check_coords.\n",
       "check_coords:      A list of [x, y] pixel coordinates\n",
       "src_table:         An astropy table of dia sources(diaSrc)\n",
       "half_width:        The half length of the search width. The total searching region is \n",
       "                   x - half_width: x + half_width, y - half_width, y + half_width\n",
       "Returns:\n",
       "detected_set:      A set of diaSrc indexes(ordered as the src_table) of the detected sources\n",
       "missed_set:        A set of diaSrc indexes(ordered as the src_table) of the missed sources\n",
       "dia_list:          A list of astropy tables. The first dimension corresponds to the indexes\n",
       "                   given from the check_coords. The second dimension collects the diaSrc table\n",
       "                   of the matched sources. If a source is missed, it corresponds to an empty list.\n",
       "                   e.g. [[diaSrc_0], [], [diaSrc_2], [],...]\n",
       "     \n",
       "\u001b[0;31mFile:\u001b[0m      /global/cfs/cdirs/desc-sn/dia/data/shl159/fake_injection/flux_offset/injection_utils.py\n",
       "\u001b[0;31mType:\u001b[0m      function\n"
      ]
     },
     "metadata": {},
     "output_type": "display_data"
    }
   ],
   "source": [
    "?iu.check_diaSrc_detecion"
   ]
  },
  {
   "cell_type": "code",
   "execution_count": 26,
   "metadata": {},
   "outputs": [],
   "source": [
    "mag_list = ['205','210','215','220']\n",
    "mag_range = np.arange(20.5, 22.5, 0.5)\n",
    "src_repo_pattern = '/global/cfs/cdirs/desc-sn/dia/data/shl159/fake_injection/flux_offset/data/al_{}'\n",
    "forced_repo_pattern = '/global/cfs/cdirs/desc-sn/dia/data/shl159/fake_injection/flux_offset/data/al_{}/rerun/association/rerun/forced'\n",
    "results, efficiency = measure_flux(coord=injection_coord, mag_list=mag_list, mag_range=mag_range,\n",
    "                                   src_repo_pattern=src_repo_pattern, forced_repo_pattern=forced_repo_pattern,\n",
    "                                   diff_id=calexp_id)\n",
    "results.to_csv('results.csv', index=False)\n",
    "np.save('./efficiency.npy', efficiency)"
   ]
  },
  {
   "cell_type": "code",
   "execution_count": 27,
   "metadata": {},
   "outputs": [],
   "source": [
    "results = pd.read_csv('./results.csv')\n",
    "efficiency = np.load('./efficiency.npy')"
   ]
  },
  {
   "cell_type": "markdown",
   "metadata": {},
   "source": [
    "## 6. Plots"
   ]
  },
  {
   "cell_type": "code",
   "execution_count": 28,
   "metadata": {},
   "outputs": [],
   "source": [
    "def plot_residual(ax, flux1, flux2, xlabel, ylabel, title):\n",
    "    residual = (flux2 - flux1) / flux1\n",
    "    ax.scatter(flux1, residual, marker='.')\n",
    "    xlims = ax.get_xlim()\n",
    "    ylims = ax.get_ylim()\n",
    "    ax.hlines(y=0, xmin=xlims[0], xmax=xlims[1], color='gray')\n",
    "    ax.set_ylim(-np.max(np.abs(ylims)), np.max(np.abs(ylims)))\n",
    "    ax.set_xlabel(xlabel, size=15)\n",
    "    ax.set_ylabel(ylabel, size=15)\n",
    "    ax.set_title(title, size=15) \n",
    "    \n",
    "def show_residual(results, fake_mag_range, host_mag_range):\n",
    "    fig, ax = plt.subplots(1, 3, figsize=((25, 6)))\n",
    "    plot_residual(ax[0], results['flux_src'], results['flux_forced'],\n",
    "                  'flux: diaSrc (nJy)', '(flux_Forced - flux_diaSrc) / flux_diaSrc',\n",
    "                  'forced vs. src, fake {}, host {}'.format(fake_mag_range, host_mag_range))\n",
    "    plot_residual(ax[1], results['flux_injected'], results['flux_forced'],\n",
    "                  'flux: injected (nJy)', '(flux_Forced - flux_injected) / flux_injected',\n",
    "                  'forced vs. injected, fake {}, host {}'.format(fake_mag_range, host_mag_range))\n",
    "    plot_residual(ax[2], results['flux_injected'], results['flux_src'],\n",
    "                  'flux: injected (nJy)', '(flux_src - flux_injected) / flux_injected',\n",
    "                  'diaSrc vs. injected, fake {}, host {}'.format(fake_mag_range, host_mag_range))"
   ]
  },
  {
   "cell_type": "code",
   "execution_count": 31,
   "metadata": {},
   "outputs": [
    {
     "data": {
      "image/png": "[encoded data removed]",
      "text/plain": [
       "<Figure size 1800x432 with 3 Axes>"
      ]
     },
     "metadata": {
      "needs_background": "light"
     },
     "output_type": "display_data"
    }
   ],
   "source": [
    "show_residual(results, host_mag_range='18 - 20', fake_mag_range='20.5 - 22')"
   ]
  },
  {
   "cell_type": "code",
   "execution_count": null,
   "metadata": {},
   "outputs": [],
   "source": []
  }
 ],
 "metadata": {
  "kernelspec": {
   "display_name": "desc-dia",
   "language": "python",
   "name": "desc-dia"
  },
  "language_info": {
   "codemirror_mode": {
    "name": "ipython",
    "version": 3
   },
   "file_extension": ".py",
   "mimetype": "text/x-python",
   "name": "python",
   "nbconvert_exporter": "python",
   "pygments_lexer": "ipython3",
   "version": "3.7.2"
  }
 },
 "nbformat": 4,
 "nbformat_minor": 4
}
