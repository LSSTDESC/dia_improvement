{
 "cells": [
  {
   "cell_type": "code",
   "execution_count": 4,
   "id": "096dee92-2eeb-40ed-aab4-6871f7217550",
   "metadata": {},
   "outputs": [
    {
     "data": {
      "text/plain": [
       "<module 'data_process_utils' from '/global/cscratch1/sd/shl159/projects/fake_injection_summer_2022/dia_improvement/devel/data_process_utils.py'>"
      ]
     },
     "execution_count": 4,
     "metadata": {},
     "output_type": "execute_result"
    }
   ],
   "source": [
    "import glob\n",
    "import pandas as pd\n",
    "import sqlite3\n",
    "import matplotlib.pyplot as plt\n",
    "import numpy as np\n",
    "from lsst.daf.persistence import Butler\n",
    "import lsst.afw.image as afwImage\n",
    "from lsst.afw.table import BaseCatalog\n",
    "from astropy.table import vstack, Table\n",
    "from astropy.visualization import ZScaleInterval\n",
    "from astropy.coordinates import SkyCoord\n",
    "from astropy import units as u\n",
    "import data_process_utils as dpu\n",
    "import imp\n",
    "imp.reload(dpu) "
   ]
  },
  {
   "cell_type": "code",
   "execution_count": 5,
   "id": "986669f6-f8f9-474f-ace8-f00c21db7e33",
   "metadata": {},
   "outputs": [],
   "source": [
    "interval = ZScaleInterval()"
   ]
  },
  {
   "cell_type": "code",
   "execution_count": 6,
   "id": "fa7d75a7-9c85-41d3-8599-024f4a95a03c",
   "metadata": {},
   "outputs": [
    {
     "name": "stdout",
     "output_type": "stream",
     "text": [
      "/global/cscratch1/sd/shl159/projects/fake_injection_summer_2022/dia_improvement/devel\n"
     ]
    }
   ],
   "source": [
    "!pwd"
   ]
  },
  {
   "cell_type": "code",
   "execution_count": 7,
   "id": "2a6d75ce-25b5-4055-9936-dadf4876486a",
   "metadata": {},
   "outputs": [],
   "source": [
    "psf_table = Table.read('psf_table.csv', format='ascii.csv')"
   ]
  },
  {
   "cell_type": "code",
   "execution_count": 8,
   "id": "05595f0f-3b49-4a17-9d04-e05088edd559",
   "metadata": {},
   "outputs": [
    {
     "data": {
      "text/plain": [
       "70"
      ]
     },
     "execution_count": 8,
     "metadata": {},
     "output_type": "execute_result"
    }
   ],
   "source": [
    "len(psf_table)"
   ]
  },
  {
   "cell_type": "code",
   "execution_count": 9,
   "id": "1823ddbc-28ef-4cdd-9454-639cf537ac31",
   "metadata": {},
   "outputs": [],
   "source": [
    "psf_table['psf_ratio'] = (psf_table['calexp_fwhm'] - psf_table['coadd_fwhm']) / psf_table['coadd_fwhm']    "
   ]
  },
  {
   "cell_type": "code",
   "execution_count": 10,
   "id": "9d4ca230-0591-445b-a401-a64651c74745",
   "metadata": {},
   "outputs": [
    {
     "data": {
      "text/plain": [
       "30"
      ]
     },
     "execution_count": 10,
     "metadata": {},
     "output_type": "execute_result"
    }
   ],
   "source": [
    "len(psf_table[psf_table['psf_ratio']>=0])"
   ]
  },
  {
   "cell_type": "code",
   "execution_count": 11,
   "id": "344fad1a-0a45-48f4-b5d2-359609ba3616",
   "metadata": {},
   "outputs": [
    {
     "data": {
      "text/plain": [
       "16"
      ]
     },
     "execution_count": 11,
     "metadata": {},
     "output_type": "execute_result"
    }
   ],
   "source": [
    "len(psf_table[np.logical_and(psf_table['psf_ratio']<0, psf_table['psf_ratio']>=-0.05)])"
   ]
  },
  {
   "cell_type": "code",
   "execution_count": 12,
   "id": "35b7e70e-f8d9-408c-98a5-815ec5b06f5f",
   "metadata": {},
   "outputs": [
    {
     "data": {
      "text/plain": [
       "24"
      ]
     },
     "execution_count": 12,
     "metadata": {},
     "output_type": "execute_result"
    }
   ],
   "source": [
    "len(psf_table[psf_table['psf_ratio']<-0.05])"
   ]
  },
  {
   "cell_type": "code",
   "execution_count": 13,
   "id": "2eeaade6-3009-44f5-9929-c1f593026e0c",
   "metadata": {},
   "outputs": [],
   "source": [
    "base_flags = ['base_PixelFlags_flag_saturated', 'base_PixelFlags_flag_saturatedCenter', 'base_PixelFlags_flag_suspect',\n",
    "              'base_PixelFlags_flag_suspectCenter', 'base_PixelFlags_flag_offimage', 'base_PixelFlags_flag_edge',\n",
    "              'base_PixelFlags_flag_bad', 'base_NaiveCentroid_flag']\n",
    "dipole_flags = ['ip_diffim_DipoleFit_flag_classification', 'ip_diffim_DipoleFit_flag_classificationAttempted']\n",
    "full_detections = Table.read('full_detections.csv', format='ascii.csv')\n",
    "for flag in (base_flags+dipole_flags):\n",
    "    full_detections[flag] = (full_detections[flag].data == 'True')"
   ]
  },
  {
   "cell_type": "code",
   "execution_count": 14,
   "id": "58f2da38-89e7-4d50-8801-e980a48fa21c",
   "metadata": {},
   "outputs": [
    {
     "data": {
      "text/plain": [
       "3788"
      ]
     },
     "execution_count": 14,
     "metadata": {},
     "output_type": "execute_result"
    }
   ],
   "source": [
    "len(full_detections)"
   ]
  },
  {
   "cell_type": "code",
   "execution_count": 15,
   "id": "3248d234-ded1-40ab-9a36-4fc81ff9bc98",
   "metadata": {},
   "outputs": [
    {
     "name": "stderr",
     "output_type": "stream",
     "text": [
      "/opt/lsst/software/stack/python/miniconda3-4.7.10/envs/lsst-scipipe-4d7b902/lib/python3.7/site-packages/astropy/table/column.py:991: RuntimeWarning: invalid value encountered in less\n",
      "  result = getattr(super(), op)(other)\n"
     ]
    }
   ],
   "source": [
    "full_detections['psf_ratio'] = (full_detections['calexp_fwhm'] - full_detections['coadd_fwhm']) / full_detections['coadd_fwhm']\n",
    "full_detections['diaSrc_snr'] = full_detections['base_PsfFlux_instFlux'] / full_detections['base_PsfFlux_instFluxErr']\n",
    "full_artifacts = full_detections[full_detections['diaSrc_snr']<60]"
   ]
  },
  {
   "cell_type": "code",
   "execution_count": 19,
   "id": "0adc9ce2-d356-4a21-ac12-5ac8ca4efee7",
   "metadata": {},
   "outputs": [],
   "source": [
    "base_rm = dpu.remove_flag_astropy(full_artifacts, flag_list=base_flags)"
   ]
  },
  {
   "cell_type": "code",
   "execution_count": 20,
   "id": "c1230474-2941-4fb0-82f7-91471e75d78c",
   "metadata": {},
   "outputs": [],
   "source": [
    "# 1134 after base flag"
   ]
  },
  {
   "cell_type": "code",
   "execution_count": 62,
   "id": "6f23ebc2-5474-4e1b-abcb-bea9b5514a3d",
   "metadata": {},
   "outputs": [
    {
     "data": {
      "text/plain": [
       "(3788, 2265, 1134)"
      ]
     },
     "execution_count": 62,
     "metadata": {},
     "output_type": "execute_result"
    }
   ],
   "source": [
    "len(full_detections), len(full_artifacts), len(base_rm)"
   ]
  },
  {
   "cell_type": "code",
   "execution_count": 63,
   "id": "c43634cb-b80d-45c6-851b-f5accc3b4dba",
   "metadata": {},
   "outputs": [
    {
     "data": {
      "text/plain": [
       "(2097, 2265)"
      ]
     },
     "execution_count": 63,
     "metadata": {},
     "output_type": "execute_result"
    }
   ],
   "source": [
    "# matched fraction\n",
    "np.sum(full_artifacts['matched_status'] == 'True'), len(full_artifacts)"
   ]
  },
  {
   "cell_type": "code",
   "execution_count": 64,
   "id": "85303d12-cb59-470b-be5b-8bca57b8f670",
   "metadata": {},
   "outputs": [
    {
     "data": {
      "text/plain": [
       "0.9258278145695364"
      ]
     },
     "execution_count": 64,
     "metadata": {},
     "output_type": "execute_result"
    }
   ],
   "source": [
    "2097 / 2265"
   ]
  },
  {
   "cell_type": "code",
   "execution_count": 65,
   "id": "bf903767-583d-4675-bcfb-6c273efe2afc",
   "metadata": {},
   "outputs": [],
   "source": [
    "# psf width\n",
    "broad = full_artifacts[full_artifacts['psf_ratio']>=0]\n",
    "near = full_artifacts[np.logical_and(full_artifacts['psf_ratio']<0, full_artifacts['psf_ratio']>=-0.05)]\n",
    "narrow = full_artifacts[full_artifacts['psf_ratio']<-0.05]"
   ]
  },
  {
   "cell_type": "code",
   "execution_count": 66,
   "id": "7c36e82e-e03e-4194-87f7-db163298a576",
   "metadata": {},
   "outputs": [
    {
     "data": {
      "text/plain": [
       "(751, 508, 1006)"
      ]
     },
     "execution_count": 66,
     "metadata": {},
     "output_type": "execute_result"
    }
   ],
   "source": [
    "len(broad), len(near), len(narrow)"
   ]
  },
  {
   "cell_type": "code",
   "execution_count": 67,
   "id": "6d38c1cb-e000-479e-84f4-527dbbb014fa",
   "metadata": {},
   "outputs": [
    {
     "data": {
      "text/plain": [
       "2265"
      ]
     },
     "execution_count": 67,
     "metadata": {},
     "output_type": "execute_result"
    }
   ],
   "source": [
    "751 + 508 + 1006"
   ]
  },
  {
   "cell_type": "code",
   "execution_count": 68,
   "id": "31ad74b8-cffa-40d6-9fb4-7231501988c0",
   "metadata": {},
   "outputs": [],
   "source": [
    "broad_base_rm = dpu.remove_flag_astropy(broad, flag_list=base_flags)\n",
    "near_base_rm = dpu.remove_flag_astropy(near, flag_list=base_flags)\n",
    "narrow_base_rm = dpu.remove_flag_astropy(narrow, flag_list=base_flags)"
   ]
  },
  {
   "cell_type": "code",
   "execution_count": 69,
   "id": "04c00204-4b53-498e-8b55-9d299ece958d",
   "metadata": {},
   "outputs": [
    {
     "data": {
      "text/plain": [
       "(417, 249, 468)"
      ]
     },
     "execution_count": 69,
     "metadata": {},
     "output_type": "execute_result"
    }
   ],
   "source": [
    "len(broad_base_rm), len(near_base_rm), len(narrow_base_rm)"
   ]
  },
  {
   "cell_type": "code",
   "execution_count": 70,
   "id": "592b2d54-4de4-483d-ae29-1e1420c1b8d0",
   "metadata": {},
   "outputs": [
    {
     "data": {
      "text/plain": [
       "1134"
      ]
     },
     "execution_count": 70,
     "metadata": {},
     "output_type": "execute_result"
    }
   ],
   "source": [
    "417 + 249 + 468"
   ]
  },
  {
   "cell_type": "code",
   "execution_count": 73,
   "id": "ded4b619-06fe-4593-9f19-44572d713dd2",
   "metadata": {},
   "outputs": [
    {
     "data": {
      "text/plain": [
       "(0.4447403462050599, 0.5098425196850394, 0.5347912524850894)"
      ]
     },
     "execution_count": 73,
     "metadata": {},
     "output_type": "execute_result"
    }
   ],
   "source": [
    "# sat fraction\n",
    "(751 - 417) / 751, (508 - 249) / 508,  (1006 - 468) / 1006"
   ]
  },
  {
   "cell_type": "code",
   "execution_count": 71,
   "id": "0e75f9c5-0a16-40e0-8769-a480d6ef566f",
   "metadata": {},
   "outputs": [],
   "source": [
    "broad_dipole_rm = dpu.remove_flag_astropy(broad_base_rm, flag_list=dipole_flags)\n",
    "near_dipole_rm = dpu.remove_flag_astropy(near_base_rm, flag_list=dipole_flags)\n",
    "narrow_dipole_rm = dpu.remove_flag_astropy(narrow_base_rm, flag_list=dipole_flags)"
   ]
  },
  {
   "cell_type": "code",
   "execution_count": 72,
   "id": "8ac1d4cd-19dc-4061-acca-98278c9275a3",
   "metadata": {},
   "outputs": [
    {
     "data": {
      "text/plain": [
       "(275, 148, 260)"
      ]
     },
     "execution_count": 72,
     "metadata": {},
     "output_type": "execute_result"
    }
   ],
   "source": [
    "len(broad_dipole_rm), len(near_dipole_rm), len(narrow_dipole_rm)"
   ]
  },
  {
   "cell_type": "code",
   "execution_count": 74,
   "id": "22a2bdac-47da-4cc1-95b5-2f45ee5d5b45",
   "metadata": {},
   "outputs": [
    {
     "data": {
      "text/plain": [
       "(0.18908122503328895, 0.19881889763779528, 0.20675944333996024)"
      ]
     },
     "execution_count": 74,
     "metadata": {},
     "output_type": "execute_result"
    }
   ],
   "source": [
    "# dipole fraction\n",
    "(417 - 275) / 751, (249 - 148) / 508,  (468 - 260) / 1006"
   ]
  },
  {
   "cell_type": "code",
   "execution_count": 75,
   "id": "924ce21b-107c-4bb6-91e0-4757a4b795c2",
   "metadata": {},
   "outputs": [
    {
     "data": {
      "text/plain": [
       "(0.36617842876165113, 0.29133858267716534, 0.2584493041749503)"
      ]
     },
     "execution_count": 75,
     "metadata": {},
     "output_type": "execute_result"
    }
   ],
   "source": [
    "# remaining fraction\n",
    "(275) / 751, (148) / 508,  (260) / 1006"
   ]
  },
  {
   "cell_type": "markdown",
   "id": "6a78964e-4489-4b9f-a295-a046991246cd",
   "metadata": {},
   "source": [
    "# unmatched"
   ]
  },
  {
   "cell_type": "code",
   "execution_count": 60,
   "id": "919146f1-3141-4555-9aae-29553c1604e9",
   "metadata": {},
   "outputs": [],
   "source": [
    "unmatched = base_rm[base_rm['matched_status'] == 'False']"
   ]
  },
  {
   "cell_type": "code",
   "execution_count": 40,
   "id": "634d0adc-fac9-402d-93d9-5ac777c59d00",
   "metadata": {},
   "outputs": [],
   "source": [
    "def display_artifacts(daiSrc_table, title):\n",
    "    fig, ax = plt.subplots(2, 2, figsize=(5, 5))\n",
    "    #fig.subplots_adjust(hspace=hspace)\n",
    "    ax_ls = ax.flat\n",
    "\n",
    "    for i, diaSrc in enumerate(daiSrc_table):\n",
    "        diff_exp = afwImage.ExposureF(diaSrc['diffexp_path'])\n",
    "        x = diaSrc['base_NaiveCentroid_x']\n",
    "        y = diaSrc['base_NaiveCentroid_y']\n",
    "        diff_stamp = dpu.make_cutout(diff_exp, x, y, cutout_size=30)\n",
    "        ax_ls[i].imshow(interval(diff_stamp.getImage().array), cmap='gray', origin='lower')\n",
    "        ax_ls[i].axis('off')\n",
    "    plt.suptitle(title, y=0.95, size=20)"
   ]
  },
  {
   "cell_type": "code",
   "execution_count": 46,
   "id": "89b64c19-6973-4f21-a93d-e726e37d6359",
   "metadata": {},
   "outputs": [
    {
     "data": {
      "image/png": "[encoded data removed]",
      "text/plain": [
       "<Figure size 360x360 with 4 Axes>"
      ]
     },
     "metadata": {
      "needs_background": "light"
     },
     "output_type": "display_data"
    }
   ],
   "source": [
    "display_artifacts(unmatched[[9,1,8,7]], 'unmatched')\n",
    "plt.savefig('6_unmatched.png', dpi=1000)"
   ]
  },
  {
   "cell_type": "code",
   "execution_count": null,
   "id": "276a5a22-7f60-4e1a-a1bd-3dc407e7ac22",
   "metadata": {},
   "outputs": [],
   "source": []
  },
  {
   "cell_type": "code",
   "execution_count": null,
   "id": "0420a257-f417-48e4-9d60-d29f72b1d089",
   "metadata": {},
   "outputs": [],
   "source": []
  }
 ],
 "metadata": {
  "kernelspec": {
   "display_name": "desc-stack",
   "language": "python",
   "name": "desc-stack"
  },
  "language_info": {
   "codemirror_mode": {
    "name": "ipython",
    "version": 3
   },
   "file_extension": ".py",
   "mimetype": "text/x-python",
   "name": "python",
   "nbconvert_exporter": "python",
   "pygments_lexer": "ipython3",
   "version": "3.7.2"
  }
 },
 "nbformat": 4,
 "nbformat_minor": 5
}
