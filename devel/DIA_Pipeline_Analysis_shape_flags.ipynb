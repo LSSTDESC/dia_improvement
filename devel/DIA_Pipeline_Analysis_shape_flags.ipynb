{
 "cells": [
  {
   "cell_type": "markdown",
   "id": "0a586942-5035-4967-b1f1-5cc03dd42345",
   "metadata": {},
   "source": [
    "if (IxxIyy < (1.0 + epsilon) * Ixy_sq)\n",
    "\n",
    "- base_SdssShape_xx\n",
    "- base_SdssShape_psf_xx\n",
    "- base_SdssShape_instFlux_xx_Cov\n",
    "\n",
    "In line 783 of [https://github.com/lsst/meas_base/blob/26961ef6c7a3bd91c4b40a0307c740244fea775e/src/SdssShape.cc#L783], we have (Ixx * Iyy < (1.0 + epsilon) * Ixy_sq). Note that IxxIyy - Ixy * Ixy is the determinant of the covariance matrix of image moments, which should be equal or biggher than 0 if all pixel values are positive. There are two conditions that (IxxIyy < (1.0 + epsilon) * Ixy_sq:\n",
    "\n",
    "1. Small variance. The deternimant is invariant under othogonal transformation. In the eigenspace of the covariance matrix, eignevalues represent pixel variances. The determinant is the multiplication of all eigenvalues. IxxIyy < (1.0 + epsilon) * Ixy_sq implied a small deternimant, which means photons are distributed near 0. (unlikely to happen.)\n",
    "\n",
    "2. Negative pixel value. If we have negative pixel values (negative probability), the covarice matrix of image of moments can have negative determinant. This may happen for artifacts."
   ]
  },
  {
   "cell_type": "code",
   "execution_count": 18,
   "id": "a3832537-815d-4960-bed1-b2c5f36b8c8f",
   "metadata": {},
   "outputs": [],
   "source": []
  },
  {
   "cell_type": "code",
   "execution_count": 9,
   "id": "fd4d9248-4dcf-41db-9550-b610695938de",
   "metadata": {},
   "outputs": [],
   "source": []
  }
 ],
 "metadata": {
  "kernelspec": {
   "display_name": "desc-stack-weekly",
   "language": "python",
   "name": "desc-stack-weekly"
  },
  "language_info": {
   "codemirror_mode": {
    "name": "ipython",
    "version": 3
   },
   "file_extension": ".py",
   "mimetype": "text/x-python",
   "name": "python",
   "nbconvert_exporter": "python",
   "pygments_lexer": "ipython3",
   "version": "3.10.5"
  }
 },
 "nbformat": 4,
 "nbformat_minor": 5
}
