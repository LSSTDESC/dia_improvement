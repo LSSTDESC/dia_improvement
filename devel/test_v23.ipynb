{
 "cells": [
  {
   "cell_type": "code",
   "execution_count": 1,
   "id": "2bce6431-2721-4c4d-abc3-b3195967df8c",
   "metadata": {},
   "outputs": [],
   "source": [
    "import sqlite3\n",
    "import numpy as np\n",
    "import pandas as pd\n",
    "import seaborn as sns\n",
    "import fakeInjectionPipeline as fip\n",
    "import glob\n",
    "import lsst.afw.image as afwImage\n",
    "from lsst.afw.table import BaseCatalog\n",
    "\n",
    "import matplotlib.pyplot as plt\n",
    "import data_process_utils as dpu\n",
    "import os"
   ]
  },
  {
   "cell_type": "code",
   "execution_count": 2,
   "id": "721c9bfb-ff9d-444e-8e96-b7bb093026e1",
   "metadata": {},
   "outputs": [
    {
     "name": "stdout",
     "output_type": "stream",
     "text": [
      "/global/cscratch1/sd/shl159/projects/fake_injection_v23/dia_improvement/devel\n"
     ]
    }
   ],
   "source": [
    "!pwd"
   ]
  },
  {
   "cell_type": "code",
   "execution_count": 3,
   "id": "14e3a64f-86bd-4471-9a24-5872a8bcb301",
   "metadata": {},
   "outputs": [],
   "source": [
    "patch_list = ['00']\n",
    "host_mag_list = ['20_21']\n",
    "fake_mag_list = [20, 21, 22, 23, 24]\n",
    "injection_db_path = ('./data/table/gal_4639/injection_coord.sqlite')\n",
    "calexp_info_dict, injection_coord_dict = fip.get_calexp_injection_dict(\n",
    "    patch_list, host_mag_list, dbpath=injection_db_path\n",
    ")\n",
    "fake_dir = ('./data/patch_0to6/injection')\n",
    "injector = fip.fakeInjectionPipeline(\n",
    "    fake_dir = fake_dir, patch_list = patch_list,\n",
    "    host_mag_list=host_mag_list, fake_mag_list=fake_mag_list,\n",
    "    calexp_info_dict=calexp_info_dict, injection_coord_dict=injection_coord_dict\n",
    ")\n"
   ]
  },
  {
   "cell_type": "code",
   "execution_count": null,
   "id": "54d2765a-d700-43df-ad81-669c79d94325",
   "metadata": {},
   "outputs": [],
   "source": []
  },
  {
   "cell_type": "code",
   "execution_count": 4,
   "id": "73d96810-3d90-4235-bf9c-04787f06d514",
   "metadata": {},
   "outputs": [],
   "source": [
    "cf_type = 'default_v23'\n",
    "\n",
    "config = f'./config/diffimConfig_al_{cf_type}.py'\n",
    "file_path = f'./al_{cf_type}.sh'\n",
    "diff_dir =  f'./data/patch_0to6/diff/al_{cf_type}'\n",
    "# injector.get_subtraction_script(diff_dir , config=config, file_path=file_path, use_slurm=False)"
   ]
  },
  {
   "cell_type": "code",
   "execution_count": 5,
   "id": "46d2db4e-9504-4881-a733-57011b78833b",
   "metadata": {},
   "outputs": [],
   "source": [
    "\"\"\"\n",
    "cf_type = 'convSci_v23'\n",
    "\n",
    "config = f'./config/diffimConfig_al_{cf_type}.py'\n",
    "file_path = f'./al_{cf_type}.sh'\n",
    "diff_dir =  f'./data/patch_0to6/diff/al_{cf_type}'\n",
    "injector.get_subtraction_script(diff_dir , config=config, file_path=file_path, use_slurm=False)\n",
    "\"\"\";"
   ]
  },
  {
   "cell_type": "code",
   "execution_count": null,
   "id": "30e0c9e7-e9b0-41ba-b26c-79d17f33ce74",
   "metadata": {},
   "outputs": [],
   "source": []
  },
  {
   "cell_type": "code",
   "execution_count": 6,
   "id": "ddece10d-6566-4975-835d-85314045107b",
   "metadata": {},
   "outputs": [],
   "source": [
    "def get_detection(diff_dir, fake_mag_list = [20, 21, 22, 23, 24]):\n",
    "    diff_path_pattern = diff_dir +  f'/*/diff_20/*/*/*/*diffexp*.fits'\n",
    "    diffexp_path_list = glob.glob(diff_path_pattern)\n",
    "    detection_df = pd.DataFrame()\n",
    "    for idx, diffexp_path_tmpt in enumerate(diffexp_path_list):\n",
    "\n",
    "        data_coord = diffexp_path_tmpt.split('/')[5].split('_')\n",
    "        visit, det, filt = int(data_coord[3]), int(data_coord[4]), str(data_coord[5])\n",
    "        injected_coord = injection_coord_dict[f'00_20_21_{visit}_{det}_{filt}']\n",
    "        for fake_id, fake_mag in enumerate(fake_mag_list):\n",
    "\n",
    "            calexp_tmpt = (f'./data/patch_0to6/injection/00_20_21_{visit}_{det}_{filt}'\n",
    "                           f'/fake_{fake_mag}/calexp/*/*/*.fits')\n",
    "            calexp_path = glob.glob(calexp_tmpt)[0]\n",
    "            diffexp_path = diffexp_path_tmpt.replace('diff_20', f'diff_{fake_mag}')\n",
    "            diaSrc_path =  diffexp_path.replace('diffexp', 'diaSrc')\n",
    "\n",
    "            calexp = afwImage.ExposureF(calexp_path)\n",
    "            photo_calib = calexp.getPhotoCalib()\n",
    "            diffexp = afwImage.ExposureF(diffexp_path)\n",
    "            diaSrc = BaseCatalog.readFits(diaSrc_path)\n",
    "            diaSrc_df = diaSrc.asAstropy().to_pandas()\n",
    "\n",
    "            detected_coord = diaSrc_df.loc[:, ['base_NaiveCentroid_x', 'base_NaiveCentroid_y']].to_numpy()\n",
    "            matched_status, matched_id = dpu.two_direction_match(injected_coord, detected_coord, radius=4)\n",
    "            fakeSrc_df = diaSrc_df.loc[matched_id].reset_index(drop=True)\n",
    "            fakeSrc_df['matched_status'] = matched_status\n",
    "\n",
    "            injected_mag_col = np.repeat(fake_mag, len(fakeSrc_df))\n",
    "            injected_instflux = photo_calib.magnitudeToInstFlux(fake_mag)\n",
    "\n",
    "            injected_instflux_col = np.repeat(injected_instflux, len(fakeSrc_df))\n",
    "            visit_col = np.repeat(visit, len(fakeSrc_df))\n",
    "            det_col = np.repeat(det, len(fakeSrc_df))\n",
    "            filt_col = np.repeat(filt, len(fakeSrc_df))\n",
    "            calexp_path_col = np.repeat(calexp_path, len(fakeSrc_df))\n",
    "            diffexp_path_col = np.repeat(diffexp_path, len(fakeSrc_df))\n",
    "            diaSrc_path_col = np.repeat(diaSrc_path, len(fakeSrc_df))\n",
    "            diffexp_info_df = pd.DataFrame(data = {'injected_mag': injected_mag_col, 'injected_instflux': injected_instflux_col,\n",
    "                                                   'visit': visit_col, 'detector': det_col, 'filter': filt_col,\n",
    "                                                   'calexp_path': calexp_path_col,\n",
    "                                                   'diffexp_path': diffexp_path_col, 'diaSrc_path': diaSrc_path_col})\n",
    "            joint_info_df = pd.concat([fakeSrc_df, diffexp_info_df], axis=1)\n",
    "            detection_df = pd.concat([detection_df, joint_info_df], axis=0, ignore_index=True)\n",
    "    return detection_df\n",
    "        "
   ]
  },
  {
   "cell_type": "code",
   "execution_count": 7,
   "id": "9595ff22-0c6a-438e-b81a-37bcf9a6bbaa",
   "metadata": {},
   "outputs": [],
   "source": [
    "\"\"\"\n",
    "cf_type = 'default_v23'\n",
    "diff_dir =  f'./data/patch_0to6/diff/al_{cf_type}'\n",
    "detv23 = get_detection(diff_dir)\n",
    "detv23.to_csv('detv23.csv', index=False)\n",
    "\n",
    "cf_type = 'convSci_v23'\n",
    "diff_dir =  f'./data/patch_0to6/diff/al_{cf_type}'\n",
    "detv23_convSci = get_detection(diff_dir)\n",
    "detv23_convSci.to_csv('detv23_convSci.csv', index=False)\n",
    "\"\"\";"
   ]
  },
  {
   "cell_type": "code",
   "execution_count": 8,
   "id": "17cc4f85-3342-4346-bb54-50f3adcc76dc",
   "metadata": {},
   "outputs": [],
   "source": []
  },
  {
   "cell_type": "code",
   "execution_count": 8,
   "id": "d730dd20-838e-41e2-8eb8-9e938e12bed3",
   "metadata": {},
   "outputs": [],
   "source": [
    "detv23 = pd.read_csv('./detv23.csv')\n",
    "detv23_convSci = pd.read_csv('./detv23_convSci.csv')\n",
    "\n",
    "conn = sqlite3.connect('/global/cscratch1/sd/shl159/projects/fake_injection_summer_2022/dia_improvement/devel'\n",
    "                       '/data/patch_0to6/diff/al_default/detection/detection.sqlite')\n",
    "query = \"SELECT * FROM fake_src WHERE host_mag='20_21' AND patch='00'\"\n",
    "detv20 = pd.read_sql_query(query, conn)\n"
   ]
  },
  {
   "cell_type": "code",
   "execution_count": 9,
   "id": "a2b126ba-e634-46ef-ac5b-b9f6070f84fc",
   "metadata": {},
   "outputs": [],
   "source": [
    "def cal_eff(df, mag_name, fake_mag_list = [20, 21, 22, 23, 24]):\n",
    "    eff_list = []\n",
    "    for fake_mag in fake_mag_list:\n",
    "        fakes = df.loc[df[f'{mag_name}'].astype(int)==fake_mag]\n",
    "        fakes_det = fakes.loc[fakes['matched_status'].astype(bool)]\n",
    "        eff = len(fakes_det) / len(fakes)\n",
    "        eff_list.append(eff)\n",
    "    return eff_list\n",
    "    "
   ]
  },
  {
   "cell_type": "code",
   "execution_count": 10,
   "id": "b9be905f-b8a1-4172-acd9-86474b65b0c9",
   "metadata": {},
   "outputs": [],
   "source": [
    "# calculate effciency\n",
    "eff_v20 = cal_eff(detv20, 'fake_mag')\n",
    "eff_v23 = cal_eff(detv23, 'injected_mag')\n",
    "eff_v23_convSci = cal_eff(detv23_convSci, 'injected_mag')"
   ]
  },
  {
   "cell_type": "code",
   "execution_count": null,
   "id": "824c7f50-783d-4172-9773-8f7095cd930c",
   "metadata": {},
   "outputs": [],
   "source": []
  },
  {
   "cell_type": "code",
   "execution_count": 11,
   "id": "6b8ccea5-a83f-4bde-96ba-44a1984cdb3f",
   "metadata": {},
   "outputs": [],
   "source": [
    "# calculate residual\n",
    "\n",
    "det20_v23 = detv23.loc[detv23['injected_mag']==20].reset_index()\n",
    "det20_v23_convSci = detv23_convSci.loc[detv23_convSci['injected_mag']==20].reset_index()\n",
    "det20_v20 = detv20.loc[np.logical_and(detv20['matched_status'].astype(bool), detv20['fake_mag'].astype(int)==20)].reset_index()\n",
    "\n",
    "res_v23 = (det20_v23['base_PsfFlux_instFlux'] - det20_v23['injected_instflux']) /  det20_v23['injected_instflux']\n",
    "res_v23_convSci = (det20_v23_convSci['base_PsfFlux_instFlux'] - det20_v23_convSci['injected_instflux']) /  det20_v23_convSci['injected_instflux']\n",
    "res_v20 = (det20_v20['base_PsfFlux_instFlux'] - det20_v20['injected_instFlux']) / det20_v20['injected_instFlux']"
   ]
  },
  {
   "cell_type": "code",
   "execution_count": null,
   "id": "749f3ee8-7c5b-4d2b-a101-9f3ed5c3b1a1",
   "metadata": {},
   "outputs": [],
   "source": []
  },
  {
   "cell_type": "code",
   "execution_count": 12,
   "id": "746ce944-e8e9-400f-ade3-39628401c3e8",
   "metadata": {},
   "outputs": [
    {
     "data": {
      "text/plain": [
       "(169, 169, 169)"
      ]
     },
     "execution_count": 12,
     "metadata": {},
     "output_type": "execute_result"
    }
   ],
   "source": [
    "len(res_v20), len(res_v23), len(res_v23_convSci)"
   ]
  },
  {
   "cell_type": "code",
   "execution_count": 17,
   "id": "131c2c33-872c-4aa4-9271-39cdbf476a65",
   "metadata": {},
   "outputs": [
    {
     "data": {
      "text/plain": [
       "<matplotlib.legend.Legend at 0x7fffaade3ac0>"
      ]
     },
     "execution_count": 17,
     "metadata": {},
     "output_type": "execute_result"
    },
    {
     "data": {
      "image/png": "[encoded data removed]",
      "text/plain": [
       "<Figure size 640x480 with 1 Axes>"
      ]
     },
     "metadata": {},
     "output_type": "display_data"
    }
   ],
   "source": [
    "plt.plot(fake_mag_list, eff_v20, label='v20')\n",
    "plt.plot(fake_mag_list, eff_v23, label='v23')\n",
    "plt.plot(fake_mag_list, eff_v23_convSci, label='v23, convSci')\n",
    "plt.ylim(0, 1.2)\n",
    "plt.ylabel('Efficiency')\n",
    "plt.xlabel('Injected Mag')\n",
    "plt.xticks(fake_mag_list)\n",
    "plt.legend()"
   ]
  },
  {
   "cell_type": "code",
   "execution_count": 15,
   "id": "98c6a160-3c27-44a4-9804-1ebf1a89b375",
   "metadata": {},
   "outputs": [
    {
     "data": {
      "text/plain": [
       "Text(0.5, 0.98, 'Flux Residual')"
      ]
     },
     "execution_count": 15,
     "metadata": {},
     "output_type": "execute_result"
    },
    {
     "data": {
      "image/png": "[encoded data removed]",
      "text/plain": [
       "<Figure size 1000x400 with 3 Axes>"
      ]
     },
     "metadata": {},
     "output_type": "display_data"
    }
   ],
   "source": [
    "bins = np.linspace(-0.05, 0.05, 100)\n",
    "ylim = (0, 20)\n",
    "fig, ax = plt.subplots(1, 3, figsize=(10,4))\n",
    "ax[0].hist(res_v20, bins=bins)\n",
    "ax[0].set_xlabel('residual: v20')\n",
    "ax[0].set_ylabel('Count')\n",
    "ax[0].set_ylim(ylim)\n",
    "ax[1].hist(res_v23, bins=bins)\n",
    "ax[1].set_xlabel('residual: v23')\n",
    "ax[1].set_ylim(ylim)\n",
    "ax[2].hist(res_v23_convSci)\n",
    "ax[2].set_xlabel('residual: v23, convolve science')\n",
    "ax[2].set_xlim((-2,2))\n",
    "plt.suptitle('Flux Residual')"
   ]
  },
  {
   "cell_type": "code",
   "execution_count": null,
   "id": "4985df35-559e-4dcf-ac4c-d153388b6de1",
   "metadata": {},
   "outputs": [],
   "source": []
  },
  {
   "cell_type": "code",
   "execution_count": null,
   "id": "9278abdd-66ac-42e8-b9c7-0567e211e040",
   "metadata": {},
   "outputs": [],
   "source": []
  },
  {
   "cell_type": "code",
   "execution_count": null,
   "id": "d287ba5e-70c9-4473-b40d-16da27c7e4ee",
   "metadata": {},
   "outputs": [],
   "source": []
  },
  {
   "cell_type": "code",
   "execution_count": null,
   "id": "9d3a0139-05d1-48bf-9b98-7e8492b2f393",
   "metadata": {},
   "outputs": [],
   "source": []
  },
  {
   "cell_type": "code",
   "execution_count": null,
   "id": "cfdb5e40-0af1-49b2-8556-b79a6ee755be",
   "metadata": {},
   "outputs": [],
   "source": []
  },
  {
   "cell_type": "code",
   "execution_count": null,
   "id": "3df07e67-2fa7-40c8-b81c-9c9e1675ebfb",
   "metadata": {},
   "outputs": [],
   "source": []
  },
  {
   "cell_type": "code",
   "execution_count": 3,
   "id": "bd402553-2241-491c-bafb-e61359fc25cd",
   "metadata": {},
   "outputs": [],
   "source": [
    "# flux_dir = f'./data/patch_0to6/diff/al_{cf_type}/detection'\n",
    "# injector.get_detection(diff_dir=diff_dir, flux_dir=flux_dir, db_name=f'detection.sqlite')"
   ]
  },
  {
   "cell_type": "code",
   "execution_count": null,
   "id": "7fd288ca-e54c-4e1d-a929-260113f415e8",
   "metadata": {},
   "outputs": [],
   "source": []
  },
  {
   "cell_type": "code",
   "execution_count": null,
   "id": "c79a5bad-4354-46ed-979c-71340f33b838",
   "metadata": {},
   "outputs": [],
   "source": []
  },
  {
   "cell_type": "code",
   "execution_count": null,
   "id": "98c527dd-9444-484f-9323-275102cf2777",
   "metadata": {},
   "outputs": [],
   "source": []
  },
  {
   "cell_type": "code",
   "execution_count": null,
   "id": "a664c152-1127-41d7-94c7-f0a1dd046d80",
   "metadata": {},
   "outputs": [],
   "source": []
  },
  {
   "cell_type": "code",
   "execution_count": null,
   "id": "77d1c3b6-ede3-49bb-8ab9-07e85dee56c3",
   "metadata": {},
   "outputs": [],
   "source": []
  },
  {
   "cell_type": "code",
   "execution_count": null,
   "id": "7f327729-8bcd-48f5-a51f-d50961fd5d48",
   "metadata": {},
   "outputs": [],
   "source": [
    "conn = sqlite3.connect(f'./data/patch_0to6/diff/al_{config}/detection/detection.sqlite')\n",
    "query = 'SELECT * FROM fake_src'\n",
    "fake_src_df = pd.read_sql_query(query, conn)"
   ]
  },
  {
   "cell_type": "code",
   "execution_count": null,
   "id": "1a295762-50f9-4a61-b37d-2846e1f9a9ab",
   "metadata": {},
   "outputs": [],
   "source": []
  },
  {
   "cell_type": "code",
   "execution_count": null,
   "id": "8d296da8-6787-4104-bd13-1de7fb0b9638",
   "metadata": {},
   "outputs": [],
   "source": []
  },
  {
   "cell_type": "code",
   "execution_count": null,
   "id": "a454d8ff-4f68-48f9-88d6-bb8c2b19f916",
   "metadata": {},
   "outputs": [],
   "source": []
  },
  {
   "cell_type": "code",
   "execution_count": null,
   "id": "577afaca-1f70-4aa1-a204-d69dac2dcc63",
   "metadata": {},
   "outputs": [],
   "source": []
  },
  {
   "cell_type": "code",
   "execution_count": null,
   "id": "1117c609-aa85-418a-9315-b172f91ce238",
   "metadata": {},
   "outputs": [],
   "source": [
    "\n",
    "\n",
    "patch_list = ['00', '11', '22', '33', '44', '55', '66']\n",
    "host_mag_list = ['20_21', '21_22', '22_23', '23_24', '24_25']\n",
    "fake_mag_list = [20, 21, 22, 23, 24]\n",
    "injection_db_path = './data/table/gal_4639/injection_coord.sqlite'\n",
    "\n",
    "calexp_info_dict, injection_coord_dict = fip.get_calexp_injection_dict(\n",
    "    patch_list, host_mag_list, dbpath=injection_db_path\n",
    ")\n",
    "\n",
    "fake_dir = f'./data/patch_0to6/injection'\n",
    "\n",
    "injector = fip.fakeInjectionPipeline(\n",
    "    fake_dir = fake_dir, patch_list = patch_list,\n",
    "    host_mag_list=host_mag_list, fake_mag_list=fake_mag_list,\n",
    "    calexp_info_dict=calexp_info_dict, injection_coord_dict=injection_coord_dict\n",
    ")\n",
    "\n",
    "cf_type = 'default'\n",
    "diff_dir =  f'./data/patch_0to6/diff/al_{cf_type}'\n",
    "# flux_dir = f'./data/patch_0to6/diff/al_{cf_type}/detection'\n",
    "\n",
    "# injector.get_detection(diff_dir=diff_dir, flux_dir=flux_dir, db_name=f'detection.sqlite')\n",
    "\n",
    "flux_db_path = f'./data/patch_0to6/diff/al_{cf_type}/detection/detection.sqlite'\n",
    "coord_dir = f'./data/patch_0to6/diff/al_{cf_type}/coord'\n",
    "injector.get_detection_coord(flux_db_path, coord_dir)\n",
    "\n",
    "forced_dir = f'./data/patch_0to6/diff/al_{cf_type}/forced'\n",
    "forced_config = './config/forcedConfig.py'\n",
    "forced_path = f'./forced_al_{cf_type}.sh'\n",
    "injector.get_forced_phot_script(diff_dir, coord_dir, forced_dir, forced_config, file_path=forced_path)"
   ]
  }
 ],
 "metadata": {
  "kernelspec": {
   "display_name": "desc-stack-weekly",
   "language": "python",
   "name": "desc-stack-weekly"
  },
  "language_info": {
   "codemirror_mode": {
    "name": "ipython",
    "version": 3
   },
   "file_extension": ".py",
   "mimetype": "text/x-python",
   "name": "python",
   "nbconvert_exporter": "python",
   "pygments_lexer": "ipython3",
   "version": "3.10.5"
  }
 },
 "nbformat": 4,
 "nbformat_minor": 5
}
