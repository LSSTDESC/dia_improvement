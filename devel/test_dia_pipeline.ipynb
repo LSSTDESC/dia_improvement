{
 "cells": [
  {
   "cell_type": "markdown",
   "id": "e0bcc884-ad84-4e81-ab06-ac7178722151",
   "metadata": {},
   "source": [
    "# 1. Repo Preparation"
   ]
  },
  {
   "cell_type": "markdown",
   "id": "91d75149-d7ca-4f3b-80ef-fe92efa9ff60",
   "metadata": {},
   "source": [
    "Install package \n",
    "- obs_lsst: git clone https://github.com/lsst/obs_lsst.git\n",
    "\n",
    "Checkout proper commit:\n",
    "\n",
    "```\n",
    "cd obs_lsst\n",
    "git checkout -b fake_test 30368a2b8c2941f1a04c704048c33e056a6af57b\n",
    "cd ..\n",
    "```\n",
    "- dia_pipe: git clone https://github.com/LSSTDESC/dia_pipe.git\n",
    "\n",
    "Checkout proper commit:\n",
    "\n",
    "```\n",
    "cd dia_pipe\n",
    "git checkout -b fake_test 8ae16a9f5e5c1e4f174626b7f1e002b9d0c69b8f\n",
    "cd ..\n",
    "```\n",
    "\n",
    "```\n",
    "commit 8ae16a9f5e5c1e4f174626b7f1e002b9d0c69b8f (HEAD, origin/#19)\n",
    "Author: Bob Armstrong <rearmstr@gmail.com>\n",
    "Date:   Tue Feb 2 14:16:07 2021 -0800\n",
    "```\n",
    "\n",
    "- pipe_task: git clone https://github.com/lsst/pipe_tasks.git\n",
    "\n",
    "Checkout proper commit:\n",
    "```\n",
    "cd pipe_tasks\n",
    "git checkout -b fake_test 7c1b45f03a170bb471028729aad273843dfa3b28\n",
    "cd ..\n",
    "```\n",
    "\n",
    "```\n",
    "HEAD -> u/wmwv/dia_apcorr, origin/u/wmwv/dia_apcorr, Actually create the applyApCorr subtask.\n",
    "```\n",
    "\n",
    "\n",
    "\n",
    "Create setup.sh\n",
    "```\n",
    "#！/bin/bash\n",
    "\n",
    "source /cvmfs/sw.lsst.eu/linux-x86_64/lsst_distrib/v20.0.0/loadLSST.bash\n",
    "setup lsst_distrib\n",
    "\n",
    "# scons only need to be done only once. \n",
    "# setup -jr dia_pipe and setup -jr pipe_tasks need to be kept.\n",
    "\n",
    "cd dia_pipe\n",
    "scons\n",
    "cd ..\n",
    "setup -jr dia_pipe\n",
    "\n",
    "cd pipe_tasks\n",
    "scons\n",
    "cd ..\n",
    "setup -jr pipe_tasks\n",
    "\n",
    "export HDF5_USE_FILE_LOCKING=FALSE\n",
    "export OMP_NUM_THREADS=1\n",
    "\n",
    "echo 'done'\n",
    "```\n",
    "In terminal, run `source setup.sh`"
   ]
  },
  {
   "cell_type": "markdown",
   "id": "8c9ab02e-1d91-44b5-bffb-29980578501f",
   "metadata": {},
   "source": [
    "# 2. Inject Fakes and Run subtraction"
   ]
  },
  {
   "cell_type": "code",
   "execution_count": 29,
   "id": "4b34ca0c-04a0-476a-b404-86035c8e9f03",
   "metadata": {},
   "outputs": [],
   "source": [
    "import fakeInjectionPipeline as fip\n",
    "\n",
    "\n",
    "patch_list = ['00']\n",
    "host_mag_list = ['20_21']\n",
    "fake_mag_list = [20]\n",
    "injection_db_path = './data/table/gal_4639/injection_coord.sqlite'\n",
    "\n",
    "# calexp_info_dict contains dataframes of visit infomation of each host magnitude bin\n",
    "# injection_coord_dict contains positions for injection\n",
    "calexp_info_dict, injection_coord_dict = fip.get_calexp_injection_dict(\n",
    "    patch_list, host_mag_list, dbpath=injection_db_path\n",
    ")\n",
    "\n",
    "# we test only one detector\n",
    "calexp_info, injection_coord = {}, {}\n",
    "calexp_info['00_20_21'] = calexp_info_dict['00_20_21'].iloc[0:1]\n",
    "injection_coord['00_20_21_1013665_79_i'] = injection_coord_dict['00_20_21_1013665_79_i'][0:4]"
   ]
  },
  {
   "cell_type": "code",
   "execution_count": null,
   "id": "cafe20a2-ba5d-4030-9ca6-e86bf07e89f2",
   "metadata": {},
   "outputs": [],
   "source": []
  },
  {
   "cell_type": "code",
   "execution_count": 30,
   "id": "1b74a2a0-114d-4b73-97ac-4febdc49683d",
   "metadata": {},
   "outputs": [],
   "source": [
    "# initialize an injector object to perform fake injection\n",
    "fake_dir = f'./data/patch_0to6/injection'\n",
    "injector = fip.fakeInjectionPipeline(\n",
    "    fake_dir = fake_dir, patch_list = patch_list,\n",
    "    host_mag_list=host_mag_list, fake_mag_list=fake_mag_list,\n",
    "    calexp_info_dict=calexp_info, injection_coord_dict=injection_coord\n",
    ")\n",
    "\n",
    "# create directories for injection\n",
    "injector.make_fake_repo()"
   ]
  },
  {
   "cell_type": "code",
   "execution_count": 31,
   "id": "54252973-c66c-4fe2-8edd-32210e323dbb",
   "metadata": {},
   "outputs": [
    {
     "name": "stdout",
     "output_type": "stream",
     "text": [
      "patch:  00\n",
      "host mag:  20_21\n",
      "\n",
      "\n",
      "injection is done\n"
     ]
    }
   ],
   "source": [
    "# inject fakes\n",
    "injector.inject_fakes(poisson=False)"
   ]
  },
  {
   "cell_type": "code",
   "execution_count": 35,
   "id": "20aeba0c-e52c-4044-97db-4015f5488342",
   "metadata": {},
   "outputs": [
    {
     "name": "stdout",
     "output_type": "stream",
     "text": [
      "please run this file: ./al_default.sh\n"
     ]
    }
   ],
   "source": [
    "# config type\n",
    "cf_type = 'default'\n",
    "\n",
    "config = f'./config/diffimConfig_al_{cf_type}.py'\n",
    "# path of the subtraction script\n",
    "file_path = f'./al_{cf_type}.sh'\n",
    "# directory of the difference image\n",
    "diff_dir =  f'./data/patch_0to6/diff/al_{cf_type}'\n",
    "# get subtraction script and run it in the terminal opened before\n",
    "injector.get_subtraction_script(diff_dir , config=config, file_path=file_path, use_slurm=False)"
   ]
  },
  {
   "cell_type": "markdown",
   "id": "5032771b-123c-4ca9-9468-da33e21747ea",
   "metadata": {
    "tags": []
   },
   "source": [
    "# 3. Get Detection Database and Perform Forced Photometry"
   ]
  },
  {
   "cell_type": "markdown",
   "id": "fee40812-6f5f-44d1-b6b9-2dcf5a82b2c9",
   "metadata": {},
   "source": [
    "After running subtraction scripts, rub the next cell to get detection"
   ]
  },
  {
   "cell_type": "code",
   "execution_count": 36,
   "id": "9e4a791d-4051-4440-9e95-76c733dd1f13",
   "metadata": {},
   "outputs": [
    {
     "name": "stdout",
     "output_type": "stream",
     "text": [
      "patch 00, visit 1013665, filter i, detector 79, fake mag 20\n",
      "\n",
      "\n",
      "detection results are saved in ./data/patch_0to6/diff/al_default/detection/detection.sqlite\n",
      "fake_src contains the fake information, and artifact contains the artifact information\n"
     ]
    }
   ],
   "source": [
    "# directory of detection database\n",
    "flux_dir = f'./data/patch_0to6/diff/al_{cf_type}/detection'\n",
    "injector.get_detection(diff_dir=diff_dir, flux_dir=flux_dir, db_name=f'detection.sqlite')"
   ]
  },
  {
   "cell_type": "code",
   "execution_count": 37,
   "id": "d9e419ba-1f2b-4faf-8391-5fc05d061c49",
   "metadata": {},
   "outputs": [
    {
     "name": "stdout",
     "output_type": "stream",
     "text": [
      "forced photometry coordinates are saved in ./data/patch_0to6/diff/al_default/coord\n"
     ]
    }
   ],
   "source": [
    "# extract detected positions for forced photometry\n",
    "flux_db_path = f'./data/patch_0to6/diff/al_{cf_type}/detection/detection.sqlite'\n",
    "coord_dir = f'./data/patch_0to6/diff/al_{cf_type}/coord'\n",
    "injector.get_detection_coord(flux_db_path, coord_dir)"
   ]
  },
  {
   "cell_type": "code",
   "execution_count": 38,
   "id": "d89745ee-da99-4426-bb09-744c4923cb8c",
   "metadata": {},
   "outputs": [
    {
     "name": "stdout",
     "output_type": "stream",
     "text": [
      "patch:  00\n",
      "host mag:  20_21\n",
      "\n",
      "\n",
      "please run this file: ./forced_al_default.sh\n"
     ]
    }
   ],
   "source": [
    "# directory of forced photometry results\n",
    "forced_dir = f'./data/patch_0to6/diff/al_{cf_type}/forced'\n",
    "forced_config = './config/forcedConfig.py'\n",
    "# path of the forced photometry script\n",
    "forced_path = f'./forced_al_{cf_type}.sh'\n",
    "injector.get_forced_phot_script(diff_dir, coord_dir, forced_dir, forced_config, file_path=forced_path)"
   ]
  },
  {
   "cell_type": "code",
   "execution_count": 39,
   "id": "41a082f9-ec4d-4ca7-8498-bed33b8439ac",
   "metadata": {},
   "outputs": [
    {
     "name": "stderr",
     "output_type": "stream",
     "text": [
      "WARNING: hdu= was not specified but multiple tables are present, reading in first available table (hdu=1) [astropy.io.fits.connect]\n"
     ]
    }
   ],
   "source": [
    "# after performing forced photometry, we save the results to a database called forced sqlite\n",
    "injector.get_forced_db(coord_dir, forced_dir, db_name='forced.sqlite')"
   ]
  },
  {
   "cell_type": "markdown",
   "id": "24e91e35-b485-4056-b8c1-738080b6049b",
   "metadata": {},
   "source": [
    "# 4. Visualizaiton"
   ]
  },
  {
   "cell_type": "code",
   "execution_count": 53,
   "id": "42ef9b51-0a52-4644-8bdd-7f585c436614",
   "metadata": {},
   "outputs": [],
   "source": [
    "import seaborn as sns \n",
    "import sqlite3\n",
    "import numpy as np\n",
    "import pandas as pd"
   ]
  },
  {
   "cell_type": "code",
   "execution_count": 42,
   "id": "b4c1f234-dc3c-4801-ac35-98179581952a",
   "metadata": {},
   "outputs": [],
   "source": [
    "conn = sqlite3.connect('./data/patch_0to6/diff/al_default/detection/detection.sqlite')\n",
    "query = 'SELECT * FROM fake_src'\n",
    "fake_src_df = pd.read_sql_query(query, conn)"
   ]
  },
  {
   "cell_type": "code",
   "execution_count": null,
   "id": "72ba8325-d1e6-45eb-9d39-45cc1d022b85",
   "metadata": {},
   "outputs": [],
   "source": []
  },
  {
   "cell_type": "code",
   "execution_count": 71,
   "id": "79f35b42-738c-46bc-9945-a86af4cd893f",
   "metadata": {},
   "outputs": [
    {
     "data": {
      "text/plain": [
       "<matplotlib.axes._subplots.AxesSubplot at 0x7fff730b9748>"
      ]
     },
     "execution_count": 71,
     "metadata": {},
     "output_type": "execute_result"
    },
    {
     "data": {
      "image/png": "[encoded data removed]",
      "text/plain": [
       "<Figure size 432x288 with 1 Axes>"
      ]
     },
     "metadata": {
      "needs_background": "light"
     },
     "output_type": "display_data"
    }
   ],
   "source": [
    "sns.lineplot(data=fake_src_df, x='injected_instFlux', y='base_PsfFlux_instFlux')"
   ]
  },
  {
   "cell_type": "code",
   "execution_count": 72,
   "id": "900a4c8b-4ae4-49da-97ae-95bb5271be05",
   "metadata": {},
   "outputs": [],
   "source": [
    "forced_db = ('./data/patch_0to6/diff/al_default/forced/forced.sqlite')\n",
    "conn = sqlite3.connect(forced_db)\n",
    "forced_flux = pd.read_sql_query('SELECT * FROM forced', conn)"
   ]
  },
  {
   "cell_type": "code",
   "execution_count": 73,
   "id": "60c1d11c-3fd6-4f04-8e89-a25504257d33",
   "metadata": {},
   "outputs": [
    {
     "data": {
      "text/plain": [
       "<matplotlib.axes._subplots.AxesSubplot at 0x7fff733ef358>"
      ]
     },
     "execution_count": 73,
     "metadata": {},
     "output_type": "execute_result"
    },
    {
     "data": {
      "image/png": "[encoded data removed]",
      "text/plain": [
       "<Figure size 432x288 with 1 Axes>"
      ]
     },
     "metadata": {
      "needs_background": "light"
     },
     "output_type": "display_data"
    }
   ],
   "source": [
    "sns.scatterplot(x=forced_flux['base_PsfFlux_instFlux_diaSrc'], y=forced_flux['base_PsfFlux_instFlux_forced'])"
   ]
  },
  {
   "cell_type": "code",
   "execution_count": null,
   "id": "bf5ad79d-ffe6-4804-9b62-b84cd733edab",
   "metadata": {},
   "outputs": [],
   "source": []
  }
 ],
 "metadata": {
  "kernelspec": {
   "display_name": "desc-stack",
   "language": "python",
   "name": "desc-stack"
  },
  "language_info": {
   "codemirror_mode": {
    "name": "ipython",
    "version": 3
   },
   "file_extension": ".py",
   "mimetype": "text/x-python",
   "name": "python",
   "nbconvert_exporter": "python",
   "pygments_lexer": "ipython3",
   "version": "3.7.2"
  }
 },
 "nbformat": 4,
 "nbformat_minor": 5
}
