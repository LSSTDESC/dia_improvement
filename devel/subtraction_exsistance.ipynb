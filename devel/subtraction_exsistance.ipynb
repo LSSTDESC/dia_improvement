{
 "cells": [
  {
   "cell_type": "code",
   "execution_count": 22,
   "id": "5abcea01-f55b-4f2a-9320-e2e38d7e1022",
   "metadata": {},
   "outputs": [
    {
     "data": {
      "text/plain": [
       "<module 'fakeInjectionPipeline' from '/global/cscratch1/sd/shl159/projects/fake_injection_summer_2022/dia_improvement/devel/fakeInjectionPipeline.py'>"
      ]
     },
     "execution_count": 22,
     "metadata": {},
     "output_type": "execute_result"
    }
   ],
   "source": [
    "import os\n",
    "import fakeInjectionPipeline as fip\n",
    "import imp\n",
    "imp.reload(fip)"
   ]
  },
  {
   "cell_type": "markdown",
   "id": "71fc499e-8f1a-48b0-b567-16c3a9bcec4b",
   "metadata": {},
   "source": [
    "    Sometime image subtractions with slurm can fail. We need to check the exsistance of difference images. For failed subtractions, we need to submit jobs for them again. If a job cannot run with slurm, we have to run it locally. Corresponding code for submitting jobs can be found from subtraction scripts."
   ]
  },
  {
   "cell_type": "code",
   "execution_count": 18,
   "id": "c923000e-c4a1-419f-9f1c-6bb077b9f7d2",
   "metadata": {},
   "outputs": [],
   "source": [
    "patch_list = ['00', '11', '22', '33', '44', '55', '66']\n",
    "host_mag_list = ['20_21', '21_22', '22_23', '23_24', '24_25']\n",
    "\n",
    "calexp_info_dict, injection_coord_dict = fip.get_calexp_injection_dict(patch_list, host_mag_list, dbpath='./data/table/gal_4639/injection_coord.sqlite')"
   ]
  },
  {
   "cell_type": "markdown",
   "id": "1b148527-7054-4f4e-a0c8-4b31dd803bfd",
   "metadata": {},
   "source": [
    "#### check faint end"
   ]
  },
  {
   "cell_type": "code",
   "execution_count": 26,
   "id": "069e5738-e2ca-4324-b6a2-b6a9cd7036e0",
   "metadata": {},
   "outputs": [
    {
     "name": "stdout",
     "output_type": "stream",
     "text": [
      "./data/patch_0to6/diff_faint/al_default/11_23_24_1229686_22_i/diff_239/deepDiff\n",
      "./data/patch_0to6/diff_faint/al_default/11_23_24_1229686_22_i/diff_240/deepDiff\n",
      "./data/patch_0to6/diff_faint/al_default/11_23_24_915757_129_i/diff_230/deepDiff\n",
      "./data/patch_0to6/diff_faint/al_default/11_23_24_915757_129_i/diff_231/deepDiff\n",
      "./data/patch_0to6/diff_faint/al_default/11_23_24_915757_129_i/diff_232/deepDiff\n",
      "./data/patch_0to6/diff_faint/al_default/11_23_24_915757_129_i/diff_233/deepDiff\n",
      "./data/patch_0to6/diff_faint/al_default/11_23_24_915757_129_i/diff_234/deepDiff\n",
      "./data/patch_0to6/diff_faint/al_default/11_23_24_915757_129_i/diff_235/deepDiff\n",
      "./data/patch_0to6/diff_faint/al_default/11_23_24_915757_129_i/diff_236/deepDiff\n",
      "./data/patch_0to6/diff_faint/al_default/11_23_24_915757_129_i/diff_237/deepDiff\n",
      "./data/patch_0to6/diff_faint/al_default/11_23_24_915757_129_i/diff_238/deepDiff\n",
      "./data/patch_0to6/diff_faint/al_default/11_23_24_915757_129_i/diff_239/deepDiff\n",
      "./data/patch_0to6/diff_faint/al_default/11_23_24_915757_129_i/diff_240/deepDiff\n",
      "./data/patch_0to6/diff_faint/al_default/11_23_24_421694_80_i/diff_230/deepDiff\n",
      "./data/patch_0to6/diff_faint/al_default/11_23_24_421694_80_i/diff_231/deepDiff\n",
      "./data/patch_0to6/diff_faint/al_default/11_23_24_421694_80_i/diff_232/deepDiff\n",
      "./data/patch_0to6/diff_faint/al_default/11_23_24_421694_80_i/diff_233/deepDiff\n",
      "./data/patch_0to6/diff_faint/al_default/11_23_24_421694_80_i/diff_234/deepDiff\n",
      "./data/patch_0to6/diff_faint/al_default/11_23_24_421694_80_i/diff_235/deepDiff\n",
      "./data/patch_0to6/diff_faint/al_default/11_23_24_421694_80_i/diff_236/deepDiff\n",
      "./data/patch_0to6/diff_faint/al_default/11_23_24_421694_80_i/diff_237/deepDiff\n",
      "./data/patch_0to6/diff_faint/al_default/11_23_24_421694_80_i/diff_238/deepDiff\n",
      "./data/patch_0to6/diff_faint/al_default/11_23_24_421694_80_i/diff_239/deepDiff\n",
      "./data/patch_0to6/diff_faint/al_default/11_23_24_421694_80_i/diff_240/deepDiff\n",
      "./data/patch_0to6/diff_faint/al_default/11_23_24_692613_3_i/diff_230/deepDiff\n",
      "./data/patch_0to6/diff_faint/al_default/11_23_24_692613_3_i/diff_231/deepDiff\n",
      "./data/patch_0to6/diff_faint/al_default/11_23_24_692613_3_i/diff_232/deepDiff\n",
      "./data/patch_0to6/diff_faint/al_default/11_23_24_692613_3_i/diff_233/deepDiff\n",
      "./data/patch_0to6/diff_faint/al_default/11_23_24_692613_3_i/diff_234/deepDiff\n",
      "./data/patch_0to6/diff_faint/al_default/11_23_24_692613_3_i/diff_235/deepDiff\n",
      "./data/patch_0to6/diff_faint/al_default/11_23_24_692613_3_i/diff_236/deepDiff\n",
      "./data/patch_0to6/diff_faint/al_default/11_23_24_692613_3_i/diff_237/deepDiff\n",
      "./data/patch_0to6/diff_faint/al_default/11_23_24_692613_3_i/diff_238/deepDiff\n",
      "./data/patch_0to6/diff_faint/al_default/11_23_24_692613_3_i/diff_239/deepDiff\n",
      "./data/patch_0to6/diff_faint/al_default/11_23_24_692613_3_i/diff_240/deepDiff\n",
      "./data/patch_0to6/diff_faint/al_default/11_24_25_227891_150_i/diff_230/deepDiff\n",
      "./data/patch_0to6/diff_faint/al_default/11_24_25_227891_150_i/diff_231/deepDiff\n",
      "./data/patch_0to6/diff_faint/al_default/11_24_25_227891_150_i/diff_232/deepDiff\n",
      "./data/patch_0to6/diff_faint/al_default/11_24_25_227891_150_i/diff_233/deepDiff\n",
      "./data/patch_0to6/diff_faint/al_default/11_24_25_227891_150_i/diff_234/deepDiff\n",
      "./data/patch_0to6/diff_faint/al_default/11_24_25_227891_150_i/diff_235/deepDiff\n",
      "./data/patch_0to6/diff_faint/al_default/11_24_25_227891_150_i/diff_236/deepDiff\n",
      "./data/patch_0to6/diff_faint/al_default/11_24_25_227891_150_i/diff_237/deepDiff\n",
      "./data/patch_0to6/diff_faint/al_default/11_24_25_227891_150_i/diff_238/deepDiff\n",
      "./data/patch_0to6/diff_faint/al_default/11_24_25_227891_150_i/diff_239/deepDiff\n",
      "./data/patch_0to6/diff_faint/al_default/11_24_25_227891_150_i/diff_240/deepDiff\n",
      "./data/patch_0to6/diff_faint/al_default/11_24_25_898791_131_i/diff_230/deepDiff\n",
      "./data/patch_0to6/diff_faint/al_default/11_24_25_898791_131_i/diff_231/deepDiff\n",
      "./data/patch_0to6/diff_faint/al_default/11_24_25_898791_131_i/diff_232/deepDiff\n"
     ]
    }
   ],
   "source": [
    "fake_mag_list = [23.0, 23.1, 23.2, 23.3, 23.4, 23.5, 23.6, 23.7, 23.8, 23.9, 24.0]\n",
    "diff_dir =  f'./data/patch_0to6/diff_faint/al_default'\n",
    "fip.check_exsistance(patch_list, host_mag_list, fake_mag_list, calexp_info_dict, diff_dir)"
   ]
  },
  {
   "cell_type": "markdown",
   "id": "8f2e2061-9470-49cd-9411-ad3a2918fedf",
   "metadata": {},
   "source": [
    "#### check config"
   ]
  },
  {
   "cell_type": "code",
   "execution_count": 24,
   "id": "2aa4a682-f729-4f71-9af4-a9ecd0f886e7",
   "metadata": {},
   "outputs": [],
   "source": [
    "config_list = ['al_preconv', 'al_decorr', 'al_convSci', 'al_convSciDecorr', 'al_spatial4', 'al_spatial4Pca']\n",
    "fake_mag_list = [20]"
   ]
  },
  {
   "cell_type": "code",
   "execution_count": 23,
   "id": "8957c369-964e-4549-a4ba-4d9bb6c2d883",
   "metadata": {},
   "outputs": [],
   "source": [
    "for config in config_list:\n",
    "    cf_type = config\n",
    "    diff_dir =  f'./data/patch_0to6/diff/{cf_type}'\n",
    "    fip.check_exsistance(patch_list, host_mag_list, fake_mag_list, calexp_info_dict, diff_dir)"
   ]
  },
  {
   "cell_type": "code",
   "execution_count": 9,
   "id": "26bf0f3c-23bc-4e5d-b18f-b9c689ab44d9",
   "metadata": {},
   "outputs": [],
   "source": []
  }
 ],
 "metadata": {
  "kernelspec": {
   "display_name": "desc-stack",
   "language": "python",
   "name": "desc-stack"
  },
  "language_info": {
   "codemirror_mode": {
    "name": "ipython",
    "version": 3
   },
   "file_extension": ".py",
   "mimetype": "text/x-python",
   "name": "python",
   "nbconvert_exporter": "python",
   "pygments_lexer": "ipython3",
   "version": "3.7.2"
  }
 },
 "nbformat": 4,
 "nbformat_minor": 5
}
