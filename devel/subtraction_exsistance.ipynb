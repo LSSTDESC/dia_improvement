{
 "cells": [
  {
   "cell_type": "code",
   "execution_count": 3,
   "id": "5abcea01-f55b-4f2a-9320-e2e38d7e1022",
   "metadata": {},
   "outputs": [],
   "source": [
    "import os\n",
    "import fakeInjectionPipeline as fip"
   ]
  },
  {
   "cell_type": "markdown",
   "id": "71fc499e-8f1a-48b0-b567-16c3a9bcec4b",
   "metadata": {},
   "source": [
    "    Sometime image subtractions with slurm can fail. We need to check the exsistance of difference images. For failed subtractions, we need to submit jobs for them again. Corresponding code for submitting jobs can be found from subtraction scripts."
   ]
  },
  {
   "cell_type": "code",
   "execution_count": 5,
   "id": "c923000e-c4a1-419f-9f1c-6bb077b9f7d2",
   "metadata": {},
   "outputs": [],
   "source": [
    "patch_list = ['00', '11', '22', '33', '44', '55', '66']\n",
    "host_mag_list = ['20_21', '21_22', '22_23', '23_24', '24_25']\n",
    "fake_mag_list = [20]\n",
    "host_mag_range_list = [(20, 21), (21, 22), (22,23), (23, 24), (24, 25)]\n",
    "calexp_info_dict, injection_coord_dict = fip.get_calexp_injection_dict(patch_list, host_mag_range_list, dbpath='./data/table/gal_4639/injection_coord.sqlite')\n"
   ]
  },
  {
   "cell_type": "code",
   "execution_count": 16,
   "id": "7fca9b2c-9c70-40f2-a332-38fe2200358a",
   "metadata": {},
   "outputs": [],
   "source": [
    "def check_exsistance(patch_list, host_mag_list, fake_mag_list, diff_dir):\n",
    "    for patch in patch_list:\n",
    "        for host_mag in host_mag_list:\n",
    "            calexp_info = calexp_info_dict[f'{patch}_{host_mag}']\n",
    "            for index, row in calexp_info.iterrows():\n",
    "                visit = row['visit']\n",
    "                filt = row['filter']\n",
    "                detector = row['detector']\n",
    "\n",
    "                for fake_mag in fake_mag_list:\n",
    "                    fake_mag_str = str(fake_mag).replace('.', '')\n",
    "\n",
    "                    diff_path = os.path.join(\n",
    "                        diff_dir, f'{patch}_{host_mag}_{visit}_{detector}_{filt}/diff_{fake_mag_str}/deepDiff'\n",
    "                    )\n",
    "                    if not os.path.exists(diff_path):\n",
    "                        print(diff_path)"
   ]
  },
  {
   "cell_type": "code",
   "execution_count": 17,
   "id": "2aa4a682-f729-4f71-9af4-a9ecd0f886e7",
   "metadata": {},
   "outputs": [],
   "source": [
    "config_list = ['al_preconv', 'al_decorr', 'al_convSci', 'al_convSciDecorr', 'al_spatial4', 'al_spatial4Pca']"
   ]
  },
  {
   "cell_type": "code",
   "execution_count": 19,
   "id": "8957c369-964e-4549-a4ba-4d9bb6c2d883",
   "metadata": {},
   "outputs": [],
   "source": [
    "for config in config_list:\n",
    "    cf_type = config\n",
    "    diff_dir =  f'./data/patch_0to6/diff/{cf_type}'\n",
    "    check_exsistance(patch_list, host_mag_list, fake_mag_list, diff_dir)"
   ]
  },
  {
   "cell_type": "code",
   "execution_count": 9,
   "id": "26bf0f3c-23bc-4e5d-b18f-b9c689ab44d9",
   "metadata": {},
   "outputs": [],
   "source": []
  }
 ],
 "metadata": {
  "kernelspec": {
   "display_name": "desc-stack",
   "language": "python",
   "name": "desc-stack"
  },
  "language_info": {
   "codemirror_mode": {
    "name": "ipython",
    "version": 3
   },
   "file_extension": ".py",
   "mimetype": "text/x-python",
   "name": "python",
   "nbconvert_exporter": "python",
   "pygments_lexer": "ipython3",
   "version": "3.7.2"
  }
 },
 "nbformat": 4,
 "nbformat_minor": 5
}
