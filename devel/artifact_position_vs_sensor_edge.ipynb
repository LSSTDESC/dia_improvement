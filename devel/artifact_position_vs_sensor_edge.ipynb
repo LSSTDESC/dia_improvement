{
 "cells": [
  {
   "cell_type": "code",
   "execution_count": 1,
   "id": "71a829c0-cf0c-460b-8b64-b9ecac4865ac",
   "metadata": {
    "tags": []
   },
   "outputs": [],
   "source": [
    "import os\n",
    "import numpy as np\n",
    "import pandas as pd\n",
    "import matplotlib.pyplot as plt\n",
    "import lsst.afw.image as afwImage\n",
    "from lsst.daf.butler import Butler, CollectionType\n",
    "from astropy.visualization import ZScaleInterval\n",
    "interval = ZScaleInterval()\n",
    "from astropy.table import Table\n",
    "from lsst.source.injection.utils import ingest_injection_catalog\n",
    "import pDIA as pdia\n",
    "import importlib as imp\n",
    "imp.reload(pdia)\n",
    "\n",
    "from sklearn import metrics\n",
    "\n",
    "from astropy import units as u\n",
    "from astropy.coordinates import SkyCoord, match_coordinates_sky\n",
    "\n",
    "from collections import deque"
   ]
  },
  {
   "cell_type": "code",
   "execution_count": null,
   "id": "fefb4671-a03b-4ebb-8747-6577592e15c9",
   "metadata": {
    "tags": []
   },
   "outputs": [],
   "source": []
  },
  {
   "cell_type": "markdown",
   "id": "9e59829e-4564-440d-99e6-7cb5b3a69509",
   "metadata": {
    "tags": []
   },
   "source": [
    "## Analyze a larger dataset (26 images)"
   ]
  },
  {
   "cell_type": "code",
   "execution_count": 228,
   "id": "7fed60e0-d1e0-4cec-b3b6-8f9c3111f1eb",
   "metadata": {
    "tags": []
   },
   "outputs": [],
   "source": [
    "from collections import deque\n",
    "\n",
    "def generate_random_rc(max_r, max_c, n, random_state=0):\n",
    "    # generate random positions\n",
    "    # row id is between 0 and max_r\n",
    "    # column id is between 0 and max_c\n",
    "    np.random.seed(random_state)\n",
    "    # generate random row index and column index\n",
    "    random_r = np.random.randint(0, max_r, size=n)\n",
    "    random_c = np.random.randint(0, max_c, size=n)\n",
    "    random_rc = list(zip(random_r, random_c))\n",
    "    return random_rc\n",
    "\n",
    "def valid_rc(r, c, max_r, max_c):\n",
    "    # This function check whether the row index and column index are valid\n",
    "    if 0 <= r <= max_r and 0 <= c <= max_c:\n",
    "        return True\n",
    "    else:\n",
    "        return False\n",
    "\n",
    "def get_nearest_distance_to_sensor_edge(r, c, sensor_edge):\n",
    "    \"\"\"\n",
    "    This funciton measure the nearest distance of a point to the sensor edge.\n",
    "    The algorithm starts with a given point, then it grows a sqaure from the given point.\n",
    "    In each iteration, the grow the half width of the square by one pixel.\n",
    "    The iteration stops when the boundary of the square reach the sensor edge.\n",
    "    The distance is the total number of iteration - 1.\n",
    "    Example:\n",
    "                                   x x x x x  \n",
    "                        x x x      x x x x x \n",
    "    square       x  ->  x x x  ->  x x x x x\n",
    "                        x x x      x x x x x  \n",
    "                                   x x x x x \n",
    "    distance     0        1            2       \n",
    "    \n",
    "    Parameters:\n",
    "    r: row index\n",
    "    c: column index\n",
    "    \"\"\"\n",
    "    \n",
    "    sensor_edge = sensor_edge.copy()\n",
    "    sensor_edge = sensor_edge.astype(int)\n",
    "    max_r, max_c = sensor_edge.shape[0]-1, sensor_edge.shape[1]-1\n",
    "    # delta indexes to the neighboring points\n",
    "    delta_step = [(1, 0), (-1, 0), (0, 1), (0, -1), (1, 1), (1, -1), (-1, 1), (-1, -1)]\n",
    "    # create a queue to store the results\n",
    "    queue = deque([(r, c)])\n",
    "    # memorize visited points\n",
    "    added = {(r, c)}\n",
    "    # initialize the distance\n",
    "    distance = -1\n",
    "    # use breadth first search method\n",
    "    while len(queue) > 0:\n",
    "        distance += 1\n",
    "        length = len(queue)\n",
    "        for i in range(length):\n",
    "            # pop out the points from the current boundary\n",
    "            cur_r, cur_c = queue.popleft()\n",
    "            if sensor_edge[cur_r][cur_c] == 1:\n",
    "                return distance\n",
    "            for delta in delta_step:\n",
    "                dr, dc = delta[0], delta[1]\n",
    "                next_r, next_c = cur_r + dr, cur_c + dc\n",
    "                if valid_rc(next_r, next_c, max_r, max_c) and (next_r, next_c) not in added:\n",
    "                    queue.append((next_r, next_c))\n",
    "                    added.add((next_r, next_c))\n",
    "    return distance"
   ]
  },
  {
   "cell_type": "code",
   "execution_count": null,
   "id": "bee9c66c-52be-4967-b47c-7501ccb72f28",
   "metadata": {},
   "outputs": [],
   "source": []
  },
  {
   "cell_type": "code",
   "execution_count": 6,
   "id": "538c561e-2639-4e11-9cbf-a0b609f234da",
   "metadata": {},
   "outputs": [],
   "source": [
    "science_id_df = pd.read_csv('./data/piecewise_dia/table/science_ids_4638_fully_covered.csv')\n",
    "data_dir = './data/piecewise_dia/'\n",
    "# index=2 should be drop because its diaSrc table is not contiguous\n",
    "science_id_df = science_id_df.drop(index=[2]).reset_index(drop=True)"
   ]
  },
  {
   "cell_type": "code",
   "execution_count": 7,
   "id": "3f8f7bfa-7f6d-40f1-9d85-b993648d52b6",
   "metadata": {
    "tags": []
   },
   "outputs": [
    {
     "data": {
      "text/plain": [
       "26"
      ]
     },
     "execution_count": 7,
     "metadata": {},
     "output_type": "execute_result"
    }
   ],
   "source": [
    "len(science_id_df)"
   ]
  },
  {
   "cell_type": "code",
   "execution_count": 232,
   "id": "72aa20ee-adc7-48f9-9255-83947a4bd5f5",
   "metadata": {
    "tags": []
   },
   "outputs": [],
   "source": []
  },
  {
   "cell_type": "code",
   "execution_count": 8,
   "id": "a106fd7f-1b38-4e69-9feb-40826b43af63",
   "metadata": {
    "tags": []
   },
   "outputs": [],
   "source": [
    "\"\"\"\n",
    "artifact_distance = []\n",
    "random_distance = []\n",
    "\n",
    "for idx, row in science_id_df.iterrows():\n",
    "    data_id, data_id_string = get_data_id_from_row(row)\n",
    "    diaSrc = pd.read_csv(f'./data/piecewise_dia/difference/no_injection_default/diaSrc_{data_id_string}.csv')\n",
    "    nonsat = pdia.remove_src_with_flags(diaSrc, flag_list=pdia.SAT_FLAGS)\n",
    "    template = afwImage.ExposureF(f'./data/piecewise_dia/template/template_{data_id_string}.fits')\n",
    "    wcs = template.getWcs()\n",
    "    bbox = template.getBBox()\n",
    "    template_mask = pdia.translateMask(template.getMask())\n",
    "    sensor_edge = template_mask['SENSOR_EDGE'].copy()\n",
    "    sensor_edge = sensor_edge.astype(int)   \n",
    "    \n",
    "    for i, source in nonsat.iterrows():\n",
    "        pixel_x, pixel_y = source['base_NaiveCentroid_x'], source['base_NaiveCentroid_y']\n",
    "        r, c = int(pixel_y - begin_y), int(pixel_x - begin_x)\n",
    "        distance = get_nearest_distance_to_sensor_edge(r, c, sensor_edge)\n",
    "        artifact_distance.append(distance) \n",
    "        \n",
    "    max_r = sensor_edge.shape[0] - 1\n",
    "    max_c = sensor_edge.shape[1] - 1\n",
    "    random_rc = generate_random_rc(max_r, max_c, len(nonsat), 0)\n",
    "    for i, rc in enumerate(random_rc):\n",
    "        r, c = rc[0], rc[1]\n",
    "        distance = get_nearest_distance_to_sensor_edge(r, c, sensor_edge)\n",
    "        random_distance.append(distance)\n",
    "        \n",
    "artifact_distance = np.array(artifact_distance)\n",
    "random_distance = np.array(random_distance)\n",
    "pd.DataFrame({'artifact_distance': artifact_distance, 'random_distance': random_distance}).to_csv('distance_to_sensor_edge.csv', index=False)\n",
    "\"\"\";"
   ]
  },
  {
   "cell_type": "code",
   "execution_count": null,
   "id": "ab6fdd3c-e8bc-47de-b3b2-ff265475f77f",
   "metadata": {},
   "outputs": [],
   "source": []
  },
  {
   "cell_type": "code",
   "execution_count": 9,
   "id": "5bfdb1d8-83b6-45d3-b6f6-c85d532c94e6",
   "metadata": {
    "tags": []
   },
   "outputs": [],
   "source": [
    "distance_to_sensor_edge = pd.read_csv('distance_to_sensor_edge.csv')"
   ]
  },
  {
   "cell_type": "code",
   "execution_count": 10,
   "id": "622dcbdd-36a2-48e5-9a96-74390b199497",
   "metadata": {
    "tags": []
   },
   "outputs": [
    {
     "name": "stdout",
     "output_type": "stream",
     "text": [
      "p value is 0.718\n",
      "From the same distribution: True\n"
     ]
    }
   ],
   "source": [
    "from scipy import stats\n",
    "# two-sample Kolmogorov-Smirnov test\n",
    "alpha = 0.05\n",
    "statistic, p_value = stats.ks_2samp(distance_to_sensor_edge.artifact_distance, distance_to_sensor_edge.random_distance)\n",
    "\n",
    "print('p value is %.3f' % p_value)\n",
    "print('From the same distribution: %s' %str(p_value > alpha))"
   ]
  },
  {
   "cell_type": "code",
   "execution_count": 15,
   "id": "05a085bb-0a3b-4ff9-ac42-ab398d35b01f",
   "metadata": {
    "tags": []
   },
   "outputs": [
    {
     "data": {
      "text/plain": [
       "<matplotlib.legend.Legend at 0x7f53ea225990>"
      ]
     },
     "execution_count": 15,
     "metadata": {},
     "output_type": "execute_result"
    },
    {
     "data": {
      "image/png": "[encoded data removed]",
      "text/plain": [
       "<Figure size 640x480 with 1 Axes>"
      ]
     },
     "metadata": {},
     "output_type": "display_data"
    }
   ],
   "source": [
    "bins = np.linspace(0, 200, 50)\n",
    "plt.hist(distance_to_sensor_edge.artifact_distance, bins=bins, label='non-saturation artifacts')\n",
    "plt.hist(distance_to_sensor_edge.random_distance, bins=bins, alpha=0.5, label='random points')\n",
    "plt.xlabel('nearest distance to sensor edge')\n",
    "plt.ylabel('count')\n",
    "plt.legend()"
   ]
  },
  {
   "cell_type": "code",
   "execution_count": null,
   "id": "df92c422-61d4-4a7d-bf97-d5d93966c346",
   "metadata": {},
   "outputs": [],
   "source": []
  }
 ],
 "metadata": {
  "kernelspec": {
   "display_name": "desc-stack-weekly-latest",
   "language": "python",
   "name": "desc-stack-weekly-latest"
  },
  "language_info": {
   "codemirror_mode": {
    "name": "ipython",
    "version": 3
   },
   "file_extension": ".py",
   "mimetype": "text/x-python",
   "name": "python",
   "nbconvert_exporter": "python",
   "pygments_lexer": "ipython3",
   "version": "3.11.7"
  }
 },
 "nbformat": 4,
 "nbformat_minor": 5
}
