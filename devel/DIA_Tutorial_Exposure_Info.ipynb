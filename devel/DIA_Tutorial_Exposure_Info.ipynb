{
 "cells": [
  {
   "cell_type": "markdown",
   "id": "2e081935-ca23-4286-bf0e-4fdf15156c9f",
   "metadata": {},
   "source": [
    "# DIA Tutorial: Exposure Information\n",
    "This notebook is compatible with `desc-stack` kernel."
   ]
  },
  {
   "cell_type": "markdown",
   "id": "eab1a7d0-c340-4216-93b3-7f6a669a8c27",
   "metadata": {},
   "source": [
    "Obtain MJD, filter, magToInstFlux translation, background level, gain, zeropoint information of a calexp."
   ]
  },
  {
   "cell_type": "code",
   "execution_count": 1,
   "id": "66bdf260-ee0b-4df3-8e07-41f9e1a6c697",
   "metadata": {},
   "outputs": [],
   "source": [
    "import lsst\n",
    "from scipy.stats import sigmaclip\n",
    "import numpy as np\n",
    "from lsst.daf.persistence import Butler"
   ]
  },
  {
   "cell_type": "code",
   "execution_count": null,
   "id": "f5b02456-60f9-4eac-9270-7c10a6a722e5",
   "metadata": {},
   "outputs": [],
   "source": [
    "calexp_repo = '/global/cfs/projectdirs/lsst/production/DC2_ImSim/Run2.2i/desc_dm_drp/v19.0.0-v1/rerun/run2.2i-calexp-v1'\n",
    "calexp_butler = Butler(calexp_repo)\n",
    "# get exp and photocalib\n",
    "calexp_id = {'visit': 1013665, 'detector': 79, 'filter': 'i'}\n",
    "calexp_exp = calexp_butler.get('calexp', calexp_id)\n",
    "calexp_photocalib = calexp_butler.get('calexp_photoCalib', calexp_id)\n",
    "# get the source table measured from the calexp exposure\n",
    "calexp_src = calexp_butler.get('src', calexp_id)\n",
    "# mjd\n",
    "# https://community.lsst.org/t/how-should-one-efficiently-get-the-mjd-for-a-source-catalog/3733/2\n",
    "info = calexp_exp.getInfo()\n",
    "# ap_corr = info.getApCorrMap()\n",
    "mjd = info.getVisitInfo().getDate().get(lsst.daf.base.DateTime.MJD)\n",
    "# lsst.daf.base.DateTime.UTC\n",
    "print(f'MJD: {mjd}')\n",
    "# filter\n",
    "print('filter')\n",
    "filt = calexp_exp.getFilter()\n",
    "print(f'filter: Id {filt.getId()}, Name {filt.getName()}, Names {filt.getNames()}' )\n",
    "\n",
    "# detector\n",
    "print('detector')\n",
    "det = calexp_exp.getDetector()\n",
    "print(f'detector: Name {det.getName()}, Id {det.getId()}, Type {det.getType()}, Serial {det.getSerial()}')\n",
    "\n",
    "# sky background estimated using image plane\n",
    "img = calexp_exp.getImage().array\n",
    "img = img[~np.isnan(img)]\n",
    "clipped, _, _ = sigmaclip(img, low=5, high=5)\n",
    "var_of_img = np.var(clipped)\n",
    "print(f'variance of image: {var_of_img}')\n",
    "\n",
    "# mean variance plane\n",
    "var = calexp_exp.getVariance().array\n",
    "var = var[~np.isnan(var)]\n",
    "clipped, _, _ = sigmaclip(var, low=5, high=5)\n",
    "mean_of_var = np.mean(clipped)\n",
    "print(f'mean of variance plane: {mean_of_var}')\n",
    "\n",
    "inst_to_nJ = photo_calib.instFluxToNanojansky(1)\n",
    "print(f'instFlux to nanoJansky: {inst_to_nJ}')\n",
    "print('Is this equivalent to gain?')\n",
    "\n",
    "# mag zp\n",
    "photo_calib = calexp_exp.getPhotoCalib()\n",
    "mag_zp = photo_calib.getInstFluxAtZeroMagnitude()\n",
    "print(f'mag zp: {mag_zp}')"
   ]
  }
 ],
 "metadata": {
  "kernelspec": {
   "display_name": "desc-stack",
   "language": "python",
   "name": "desc-stack"
  },
  "language_info": {
   "codemirror_mode": {
    "name": "ipython",
    "version": 3
   },
   "file_extension": ".py",
   "mimetype": "text/x-python",
   "name": "python",
   "nbconvert_exporter": "python",
   "pygments_lexer": "ipython3",
   "version": "3.7.2"
  }
 },
 "nbformat": 4,
 "nbformat_minor": 5
}
