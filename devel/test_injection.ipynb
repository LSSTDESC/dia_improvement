{
 "cells": [
  {
   "cell_type": "code",
   "execution_count": 1,
   "id": "63d0a805-3d60-41a8-959c-c9b6c0cbc140",
   "metadata": {},
   "outputs": [],
   "source": [
    "import os\n",
    "import injection_utils as iu"
   ]
  },
  {
   "cell_type": "code",
   "execution_count": 2,
   "id": "7e4184f1-6e98-4eb1-b627-acf348411501",
   "metadata": {},
   "outputs": [
    {
     "name": "stdout",
     "output_type": "stream",
     "text": [
      "/global/cscratch1/sd/shl159/projects/fake_injection_test/dia_improvement/devel\n"
     ]
    }
   ],
   "source": [
    "!pwd"
   ]
  },
  {
   "cell_type": "markdown",
   "id": "8c9ab02e-1d91-44b5-bffb-29980578501f",
   "metadata": {},
   "source": [
    "# 1. Inject fakes"
   ]
  },
  {
   "cell_type": "code",
   "execution_count": 3,
   "id": "65e70c7a-1279-4884-a39a-72fa506e7fff",
   "metadata": {},
   "outputs": [],
   "source": [
    "COADD_REPO = (\n",
    "    '/global/cfs/projectdirs/lsst/production/DC2_ImSim/Run2.2i'\n",
    "    '/desc_dm_drp/v19.0.0-v1/rerun/run2.2i-coadd-wfd-dr6-v1-grizy'\n",
    ")\n",
    "fake_path = (\n",
    "    '/global/cscratch1/sd/shl159/projects'\n",
    "    '/fake_injection_test/dia_improvement/devel/injection_test'\n",
    ")\n",
    "os.makedirs(fake_path)\n",
    "calexp_path = os.path.join(fake_path, 'calexp')\n",
    "os.makedirs(calexp_path)\n",
    "yaml_path = os.path.join(fake_path, 'repositoryCfg.yaml')\n",
    "with open(f'{yaml_path}', \"w+\") as file:\n",
    "    file.write(\"!RepositoryCfg_v1\\n\")\n",
    "    file.write(\"_mapper: !!python/name:lsst.obs.lsst.imsim.ImsimMapper \\'\\'\\n\")\n",
    "    file.write(\"_mapperArgs: {}\\n\")\n",
    "    file.write(\"_parents:\\n\")\n",
    "    file.write(f\"- {COADD_REPO}\\n\")\n",
    "    file.write(\"_policy: null\\n\")\n",
    "    file.write(\"_root: null\\n\")\n",
    "    file.write(\"dirty: true\\n\")"
   ]
  },
  {
   "cell_type": "code",
   "execution_count": 4,
   "id": "fdaaf0c7-344e-49cf-bf6d-372a8047626a",
   "metadata": {},
   "outputs": [],
   "source": [
    "calexp_repo = 'injection_test'\n",
    "calexp_id = {'visit': 1013665, 'detector': 79, 'filter': 'i'}\n",
    "magVar = 16\n",
    "coords = [(i, j) for i in range(500, 3500, 500) for j in range(500, 3500, 500)]"
   ]
  },
  {
   "cell_type": "code",
   "execution_count": 5,
   "id": "f646a6d8-fe78-4c8a-bfc9-d1a51a56daf5",
   "metadata": {},
   "outputs": [
    {
     "name": "stderr",
     "output_type": "stream",
     "text": [
      "/global/cscratch1/sd/shl159/projects/fake_injection_test/dia_improvement/devel/injection_utils.py:74: FutureWarning: Gen2 Butler has been deprecated (Butler). It will be removed sometime after v23.0 but no earlier than the end of 2021.\n",
      "  calexp_butler = Butler(calexp_repo)\n",
      "/global/cscratch1/sd/shl159/projects/fake_injection_test/dia_improvement/devel/injection_utils.py:74: FutureWarning: Gen2 Butler has been deprecated (ImsimMapper). It will be removed sometime after v23.0 but no earlier than the end of 2021.\n",
      "  calexp_butler = Butler(calexp_repo)\n"
     ]
    },
    {
     "name": "stdout",
     "output_type": "stream",
     "text": [
      "lsst.CameraMapper INFO: Loading exposure registry from /global/cfs/cdirs/lsst/shared/DC2-prod/Run2.2i/desc_dm_drp/v19.0.0/registry.sqlite3\n",
      "lsst.CameraMapper INFO: Loading calib registry from /global/cfs/cdirs/lsst/shared/DC2-prod/Run2.2i/desc_dm_drp/v19.0.0/CALIB/calibRegistry.sqlite3\n",
      "lsst.CameraMapper INFO: Loading calib registry from /global/cfs/cdirs/lsst/shared/DC2-prod/Run2.2i/desc_dm_drp/v19.0.0/CALIB/calibRegistry.sqlite3\n",
      "LsstCamMapper WARN: Unable to find valid calib root directory\n",
      "LsstCamMapper WARN: Unable to find valid calib root directory\n"
     ]
    }
   ],
   "source": [
    "iu.inject_fakes_to_calexp(calexp_repo, calexp_id, magVar, coords, poisson=False)"
   ]
  },
  {
   "cell_type": "markdown",
   "id": "5032771b-123c-4ca9-9468-da33e21747ea",
   "metadata": {},
   "source": [
    "# 2. Test subtraction"
   ]
  },
  {
   "cell_type": "markdown",
   "id": "f8ea81b0-7b49-4c5b-a2e1-2cbba4c223ec",
   "metadata": {},
   "source": [
    "Install package \n",
    "- obs_lsst: git clone https://github.com/lsst/obs_lsst.git\n",
    "Checkout the correct branch:\n",
    "git checkout -b fake_test 30368a2b8c2941f1a04c704048c33e056a6af57b\n",
    "- dia_pipe: git clone https://github.com/LSSTDESC/dia_pipe.git\n",
    "Checkout the correct branch:\n",
    "git checkout -b fake_test 8ae16a9f5e5c1e4f174626b7f1e002b9d0c69b8f\n",
    "\n",
    "```\n",
    "commit 8ae16a9f5e5c1e4f174626b7f1e002b9d0c69b8f (HEAD, origin/#19)\n",
    "Author: Bob Armstrong <rearmstr@gmail.com>\n",
    "Date:   Tue Feb 2 14:16:07 2021 -0800\n",
    "\n",
    "    Create output directory if it doesn't exist in forcedPhotCatalogDiaTask\n",
    "\n",
    "commit a56e72d4a27ef8a6d6d084ec830c5a3fbc8f11c5\n",
    "Author: Bob Armstrong <rearmstr@gmail.com>\n",
    "Date:   Tue Feb 2 13:20:49 2021 -0800\n",
    "```\n",
    "\n",
    "Create setup.sh\n",
    "```\n",
    "#！/bin/bash\n",
    "\n",
    "source /cvmfs/sw.lsst.eu/linux-x86_64/lsst_distrib/v20.0.0/loadLSST.bash\n",
    "\n",
    "setup lsst_distrib\n",
    "\n",
    "# scons only need to be done once. We cannot comment out the following three lines after the first running. setup -jr dia_pipe need to be kept.\n",
    "cd dia_pipe\n",
    "scons\n",
    "cd ..\n",
    "setup -jr dia_pipe\n",
    "\n",
    "export HDF5_USE_FILE_LOCKING=FALSE\n",
    "export OMP_NUM_THREADS=1\n",
    "\n",
    "echo 'done'\n",
    "```\n",
    "In terminal, run `source setup.sh`\n",
    "Next, create config `diffimConfig_al.py`, with following contents:\n",
    "\n",
    "```\n",
    "from lsst.meas.algorithms import LoadIndexedReferenceObjectsTask\n",
    "config.imageDifference.refObjLoader.retarget(LoadIndexedReferenceObjectsTask)\n",
    "config.imageDifference.refObjLoader.load('obs_lsst/config/filterMap.py')\n",
    "config.imageDifference.kernelSourcesFromRef = True\n",
    "config.ccdKey = 'detector'\n",
    "```\n",
    "\n",
    "Test subtraction without fake injection:\n",
    "```\n",
    "imageDifferenceDriver.py /global/cfs/projectdirs/lsst/production/DC2_ImSim/Run2.2i/desc_dm_drp/v19.0.0-v1/rerun/run2.2i-coadd-wfd-dr6-v1-grizy \\\n",
    "    --output test_al \\\n",
    "    --id visit=1013665 detector=79  -C diffimConfig_al.py \\\n",
    "    --clobber-config --clobber-versions --cores 4\n",
    "```\n",
    "\n",
    "Next, run\n",
    "\n",
    "```\n",
    "imageDifferenceDriver.py /global/cscratch1/sd/shl159/projects/fake_injection_test/dia_improvement/devel/injection_test \\\n",
    "    --output test_inj \\\n",
    "    --id visit=1013665 detector=79  -C diffimConfig_al.py \\\n",
    "    --clobber-config --clobber-versions --cores 4\n",
    "```"
   ]
  },
  {
   "cell_type": "markdown",
   "id": "c4067ea4-e6b3-4ff2-8798-d7d1a16eda31",
   "metadata": {},
   "source": [
    "how to record software:\n",
    "best way to ...\n"
   ]
  },
  {
   "cell_type": "code",
   "execution_count": null,
   "id": "18b0192e-555a-4204-b252-37a7ab778be8",
   "metadata": {},
   "outputs": [],
   "source": [
    "calexp_repo = '/global/cfs/projectdirs/lsst/production/DC2_ImSim/Run2.2i/desc_dm_drp/v19.0.0-v1/rerun/run2.2i-calexp-v1'\n",
    "calexp_butler = Butler(calexp_repo)\n",
    "\n",
    "# get exp and photocalib\n",
    "calexp_id = {'visit': 1013665, 'detector': 79, 'filter': 'i'}\n",
    "calexp_exp = calexp_butler.get('calexp', calexp_id)\n",
    "\n",
    "coadd_repo = '/global/cfs/projectdirs/lsst/production/DC2_ImSim/Run2.2i/desc_dm_drp/v19.0.0-v1/rerun/run2.2i-coadd-wfd-dr6-v1-grizy'\n",
    "coadd_butler = Butler(coadd_repo)\n",
    "\n",
    "# get expo and photocalib\n",
    "coadd_id = {'tract': 4639, 'patch': '0,0', 'filter': 'i'}\n",
    "coadd_exp = coadd_butler.get('deepCoadd', coadd_id)\n",
    "\n",
    "calexp_src = calexp_butler.get('src', calexp_id)\n",
    "src_astropy = calexp_src.asAstropy()"
   ]
  },
  {
   "cell_type": "code",
   "execution_count": null,
   "id": "038a3331-eac7-4de5-8803-569310f021fb",
   "metadata": {},
   "outputs": [],
   "source": []
  },
  {
   "cell_type": "markdown",
   "id": "59ada72a-5078-4642-a2d6-8e459c1b4c0d",
   "metadata": {},
   "source": [
    "a / (a + b) < 0.65 -> a / b < 13 / 7 = 1.86\n"
   ]
  },
  {
   "cell_type": "code",
   "execution_count": null,
   "id": "097fc79d-bea1-4613-a2db-ad350193952f",
   "metadata": {},
   "outputs": [],
   "source": []
  },
  {
   "cell_type": "code",
   "execution_count": null,
   "id": "23f62bfc-0321-4b56-8ff8-e1d9b1f8d547",
   "metadata": {},
   "outputs": [],
   "source": []
  },
  {
   "cell_type": "code",
   "execution_count": null,
   "id": "d89745ee-da99-4426-bb09-744c4923cb8c",
   "metadata": {},
   "outputs": [],
   "source": []
  }
 ],
 "metadata": {
  "kernelspec": {
   "display_name": "desc-stack-weekly-latest",
   "language": "python",
   "name": "desc-stack-weekly-latest"
  },
  "language_info": {
   "codemirror_mode": {
    "name": "ipython",
    "version": 3
   },
   "file_extension": ".py",
   "mimetype": "text/x-python",
   "name": "python",
   "nbconvert_exporter": "python",
   "pygments_lexer": "ipython3",
   "version": "3.8.12"
  }
 },
 "nbformat": 4,
 "nbformat_minor": 5
}
