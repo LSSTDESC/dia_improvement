{
 "cells": [
  {
   "cell_type": "code",
   "execution_count": 1,
   "id": "bf0dbc99-e128-4d35-8b2c-f1990cbb0ac1",
   "metadata": {},
   "outputs": [],
   "source": [
    "from astropy.table import vstack, Table\n",
    "import numpy as np\n",
    "import pandas as pd\n",
    "import sqlite3\n",
    "import data_process_utils as dpu\n",
    "from astropy import units as u\n",
    "from astropy.coordinates import SkyCoord\n",
    "from lsst.afw.table import BaseCatalog\n",
    "from lsst.daf.persistence import Butler"
   ]
  },
  {
   "cell_type": "code",
   "execution_count": 2,
   "id": "01bde3d9-7182-43a1-a985-7d9a19df2d79",
   "metadata": {},
   "outputs": [],
   "source": [
    "calexp_repo = '/global/cfs/projectdirs/lsst/production/DC2_ImSim/Run2.2i/desc_dm_drp/v19.0.0-v1/rerun/run2.2i-calexp-v1'\n",
    "calexp_butler = Butler(calexp_repo)\n"
   ]
  },
  {
   "cell_type": "code",
   "execution_count": 3,
   "id": "15676f64-ccec-416a-ae16-c47eb0004688",
   "metadata": {},
   "outputs": [],
   "source": [
    "base_flags = ['base_PixelFlags_flag_saturated', 'base_PixelFlags_flag_saturatedCenter', 'base_PixelFlags_flag_suspect',\n",
    "              'base_PixelFlags_flag_suspectCenter', 'base_PixelFlags_flag_offimage', 'base_PixelFlags_flag_edge',\n",
    "              'base_PixelFlags_flag_bad', 'base_NaiveCentroid_flag']"
   ]
  },
  {
   "cell_type": "markdown",
   "id": "28d7f38c-2dda-4823-b9ef-7ae05e68d81b",
   "metadata": {},
   "source": [
    "#### host full table"
   ]
  },
  {
   "cell_type": "code",
   "execution_count": 7,
   "id": "387ed443-633b-459a-9e58-8984571605d6",
   "metadata": {},
   "outputs": [],
   "source": [
    "psf_table = Table.read('./data/table/gal_4639/psf_fwhm.csv', format='ascii.csv')\n",
    "\n",
    "matched_table = Table()\n",
    "for row in psf_table:\n",
    "    diff_diaSrc = BaseCatalog.readFits(row['diaSrc_path'])\n",
    "    diff_diaSrc_astropy = diff_diaSrc.asAstropy()\n",
    "    # diff_diaSrc_astropy = dpu.remove_flag_astropy(diff_diaSrc_astropy, flag_list=base_flags)\n",
    "    diff_diaSrc_astropy['diaSrc_snr'] = diff_diaSrc_astropy['base_PsfFlux_instFlux'] / diff_diaSrc_astropy['base_PsfFlux_instFluxErr']\n",
    "    \n",
    "    patch = str(row['patch'])\n",
    "    patch = patch.replace(',', '')\n",
    "    visit = int(row['visit'])\n",
    "    det = int(row['detector'])\n",
    "    filt = str(row['filter'])\n",
    "    \n",
    "    calexp_id = {'visit': visit, 'detector': det, 'filter': filt}\n",
    "    calexp_src = calexp_butler.get('src', calexp_id)\n",
    "    src_astropy = calexp_src.asAstropy()\n",
    "    artifact_coord = SkyCoord(np.rad2deg(diff_diaSrc_astropy['coord_ra'].data),\n",
    "                              np.rad2deg(diff_diaSrc_astropy['coord_dec'].data),\n",
    "                              frame=\"icrs\", unit=\"deg\")\n",
    "    src_coord = SkyCoord(np.rad2deg(src_astropy['coord_ra'].data),\n",
    "                         np.rad2deg(src_astropy['coord_dec'].data),\n",
    "                         frame=\"icrs\", unit=\"deg\")\n",
    "\n",
    "    is_artifact, _ = dpu.two_direction_skymatch(src_coord, artifact_coord, radius=2 * u.arcsec)\n",
    "    \n",
    "    # match src to fake\n",
    "    conn = sqlite3.connect('./data/patch_0to6/diff/al_default/detection/detection.sqlite')\n",
    "    query = f\"SELECT * FROM fake_src WHERE fake_mag = '20' AND host_mag = '20_21' AND patch = '{patch}' AND visit = {visit} AND detector = {det} And filter = '{filt}'\"\n",
    "    fake_src_df = pd.read_sql_query(query, conn)\n",
    "    fake_astropy = Table.from_pandas(fake_src_df)\n",
    "    fake_coord = SkyCoord(np.rad2deg(fake_astropy['coord_ra'].data),\n",
    "                          np.rad2deg(fake_astropy['coord_dec'].data),\n",
    "                          frame=\"icrs\", unit=\"deg\")\n",
    "    is_fake, _ = dpu.two_direction_skymatch(src_coord, fake_coord, radius=2 * u.arcsec)\n",
    "    \n",
    "    host_snr = src_astropy['base_PsfFlux_instFlux'] / src_astropy['base_PsfFlux_instFluxErr']\n",
    "    t = Table()\n",
    "    t['host_snr'] = host_snr\n",
    "    t['is_artifact'] =  is_artifact\n",
    "    t['is_fake'] = is_fake\n",
    "    \n",
    "    matched_table = vstack([matched_table, t])\n",
    "    \n",
    "matched_table.write('./data/table/gal_4639/full_hosts.csv', format='ascii.csv', overwrite=True)"
   ]
  },
  {
   "cell_type": "markdown",
   "id": "6e34bf2c-44cf-46df-bddd-e6360bdd5a98",
   "metadata": {},
   "source": [
    "#### host full table, base flag applied"
   ]
  },
  {
   "cell_type": "code",
   "execution_count": 10,
   "id": "4db9e5c1-f52c-49b0-b483-c7df60d1814a",
   "metadata": {},
   "outputs": [],
   "source": [
    "\n",
    "psf_table = Table.read('./data/table/gal_4639/psf_fwhm.csv', format='ascii.csv')\n",
    "\n",
    "matched_table = Table()\n",
    "for row in psf_table:\n",
    "    diff_diaSrc = BaseCatalog.readFits(row['diaSrc_path'])\n",
    "    diff_diaSrc_astropy = diff_diaSrc.asAstropy()\n",
    "    diff_diaSrc_astropy = dpu.remove_flag_astropy(diff_diaSrc_astropy, flag_list=base_flags)\n",
    "    diff_diaSrc_astropy['diaSrc_snr'] = diff_diaSrc_astropy['base_PsfFlux_instFlux'] / diff_diaSrc_astropy['base_PsfFlux_instFluxErr']\n",
    "    \n",
    "    patch = str(row['patch'])\n",
    "    patch = patch.replace(',', '')\n",
    "    visit = int(row['visit'])\n",
    "    det = int(row['detector'])\n",
    "    filt = str(row['filter'])\n",
    "    \n",
    "    calexp_id = {'visit': visit, 'detector': det, 'filter': filt}\n",
    "    calexp_src = calexp_butler.get('src', calexp_id)\n",
    "    src_astropy = calexp_src.asAstropy()\n",
    "    artifact_coord = SkyCoord(np.rad2deg(diff_diaSrc_astropy['coord_ra'].data),\n",
    "                              np.rad2deg(diff_diaSrc_astropy['coord_dec'].data),\n",
    "                              frame=\"icrs\", unit=\"deg\")\n",
    "    src_coord = SkyCoord(np.rad2deg(src_astropy['coord_ra'].data),\n",
    "                         np.rad2deg(src_astropy['coord_dec'].data),\n",
    "                         frame=\"icrs\", unit=\"deg\")\n",
    "    is_artifact, _ = dpu.two_direction_skymatch(src_coord, artifact_coord, radius=2 * u.arcsec)\n",
    "    \n",
    "    # match src to fake\n",
    "    conn = sqlite3.connect('./data/patch_0to6/diff/al_default/detection/detection.sqlite')\n",
    "    query = f\"SELECT * FROM fake_src WHERE fake_mag = '20' AND host_mag = '20_21' AND patch = '{patch}' AND visit = {visit} AND detector = {det} And filter = '{filt}'\"\n",
    "    fake_src_df = pd.read_sql_query(query, conn)\n",
    "    fake_astropy = Table.from_pandas(fake_src_df)\n",
    "    fake_coord = SkyCoord(np.rad2deg(fake_astropy['coord_ra'].data),\n",
    "                          np.rad2deg(fake_astropy['coord_dec'].data),\n",
    "                          frame=\"icrs\", unit=\"deg\")\n",
    "    is_fake, _ = dpu.two_direction_skymatch(src_coord, fake_coord, radius=2 * u.arcsec)\n",
    "    \n",
    "    host_snr = src_astropy['base_PsfFlux_instFlux'] / src_astropy['base_PsfFlux_instFluxErr']\n",
    "    t = Table()\n",
    "    t['host_snr'] = host_snr\n",
    "    t['is_artifact'] =  is_artifact\n",
    "    t['is_fake'] = is_fake\n",
    "    \n",
    "    matched_table = vstack([matched_table, t])\n",
    "    \n",
    "matched_table.write('./data/table/gal_4639/full_hosts_base_applied.csv', format='ascii.csv', overwrite=True)\n"
   ]
  },
  {
   "cell_type": "markdown",
   "id": "7859b12b-05a9-4e4c-a14f-1f5b07c9a0a2",
   "metadata": {},
   "source": [
    "#### artifact full table"
   ]
  },
  {
   "cell_type": "code",
   "execution_count": 7,
   "id": "65aedc78-6f1b-45bd-b01a-e05e98971199",
   "metadata": {},
   "outputs": [],
   "source": [
    "\"\"\"\n",
    "psf_table = Table.read('./data/table/gal_4639/psf_fwhm.csv', format='ascii.csv')\n",
    "\n",
    "matched_table = Table()\n",
    "for row in psf_table:\n",
    "    diff_diaSrc = BaseCatalog.readFits(row['diaSrc_path'])\n",
    "    diff_diaSrc_astropy = diff_diaSrc.asAstropy()\n",
    "    visit = int(row['visit'])\n",
    "    det = int(row['detector'])\n",
    "    filt = str(row['filter'])\n",
    "    calexp_id = {'visit': visit, 'detector': det, 'filter': filt}\n",
    "    calexp_src = calexp_butler.get('src', calexp_id)\n",
    "    src_astropy = calexp_src.asAstropy()\n",
    "    \n",
    "    artifact_coord = SkyCoord(np.rad2deg(diff_diaSrc_astropy['coord_ra'].data),\n",
    "                              np.rad2deg(diff_diaSrc_astropy['coord_dec'].data),\n",
    "                              frame=\"icrs\", unit=\"deg\")\n",
    "    src_coord = SkyCoord(np.rad2deg(src_astropy['coord_ra'].data),\n",
    "                         np.rad2deg(src_astropy['coord_dec'].data),\n",
    "                         frame=\"icrs\", unit=\"deg\")\n",
    "    matched_status, matched_idx = dpu.two_direction_skymatch(artifact_coord, src_coord, radius=2 * u.arcsec)\n",
    "    \n",
    "    matched_src = src_astropy[matched_idx]\n",
    "    matched_snr = matched_src['base_PsfFlux_instFlux'] / matched_src['base_PsfFlux_instFluxErr']\n",
    "    diff_diaSrc_astropy['host_base_PsfFlux_instFlux'] = matched_src['base_PsfFlux_instFlux']\n",
    "    diff_diaSrc_astropy['host_base_PsfFlux_instFluxErr'] = matched_src['base_PsfFlux_instFluxErr']\n",
    "    diff_diaSrc_astropy['host_snr'] = matched_snr\n",
    "    diff_diaSrc_astropy['matched_status'] = matched_status\n",
    "    for col in row.columns:\n",
    "        diff_diaSrc_astropy[col] = [row[col] for i in range(len(diff_diaSrc_astropy))]\n",
    "    matched_table = vstack([matched_table, diff_diaSrc_astropy])\n",
    "matched_table.write('./data/table/gal_4639/full_detections.csv', format='ascii.csv', overwrite=True)\n",
    "\"\"\";"
   ]
  },
  {
   "cell_type": "code",
   "execution_count": null,
   "id": "f17da548-c813-441f-b6a6-85a898849edb",
   "metadata": {},
   "outputs": [],
   "source": []
  }
 ],
 "metadata": {
  "kernelspec": {
   "display_name": "desc-stack",
   "language": "python",
   "name": "desc-stack"
  },
  "language_info": {
   "codemirror_mode": {
    "name": "ipython",
    "version": 3
   },
   "file_extension": ".py",
   "mimetype": "text/x-python",
   "name": "python",
   "nbconvert_exporter": "python",
   "pygments_lexer": "ipython3",
   "version": "3.7.2"
  }
 },
 "nbformat": 4,
 "nbformat_minor": 5
}
