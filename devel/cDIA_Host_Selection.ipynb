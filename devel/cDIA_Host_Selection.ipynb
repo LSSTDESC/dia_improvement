{
 "cells": [
  {
   "cell_type": "code",
   "execution_count": 1,
   "id": "c3132f3e-ca58-4896-912e-f3dad121b71e",
   "metadata": {
    "tags": []
   },
   "outputs": [],
   "source": [
    "import os\n",
    "import numpy as np\n",
    "import lsst\n",
    "from lsst.daf.butler import Butler\n",
    "from lsst.ip.diffim import GetTemplateConfig, GetTemplateTask"
   ]
  },
  {
   "cell_type": "code",
   "execution_count": 2,
   "id": "b3b17dde-dff4-4ef3-bb7a-1448776e420b",
   "metadata": {
    "tags": []
   },
   "outputs": [
    {
     "name": "stdout",
     "output_type": "stream",
     "text": [
      "/pscratch/sd/s/shl159/projects/update_plots/dia_improvement/devel\n"
     ]
    }
   ],
   "source": [
    "!pwd"
   ]
  },
  {
   "cell_type": "code",
   "execution_count": 3,
   "id": "f7288d6b-fb58-440b-b6fe-a551465a86da",
   "metadata": {
    "tags": []
   },
   "outputs": [],
   "source": [
    "def htm_from_ra_dec_level(ra, dec, level):\n",
    "    pixelization = lsst.sphgeom.HtmPixelization(level)\n",
    "    htm_id = pixelization.index(\n",
    "        lsst.sphgeom.UnitVector3d(\n",
    "            lsst.sphgeom.LonLat.fromDegrees(ra, dec)\n",
    "        )\n",
    "    )\n",
    "    return htm_id\n",
    "\n",
    "def get_dataset_refs_from_htm_list(dataset_type, htm_ids, level, band, aggregate=\"intersection\"):\n",
    "    hi = htm_ids[0]\n",
    "\n",
    "    # dataset_refs is an iterator, but each query is only a few hundred results,\n",
    "    #   so convert to a list for future convenience\n",
    "    htm_kwargs = {}\n",
    "    htm_kwargs[f\"htm{level}\"] = hi\n",
    "    dataset_refs = list(butler.registry.queryDatasets(dataset_type, dataId={\"band\": band}, **htm_kwargs))\n",
    "    dataset_refs = set(dataset_refs)\n",
    "    \n",
    "    for hi in htm_ids[1:]:\n",
    "        htm_kwargs = {}\n",
    "        htm_kwargs[f\"htm{level}\"] = hi\n",
    "        dr = list(butler.registry.queryDatasets(dataset_type, dataId={\"band\": band}, **htm_kwargs))\n",
    "        if aggregate == \"intersection\":\n",
    "            dataset_refs = dataset_refs.intersection(set(dr))\n",
    "        elif aggregate == \"union\":\n",
    "            dataset_refs = dataset_refs.union(set(dr))\n",
    "        else:\n",
    "            print(\"Aggregation method '{aggregate}' not supported.\")\n",
    "            return\n",
    "        \n",
    "    return list(dataset_refs)"
   ]
  },
  {
   "cell_type": "code",
   "execution_count": 4,
   "id": "5002fd75-6ab5-4311-918c-736d4d724746",
   "metadata": {
    "tags": []
   },
   "outputs": [],
   "source": [
    "def get_buter(output_collection='user', site='NERSC'):\n",
    "    # survey_site = {\"USDF\": \"HSC\", \"IDF\": \"DC2\", \"NERSC\": \"DC2\"}\n",
    "    # ra_dec_survey = {\"HSC\": (150, 2.5), \"DC2\": (55, -30)}\n",
    "    if output_collection == 'user':\n",
    "        user = os.getenv(\"USER\")\n",
    "        output_collection = f\"u/{user}/dia_science\"        \n",
    "    \n",
    "    collection_site = {\"USDF\": \"HSC/runs/RC2/w_2023_15/DM-38691\", \"IDF\": \"2.2i/runs/DP0.2\", \"NERSC\": \"u/descdm/coadds_Y1_4638\"}\n",
    "    collection = collection_site[site]\n",
    "    repo_site = {\"USDF\": \"/repo/main\", \"IDF\": \"dp02\", \"NERSC\": \"/global/cfs/cdirs/lsst/production/gen3/DC2/Run2.2i/repo\"}\n",
    "    repo_config = repo_site[site]\n",
    "    butler = Butler(repo_config, run=output_collection, collections=[output_collection, collection])\n",
    "    return butler\n",
    "\n",
    "def get_science_ref(ra, dec, band):\n",
    "    level = 20  # the resolution of the HTM grid\n",
    "    htm_id = htm_from_ra_dec_level(ra, dec, level)\n",
    "    parent_level = htm_id // 10\n",
    "    htm_ids = [parent_level * 10 + i for i in [0, 1, 2, 3]]\n",
    "    dataset_refs = get_dataset_refs_from_htm_list(\"calexp\", htm_ids, level, band='i')\n",
    "    # Sort by visitId to get a loose time order\n",
    "    ids_visit = [dr.dataId[\"visit\"] for dr in dataset_refs]\n",
    "    dataset_refs = [dataset_refs[idx] for idx in np.argsort(ids_visit)]\n",
    "    \n",
    "    return dataset_refs\n",
    "\n",
    "def get_template_ref(ra, dec, band):\n",
    "    bigger_level = 9\n",
    "    bigger_htm_id = htm_from_ra_dec_level(ra, dec, level=bigger_level)\n",
    "    coadd_exposure_refs = get_dataset_refs_from_htm_list(\"deepCoadd\", [bigger_htm_id], level=bigger_level, band=band, aggregate=\"union\")\n",
    "    return coadd_exposure_refs\n",
    "\n",
    "def get_template(template_refs, science, butler):\n",
    "    get_template_task_config = GetTemplateConfig()\n",
    "    get_template_task = GetTemplateTask(config=get_template_task_config)\n",
    "    \n",
    "    coadd_exposure_deferred_dataset_handles = [butler.getDeferred(dr) for dr in template_refs]\n",
    "    sky_map = butler.get(\"skyMap\")\n",
    "    inputs = {\"coaddExposures\" : coadd_exposure_deferred_dataset_handles,\n",
    "              \"bbox\": science.getBBox(),\n",
    "              \"skyMap\": sky_map,\n",
    "              \"wcs\": science.getWcs(),\n",
    "              \"visitInfo\": science.visitInfo,\n",
    "             }\n",
    "\n",
    "    results = get_template_task.getOverlappingExposures(inputs)\n",
    "    coadd_exposures = results.coaddExposures\n",
    "    data_ids = results.dataIds\n",
    "\n",
    "    deep_coadd_template = get_template_task.run(coadd_exposures, inputs[\"bbox\"], inputs[\"wcs\"], data_ids)\n",
    "    template = deep_coadd_template.template\n",
    "    return template"
   ]
  },
  {
   "cell_type": "code",
   "execution_count": 5,
   "id": "ea314b99-9944-4b1e-9d5f-7c1d0f66cf6c",
   "metadata": {
    "tags": []
   },
   "outputs": [
    {
     "data": {
      "text/plain": [
       "4638"
      ]
     },
     "execution_count": 5,
     "metadata": {},
     "output_type": "execute_result"
    }
   ],
   "source": [
    "4638"
   ]
  },
  {
   "cell_type": "code",
   "execution_count": 6,
   "id": "3f370038-042a-4808-8d2a-7454344792e6",
   "metadata": {
    "tags": []
   },
   "outputs": [
    {
     "data": {
      "text/plain": [
       "0.2222222222222222"
      ]
     },
     "execution_count": 6,
     "metadata": {},
     "output_type": "execute_result"
    }
   ],
   "source": [
    "4000 * 0.2 / 3600"
   ]
  },
  {
   "cell_type": "code",
   "execution_count": 7,
   "id": "ea8d3963-8807-4525-ab4d-3eacbe5bc8a3",
   "metadata": {
    "tags": []
   },
   "outputs": [
    {
     "data": {
      "text/plain": [
       "5.855855855855875"
      ]
     },
     "execution_count": 7,
     "metadata": {},
     "output_type": "execute_result"
    }
   ],
   "source": [
    "(55.2 - 53.9) / 0.222"
   ]
  },
  {
   "cell_type": "code",
   "execution_count": 8,
   "id": "ea8417ec-0090-4739-9dac-faef48731d54",
   "metadata": {
    "tags": []
   },
   "outputs": [],
   "source": [
    "butler = get_buter(output_collection='user', site='NERSC')"
   ]
  },
  {
   "cell_type": "markdown",
   "id": "6b4bcc48-36ef-4079-acec-d8d817a2eaa0",
   "metadata": {},
   "source": [
    "ra = [53.6,55.5], [53.9, 55.2]\n",
    "\n",
    "dec [-31.4, -29.6], [-31.2, -29.9]"
   ]
  },
  {
   "cell_type": "markdown",
   "id": "5e910803-8365-4ff0-8ff8-608cc42bed37",
   "metadata": {},
   "source": [
    "1. test dia with piecewise exposures\n",
    "2. 100 image pairs. \n",
    "3. select "
   ]
  },
  {
   "cell_type": "code",
   "execution_count": 9,
   "id": "eddb829f-c856-486a-bd63-9e9e9e5ab8f5",
   "metadata": {},
   "outputs": [
    {
     "data": {
      "text/plain": [
       "0.2222222222222222"
      ]
     },
     "execution_count": 9,
     "metadata": {},
     "output_type": "execute_result"
    }
   ],
   "source": [
    "4000 * 0.2 / 3600"
   ]
  },
  {
   "cell_type": "markdown",
   "id": "ae68e919-a23b-4682-adbe-eb6e8e44507a",
   "metadata": {},
   "source": [
    "patch 00 -> patch 66\n",
    "\n"
   ]
  },
  {
   "cell_type": "markdown",
   "id": "a9e0b475-1205-457a-91c3-d71005dec248",
   "metadata": {},
   "source": [
    "(53.6, -31.2) -> (55.2, -29.6)"
   ]
  },
  {
   "cell_type": "code",
   "execution_count": 10,
   "id": "609c32f0-f03b-4e5f-85d4-7e9c7d4d8ed8",
   "metadata": {
    "tags": []
   },
   "outputs": [
    {
     "data": {
      "text/plain": [
       "(8.18181818181817, 6.818181818181818)"
      ]
     },
     "execution_count": 10,
     "metadata": {},
     "output_type": "execute_result"
    }
   ],
   "source": [
    "(55.5 - 53.7) / 0.22, (-29.7 + 31.2) / 0.22"
   ]
  },
  {
   "cell_type": "markdown",
   "id": "8eade4a3-06f6-42b6-96a5-edf66b3f317e",
   "metadata": {},
   "source": [
    "ra_range = np.linspace(53.9, 55.2, 10).round(2)\n",
    "dec_range = np.linspace(-31.2, -29.9, 10).round(2)"
   ]
  },
  {
   "cell_type": "code",
   "execution_count": null,
   "id": "9bdac5d5-fc13-4e27-9999-39401463abad",
   "metadata": {},
   "outputs": [],
   "source": []
  },
  {
   "cell_type": "code",
   "execution_count": null,
   "id": "07157efd-e164-4b7b-926f-d0f80d3775e4",
   "metadata": {},
   "outputs": [],
   "source": []
  },
  {
   "cell_type": "code",
   "execution_count": 11,
   "id": "ef753030-5a96-47a1-92fe-9d2b845688e0",
   "metadata": {
    "tags": []
   },
   "outputs": [],
   "source": [
    "ra_range = np.linspace(53.7, 55.5, 7).round(2)\n",
    "dec_range = np.linspace(-31.2, -29.7, 7).round(2)"
   ]
  },
  {
   "cell_type": "markdown",
   "id": "738170fb-3652-4706-95ed-48eb2b9961d2",
   "metadata": {
    "tags": []
   },
   "source": [
    "injection strategy\n",
    "\n",
    "\n",
    "- broad vs. sharp\n",
    "\n",
    "    - mag 20, host 20\n",
    "\n",
    "    - mag 23, host 20\n",
    "\n",
    "    - mag 20, host 23\n",
    "\n",
    "    - mag 23, host 23\n",
    "    \n",
    "- how many hosts?\n",
    "\n",
    "- how many pieces, 10 * 10? 8 * 8"
   ]
  },
  {
   "cell_type": "code",
   "execution_count": 14,
   "id": "d8aa0e3a-3abf-417b-aa91-8231390dd29d",
   "metadata": {
    "tags": []
   },
   "outputs": [
    {
     "data": {
      "text/plain": [
       "0.2222222222222222"
      ]
     },
     "execution_count": 14,
     "metadata": {},
     "output_type": "execute_result"
    }
   ],
   "source": [
    "4000 * 0.2 / 3600"
   ]
  },
  {
   "cell_type": "code",
   "execution_count": 13,
   "id": "3d737689-82c7-4315-af41-5dbe47e765ea",
   "metadata": {
    "tags": []
   },
   "outputs": [
    {
     "data": {
      "text/plain": [
       "(8.18181818181817, 6.818181818181818)"
      ]
     },
     "execution_count": 13,
     "metadata": {},
     "output_type": "execute_result"
    }
   ],
   "source": [
    "(55.5 - 53.7) / 0.22, (-29.7 + 31.2) / 0.22"
   ]
  },
  {
   "cell_type": "markdown",
   "id": "716cf82d-64e1-4eec-af89-2cf92122d737",
   "metadata": {},
   "source": [
    "1. injections per image (m)\n",
    "\n",
    "2. how many science images (n)\n",
    "\n",
    "3. m * n"
   ]
  },
  {
   "cell_type": "code",
   "execution_count": null,
   "id": "9652ab86-d9fe-4293-82d7-0135c5574bfc",
   "metadata": {},
   "outputs": [],
   "source": [
    "ra_range = np.linspace(53.7, 55.5, 7).round(2)\n",
    "dec_range = np.linspace(-31.2, -29.7, 7).round(2)"
   ]
  },
  {
   "cell_type": "code",
   "execution_count": 171,
   "id": "a2336d3b-c52f-4294-9859-4eede238bcd9",
   "metadata": {
    "tags": []
   },
   "outputs": [
    {
     "name": "stdout",
     "output_type": "stream",
     "text": [
      "15 1 53.570555301373844 -31.168315280377694\n",
      "10 2 53.70179955700191 -30.99584391697023\n",
      "14 2 53.7268850446794 -30.674108889379628\n",
      "13 3 53.68777890033913 -30.329658401617404\n",
      "19 2 53.57938759071659 -30.169415269758208\n",
      "21 2 53.659056531199596 -29.84290263184492\n",
      "24 1 53.72714338727883 -29.635023567682374\n",
      "\n",
      "\n",
      "16 2 53.971668775190004 -31.07727818912097\n",
      "16 4 54.021516843487866 -30.926912029980098\n",
      "13 6 53.90462125053126 -30.594625160665082\n",
      "15 4 53.88900311614404 -30.478825875172664\n",
      "16 4 53.9356121941926 -30.08548154988078\n",
      "19 4 53.973525459123664 -29.918459453968968\n",
      "18 1 54.070257773535744 -29.69958944852883\n",
      "\n",
      "\n",
      "18 4 54.31452331804923 -31.10274120166769\n",
      "19 6 54.3465673991383 -30.860479840422276\n",
      "18 3 54.353951957631935 -30.598671190651288\n",
      "18 5 54.3996250261985 -30.370217258579153\n",
      "18 4 54.44073480655596 -30.120080933288094\n",
      "16 4 54.222263472947255 -30.012276725018282\n",
      "18 2 54.33202393304478 -29.78407145069952\n",
      "\n",
      "\n",
      "19 4 54.59091711496539 -31.141410413085058\n",
      "18 3 54.62981053504519 -30.888395412904767\n",
      "18 3 54.61450300411495 -30.641317442276854\n",
      "18 5 54.6720923696615 -30.409283977285984\n",
      "19 4 54.70335611140693 -30.15745991841894\n",
      "21 4 54.47232510721423 -29.89772055942386\n",
      "22 2 54.50524831560217 -29.66535094119963\n",
      "\n",
      "\n",
      "18 6 54.869331488766285 -31.1630719186921\n",
      "18 4 54.889956220139794 -30.937193442123686\n",
      "21 4 54.89214145245419 -30.671117105502397\n",
      "20 4 54.932441355732465 -30.433881657072565\n",
      "19 3 54.978484192407066 -30.20034905753812\n",
      "22 4 55.00393206908542 -29.974207008514046\n",
      "24 3 54.78535966067921 -29.695883490599176\n",
      "\n",
      "\n",
      "20 4 55.082559193435834 -31.165792141672792\n",
      "20 3 55.11788044934473 -30.926396908651498\n",
      "24 4 55.18773372499607 -30.696712588120576\n",
      "22 4 55.19737733875829 -30.47391752273014\n",
      "20 4 55.25509897666333 -30.231285326862157\n",
      "23 4 55.256812240171755 -30.001682560357835\n",
      "23 2 55.30328763126108 -29.775033114835715\n",
      "\n",
      "\n",
      "21 3 55.36595019579808 -31.208344247194844\n",
      "21 2 55.40941717624972 -30.96342343086768\n",
      "26 1 55.4411204087883 -30.725637391750283\n",
      "18 2 55.505022474406665 -30.48965676581286\n",
      "21 2 55.57762127309223 -30.166801278635905\n",
      "23 2 55.42754988881243 -29.857288038648154\n",
      "25 1 55.528796296668474 -29.638864397247566\n",
      "\n",
      "\n"
     ]
    }
   ],
   "source": [
    "calexp_ids = set()\n",
    "band = 'i'\n",
    "result = []\n",
    "for ra in ra_range:\n",
    "    for dec in dec_range:\n",
    "        science_refs = get_science_ref(ra, dec, band)\n",
    "        template_refs = get_template_ref(ra, dec, band)\n",
    "        i = 0\n",
    "        while science_refs[i].dataId in calexp_ids:\n",
    "            i += 1\n",
    "        science = butler.get(\"calexp\", science_refs[i].dataId)\n",
    "        calexp_ids.add(science_refs[i].dataId)\n",
    "        x = science.getWcs().getSkyOrigin().getRa().asDegrees()\n",
    "        y = science.getWcs().getSkyOrigin().getDec().asDegrees()\n",
    "        print(len(science_refs), len(template_refs), x,y)\n",
    "        result.append([len(science_refs), len(template_refs)])\n",
    "    print('\\n')"
   ]
  },
  {
   "cell_type": "code",
   "execution_count": null,
   "id": "22af5613-a4f9-4a53-b5dd-cd870eaa7456",
   "metadata": {},
   "outputs": [],
   "source": []
  },
  {
   "cell_type": "code",
   "execution_count": null,
   "id": "28796c36-968f-49dc-a80f-1ec5a60511f5",
   "metadata": {},
   "outputs": [],
   "source": []
  },
  {
   "cell_type": "code",
   "execution_count": null,
   "id": "a5a634bb-f07c-4db8-9ffc-738b026efec6",
   "metadata": {},
   "outputs": [],
   "source": []
  },
  {
   "cell_type": "code",
   "execution_count": null,
   "id": "67ab4125-264d-4579-ba39-5b596d35b3bc",
   "metadata": {},
   "outputs": [],
   "source": []
  },
  {
   "cell_type": "code",
   "execution_count": null,
   "id": "54e2eadc-9301-44c0-83ce-a7b76a7fd4e1",
   "metadata": {},
   "outputs": [],
   "source": []
  },
  {
   "cell_type": "code",
   "execution_count": null,
   "id": "e0f6a951-1af4-4fc8-8492-959b915b1c1f",
   "metadata": {},
   "outputs": [],
   "source": []
  },
  {
   "cell_type": "code",
   "execution_count": null,
   "id": "723146c3-26ce-464c-930f-1814db202882",
   "metadata": {},
   "outputs": [],
   "source": []
  },
  {
   "cell_type": "code",
   "execution_count": null,
   "id": "624f0cf6-a630-4932-a64f-724c63bae997",
   "metadata": {},
   "outputs": [],
   "source": []
  },
  {
   "cell_type": "code",
   "execution_count": null,
   "id": "af178343-375f-483c-86e5-bf1d906efe18",
   "metadata": {},
   "outputs": [],
   "source": []
  },
  {
   "cell_type": "code",
   "execution_count": null,
   "id": "01655180-c63a-4f7a-93f6-3d822d0a9f3d",
   "metadata": {},
   "outputs": [],
   "source": []
  },
  {
   "cell_type": "code",
   "execution_count": null,
   "id": "5dae3d02-00c0-46cc-aeb6-ea4cb5f83760",
   "metadata": {},
   "outputs": [],
   "source": []
  },
  {
   "cell_type": "code",
   "execution_count": null,
   "id": "e7c54b41-a473-4138-8fd4-e9a8872d9f9d",
   "metadata": {},
   "outputs": [],
   "source": []
  },
  {
   "cell_type": "code",
   "execution_count": null,
   "id": "9c543fb3-74a2-4304-81eb-ab48d6ad223d",
   "metadata": {},
   "outputs": [],
   "source": []
  },
  {
   "cell_type": "code",
   "execution_count": null,
   "id": "9ce003c1-753d-47d4-b4f7-75b7fa08a833",
   "metadata": {},
   "outputs": [],
   "source": []
  },
  {
   "cell_type": "code",
   "execution_count": null,
   "id": "b2191119-66ba-408f-9767-77c4c327d74d",
   "metadata": {},
   "outputs": [],
   "source": [
    "(55.2 - 53.6) / 0.22"
   ]
  },
  {
   "cell_type": "code",
   "execution_count": 93,
   "id": "afab9cd3-0df7-43d3-a45d-4216c06253d4",
   "metadata": {
    "tags": []
   },
   "outputs": [],
   "source": [
    "ra, dec = 55.2, -29.6\n",
    "band = 'i'\n",
    "\n",
    "science_refs = get_science_ref(ra, dec, band)\n",
    "template_refs = get_template_ref(ra, dec, band)"
   ]
  },
  {
   "cell_type": "code",
   "execution_count": 94,
   "id": "83c80586-4368-4e01-8d20-c1d0d5dbcf99",
   "metadata": {
    "tags": []
   },
   "outputs": [
    {
     "name": "stdout",
     "output_type": "stream",
     "text": [
      "26 1\n"
     ]
    }
   ],
   "source": [
    "print(len(science_refs), len(template_refs))"
   ]
  },
  {
   "cell_type": "code",
   "execution_count": 95,
   "id": "69b6fd3c-3af5-45d9-a81e-4bc1013896da",
   "metadata": {
    "tags": []
   },
   "outputs": [
    {
     "data": {
      "text/plain": [
       "42"
      ]
     },
     "execution_count": 95,
     "metadata": {},
     "output_type": "execute_result"
    }
   ],
   "source": [
    "template_refs[0].dataId['patch']"
   ]
  },
  {
   "cell_type": "code",
   "execution_count": null,
   "id": "d9edb53e-2f20-4c15-8887-b01aa0854d45",
   "metadata": {
    "tags": []
   },
   "outputs": [],
   "source": []
  },
  {
   "cell_type": "code",
   "execution_count": 13,
   "id": "c818dae7-c2ab-4d4f-9d30-28c7a13eba34",
   "metadata": {
    "tags": []
   },
   "outputs": [
    {
     "data": {
      "text/plain": [
       "0.13000000000000042"
      ]
     },
     "execution_count": 13,
     "metadata": {},
     "output_type": "execute_result"
    }
   ],
   "source": [
    "(55.2 - 53.9) / 10"
   ]
  },
  {
   "cell_type": "code",
   "execution_count": 14,
   "id": "f074429e-98ab-48e7-aef7-91d51972001d",
   "metadata": {
    "tags": []
   },
   "outputs": [
    {
     "data": {
      "text/plain": [
       "array([53.9 , 54.04, 54.19, 54.33, 54.48, 54.62, 54.77, 54.91, 55.06,\n",
       "       55.2 ])"
      ]
     },
     "execution_count": 14,
     "metadata": {},
     "output_type": "execute_result"
    }
   ],
   "source": [
    "np.linspace(53.9, 55.2, 10).round(2)"
   ]
  },
  {
   "cell_type": "code",
   "execution_count": 12,
   "id": "b8a7590b-4879-4987-a76b-4e5899e7305a",
   "metadata": {
    "tags": []
   },
   "outputs": [],
   "source": [
    "ra_range = np.linspace(53.9, 55.2, 10).round(2)\n",
    "dec_range = np.linspace(-31.2, -29.9, 10).round(2)"
   ]
  },
  {
   "cell_type": "code",
   "execution_count": 14,
   "id": "afe46a6a-235c-448f-96da-e90515cc210b",
   "metadata": {
    "tags": []
   },
   "outputs": [
    {
     "data": {
      "text/plain": [
       "(array([53.9 , 54.04, 54.19, 54.33, 54.48, 54.62, 54.77, 54.91, 55.06,\n",
       "        55.2 ]),\n",
       " array([-31.2 , -31.06, -30.91, -30.77, -30.62, -30.48, -30.33, -30.19,\n",
       "        -30.04, -29.9 ]))"
      ]
     },
     "execution_count": 14,
     "metadata": {},
     "output_type": "execute_result"
    }
   ],
   "source": [
    "ra_range, dec_range"
   ]
  },
  {
   "cell_type": "code",
   "execution_count": 15,
   "id": "2b274c79-6e68-4cd4-a4f9-12e29af38027",
   "metadata": {
    "tags": []
   },
   "outputs": [
    {
     "name": "stdout",
     "output_type": "stream",
     "text": [
      "13 2\n",
      "12 4\n",
      "14 4\n",
      "12 5\n",
      "14 5\n",
      "14 4\n",
      "14 4\n",
      "16 4\n",
      "16 3\n",
      "17 4\n",
      "\n",
      "\n",
      "14 2\n",
      "18 4\n",
      "16 7\n",
      "15 6\n",
      "13 6\n",
      "16 4\n",
      "14 4\n",
      "18 4\n",
      "19 3\n",
      "19 4\n",
      "\n",
      "\n",
      "19 2\n",
      "16 4\n",
      "17 6\n",
      "14 4\n",
      "15 4\n",
      "14 3\n",
      "16 4\n",
      "14 4\n",
      "19 3\n",
      "21 4\n",
      "\n",
      "\n",
      "20 3\n",
      "17 4\n",
      "17 4\n",
      "18 3\n",
      "17 3\n",
      "20 5\n",
      "16 4\n",
      "18 4\n",
      "16 4\n",
      "18 4\n",
      "\n",
      "\n",
      "18 3\n",
      "19 4\n",
      "22 3\n",
      "19 3\n",
      "18 4\n",
      "16 4\n",
      "18 4\n",
      "19 4\n",
      "19 4\n",
      "20 4\n",
      "\n",
      "\n",
      "18 4\n",
      "19 4\n",
      "20 4\n",
      "18 3\n",
      "21 3\n",
      "16 5\n",
      "17 5\n",
      "18 4\n",
      "19 4\n",
      "21 4\n",
      "\n",
      "\n",
      "18 4\n",
      "19 6\n",
      "18 4\n",
      "20 3\n",
      "26 4\n",
      "20 3\n",
      "18 3\n",
      "19 4\n",
      "21 4\n",
      "19 4\n",
      "\n",
      "\n",
      "17 6\n",
      "17 6\n",
      "20 4\n",
      "24 4\n",
      "24 4\n",
      "20 4\n",
      "18 4\n",
      "18 3\n",
      "18 4\n",
      "24 4\n",
      "\n",
      "\n",
      "19 4\n",
      "20 4\n",
      "23 4\n",
      "22 4\n",
      "23 4\n",
      "24 4\n",
      "22 4\n",
      "19 4\n",
      "23 4\n",
      "20 4\n",
      "\n",
      "\n",
      "20 4\n",
      "23 4\n",
      "21 3\n",
      "22 4\n",
      "24 4\n",
      "20 4\n",
      "18 4\n",
      "20 4\n",
      "21 4\n",
      "22 4\n",
      "\n",
      "\n"
     ]
    }
   ],
   "source": [
    "band = 'i'\n",
    "result = []\n",
    "for ra in ra_range:\n",
    "    for dec in dec_range:\n",
    "        science_refs = get_science_ref(ra, dec, band)\n",
    "        template_refs = get_template_ref(ra, dec, band)\n",
    "        print(len(science_refs), len(template_refs))\n",
    "        result.append([len(science_refs), len(template_refs)])\n",
    "    print('\\n')"
   ]
  },
  {
   "cell_type": "code",
   "execution_count": null,
   "id": "7fb41917-3039-4a29-b737-dafb6dcb799c",
   "metadata": {},
   "outputs": [],
   "source": []
  },
  {
   "cell_type": "code",
   "execution_count": null,
   "id": "337445b0-cf6c-47ae-b598-d7986950c986",
   "metadata": {},
   "outputs": [],
   "source": []
  },
  {
   "cell_type": "code",
   "execution_count": null,
   "id": "0c22156a-6e35-4884-aceb-970419effb6b",
   "metadata": {},
   "outputs": [],
   "source": []
  },
  {
   "cell_type": "code",
   "execution_count": 308,
   "id": "d87c51c9-0c8c-4636-a915-80c30a915a83",
   "metadata": {
    "tags": []
   },
   "outputs": [
    {
     "data": {
      "text/plain": [
       "2.6000000000000014"
      ]
     },
     "execution_count": 308,
     "metadata": {},
     "output_type": "execute_result"
    }
   ],
   "source": [
    "(-29.9 + 31.2) / delta_degree"
   ]
  },
  {
   "cell_type": "code",
   "execution_count": 309,
   "id": "d7b586d0-b2ae-4690-9586-8e8cdfc582c7",
   "metadata": {
    "tags": []
   },
   "outputs": [
    {
     "data": {
      "text/plain": [
       "0.5"
      ]
     },
     "execution_count": 309,
     "metadata": {},
     "output_type": "execute_result"
    }
   ],
   "source": [
    "delta_degree"
   ]
  },
  {
   "cell_type": "code",
   "execution_count": 310,
   "id": "c6e15f60-e3c2-462a-ad01-314b675dc13c",
   "metadata": {
    "tags": []
   },
   "outputs": [
    {
     "data": {
      "text/plain": [
       "0.4444444444444444"
      ]
     },
     "execution_count": 310,
     "metadata": {},
     "output_type": "execute_result"
    }
   ],
   "source": [
    "4000 * 0.4 / 3600"
   ]
  },
  {
   "cell_type": "code",
   "execution_count": 184,
   "id": "e5549eb7-3c3f-4a4a-b446-f43b076e8cbc",
   "metadata": {
    "tags": []
   },
   "outputs": [],
   "source": [
    "science = butler.get(\"calexp\", science_refs[0].dataId)\n",
    "template = get_template(template_refs, science, butler)"
   ]
  },
  {
   "cell_type": "code",
   "execution_count": 311,
   "id": "a20dec4a-1981-467c-8339-91f5f68c77e0",
   "metadata": {
    "tags": []
   },
   "outputs": [
    {
     "data": {
      "text/plain": [
       "(4000, 4072)"
      ]
     },
     "execution_count": 311,
     "metadata": {},
     "output_type": "execute_result"
    }
   ],
   "source": [
    "science.getImage().array.shape"
   ]
  },
  {
   "cell_type": "code",
   "execution_count": 180,
   "id": "9b5f490b-0af1-4c48-bb7f-61466cf019de",
   "metadata": {
    "tags": []
   },
   "outputs": [],
   "source": []
  },
  {
   "cell_type": "code",
   "execution_count": 110,
   "id": "53ce28f9-0242-410f-8464-973d0cd23dce",
   "metadata": {
    "tags": []
   },
   "outputs": [
    {
     "data": {
      "text/plain": [
       "FITS standard SkyWcs:\n",
       "Sky Origin: (57.0735012847, -29.4345321171)\n",
       "Pixel Origin: (1864.75, 2018.68)\n",
       "Pixel Scale: 0.200029 arcsec/pixel"
      ]
     },
     "execution_count": 110,
     "metadata": {},
     "output_type": "execute_result"
    }
   ],
   "source": [
    "science.getWcs()"
   ]
  },
  {
   "cell_type": "code",
   "execution_count": 108,
   "id": "2fdc1e85-e747-47da-bfca-ca1711a88a7d",
   "metadata": {
    "tags": []
   },
   "outputs": [
    {
     "data": {
      "text/plain": [
       "(4000, 4072)"
      ]
     },
     "execution_count": 108,
     "metadata": {},
     "output_type": "execute_result"
    }
   ],
   "source": [
    "science.getImage().array.shape"
   ]
  },
  {
   "cell_type": "code",
   "execution_count": 67,
   "id": "39effe4e-ac37-4486-8e52-321294f1d8ce",
   "metadata": {
    "tags": []
   },
   "outputs": [
    {
     "data": {
      "text/plain": [
       "0.45555555555555555"
      ]
     },
     "execution_count": 67,
     "metadata": {},
     "output_type": "execute_result"
    }
   ],
   "source": [
    "4100 *0.4 / 3600"
   ]
  },
  {
   "cell_type": "code",
   "execution_count": 69,
   "id": "0c182837-8992-421e-bd19-90f7cd503375",
   "metadata": {
    "tags": []
   },
   "outputs": [],
   "source": [
    "delta_degree = 0.46"
   ]
  },
  {
   "cell_type": "code",
   "execution_count": null,
   "id": "8e71c112-ec00-4110-8354-ac44f4b90842",
   "metadata": {
    "tags": []
   },
   "outputs": [],
   "source": []
  },
  {
   "cell_type": "code",
   "execution_count": 45,
   "id": "b44b1a6e-1dc9-4cc6-b947-cc0b4d707e22",
   "metadata": {
    "tags": []
   },
   "outputs": [],
   "source": [
    "science_refs = get_science_ref(ra=55+delta_deg, dec=-30, output_collection='user', band = \"i\", site='NERSC')"
   ]
  },
  {
   "cell_type": "code",
   "execution_count": null,
   "id": "1b23d314-caab-4a67-a564-dbc1d3d286ae",
   "metadata": {},
   "outputs": [],
   "source": []
  },
  {
   "cell_type": "code",
   "execution_count": 90,
   "id": "82a75251-13bb-4260-b69a-12b030ad4fa7",
   "metadata": {
    "tags": []
   },
   "outputs": [
    {
     "data": {
      "text/plain": [
       "DatasetRef(DatasetType('calexp', {band, instrument, detector, physical_filter, visit_system, visit}, ExposureF), {instrument: 'LSSTCam-imSim', detector: 83, visit: 6826, band: 'i', physical_filter: 'i_sim_1.4', visit_system: 1}, run='u/descdm/sfp_Y1_4431_4432_visits_part_00/20211217T211930Z', id=d4d73fb2-b783-47c7-9569-ceab92502f52)"
      ]
     },
     "execution_count": 90,
     "metadata": {},
     "output_type": "execute_result"
    }
   ],
   "source": [
    "science_refs[0]"
   ]
  },
  {
   "cell_type": "code",
   "execution_count": 86,
   "id": "b5ae74be-e9b3-440d-bd20-fc690f8020f8",
   "metadata": {
    "tags": []
   },
   "outputs": [
    {
     "name": "stdout",
     "output_type": "stream",
     "text": [
      "16 (52.5037075144, -33.9568219186)\n",
      "16 (52.6271917541, -33.5178813765)\n",
      "16 (52.4964947767, -32.9944196029)\n",
      "24 (52.6500871914, -32.5265933615)\n",
      "22 (52.5050075329, -32.0200451363)\n",
      "20 (52.4254671358, -31.5841318903)\n",
      "17 (52.5910575890, -31.0650900071)\n",
      "16 (52.5381625185, -30.4015184072)\n",
      "17 (52.5117205765, -30.0809372390)\n",
      "19 (52.4590778271, -29.4158667168)\n",
      "\n",
      "\n",
      "15 (53.0543878582, -34.0627356700)\n",
      "20 (52.9139099594, -33.5460795478)\n",
      "16 (53.0423019912, -33.0966075907)\n",
      "22 (52.9087917036, -32.5869587976)\n",
      "21 (53.0557943110, -32.1227314914)\n",
      "18 (53.0101574849, -31.3749588041)\n",
      "15 (52.9823882395, -31.0358387407)\n",
      "12 (53.1415554210, -30.5307878185)\n",
      "17 (52.8825511834, -30.0498140727)\n",
      "17 (52.9273606424, -29.4656599854)\n",
      "\n",
      "\n",
      "13 (53.6640640024, -33.9538140307)\n",
      "16 (53.5306856950, -33.4329467321)\n",
      "16 (53.3884726947, -32.9339752343)\n",
      "20 (53.5259548934, -32.4765780099)\n",
      "19 (53.3703206043, -31.9603936929)\n",
      "17 (53.5195096468, -31.4974172759)\n",
      "10 (53.3711790887, -31.0306678279)\n",
      "13 (53.5134305762, -30.5033028091)\n",
      "18 (53.4642928138, -29.8483027544)\n",
      "20 (53.4532862665, -29.5769718694)\n",
      "\n",
      "\n",
      "12 (53.9412563852, -34.0139971581)\n",
      "23 (54.0583785936, -33.5507552280)\n",
      "19 (53.9559715071, -33.0387601404)\n",
      "19 (54.0661648706, -32.5843200763)\n",
      "20 (53.9344843974, -32.0657513972)\n",
      "19 (54.0469212006, -31.6122499771)\n",
      "16 (53.9716687752, -31.0772781891)\n",
      "14 (53.8890031161, -30.4788258752)\n",
      "16 (53.9735254591, -29.9184594540)\n",
      "18 (53.9096701998, -29.3973555475)\n",
      "\n",
      "\n",
      "12 (54.5483423712, -33.8783830926)\n",
      "13 (54.4108657601, -33.3932018759)\n",
      "20 (54.5334017088, -32.9140461291)\n",
      "25 (54.4021009211, -32.4111609812)\n",
      "22 (54.5224882020, -31.9443956000)\n",
      "22 (54.5156580020, -31.5988731150)\n",
      "18 (54.6298105350, -30.8883954129)\n",
      "20 (54.3539519576, -30.5986711907)\n",
      "18 (54.4723251072, -29.8977205594)\n",
      "17 (54.5486605564, -29.4279358919)\n",
      "\n",
      "\n",
      "12 (55.1131141446, -34.0006838588)\n",
      "11 (54.9511794842, -33.4833366753)\n",
      "17 (55.0914374697, -33.0079333068)\n",
      "19 (54.9442257390, -32.5176879615)\n",
      "21 (55.0632327276, -32.0658683870)\n",
      "23 (55.0532780707, -31.3936848181)\n",
      "22 (55.1178804493, -30.9263969087)\n",
      "21 (54.9324413557, -30.4338816571)\n",
      "22 (55.0039320691, -29.9742070085)\n",
      "23 (55.0952633746, -29.4848047470)\n",
      "\n",
      "\n",
      "11 (55.3844491462, -34.0510384773)\n",
      "17 (55.5169572207, -33.5837965741)\n",
      "17 (55.3567338963, -33.0836111761)\n",
      "20 (55.4723823558, -32.6267575778)\n",
      "19 (55.3907990476, -31.8795519509)\n",
      "20 (55.6039461056, -31.4570908204)\n",
      "20 (55.4094171762, -30.9634234309)\n",
      "20 (55.5050224744, -30.4896567658)\n",
      "22 (55.4275498888, -29.8572880386)\n",
      "25 (55.6278490301, -29.4286775934)\n",
      "\n",
      "\n",
      "14 (56.0768033546, -34.0991151749)\n",
      "15 (55.9689160821, -33.5917190144)\n",
      "18 (55.9742916105, -32.9563900048)\n",
      "17 (56.0550033773, -32.4834820798)\n",
      "21 (55.8267457082, -31.9904643962)\n",
      "22 (56.1444696604, -31.5269243403)\n",
      "24 (56.0106820742, -31.1002831633)\n",
      "21 (55.9696041677, -30.5696955049)\n",
      "28 (55.9404288807, -30.0425213327)\n",
      "22 (55.8687588957, -29.5238306112)\n",
      "\n",
      "\n",
      "10 (56.4232333865, -33.9432887067)\n",
      "18 (56.5743182717, -33.4767163612)\n",
      "25 (56.5117770072, -33.1119408750)\n",
      "20 (56.5975378359, -32.5448811839)\n",
      "19 (56.4064941282, -32.0443148502)\n",
      "21 (56.4197757597, -31.5474624565)\n",
      "24 (56.3679864979, -30.9640750463)\n",
      "23 (56.5709288097, -30.5248738585)\n",
      "20 (56.5200546358, -30.0104928812)\n",
      "22 (56.4746253210, -29.4772214112)\n",
      "\n",
      "\n",
      "13 (56.9864884331, -34.0606733643)\n",
      "20 (56.8421867430, -33.5466902262)\n",
      "24 (57.0039239285, -33.0839553589)\n",
      "24 (56.9849536620, -32.4897959078)\n",
      "20 (56.9447061046, -32.0832706536)\n",
      "25 (57.0325076885, -31.4399983120)\n",
      "24 (56.9991644103, -30.9191928733)\n",
      "24 (56.9188572393, -30.3985643520)\n",
      "22 (57.1297009894, -29.9550307075)\n",
      "22 (57.0735012847, -29.4345321171)\n",
      "\n",
      "\n"
     ]
    }
   ],
   "source": [
    "ra_center, dec_center = 55, -30\n",
    "delta_degree = 0.5\n",
    "result = []\n",
    "for i in range(-5, 5):\n",
    "    delta_ra = delta_degree * i\n",
    "    for j in range(-8, 2):\n",
    "        delta_dec = delta_degree * j\n",
    "        \n",
    "        ra = ra_center + delta_ra\n",
    "        dec = dec_center + delta_dec\n",
    "        science_refs = get_science_ref(ra, dec)\n",
    "        result.append(len(science_refs))\n",
    "        science = butler.get(\"calexp\", science_refs[0].dataId)\n",
    "        print(len(science_refs), science.getWcs().getSkyOrigin())\n",
    "    print('\\n')"
   ]
  },
  {
   "cell_type": "code",
   "execution_count": null,
   "id": "7257442f-79ba-4a2e-9913-a0b9974826b2",
   "metadata": {},
   "outputs": [],
   "source": []
  },
  {
   "cell_type": "code",
   "execution_count": null,
   "id": "c44fad7b-cbb5-4010-a967-49f6eca6d8af",
   "metadata": {},
   "outputs": [],
   "source": []
  },
  {
   "cell_type": "code",
   "execution_count": null,
   "id": "c8b74195-f732-4ec8-837d-4df23bcb11a9",
   "metadata": {},
   "outputs": [],
   "source": []
  },
  {
   "cell_type": "code",
   "execution_count": null,
   "id": "21c2448a-020e-4613-9a7c-96cd4c2357c4",
   "metadata": {},
   "outputs": [],
   "source": [
    "ra_range  = (-5, 5) # [-6, 9]\n",
    "dec_range = (-8, 2) # [-9, 4]"
   ]
  },
  {
   "cell_type": "code",
   "execution_count": 18,
   "id": "c1363a94-5151-4e43-a7b8-e1b2296a45b4",
   "metadata": {
    "tags": []
   },
   "outputs": [],
   "source": [
    "# science = butler.get(\"calexp\", science_dr.dataId)\n",
    "# source_catalog = butler.get(\"src\", dataId=science_dr.dataId)"
   ]
  },
  {
   "cell_type": "code",
   "execution_count": null,
   "id": "d8af2887-59e7-437b-9e23-177459f620c0",
   "metadata": {},
   "outputs": [],
   "source": []
  },
  {
   "cell_type": "code",
   "execution_count": 21,
   "id": "7bb48ecc-3eda-4e41-b9ac-b732a75b66f3",
   "metadata": {
    "tags": []
   },
   "outputs": [
    {
     "data": {
      "text/plain": [
       "22"
      ]
     },
     "execution_count": 21,
     "metadata": {},
     "output_type": "execute_result"
    }
   ],
   "source": [
    "len(dataset_refs)"
   ]
  },
  {
   "cell_type": "code",
   "execution_count": 22,
   "id": "7494c4ac-7f5f-40a1-8197-f36ee3ff66e2",
   "metadata": {
    "tags": []
   },
   "outputs": [],
   "source": [
    "bbox = science.getBBox()"
   ]
  },
  {
   "cell_type": "code",
   "execution_count": 31,
   "id": "6877a374-d37f-4a04-afb2-630be2c5ea5e",
   "metadata": {
    "tags": []
   },
   "outputs": [
    {
     "data": {
      "text/plain": [
       "SpherePoint(55.04636806215645*degrees, -30.00032343802074*degrees)"
      ]
     },
     "execution_count": 31,
     "metadata": {},
     "output_type": "execute_result"
    }
   ],
   "source": [
    "# bbox.contains()\n",
    "wcs = science.getWcs()\n",
    "wcs.getSkyOrigin()"
   ]
  },
  {
   "cell_type": "code",
   "execution_count": 73,
   "id": "f772e47e-1e37-481d-a1aa-43d90e7a8183",
   "metadata": {
    "tags": []
   },
   "outputs": [
    {
     "name": "stdout",
     "output_type": "stream",
     "text": [
      "(54.9324413557, -30.4338816571)\n",
      "(54.9861575042, -30.4600072996)\n",
      "(54.9667397103, -30.3538252888)\n",
      "(55.0615899612, -30.5568152211)\n",
      "(55.0413578239, -30.5122344235)\n",
      "(54.9591418334, -30.5335349529)\n",
      "(54.9427623097, -30.3911937606)\n",
      "(55.0686517377, -30.3439233089)\n",
      "(55.0790461113, -30.4922088877)\n",
      "(54.9135411726, -30.3834550884)\n",
      "(54.9354553243, -30.4111710646)\n",
      "(55.0253824154, -30.4250243018)\n",
      "(55.0199947648, -30.3137194808)\n",
      "(54.8598071950, -30.5127807284)\n",
      "(54.9577241699, -30.3965942767)\n",
      "(54.9359836867, -30.4467367617)\n",
      "(55.0110711860, -30.4470850546)\n",
      "(54.8540541615, -30.4758640657)\n",
      "(54.9975772864, -30.5710063253)\n",
      "(55.0144907438, -30.3462592589)\n",
      "(54.9009024774, -30.5577980115)\n",
      "(54.9021331902, -30.4993412321)\n"
     ]
    }
   ],
   "source": [
    "for science_dr in science_refs:\n",
    "    science = butler.get(\"calexp\", science_dr.dataId)\n",
    "    print(science.getWcs().getSkyOrigin())"
   ]
  },
  {
   "cell_type": "code",
   "execution_count": null,
   "id": "c534acf1-9eff-4c3c-9214-fa27e3ec04bc",
   "metadata": {},
   "outputs": [],
   "source": []
  }
 ],
 "metadata": {
  "kernelspec": {
   "display_name": "desc-stack-weekly-latest",
   "language": "python",
   "name": "desc-stack-weekly-latest"
  },
  "language_info": {
   "codemirror_mode": {
    "name": "ipython",
    "version": 3
   },
   "file_extension": ".py",
   "mimetype": "text/x-python",
   "name": "python",
   "nbconvert_exporter": "python",
   "pygments_lexer": "ipython3",
   "version": "3.11.4"
  }
 },
 "nbformat": 4,
 "nbformat_minor": 5
}
