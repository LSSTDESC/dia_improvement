{
 "cells": [
  {
   "cell_type": "code",
   "execution_count": 1,
   "id": "74bcb105-bcfe-4e14-a235-8dda5aca2b79",
   "metadata": {},
   "outputs": [],
   "source": [
    "import sqlite3\n",
    "import re\n",
    "import numpy as np\n",
    "import pandas as pd\n",
    "from astropy.table import Table\n",
    "from astropy import units as u\n",
    "from astropy.coordinates import SkyCoord\n",
    "from lsst.afw.table import BaseCatalog\n",
    "import data_process_utils as dpu\n",
    "import matplotlib.pyplot as plt\n",
    "from scipy.stats import multivariate_normal\n",
    "from astropy.visualization import ZScaleInterval\n",
    "import lsst.afw.image as afwImage\n",
    "from lsst.daf.persistence import Butler\n",
    "interval = ZScaleInterval()"
   ]
  },
  {
   "cell_type": "code",
   "execution_count": 2,
   "id": "6556af11-c119-4a0e-865f-777788ea8b02",
   "metadata": {},
   "outputs": [],
   "source": [
    "base_flags = ['base_PixelFlags_flag_saturated', 'base_PixelFlags_flag_saturatedCenter', 'base_PixelFlags_flag_suspect',\n",
    "              'base_PixelFlags_flag_suspectCenter', 'base_PixelFlags_flag_offimage', 'base_PixelFlags_flag_edge',\n",
    "              'base_PixelFlags_flag_bad', 'base_NaiveCentroid_flag']\n",
    "dipole_flags = ['ip_diffim_DipoleFit_flag_classification', 'ip_diffim_DipoleFit_flag_classificationAttempted']"
   ]
  },
  {
   "cell_type": "markdown",
   "id": "e3754d92-2849-4687-ad1b-da7a34e555c2",
   "metadata": {},
   "source": [
    "#### Flag Analysis"
   ]
  },
  {
   "cell_type": "code",
   "execution_count": 3,
   "id": "49eb5747-8387-4aa4-9dcb-5a0dd3f4226e",
   "metadata": {},
   "outputs": [],
   "source": [
    "\"\"\"\n",
    "def get_confm(flux_df, art_df, flag):\n",
    "    tp = (flux_df[flag]  == 0).sum()\n",
    "    fp = (art_df[flag]  == 0).sum()\n",
    "    tn = (art_df[flag]  == 1).sum()\n",
    "    fn = (flux_df[flag]  == 1).sum()\n",
    "    # rejection rate\n",
    "    rr = fn / len(flux_df)\n",
    "    return np.array([tp, fp, tn, fn, rr])\n",
    "\"\"\";\n",
    "\n",
    "def get_confm(flux_df, art_df, flag):\n",
    "    tp = (flux_df[flag]  == 0).sum()\n",
    "    fp = (art_df[flag]  == 0).sum()\n",
    "    tn = (art_df[flag]  == 1).sum()\n",
    "    fn = (flux_df[flag]  == 1).sum()\n",
    "    # rejection rate\n",
    "    # rr = fn / len(flux_df)\n",
    "    precision = tp / (tp + fp)\n",
    "    recall = tp / (tp + fn)\n",
    "    f1 = 2 * precision * recall / (precision + recall)\n",
    "    return np.array([precision, recall, f1])\n",
    "\n",
    "def get_confusion_matrix(flux_df, art_df, flag_cols):\n",
    "    confusion_matrix = np.array([0, 0, 0])\n",
    "    flag_list = []\n",
    "    for flag in flag_cols:\n",
    "        row = get_confm(flux_df, art_df, flag)\n",
    "        \"\"\"\n",
    "        if row[0] < len(flux_df) or row[2] < len(fp_df):\n",
    "            confusion_matrix = np.vstack((confusion_matrix, row))\n",
    "            flag_list.append(flag)\n",
    "        \"\"\"\n",
    "        confusion_matrix = np.vstack((confusion_matrix, row))\n",
    "        flag_list.append(flag)\n",
    "    confusion_matrix = confusion_matrix[1:, :]  \n",
    "    return confusion_matrix, flag_list"
   ]
  },
  {
   "cell_type": "code",
   "execution_count": 4,
   "id": "752f27f3-04d1-4b7c-9575-df3284b3da4c",
   "metadata": {},
   "outputs": [],
   "source": [
    "config = 'al_default'\n",
    "db = (\n",
    "    f'./data'\n",
    "    f'/patch_0to6/diff/{config}/detection/detection.sqlite'\n",
    ")\n",
    "conn = sqlite3.connect(db)\n",
    "flux = pd.read_sql_query(\"SELECT * FROM fake_src WHERE host_mag = '20_21' and fake_mag = 20\", conn)\n",
    "flux_det = flux.loc[flux.matched_status.astype(bool)]\n",
    "\n",
    "db = (\n",
    "    f'./data'\n",
    "    f'/patch_0to6/diff/{config}/detection/detection.sqlite'\n",
    ")\n",
    "conn = sqlite3.connect(db)\n",
    "art = pd.read_sql_query(\"SELECT * FROM artifact WHERE host_mag = '20_21' and fake_mag = 20\", conn)"
   ]
  },
  {
   "cell_type": "code",
   "execution_count": 26,
   "id": "0ae91eaf-6d60-45d1-ab89-2dade6657fd3",
   "metadata": {},
   "outputs": [],
   "source": [
    "t = BaseCatalog.readFits('./data/patch_0to6/diff/al_default/00_20_21_1013665_79_i/diff_20/schema/deepDiff_diaSrc.fits')\n",
    "schema = t.schema"
   ]
  },
  {
   "cell_type": "code",
   "execution_count": 27,
   "id": "8011fd2b-873a-4992-9885-c20fe899874e",
   "metadata": {},
   "outputs": [
    {
     "data": {
      "text/plain": [
       "(1862, 1184, 1184)"
      ]
     },
     "execution_count": 27,
     "metadata": {},
     "output_type": "execute_result"
    }
   ],
   "source": [
    "len(art), len(flux), len(flux_det)"
   ]
  },
  {
   "cell_type": "code",
   "execution_count": 28,
   "id": "5b4ebfc8-ef19-49ae-b068-10474ca1e05c",
   "metadata": {},
   "outputs": [],
   "source": [
    "FLAG_LIST = [\n",
    "    'base_PixelFlags_flag_saturated', 'base_PixelFlags_flag_saturatedCenter',\n",
    "    'base_PixelFlags_flag_suspect', 'base_PixelFlags_flag_suspectCenter',\n",
    "    'base_PixelFlags_flag_offimage', 'base_PixelFlags_flag_edge','base_PixelFlags_flag_bad',\n",
    "    'ip_diffim_DipoleFit_flag_classification', 'ip_diffim_DipoleFit_flag_classificationAttempted',\n",
    "    'base_SdssShape_flag', 'base_GaussianFlux_flag_badShape', 'slot_Shape_flag'\n",
    "]\n",
    "confusion_matrix, flag_list = get_confusion_matrix(flux_det, art, FLAG_LIST)\n",
    "\n",
    "FULL_FLAGS = []\n",
    "for i in flux_det.columns:\n",
    "    if re.search('flag', i):\n",
    "        FULL_FLAGS.append(i)\n",
    "confusion_matrix_full, flag_list_full = get_confusion_matrix(flux_det, art, FULL_FLAGS)"
   ]
  },
  {
   "cell_type": "code",
   "execution_count": null,
   "id": "f6361df4-008d-4ff9-9e9d-32009b0cf553",
   "metadata": {},
   "outputs": [],
   "source": []
  },
  {
   "cell_type": "code",
   "execution_count": null,
   "id": "43d9d32b-d2e6-497d-86e6-711f06c166b5",
   "metadata": {},
   "outputs": [],
   "source": []
  },
  {
   "cell_type": "code",
   "execution_count": 29,
   "id": "e4a43d7b-a98e-4ed1-a0d6-b4532ab3656e",
   "metadata": {},
   "outputs": [],
   "source": [
    "def count_neg(df, flag_list):\n",
    "    tof = np.zeros(len(df))\n",
    "    for flag in flag_list:\n",
    "        state = (df[flag] == 1).to_numpy()\n",
    "        tof = np.logical_or(tof, state)\n",
    "    return tof.sum()\n",
    "\n",
    "def count_pos(df, flag_list):\n",
    "    tof = np.ones(len(df))\n",
    "    for flag in flag_list:\n",
    "        state = (df[flag] == 0).to_numpy()\n",
    "        tof = np.logical_and(tof, state)\n",
    "    return tof.sum()"
   ]
  },
  {
   "cell_type": "code",
   "execution_count": 30,
   "id": "5852bd5d-d698-41f5-a2e0-d24fbaf9a129",
   "metadata": {},
   "outputs": [],
   "source": [
    "union_tp = count_pos(flux_det, FLAG_LIST)\n",
    "union_fp = count_pos(art, FLAG_LIST)\n",
    "union_tn = count_neg(art, FLAG_LIST)\n",
    "union_fn = count_neg(flux_det, FLAG_LIST)\n",
    "unoin_rr = union_fn / len(flux_det)\n",
    "union_precision = union_tp / (union_tp + union_fp)\n",
    "union_recall = union_tp / (union_tp + union_fn)\n",
    "union_f1 = 2 * union_precision * union_recall / (union_precision + union_recall)"
   ]
  },
  {
   "cell_type": "code",
   "execution_count": 31,
   "id": "64c30a4b-5089-4547-9bb0-8c8cd6f0720d",
   "metadata": {},
   "outputs": [
    {
     "data": {
      "text/plain": [
       "(1183,\n",
       " 146,\n",
       " 1716,\n",
       " 1,\n",
       " 0.8901429646350639,\n",
       " 0.9991554054054054,\n",
       " 0.9415041782729805)"
      ]
     },
     "execution_count": 31,
     "metadata": {},
     "output_type": "execute_result"
    }
   ],
   "source": [
    "union_tp, union_fp, union_tn, union_fn, union_precision, union_recall, union_f1"
   ]
  },
  {
   "cell_type": "code",
   "execution_count": 32,
   "id": "8b7deb7c-f35e-47e3-bc15-512fe389bdc5",
   "metadata": {},
   "outputs": [
    {
     "data": {
      "text/plain": [
       "(1184, 1184)"
      ]
     },
     "execution_count": 32,
     "metadata": {},
     "output_type": "execute_result"
    }
   ],
   "source": [
    "union_tp + union_fn, len(flux_det)"
   ]
  },
  {
   "cell_type": "code",
   "execution_count": 33,
   "id": "2c83f88a-0be0-4723-ad4a-a6683c4fd34a",
   "metadata": {},
   "outputs": [
    {
     "data": {
      "text/plain": [
       "(1862, 1862)"
      ]
     },
     "execution_count": 33,
     "metadata": {},
     "output_type": "execute_result"
    }
   ],
   "source": [
    "union_fp + union_tn, len(art)"
   ]
  },
  {
   "cell_type": "code",
   "execution_count": null,
   "id": "eb1ac745-a4ed-4dfd-9fdb-0f1b9f695cde",
   "metadata": {},
   "outputs": [],
   "source": []
  },
  {
   "cell_type": "code",
   "execution_count": 34,
   "id": "c7a3f9ff-db1e-40fa-b18a-c7250bf30c1d",
   "metadata": {},
   "outputs": [],
   "source": [
    "# selected flags\n",
    "with open('paper_flag_table.txt', \"w+\") as file:\n",
    "    file.write(\"\\\\begin{deluxetable*}{llrrr}\\n\")\n",
    "    file.write(\"\\\\tablecaption{Confusion Matrces of Selected Flags \"\n",
    "               \"\\\\label{tab:flag_selected}}\\n\")\n",
    "    file.write(\"\\\\tablewidth{0pt}\\n\")\n",
    "    file.write(\"\\\\tabletypesize{\\scriptsize}\\n\")\n",
    "    file.write(\"\\\\tablehead{\\n\")\n",
    "    file.write(\"\\\\colhead{Flag} & \\\\colhead{Description} & \\\\colhead{Precision} & \\\\colhead{Recall} & \\\\colhead{$F_1$}}\\n\")\n",
    "    file.write(\"\\\\startdata\\n\")\n",
    "    for i, flag in enumerate(FLAG_LIST):\n",
    "        flag_name = flag.replace('_', '\\\\_')\n",
    "        dscp = schema.extract(f\"{flag}\")[f'{flag}'].getField().getDoc()\n",
    "        dscp = dscp.replace('_', '\\\\_')\n",
    "        file.write(f\"{flag_name} & {dscp} & {confusion_matrix[i, 0]:.4f} & {confusion_matrix[i, 1]:.4f} & {confusion_matrix[i, 2]:.4f}\\\\\\\\\\n\")\n",
    "    file.write(f\"Union of Selected Flags & Apply all of above flags for source selection & \"\n",
    "               f\"{union_precision:.4f} & {union_recall:.4f} & {union_f1:.4f} \\\\\\\\\\n\")\n",
    "    file.write(\"\\\\enddata\\n\")\n",
    "    file.write(\"\\\\tablecomments{For a specific flag, precision is the fraction of detected \"\n",
    "               \"synthetic sources which do not have this flag set to True over the number of \"\n",
    "               \"all detections. Recall is the number of detected synthetic sources which do not \"\n",
    "               \"have this flag set to True over the number of all injected synthetic sources. $F_1$ \"\n",
    "               \"is their harmonic mean. A flag with high precision and recall is helpful for filtering \"\n",
    "               \"out artifacts.The last row shows the results of applying all of selected flags.}\\n\")\n",
    "    file.write(\"\\\\end{deluxetable*}\\n\")"
   ]
  },
  {
   "cell_type": "code",
   "execution_count": null,
   "id": "46579e33-a748-4318-9cca-ca88a41e694e",
   "metadata": {},
   "outputs": [],
   "source": []
  },
  {
   "cell_type": "code",
   "execution_count": 35,
   "id": "3877d4f6-ffc4-4f3b-8a1b-74dabe5c149c",
   "metadata": {},
   "outputs": [],
   "source": [
    "\"\"\"\n",
    "# selected flags\n",
    "with open('paper_flag_table.txt', \"w+\") as file:\n",
    "    file.write(\"\\\\begin{deluxetable*}{llrrrrr}\\n\")\n",
    "    file.write(\"\\\\tablecaption{Confusion Matrces of Selected Flags \"\n",
    "               \"\\\\label{tab:flag_selected}}\\n\")\n",
    "    file.write(\"\\\\tablewidth{0pt}\\n\")\n",
    "    file.write(\"\\\\tabletypesize{\\scriptsize}\\n\")\n",
    "    file.write(\"\\\\tablehead{\\n\")\n",
    "    file.write(\"\\\\colhead{Flag} & \\\\colhead{Description} & \\\\colhead{TP} & \\\\colhead{FP} & \\\\colhead{TN} & \\\\colhead{FN} & \\\\colhead{RR}}\\n\")\n",
    "    file.write(\"\\\\startdata\\n\")\n",
    "    for i, flag in enumerate(FLAG_LIST):\n",
    "        flag_name = flag.replace('_', '\\\\_')\n",
    "        dscp = schema.extract(f\"{flag}\")[f'{flag}'].getField().getDoc()\n",
    "        dscp = dscp.replace('_', '\\\\_')\n",
    "        file.write(f\"{flag_name} & {dscp} & {int(confusion_matrix[i, 0])} & {int(confusion_matrix[i, 1])} & \"\n",
    "                   f\"{int(confusion_matrix[i, 2])}  &{int(confusion_matrix[i, 3])} & {confusion_matrix[i, 4]:.4f} \\\\\\\\\\n\")\n",
    "    file.write(f\"Union of Selected Flags & Apply all of above flags for source selection & \"\n",
    "               f\"{int(union_tp)} & {int(union_fp)} & \"\n",
    "               f\"{int(union_tn)}  &{int(union_fn)} & {unoin_rr:.2f} \\\\\\\\\\n\")\n",
    "    file.write(\"\\\\enddata\\n\")\n",
    "    file.write(\"\\\\tablecomments{For a specific flag, \"\n",
    "    \"TP represents the number of artifacts which have the flag set to True. \"\n",
    "    \"TN is the number of synthetic transients which do not have the flag set to True. \"\n",
    "    \"FP represents the number of simulated transients which have the flag set to True. \"\n",
    "    \"FN is the number of artifacts which do not have the flag set to True. \"\n",
    "    \"RR is the rejection rate (rounded to two decimal places), which is the fraction of rejected synthetic sources (FN)\"\n",
    "    \"to the total number of synthetic sources.\"\n",
    "    \"A flag with high TP, TN and low FP, FN is helpful for filtering out artifacts.\"\n",
    "    \"The last row shows the results of applying all of selected flags.}\\n\")\n",
    "    file.write(\"\\\\end{deluxetable*}\\n\")\n",
    "\"\"\";"
   ]
  },
  {
   "cell_type": "code",
   "execution_count": 36,
   "id": "7dfea6df-f1ef-4672-b4a2-eee5e4008813",
   "metadata": {},
   "outputs": [],
   "source": [
    "# all flags\n",
    "with open('paper_flag_table_full.txt', \"w+\") as file:\n",
    "    file.write(\"\\\\begin{longrotatetable}\\n\")\n",
    "    file.write(\"\\\\begin{deluxetable*}{llrrrrr}\\n\")\n",
    "    file.write(\"\\\\tablecaption{Confusion Matrces of All Flags \"\n",
    "               \"\\\\footnote{Description of each flag is documented in \"\n",
    "               \"the schema data product (deepDiff\\_diaSrc.fits) of the DIA pipeline.} \"\n",
    "               \"\\label{tab:flag_full}}\\n\")\n",
    "    file.write(\"\\\\tablewidth{700pt} \\n\")\n",
    "    file.write(\"\\\\tabletypesize{\\\\scriptsize}\\n\")\n",
    "    file.write(\"\\\\tablehead{\\n\")\n",
    "    file.write(\"\\\\colhead{Flag} & \\\\colhead{Description} & \\\\colhead{Precision} & \\\\colhead{Recall} & \\\\colhead{$F_1$}}\\n\")\n",
    "    file.write(\"\\\\startdata\\n\")\n",
    "    for i, flag in enumerate(FULL_FLAGS):\n",
    "        flag_name = flag.replace('_', '\\\\_')\n",
    "        dscp = schema.extract(f\"{flag}\")[f'{flag}'].getField().getDoc()\n",
    "        dscp = dscp.replace('_', '\\\\_')\n",
    "        file.write(f\"{flag_name} & {dscp} & {confusion_matrix_full[i, 0]:.4f} & {confusion_matrix_full[i, 1]:.4f} & {confusion_matrix_full[i, 2]:.4f}\\\\\\\\\\n\")\n",
    "    file.write(\"\\\\enddata\\n\")\n",
    "    file.write(\"\\\\tablecomments{For a specific flag, precision is the fraction of detected \"\n",
    "               \"synthetic sources which do not have this flag set to True over the number of \"\n",
    "               \"all detections. Recall is the number of detected synthetic sources which do not \"\n",
    "               \"have this flag set to True over the number of all injected synthetic sources. $F_1$ \"\n",
    "               \"is their harmonic mean. A flag with high precision and recall is helpful for filtering \"\n",
    "               \"out artifacts.}\\n\")\n",
    "    file.write(\"\\\\end{deluxetable*}\\n\")\n",
    "    file.write(\"\\\\end{longrotatetable}\\n\")"
   ]
  },
  {
   "cell_type": "code",
   "execution_count": 37,
   "id": "4b3d0ef6-6c35-4549-bfdc-4c9e175cfbfa",
   "metadata": {},
   "outputs": [],
   "source": [
    "flag_df = pd.DataFrame(columns = ['flag', 'description', 'precision', 'recall', 'f1'])\n",
    "for i, flag in enumerate(FULL_FLAGS):\n",
    "    dscp = schema.extract(f\"{flag}\")[f'{flag}'].getField().getDoc()\n",
    "    precision = confusion_matrix_full[i, 0]\n",
    "    recall = confusion_matrix_full[i, 1]\n",
    "    f1 = confusion_matrix_full[i, 2]\n",
    "    row = {'flag': flag, 'description': dscp, 'precision': precision, 'recall': recall, 'f1': f1}\n",
    "    flag_df = flag_df.append(row, ignore_index = True)\n",
    "flag_df.to_csv('./data/table/gal_4639/flag_metric.csv', index=False)"
   ]
  },
  {
   "cell_type": "code",
   "execution_count": 39,
   "id": "bea4eea7-8577-4fdf-a6fa-9b4f2bdc81ef",
   "metadata": {},
   "outputs": [],
   "source": [
    "flag_df = pd.read_csv('./data/table/gal_4639/flag_metric.csv')\n",
    "flag_df.sort_values(by=['f1', 'recall', 'precision'], ascending=False)"
   ]
  },
  {
   "cell_type": "code",
   "execution_count": 40,
   "id": "49eb3acb-a5c3-47e1-80bf-51cc1f05855f",
   "metadata": {},
   "outputs": [
    {
     "data": {
      "text/html": [
       "<div>\n",
       "<style scoped>\n",
       "    .dataframe tbody tr th:only-of-type {\n",
       "        vertical-align: middle;\n",
       "    }\n",
       "\n",
       "    .dataframe tbody tr th {\n",
       "        vertical-align: top;\n",
       "    }\n",
       "\n",
       "    .dataframe thead th {\n",
       "        text-align: right;\n",
       "    }\n",
       "</style>\n",
       "<table border=\"1\" class=\"dataframe\">\n",
       "  <thead>\n",
       "    <tr style=\"text-align: right;\">\n",
       "      <th></th>\n",
       "      <th>flag</th>\n",
       "      <th>description</th>\n",
       "      <th>precision</th>\n",
       "      <th>recall</th>\n",
       "      <th>f1</th>\n",
       "    </tr>\n",
       "  </thead>\n",
       "  <tbody>\n",
       "    <tr>\n",
       "      <th>26</th>\n",
       "      <td>base_SdssShape_flag</td>\n",
       "      <td>General Failure Flag</td>\n",
       "      <td>0.733127</td>\n",
       "      <td>1.000000</td>\n",
       "      <td>0.846016</td>\n",
       "    </tr>\n",
       "    <tr>\n",
       "      <th>27</th>\n",
       "      <td>base_GaussianFlux_flag_badShape</td>\n",
       "      <td>General Failure Flag</td>\n",
       "      <td>0.733127</td>\n",
       "      <td>1.000000</td>\n",
       "      <td>0.846016</td>\n",
       "    </tr>\n",
       "    <tr>\n",
       "      <th>28</th>\n",
       "      <td>slot_Shape_flag</td>\n",
       "      <td>General Failure Flag</td>\n",
       "      <td>0.733127</td>\n",
       "      <td>1.000000</td>\n",
       "      <td>0.846016</td>\n",
       "    </tr>\n",
       "    <tr>\n",
       "      <th>6</th>\n",
       "      <td>base_SdssCentroid_flag</td>\n",
       "      <td>General Failure Flag</td>\n",
       "      <td>0.671964</td>\n",
       "      <td>1.000000</td>\n",
       "      <td>0.803802</td>\n",
       "    </tr>\n",
       "    <tr>\n",
       "      <th>29</th>\n",
       "      <td>base_SdssShape_flag_unweightedBad</td>\n",
       "      <td>Both weighted and unweighted moments were invalid</td>\n",
       "      <td>0.650907</td>\n",
       "      <td>1.000000</td>\n",
       "      <td>0.788545</td>\n",
       "    </tr>\n",
       "    <tr>\n",
       "      <th>30</th>\n",
       "      <td>base_GaussianFlux_flag_badShape_unweightedBad</td>\n",
       "      <td>Both weighted and unweighted moments were invalid</td>\n",
       "      <td>0.650907</td>\n",
       "      <td>1.000000</td>\n",
       "      <td>0.788545</td>\n",
       "    </tr>\n",
       "    <tr>\n",
       "      <th>31</th>\n",
       "      <td>slot_Shape_flag_unweightedBad</td>\n",
       "      <td>Both weighted and unweighted moments were invalid</td>\n",
       "      <td>0.650907</td>\n",
       "      <td>1.000000</td>\n",
       "      <td>0.788545</td>\n",
       "    </tr>\n",
       "    <tr>\n",
       "      <th>70</th>\n",
       "      <td>base_GaussianFlux_flag</td>\n",
       "      <td>General Failure Flag</td>\n",
       "      <td>0.630122</td>\n",
       "      <td>1.000000</td>\n",
       "      <td>0.773098</td>\n",
       "    </tr>\n",
       "    <tr>\n",
       "      <th>10</th>\n",
       "      <td>base_SdssCentroid_flag_notAtMaximum</td>\n",
       "      <td>Object is not at a maximum</td>\n",
       "      <td>0.618277</td>\n",
       "      <td>1.000000</td>\n",
       "      <td>0.764117</td>\n",
       "    </tr>\n",
       "    <tr>\n",
       "      <th>83</th>\n",
       "      <td>base_PixelFlags_flag_saturatedCenter</td>\n",
       "      <td>Saturated pixel in the Source center</td>\n",
       "      <td>0.598584</td>\n",
       "      <td>1.000000</td>\n",
       "      <td>0.748893</td>\n",
       "    </tr>\n",
       "    <tr>\n",
       "      <th>78</th>\n",
       "      <td>base_PixelFlags_flag_saturated</td>\n",
       "      <td>Saturated pixel in the Source footprint</td>\n",
       "      <td>0.598282</td>\n",
       "      <td>1.000000</td>\n",
       "      <td>0.748656</td>\n",
       "    </tr>\n",
       "    <tr>\n",
       "      <th>82</th>\n",
       "      <td>base_PixelFlags_flag_interpolatedCenter</td>\n",
       "      <td>Interpolated pixel in the Source center</td>\n",
       "      <td>0.551844</td>\n",
       "      <td>0.934966</td>\n",
       "      <td>0.694044</td>\n",
       "    </tr>\n",
       "    <tr>\n",
       "      <th>100</th>\n",
       "      <td>ip_diffim_DipoleFit_flag_classificationAttempted</td>\n",
       "      <td>Flag indicating diaSource was attempted to be ...</td>\n",
       "      <td>0.507508</td>\n",
       "      <td>0.999155</td>\n",
       "      <td>0.673115</td>\n",
       "    </tr>\n",
       "    <tr>\n",
       "      <th>99</th>\n",
       "      <td>ip_diffim_DipoleFit_flag_classification</td>\n",
       "      <td>Flag indicating diaSource is classified as a d...</td>\n",
       "      <td>0.506638</td>\n",
       "      <td>0.999155</td>\n",
       "      <td>0.672350</td>\n",
       "    </tr>\n",
       "    <tr>\n",
       "      <th>77</th>\n",
       "      <td>base_PixelFlags_flag_interpolated</td>\n",
       "      <td>Interpolated pixel in the Source footprint</td>\n",
       "      <td>0.543153</td>\n",
       "      <td>0.797297</td>\n",
       "      <td>0.646133</td>\n",
       "    </tr>\n",
       "    <tr>\n",
       "      <th>76</th>\n",
       "      <td>base_PixelFlags_flag_edge</td>\n",
       "      <td>Source is outside usable exposure region (mask...</td>\n",
       "      <td>0.462319</td>\n",
       "      <td>1.000000</td>\n",
       "      <td>0.632310</td>\n",
       "    </tr>\n",
       "    <tr>\n",
       "      <th>68</th>\n",
       "      <td>base_CircularApertureFlux_70_0_flag</td>\n",
       "      <td>General Failure Flag</td>\n",
       "      <td>0.412544</td>\n",
       "      <td>1.000000</td>\n",
       "      <td>0.584114</td>\n",
       "    </tr>\n",
       "    <tr>\n",
       "      <th>69</th>\n",
       "      <td>base_CircularApertureFlux_70_0_flag_apertureTr...</td>\n",
       "      <td>aperture did not fit within measurement image</td>\n",
       "      <td>0.412544</td>\n",
       "      <td>1.000000</td>\n",
       "      <td>0.584114</td>\n",
       "    </tr>\n",
       "    <tr>\n",
       "      <th>32</th>\n",
       "      <td>base_SdssShape_flag_unweighted</td>\n",
       "      <td>Weighted moments converged to an invalid value...</td>\n",
       "      <td>0.412256</td>\n",
       "      <td>1.000000</td>\n",
       "      <td>0.583826</td>\n",
       "    </tr>\n",
       "    <tr>\n",
       "      <th>33</th>\n",
       "      <td>base_GaussianFlux_flag_badShape_unweighted</td>\n",
       "      <td>Weighted moments converged to an invalid value...</td>\n",
       "      <td>0.412256</td>\n",
       "      <td>1.000000</td>\n",
       "      <td>0.583826</td>\n",
       "    </tr>\n",
       "    <tr>\n",
       "      <th>34</th>\n",
       "      <td>slot_Shape_flag_unweighted</td>\n",
       "      <td>Weighted moments converged to an invalid value...</td>\n",
       "      <td>0.412256</td>\n",
       "      <td>1.000000</td>\n",
       "      <td>0.583826</td>\n",
       "    </tr>\n",
       "    <tr>\n",
       "      <th>95</th>\n",
       "      <td>ip_diffim_PsfDipoleFlux_flag</td>\n",
       "      <td>general failure flag, set if anything went wrong</td>\n",
       "      <td>0.408840</td>\n",
       "      <td>1.000000</td>\n",
       "      <td>0.580392</td>\n",
       "    </tr>\n",
       "    <tr>\n",
       "      <th>66</th>\n",
       "      <td>base_CircularApertureFlux_50_0_flag</td>\n",
       "      <td>General Failure Flag</td>\n",
       "      <td>0.406593</td>\n",
       "      <td>1.000000</td>\n",
       "      <td>0.578125</td>\n",
       "    </tr>\n",
       "    <tr>\n",
       "      <th>67</th>\n",
       "      <td>base_CircularApertureFlux_50_0_flag_apertureTr...</td>\n",
       "      <td>aperture did not fit within measurement image</td>\n",
       "      <td>0.406593</td>\n",
       "      <td>1.000000</td>\n",
       "      <td>0.578125</td>\n",
       "    </tr>\n",
       "    <tr>\n",
       "      <th>64</th>\n",
       "      <td>base_CircularApertureFlux_35_0_flag</td>\n",
       "      <td>General Failure Flag</td>\n",
       "      <td>0.400000</td>\n",
       "      <td>1.000000</td>\n",
       "      <td>0.571429</td>\n",
       "    </tr>\n",
       "    <tr>\n",
       "      <th>65</th>\n",
       "      <td>base_CircularApertureFlux_35_0_flag_apertureTr...</td>\n",
       "      <td>aperture did not fit within measurement image</td>\n",
       "      <td>0.400000</td>\n",
       "      <td>1.000000</td>\n",
       "      <td>0.571429</td>\n",
       "    </tr>\n",
       "    <tr>\n",
       "      <th>35</th>\n",
       "      <td>base_SdssShape_flag_shift</td>\n",
       "      <td>centroid shifted by more than the maximum allo...</td>\n",
       "      <td>0.399056</td>\n",
       "      <td>1.000000</td>\n",
       "      <td>0.570465</td>\n",
       "    </tr>\n",
       "    <tr>\n",
       "      <th>36</th>\n",
       "      <td>base_GaussianFlux_flag_badShape_shift</td>\n",
       "      <td>centroid shifted by more than the maximum allo...</td>\n",
       "      <td>0.399056</td>\n",
       "      <td>1.000000</td>\n",
       "      <td>0.570465</td>\n",
       "    </tr>\n",
       "    <tr>\n",
       "      <th>37</th>\n",
       "      <td>slot_Shape_flag_shift</td>\n",
       "      <td>centroid shifted by more than the maximum allo...</td>\n",
       "      <td>0.399056</td>\n",
       "      <td>1.000000</td>\n",
       "      <td>0.570465</td>\n",
       "    </tr>\n",
       "    <tr>\n",
       "      <th>86</th>\n",
       "      <td>base_PsfFlux_flag</td>\n",
       "      <td>General Failure Flag</td>\n",
       "      <td>0.398922</td>\n",
       "      <td>1.000000</td>\n",
       "      <td>0.570328</td>\n",
       "    </tr>\n",
       "    <tr>\n",
       "      <th>...</th>\n",
       "      <td>...</td>\n",
       "      <td>...</td>\n",
       "      <td>...</td>\n",
       "      <td>...</td>\n",
       "      <td>...</td>\n",
       "    </tr>\n",
       "    <tr>\n",
       "      <th>51</th>\n",
       "      <td>base_CircularApertureFlux_6_0_flag_apertureTru...</td>\n",
       "      <td>aperture did not fit within measurement image</td>\n",
       "      <td>0.388707</td>\n",
       "      <td>1.000000</td>\n",
       "      <td>0.559811</td>\n",
       "    </tr>\n",
       "    <tr>\n",
       "      <th>53</th>\n",
       "      <td>base_CircularApertureFlux_9_0_flag</td>\n",
       "      <td>General Failure Flag</td>\n",
       "      <td>0.388707</td>\n",
       "      <td>1.000000</td>\n",
       "      <td>0.559811</td>\n",
       "    </tr>\n",
       "    <tr>\n",
       "      <th>54</th>\n",
       "      <td>base_CircularApertureFlux_9_0_flag_apertureTru...</td>\n",
       "      <td>aperture did not fit within measurement image</td>\n",
       "      <td>0.388707</td>\n",
       "      <td>1.000000</td>\n",
       "      <td>0.559811</td>\n",
       "    </tr>\n",
       "    <tr>\n",
       "      <th>56</th>\n",
       "      <td>base_CircularApertureFlux_12_0_flag</td>\n",
       "      <td>General Failure Flag</td>\n",
       "      <td>0.388707</td>\n",
       "      <td>1.000000</td>\n",
       "      <td>0.559811</td>\n",
       "    </tr>\n",
       "    <tr>\n",
       "      <th>57</th>\n",
       "      <td>slot_ApFlux_flag</td>\n",
       "      <td>General Failure Flag</td>\n",
       "      <td>0.388707</td>\n",
       "      <td>1.000000</td>\n",
       "      <td>0.559811</td>\n",
       "    </tr>\n",
       "    <tr>\n",
       "      <th>58</th>\n",
       "      <td>base_CircularApertureFlux_12_0_flag_apertureTr...</td>\n",
       "      <td>aperture did not fit within measurement image</td>\n",
       "      <td>0.388707</td>\n",
       "      <td>1.000000</td>\n",
       "      <td>0.559811</td>\n",
       "    </tr>\n",
       "    <tr>\n",
       "      <th>59</th>\n",
       "      <td>slot_ApFlux_flag_apertureTruncated</td>\n",
       "      <td>aperture did not fit within measurement image</td>\n",
       "      <td>0.388707</td>\n",
       "      <td>1.000000</td>\n",
       "      <td>0.559811</td>\n",
       "    </tr>\n",
       "    <tr>\n",
       "      <th>71</th>\n",
       "      <td>base_LocalPhotoCalib_flag</td>\n",
       "      <td>Set for any fatal failure</td>\n",
       "      <td>0.388707</td>\n",
       "      <td>1.000000</td>\n",
       "      <td>0.559811</td>\n",
       "    </tr>\n",
       "    <tr>\n",
       "      <th>72</th>\n",
       "      <td>base_LocalWcs_flag</td>\n",
       "      <td>Set for any fatal failure</td>\n",
       "      <td>0.388707</td>\n",
       "      <td>1.000000</td>\n",
       "      <td>0.559811</td>\n",
       "    </tr>\n",
       "    <tr>\n",
       "      <th>73</th>\n",
       "      <td>base_PeakLikelihoodFlux_flag</td>\n",
       "      <td>General Failure Flag</td>\n",
       "      <td>0.388707</td>\n",
       "      <td>1.000000</td>\n",
       "      <td>0.559811</td>\n",
       "    </tr>\n",
       "    <tr>\n",
       "      <th>74</th>\n",
       "      <td>base_PixelFlags_flag</td>\n",
       "      <td>General failure flag, set if anything went wrong</td>\n",
       "      <td>0.388707</td>\n",
       "      <td>1.000000</td>\n",
       "      <td>0.559811</td>\n",
       "    </tr>\n",
       "    <tr>\n",
       "      <th>75</th>\n",
       "      <td>base_PixelFlags_flag_offimage</td>\n",
       "      <td>Source center is off image</td>\n",
       "      <td>0.388707</td>\n",
       "      <td>1.000000</td>\n",
       "      <td>0.559811</td>\n",
       "    </tr>\n",
       "    <tr>\n",
       "      <th>80</th>\n",
       "      <td>base_PixelFlags_flag_bad</td>\n",
       "      <td>Bad pixel in the Source footprint</td>\n",
       "      <td>0.388707</td>\n",
       "      <td>1.000000</td>\n",
       "      <td>0.559811</td>\n",
       "    </tr>\n",
       "    <tr>\n",
       "      <th>81</th>\n",
       "      <td>base_PixelFlags_flag_suspect</td>\n",
       "      <td>Source''s footprint includes suspect pixels</td>\n",
       "      <td>0.388707</td>\n",
       "      <td>1.000000</td>\n",
       "      <td>0.559811</td>\n",
       "    </tr>\n",
       "    <tr>\n",
       "      <th>85</th>\n",
       "      <td>base_PixelFlags_flag_suspectCenter</td>\n",
       "      <td>Source''s center is close to suspect pixels</td>\n",
       "      <td>0.388707</td>\n",
       "      <td>1.000000</td>\n",
       "      <td>0.559811</td>\n",
       "    </tr>\n",
       "    <tr>\n",
       "      <th>88</th>\n",
       "      <td>base_PsfFlux_flag_noGoodPixels</td>\n",
       "      <td>not enough non-rejected pixels in data to atte...</td>\n",
       "      <td>0.388707</td>\n",
       "      <td>1.000000</td>\n",
       "      <td>0.559811</td>\n",
       "    </tr>\n",
       "    <tr>\n",
       "      <th>89</th>\n",
       "      <td>slot_PsfFlux_flag_noGoodPixels</td>\n",
       "      <td>not enough non-rejected pixels in data to atte...</td>\n",
       "      <td>0.388707</td>\n",
       "      <td>1.000000</td>\n",
       "      <td>0.559811</td>\n",
       "    </tr>\n",
       "    <tr>\n",
       "      <th>92</th>\n",
       "      <td>ip_diffim_NaiveDipoleFlux_flag</td>\n",
       "      <td>general failure flag, set if anything went wrong</td>\n",
       "      <td>0.388707</td>\n",
       "      <td>1.000000</td>\n",
       "      <td>0.559811</td>\n",
       "    </tr>\n",
       "    <tr>\n",
       "      <th>93</th>\n",
       "      <td>ip_diffim_NaiveDipoleFlux_pos_flag</td>\n",
       "      <td>failure flag for positive, set if anything wen...</td>\n",
       "      <td>0.388707</td>\n",
       "      <td>1.000000</td>\n",
       "      <td>0.559811</td>\n",
       "    </tr>\n",
       "    <tr>\n",
       "      <th>94</th>\n",
       "      <td>ip_diffim_NaiveDipoleFlux_neg_flag</td>\n",
       "      <td>failure flag for negative, set if anything wen...</td>\n",
       "      <td>0.388707</td>\n",
       "      <td>1.000000</td>\n",
       "      <td>0.559811</td>\n",
       "    </tr>\n",
       "    <tr>\n",
       "      <th>96</th>\n",
       "      <td>ip_diffim_PsfDipoleFlux_pos_flag</td>\n",
       "      <td>failure flag for positive, set if anything wen...</td>\n",
       "      <td>0.388707</td>\n",
       "      <td>1.000000</td>\n",
       "      <td>0.559811</td>\n",
       "    </tr>\n",
       "    <tr>\n",
       "      <th>97</th>\n",
       "      <td>ip_diffim_PsfDipoleFlux_neg_flag</td>\n",
       "      <td>failure flag for negative, set if anything wen...</td>\n",
       "      <td>0.388707</td>\n",
       "      <td>1.000000</td>\n",
       "      <td>0.559811</td>\n",
       "    </tr>\n",
       "    <tr>\n",
       "      <th>102</th>\n",
       "      <td>ip_diffim_DipoleFit_flag_edge</td>\n",
       "      <td>Flag set when dipole is too close to edge of i...</td>\n",
       "      <td>0.388707</td>\n",
       "      <td>1.000000</td>\n",
       "      <td>0.559811</td>\n",
       "    </tr>\n",
       "    <tr>\n",
       "      <th>103</th>\n",
       "      <td>base_GaussianFlux_flag_apCorr</td>\n",
       "      <td>set if unable to aperture correct base_Gaussia...</td>\n",
       "      <td>0.388707</td>\n",
       "      <td>1.000000</td>\n",
       "      <td>0.559811</td>\n",
       "    </tr>\n",
       "    <tr>\n",
       "      <th>104</th>\n",
       "      <td>base_PsfFlux_flag_apCorr</td>\n",
       "      <td>set if unable to aperture correct base_PsfFlux</td>\n",
       "      <td>0.388707</td>\n",
       "      <td>1.000000</td>\n",
       "      <td>0.559811</td>\n",
       "    </tr>\n",
       "    <tr>\n",
       "      <th>105</th>\n",
       "      <td>slot_PsfFlux_flag_apCorr</td>\n",
       "      <td>set if unable to aperture correct base_PsfFlux</td>\n",
       "      <td>0.388707</td>\n",
       "      <td>1.000000</td>\n",
       "      <td>0.559811</td>\n",
       "    </tr>\n",
       "    <tr>\n",
       "      <th>107</th>\n",
       "      <td>ip_diffim_forced_PsfFlux_flag_noGoodPixels</td>\n",
       "      <td>Forced PSF flux not enough non-rejected pixels...</td>\n",
       "      <td>0.388707</td>\n",
       "      <td>1.000000</td>\n",
       "      <td>0.559811</td>\n",
       "    </tr>\n",
       "    <tr>\n",
       "      <th>84</th>\n",
       "      <td>base_PixelFlags_flag_crCenter</td>\n",
       "      <td>Cosmic ray in the Source center</td>\n",
       "      <td>0.382912</td>\n",
       "      <td>0.934966</td>\n",
       "      <td>0.543313</td>\n",
       "    </tr>\n",
       "    <tr>\n",
       "      <th>79</th>\n",
       "      <td>base_PixelFlags_flag_cr</td>\n",
       "      <td>Cosmic ray in the Source footprint</td>\n",
       "      <td>0.389278</td>\n",
       "      <td>0.797297</td>\n",
       "      <td>0.523137</td>\n",
       "    </tr>\n",
       "    <tr>\n",
       "      <th>101</th>\n",
       "      <td>ip_diffim_DipoleFit_flag</td>\n",
       "      <td>General failure flag for dipole fit</td>\n",
       "      <td>0.001399</td>\n",
       "      <td>0.000845</td>\n",
       "      <td>0.001053</td>\n",
       "    </tr>\n",
       "  </tbody>\n",
       "</table>\n",
       "<p>109 rows × 5 columns</p>\n",
       "</div>"
      ],
      "text/plain": [
       "                                                  flag  \\\n",
       "26                                 base_SdssShape_flag   \n",
       "27                     base_GaussianFlux_flag_badShape   \n",
       "28                                     slot_Shape_flag   \n",
       "6                               base_SdssCentroid_flag   \n",
       "29                   base_SdssShape_flag_unweightedBad   \n",
       "30       base_GaussianFlux_flag_badShape_unweightedBad   \n",
       "31                       slot_Shape_flag_unweightedBad   \n",
       "70                              base_GaussianFlux_flag   \n",
       "10                 base_SdssCentroid_flag_notAtMaximum   \n",
       "83                base_PixelFlags_flag_saturatedCenter   \n",
       "78                      base_PixelFlags_flag_saturated   \n",
       "82             base_PixelFlags_flag_interpolatedCenter   \n",
       "100   ip_diffim_DipoleFit_flag_classificationAttempted   \n",
       "99             ip_diffim_DipoleFit_flag_classification   \n",
       "77                   base_PixelFlags_flag_interpolated   \n",
       "76                           base_PixelFlags_flag_edge   \n",
       "68                 base_CircularApertureFlux_70_0_flag   \n",
       "69   base_CircularApertureFlux_70_0_flag_apertureTr...   \n",
       "32                      base_SdssShape_flag_unweighted   \n",
       "33          base_GaussianFlux_flag_badShape_unweighted   \n",
       "34                          slot_Shape_flag_unweighted   \n",
       "95                        ip_diffim_PsfDipoleFlux_flag   \n",
       "66                 base_CircularApertureFlux_50_0_flag   \n",
       "67   base_CircularApertureFlux_50_0_flag_apertureTr...   \n",
       "64                 base_CircularApertureFlux_35_0_flag   \n",
       "65   base_CircularApertureFlux_35_0_flag_apertureTr...   \n",
       "35                           base_SdssShape_flag_shift   \n",
       "36               base_GaussianFlux_flag_badShape_shift   \n",
       "37                               slot_Shape_flag_shift   \n",
       "86                                   base_PsfFlux_flag   \n",
       "..                                                 ...   \n",
       "51   base_CircularApertureFlux_6_0_flag_apertureTru...   \n",
       "53                  base_CircularApertureFlux_9_0_flag   \n",
       "54   base_CircularApertureFlux_9_0_flag_apertureTru...   \n",
       "56                 base_CircularApertureFlux_12_0_flag   \n",
       "57                                    slot_ApFlux_flag   \n",
       "58   base_CircularApertureFlux_12_0_flag_apertureTr...   \n",
       "59                  slot_ApFlux_flag_apertureTruncated   \n",
       "71                           base_LocalPhotoCalib_flag   \n",
       "72                                  base_LocalWcs_flag   \n",
       "73                        base_PeakLikelihoodFlux_flag   \n",
       "74                                base_PixelFlags_flag   \n",
       "75                       base_PixelFlags_flag_offimage   \n",
       "80                            base_PixelFlags_flag_bad   \n",
       "81                        base_PixelFlags_flag_suspect   \n",
       "85                  base_PixelFlags_flag_suspectCenter   \n",
       "88                      base_PsfFlux_flag_noGoodPixels   \n",
       "89                      slot_PsfFlux_flag_noGoodPixels   \n",
       "92                      ip_diffim_NaiveDipoleFlux_flag   \n",
       "93                  ip_diffim_NaiveDipoleFlux_pos_flag   \n",
       "94                  ip_diffim_NaiveDipoleFlux_neg_flag   \n",
       "96                    ip_diffim_PsfDipoleFlux_pos_flag   \n",
       "97                    ip_diffim_PsfDipoleFlux_neg_flag   \n",
       "102                      ip_diffim_DipoleFit_flag_edge   \n",
       "103                      base_GaussianFlux_flag_apCorr   \n",
       "104                           base_PsfFlux_flag_apCorr   \n",
       "105                           slot_PsfFlux_flag_apCorr   \n",
       "107         ip_diffim_forced_PsfFlux_flag_noGoodPixels   \n",
       "84                       base_PixelFlags_flag_crCenter   \n",
       "79                             base_PixelFlags_flag_cr   \n",
       "101                           ip_diffim_DipoleFit_flag   \n",
       "\n",
       "                                           description  precision    recall  \\\n",
       "26                                General Failure Flag   0.733127  1.000000   \n",
       "27                                General Failure Flag   0.733127  1.000000   \n",
       "28                                General Failure Flag   0.733127  1.000000   \n",
       "6                                 General Failure Flag   0.671964  1.000000   \n",
       "29   Both weighted and unweighted moments were invalid   0.650907  1.000000   \n",
       "30   Both weighted and unweighted moments were invalid   0.650907  1.000000   \n",
       "31   Both weighted and unweighted moments were invalid   0.650907  1.000000   \n",
       "70                                General Failure Flag   0.630122  1.000000   \n",
       "10                          Object is not at a maximum   0.618277  1.000000   \n",
       "83                Saturated pixel in the Source center   0.598584  1.000000   \n",
       "78             Saturated pixel in the Source footprint   0.598282  1.000000   \n",
       "82             Interpolated pixel in the Source center   0.551844  0.934966   \n",
       "100  Flag indicating diaSource was attempted to be ...   0.507508  0.999155   \n",
       "99   Flag indicating diaSource is classified as a d...   0.506638  0.999155   \n",
       "77          Interpolated pixel in the Source footprint   0.543153  0.797297   \n",
       "76   Source is outside usable exposure region (mask...   0.462319  1.000000   \n",
       "68                                General Failure Flag   0.412544  1.000000   \n",
       "69       aperture did not fit within measurement image   0.412544  1.000000   \n",
       "32   Weighted moments converged to an invalid value...   0.412256  1.000000   \n",
       "33   Weighted moments converged to an invalid value...   0.412256  1.000000   \n",
       "34   Weighted moments converged to an invalid value...   0.412256  1.000000   \n",
       "95    general failure flag, set if anything went wrong   0.408840  1.000000   \n",
       "66                                General Failure Flag   0.406593  1.000000   \n",
       "67       aperture did not fit within measurement image   0.406593  1.000000   \n",
       "64                                General Failure Flag   0.400000  1.000000   \n",
       "65       aperture did not fit within measurement image   0.400000  1.000000   \n",
       "35   centroid shifted by more than the maximum allo...   0.399056  1.000000   \n",
       "36   centroid shifted by more than the maximum allo...   0.399056  1.000000   \n",
       "37   centroid shifted by more than the maximum allo...   0.399056  1.000000   \n",
       "86                                General Failure Flag   0.398922  1.000000   \n",
       "..                                                 ...        ...       ...   \n",
       "51       aperture did not fit within measurement image   0.388707  1.000000   \n",
       "53                                General Failure Flag   0.388707  1.000000   \n",
       "54       aperture did not fit within measurement image   0.388707  1.000000   \n",
       "56                                General Failure Flag   0.388707  1.000000   \n",
       "57                                General Failure Flag   0.388707  1.000000   \n",
       "58       aperture did not fit within measurement image   0.388707  1.000000   \n",
       "59       aperture did not fit within measurement image   0.388707  1.000000   \n",
       "71                           Set for any fatal failure   0.388707  1.000000   \n",
       "72                           Set for any fatal failure   0.388707  1.000000   \n",
       "73                                General Failure Flag   0.388707  1.000000   \n",
       "74    General failure flag, set if anything went wrong   0.388707  1.000000   \n",
       "75                          Source center is off image   0.388707  1.000000   \n",
       "80                   Bad pixel in the Source footprint   0.388707  1.000000   \n",
       "81         Source''s footprint includes suspect pixels   0.388707  1.000000   \n",
       "85         Source''s center is close to suspect pixels   0.388707  1.000000   \n",
       "88   not enough non-rejected pixels in data to atte...   0.388707  1.000000   \n",
       "89   not enough non-rejected pixels in data to atte...   0.388707  1.000000   \n",
       "92    general failure flag, set if anything went wrong   0.388707  1.000000   \n",
       "93   failure flag for positive, set if anything wen...   0.388707  1.000000   \n",
       "94   failure flag for negative, set if anything wen...   0.388707  1.000000   \n",
       "96   failure flag for positive, set if anything wen...   0.388707  1.000000   \n",
       "97   failure flag for negative, set if anything wen...   0.388707  1.000000   \n",
       "102  Flag set when dipole is too close to edge of i...   0.388707  1.000000   \n",
       "103  set if unable to aperture correct base_Gaussia...   0.388707  1.000000   \n",
       "104     set if unable to aperture correct base_PsfFlux   0.388707  1.000000   \n",
       "105     set if unable to aperture correct base_PsfFlux   0.388707  1.000000   \n",
       "107  Forced PSF flux not enough non-rejected pixels...   0.388707  1.000000   \n",
       "84                     Cosmic ray in the Source center   0.382912  0.934966   \n",
       "79                  Cosmic ray in the Source footprint   0.389278  0.797297   \n",
       "101                General failure flag for dipole fit   0.001399  0.000845   \n",
       "\n",
       "           f1  \n",
       "26   0.846016  \n",
       "27   0.846016  \n",
       "28   0.846016  \n",
       "6    0.803802  \n",
       "29   0.788545  \n",
       "30   0.788545  \n",
       "31   0.788545  \n",
       "70   0.773098  \n",
       "10   0.764117  \n",
       "83   0.748893  \n",
       "78   0.748656  \n",
       "82   0.694044  \n",
       "100  0.673115  \n",
       "99   0.672350  \n",
       "77   0.646133  \n",
       "76   0.632310  \n",
       "68   0.584114  \n",
       "69   0.584114  \n",
       "32   0.583826  \n",
       "33   0.583826  \n",
       "34   0.583826  \n",
       "95   0.580392  \n",
       "66   0.578125  \n",
       "67   0.578125  \n",
       "64   0.571429  \n",
       "65   0.571429  \n",
       "35   0.570465  \n",
       "36   0.570465  \n",
       "37   0.570465  \n",
       "86   0.570328  \n",
       "..        ...  \n",
       "51   0.559811  \n",
       "53   0.559811  \n",
       "54   0.559811  \n",
       "56   0.559811  \n",
       "57   0.559811  \n",
       "58   0.559811  \n",
       "59   0.559811  \n",
       "71   0.559811  \n",
       "72   0.559811  \n",
       "73   0.559811  \n",
       "74   0.559811  \n",
       "75   0.559811  \n",
       "80   0.559811  \n",
       "81   0.559811  \n",
       "85   0.559811  \n",
       "88   0.559811  \n",
       "89   0.559811  \n",
       "92   0.559811  \n",
       "93   0.559811  \n",
       "94   0.559811  \n",
       "96   0.559811  \n",
       "97   0.559811  \n",
       "102  0.559811  \n",
       "103  0.559811  \n",
       "104  0.559811  \n",
       "105  0.559811  \n",
       "107  0.559811  \n",
       "84   0.543313  \n",
       "79   0.523137  \n",
       "101  0.001053  \n",
       "\n",
       "[109 rows x 5 columns]"
      ]
     },
     "execution_count": 40,
     "metadata": {},
     "output_type": "execute_result"
    }
   ],
   "source": [
    "# flag_df.sort_values(by=['f1', 'recall', 'precision'], ascending=False)"
   ]
  },
  {
   "cell_type": "code",
   "execution_count": null,
   "id": "d745a49f-3d10-493b-88eb-dd2dd9840a82",
   "metadata": {},
   "outputs": [],
   "source": []
  },
  {
   "cell_type": "code",
   "execution_count": null,
   "id": "c243da30-7bc5-4d34-b946-b2e45442ef84",
   "metadata": {},
   "outputs": [],
   "source": []
  },
  {
   "cell_type": "code",
   "execution_count": null,
   "id": "8b7f82f5-67fd-4525-b569-f2bc1bbb5cff",
   "metadata": {},
   "outputs": [],
   "source": []
  },
  {
   "cell_type": "code",
   "execution_count": null,
   "id": "6d605005-9b6f-45ab-852c-293cccd18494",
   "metadata": {},
   "outputs": [],
   "source": []
  },
  {
   "cell_type": "code",
   "execution_count": 111,
   "id": "62ab7955-1cc4-4be0-a7d7-88647967652e",
   "metadata": {},
   "outputs": [
    {
     "data": {
      "text/plain": [
       "13.666666666666666"
      ]
     },
     "execution_count": 111,
     "metadata": {},
     "output_type": "execute_result"
    }
   ],
   "source": [
    "4100 * 0.2 / 60"
   ]
  },
  {
   "cell_type": "code",
   "execution_count": null,
   "id": "47f55685-bb75-4c40-be27-26bcaa04f88b",
   "metadata": {},
   "outputs": [],
   "source": []
  },
  {
   "cell_type": "code",
   "execution_count": null,
   "id": "b0d6a2a8-315d-4236-ab4f-10579004440c",
   "metadata": {},
   "outputs": [],
   "source": []
  },
  {
   "cell_type": "code",
   "execution_count": null,
   "id": "fe4181e9-ffa4-4555-8da9-b872890556e8",
   "metadata": {},
   "outputs": [],
   "source": []
  },
  {
   "cell_type": "code",
   "execution_count": 5,
   "id": "2aed7e6f-92ba-499f-9881-fd3e64691cb7",
   "metadata": {},
   "outputs": [
    {
     "ename": "NameError",
     "evalue": "name 'Table' is not defined",
     "output_type": "error",
     "traceback": [
      "\u001b[0;31m---------------------------------------------------------------------------\u001b[0m",
      "\u001b[0;31mNameError\u001b[0m                                 Traceback (most recent call last)",
      "\u001b[0;32m<ipython-input-5-bb1dc6cf9e27>\u001b[0m in \u001b[0;36m<module>\u001b[0;34m\u001b[0m\n\u001b[0;32m----> 1\u001b[0;31m \u001b[0mflux_det_astropy\u001b[0m \u001b[0;34m=\u001b[0m \u001b[0mTable\u001b[0m\u001b[0;34m.\u001b[0m\u001b[0mfrom_pandas\u001b[0m\u001b[0;34m(\u001b[0m\u001b[0mflux_det\u001b[0m\u001b[0;34m)\u001b[0m\u001b[0;34m\u001b[0m\u001b[0;34m\u001b[0m\u001b[0m\n\u001b[0m\u001b[1;32m      2\u001b[0m \u001b[0mflux_det_astropy_flag_applied\u001b[0m \u001b[0;34m=\u001b[0m \u001b[0mdpu\u001b[0m\u001b[0;34m.\u001b[0m\u001b[0mremove_flag_astropy\u001b[0m\u001b[0;34m(\u001b[0m\u001b[0mflux_det_astropy\u001b[0m\u001b[0;34m,\u001b[0m \u001b[0mFLAG_LIST\u001b[0m\u001b[0;34m)\u001b[0m\u001b[0;34m\u001b[0m\u001b[0;34m\u001b[0m\u001b[0m\n\u001b[1;32m      3\u001b[0m \u001b[0;34m\u001b[0m\u001b[0m\n\u001b[1;32m      4\u001b[0m \u001b[0mart_astropy\u001b[0m \u001b[0;34m=\u001b[0m \u001b[0mTable\u001b[0m\u001b[0;34m.\u001b[0m\u001b[0mfrom_pandas\u001b[0m\u001b[0;34m(\u001b[0m\u001b[0mart\u001b[0m\u001b[0;34m)\u001b[0m\u001b[0;34m\u001b[0m\u001b[0;34m\u001b[0m\u001b[0m\n\u001b[1;32m      5\u001b[0m \u001b[0mart_astropy_flag_applied\u001b[0m \u001b[0;34m=\u001b[0m \u001b[0mdpu\u001b[0m\u001b[0;34m.\u001b[0m\u001b[0mremove_flag_astropy\u001b[0m\u001b[0;34m(\u001b[0m\u001b[0mart_astropy\u001b[0m\u001b[0;34m,\u001b[0m \u001b[0mFLAG_LIST\u001b[0m\u001b[0;34m)\u001b[0m\u001b[0;34m\u001b[0m\u001b[0;34m\u001b[0m\u001b[0m\n",
      "\u001b[0;31mNameError\u001b[0m: name 'Table' is not defined"
     ]
    }
   ],
   "source": [
    "flux_det_astropy = Table.from_pandas(flux_det)\n",
    "flux_det_astropy_flag_applied = dpu.remove_flag_astropy(flux_det_astropy, FLAG_LIST)\n",
    "\n",
    "art_astropy = Table.from_pandas(art)\n",
    "art_astropy_flag_applied = dpu.remove_flag_astropy(art_astropy, FLAG_LIST)\n",
    "\n",
    "print('eff: ', len(flux_det_astropy_flag_applied) / len(flux_det_astropy))\n",
    "\n",
    "purity = len(flux_det_astropy_flag_applied) / (len(flux_det_astropy_flag_applied) + len(art_astropy_flag_applied))\n",
    "print('purity ', purity)"
   ]
  },
  {
   "cell_type": "code",
   "execution_count": null,
   "id": "8ee53157-fea7-4f91-b9a1-f8b418a30df5",
   "metadata": {},
   "outputs": [],
   "source": []
  },
  {
   "cell_type": "code",
   "execution_count": null,
   "id": "5bdb2af3-507a-4927-84b9-e9177df9b3bc",
   "metadata": {},
   "outputs": [],
   "source": []
  },
  {
   "cell_type": "markdown",
   "id": "21abb8e5-b468-4a2b-9ab0-2125d5849445",
   "metadata": {},
   "source": [
    "#### pixel arcsec conversion"
   ]
  },
  {
   "cell_type": "code",
   "execution_count": 39,
   "id": "580754e9-b62f-4b44-85bf-f929d87a0aea",
   "metadata": {},
   "outputs": [],
   "source": [
    "psf_table = Table.read('./data/table/gal_4639/psf_fwhm.csv', format='ascii.csv')\n",
    "diff_exp = afwImage.ExposureF(psf_table[0]['diffexp_path'])"
   ]
  },
  {
   "cell_type": "code",
   "execution_count": 40,
   "id": "0c07185e-55e4-4e2f-855e-f533673c7536",
   "metadata": {},
   "outputs": [],
   "source": [
    "wcs = diff_exp.getWcs()"
   ]
  },
  {
   "cell_type": "code",
   "execution_count": 41,
   "id": "6b00dfb7-524d-4ff5-a796-790076041901",
   "metadata": {},
   "outputs": [
    {
     "data": {
      "text/plain": [
       "FITS standard SkyWcs:\n",
       "Sky Origin: (56.846958, -30.916278)\n",
       "Pixel Origin: (2101.21, 2072.38)\n",
       "Pixel Scale: 0.199859 arcsec/pixel"
      ]
     },
     "execution_count": 41,
     "metadata": {},
     "output_type": "execute_result"
    }
   ],
   "source": [
    "wcs"
   ]
  },
  {
   "cell_type": "code",
   "execution_count": 42,
   "id": "d88de5cf-434f-4823-b9ca-ae88ed38fc65",
   "metadata": {},
   "outputs": [],
   "source": [
    "pixel_scale = wcs.getPixelScale()"
   ]
  },
  {
   "cell_type": "code",
   "execution_count": 43,
   "id": "ecb0d53b-a912-4843-84bf-cdc771cca975",
   "metadata": {},
   "outputs": [
    {
     "data": {
      "text/plain": [
       "0.199859089117389"
      ]
     },
     "execution_count": 43,
     "metadata": {},
     "output_type": "execute_result"
    }
   ],
   "source": [
    "pixel_scale.asArcseconds()"
   ]
  },
  {
   "cell_type": "code",
   "execution_count": 44,
   "id": "35ddcafb-67e1-4cd3-a6e7-44046f446bf1",
   "metadata": {},
   "outputs": [],
   "source": [
    "psf_table = Table.read('./data/table/gal_4639/psf_fwhm.csv', format='ascii.csv')\n",
    "wcs_list = []\n",
    "for row in psf_table:\n",
    "    diff_exp = afwImage.ExposureF(row['diffexp_path'])\n",
    "    wcs_list.append(diff_exp.getWcs().getPixelScale().asArcseconds())"
   ]
  },
  {
   "cell_type": "code",
   "execution_count": 45,
   "id": "af88b110-54e9-4534-8705-44c90c88f8bd",
   "metadata": {},
   "outputs": [
    {
     "name": "stdout",
     "output_type": "stream",
     "text": [
      "[0.199859089117389, 0.19986329432524585, 0.19962528136406832, 0.19975575741371254, 0.19961667217812123, 0.1997584103590265, 0.20003042806363516, 0.20003063025742304, 0.19980371501027397, 0.2000354173998894, 0.19985355503198757, 0.19995017048377145, 0.2000699138478615, 0.19996943167338518, 0.19953888679508924, 0.19985283273101154, 0.19993694704244253, 0.2000135354447216, 0.19989567805709388, 0.1998633024815091, 0.19977867606488037, 0.19959982709497992, 0.1995021186710503, 0.19994391933659927, 0.19982415672571266, 0.19980155371067004, 0.19989295778926486, 0.20006752275220058, 0.1996517759685764, 0.1996699508365355, 0.19972818588786428, 0.19965194979943396, 0.19974789801757362, 0.1995161794790242, 0.20000014050802875, 0.19986777147702847, 0.19999288228041692, 0.20007734408389555, 0.19981433218113373, 0.19986038865179442, 0.19998557438910025, 0.20002991268869247, 0.1995793242828147, 0.19962364041855643, 0.19986253240344892, 0.19972893537663525, 0.20005393941962177, 0.19963252246818877, 0.19974123909126432, 0.1999353325785515, 0.1997588071113203, 0.19977317129223204, 0.1998908497489417, 0.19969098675075836, 0.19999373538768853, 0.1999085634548584, 0.1997773485383065, 0.19986150057048432, 0.19978703760608255, 0.19973868193376107, 0.20003255161081165, 0.19963184650719307, 0.19951462647307802, 0.1998301680238409, 0.19956310505037123, 0.19998882330734682, 0.19950484280447817, 0.1997566691887094, 0.1996731791155681, 0.1998318682474549]\n"
     ]
    }
   ],
   "source": [
    "print(wcs_list)"
   ]
  },
  {
   "cell_type": "code",
   "execution_count": 51,
   "id": "4bfe677c-b114-440f-a45e-d5e3626d63fd",
   "metadata": {},
   "outputs": [
    {
     "data": {
      "text/plain": [
       "array([0.19950212, 0.19950484, 0.19951463, 0.19951618, 0.19953889,\n",
       "       0.19956311, 0.19957932, 0.19959983, 0.19961667, 0.19962364,\n",
       "       0.19962528, 0.19963185, 0.19963252, 0.19965178, 0.19965195,\n",
       "       0.19966995, 0.19967318, 0.19969099, 0.19972819, 0.19972894,\n",
       "       0.19973868, 0.19974124, 0.1997479 , 0.19975576, 0.19975667,\n",
       "       0.19975841, 0.19975881, 0.19977317, 0.19977735, 0.19977868,\n",
       "       0.19978704, 0.19980155, 0.19980372, 0.19981433, 0.19982416,\n",
       "       0.19983017, 0.19983187, 0.19985283, 0.19985356, 0.19985909,\n",
       "       0.19986039, 0.1998615 , 0.19986253, 0.19986329, 0.1998633 ,\n",
       "       0.19986777, 0.19989085, 0.19989296, 0.19989568, 0.19990856,\n",
       "       0.19993533, 0.19993695, 0.19994392, 0.19995017, 0.19996943,\n",
       "       0.19998557, 0.19998882, 0.19999288, 0.19999374, 0.20000014,\n",
       "       0.20001354, 0.20002991, 0.20003043, 0.20003063, 0.20003255,\n",
       "       0.20003542, 0.20005394, 0.20006752, 0.20006991, 0.20007734])"
      ]
     },
     "execution_count": 51,
     "metadata": {},
     "output_type": "execute_result"
    }
   ],
   "source": [
    "np.sort(np.unique(wcs_list))"
   ]
  },
  {
   "cell_type": "markdown",
   "id": "80528d49-86a1-480b-a2cf-da4b175c7639",
   "metadata": {},
   "source": [
    "#### calexp size"
   ]
  },
  {
   "cell_type": "code",
   "execution_count": 32,
   "id": "09ac216f-1ff2-4014-a644-11856095626d",
   "metadata": {},
   "outputs": [],
   "source": [
    "psf_table = Table.read('./data/table/gal_4639/psf_fwhm.csv', format='ascii.csv')\n",
    "size_list = []\n",
    "for row in psf_table:\n",
    "    diff_exp = afwImage.ExposureF(row['diffexp_path'])\n",
    "    size_list.append(diff_exp.getImage().array.shape)"
   ]
  },
  {
   "cell_type": "code",
   "execution_count": 33,
   "id": "e8e14779-09db-4133-a3b7-7e37af373e49",
   "metadata": {},
   "outputs": [
    {
     "name": "stdout",
     "output_type": "stream",
     "text": [
      "[(4000, 4072), (4000, 4072), (4000, 4072), (4000, 4072), (4000, 4072), (4000, 4072), (4000, 4072), (4000, 4072), (4000, 4072), (4000, 4072), (4000, 4072), (4000, 4072), (4000, 4072), (4000, 4072), (4000, 4072), (4000, 4072), (4000, 4072), (4000, 4072), (4000, 4072), (4000, 4072), (4000, 4072), (4000, 4072), (4000, 4072), (4000, 4072), (4000, 4072), (4000, 4072), (4000, 4072), (4000, 4072), (4000, 4072), (4000, 4072), (4000, 4072), (4000, 4072), (4000, 4072), (4000, 4072), (4000, 4072), (4000, 4072), (4000, 4072), (4000, 4072), (4000, 4072), (4000, 4072), (4000, 4072), (4000, 4072), (4000, 4072), (4000, 4072), (4000, 4072), (4000, 4072), (4000, 4072), (4000, 4072), (4000, 4072), (4000, 4072), (4000, 4072), (4000, 4072), (4000, 4072), (4000, 4072), (4000, 4072), (4000, 4072), (4000, 4072), (4000, 4072), (4000, 4072), (4000, 4072), (4000, 4072), (4000, 4072), (4000, 4072), (4000, 4072), (4000, 4072), (4000, 4072), (4000, 4072), (4000, 4072), (4000, 4072), (4000, 4072)]\n"
     ]
    }
   ],
   "source": [
    "print(size_list)"
   ]
  },
  {
   "cell_type": "code",
   "execution_count": 34,
   "id": "458bb0b4-df80-46fd-8a3b-316fc98202b3",
   "metadata": {},
   "outputs": [
    {
     "data": {
      "text/plain": [
       "array([4000, 4072])"
      ]
     },
     "execution_count": 34,
     "metadata": {},
     "output_type": "execute_result"
    }
   ],
   "source": [
    "np.unique(size_list)"
   ]
  },
  {
   "cell_type": "markdown",
   "id": "9f9d4ed2-6119-4de2-b3a8-c8af4ad44426",
   "metadata": {},
   "source": [
    "#### Artifact Statistics"
   ]
  },
  {
   "cell_type": "code",
   "execution_count": 52,
   "id": "68be63b0-31eb-4b6f-b359-8f64a9d73c22",
   "metadata": {},
   "outputs": [],
   "source": [
    "def get_fraction(all_det, base_flags, shape_flags):\n",
    "    art_stat = pd.DataFrame(index=['sat', 'shape', 'remaining'])\n",
    "    base_keep = dpu.keep_flag_astropy(all_det, flag_list=base_flags)\n",
    "    base_rm = dpu.remove_flag_astropy(all_det, flag_list=base_flags)\n",
    "    shape_keep = dpu.keep_flag_astropy(base_rm, flag_list=shape_flags)\n",
    "    shape_rm = dpu.remove_flag_astropy(base_rm, flag_list=shape_flags)\n",
    "    sat = len(base_keep) / len(all_det)\n",
    "    shape = len(shape_keep) / len(all_det)\n",
    "    remaining = len(shape_rm) / len(all_det)\n",
    "    art_stat['fraction'] = [sat, shape, remaining]\n",
    "    print(art_stat.transpose())\n"
   ]
  },
  {
   "cell_type": "code",
   "execution_count": null,
   "id": "ff10b319-6747-466b-b22f-25d6971dc5ff",
   "metadata": {},
   "outputs": [],
   "source": []
  },
  {
   "cell_type": "code",
   "execution_count": 53,
   "id": "7311eff1-3c05-499d-9999-a84306dc6b7f",
   "metadata": {},
   "outputs": [],
   "source": [
    "psf_table = Table.read('./data/table/gal_4639/psf_fwhm.csv', format='ascii.csv')\n",
    "psf_table['psf_ratio'] = (psf_table['calexp_fwhm'] - psf_table['coadd_fwhm']) / psf_table['coadd_fwhm']\n",
    "base_flags = ['base_PixelFlags_flag_saturated', 'base_PixelFlags_flag_saturatedCenter', 'base_PixelFlags_flag_suspect',\n",
    "              'base_PixelFlags_flag_suspectCenter', 'base_PixelFlags_flag_offimage', 'base_PixelFlags_flag_edge',\n",
    "              'base_PixelFlags_flag_bad', 'base_NaiveCentroid_flag']\n",
    "dipole_flags = ['ip_diffim_DipoleFit_flag_classification', 'ip_diffim_DipoleFit_flag_classificationAttempted']\n",
    "sdss_flags = ['base_SdssShape_flag', 'base_GaussianFlux_flag_badShape', 'slot_Shape_flag']\n",
    "shape_flags = dipole_flags + sdss_flags\n",
    "\n",
    "full_detections = Table.read('./data/table/gal_4639/full_detections.csv', format='ascii.csv')\n",
    "for flag in (base_flags+shape_flags):\n",
    "    full_detections[flag] = (full_detections[flag].data == 'True')\n",
    "full_detections['diaSrc_snr'] = full_detections['base_PsfFlux_instFlux'] /full_detections['base_PsfFlux_instFluxErr']\n",
    "full_detections['psf_ratio'] = (full_detections['calexp_fwhm'] - full_detections['coadd_fwhm']) / full_detections['coadd_fwhm']\n",
    "\n",
    "config = 'al_default'\n",
    "db = (\n",
    "    f'./data'\n",
    "    f'/patch_0to6/diff/{config}/detection/detection.sqlite'\n",
    ")\n",
    "conn = sqlite3.connect(db)\n",
    "art = pd.read_sql_query(\"SELECT * FROM artifact WHERE host_mag = '20_21' and fake_mag = 20\", conn)\n",
    "\n",
    "\n",
    "# art_astropy are detected artifacts from fake injection pipeline\n",
    "# full detections are diaSrc sources merged from diaSrc table after pipeline running\n",
    "art_astropy = Table.from_pandas(art)\n",
    "art_coord = SkyCoord(np.rad2deg(art_astropy['coord_ra'].data),\n",
    "                     np.rad2deg(art_astropy['coord_dec'].data),\n",
    "                     frame=\"icrs\", unit=\"deg\")\n",
    "det_coord = SkyCoord(np.rad2deg(full_detections['coord_ra'].data),\n",
    "                     np.rad2deg(full_detections['coord_dec'].data),\n",
    "                     frame=\"icrs\", unit=\"deg\")\n",
    "matched_status, matched_idx = dpu.two_direction_skymatch(art_coord,  det_coord, radius=2 * u.arcsec)"
   ]
  },
  {
   "cell_type": "code",
   "execution_count": 54,
   "id": "60d17303-515e-4851-a5b9-9460deed80a1",
   "metadata": {},
   "outputs": [
    {
     "name": "stdout",
     "output_type": "stream",
     "text": [
      "artifacts from injection pipeline:  1862    artifacts matched from merging diaSrc:  1858\n"
     ]
    },
    {
     "data": {
      "text/plain": [
       "(<SkyCoord (ICRS): (ra, dec) in deg\n",
       "     [(56.94192337, -30.93836375), (56.64995067, -30.73225229),\n",
       "      (55.80279134, -30.20938777), (55.79787475, -30.21251826)]>,\n",
       " <SkyCoord (ICRS): (ra, dec) in deg\n",
       "     [(56.94192337, -30.93836375), (56.64995067, -30.73225229),\n",
       "      (55.80279134, -30.20938777), (55.79787475, -30.21251826)]>)"
      ]
     },
     "execution_count": 54,
     "metadata": {},
     "output_type": "execute_result"
    }
   ],
   "source": [
    "# There are four missing artifacts.\n",
    "print('artifacts from injection pipeline: ', len(art_coord), '   artifacts matched from merging diaSrc: ', np.sum(matched_status) )\n",
    "# 4 artifacts have matched status = Flase, however, their matched detection have the same coord to them\n",
    "# probably artifacts table have duplicated artifacts from different visits.\n",
    "# they get matched to the same detecion in the full_detection table\n",
    "art_coord[~matched_status], det_coord[matched_idx[~matched_status]]"
   ]
  },
  {
   "cell_type": "code",
   "execution_count": null,
   "id": "d19bac0c-a9fc-4187-a7a0-0dedeb16b0b0",
   "metadata": {},
   "outputs": [],
   "source": []
  },
  {
   "cell_type": "code",
   "execution_count": 60,
   "id": "1917a2dd-8572-4ee0-9b1e-e948f5c25925",
   "metadata": {},
   "outputs": [
    {
     "name": "stdout",
     "output_type": "stream",
     "text": [
      "total art: 1862, remove base: 772, broad: 261, near: 164, sharp: 347\n",
      "image pairs in different fwhm classes\n",
      "broad: 30, near: 16, sharp: 24\n",
      "\n",
      "\n",
      "art per detector rate\n",
      "broad: 8.7, near: 10.25, sharp: 14.458333333333334\n",
      "\n",
      "\n",
      "art per deg^2 rate\n",
      "broad: 173.05992141453834, near: 203.8924361493124, sharp: 287.6043713163065\n",
      "\n",
      "\n",
      "broad\n",
      "              sat     shape  remaining\n",
      "fraction  0.61674  0.320117   0.063142\n",
      "\n",
      "\n",
      "near\n",
      "               sat     shape  remaining\n",
      "fraction  0.549451  0.373626   0.076923\n",
      "\n",
      "\n",
      "sharp\n",
      "               sat     shape  remaining\n",
      "fraction  0.575275  0.332925   0.091799\n",
      "\n",
      "\n",
      " 0.8952738990332976 of artifacts are from bk sources, no flag applied:\n",
      "\n",
      "\n",
      "unmatched artifacts of each class, base flag applied\n",
      "broad: 9, near: 3, sharp: 22 \n"
     ]
    }
   ],
   "source": [
    "# artifacts from full detections\n",
    "artifacts = full_detections[matched_idx]\n",
    "base_rm = dpu.remove_flag_astropy(artifacts, flag_list=base_flags)\n",
    "# fwhm class\n",
    "broad = base_rm[base_rm['psf_ratio']>=0]\n",
    "near = base_rm[np.logical_and(base_rm['psf_ratio']<0, base_rm['psf_ratio']>=-0.05)]\n",
    "narrow = base_rm[base_rm['psf_ratio']<-0.05]\n",
    "print(f\"total art: {len(artifacts)}, remove base: {len(base_rm)}, broad: {len(broad)}, near: {len(near)}, sharp: {len(narrow)}\")\n",
    "\n",
    "# image pairs in different fwhm classes\n",
    "n_broad = np.sum(psf_table['psf_ratio']>=0)\n",
    "n_near = np.sum(np.logical_and(psf_table['psf_ratio']<0, psf_table['psf_ratio']>=-0.05))\n",
    "n_narrow = np.sum(psf_table['psf_ratio']<-0.05)\n",
    "print(\"image pairs in different fwhm classes\")\n",
    "print(f\"broad: {n_broad}, near: {n_near}, sharp: {n_narrow}\")\n",
    "print(\"\\n\")\n",
    "print(\"art per detector rate\")\n",
    "print(f\"broad: {len(broad)/30}, near: {len(near)/16}, sharp: {len(narrow)/24}\")\n",
    "print(\"\\n\")\n",
    "\n",
    "# Pixel Scale: 0.199859 arcsec/pixel\n",
    "# calexp image size: 4000 * 4072\n",
    "print(\"art per deg^2 rate\")\n",
    "det_to_deg2 = 1 / (4000 * 0.2 / 3600 * 4072 * 0.2 / 3600)\n",
    "print(f\"broad: {len(broad)/30 * det_to_deg2}, near: {len(near)/16 * det_to_deg2}, sharp: {len(narrow)/24 * det_to_deg2}\")\n",
    "print(\"\\n\")\n",
    "\n",
    "# artifact fraction\n",
    "all_broad = artifacts[artifacts['psf_ratio']>=0]\n",
    "all_near = artifacts[np.logical_and(artifacts['psf_ratio']<0, artifacts['psf_ratio']>=-0.05)]\n",
    "all_narrow = artifacts[artifacts['psf_ratio']<-0.05]\n",
    "print(\"broad\")\n",
    "get_fraction(all_broad, base_flags, shape_flags)\n",
    "print(\"\\n\")\n",
    "print(\"near\")\n",
    "get_fraction(all_near, base_flags, shape_flags)\n",
    "print(\"\\n\")\n",
    "print(\"sharp\")\n",
    "get_fraction(all_narrow, base_flags, shape_flags)\n",
    "print(\"\\n\")\n",
    "\n",
    "# artifact fraction of background sources, no flag applied\n",
    "bk_source_frac = np.sum(artifacts['matched_status'].data=='True') / len(artifacts)\n",
    "print(f\" {bk_source_frac} of artifacts are from bk sources, no flag applied:\")\n",
    "print(\"\\n\")\n",
    "print(\"unmatched artifacts of each class, base flag applied\")\n",
    "print(f\"broad: {np.sum(broad['matched_status'].data=='False')}, \"\n",
    "      f\"near: {np.sum(near['matched_status'].data=='False')}, \"\n",
    "      f\"sharp: {np.sum(narrow['matched_status'].data=='False')} \")"
   ]
  },
  {
   "cell_type": "code",
   "execution_count": null,
   "id": "63281317-e3f3-48ea-80e5-8f45216e7a50",
   "metadata": {},
   "outputs": [],
   "source": []
  },
  {
   "cell_type": "code",
   "execution_count": null,
   "id": "03b52d81-da3a-4822-91de-127fefdae94c",
   "metadata": {},
   "outputs": [],
   "source": []
  },
  {
   "cell_type": "markdown",
   "id": "72ec0b0d-16bd-45b4-b071-91dc2b341bc4",
   "metadata": {},
   "source": [
    "## artifact morphology"
   ]
  },
  {
   "cell_type": "code",
   "execution_count": 9,
   "id": "ffac0e6a-21d0-4a37-9e3e-38a722389cce",
   "metadata": {},
   "outputs": [],
   "source": [
    "import matplotlib as mpl\n",
    "mpl.rcParams['font.size']=14\n",
    "\n",
    "base_flags = ['base_PixelFlags_flag_saturated', 'base_PixelFlags_flag_saturatedCenter', 'base_PixelFlags_flag_suspect',\n",
    "              'base_PixelFlags_flag_suspectCenter', 'base_PixelFlags_flag_offimage', 'base_PixelFlags_flag_edge',\n",
    "              'base_PixelFlags_flag_bad', 'base_NaiveCentroid_flag']\n",
    "dipole_flags = ['ip_diffim_DipoleFit_flag_classification', 'ip_diffim_DipoleFit_flag_classificationAttempted']\n",
    "sdss_flags = ['base_SdssShape_flag', 'base_GaussianFlux_flag_badShape', 'slot_Shape_flag']\n",
    "\n",
    "def display_stamps(art_table, figsize=(10,15), hspace=0.5, wspace=0.5):\n",
    "    fig, ax = plt.subplots(3, 5, figsize=figsize)\n",
    "    ax_ls = ax.flat\n",
    "    fig.subplots_adjust(hspace=hspace, wspace=wspace)\n",
    "\n",
    "    for i, diaSrc in enumerate(art_table):\n",
    "        if i == 15:\n",
    "            break\n",
    "        diff_exp = afwImage.ExposureF(diaSrc['diffexp_path'])\n",
    "        x = diaSrc['base_NaiveCentroid_x']\n",
    "        y = diaSrc['base_NaiveCentroid_y']\n",
    "        diff_stamp = dpu.make_cutout(diff_exp, x, y, cutout_size=30)\n",
    "        ax_ls[i].imshow(interval(diff_stamp.getImage().array), cmap='gray', origin='lower')\n",
    "        ax_ls[i].set_xticks([])\n",
    "        ax_ls[i].set_xticks([])\n",
    "        ax_ls[i].set_yticks([])\n",
    "        ax_ls[i].set_yticks([])\n",
    "\n",
    "        # print('\\n')\n",
    "    # print('\\n')\n",
    "\n",
    "def display_artifacts(art_table, figsize=(10,15), hspace=0.5, wspace=0.5, dipole_flags=dipole_flags, sdss_flags=sdss_flags):\n",
    "    dipole_keep = dpu.keep_flag_astropy(art_table, flag_list=dipole_flags)\n",
    "    dipole_rm = dpu.remove_flag_astropy(art_table, flag_list=dipole_flags)\n",
    "    sdss_rm = dpu.remove_flag_astropy(dipole_rm, flag_list=sdss_flags)\n",
    "\n",
    "    fig, ax = plt.subplots(4, 5, figsize=figsize)\n",
    "    fig.subplots_adjust(hspace=hspace, wspace=wspace)\n",
    "\n",
    "    table_ls = [dipole_keep, dipole_keep, dipole_rm, sdss_rm]\n",
    "    sdss_ls = [True, False, True, False]\n",
    "    ylabel_ls = ['Both', 'Dipole', 'SDSS', 'Neither']\n",
    "    \n",
    "    for r in range(4):\n",
    "        t = table_ls[r]\n",
    "        sdss = sdss_ls[r]\n",
    "        ylabel = ylabel_ls[r]\n",
    "        c = 0\n",
    "        for i, diaSrc in enumerate(t):\n",
    "            if c == 5:\n",
    "                break\n",
    "            flag1 = diaSrc['base_SdssShape_flag']\n",
    "            flag2 = diaSrc['base_GaussianFlux_flag_badShape']\n",
    "            flag3 = diaSrc['slot_Shape_flag']\n",
    "            if flag1 == sdss or flag2==sdss or flag3==sdss:\n",
    "                # print(diaSrc[dipole_flags], flag)\n",
    "                diff_exp = afwImage.ExposureF(diaSrc['diffexp_path'])\n",
    "                x = diaSrc['base_NaiveCentroid_x']\n",
    "                y = diaSrc['base_NaiveCentroid_y']\n",
    "                diff_stamp = dpu.make_cutout(diff_exp, x, y, cutout_size=30)\n",
    "                ax[r][c].imshow(interval(diff_stamp.getImage().array), cmap='gray', origin='lower')\n",
    "                ax[r][c].set_xticks([])\n",
    "                ax[r][c].set_xticks([])\n",
    "                ax[r][c].set_yticks([])\n",
    "                ax[r][c].set_yticks([])\n",
    "                if c == 0:\n",
    "                    ax[r][c].set_ylabel(ylabel, size=16)       \n",
    "                c += 1\n",
    "        # print('\\n')\n",
    "    # print('\\n')"
   ]
  },
  {
   "cell_type": "code",
   "execution_count": null,
   "id": "248560b4-a881-4751-afff-a3698e504fd4",
   "metadata": {},
   "outputs": [],
   "source": []
  },
  {
   "cell_type": "code",
   "execution_count": 10,
   "id": "6963e5de-1c2f-4205-8f8e-d9fb776d8269",
   "metadata": {},
   "outputs": [
    {
     "ename": "NameError",
     "evalue": "name 'Table' is not defined",
     "output_type": "error",
     "traceback": [
      "\u001b[0;31m---------------------------------------------------------------------------\u001b[0m",
      "\u001b[0;31mNameError\u001b[0m                                 Traceback (most recent call last)",
      "\u001b[0;32m<ipython-input-10-f65e2ca21607>\u001b[0m in \u001b[0;36m<module>\u001b[0;34m\u001b[0m\n\u001b[0;32m----> 1\u001b[0;31m \u001b[0mpsf_table\u001b[0m \u001b[0;34m=\u001b[0m \u001b[0mTable\u001b[0m\u001b[0;34m.\u001b[0m\u001b[0mread\u001b[0m\u001b[0;34m(\u001b[0m\u001b[0;34m'./data/table/gal_4639/psf_fwhm.csv'\u001b[0m\u001b[0;34m,\u001b[0m \u001b[0mformat\u001b[0m\u001b[0;34m=\u001b[0m\u001b[0;34m'ascii.csv'\u001b[0m\u001b[0;34m)\u001b[0m\u001b[0;34m\u001b[0m\u001b[0;34m\u001b[0m\u001b[0m\n\u001b[0m\u001b[1;32m      2\u001b[0m \u001b[0mpsf_table\u001b[0m\u001b[0;34m[\u001b[0m\u001b[0;34m'psf_ratio'\u001b[0m\u001b[0;34m]\u001b[0m \u001b[0;34m=\u001b[0m \u001b[0;34m(\u001b[0m\u001b[0mpsf_table\u001b[0m\u001b[0;34m[\u001b[0m\u001b[0;34m'calexp_fwhm'\u001b[0m\u001b[0;34m]\u001b[0m \u001b[0;34m-\u001b[0m \u001b[0mpsf_table\u001b[0m\u001b[0;34m[\u001b[0m\u001b[0;34m'coadd_fwhm'\u001b[0m\u001b[0;34m]\u001b[0m\u001b[0;34m)\u001b[0m \u001b[0;34m/\u001b[0m \u001b[0mpsf_table\u001b[0m\u001b[0;34m[\u001b[0m\u001b[0;34m'coadd_fwhm'\u001b[0m\u001b[0;34m]\u001b[0m\u001b[0;34m\u001b[0m\u001b[0;34m\u001b[0m\u001b[0m\n\u001b[1;32m      3\u001b[0m base_flags = ['base_PixelFlags_flag_saturated', 'base_PixelFlags_flag_saturatedCenter', 'base_PixelFlags_flag_suspect',\n\u001b[1;32m      4\u001b[0m               \u001b[0;34m'base_PixelFlags_flag_suspectCenter'\u001b[0m\u001b[0;34m,\u001b[0m \u001b[0;34m'base_PixelFlags_flag_offimage'\u001b[0m\u001b[0;34m,\u001b[0m \u001b[0;34m'base_PixelFlags_flag_edge'\u001b[0m\u001b[0;34m,\u001b[0m\u001b[0;34m\u001b[0m\u001b[0;34m\u001b[0m\u001b[0m\n\u001b[1;32m      5\u001b[0m               'base_PixelFlags_flag_bad', 'base_NaiveCentroid_flag']\n",
      "\u001b[0;31mNameError\u001b[0m: name 'Table' is not defined"
     ]
    }
   ],
   "source": [
    "\n",
    "\n",
    "psf_table = Table.read('./data/table/gal_4639/psf_fwhm.csv', format='ascii.csv')\n",
    "psf_table['psf_ratio'] = (psf_table['calexp_fwhm'] - psf_table['coadd_fwhm']) / psf_table['coadd_fwhm']\n",
    "base_flags = ['base_PixelFlags_flag_saturated', 'base_PixelFlags_flag_saturatedCenter', 'base_PixelFlags_flag_suspect',\n",
    "              'base_PixelFlags_flag_suspectCenter', 'base_PixelFlags_flag_offimage', 'base_PixelFlags_flag_edge',\n",
    "              'base_PixelFlags_flag_bad', 'base_NaiveCentroid_flag']\n",
    "dipole_flags = ['ip_diffim_DipoleFit_flag_classification', 'ip_diffim_DipoleFit_flag_classificationAttempted']\n",
    "sdss_flags = ['base_SdssShape_flag', 'base_GaussianFlux_flag_badShape', 'slot_Shape_flag']\n",
    "full_detections = Table.read('./data/table/gal_4639/full_detections.csv', format='ascii.csv')\n",
    "for flag in (base_flags+dipole_flags+sdss_flags):\n",
    "    full_detections[flag] = (full_detections[flag].data == 'True')\n",
    "full_detections['diaSrc_snr'] = full_detections['base_PsfFlux_instFlux'] /full_detections['base_PsfFlux_instFluxErr']\n",
    "full_detections['psf_ratio'] = (full_detections['calexp_fwhm'] - full_detections['coadd_fwhm']) / full_detections['coadd_fwhm']\n",
    "\n",
    "config = 'al_default'\n",
    "db = (\n",
    "    f'./data'\n",
    "    f'/patch_0to6/diff/{config}/detection/detection.sqlite'\n",
    ")\n",
    "conn = sqlite3.connect(db)\n",
    "art = pd.read_sql_query(\"SELECT * FROM artifact WHERE host_mag = '20_21' and fake_mag = 20\", conn)\n",
    "\n",
    "\n",
    "# art_astropy are detected artifacts from fake injection pipeline\n",
    "# full detections are diaSrc sources merged from diaSrc table after pipeline running\n",
    "art_astropy = Table.from_pandas(art)\n",
    "art_coord = SkyCoord(np.rad2deg(art_astropy['coord_ra'].data),\n",
    "                     np.rad2deg(art_astropy['coord_dec'].data),\n",
    "                     frame=\"icrs\", unit=\"deg\")\n",
    "det_coord = SkyCoord(np.rad2deg(full_detections['coord_ra'].data),\n",
    "                     np.rad2deg(full_detections['coord_dec'].data),\n",
    "                     frame=\"icrs\", unit=\"deg\")\n",
    "matched_status, matched_idx = dpu.two_direction_skymatch(art_coord,  det_coord, radius=2 * u.arcsec)\n",
    "print(f\"full ditections: {len(art)}, matched_status: {len(matched_status)}\")\n",
    "\n",
    "# artifacts from full detections\n",
    "artifacts = full_detections[matched_idx]\n",
    "base_keep = dpu.keep_flag_astropy(artifacts, flag_list=base_flags)\n",
    "base_rm = dpu.remove_flag_astropy(artifacts, flag_list=base_flags)\n",
    "\n",
    "# fwhm class\n",
    "broad = base_rm[base_rm['psf_ratio']>=0]\n",
    "near = base_rm[np.logical_and(base_rm['psf_ratio']<0, base_rm['psf_ratio']>=-0.05)]\n",
    "narrow = base_rm[base_rm['psf_ratio']<-0.05]\n",
    "print(f\"total art: {len(artifacts)}, remove base: {len(base_rm)}, broad: {len(broad)}, near: {len(near)}, sharp: {len(narrow)}\")\n",
    "t = BaseCatalog.readFits('./data/patch_0to6/diff/al_default/00_20_21_1013665_79_i/diff_20/schema/deepDiff_diaSrc.fits')\n",
    "schema = t.schema"
   ]
  },
  {
   "cell_type": "code",
   "execution_count": null,
   "id": "1c2cb81e-99eb-4e23-92f5-02a708a0f39f",
   "metadata": {},
   "outputs": [],
   "source": [
    "# get artifact hosts\n",
    "host_table = full_detections[full_detections['matched_status']=='True']\n",
    "host_coord = SkyCoord(np.rad2deg(host_table['coord_ra'].data),\n",
    "                      np.rad2deg(host_table['coord_dec'].data),\n",
    "                      frame=\"icrs\", unit=\"deg\")\n",
    "matched_status, matched_idx = dpu.two_direction_skymatch(host_coord,  art_coord, radius=2 * u.arcsec)\n",
    "art_host = host_table[~matched_status]\n",
    "art_host_base_rm = dpu.remove_flag_astropy(art_host, flag_list=base_flags)"
   ]
  },
  {
   "cell_type": "code",
   "execution_count": null,
   "id": "a4fe846a-838f-42a0-919b-6ddd787bcd65",
   "metadata": {},
   "outputs": [],
   "source": [
    "len(art_host), len(art_host_base_rm)"
   ]
  },
  {
   "cell_type": "code",
   "execution_count": null,
   "id": "311f34f7-7972-4669-9042-8265373416bb",
   "metadata": {},
   "outputs": [],
   "source": []
  },
  {
   "cell_type": "code",
   "execution_count": null,
   "id": "427bc33f-e4fd-4181-82b3-d80ec3b3495b",
   "metadata": {},
   "outputs": [],
   "source": []
  },
  {
   "cell_type": "code",
   "execution_count": null,
   "id": "9a69bb23-33a8-4611-9def-3f4d173cf195",
   "metadata": {},
   "outputs": [],
   "source": []
  },
  {
   "cell_type": "code",
   "execution_count": null,
   "id": "43e9b33c-bc3a-46ed-ad9b-ec2dbb4ed075",
   "metadata": {},
   "outputs": [],
   "source": []
  },
  {
   "cell_type": "markdown",
   "id": "7e0dc370-35d7-46d0-9d31-185a399ebdbd",
   "metadata": {},
   "source": [
    "#### Host SNR"
   ]
  },
  {
   "cell_type": "code",
   "execution_count": 11,
   "id": "81edb05e-fdfa-47f3-931d-2edabe69cc0d",
   "metadata": {},
   "outputs": [
    {
     "ename": "NameError",
     "evalue": "name 'Table' is not defined",
     "output_type": "error",
     "traceback": [
      "\u001b[0;31m---------------------------------------------------------------------------\u001b[0m",
      "\u001b[0;31mNameError\u001b[0m                                 Traceback (most recent call last)",
      "\u001b[0;32m<ipython-input-11-b054ae8ef7d3>\u001b[0m in \u001b[0;36m<module>\u001b[0;34m\u001b[0m\n\u001b[0;32m----> 1\u001b[0;31m \u001b[0mfull_hosts\u001b[0m \u001b[0;34m=\u001b[0m \u001b[0mTable\u001b[0m\u001b[0;34m.\u001b[0m\u001b[0mread\u001b[0m\u001b[0;34m(\u001b[0m\u001b[0;34m'./data/table/gal_4639/full_hosts.csv'\u001b[0m\u001b[0;34m,\u001b[0m \u001b[0mformat\u001b[0m\u001b[0;34m=\u001b[0m\u001b[0;34m'ascii.csv'\u001b[0m\u001b[0;34m)\u001b[0m\u001b[0;34m\u001b[0m\u001b[0;34m\u001b[0m\u001b[0m\n\u001b[0m\u001b[1;32m      2\u001b[0m \u001b[0mbase_applied\u001b[0m \u001b[0;34m=\u001b[0m \u001b[0mTable\u001b[0m\u001b[0;34m.\u001b[0m\u001b[0mread\u001b[0m\u001b[0;34m(\u001b[0m\u001b[0;34m'./data/table/gal_4639/full_hosts_base_applied.csv'\u001b[0m\u001b[0;34m,\u001b[0m \u001b[0mformat\u001b[0m\u001b[0;34m=\u001b[0m\u001b[0;34m'ascii.csv'\u001b[0m\u001b[0;34m)\u001b[0m\u001b[0;34m\u001b[0m\u001b[0;34m\u001b[0m\u001b[0m\n\u001b[1;32m      3\u001b[0m \u001b[0mpercent_list\u001b[0m \u001b[0;34m=\u001b[0m \u001b[0;34m[\u001b[0m\u001b[0;34m]\u001b[0m\u001b[0;34m\u001b[0m\u001b[0;34m\u001b[0m\u001b[0m\n\u001b[1;32m      4\u001b[0m \u001b[0;32mfor\u001b[0m \u001b[0mi\u001b[0m \u001b[0;32min\u001b[0m \u001b[0mnp\u001b[0m\u001b[0;34m.\u001b[0m\u001b[0marange\u001b[0m\u001b[0;34m(\u001b[0m\u001b[0;34m-\u001b[0m\u001b[0;36m10\u001b[0m\u001b[0;34m,\u001b[0m \u001b[0;36m1000\u001b[0m\u001b[0;34m,\u001b[0m \u001b[0;36m10\u001b[0m\u001b[0;34m)\u001b[0m\u001b[0;34m:\u001b[0m\u001b[0;34m\u001b[0m\u001b[0;34m\u001b[0m\u001b[0m\n\u001b[1;32m      5\u001b[0m     \u001b[0mlow\u001b[0m \u001b[0;34m=\u001b[0m \u001b[0mi\u001b[0m\u001b[0;34m\u001b[0m\u001b[0;34m\u001b[0m\u001b[0m\n",
      "\u001b[0;31mNameError\u001b[0m: name 'Table' is not defined"
     ]
    }
   ],
   "source": [
    "full_hosts = Table.read('./data/table/gal_4639/full_hosts.csv', format='ascii.csv')\n",
    "base_applied = Table.read('./data/table/gal_4639/full_hosts_base_applied.csv', format='ascii.csv')\n",
    "percent_list = []\n",
    "for i in np.arange(-10, 1000, 10):\n",
    "    low = i\n",
    "    high = i + 10\n",
    "    keep = np.logical_and(full_hosts['host_snr']>low, full_hosts['host_snr']<high)\n",
    "    t_kept = full_hosts[keep]\n",
    "    condition = np.logical_and(t_kept['is_artifact'] == 'True', t_kept['is_fake'] == 'False')\n",
    "    percent = np.sum(condition) / len(t_kept)\n",
    "    percent_list.append(percent)\n",
    "percent_list_base_applied = []\n",
    "for i in np.arange(-10, 1000, 10):\n",
    "    low = i\n",
    "    high = i + 10\n",
    "    keep = np.logical_and(base_applied['host_snr']>low, base_applied['host_snr']<high)\n",
    "    t_kept = base_applied[keep]\n",
    "    condition = np.logical_and(t_kept['is_artifact'] == 'True', t_kept['is_fake'] == 'False')\n",
    "    percent = np.sum(condition) / len(t_kept)\n",
    "    percent_list_base_applied.append(percent)\n",
    "plt.figure(figsize=(8, 6))\n",
    "plt.step(np.arange(0, 1010, 10),  percent_list, color='g', label='all artifacts')\n",
    "plt.step(np.arange(0, 1010, 10),  percent_list_base_applied, color='r', label='base flags applied')\n",
    "plt.ylim(0, 1)\n",
    "plt.ylabel('Artifact Fraction')\n",
    "plt.xlabel('Background Source SNR')\n",
    "plt.legend()\n",
    "plt.savefig('./paper_plots/p_host_snr.pdf')"
   ]
  },
  {
   "cell_type": "markdown",
   "id": "621181a1-0854-4da0-8401-e5e39ddec13c",
   "metadata": {},
   "source": [
    "#### Saturation Artifacts"
   ]
  },
  {
   "cell_type": "code",
   "execution_count": 12,
   "id": "d78e998b-983f-476b-b6d4-3942693b1878",
   "metadata": {},
   "outputs": [
    {
     "ename": "NameError",
     "evalue": "name 'base_keep' is not defined",
     "output_type": "error",
     "traceback": [
      "\u001b[0;31m---------------------------------------------------------------------------\u001b[0m",
      "\u001b[0;31mNameError\u001b[0m                                 Traceback (most recent call last)",
      "\u001b[0;32m<ipython-input-12-85c55b4ecbe5>\u001b[0m in \u001b[0;36m<module>\u001b[0;34m\u001b[0m\n\u001b[0;32m----> 1\u001b[0;31m \u001b[0mdisplay_stamps\u001b[0m\u001b[0;34m(\u001b[0m\u001b[0mbase_keep\u001b[0m\u001b[0;34m[\u001b[0m\u001b[0;36m15\u001b[0m\u001b[0;34m:\u001b[0m\u001b[0;34m]\u001b[0m\u001b[0;34m,\u001b[0m \u001b[0mfigsize\u001b[0m\u001b[0;34m=\u001b[0m\u001b[0;34m(\u001b[0m\u001b[0;36m8\u001b[0m\u001b[0;34m,\u001b[0m\u001b[0;36m5\u001b[0m\u001b[0;34m)\u001b[0m\u001b[0;34m,\u001b[0m \u001b[0mhspace\u001b[0m\u001b[0;34m=\u001b[0m\u001b[0;36m0.4\u001b[0m\u001b[0;34m,\u001b[0m \u001b[0mwspace\u001b[0m\u001b[0;34m=\u001b[0m\u001b[0;36m0.2\u001b[0m\u001b[0;34m)\u001b[0m\u001b[0;34m\u001b[0m\u001b[0;34m\u001b[0m\u001b[0m\n\u001b[0m\u001b[1;32m      2\u001b[0m \u001b[0mplt\u001b[0m\u001b[0;34m.\u001b[0m\u001b[0msavefig\u001b[0m\u001b[0;34m(\u001b[0m\u001b[0;34m'./paper_plots/p_sat.pdf'\u001b[0m\u001b[0;34m)\u001b[0m\u001b[0;34m\u001b[0m\u001b[0;34m\u001b[0m\u001b[0m\n",
      "\u001b[0;31mNameError\u001b[0m: name 'base_keep' is not defined"
     ]
    }
   ],
   "source": [
    "display_stamps(base_keep[15:], figsize=(8,5), hspace=0.4, wspace=0.2)\n",
    "plt.savefig('./paper_plots/p_sat.pdf')"
   ]
  },
  {
   "cell_type": "code",
   "execution_count": null,
   "id": "41de4ffb-7d44-49a7-9d0f-3d1123d698b9",
   "metadata": {},
   "outputs": [],
   "source": []
  },
  {
   "cell_type": "code",
   "execution_count": null,
   "id": "842730b9-3bca-4d92-a321-ab0ba72dec2a",
   "metadata": {},
   "outputs": [],
   "source": [
    "print('base_SdssShape_flag:    ', schema.extract('base_SdssShape_flag'), '\\n')\n",
    "print('base_GaussianFlux_flag_badShape:    ', schema.extract('base_GaussianFlux_flag_badShape'), '\\n')\n",
    "print()\n",
    "print('slot_Shape_flag:    ', schema.extract('slot_Shape_flag'))"
   ]
  },
  {
   "cell_type": "code",
   "execution_count": null,
   "id": "f7033232-0485-4b47-80ff-77e6ac370455",
   "metadata": {},
   "outputs": [],
   "source": []
  },
  {
   "cell_type": "code",
   "execution_count": null,
   "id": "e2e2649a-e563-46a3-9b59-5185fd8bb847",
   "metadata": {},
   "outputs": [],
   "source": [
    "sdss_count, all_count = 0, 0\n",
    "for row in artifacts:\n",
    "    if row['base_SdssShape_flag'] == 'True':\n",
    "        sdss_count += 1\n",
    "        if row['base_GaussianFlux_flag_badShape'] == 'True' and row['slot_Shape_flag'] == 'True':\n",
    "            all_count += 1\n",
    "print(sdss_count, all_count)"
   ]
  },
  {
   "cell_type": "code",
   "execution_count": 13,
   "id": "2d6bced3-04e1-498e-b6cc-d77f7ab72b4a",
   "metadata": {},
   "outputs": [
    {
     "ename": "NameError",
     "evalue": "name 'broad' is not defined",
     "output_type": "error",
     "traceback": [
      "\u001b[0;31m---------------------------------------------------------------------------\u001b[0m",
      "\u001b[0;31mNameError\u001b[0m                                 Traceback (most recent call last)",
      "\u001b[0;32m<ipython-input-13-1f7d783d2ee0>\u001b[0m in \u001b[0;36m<module>\u001b[0;34m\u001b[0m\n\u001b[1;32m      1\u001b[0m \u001b[0;31m# broad\u001b[0m\u001b[0;34m\u001b[0m\u001b[0;34m\u001b[0m\u001b[0;34m\u001b[0m\u001b[0m\n\u001b[0;32m----> 2\u001b[0;31m \u001b[0mdisplay_artifacts\u001b[0m\u001b[0;34m(\u001b[0m\u001b[0mbroad\u001b[0m\u001b[0;34m,\u001b[0m \u001b[0mfigsize\u001b[0m\u001b[0;34m=\u001b[0m\u001b[0;34m(\u001b[0m\u001b[0;36m8\u001b[0m\u001b[0;34m,\u001b[0m\u001b[0;36m7\u001b[0m\u001b[0;34m)\u001b[0m\u001b[0;34m,\u001b[0m \u001b[0mhspace\u001b[0m\u001b[0;34m=\u001b[0m\u001b[0;36m0.4\u001b[0m\u001b[0;34m,\u001b[0m \u001b[0mwspace\u001b[0m\u001b[0;34m=\u001b[0m\u001b[0;36m0.2\u001b[0m\u001b[0;34m,\u001b[0m \u001b[0mdipole_flags\u001b[0m\u001b[0;34m=\u001b[0m\u001b[0mdipole_flags\u001b[0m\u001b[0;34m,\u001b[0m \u001b[0msdss_flags\u001b[0m\u001b[0;34m=\u001b[0m\u001b[0msdss_flags\u001b[0m\u001b[0;34m)\u001b[0m\u001b[0;34m\u001b[0m\u001b[0;34m\u001b[0m\u001b[0m\n\u001b[0m\u001b[1;32m      3\u001b[0m \u001b[0mplt\u001b[0m\u001b[0;34m.\u001b[0m\u001b[0msavefig\u001b[0m\u001b[0;34m(\u001b[0m\u001b[0;34m'./paper_plots/p_broad.pdf'\u001b[0m\u001b[0;34m)\u001b[0m\u001b[0;34m\u001b[0m\u001b[0;34m\u001b[0m\u001b[0m\n",
      "\u001b[0;31mNameError\u001b[0m: name 'broad' is not defined"
     ]
    }
   ],
   "source": [
    "# broad\n",
    "display_artifacts(broad, figsize=(8,7), hspace=0.4, wspace=0.2, dipole_flags=dipole_flags, sdss_flags=sdss_flags)\n",
    "plt.savefig('./paper_plots/p_broad.pdf')"
   ]
  },
  {
   "cell_type": "code",
   "execution_count": null,
   "id": "9edc3bd8-703b-4b5a-838c-20b721bf4b1a",
   "metadata": {},
   "outputs": [],
   "source": [
    "# near\n",
    "display_artifacts(near, figsize=(8,7), hspace=0.4, wspace=0.2, dipole_flags=dipole_flags, sdss_flags=sdss_flags)\n",
    "plt.savefig('./paper_plots/p_near.pdf')"
   ]
  },
  {
   "cell_type": "code",
   "execution_count": 14,
   "id": "07b34746-9c92-4774-9b21-e7c3d2382276",
   "metadata": {},
   "outputs": [
    {
     "ename": "NameError",
     "evalue": "name 'narrow' is not defined",
     "output_type": "error",
     "traceback": [
      "\u001b[0;31m---------------------------------------------------------------------------\u001b[0m",
      "\u001b[0;31mNameError\u001b[0m                                 Traceback (most recent call last)",
      "\u001b[0;32m<ipython-input-14-7eafca1ba364>\u001b[0m in \u001b[0;36m<module>\u001b[0;34m\u001b[0m\n\u001b[1;32m      1\u001b[0m \u001b[0;31m# sharp\u001b[0m\u001b[0;34m\u001b[0m\u001b[0;34m\u001b[0m\u001b[0;34m\u001b[0m\u001b[0m\n\u001b[0;32m----> 2\u001b[0;31m \u001b[0mdisplay_artifacts\u001b[0m\u001b[0;34m(\u001b[0m\u001b[0mnarrow\u001b[0m\u001b[0;34m,\u001b[0m \u001b[0mfigsize\u001b[0m\u001b[0;34m=\u001b[0m\u001b[0;34m(\u001b[0m\u001b[0;36m8\u001b[0m\u001b[0;34m,\u001b[0m\u001b[0;36m7\u001b[0m\u001b[0;34m)\u001b[0m\u001b[0;34m,\u001b[0m \u001b[0mhspace\u001b[0m\u001b[0;34m=\u001b[0m\u001b[0;36m0.4\u001b[0m\u001b[0;34m,\u001b[0m \u001b[0mwspace\u001b[0m\u001b[0;34m=\u001b[0m\u001b[0;36m0.2\u001b[0m\u001b[0;34m,\u001b[0m \u001b[0mdipole_flags\u001b[0m\u001b[0;34m=\u001b[0m\u001b[0mdipole_flags\u001b[0m\u001b[0;34m,\u001b[0m \u001b[0msdss_flags\u001b[0m\u001b[0;34m=\u001b[0m\u001b[0msdss_flags\u001b[0m\u001b[0;34m)\u001b[0m\u001b[0;34m\u001b[0m\u001b[0;34m\u001b[0m\u001b[0m\n\u001b[0m\u001b[1;32m      3\u001b[0m \u001b[0mplt\u001b[0m\u001b[0;34m.\u001b[0m\u001b[0msavefig\u001b[0m\u001b[0;34m(\u001b[0m\u001b[0;34m'./paper_plots/p_sharp.pdf'\u001b[0m\u001b[0;34m)\u001b[0m\u001b[0;34m\u001b[0m\u001b[0;34m\u001b[0m\u001b[0m\n",
      "\u001b[0;31mNameError\u001b[0m: name 'narrow' is not defined"
     ]
    }
   ],
   "source": [
    "# sharp\n",
    "display_artifacts(narrow, figsize=(8,7), hspace=0.4, wspace=0.2, dipole_flags=dipole_flags, sdss_flags=sdss_flags)\n",
    "plt.savefig('./paper_plots/p_sharp.pdf')"
   ]
  },
  {
   "cell_type": "code",
   "execution_count": null,
   "id": "4e042db3-fe99-4fd8-b3e4-877746131bdc",
   "metadata": {},
   "outputs": [],
   "source": []
  },
  {
   "cell_type": "code",
   "execution_count": null,
   "id": "e2d18efe-338d-45e9-a9c4-23b58c6da391",
   "metadata": {},
   "outputs": [],
   "source": []
  },
  {
   "cell_type": "code",
   "execution_count": null,
   "id": "2d44eab4-5a0e-4315-accd-9d139fcada4e",
   "metadata": {},
   "outputs": [],
   "source": [
    "\n",
    "fig, ax = plt.subplots(1,3,figsize=(10, 3))\n",
    "fig.subplots_adjust(wspace=0.3)\n",
    "bins = np.arange(0, 1000, 10)\n",
    "labelsize = 18\n",
    "xticks = [0, 200, 600, 1000]\n",
    "ylim = (0, 20)\n",
    "ax[0].hist(broad['host_snr'], bins=bins)\n",
    "ax[0].set_xticks(xticks)\n",
    "ax[0].set_xticklabels(xticks, fontsize=labelsize)\n",
    "ax[0].set_ylim(ylim)\n",
    "ax[0].set_ylabel('Counts', size=labelsize)\n",
    "# ax[0].set_xlabel('Source SNR', size=labelsize)\n",
    "ax[0].set_title(\"Broad\", size=labelsize)\n",
    "ax[1].hist(near['host_snr'], bins=bins)\n",
    "ax[1].set_xticks(xticks)\n",
    "ax[1].set_xticklabels(xticks, fontsize=labelsize)\n",
    "ax[1].set_ylim(ylim)\n",
    "# ax[1].set_xlabel('Source SNR', size=labelsize)\n",
    "ax[1].set_title(\"Near\", size=labelsize)\n",
    "ax[2].hist(narrow['host_snr'], bins=bins)\n",
    "ax[2].set_xticks(xticks)\n",
    "ax[2].set_xticklabels(xticks, fontsize=labelsize)\n",
    "ax[2].set_ylim(ylim)\n",
    "# ax[2].set_xlabel('Source SNR', size=labelsize)\n",
    "ax[2].set_title(\"Sharp\", size=labelsize)\n",
    "# plt.suptitle('Source SNR Distribution', size=labelsize, y=1.1)\n",
    "plt.savefig('./paper_plots/p_fwhm_host_snr.pdf')"
   ]
  },
  {
   "cell_type": "markdown",
   "id": "cebe7ce6-e3e5-4ba9-abb4-a5fe4ca32e0a",
   "metadata": {},
   "source": [
    "#### Faint Host"
   ]
  },
  {
   "cell_type": "code",
   "execution_count": 15,
   "id": "ec7f9766-68e9-413d-8d82-d68b08327f1d",
   "metadata": {},
   "outputs": [
    {
     "ename": "NameError",
     "evalue": "name 'base_rm' is not defined",
     "output_type": "error",
     "traceback": [
      "\u001b[0;31m---------------------------------------------------------------------------\u001b[0m",
      "\u001b[0;31mNameError\u001b[0m                                 Traceback (most recent call last)",
      "\u001b[0;32m<ipython-input-15-a7a191e9d6d1>\u001b[0m in \u001b[0;36m<module>\u001b[0;34m\u001b[0m\n\u001b[0;32m----> 1\u001b[0;31m \u001b[0mdisplay_stamps\u001b[0m\u001b[0;34m(\u001b[0m\u001b[0mbase_rm\u001b[0m\u001b[0;34m[\u001b[0m\u001b[0mnp\u001b[0m\u001b[0;34m.\u001b[0m\u001b[0mlogical_and\u001b[0m\u001b[0;34m(\u001b[0m\u001b[0mbase_rm\u001b[0m\u001b[0;34m[\u001b[0m\u001b[0;34m'host_snr'\u001b[0m\u001b[0;34m]\u001b[0m \u001b[0;34m<\u001b[0m \u001b[0;36m50\u001b[0m\u001b[0;34m,\u001b[0m \u001b[0mbase_rm\u001b[0m\u001b[0;34m[\u001b[0m\u001b[0;34m'matched_status'\u001b[0m\u001b[0;34m]\u001b[0m\u001b[0;34m==\u001b[0m\u001b[0;34m'True'\u001b[0m\u001b[0;34m)\u001b[0m\u001b[0;34m]\u001b[0m\u001b[0;34m[\u001b[0m\u001b[0;36m4\u001b[0m\u001b[0;34m:\u001b[0m\u001b[0;34m]\u001b[0m\u001b[0;34m,\u001b[0m \u001b[0mfigsize\u001b[0m\u001b[0;34m=\u001b[0m\u001b[0;34m(\u001b[0m\u001b[0;36m8\u001b[0m\u001b[0;34m,\u001b[0m\u001b[0;36m5\u001b[0m\u001b[0;34m)\u001b[0m\u001b[0;34m,\u001b[0m \u001b[0mhspace\u001b[0m\u001b[0;34m=\u001b[0m\u001b[0;36m0.4\u001b[0m\u001b[0;34m,\u001b[0m \u001b[0mwspace\u001b[0m\u001b[0;34m=\u001b[0m\u001b[0;36m0.2\u001b[0m\u001b[0;34m)\u001b[0m\u001b[0;34m\u001b[0m\u001b[0;34m\u001b[0m\u001b[0m\n\u001b[0m\u001b[1;32m      2\u001b[0m \u001b[0mplt\u001b[0m\u001b[0;34m.\u001b[0m\u001b[0msavefig\u001b[0m\u001b[0;34m(\u001b[0m\u001b[0;34m'./paper_plots/p_faint_art.pdf'\u001b[0m\u001b[0;34m)\u001b[0m\u001b[0;34m\u001b[0m\u001b[0;34m\u001b[0m\u001b[0m\n",
      "\u001b[0;31mNameError\u001b[0m: name 'base_rm' is not defined"
     ]
    }
   ],
   "source": [
    "display_stamps(base_rm[np.logical_and(base_rm['host_snr'] < 50, base_rm['matched_status']=='True')][4:], figsize=(8,5), hspace=0.4, wspace=0.2)\n",
    "plt.savefig('./paper_plots/p_faint_art.pdf')"
   ]
  },
  {
   "cell_type": "markdown",
   "id": "6185ca4c-4647-439f-9294-39b7cb30c0b3",
   "metadata": {},
   "source": [
    "#### unmatched"
   ]
  },
  {
   "cell_type": "code",
   "execution_count": null,
   "id": "98edb194-917d-4a7f-93cd-4cb206e5ce18",
   "metadata": {},
   "outputs": [],
   "source": [
    "display_stamps(base_rm[base_rm['matched_status']=='False'][14:], figsize=(8,5), hspace=0.4, wspace=0.2)\n",
    "plt.savefig('./paper_plots/p_unmatched.pdf')"
   ]
  },
  {
   "cell_type": "code",
   "execution_count": null,
   "id": "7f7532cf-4fed-42d6-93cf-85a74855aa10",
   "metadata": {},
   "outputs": [],
   "source": []
  },
  {
   "cell_type": "code",
   "execution_count": null,
   "id": "2b80dd1d-6f4f-4662-91a6-fd30263b2a6d",
   "metadata": {},
   "outputs": [],
   "source": []
  },
  {
   "cell_type": "code",
   "execution_count": 16,
   "id": "109679b0-dfc1-43cc-a615-c99863f6e53a",
   "metadata": {},
   "outputs": [
    {
     "ename": "NameError",
     "evalue": "name 'afwImage' is not defined",
     "output_type": "error",
     "traceback": [
      "\u001b[0;31m---------------------------------------------------------------------------\u001b[0m",
      "\u001b[0;31mNameError\u001b[0m                                 Traceback (most recent call last)",
      "\u001b[0;32m<ipython-input-16-96537fe2b4b5>\u001b[0m in \u001b[0;36m<module>\u001b[0;34m\u001b[0m\n\u001b[0;32m----> 1\u001b[0;31m \u001b[0mal_diff\u001b[0m \u001b[0;34m=\u001b[0m \u001b[0mafwImage\u001b[0m\u001b[0;34m.\u001b[0m\u001b[0mExposureF\u001b[0m\u001b[0;34m(\u001b[0m\u001b[0;34m'./data/patch_0to6/diff/al_default/00_20_21_1013665_79_i/diff_20/deepDiff/v01013665-fi/R20/diffexp_01013665-i-R20-S21-det079.fits'\u001b[0m\u001b[0;34m)\u001b[0m\u001b[0;34m\u001b[0m\u001b[0;34m\u001b[0m\u001b[0m\n\u001b[0m\u001b[1;32m      2\u001b[0m \u001b[0mzogy_diff\u001b[0m \u001b[0;34m=\u001b[0m \u001b[0mafwImage\u001b[0m\u001b[0;34m.\u001b[0m\u001b[0mExposureF\u001b[0m\u001b[0;34m(\u001b[0m\u001b[0;34m'./data/patch_0to6/diff/zogy_55/00_20_21_1013665_79_i/diff_20/deepDiff/v01013665-fi/R20/diffexp_01013665-i-R20-S21-det079.fits'\u001b[0m\u001b[0;34m)\u001b[0m\u001b[0;34m\u001b[0m\u001b[0;34m\u001b[0m\u001b[0m\n\u001b[1;32m      3\u001b[0m \u001b[0;34m\u001b[0m\u001b[0m\n\u001b[1;32m      4\u001b[0m base_flags = ['base_PixelFlags_flag_saturated', 'base_PixelFlags_flag_saturatedCenter',\n\u001b[1;32m      5\u001b[0m              \u001b[0;34m'base_PixelFlags_flag_suspect'\u001b[0m\u001b[0;34m,\u001b[0m \u001b[0;34m'base_PixelFlags_flag_suspectCenter'\u001b[0m\u001b[0;34m,\u001b[0m\u001b[0;34m\u001b[0m\u001b[0;34m\u001b[0m\u001b[0m\n",
      "\u001b[0;31mNameError\u001b[0m: name 'afwImage' is not defined"
     ]
    }
   ],
   "source": [
    "al_diff = afwImage.ExposureF('./data/patch_0to6/diff/al_default/00_20_21_1013665_79_i/diff_20/deepDiff/v01013665-fi/R20/diffexp_01013665-i-R20-S21-det079.fits')\n",
    "zogy_diff = afwImage.ExposureF('./data/patch_0to6/diff/zogy_55/00_20_21_1013665_79_i/diff_20/deepDiff/v01013665-fi/R20/diffexp_01013665-i-R20-S21-det079.fits')\n",
    "\n",
    "base_flags = ['base_PixelFlags_flag_saturated', 'base_PixelFlags_flag_saturatedCenter',\n",
    "             'base_PixelFlags_flag_suspect', 'base_PixelFlags_flag_suspectCenter',\n",
    "             'base_PixelFlags_flag_offimage', 'base_PixelFlags_flag_edge','base_PixelFlags_flag_bad']\n",
    "diff_diaSrc = BaseCatalog.readFits('./data/patch_0to6/diff/al_default/00_20_21_1013665_79_i/diff_20/deepDiff/v01013665-fi/R20/diaSrc_01013665-i-R20-S21-det079.fits')\n",
    "diff_diaSrc_astropy = diff_diaSrc.asAstropy()\n",
    "dipole_flags = ['ip_diffim_DipoleFit_flag_classification', 'ip_diffim_DipoleFit_flag_classificationAttempted']\n",
    "diaSrc_base_rm = dpu.remove_flag_astropy(diff_diaSrc_astropy, flag_list=base_flags)\n",
    "diaSrc_dipole_keep = dpu.keep_flag_astropy(diaSrc_base_rm, flag_list=dipole_flags)\n",
    "\n",
    "fig, ax = plt.subplots(2, 5, figsize=(10,5))\n",
    "fig.subplots_adjust(hspace=0.05)\n",
    "for i, row in enumerate(diaSrc_dipole_keep[1:]):\n",
    "    if i ==5:\n",
    "        break\n",
    "    x = row['base_NaiveCentroid_x']\n",
    "    y = row['base_NaiveCentroid_y']\n",
    "    al_stamp = dpu.make_cutout(al_diff, x, y, cutout_size=30)\n",
    "    zogy_stamp = dpu.make_cutout(zogy_diff, x, y, cutout_size=30)\n",
    "    ax[0][i].imshow(interval(al_stamp.getImage().array), cmap='gray', origin='lower')\n",
    "    ax[1][i].imshow(interval(zogy_stamp.getImage().array), cmap='gray', origin='lower')\n",
    "    ax[0][i].set_xticks([])\n",
    "    ax[1][i].set_xticks([])\n",
    "    ax[0][i].set_yticks([])\n",
    "    ax[1][i].set_yticks([])\n",
    "    if i == 0:\n",
    "        ax[0][i].set_ylabel('AL', size=16)\n",
    "        ax[1][i].set_ylabel('ZOGY', size=16)\n",
    "plt.savefig('./paper_plots/p_al_zogy.pdf')\n"
   ]
  },
  {
   "cell_type": "code",
   "execution_count": null,
   "id": "082c986b-8e12-41b4-856f-987b14a8f764",
   "metadata": {},
   "outputs": [],
   "source": []
  },
  {
   "cell_type": "code",
   "execution_count": null,
   "id": "a589afa1-4c89-4a3b-9955-5d74b2707566",
   "metadata": {},
   "outputs": [],
   "source": []
  },
  {
   "cell_type": "code",
   "execution_count": null,
   "id": "278a6ad2-25bf-4a98-9b97-bdec1e0d9886",
   "metadata": {},
   "outputs": [],
   "source": []
  },
  {
   "cell_type": "code",
   "execution_count": null,
   "id": "bed39696-fa95-4614-95a1-72d919764640",
   "metadata": {},
   "outputs": [],
   "source": []
  },
  {
   "cell_type": "code",
   "execution_count": null,
   "id": "c8b9b52c-9a98-49b2-9220-7e1c94c18bcc",
   "metadata": {},
   "outputs": [],
   "source": []
  },
  {
   "cell_type": "code",
   "execution_count": null,
   "id": "ef4bc9a0-f94d-41ae-ac2a-28ea772fd131",
   "metadata": {},
   "outputs": [],
   "source": []
  },
  {
   "cell_type": "code",
   "execution_count": null,
   "id": "66ca192d-e63c-433c-86d2-9a375fbcdcc3",
   "metadata": {},
   "outputs": [],
   "source": []
  },
  {
   "cell_type": "code",
   "execution_count": null,
   "id": "c68f556c-ce22-444a-bf59-7f0fab1258c7",
   "metadata": {},
   "outputs": [],
   "source": []
  },
  {
   "cell_type": "code",
   "execution_count": null,
   "id": "f2cb16cb-7540-4a68-b23b-f29555d80bc1",
   "metadata": {},
   "outputs": [],
   "source": []
  },
  {
   "cell_type": "code",
   "execution_count": null,
   "id": "2dbcbe69-5acc-47d7-add5-9270108ab7df",
   "metadata": {},
   "outputs": [],
   "source": []
  },
  {
   "cell_type": "code",
   "execution_count": null,
   "id": "e661b6f2-c6b0-4bc5-8a73-a3dfc067267f",
   "metadata": {},
   "outputs": [],
   "source": []
  },
  {
   "cell_type": "code",
   "execution_count": null,
   "id": "21beec18-fb39-49b7-9fe0-7ca9370f1a70",
   "metadata": {},
   "outputs": [],
   "source": []
  },
  {
   "cell_type": "code",
   "execution_count": null,
   "id": "ddcf44ff-073b-4480-b125-06ecdfb47a3f",
   "metadata": {},
   "outputs": [],
   "source": []
  },
  {
   "cell_type": "markdown",
   "id": "b68dc550-82eb-4c3a-ab06-fb1a82d9e1fa",
   "metadata": {},
   "source": [
    "#### explore base SdssShape flag"
   ]
  },
  {
   "cell_type": "code",
   "execution_count": 14,
   "id": "81419522-f5a1-4953-96fb-e22ce4c7cc67",
   "metadata": {},
   "outputs": [
    {
     "name": "stdout",
     "output_type": "stream",
     "text": [
      "base flag set: 1090, both base and sdss: 855\n",
      "dipole flag set: 302, both dipole and sdss: 252\n",
      "dipole flag not set: 470, no dipole but sdss: 324\n"
     ]
    }
   ],
   "source": [
    "psf_table = Table.read('./data/table/gal_4639/psf_fwhm.csv', format='ascii.csv')\n",
    "psf_table['psf_ratio'] = (psf_table['calexp_fwhm'] - psf_table['coadd_fwhm']) / psf_table['coadd_fwhm']\n",
    "base_flags = ['base_PixelFlags_flag_saturated', 'base_PixelFlags_flag_saturatedCenter', 'base_PixelFlags_flag_suspect',\n",
    "              'base_PixelFlags_flag_suspectCenter', 'base_PixelFlags_flag_offimage', 'base_PixelFlags_flag_edge',\n",
    "              'base_PixelFlags_flag_bad', 'base_NaiveCentroid_flag']\n",
    "dipole_flags = ['ip_diffim_DipoleFit_flag_classification', 'ip_diffim_DipoleFit_flag_classificationAttempted']\n",
    "full_detections = Table.read('./data/table/gal_4639/full_detections.csv', format='ascii.csv')\n",
    "for flag in (base_flags+dipole_flags):\n",
    "    full_detections[flag] = (full_detections[flag].data == 'True')\n",
    "full_detections['diaSrc_snr'] = full_detections['base_PsfFlux_instFlux'] /full_detections['base_PsfFlux_instFluxErr']\n",
    "full_detections['psf_ratio'] = (full_detections['calexp_fwhm'] - full_detections['coadd_fwhm']) / full_detections['coadd_fwhm']\n",
    "\n",
    "config = 'al_default'\n",
    "db = (\n",
    "    f'./data'\n",
    "    f'/patch_0to6/diff/{config}/detection/detection.sqlite'\n",
    ")\n",
    "conn = sqlite3.connect(db)\n",
    "art = pd.read_sql_query(\"SELECT * FROM artifact WHERE host_mag = '20_21' and fake_mag = 20\", conn)\n",
    "\n",
    "\n",
    "# art_astropy are detected artifacts from fake injection pipeline\n",
    "# full detections are diaSrc sources merged from diaSrc table after pipeline running\n",
    "art_astropy = Table.from_pandas(art)\n",
    "art_coord = SkyCoord(np.rad2deg(art_astropy['coord_ra'].data),\n",
    "                     np.rad2deg(art_astropy['coord_dec'].data),\n",
    "                     frame=\"icrs\", unit=\"deg\")\n",
    "det_coord = SkyCoord(np.rad2deg(full_detections['coord_ra'].data),\n",
    "                     np.rad2deg(full_detections['coord_dec'].data),\n",
    "                     frame=\"icrs\", unit=\"deg\")\n",
    "matched_status, matched_idx = dpu.two_direction_skymatch(art_coord,  det_coord, radius=2 * u.arcsec)\n",
    "\n",
    "base_keep = dpu.keep_flag_astropy(artifacts, flag_list=base_flags)\n",
    "base_rm = dpu.remove_flag_astropy(artifacts, flag_list=base_flags)\n",
    "dipole_keep = dpu.keep_flag_astropy(base_rm, flag_list=dipole_flags)\n",
    "dipole_rm = dpu.remove_flag_astropy(base_rm, flag_list=dipole_flags)\n",
    "print(f\"base flag set: {len(base_keep)}, both base and sdss: {np.sum(base_keep['base_SdssShape_flag']=='True')}\")\n",
    "\n",
    "print(f\"dipole flag set: {len(dipole_keep)}, both dipole and sdss: {np.sum(dipole_keep['base_SdssShape_flag']=='True')}\")\n",
    "\n",
    "print(f\"dipole flag not set: {len(dipole_rm)}, no dipole but sdss: {np.sum(dipole_rm['base_SdssShape_flag']=='True')}\")"
   ]
  },
  {
   "cell_type": "code",
   "execution_count": null,
   "id": "75af3538-4a11-4c93-b09a-df5b14be3b90",
   "metadata": {},
   "outputs": [],
   "source": []
  },
  {
   "cell_type": "code",
   "execution_count": null,
   "id": "eff2692c-ae21-439b-8f45-00a3bd2519e9",
   "metadata": {},
   "outputs": [],
   "source": []
  },
  {
   "cell_type": "code",
   "execution_count": null,
   "id": "ccef5c78-54cd-4d19-a7c5-5359de3a8ee9",
   "metadata": {},
   "outputs": [],
   "source": []
  },
  {
   "cell_type": "code",
   "execution_count": 111,
   "id": "71096795-bbbf-46ab-b666-129340fa0da3",
   "metadata": {},
   "outputs": [],
   "source": [
    "# if (IxxIyy < (1.0 + epsilon) * Ixy_sq)\n",
    "# base_SdssShape_xx\n",
    "# base_SdssShape_psf_xx\n",
    "# base_SdssShape_instFlux_xx_Cov"
   ]
  },
  {
   "cell_type": "markdown",
   "id": "c58087f5-6fd4-4ac1-b2dc-43579c21ebcd",
   "metadata": {},
   "source": [
    "In line 783 of [https://github.com/lsst/meas_base/blob/26961ef6c7a3bd91c4b40a0307c740244fea775e/src/SdssShape.cc#L783], we have (Ixx * Iyy < (1.0 + epsilon) * Ixy_sq). Note that IxxIyy - Ixy * Ixy is the determinant of the covariance matrix of image moments, which should be equal or biggher than 0 if all pixel values are positive. There are two conditions that (IxxIyy < (1.0 + epsilon) * Ixy_sq:\n",
    "\n",
    "1. Small variance. The deternimant is invariant under othogonal transformation. In the eigenspace of the covariance matrix, eignevalues represent pixel variances. The determinant is the multiplication of all eigenvalues. IxxIyy < (1.0 + epsilon) * Ixy_sq implied a small deternimant, which means photons are distributed near 0. (unlikely to happen.)\n",
    "\n",
    "2. Negative pixel value. If we have negative pixel values (negative probability), the covarice matrix of image of moments can have negative determinant. This may happen for artifacts."
   ]
  },
  {
   "cell_type": "code",
   "execution_count": 112,
   "id": "3c691440-e619-4dc9-bb8c-b7dcf6bd661b",
   "metadata": {},
   "outputs": [],
   "source": [
    "epsilon = 1.0e-6\n",
    "count = 0\n",
    "both = 0\n",
    "for row in artifacts:\n",
    "    xx = row['base_SdssShape_xx']\n",
    "    yy = row['base_SdssShape_yy']\n",
    "    xy = row['base_SdssShape_xy']\n",
    "    if xx * yy < (1.0 + epsilon) * xy * xy:\n",
    "        count += 1\n",
    "        if row['base_SdssShape_flag'] == 'True':\n",
    "            both += 1"
   ]
  },
  {
   "cell_type": "code",
   "execution_count": 113,
   "id": "61adc54f-4f73-4547-b8ef-5595f71c0a42",
   "metadata": {},
   "outputs": [
    {
     "data": {
      "text/plain": [
       "(1862, 1431)"
      ]
     },
     "execution_count": 113,
     "metadata": {},
     "output_type": "execute_result"
    }
   ],
   "source": [
    "len(artifacts), np.sum(artifacts['base_SdssShape_flag'] == 'True')"
   ]
  },
  {
   "cell_type": "code",
   "execution_count": 114,
   "id": "627e8f86-0842-4dc0-89a6-250039053a62",
   "metadata": {},
   "outputs": [
    {
     "name": "stdout",
     "output_type": "stream",
     "text": [
      "Only 27 artifacts have negative determinants, 27 of them have sdss flag set.\n"
     ]
    }
   ],
   "source": [
    "print(f'Only {count} artifacts have negative determinants, {both} of them have sdss flag set.')"
   ]
  },
  {
   "cell_type": "code",
   "execution_count": 182,
   "id": "de379fbb-3785-4f72-aaa2-a1d081baffb1",
   "metadata": {},
   "outputs": [
    {
     "data": {
      "text/plain": [
       "Text(0.5, 0.98, 'base_SdssShape')"
      ]
     },
     "execution_count": 182,
     "metadata": {},
     "output_type": "execute_result"
    },
    {
     "data": {
      "image/png": "[encoded data removed]",
      "text/plain": [
       "<Figure size 720x288 with 2 Axes>"
      ]
     },
     "metadata": {
      "needs_background": "light"
     },
     "output_type": "display_data"
    }
   ],
   "source": [
    "shape = 'base_SdssShape'\n",
    "no_sdss, sdss = [], []\n",
    "for row in artifacts:\n",
    "    xx = row[f'{shape}_xx']\n",
    "    yy = row[f'{shape}_yy']\n",
    "    xy = row[f'{shape}_xy']\n",
    "    det = xx * yy - (1.0 + epsilon) * xy * xy\n",
    "    if row['base_SdssShape_flag'] == 'True':\n",
    "        sdss.append(det)\n",
    "    else:\n",
    "        no_sdss.append(det)\n",
    "        \n",
    "fig, ax = plt.subplots(1, 2, figsize=(10,4))\n",
    "ax[0].hist(no_sdss, label='no sdss flag')\n",
    "# ax[0].set_xlim(-50, 2000)\n",
    "ax[0].set_ylim(0, 450)\n",
    "ax[0].legend()\n",
    "ax[1].hist(sdss, bins=np.linspace(-200000, 200000, 100), label='sdss flag')\n",
    "# ax[1].set_xlim(-500, 2000)\n",
    "ax[1].set_ylim(0, 450)\n",
    "ax[1].legend()\n",
    "ax[0].set_title(f'nnumber of sources: {len(no_sdss)}')\n",
    "ax[1].set_title(f'number of sources: {len(sdss)}')\n",
    "plt.suptitle(shape)"
   ]
  },
  {
   "cell_type": "code",
   "execution_count": null,
   "id": "00c887cf-6ed5-42d4-acfb-19112b9e4f27",
   "metadata": {},
   "outputs": [],
   "source": []
  },
  {
   "cell_type": "code",
   "execution_count": null,
   "id": "621640a9-e5d3-4d30-a583-17025f494240",
   "metadata": {},
   "outputs": [],
   "source": []
  },
  {
   "cell_type": "code",
   "execution_count": 116,
   "id": "eac796a8-a693-4bed-841c-9428f72de6e7",
   "metadata": {},
   "outputs": [
    {
     "name": "stdout",
     "output_type": "stream",
     "text": [
      "431 1431\n"
     ]
    },
    {
     "data": {
      "text/plain": [
       "Text(0.5, 0.98, 'base_SdssShape_psf')"
      ]
     },
     "execution_count": 116,
     "metadata": {},
     "output_type": "execute_result"
    },
    {
     "data": {
      "image/png": "[encoded data removed]",
      "text/plain": [
       "<Figure size 720x288 with 2 Axes>"
      ]
     },
     "metadata": {
      "needs_background": "light"
     },
     "output_type": "display_data"
    }
   ],
   "source": [
    "import matplotlib.pyplot as plt\n",
    "\n",
    "shape = 'base_SdssShape_psf'\n",
    "no_sdss, sdss = [], []\n",
    "for row in artifacts:\n",
    "    xx = row[f'{shape}_xx']\n",
    "    yy = row[f'{shape}_yy']\n",
    "    xy = row[f'{shape}_xy']\n",
    "    det = xx * yy - (1.0 + epsilon) * xy * xy\n",
    "    if row['base_SdssShape_flag'] == 'True':\n",
    "        sdss.append(det)\n",
    "    else:\n",
    "        no_sdss.append(det)\n",
    "print(len(no_sdss), len(sdss))\n",
    "fig, ax = plt.subplots(1, 2, figsize=(10,4))\n",
    "ax[0].hist(no_sdss, label='no sdss flag')\n",
    "# ax[0].set_xlim(-50, 2000)\n",
    "ax[0].set_ylim(0, 500)\n",
    "ax[0].legend()\n",
    "ax[1].hist(sdss, label='sdss flag')\n",
    "# ax[1].set_xlim(-500, 2000)\n",
    "ax[1].set_ylim(0, 500)\n",
    "ax[1].legend()\n",
    "ax[0].set_title(f'number of sources: {len(no_sdss)}')\n",
    "ax[1].set_title(f'number of sources: {len(sdss)}')\n",
    "plt.suptitle(shape)"
   ]
  },
  {
   "cell_type": "code",
   "execution_count": 184,
   "id": "306b231b-42b4-4f18-8dbe-1f8675d815d2",
   "metadata": {},
   "outputs": [
    {
     "name": "stdout",
     "output_type": "stream",
     "text": [
      "431 1431\n"
     ]
    },
    {
     "data": {
      "text/plain": [
       "Text(0.5, 0.98, 'base_SdssShape_instFlux')"
      ]
     },
     "execution_count": 184,
     "metadata": {},
     "output_type": "execute_result"
    },
    {
     "data": {
      "image/png": "[encoded data removed]",
      "text/plain": [
       "<Figure size 720x288 with 2 Axes>"
      ]
     },
     "metadata": {
      "needs_background": "light"
     },
     "output_type": "display_data"
    }
   ],
   "source": [
    "import matplotlib.pyplot as plt\n",
    "\n",
    "shape = 'base_SdssShape_instFlux'\n",
    "no_sdss, sdss = [], []\n",
    "for row in artifacts:\n",
    "    xx = row[f'base_SdssShape_instFlux_xx_Cov']\n",
    "    yy = row[f'base_SdssShape_instFlux_yy_Cov']\n",
    "    xy = row[f'base_SdssShape_instFlux_xy_Cov']\n",
    "    det = xx * yy - (1.0 + epsilon) * xy * xy\n",
    "    if row['base_SdssShape_flag'] == 'True':\n",
    "        sdss.append(det)\n",
    "    else:\n",
    "        no_sdss.append(det)\n",
    "print(len(no_sdss), len(sdss))\n",
    "fig, ax = plt.subplots(1, 2, figsize=(10,4))\n",
    "ax[0].hist(no_sdss, bins=np.linspace(-3*1e7, 3*1e7, 400), label='no sdss flag')\n",
    "# ax[0].set_xlim(-50, 2000)\n",
    "ax[0].set_ylim(0, 500)\n",
    "ax[0].legend()\n",
    "ax[1].hist(sdss, bins=np.linspace(-3*1e7, 3*1e7, 400), label='sdss flag')\n",
    "# ax[1].set_xlim(-500, 2000)\n",
    "ax[1].set_ylim(0, 500)\n",
    "ax[1].legend()\n",
    "ax[0].set_title(f'number of sources: {len(no_sdss)}')\n",
    "ax[1].set_title(f'number of sources: {len(sdss)}')\n",
    "plt.suptitle(shape)"
   ]
  },
  {
   "cell_type": "code",
   "execution_count": null,
   "id": "bfe306cb-7812-4c04-81a4-5b4e961485bd",
   "metadata": {},
   "outputs": [],
   "source": []
  },
  {
   "cell_type": "code",
   "execution_count": 118,
   "id": "2924c443-9899-4cca-b5e1-76bc6ea08e45",
   "metadata": {},
   "outputs": [],
   "source": [
    "\"\"\"\n",
    "for c in artifacts.columns:\n",
    "    print(c)\n",
    "\"\"\";"
   ]
  },
  {
   "cell_type": "markdown",
   "id": "8d86810b-4a4a-4ab6-b970-d43b4cac5f47",
   "metadata": {},
   "source": [
    "#### sdss flag morphology"
   ]
  },
  {
   "cell_type": "code",
   "execution_count": 119,
   "id": "81e23924-7de8-4956-beaf-37bac07feb3f",
   "metadata": {},
   "outputs": [
    {
     "name": "stdout",
     "output_type": "stream",
     "text": [
      "total art: 1862, remove base: 772, broad: 261, near: 164, sharp: 347\n"
     ]
    }
   ],
   "source": [
    "psf_table = Table.read('./data/table/gal_4639/psf_fwhm.csv', format='ascii.csv')\n",
    "psf_table['psf_ratio'] = (psf_table['calexp_fwhm'] - psf_table['coadd_fwhm']) / psf_table['coadd_fwhm']\n",
    "base_flags = ['base_PixelFlags_flag_saturated', 'base_PixelFlags_flag_saturatedCenter', 'base_PixelFlags_flag_suspect',\n",
    "              'base_PixelFlags_flag_suspectCenter', 'base_PixelFlags_flag_offimage', 'base_PixelFlags_flag_edge',\n",
    "              'base_PixelFlags_flag_bad', 'base_NaiveCentroid_flag']\n",
    "dipole_flags = ['ip_diffim_DipoleFit_flag_classification', 'ip_diffim_DipoleFit_flag_classificationAttempted']\n",
    "full_detections = Table.read('./data/table/gal_4639/full_detections.csv', format='ascii.csv')\n",
    "for flag in (base_flags+dipole_flags):\n",
    "    full_detections[flag] = (full_detections[flag].data == 'True')\n",
    "full_detections['diaSrc_snr'] = full_detections['base_PsfFlux_instFlux'] /full_detections['base_PsfFlux_instFluxErr']\n",
    "full_detections['psf_ratio'] = (full_detections['calexp_fwhm'] - full_detections['coadd_fwhm']) / full_detections['coadd_fwhm']\n",
    "\n",
    "config = 'al_default'\n",
    "db = (\n",
    "    f'./data'\n",
    "    f'/patch_0to6/diff/{config}/detection/detection.sqlite'\n",
    ")\n",
    "conn = sqlite3.connect(db)\n",
    "art = pd.read_sql_query(\"SELECT * FROM artifact WHERE host_mag = '20_21' and fake_mag = 20\", conn)\n",
    "\n",
    "\n",
    "# art_astropy are detected artifacts from fake injection pipeline\n",
    "# full detections are diaSrc sources merged from diaSrc table after pipeline running\n",
    "art_astropy = Table.from_pandas(art)\n",
    "art_coord = SkyCoord(np.rad2deg(art_astropy['coord_ra'].data),\n",
    "                     np.rad2deg(art_astropy['coord_dec'].data),\n",
    "                     frame=\"icrs\", unit=\"deg\")\n",
    "det_coord = SkyCoord(np.rad2deg(full_detections['coord_ra'].data),\n",
    "                     np.rad2deg(full_detections['coord_dec'].data),\n",
    "                     frame=\"icrs\", unit=\"deg\")\n",
    "matched_status, matched_idx = dpu.two_direction_skymatch(art_coord,  det_coord, radius=2 * u.arcsec)\n",
    "\n",
    "# artifacts from full detections\n",
    "artifacts = full_detections[matched_idx]\n",
    "base_rm = dpu.remove_flag_astropy(artifacts, flag_list=base_flags)\n",
    "# fwhm class\n",
    "broad = base_rm[base_rm['psf_ratio']>=0]\n",
    "near = base_rm[np.logical_and(base_rm['psf_ratio']<0, base_rm['psf_ratio']>=-0.05)]\n",
    "narrow = base_rm[base_rm['psf_ratio']<-0.05]\n",
    "print(f\"total art: {len(artifacts)}, remove base: {len(base_rm)}, broad: {len(broad)}, near: {len(near)}, sharp: {len(narrow)}\")"
   ]
  },
  {
   "cell_type": "code",
   "execution_count": 120,
   "id": "36376ff9-436b-4907-bc3a-2b42f951822e",
   "metadata": {},
   "outputs": [],
   "source": []
  },
  {
   "cell_type": "code",
   "execution_count": 121,
   "id": "7a5505c4-da06-4efd-9201-a3fdc9fea386",
   "metadata": {},
   "outputs": [
    {
     "name": "stdout",
     "output_type": "stream",
     "text": [
      "broad id:  [1, 2, 5, 12, 13, 16, 21, 24, 26, 32, 33, 35, 36, 37, 38, 39, 40, 43, 49, 53, 57, 58, 59, 60, 62, 63, 64, 65, 66, 69]\n",
      "near id:  [0, 3, 6, 9, 14, 15, 22, 25, 29, 30, 41, 44, 46, 50, 51, 55]\n",
      "sharp id:  [4, 7, 8, 10, 11, 17, 18, 19, 20, 23, 27, 28, 31, 34, 42, 45, 47, 48, 52, 54, 56, 61, 67, 68]\n"
     ]
    }
   ],
   "source": [
    "psf_table['fwhm_ratio'] = (psf_table['calexp_fwhm'] - psf_table['coadd_fwhm']) / psf_table['coadd_fwhm']\n",
    "broad_id, near_id, sharp_id = [], [], []\n",
    "for i, r in enumerate(psf_table['fwhm_ratio']):\n",
    "    if r >= 0:\n",
    "        broad_id.append(i)\n",
    "    elif r < 0 and r >= -0.05:\n",
    "        near_id.append(i)\n",
    "    else:\n",
    "        sharp_id.append(i)\n",
    "print('broad id: ', broad_id)\n",
    "print('near id: ', near_id)\n",
    "print('sharp id: ', sharp_id)"
   ]
  },
  {
   "cell_type": "code",
   "execution_count": 122,
   "id": "586d5b1e-cbbb-4127-9219-b61dc6311c18",
   "metadata": {},
   "outputs": [],
   "source": [
    "base_keep = dpu.keep_flag_astropy(artifacts, flag_list=base_flags)\n",
    "base_rm = dpu.remove_flag_astropy(artifacts, flag_list=base_flags)\n",
    "dipole_keep = dpu.keep_flag_astropy(base_rm, flag_list=dipole_flags)\n",
    "dipole_rm = dpu.remove_flag_astropy(base_rm, flag_list=dipole_flags)"
   ]
  },
  {
   "cell_type": "code",
   "execution_count": 123,
   "id": "eee0c296-f477-454d-baa1-d446f6fda0b4",
   "metadata": {},
   "outputs": [],
   "source": [
    "from astropy.visualization import ZScaleInterval\n",
    "import lsst.afw.image as afwImage\n",
    "import matplotlib.pyplot as plt\n",
    "interval = ZScaleInterval()"
   ]
  },
  {
   "cell_type": "code",
   "execution_count": null,
   "id": "b7f813ab-1860-445b-b0bb-16ced0ac05e2",
   "metadata": {},
   "outputs": [],
   "source": []
  },
  {
   "cell_type": "code",
   "execution_count": 124,
   "id": "e8dea9b2-53a7-401c-a4e7-63da9e18d5e1",
   "metadata": {
    "tags": []
   },
   "outputs": [],
   "source": [
    "def display_artifacts(art_table, figsize=(10,15), hspace=0.5, dipole_flags=dipole_flags):\n",
    "    dipole_keep = dpu.keep_flag_astropy(art_table, flag_list=dipole_flags)\n",
    "    dipole_rm = dpu.remove_flag_astropy(art_table, flag_list=dipole_flags)\n",
    "\n",
    "    fig, ax = plt.subplots(3, 5, figsize=figsize)\n",
    "    fig.subplots_adjust(hspace=hspace)\n",
    "\n",
    "    table_ls = [dipole_keep, dipole_keep, dipole_rm]\n",
    "    sdss_ls = ['True', 'False', 'True']\n",
    "    ylabel_ls = ['both', 'dipole', 'sdss']\n",
    "    \n",
    "    for r in range(3):\n",
    "        t = table_ls[r]\n",
    "        sdss = sdss_ls[r]\n",
    "        ylabel = ylabel_ls[r]\n",
    "        c = 0\n",
    "        for i, diaSrc in enumerate(t):\n",
    "            if c == 5:\n",
    "                break\n",
    "            flag = diaSrc['base_SdssShape_flag']\n",
    "            if flag == sdss:\n",
    "                # print(diaSrc[dipole_flags], flag)\n",
    "                diff_exp = afwImage.ExposureF(diaSrc['diffexp_path'])\n",
    "                x = diaSrc['base_NaiveCentroid_x']\n",
    "                y = diaSrc['base_NaiveCentroid_y']\n",
    "                diff_stamp = dpu.make_cutout(diff_exp, x, y, cutout_size=30)\n",
    "                ax[r][c].imshow(interval(diff_stamp.getImage().array), cmap='gray', origin='lower')\n",
    "                ax[r][c].set_xticks([])\n",
    "                ax[r][c].set_xticks([])\n",
    "                ax[r][c].set_yticks([])\n",
    "                ax[r][c].set_yticks([])\n",
    "                if c == 0:\n",
    "                    ax[r][c].set_ylabel(ylabel, size=16)       \n",
    "                c += 1\n",
    "        # print('\\n')\n",
    "    # print('\\n')"
   ]
  },
  {
   "cell_type": "code",
   "execution_count": null,
   "id": "3069160d-c8fb-40ff-b1f9-d299309c13e0",
   "metadata": {},
   "outputs": [],
   "source": []
  },
  {
   "cell_type": "code",
   "execution_count": 207,
   "id": "2bde5a2a-cacd-4552-b203-53707dd58415",
   "metadata": {},
   "outputs": [
    {
     "name": "stdout",
     "output_type": "stream",
     "text": [
      "ip_diffim_DipoleFit_flag_classification ip_diffim_DipoleFit_flag_classificationAttempted\n",
      "--------------------------------------- ------------------------------------------------\n",
      "                                   True                                             True True\n",
      "ip_diffim_DipoleFit_flag_classification ip_diffim_DipoleFit_flag_classificationAttempted\n",
      "--------------------------------------- ------------------------------------------------\n",
      "                                   True                                             True True\n",
      "ip_diffim_DipoleFit_flag_classification ip_diffim_DipoleFit_flag_classificationAttempted\n",
      "--------------------------------------- ------------------------------------------------\n",
      "                                   True                                             True True\n",
      "ip_diffim_DipoleFit_flag_classification ip_diffim_DipoleFit_flag_classificationAttempted\n",
      "--------------------------------------- ------------------------------------------------\n",
      "                                   True                                             True True\n",
      "ip_diffim_DipoleFit_flag_classification ip_diffim_DipoleFit_flag_classificationAttempted\n",
      "--------------------------------------- ------------------------------------------------\n",
      "                                   True                                             True True\n",
      "\n",
      "\n",
      "ip_diffim_DipoleFit_flag_classification ip_diffim_DipoleFit_flag_classificationAttempted\n",
      "--------------------------------------- ------------------------------------------------\n",
      "                                   True                                             True False\n",
      "ip_diffim_DipoleFit_flag_classification ip_diffim_DipoleFit_flag_classificationAttempted\n",
      "--------------------------------------- ------------------------------------------------\n",
      "                                   True                                             True False\n",
      "ip_diffim_DipoleFit_flag_classification ip_diffim_DipoleFit_flag_classificationAttempted\n",
      "--------------------------------------- ------------------------------------------------\n",
      "                                   True                                             True False\n",
      "ip_diffim_DipoleFit_flag_classification ip_diffim_DipoleFit_flag_classificationAttempted\n",
      "--------------------------------------- ------------------------------------------------\n",
      "                                   True                                             True False\n",
      "ip_diffim_DipoleFit_flag_classification ip_diffim_DipoleFit_flag_classificationAttempted\n",
      "--------------------------------------- ------------------------------------------------\n",
      "                                   True                                             True False\n",
      "\n",
      "\n",
      "ip_diffim_DipoleFit_flag_classification ip_diffim_DipoleFit_flag_classificationAttempted\n",
      "--------------------------------------- ------------------------------------------------\n",
      "                                  False                                            False True\n",
      "ip_diffim_DipoleFit_flag_classification ip_diffim_DipoleFit_flag_classificationAttempted\n",
      "--------------------------------------- ------------------------------------------------\n",
      "                                  False                                            False True\n",
      "ip_diffim_DipoleFit_flag_classification ip_diffim_DipoleFit_flag_classificationAttempted\n",
      "--------------------------------------- ------------------------------------------------\n",
      "                                  False                                            False True\n",
      "ip_diffim_DipoleFit_flag_classification ip_diffim_DipoleFit_flag_classificationAttempted\n",
      "--------------------------------------- ------------------------------------------------\n",
      "                                  False                                            False True\n",
      "ip_diffim_DipoleFit_flag_classification ip_diffim_DipoleFit_flag_classificationAttempted\n",
      "--------------------------------------- ------------------------------------------------\n",
      "                                  False                                            False True\n",
      "\n",
      "\n",
      "\n",
      "\n"
     ]
    },
    {
     "data": {
      "text/plain": [
       "Text(0.5, 0.98, 'broad')"
      ]
     },
     "execution_count": 207,
     "metadata": {},
     "output_type": "execute_result"
    },
    {
     "data": {
      "image/png": "[encoded data removed]",
      "text/plain": [
       "<Figure size 720x360 with 15 Axes>"
      ]
     },
     "metadata": {},
     "output_type": "display_data"
    }
   ],
   "source": [
    "# tests\n",
    "display_artifacts(broad, figsize=(10,5), hspace=0.5)\n",
    "plt.suptitle('broad')"
   ]
  },
  {
   "cell_type": "code",
   "execution_count": 209,
   "id": "30fcfb8e-8071-4e10-a78e-96798a283688",
   "metadata": {},
   "outputs": [
    {
     "data": {
      "text/plain": [
       "Text(0.5, 0.98, 'broad')"
      ]
     },
     "execution_count": 209,
     "metadata": {},
     "output_type": "execute_result"
    },
    {
     "data": {
      "image/png": "[encoded data removed]",
      "text/plain": [
       "<Figure size 720x360 with 15 Axes>"
      ]
     },
     "metadata": {},
     "output_type": "display_data"
    }
   ],
   "source": [
    "# broad\n",
    "display_artifacts(broad, figsize=(10,5), hspace=0.5)\n",
    "plt.suptitle('broad')"
   ]
  },
  {
   "cell_type": "code",
   "execution_count": null,
   "id": "a0b460f8-7fc3-4498-a6df-09a5308a69b4",
   "metadata": {},
   "outputs": [],
   "source": []
  },
  {
   "cell_type": "code",
   "execution_count": 200,
   "id": "66207df1-0ea6-44cb-986f-dcee40a984f8",
   "metadata": {},
   "outputs": [
    {
     "data": {
      "text/plain": [
       "Text(0.5, 0.98, 'near')"
      ]
     },
     "execution_count": 200,
     "metadata": {},
     "output_type": "execute_result"
    },
    {
     "data": {
      "image/png": "[encoded data removed]",
      "text/plain": [
       "<Figure size 720x360 with 15 Axes>"
      ]
     },
     "metadata": {},
     "output_type": "display_data"
    }
   ],
   "source": [
    "# near\n",
    "display_artifacts(near, figsize=(10,5), hspace=0.5)\n",
    "plt.suptitle('near')"
   ]
  },
  {
   "cell_type": "code",
   "execution_count": 202,
   "id": "da29fdc6-e3fe-4052-986b-91a64f5e7222",
   "metadata": {},
   "outputs": [
    {
     "data": {
      "text/plain": [
       "Text(0.5, 0.98, 'sharp')"
      ]
     },
     "execution_count": 202,
     "metadata": {},
     "output_type": "execute_result"
    },
    {
     "data": {
      "image/png": "[encoded data removed]",
      "text/plain": [
       "<Figure size 720x360 with 15 Axes>"
      ]
     },
     "metadata": {},
     "output_type": "display_data"
    }
   ],
   "source": [
    "# sharp\n",
    "display_artifacts(narrow, figsize=(10,5), hspace=0.5)\n",
    "plt.suptitle('sharp')"
   ]
  },
  {
   "cell_type": "markdown",
   "id": "084eff09-119f-4149-93e9-68388c6e071e",
   "metadata": {},
   "source": [
    "define shape artifacts?\n",
    "purity is useleff\n"
   ]
  },
  {
   "cell_type": "code",
   "execution_count": null,
   "id": "e524c399-0e89-4854-9a6e-c6748c35b822",
   "metadata": {},
   "outputs": [],
   "source": []
  },
  {
   "cell_type": "markdown",
   "id": "41ce65a1-d79a-435a-8b10-758c168e96eb",
   "metadata": {},
   "source": [
    "#### data info"
   ]
  },
  {
   "cell_type": "markdown",
   "id": "1ccfd964-c01b-4b84-ac93-b433100e8176",
   "metadata": {},
   "source": [
    "We want to get MJD, filter, magToInstFlux translation, background level, gain, zeropoint information of a calexp."
   ]
  },
  {
   "cell_type": "code",
   "execution_count": 167,
   "id": "9561d542-f660-4a2d-939b-e942dfcc5912",
   "metadata": {},
   "outputs": [],
   "source": [
    "import lsst\n",
    "from scipy.stats import sigmaclip\n",
    "import numpy as np"
   ]
  },
  {
   "cell_type": "code",
   "execution_count": 126,
   "id": "9c6cf8a2-ae09-4f73-b2d4-1efb1d63c52b",
   "metadata": {},
   "outputs": [],
   "source": [
    "from lsst.daf.persistence import Butler\n",
    "calexp_repo = '/global/cfs/projectdirs/lsst/production/DC2_ImSim/Run2.2i/desc_dm_drp/v19.0.0-v1/rerun/run2.2i-calexp-v1'\n",
    "calexp_butler = Butler(calexp_repo)\n",
    "# get exp and photocalib\n",
    "calexp_id = {'visit': 1013665, 'detector': 79, 'filter': 'i'}\n",
    "calexp_exp = calexp_butler.get('calexp', calexp_id)\n",
    "calexp_photocalib = calexp_butler.get('calexp_photoCalib', calexp_id)\n",
    "# get the source table measured from the calexp exposure\n",
    "calexp_src = calexp_butler.get('src', calexp_id)"
   ]
  },
  {
   "cell_type": "code",
   "execution_count": 170,
   "id": "0a050497-ed3a-4ae1-88c5-7a15170c4ab0",
   "metadata": {},
   "outputs": [
    {
     "name": "stdout",
     "output_type": "stream",
     "text": [
      "MJD: 61076.1177582199\n"
     ]
    }
   ],
   "source": [
    "# mjd\n",
    "# https://community.lsst.org/t/how-should-one-efficiently-get-the-mjd-for-a-source-catalog/3733/2\n",
    "info = calexp_exp.getInfo()\n",
    "# ap_corr = info.getApCorrMap()\n",
    "mjd = info.getVisitInfo().getDate().get(lsst.daf.base.DateTime.MJD)\n",
    "# lsst.daf.base.DateTime.UTC\n",
    "print(f'MJD: {mjd}')"
   ]
  },
  {
   "cell_type": "code",
   "execution_count": 152,
   "id": "643d811b-a6f4-4fb2-853d-89076defa6dd",
   "metadata": {},
   "outputs": [
    {
     "name": "stdout",
     "output_type": "stream",
     "text": [
      "filter\n"
     ]
    },
    {
     "data": {
      "text/plain": [
       "(6, 'i', ['275CutOn', '550CutOn', 'NONE', 'g', 'i', 'r', 'u', 'y', 'z'])"
      ]
     },
     "execution_count": 152,
     "metadata": {},
     "output_type": "execute_result"
    }
   ],
   "source": [
    "# filter\n",
    "print('filter')\n",
    "filt = calexp_exp.getFilter()\n",
    "filt.getId(), filt.getName(), filt.getNames()"
   ]
  },
  {
   "cell_type": "code",
   "execution_count": 154,
   "id": "499ae396-a217-48fe-8dc0-49036d5854af",
   "metadata": {},
   "outputs": [
    {
     "name": "stdout",
     "output_type": "stream",
     "text": [
      "detector\n"
     ]
    },
    {
     "data": {
      "text/plain": [
       "('R20_S21', 79, 79, DetectorType.SCIENCE, 'ITL-3800C-146-Dev')"
      ]
     },
     "execution_count": 154,
     "metadata": {},
     "output_type": "execute_result"
    }
   ],
   "source": [
    "# detector\n",
    "print('detector')\n",
    "det = calexp_exp.getDetector()\n",
    "det.getName(), det.getId(), det.getId(), det.getType(), det.getSerial()"
   ]
  },
  {
   "cell_type": "code",
   "execution_count": 151,
   "id": "f025dad4-530a-4ce4-9b72-34ed1c4be12c",
   "metadata": {},
   "outputs": [
    {
     "name": "stdout",
     "output_type": "stream",
     "text": [
      "variance of image: 6277.701171875\n"
     ]
    }
   ],
   "source": [
    "# sky background estimated using image plane\n",
    "img = calexp_exp.getImage().array\n",
    "img = img[~np.isnan(img)]\n",
    "clipped, _, _ = sigmaclip(img, low=5, high=5)\n",
    "var_of_img = np.var(clipped)\n",
    "print(f'variance of image: {var_of_img}')"
   ]
  },
  {
   "cell_type": "code",
   "execution_count": 147,
   "id": "dbb1cf68-6d45-4f8b-a225-fc09a0eef2e2",
   "metadata": {},
   "outputs": [
    {
     "name": "stdout",
     "output_type": "stream",
     "text": [
      "mean of variance plane: 6046.86328125\n"
     ]
    }
   ],
   "source": [
    "# mean variance plane\n",
    "var = calexp_exp.getVariance().array\n",
    "var = var[~np.isnan(var)]\n",
    "clipped, _, _ = sigmaclip(var, low=5, high=5)\n",
    "mean_of_var = np.mean(clipped)\n",
    "print(f'mean of variance plane: {mean_of_var}')"
   ]
  },
  {
   "cell_type": "code",
   "execution_count": 176,
   "id": "f5c91d56-719b-42f8-810b-b5a66e463f17",
   "metadata": {},
   "outputs": [
    {
     "name": "stdout",
     "output_type": "stream",
     "text": [
      "instFlux to nanoJansky: 0.6724090041131134\n",
      "Is this equivalent to gain?\n"
     ]
    }
   ],
   "source": [
    "inst_to_nJ = photo_calib.instFluxToNanojansky(1)\n",
    "print(f'instFlux to nanoJansky: {inst_to_nJ}')\n",
    "print('Is this equivalent to gain?')"
   ]
  },
  {
   "cell_type": "code",
   "execution_count": 146,
   "id": "95f05977-36df-4cdf-80f9-d4cfc7b982e4",
   "metadata": {},
   "outputs": [
    {
     "name": "stdout",
     "output_type": "stream",
     "text": [
      "mag zp: 5399660809851.72\n"
     ]
    }
   ],
   "source": [
    "# mag zp\n",
    "photo_calib = calexp_exp.getPhotoCalib()\n",
    "mag_zp = photo_calib.getInstFluxAtZeroMagnitude()\n",
    "print(f'mag zp: {mag_zp}')"
   ]
  },
  {
   "cell_type": "code",
   "execution_count": null,
   "id": "dd5d85c9-8893-416a-9923-1c99de3d0252",
   "metadata": {},
   "outputs": [],
   "source": []
  },
  {
   "cell_type": "code",
   "execution_count": 178,
   "id": "c86bd6ef-6016-469a-96c9-cc02fdeb661c",
   "metadata": {},
   "outputs": [],
   "source": [
    "mag_zp_ls = []\n",
    "sky_ls = []\n",
    "for row in psf_table:\n",
    "    calexp_path = row['calexp_path']\n",
    "    calexp_exp = afwImage.ExposureF(calexp_path)\n",
    "    mag_zp = calexp_exp.getPhotoCalib().getInstFluxAtZeroMagnitude()\n",
    "    mag_zp_ls.append(mag_zp)\n",
    "    \n",
    "    img = calexp_exp.getImage().array\n",
    "    img = img[~np.isnan(img)]\n",
    "    clipped, _, _ = sigmaclip(img, low=5, high=5)\n",
    "    var_of_img = np.var(clipped)\n",
    "    sky_ls.append(np.sqrt(var_of_img))"
   ]
  },
  {
   "cell_type": "code",
   "execution_count": 180,
   "id": "55091253-0e59-4037-abd7-41c837a710f5",
   "metadata": {},
   "outputs": [
    {
     "data": {
      "text/plain": [
       "Text(0.5, 1.0, 'standard deviation of image plane')"
      ]
     },
     "execution_count": 180,
     "metadata": {},
     "output_type": "execute_result"
    },
    {
     "data": {
      "image/png": "[encoded data removed]",
      "text/plain": [
       "<Figure size 720x288 with 2 Axes>"
      ]
     },
     "metadata": {
      "needs_background": "light"
     },
     "output_type": "display_data"
    }
   ],
   "source": [
    "fig, ax = plt.subplots(1, 2, figsize=(10,4))\n",
    "ax[0].hist(mag_zp_ls)\n",
    "ax[0].set_title('mag_zp')\n",
    "ax[1].hist(sky_ls)\n",
    "ax[1].set_title('standard deviation of image plane')"
   ]
  },
  {
   "cell_type": "code",
   "execution_count": null,
   "id": "db7688e6-65c6-489d-9211-419f8078b1f1",
   "metadata": {},
   "outputs": [],
   "source": []
  },
  {
   "cell_type": "markdown",
   "id": "a9299cad-2838-45a8-a5f9-3b31f61c3bbc",
   "metadata": {},
   "source": [
    "#### pixel offset"
   ]
  },
  {
   "cell_type": "code",
   "execution_count": 6,
   "id": "ca37f011-f487-4429-ab4e-9e40c5ebced3",
   "metadata": {},
   "outputs": [],
   "source": [
    "def get_gaussian_pdf(fwhm):\n",
    "    sigma = fwhm / np.sqrt(8 * np.log(2))\n",
    "    half_size = 20\n",
    "    \n",
    "    x = np.arange(-half_size, half_size+1, 0.1)\n",
    "    y = np.arange(-half_size, half_size+1, 0.1)\n",
    "    xx, yy = np.meshgrid(x, y)\n",
    "    grid = np.dstack((xx, yy))\n",
    "    rv = multivariate_normal(mean=[0,0], cov=[sigma, sigma])\n",
    "    distribution = rv.pdf(grid)\n",
    "    return distribution\n",
    "\n",
    "def estimate_one_percent_distance(fwhm, threshold=0.1):\n",
    "    pdf = get_gaussian_pdf(fwhm)\n",
    "    pad_size = pdf.shape[1] // 2\n",
    "    pdf = np.pad(pdf, pad_width=((0, 0),(0, pad_size)), mode='constant', constant_values=0)\n",
    "    \n",
    "    for i in range (1, pad_size):\n",
    "        pdf_rolled = np.roll(pdf, shift=i, axis=1)\n",
    "        res = np.sum(np.abs(pdf - pdf_rolled)) / 2\n",
    "        if res > threshold:\n",
    "            return i, res\n",
    "    return None, None"
   ]
  },
  {
   "cell_type": "code",
   "execution_count": 20,
   "id": "b17f3fea-59fa-4daf-9ca3-9cbc634525e6",
   "metadata": {},
   "outputs": [],
   "source": [
    "psf_table = pd.read_csv('./data/table/gal_4639/psf_fwhm.csv')\n",
    "min_shift = np.floor(psf_table['calexp_fwhm'].min())\n",
    "max_shift = np.ceil(psf_table['calexp_fwhm'].max())\n",
    "fwhm_list = np.arange(int(min_shift), int(max_shift+1))\n",
    "\n",
    "shift_list, res_list = [], []\n",
    "for fwhm in fwhm_list:\n",
    "    shift, res = estimate_one_percent_distance(fwhm, threshold=0.1)\n",
    "    shift_list.append(shift)\n",
    "    res_list.append(res)"
   ]
  },
  {
   "cell_type": "code",
   "execution_count": 21,
   "id": "2350d8e8-7aed-46ce-a188-6bcfb4faffe9",
   "metadata": {},
   "outputs": [
    {
     "data": {
      "text/plain": [
       "Text(0, 0.5, 'residual at the first pixel shift')"
      ]
     },
     "execution_count": 21,
     "metadata": {},
     "output_type": "execute_result"
    },
    {
     "data": {
      "image/png": "[encoded data removed]",
      "text/plain": [
       "<Figure size 720x288 with 2 Axes>"
      ]
     },
     "metadata": {
      "needs_background": "light"
     },
     "output_type": "display_data"
    }
   ],
   "source": [
    "fig, ax = plt.subplots(1, 2, figsize=(10,4))\n",
    "fig.subplots_adjust(wspace=0.4)\n",
    "ax[0].plot(fwhm_list, shift_list)\n",
    "ax[0].set_xlabel('fwhm')\n",
    "ax[0].set_ylabel('the first pixel shift where residual exceeds 10%')\n",
    "ax[1].plot(fwhm_list, res_list)\n",
    "ax[1].set_xlabel('fwhm')\n",
    "ax[1].set_ylabel('residual at the first pixel shift')"
   ]
  },
  {
   "cell_type": "code",
   "execution_count": 10,
   "id": "9cebc95b-72d1-4891-98cf-cb1bd8f0fa50",
   "metadata": {},
   "outputs": [],
   "source": [
    "calexp_repo = '/global/cfs/projectdirs/lsst/production/DC2_ImSim/Run2.2i/desc_dm_drp/v19.0.0-v1/rerun/run2.2i-calexp-v1'\n",
    "calexp_butler = Butler(calexp_repo)"
   ]
  },
  {
   "cell_type": "code",
   "execution_count": 22,
   "id": "57d22400-839c-4a2d-8c27-fb4f2e023787",
   "metadata": {},
   "outputs": [],
   "source": [
    "row = psf_table.loc[0]"
   ]
  },
  {
   "cell_type": "code",
   "execution_count": 23,
   "id": "e8d172ca-2061-4fd7-a4ab-15cec12a2f06",
   "metadata": {},
   "outputs": [],
   "source": []
  },
  {
   "cell_type": "code",
   "execution_count": 49,
   "id": "598b2687-ffe0-4d43-8d5b-b13c2c6d80c3",
   "metadata": {},
   "outputs": [],
   "source": [
    "dipole_src = pd.DataFrame()\n",
    "for idx, row in psf_table.iterrows():\n",
    "    diaSrc_path = row['diaSrc_path']\n",
    "    diffexp_path = row['diffexp_path']\n",
    "    # src\n",
    "    calexp_id = {'visit': int(row['visit']), 'detector': int(row['detector']), 'filter': str(row['filter'])}\n",
    "    src = calexp_butler.get('src', calexp_id)\n",
    "    src_astropy = src.asAstropy()\n",
    "    # diaSrc\n",
    "    diaSrc_path = row['diaSrc_path']\n",
    "    diaSrc = BaseCatalog.readFits(diaSrc_path)\n",
    "    diaSrc_astropy = diaSrc.asAstropy()\n",
    "    # dipole table\n",
    "    base_rm = dpu.remove_flag_astropy(diaSrc_astropy, flag_list=base_flags)\n",
    "    dipole_keep = dpu.keep_flag_astropy(base_rm, flag_list=dipole_flags)\n",
    "    # coord matching\n",
    "    dipole_coord = SkyCoord(np.rad2deg(dipole_keep['coord_ra'].data),\n",
    "                            np.rad2deg(dipole_keep['coord_dec'].data),\n",
    "                            frame=\"icrs\", unit=\"deg\")\n",
    "    src_coord = SkyCoord(np.rad2deg(src_astropy['coord_ra'].data),\n",
    "                         np.rad2deg(src_astropy['coord_dec'].data),\n",
    "                         frame=\"icrs\", unit=\"deg\")\n",
    "    if len(src_coord)==0 or len(dipole_coord)==0:\n",
    "        continue\n",
    "    matched_status, matched_idx = dpu.two_direction_skymatch(dipole_coord,  src_coord, radius=2 * u.arcsec)\n",
    "    # joint table\n",
    "    dipole_df = dipole_keep.to_pandas()\n",
    "    src_df = src_astropy.to_pandas()\n",
    "    src_matched = src_df.loc[matched_idx].reset_index()\n",
    "    joint_table = dipole_df.join(src_matched, lsuffix='_diaSrc', rsuffix='_src')\n",
    "    joint_table['matched_status'] = matched_status\n",
    "    joint_table = joint_table.loc[joint_table['matched_status'] == True].reset_index()  \n",
    "    dipole_src = pd.concat([dipole_src, joint_table], axis=0, ignore_index=True)"
   ]
  },
  {
   "cell_type": "code",
   "execution_count": 50,
   "id": "c5f90c32-2585-4c1b-a44c-100dd83b8894",
   "metadata": {},
   "outputs": [],
   "source": [
    "dipole_src.to_csv('dipole_src_matching.csv', index=False)"
   ]
  },
  {
   "cell_type": "code",
   "execution_count": 51,
   "id": "a4f50f8d-b432-42eb-9113-b12e4b29230e",
   "metadata": {},
   "outputs": [],
   "source": [
    "dipole_src_df = pd.read_csv('dipole_src_matching.csv')"
   ]
  },
  {
   "cell_type": "code",
   "execution_count": 61,
   "id": "e2ad67f5-17d1-49e4-b0d6-8480c13b098c",
   "metadata": {},
   "outputs": [],
   "source": [
    "dipole_frac = (np.abs(dipole_src_df['ip_diffim_NaiveDipoleFlux_pos_instFlux']) + np.abs(dipole_src_df['ip_diffim_NaiveDipoleFlux_neg_instFlux'])) / 2 \\\n",
    "            / np.abs(dipole_src_df['base_PsfFlux_instFlux_src'])"
   ]
  },
  {
   "cell_type": "code",
   "execution_count": 67,
   "id": "1f1f7b26-11bd-4ec3-9482-2f20807e1d01",
   "metadata": {},
   "outputs": [
    {
     "data": {
      "text/plain": [
       "Text(0, 0.5, 'Count')"
      ]
     },
     "execution_count": 67,
     "metadata": {},
     "output_type": "execute_result"
    },
    {
     "data": {
      "image/png": "[encoded data removed]",
      "text/plain": [
       "<Figure size 432x288 with 1 Axes>"
      ]
     },
     "metadata": {
      "needs_background": "light"
     },
     "output_type": "display_data"
    }
   ],
   "source": [
    "plt.hist(dipole_frac, bins = np.linspace(0, 0.1, 100));\n",
    "plt.xlabel('Dipole Flux Fraction')\n",
    "plt.ylabel('Count')"
   ]
  },
  {
   "cell_type": "code",
   "execution_count": 34,
   "id": "ff5fff03-fff4-47e2-a6a9-17bd7f67aa7e",
   "metadata": {},
   "outputs": [],
   "source": []
  },
  {
   "cell_type": "code",
   "execution_count": 7,
   "id": "7419af2d-9f59-46ad-80b4-a438fdccfd6a",
   "metadata": {},
   "outputs": [
    {
     "data": {
      "text/html": [
       "<div>\n",
       "<style scoped>\n",
       "    .dataframe tbody tr th:only-of-type {\n",
       "        vertical-align: middle;\n",
       "    }\n",
       "\n",
       "    .dataframe tbody tr th {\n",
       "        vertical-align: top;\n",
       "    }\n",
       "\n",
       "    .dataframe thead th {\n",
       "        text-align: right;\n",
       "    }\n",
       "</style>\n",
       "<table border=\"1\" class=\"dataframe\">\n",
       "  <thead>\n",
       "    <tr style=\"text-align: right;\">\n",
       "      <th></th>\n",
       "      <th>flag</th>\n",
       "      <th>description</th>\n",
       "      <th>precision</th>\n",
       "      <th>recall</th>\n",
       "      <th>f1</th>\n",
       "    </tr>\n",
       "  </thead>\n",
       "  <tbody>\n",
       "    <tr>\n",
       "      <th>26</th>\n",
       "      <td>base_SdssShape_flag</td>\n",
       "      <td>General Failure Flag</td>\n",
       "      <td>0.733127</td>\n",
       "      <td>1.000000</td>\n",
       "      <td>0.846016</td>\n",
       "    </tr>\n",
       "    <tr>\n",
       "      <th>27</th>\n",
       "      <td>base_GaussianFlux_flag_badShape</td>\n",
       "      <td>General Failure Flag</td>\n",
       "      <td>0.733127</td>\n",
       "      <td>1.000000</td>\n",
       "      <td>0.846016</td>\n",
       "    </tr>\n",
       "    <tr>\n",
       "      <th>28</th>\n",
       "      <td>slot_Shape_flag</td>\n",
       "      <td>General Failure Flag</td>\n",
       "      <td>0.733127</td>\n",
       "      <td>1.000000</td>\n",
       "      <td>0.846016</td>\n",
       "    </tr>\n",
       "    <tr>\n",
       "      <th>6</th>\n",
       "      <td>base_SdssCentroid_flag</td>\n",
       "      <td>General Failure Flag</td>\n",
       "      <td>0.671964</td>\n",
       "      <td>1.000000</td>\n",
       "      <td>0.803802</td>\n",
       "    </tr>\n",
       "    <tr>\n",
       "      <th>29</th>\n",
       "      <td>base_SdssShape_flag_unweightedBad</td>\n",
       "      <td>Both weighted and unweighted moments were invalid</td>\n",
       "      <td>0.650907</td>\n",
       "      <td>1.000000</td>\n",
       "      <td>0.788545</td>\n",
       "    </tr>\n",
       "    <tr>\n",
       "      <th>30</th>\n",
       "      <td>base_GaussianFlux_flag_badShape_unweightedBad</td>\n",
       "      <td>Both weighted and unweighted moments were invalid</td>\n",
       "      <td>0.650907</td>\n",
       "      <td>1.000000</td>\n",
       "      <td>0.788545</td>\n",
       "    </tr>\n",
       "    <tr>\n",
       "      <th>31</th>\n",
       "      <td>slot_Shape_flag_unweightedBad</td>\n",
       "      <td>Both weighted and unweighted moments were invalid</td>\n",
       "      <td>0.650907</td>\n",
       "      <td>1.000000</td>\n",
       "      <td>0.788545</td>\n",
       "    </tr>\n",
       "    <tr>\n",
       "      <th>70</th>\n",
       "      <td>base_GaussianFlux_flag</td>\n",
       "      <td>General Failure Flag</td>\n",
       "      <td>0.630122</td>\n",
       "      <td>1.000000</td>\n",
       "      <td>0.773098</td>\n",
       "    </tr>\n",
       "    <tr>\n",
       "      <th>10</th>\n",
       "      <td>base_SdssCentroid_flag_notAtMaximum</td>\n",
       "      <td>Object is not at a maximum</td>\n",
       "      <td>0.618277</td>\n",
       "      <td>1.000000</td>\n",
       "      <td>0.764117</td>\n",
       "    </tr>\n",
       "    <tr>\n",
       "      <th>83</th>\n",
       "      <td>base_PixelFlags_flag_saturatedCenter</td>\n",
       "      <td>Saturated pixel in the Source center</td>\n",
       "      <td>0.598584</td>\n",
       "      <td>1.000000</td>\n",
       "      <td>0.748893</td>\n",
       "    </tr>\n",
       "    <tr>\n",
       "      <th>78</th>\n",
       "      <td>base_PixelFlags_flag_saturated</td>\n",
       "      <td>Saturated pixel in the Source footprint</td>\n",
       "      <td>0.598282</td>\n",
       "      <td>1.000000</td>\n",
       "      <td>0.748656</td>\n",
       "    </tr>\n",
       "    <tr>\n",
       "      <th>76</th>\n",
       "      <td>base_PixelFlags_flag_edge</td>\n",
       "      <td>Source is outside usable exposure region (mask...</td>\n",
       "      <td>0.462319</td>\n",
       "      <td>1.000000</td>\n",
       "      <td>0.632310</td>\n",
       "    </tr>\n",
       "    <tr>\n",
       "      <th>68</th>\n",
       "      <td>base_CircularApertureFlux_70_0_flag</td>\n",
       "      <td>General Failure Flag</td>\n",
       "      <td>0.412544</td>\n",
       "      <td>1.000000</td>\n",
       "      <td>0.584114</td>\n",
       "    </tr>\n",
       "    <tr>\n",
       "      <th>69</th>\n",
       "      <td>base_CircularApertureFlux_70_0_flag_apertureTr...</td>\n",
       "      <td>aperture did not fit within measurement image</td>\n",
       "      <td>0.412544</td>\n",
       "      <td>1.000000</td>\n",
       "      <td>0.584114</td>\n",
       "    </tr>\n",
       "    <tr>\n",
       "      <th>32</th>\n",
       "      <td>base_SdssShape_flag_unweighted</td>\n",
       "      <td>Weighted moments converged to an invalid value...</td>\n",
       "      <td>0.412256</td>\n",
       "      <td>1.000000</td>\n",
       "      <td>0.583826</td>\n",
       "    </tr>\n",
       "    <tr>\n",
       "      <th>33</th>\n",
       "      <td>base_GaussianFlux_flag_badShape_unweighted</td>\n",
       "      <td>Weighted moments converged to an invalid value...</td>\n",
       "      <td>0.412256</td>\n",
       "      <td>1.000000</td>\n",
       "      <td>0.583826</td>\n",
       "    </tr>\n",
       "    <tr>\n",
       "      <th>34</th>\n",
       "      <td>slot_Shape_flag_unweighted</td>\n",
       "      <td>Weighted moments converged to an invalid value...</td>\n",
       "      <td>0.412256</td>\n",
       "      <td>1.000000</td>\n",
       "      <td>0.583826</td>\n",
       "    </tr>\n",
       "    <tr>\n",
       "      <th>95</th>\n",
       "      <td>ip_diffim_PsfDipoleFlux_flag</td>\n",
       "      <td>general failure flag, set if anything went wrong</td>\n",
       "      <td>0.408840</td>\n",
       "      <td>1.000000</td>\n",
       "      <td>0.580392</td>\n",
       "    </tr>\n",
       "    <tr>\n",
       "      <th>66</th>\n",
       "      <td>base_CircularApertureFlux_50_0_flag</td>\n",
       "      <td>General Failure Flag</td>\n",
       "      <td>0.406593</td>\n",
       "      <td>1.000000</td>\n",
       "      <td>0.578125</td>\n",
       "    </tr>\n",
       "    <tr>\n",
       "      <th>67</th>\n",
       "      <td>base_CircularApertureFlux_50_0_flag_apertureTr...</td>\n",
       "      <td>aperture did not fit within measurement image</td>\n",
       "      <td>0.406593</td>\n",
       "      <td>1.000000</td>\n",
       "      <td>0.578125</td>\n",
       "    </tr>\n",
       "    <tr>\n",
       "      <th>64</th>\n",
       "      <td>base_CircularApertureFlux_35_0_flag</td>\n",
       "      <td>General Failure Flag</td>\n",
       "      <td>0.400000</td>\n",
       "      <td>1.000000</td>\n",
       "      <td>0.571429</td>\n",
       "    </tr>\n",
       "    <tr>\n",
       "      <th>65</th>\n",
       "      <td>base_CircularApertureFlux_35_0_flag_apertureTr...</td>\n",
       "      <td>aperture did not fit within measurement image</td>\n",
       "      <td>0.400000</td>\n",
       "      <td>1.000000</td>\n",
       "      <td>0.571429</td>\n",
       "    </tr>\n",
       "    <tr>\n",
       "      <th>35</th>\n",
       "      <td>base_SdssShape_flag_shift</td>\n",
       "      <td>centroid shifted by more than the maximum allo...</td>\n",
       "      <td>0.399056</td>\n",
       "      <td>1.000000</td>\n",
       "      <td>0.570465</td>\n",
       "    </tr>\n",
       "    <tr>\n",
       "      <th>36</th>\n",
       "      <td>base_GaussianFlux_flag_badShape_shift</td>\n",
       "      <td>centroid shifted by more than the maximum allo...</td>\n",
       "      <td>0.399056</td>\n",
       "      <td>1.000000</td>\n",
       "      <td>0.570465</td>\n",
       "    </tr>\n",
       "    <tr>\n",
       "      <th>37</th>\n",
       "      <td>slot_Shape_flag_shift</td>\n",
       "      <td>centroid shifted by more than the maximum allo...</td>\n",
       "      <td>0.399056</td>\n",
       "      <td>1.000000</td>\n",
       "      <td>0.570465</td>\n",
       "    </tr>\n",
       "    <tr>\n",
       "      <th>86</th>\n",
       "      <td>base_PsfFlux_flag</td>\n",
       "      <td>General Failure Flag</td>\n",
       "      <td>0.398922</td>\n",
       "      <td>1.000000</td>\n",
       "      <td>0.570328</td>\n",
       "    </tr>\n",
       "    <tr>\n",
       "      <th>87</th>\n",
       "      <td>slot_PsfFlux_flag</td>\n",
       "      <td>General Failure Flag</td>\n",
       "      <td>0.398922</td>\n",
       "      <td>1.000000</td>\n",
       "      <td>0.570328</td>\n",
       "    </tr>\n",
       "    <tr>\n",
       "      <th>9</th>\n",
       "      <td>base_SdssCentroid_flag_almostNoSecondDerivative</td>\n",
       "      <td>Almost vanishing second derivative</td>\n",
       "      <td>0.397315</td>\n",
       "      <td>1.000000</td>\n",
       "      <td>0.568684</td>\n",
       "    </tr>\n",
       "    <tr>\n",
       "      <th>55</th>\n",
       "      <td>base_CircularApertureFlux_9_0_flag_sincCoeffsT...</td>\n",
       "      <td>full sinc coefficient image did not fit within...</td>\n",
       "      <td>0.397315</td>\n",
       "      <td>1.000000</td>\n",
       "      <td>0.568684</td>\n",
       "    </tr>\n",
       "    <tr>\n",
       "      <th>11</th>\n",
       "      <td>base_SdssCentroid_flag_resetToPeak</td>\n",
       "      <td>set if CentroidChecker reset the centroid</td>\n",
       "      <td>0.394798</td>\n",
       "      <td>1.000000</td>\n",
       "      <td>0.566101</td>\n",
       "    </tr>\n",
       "    <tr>\n",
       "      <th>...</th>\n",
       "      <td>...</td>\n",
       "      <td>...</td>\n",
       "      <td>...</td>\n",
       "      <td>...</td>\n",
       "      <td>...</td>\n",
       "    </tr>\n",
       "    <tr>\n",
       "      <th>57</th>\n",
       "      <td>slot_ApFlux_flag</td>\n",
       "      <td>General Failure Flag</td>\n",
       "      <td>0.388707</td>\n",
       "      <td>1.000000</td>\n",
       "      <td>0.559811</td>\n",
       "    </tr>\n",
       "    <tr>\n",
       "      <th>58</th>\n",
       "      <td>base_CircularApertureFlux_12_0_flag_apertureTr...</td>\n",
       "      <td>aperture did not fit within measurement image</td>\n",
       "      <td>0.388707</td>\n",
       "      <td>1.000000</td>\n",
       "      <td>0.559811</td>\n",
       "    </tr>\n",
       "    <tr>\n",
       "      <th>59</th>\n",
       "      <td>slot_ApFlux_flag_apertureTruncated</td>\n",
       "      <td>aperture did not fit within measurement image</td>\n",
       "      <td>0.388707</td>\n",
       "      <td>1.000000</td>\n",
       "      <td>0.559811</td>\n",
       "    </tr>\n",
       "    <tr>\n",
       "      <th>71</th>\n",
       "      <td>base_LocalPhotoCalib_flag</td>\n",
       "      <td>Set for any fatal failure</td>\n",
       "      <td>0.388707</td>\n",
       "      <td>1.000000</td>\n",
       "      <td>0.559811</td>\n",
       "    </tr>\n",
       "    <tr>\n",
       "      <th>72</th>\n",
       "      <td>base_LocalWcs_flag</td>\n",
       "      <td>Set for any fatal failure</td>\n",
       "      <td>0.388707</td>\n",
       "      <td>1.000000</td>\n",
       "      <td>0.559811</td>\n",
       "    </tr>\n",
       "    <tr>\n",
       "      <th>73</th>\n",
       "      <td>base_PeakLikelihoodFlux_flag</td>\n",
       "      <td>General Failure Flag</td>\n",
       "      <td>0.388707</td>\n",
       "      <td>1.000000</td>\n",
       "      <td>0.559811</td>\n",
       "    </tr>\n",
       "    <tr>\n",
       "      <th>74</th>\n",
       "      <td>base_PixelFlags_flag</td>\n",
       "      <td>General failure flag, set if anything went wrong</td>\n",
       "      <td>0.388707</td>\n",
       "      <td>1.000000</td>\n",
       "      <td>0.559811</td>\n",
       "    </tr>\n",
       "    <tr>\n",
       "      <th>75</th>\n",
       "      <td>base_PixelFlags_flag_offimage</td>\n",
       "      <td>Source center is off image</td>\n",
       "      <td>0.388707</td>\n",
       "      <td>1.000000</td>\n",
       "      <td>0.559811</td>\n",
       "    </tr>\n",
       "    <tr>\n",
       "      <th>80</th>\n",
       "      <td>base_PixelFlags_flag_bad</td>\n",
       "      <td>Bad pixel in the Source footprint</td>\n",
       "      <td>0.388707</td>\n",
       "      <td>1.000000</td>\n",
       "      <td>0.559811</td>\n",
       "    </tr>\n",
       "    <tr>\n",
       "      <th>81</th>\n",
       "      <td>base_PixelFlags_flag_suspect</td>\n",
       "      <td>Source''s footprint includes suspect pixels</td>\n",
       "      <td>0.388707</td>\n",
       "      <td>1.000000</td>\n",
       "      <td>0.559811</td>\n",
       "    </tr>\n",
       "    <tr>\n",
       "      <th>85</th>\n",
       "      <td>base_PixelFlags_flag_suspectCenter</td>\n",
       "      <td>Source''s center is close to suspect pixels</td>\n",
       "      <td>0.388707</td>\n",
       "      <td>1.000000</td>\n",
       "      <td>0.559811</td>\n",
       "    </tr>\n",
       "    <tr>\n",
       "      <th>88</th>\n",
       "      <td>base_PsfFlux_flag_noGoodPixels</td>\n",
       "      <td>not enough non-rejected pixels in data to atte...</td>\n",
       "      <td>0.388707</td>\n",
       "      <td>1.000000</td>\n",
       "      <td>0.559811</td>\n",
       "    </tr>\n",
       "    <tr>\n",
       "      <th>89</th>\n",
       "      <td>slot_PsfFlux_flag_noGoodPixels</td>\n",
       "      <td>not enough non-rejected pixels in data to atte...</td>\n",
       "      <td>0.388707</td>\n",
       "      <td>1.000000</td>\n",
       "      <td>0.559811</td>\n",
       "    </tr>\n",
       "    <tr>\n",
       "      <th>92</th>\n",
       "      <td>ip_diffim_NaiveDipoleFlux_flag</td>\n",
       "      <td>general failure flag, set if anything went wrong</td>\n",
       "      <td>0.388707</td>\n",
       "      <td>1.000000</td>\n",
       "      <td>0.559811</td>\n",
       "    </tr>\n",
       "    <tr>\n",
       "      <th>93</th>\n",
       "      <td>ip_diffim_NaiveDipoleFlux_pos_flag</td>\n",
       "      <td>failure flag for positive, set if anything wen...</td>\n",
       "      <td>0.388707</td>\n",
       "      <td>1.000000</td>\n",
       "      <td>0.559811</td>\n",
       "    </tr>\n",
       "    <tr>\n",
       "      <th>94</th>\n",
       "      <td>ip_diffim_NaiveDipoleFlux_neg_flag</td>\n",
       "      <td>failure flag for negative, set if anything wen...</td>\n",
       "      <td>0.388707</td>\n",
       "      <td>1.000000</td>\n",
       "      <td>0.559811</td>\n",
       "    </tr>\n",
       "    <tr>\n",
       "      <th>96</th>\n",
       "      <td>ip_diffim_PsfDipoleFlux_pos_flag</td>\n",
       "      <td>failure flag for positive, set if anything wen...</td>\n",
       "      <td>0.388707</td>\n",
       "      <td>1.000000</td>\n",
       "      <td>0.559811</td>\n",
       "    </tr>\n",
       "    <tr>\n",
       "      <th>97</th>\n",
       "      <td>ip_diffim_PsfDipoleFlux_neg_flag</td>\n",
       "      <td>failure flag for negative, set if anything wen...</td>\n",
       "      <td>0.388707</td>\n",
       "      <td>1.000000</td>\n",
       "      <td>0.559811</td>\n",
       "    </tr>\n",
       "    <tr>\n",
       "      <th>102</th>\n",
       "      <td>ip_diffim_DipoleFit_flag_edge</td>\n",
       "      <td>Flag set when dipole is too close to edge of i...</td>\n",
       "      <td>0.388707</td>\n",
       "      <td>1.000000</td>\n",
       "      <td>0.559811</td>\n",
       "    </tr>\n",
       "    <tr>\n",
       "      <th>103</th>\n",
       "      <td>base_GaussianFlux_flag_apCorr</td>\n",
       "      <td>set if unable to aperture correct base_Gaussia...</td>\n",
       "      <td>0.388707</td>\n",
       "      <td>1.000000</td>\n",
       "      <td>0.559811</td>\n",
       "    </tr>\n",
       "    <tr>\n",
       "      <th>104</th>\n",
       "      <td>base_PsfFlux_flag_apCorr</td>\n",
       "      <td>set if unable to aperture correct base_PsfFlux</td>\n",
       "      <td>0.388707</td>\n",
       "      <td>1.000000</td>\n",
       "      <td>0.559811</td>\n",
       "    </tr>\n",
       "    <tr>\n",
       "      <th>105</th>\n",
       "      <td>slot_PsfFlux_flag_apCorr</td>\n",
       "      <td>set if unable to aperture correct base_PsfFlux</td>\n",
       "      <td>0.388707</td>\n",
       "      <td>1.000000</td>\n",
       "      <td>0.559811</td>\n",
       "    </tr>\n",
       "    <tr>\n",
       "      <th>107</th>\n",
       "      <td>ip_diffim_forced_PsfFlux_flag_noGoodPixels</td>\n",
       "      <td>Forced PSF flux not enough non-rejected pixels...</td>\n",
       "      <td>0.388707</td>\n",
       "      <td>1.000000</td>\n",
       "      <td>0.559811</td>\n",
       "    </tr>\n",
       "    <tr>\n",
       "      <th>100</th>\n",
       "      <td>ip_diffim_DipoleFit_flag_classificationAttempted</td>\n",
       "      <td>Flag indicating diaSource was attempted to be ...</td>\n",
       "      <td>0.507508</td>\n",
       "      <td>0.999155</td>\n",
       "      <td>0.673115</td>\n",
       "    </tr>\n",
       "    <tr>\n",
       "      <th>99</th>\n",
       "      <td>ip_diffim_DipoleFit_flag_classification</td>\n",
       "      <td>Flag indicating diaSource is classified as a d...</td>\n",
       "      <td>0.506638</td>\n",
       "      <td>0.999155</td>\n",
       "      <td>0.672350</td>\n",
       "    </tr>\n",
       "    <tr>\n",
       "      <th>82</th>\n",
       "      <td>base_PixelFlags_flag_interpolatedCenter</td>\n",
       "      <td>Interpolated pixel in the Source center</td>\n",
       "      <td>0.551844</td>\n",
       "      <td>0.934966</td>\n",
       "      <td>0.694044</td>\n",
       "    </tr>\n",
       "    <tr>\n",
       "      <th>84</th>\n",
       "      <td>base_PixelFlags_flag_crCenter</td>\n",
       "      <td>Cosmic ray in the Source center</td>\n",
       "      <td>0.382912</td>\n",
       "      <td>0.934966</td>\n",
       "      <td>0.543313</td>\n",
       "    </tr>\n",
       "    <tr>\n",
       "      <th>77</th>\n",
       "      <td>base_PixelFlags_flag_interpolated</td>\n",
       "      <td>Interpolated pixel in the Source footprint</td>\n",
       "      <td>0.543153</td>\n",
       "      <td>0.797297</td>\n",
       "      <td>0.646133</td>\n",
       "    </tr>\n",
       "    <tr>\n",
       "      <th>79</th>\n",
       "      <td>base_PixelFlags_flag_cr</td>\n",
       "      <td>Cosmic ray in the Source footprint</td>\n",
       "      <td>0.389278</td>\n",
       "      <td>0.797297</td>\n",
       "      <td>0.523137</td>\n",
       "    </tr>\n",
       "    <tr>\n",
       "      <th>101</th>\n",
       "      <td>ip_diffim_DipoleFit_flag</td>\n",
       "      <td>General failure flag for dipole fit</td>\n",
       "      <td>0.001399</td>\n",
       "      <td>0.000845</td>\n",
       "      <td>0.001053</td>\n",
       "    </tr>\n",
       "  </tbody>\n",
       "</table>\n",
       "<p>109 rows × 5 columns</p>\n",
       "</div>"
      ],
      "text/plain": [
       "                                                  flag  \\\n",
       "26                                 base_SdssShape_flag   \n",
       "27                     base_GaussianFlux_flag_badShape   \n",
       "28                                     slot_Shape_flag   \n",
       "6                               base_SdssCentroid_flag   \n",
       "29                   base_SdssShape_flag_unweightedBad   \n",
       "30       base_GaussianFlux_flag_badShape_unweightedBad   \n",
       "31                       slot_Shape_flag_unweightedBad   \n",
       "70                              base_GaussianFlux_flag   \n",
       "10                 base_SdssCentroid_flag_notAtMaximum   \n",
       "83                base_PixelFlags_flag_saturatedCenter   \n",
       "78                      base_PixelFlags_flag_saturated   \n",
       "76                           base_PixelFlags_flag_edge   \n",
       "68                 base_CircularApertureFlux_70_0_flag   \n",
       "69   base_CircularApertureFlux_70_0_flag_apertureTr...   \n",
       "32                      base_SdssShape_flag_unweighted   \n",
       "33          base_GaussianFlux_flag_badShape_unweighted   \n",
       "34                          slot_Shape_flag_unweighted   \n",
       "95                        ip_diffim_PsfDipoleFlux_flag   \n",
       "66                 base_CircularApertureFlux_50_0_flag   \n",
       "67   base_CircularApertureFlux_50_0_flag_apertureTr...   \n",
       "64                 base_CircularApertureFlux_35_0_flag   \n",
       "65   base_CircularApertureFlux_35_0_flag_apertureTr...   \n",
       "35                           base_SdssShape_flag_shift   \n",
       "36               base_GaussianFlux_flag_badShape_shift   \n",
       "37                               slot_Shape_flag_shift   \n",
       "86                                   base_PsfFlux_flag   \n",
       "87                                   slot_PsfFlux_flag   \n",
       "9      base_SdssCentroid_flag_almostNoSecondDerivative   \n",
       "55   base_CircularApertureFlux_9_0_flag_sincCoeffsT...   \n",
       "11                  base_SdssCentroid_flag_resetToPeak   \n",
       "..                                                 ...   \n",
       "57                                    slot_ApFlux_flag   \n",
       "58   base_CircularApertureFlux_12_0_flag_apertureTr...   \n",
       "59                  slot_ApFlux_flag_apertureTruncated   \n",
       "71                           base_LocalPhotoCalib_flag   \n",
       "72                                  base_LocalWcs_flag   \n",
       "73                        base_PeakLikelihoodFlux_flag   \n",
       "74                                base_PixelFlags_flag   \n",
       "75                       base_PixelFlags_flag_offimage   \n",
       "80                            base_PixelFlags_flag_bad   \n",
       "81                        base_PixelFlags_flag_suspect   \n",
       "85                  base_PixelFlags_flag_suspectCenter   \n",
       "88                      base_PsfFlux_flag_noGoodPixels   \n",
       "89                      slot_PsfFlux_flag_noGoodPixels   \n",
       "92                      ip_diffim_NaiveDipoleFlux_flag   \n",
       "93                  ip_diffim_NaiveDipoleFlux_pos_flag   \n",
       "94                  ip_diffim_NaiveDipoleFlux_neg_flag   \n",
       "96                    ip_diffim_PsfDipoleFlux_pos_flag   \n",
       "97                    ip_diffim_PsfDipoleFlux_neg_flag   \n",
       "102                      ip_diffim_DipoleFit_flag_edge   \n",
       "103                      base_GaussianFlux_flag_apCorr   \n",
       "104                           base_PsfFlux_flag_apCorr   \n",
       "105                           slot_PsfFlux_flag_apCorr   \n",
       "107         ip_diffim_forced_PsfFlux_flag_noGoodPixels   \n",
       "100   ip_diffim_DipoleFit_flag_classificationAttempted   \n",
       "99             ip_diffim_DipoleFit_flag_classification   \n",
       "82             base_PixelFlags_flag_interpolatedCenter   \n",
       "84                       base_PixelFlags_flag_crCenter   \n",
       "77                   base_PixelFlags_flag_interpolated   \n",
       "79                             base_PixelFlags_flag_cr   \n",
       "101                           ip_diffim_DipoleFit_flag   \n",
       "\n",
       "                                           description  precision    recall  \\\n",
       "26                                General Failure Flag   0.733127  1.000000   \n",
       "27                                General Failure Flag   0.733127  1.000000   \n",
       "28                                General Failure Flag   0.733127  1.000000   \n",
       "6                                 General Failure Flag   0.671964  1.000000   \n",
       "29   Both weighted and unweighted moments were invalid   0.650907  1.000000   \n",
       "30   Both weighted and unweighted moments were invalid   0.650907  1.000000   \n",
       "31   Both weighted and unweighted moments were invalid   0.650907  1.000000   \n",
       "70                                General Failure Flag   0.630122  1.000000   \n",
       "10                          Object is not at a maximum   0.618277  1.000000   \n",
       "83                Saturated pixel in the Source center   0.598584  1.000000   \n",
       "78             Saturated pixel in the Source footprint   0.598282  1.000000   \n",
       "76   Source is outside usable exposure region (mask...   0.462319  1.000000   \n",
       "68                                General Failure Flag   0.412544  1.000000   \n",
       "69       aperture did not fit within measurement image   0.412544  1.000000   \n",
       "32   Weighted moments converged to an invalid value...   0.412256  1.000000   \n",
       "33   Weighted moments converged to an invalid value...   0.412256  1.000000   \n",
       "34   Weighted moments converged to an invalid value...   0.412256  1.000000   \n",
       "95    general failure flag, set if anything went wrong   0.408840  1.000000   \n",
       "66                                General Failure Flag   0.406593  1.000000   \n",
       "67       aperture did not fit within measurement image   0.406593  1.000000   \n",
       "64                                General Failure Flag   0.400000  1.000000   \n",
       "65       aperture did not fit within measurement image   0.400000  1.000000   \n",
       "35   centroid shifted by more than the maximum allo...   0.399056  1.000000   \n",
       "36   centroid shifted by more than the maximum allo...   0.399056  1.000000   \n",
       "37   centroid shifted by more than the maximum allo...   0.399056  1.000000   \n",
       "86                                General Failure Flag   0.398922  1.000000   \n",
       "87                                General Failure Flag   0.398922  1.000000   \n",
       "9                   Almost vanishing second derivative   0.397315  1.000000   \n",
       "55   full sinc coefficient image did not fit within...   0.397315  1.000000   \n",
       "11           set if CentroidChecker reset the centroid   0.394798  1.000000   \n",
       "..                                                 ...        ...       ...   \n",
       "57                                General Failure Flag   0.388707  1.000000   \n",
       "58       aperture did not fit within measurement image   0.388707  1.000000   \n",
       "59       aperture did not fit within measurement image   0.388707  1.000000   \n",
       "71                           Set for any fatal failure   0.388707  1.000000   \n",
       "72                           Set for any fatal failure   0.388707  1.000000   \n",
       "73                                General Failure Flag   0.388707  1.000000   \n",
       "74    General failure flag, set if anything went wrong   0.388707  1.000000   \n",
       "75                          Source center is off image   0.388707  1.000000   \n",
       "80                   Bad pixel in the Source footprint   0.388707  1.000000   \n",
       "81         Source''s footprint includes suspect pixels   0.388707  1.000000   \n",
       "85         Source''s center is close to suspect pixels   0.388707  1.000000   \n",
       "88   not enough non-rejected pixels in data to atte...   0.388707  1.000000   \n",
       "89   not enough non-rejected pixels in data to atte...   0.388707  1.000000   \n",
       "92    general failure flag, set if anything went wrong   0.388707  1.000000   \n",
       "93   failure flag for positive, set if anything wen...   0.388707  1.000000   \n",
       "94   failure flag for negative, set if anything wen...   0.388707  1.000000   \n",
       "96   failure flag for positive, set if anything wen...   0.388707  1.000000   \n",
       "97   failure flag for negative, set if anything wen...   0.388707  1.000000   \n",
       "102  Flag set when dipole is too close to edge of i...   0.388707  1.000000   \n",
       "103  set if unable to aperture correct base_Gaussia...   0.388707  1.000000   \n",
       "104     set if unable to aperture correct base_PsfFlux   0.388707  1.000000   \n",
       "105     set if unable to aperture correct base_PsfFlux   0.388707  1.000000   \n",
       "107  Forced PSF flux not enough non-rejected pixels...   0.388707  1.000000   \n",
       "100  Flag indicating diaSource was attempted to be ...   0.507508  0.999155   \n",
       "99   Flag indicating diaSource is classified as a d...   0.506638  0.999155   \n",
       "82             Interpolated pixel in the Source center   0.551844  0.934966   \n",
       "84                     Cosmic ray in the Source center   0.382912  0.934966   \n",
       "77          Interpolated pixel in the Source footprint   0.543153  0.797297   \n",
       "79                  Cosmic ray in the Source footprint   0.389278  0.797297   \n",
       "101                General failure flag for dipole fit   0.001399  0.000845   \n",
       "\n",
       "           f1  \n",
       "26   0.846016  \n",
       "27   0.846016  \n",
       "28   0.846016  \n",
       "6    0.803802  \n",
       "29   0.788545  \n",
       "30   0.788545  \n",
       "31   0.788545  \n",
       "70   0.773098  \n",
       "10   0.764117  \n",
       "83   0.748893  \n",
       "78   0.748656  \n",
       "76   0.632310  \n",
       "68   0.584114  \n",
       "69   0.584114  \n",
       "32   0.583826  \n",
       "33   0.583826  \n",
       "34   0.583826  \n",
       "95   0.580392  \n",
       "66   0.578125  \n",
       "67   0.578125  \n",
       "64   0.571429  \n",
       "65   0.571429  \n",
       "35   0.570465  \n",
       "36   0.570465  \n",
       "37   0.570465  \n",
       "86   0.570328  \n",
       "87   0.570328  \n",
       "9    0.568684  \n",
       "55   0.568684  \n",
       "11   0.566101  \n",
       "..        ...  \n",
       "57   0.559811  \n",
       "58   0.559811  \n",
       "59   0.559811  \n",
       "71   0.559811  \n",
       "72   0.559811  \n",
       "73   0.559811  \n",
       "74   0.559811  \n",
       "75   0.559811  \n",
       "80   0.559811  \n",
       "81   0.559811  \n",
       "85   0.559811  \n",
       "88   0.559811  \n",
       "89   0.559811  \n",
       "92   0.559811  \n",
       "93   0.559811  \n",
       "94   0.559811  \n",
       "96   0.559811  \n",
       "97   0.559811  \n",
       "102  0.559811  \n",
       "103  0.559811  \n",
       "104  0.559811  \n",
       "105  0.559811  \n",
       "107  0.559811  \n",
       "100  0.673115  \n",
       "99   0.672350  \n",
       "82   0.694044  \n",
       "84   0.543313  \n",
       "77   0.646133  \n",
       "79   0.523137  \n",
       "101  0.001053  \n",
       "\n",
       "[109 rows x 5 columns]"
      ]
     },
     "execution_count": 7,
     "metadata": {},
     "output_type": "execute_result"
    }
   ],
   "source": [
    "flag_df = pd.read_csv('./data/table/gal_4639/flag_metric.csv')\n",
    "flag_df.sort_values(by=['recall', 'precision', 'f1'], ascending=False)"
   ]
  },
  {
   "cell_type": "code",
   "execution_count": 8,
   "id": "17d32948-839e-4e93-9726-056692d0bfa1",
   "metadata": {},
   "outputs": [],
   "source": [
    "t = BaseCatalog.readFits('./data/patch_0to6/diff/al_default/00_20_21_1013665_79_i/diff_20/schema/deepDiff_diaSrc.fits')\n",
    "schema = t.schema"
   ]
  },
  {
   "cell_type": "code",
   "execution_count": 9,
   "id": "ad9fce51-a5e5-4de8-bbf3-985aeeca74c6",
   "metadata": {},
   "outputs": [
    {
     "data": {
      "text/plain": [
       "Schema(\n",
       "    (Field['L'](name=\"id\", doc=\"unique ID\"), Key<L>(offset=0, nElements=1)),\n",
       "    (Field['Angle'](name=\"coord_ra\", doc=\"position in ra/dec\"), Key<Angle>(offset=8, nElements=1)),\n",
       "    (Field['Angle'](name=\"coord_dec\", doc=\"position in ra/dec\"), Key<Angle>(offset=16, nElements=1)),\n",
       "    (Field['L'](name=\"parent\", doc=\"unique ID of parent source\"), Key<L>(offset=24, nElements=1)),\n",
       "    (Field['Flag'](name=\"flags_negative\", doc=\"set if source was detected as significantly negative\"), Key['Flag'](offset=32, bit=0)),\n",
       "    (Field['D'](name=\"base_NaiveCentroid_x\", doc=\"centroid from Naive Centroid algorithm\", units=\"pixel\"), Key<D>(offset=40, nElements=1)),\n",
       "    (Field['D'](name=\"base_NaiveCentroid_y\", doc=\"centroid from Naive Centroid algorithm\", units=\"pixel\"), Key<D>(offset=48, nElements=1)),\n",
       "    (Field['Flag'](name=\"base_NaiveCentroid_flag\", doc=\"General Failure Flag\"), Key['Flag'](offset=32, bit=1)),\n",
       "    (Field['Flag'](name=\"base_NaiveCentroid_flag_noCounts\", doc=\"Object to be centroided has no counts\"), Key['Flag'](offset=32, bit=2)),\n",
       "    (Field['Flag'](name=\"base_NaiveCentroid_flag_edge\", doc=\"Object too close to edge\"), Key['Flag'](offset=32, bit=3)),\n",
       "    (Field['Flag'](name=\"base_NaiveCentroid_flag_resetToPeak\", doc=\"set if CentroidChecker reset the centroid\"), Key['Flag'](offset=32, bit=4)),\n",
       "    (Field['D'](name=\"base_PeakCentroid_x\", doc=\"peak centroid\", units=\"pixel\"), Key<D>(offset=56, nElements=1)),\n",
       "    (Field['D'](name=\"base_PeakCentroid_y\", doc=\"peak centroid\", units=\"pixel\"), Key<D>(offset=64, nElements=1)),\n",
       "    (Field['Flag'](name=\"base_PeakCentroid_flag\", doc=\"Centroiding failed\"), Key['Flag'](offset=32, bit=5)),\n",
       "    (Field['D'](name=\"base_SdssCentroid_x\", doc=\"centroid from Sdss Centroid algorithm\", units=\"pixel\"), Key<D>(offset=72, nElements=1)),\n",
       "    (Field['D'](name=\"base_SdssCentroid_y\", doc=\"centroid from Sdss Centroid algorithm\", units=\"pixel\"), Key<D>(offset=80, nElements=1)),\n",
       "    (Field['F'](name=\"base_SdssCentroid_xErr\", doc=\"1-sigma uncertainty on x position\", units=\"pixel\"), Key<F>(offset=88, nElements=1)),\n",
       "    (Field['F'](name=\"base_SdssCentroid_yErr\", doc=\"1-sigma uncertainty on y position\", units=\"pixel\"), Key<F>(offset=92, nElements=1)),\n",
       "    (Field['Flag'](name=\"base_SdssCentroid_flag\", doc=\"General Failure Flag\"), Key['Flag'](offset=32, bit=6)),\n",
       "    (Field['Flag'](name=\"base_SdssCentroid_flag_edge\", doc=\"Object too close to edge\"), Key['Flag'](offset=32, bit=7)),\n",
       "    (Field['Flag'](name=\"base_SdssCentroid_flag_noSecondDerivative\", doc=\"Vanishing second derivative\"), Key['Flag'](offset=32, bit=8)),\n",
       "    (Field['Flag'](name=\"base_SdssCentroid_flag_almostNoSecondDerivative\", doc=\"Almost vanishing second derivative\"), Key['Flag'](offset=32, bit=9)),\n",
       "    (Field['Flag'](name=\"base_SdssCentroid_flag_notAtMaximum\", doc=\"Object is not at a maximum\"), Key['Flag'](offset=32, bit=10)),\n",
       "    (Field['Flag'](name=\"base_SdssCentroid_flag_resetToPeak\", doc=\"set if CentroidChecker reset the centroid\"), Key['Flag'](offset=32, bit=11)),\n",
       "    (Field['Flag'](name=\"base_SdssCentroid_flag_badError\", doc=\"Error on x and/or y position is NaN\"), Key['Flag'](offset=32, bit=12)),\n",
       "    (Field['Flag'](name=\"ip_diffim_NaiveDipoleCentroid_flag\", doc=\"general failure flag, set if anything went wrong\"), Key['Flag'](offset=32, bit=13)),\n",
       "    (Field['Flag'](name=\"ip_diffim_NaiveDipoleCentroid_pos_flag\", doc=\"failure flag for positive, set if anything went wrong\"), Key['Flag'](offset=32, bit=14)),\n",
       "    (Field['Flag'](name=\"ip_diffim_NaiveDipoleCentroid_neg_flag\", doc=\"failure flag for negative, set if anything went wrong\"), Key['Flag'](offset=32, bit=15)),\n",
       "    (Field['D'](name=\"ip_diffim_NaiveDipoleCentroid_x\", doc=\"unweighted first moment centroid: overall centroid\", units=\"pixel\"), Key<D>(offset=96, nElements=1)),\n",
       "    (Field['D'](name=\"ip_diffim_NaiveDipoleCentroid_y\", doc=\"unweighted first moment centroid: overall centroid\", units=\"pixel\"), Key<D>(offset=104, nElements=1)),\n",
       "    (Field['F'](name=\"ip_diffim_NaiveDipoleCentroid_xErr\", doc=\"1-sigma uncertainty on x position\", units=\"pixel\"), Key<F>(offset=112, nElements=1)),\n",
       "    (Field['F'](name=\"ip_diffim_NaiveDipoleCentroid_yErr\", doc=\"1-sigma uncertainty on y position\", units=\"pixel\"), Key<F>(offset=116, nElements=1)),\n",
       "    (Field['D'](name=\"ip_diffim_NaiveDipoleCentroid_pos_x\", doc=\"unweighted first moment centroid: positive lobe\", units=\"pixel\"), Key<D>(offset=120, nElements=1)),\n",
       "    (Field['D'](name=\"ip_diffim_NaiveDipoleCentroid_pos_y\", doc=\"unweighted first moment centroid: positive lobe\", units=\"pixel\"), Key<D>(offset=128, nElements=1)),\n",
       "    (Field['F'](name=\"ip_diffim_NaiveDipoleCentroid_pos_xErr\", doc=\"1-sigma uncertainty on x position\", units=\"pixel\"), Key<F>(offset=136, nElements=1)),\n",
       "    (Field['F'](name=\"ip_diffim_NaiveDipoleCentroid_pos_yErr\", doc=\"1-sigma uncertainty on y position\", units=\"pixel\"), Key<F>(offset=140, nElements=1)),\n",
       "    (Field['D'](name=\"ip_diffim_NaiveDipoleCentroid_neg_x\", doc=\"unweighted first moment centroid: negative lobe\", units=\"pixel\"), Key<D>(offset=144, nElements=1)),\n",
       "    (Field['D'](name=\"ip_diffim_NaiveDipoleCentroid_neg_y\", doc=\"unweighted first moment centroid: negative lobe\", units=\"pixel\"), Key<D>(offset=152, nElements=1)),\n",
       "    (Field['F'](name=\"ip_diffim_NaiveDipoleCentroid_neg_xErr\", doc=\"1-sigma uncertainty on x position\", units=\"pixel\"), Key<F>(offset=160, nElements=1)),\n",
       "    (Field['F'](name=\"ip_diffim_NaiveDipoleCentroid_neg_yErr\", doc=\"1-sigma uncertainty on y position\", units=\"pixel\"), Key<F>(offset=164, nElements=1)),\n",
       "    (Field['D'](name=\"base_SdssShape_xx\", doc=\"elliptical Gaussian adaptive moments\", units=\"pixel^2\"), Key<D>(offset=168, nElements=1)),\n",
       "    (Field['D'](name=\"base_SdssShape_yy\", doc=\"elliptical Gaussian adaptive moments\", units=\"pixel^2\"), Key<D>(offset=176, nElements=1)),\n",
       "    (Field['D'](name=\"base_SdssShape_xy\", doc=\"elliptical Gaussian adaptive moments\", units=\"pixel^2\"), Key<D>(offset=184, nElements=1)),\n",
       "    (Field['F'](name=\"base_SdssShape_xxErr\", doc=\"Standard deviation of xx moment\", units=\"pixel^2\"), Key<F>(offset=192, nElements=1)),\n",
       "    (Field['F'](name=\"base_SdssShape_yyErr\", doc=\"Standard deviation of yy moment\", units=\"pixel^2\"), Key<F>(offset=196, nElements=1)),\n",
       "    (Field['F'](name=\"base_SdssShape_xyErr\", doc=\"Standard deviation of xy moment\", units=\"pixel^2\"), Key<F>(offset=200, nElements=1)),\n",
       "    (Field['D'](name=\"base_SdssShape_x\", doc=\"elliptical Gaussian adaptive moments\", units=\"pixel\"), Key<D>(offset=208, nElements=1)),\n",
       "    (Field['D'](name=\"base_SdssShape_y\", doc=\"elliptical Gaussian adaptive moments\", units=\"pixel\"), Key<D>(offset=216, nElements=1)),\n",
       "    (Field['D'](name=\"base_SdssShape_instFlux\", doc=\"elliptical Gaussian adaptive moments\", units=\"count\"), Key<D>(offset=224, nElements=1)),\n",
       "    (Field['D'](name=\"base_SdssShape_instFluxErr\", doc=\"1-sigma instFlux uncertainty\", units=\"count\"), Key<D>(offset=232, nElements=1)),\n",
       "    (Field['D'](name=\"base_SdssShape_psf_xx\", doc=\"adaptive moments of the PSF model at the object position\", units=\"pixel^2\"), Key<D>(offset=240, nElements=1)),\n",
       "    (Field['D'](name=\"base_SdssShape_psf_yy\", doc=\"adaptive moments of the PSF model at the object position\", units=\"pixel^2\"), Key<D>(offset=248, nElements=1)),\n",
       "    (Field['D'](name=\"base_SdssShape_psf_xy\", doc=\"adaptive moments of the PSF model at the object position\", units=\"pixel^2\"), Key<D>(offset=256, nElements=1)),\n",
       "    (Field['F'](name=\"base_SdssShape_instFlux_xx_Cov\", doc=\"uncertainty covariance between base_SdssShape_instFlux and base_SdssShape_xx\", units=\"count*pixel^2\"), Key<F>(offset=264, nElements=1)),\n",
       "    (Field['F'](name=\"base_SdssShape_instFlux_yy_Cov\", doc=\"uncertainty covariance between base_SdssShape_instFlux and base_SdssShape_yy\", units=\"count*pixel^2\"), Key<F>(offset=268, nElements=1)),\n",
       "    (Field['F'](name=\"base_SdssShape_instFlux_xy_Cov\", doc=\"uncertainty covariance between base_SdssShape_instFlux and base_SdssShape_xy\", units=\"count*pixel^2\"), Key<F>(offset=272, nElements=1)),\n",
       "    (Field['Flag'](name=\"base_SdssShape_flag\", doc=\"General Failure Flag\"), Key['Flag'](offset=32, bit=16)),\n",
       "    (Field['Flag'](name=\"base_SdssShape_flag_unweightedBad\", doc=\"Both weighted and unweighted moments were invalid\"), Key['Flag'](offset=32, bit=17)),\n",
       "    (Field['Flag'](name=\"base_SdssShape_flag_unweighted\", doc=\"Weighted moments converged to an invalid value; using unweighted moments\"), Key['Flag'](offset=32, bit=18)),\n",
       "    (Field['Flag'](name=\"base_SdssShape_flag_shift\", doc=\"centroid shifted by more than the maximum allowed amount\"), Key['Flag'](offset=32, bit=19)),\n",
       "    (Field['Flag'](name=\"base_SdssShape_flag_maxIter\", doc=\"Too many iterations in adaptive moments\"), Key['Flag'](offset=32, bit=20)),\n",
       "    (Field['Flag'](name=\"base_SdssShape_flag_psf\", doc=\"Failure in measuring PSF model shape\"), Key['Flag'](offset=32, bit=21)),\n",
       "    (Field['D'](name=\"base_CircularApertureFlux_3_0_instFlux\", doc=\"instFlux within 3.000000-pixel aperture\", units=\"count\"), Key<D>(offset=280, nElements=1)),\n",
       "    (Field['D'](name=\"base_CircularApertureFlux_3_0_instFluxErr\", doc=\"1-sigma instFlux uncertainty\", units=\"count\"), Key<D>(offset=288, nElements=1)),\n",
       "    (Field['Flag'](name=\"base_CircularApertureFlux_3_0_flag\", doc=\"General Failure Flag\"), Key['Flag'](offset=32, bit=22)),\n",
       "    (Field['Flag'](name=\"base_CircularApertureFlux_3_0_flag_apertureTruncated\", doc=\"aperture did not fit within measurement image\"), Key['Flag'](offset=32, bit=23)),\n",
       "    (Field['Flag'](name=\"base_CircularApertureFlux_3_0_flag_sincCoeffsTruncated\", doc=\"full sinc coefficient image did not fit within measurement image\"), Key['Flag'](offset=32, bit=24)),\n",
       "    (Field['D'](name=\"base_CircularApertureFlux_4_5_instFlux\", doc=\"instFlux within 4.500000-pixel aperture\", units=\"count\"), Key<D>(offset=296, nElements=1)),\n",
       "    (Field['D'](name=\"base_CircularApertureFlux_4_5_instFluxErr\", doc=\"1-sigma instFlux uncertainty\", units=\"count\"), Key<D>(offset=304, nElements=1)),\n",
       "    (Field['Flag'](name=\"base_CircularApertureFlux_4_5_flag\", doc=\"General Failure Flag\"), Key['Flag'](offset=32, bit=25)),\n",
       "    (Field['Flag'](name=\"base_CircularApertureFlux_4_5_flag_apertureTruncated\", doc=\"aperture did not fit within measurement image\"), Key['Flag'](offset=32, bit=26)),\n",
       "    (Field['Flag'](name=\"base_CircularApertureFlux_4_5_flag_sincCoeffsTruncated\", doc=\"full sinc coefficient image did not fit within measurement image\"), Key['Flag'](offset=32, bit=27)),\n",
       "    (Field['D'](name=\"base_CircularApertureFlux_6_0_instFlux\", doc=\"instFlux within 6.000000-pixel aperture\", units=\"count\"), Key<D>(offset=312, nElements=1)),\n",
       "    (Field['D'](name=\"base_CircularApertureFlux_6_0_instFluxErr\", doc=\"1-sigma instFlux uncertainty\", units=\"count\"), Key<D>(offset=320, nElements=1)),\n",
       "    (Field['Flag'](name=\"base_CircularApertureFlux_6_0_flag\", doc=\"General Failure Flag\"), Key['Flag'](offset=32, bit=28)),\n",
       "    (Field['Flag'](name=\"base_CircularApertureFlux_6_0_flag_apertureTruncated\", doc=\"aperture did not fit within measurement image\"), Key['Flag'](offset=32, bit=29)),\n",
       "    (Field['Flag'](name=\"base_CircularApertureFlux_6_0_flag_sincCoeffsTruncated\", doc=\"full sinc coefficient image did not fit within measurement image\"), Key['Flag'](offset=32, bit=30)),\n",
       "    (Field['D'](name=\"base_CircularApertureFlux_9_0_instFlux\", doc=\"instFlux within 9.000000-pixel aperture\", units=\"count\"), Key<D>(offset=328, nElements=1)),\n",
       "    (Field['D'](name=\"base_CircularApertureFlux_9_0_instFluxErr\", doc=\"1-sigma instFlux uncertainty\", units=\"count\"), Key<D>(offset=336, nElements=1)),\n",
       "    (Field['Flag'](name=\"base_CircularApertureFlux_9_0_flag\", doc=\"General Failure Flag\"), Key['Flag'](offset=32, bit=31)),\n",
       "    (Field['Flag'](name=\"base_CircularApertureFlux_9_0_flag_apertureTruncated\", doc=\"aperture did not fit within measurement image\"), Key['Flag'](offset=32, bit=32)),\n",
       "    (Field['Flag'](name=\"base_CircularApertureFlux_9_0_flag_sincCoeffsTruncated\", doc=\"full sinc coefficient image did not fit within measurement image\"), Key['Flag'](offset=32, bit=33)),\n",
       "    (Field['D'](name=\"base_CircularApertureFlux_12_0_instFlux\", doc=\"instFlux within 12.000000-pixel aperture\", units=\"count\"), Key<D>(offset=344, nElements=1)),\n",
       "    (Field['D'](name=\"base_CircularApertureFlux_12_0_instFluxErr\", doc=\"1-sigma instFlux uncertainty\", units=\"count\"), Key<D>(offset=352, nElements=1)),\n",
       "    (Field['Flag'](name=\"base_CircularApertureFlux_12_0_flag\", doc=\"General Failure Flag\"), Key['Flag'](offset=32, bit=34)),\n",
       "    (Field['Flag'](name=\"base_CircularApertureFlux_12_0_flag_apertureTruncated\", doc=\"aperture did not fit within measurement image\"), Key['Flag'](offset=32, bit=35)),\n",
       "    (Field['D'](name=\"base_CircularApertureFlux_17_0_instFlux\", doc=\"instFlux within 17.000000-pixel aperture\", units=\"count\"), Key<D>(offset=360, nElements=1)),\n",
       "    (Field['D'](name=\"base_CircularApertureFlux_17_0_instFluxErr\", doc=\"1-sigma instFlux uncertainty\", units=\"count\"), Key<D>(offset=368, nElements=1)),\n",
       "    (Field['Flag'](name=\"base_CircularApertureFlux_17_0_flag\", doc=\"General Failure Flag\"), Key['Flag'](offset=32, bit=36)),\n",
       "    (Field['Flag'](name=\"base_CircularApertureFlux_17_0_flag_apertureTruncated\", doc=\"aperture did not fit within measurement image\"), Key['Flag'](offset=32, bit=37)),\n",
       "    (Field['D'](name=\"base_CircularApertureFlux_25_0_instFlux\", doc=\"instFlux within 25.000000-pixel aperture\", units=\"count\"), Key<D>(offset=376, nElements=1)),\n",
       "    (Field['D'](name=\"base_CircularApertureFlux_25_0_instFluxErr\", doc=\"1-sigma instFlux uncertainty\", units=\"count\"), Key<D>(offset=384, nElements=1)),\n",
       "    (Field['Flag'](name=\"base_CircularApertureFlux_25_0_flag\", doc=\"General Failure Flag\"), Key['Flag'](offset=32, bit=38)),\n",
       "    (Field['Flag'](name=\"base_CircularApertureFlux_25_0_flag_apertureTruncated\", doc=\"aperture did not fit within measurement image\"), Key['Flag'](offset=32, bit=39)),\n",
       "    (Field['D'](name=\"base_CircularApertureFlux_35_0_instFlux\", doc=\"instFlux within 35.000000-pixel aperture\", units=\"count\"), Key<D>(offset=392, nElements=1)),\n",
       "    (Field['D'](name=\"base_CircularApertureFlux_35_0_instFluxErr\", doc=\"1-sigma instFlux uncertainty\", units=\"count\"), Key<D>(offset=400, nElements=1)),\n",
       "    (Field['Flag'](name=\"base_CircularApertureFlux_35_0_flag\", doc=\"General Failure Flag\"), Key['Flag'](offset=32, bit=40)),\n",
       "    (Field['Flag'](name=\"base_CircularApertureFlux_35_0_flag_apertureTruncated\", doc=\"aperture did not fit within measurement image\"), Key['Flag'](offset=32, bit=41)),\n",
       "    (Field['D'](name=\"base_CircularApertureFlux_50_0_instFlux\", doc=\"instFlux within 50.000000-pixel aperture\", units=\"count\"), Key<D>(offset=408, nElements=1)),\n",
       "    (Field['D'](name=\"base_CircularApertureFlux_50_0_instFluxErr\", doc=\"1-sigma instFlux uncertainty\", units=\"count\"), Key<D>(offset=416, nElements=1)),\n",
       "    (Field['Flag'](name=\"base_CircularApertureFlux_50_0_flag\", doc=\"General Failure Flag\"), Key['Flag'](offset=32, bit=42)),\n",
       "    (Field['Flag'](name=\"base_CircularApertureFlux_50_0_flag_apertureTruncated\", doc=\"aperture did not fit within measurement image\"), Key['Flag'](offset=32, bit=43)),\n",
       "    (Field['D'](name=\"base_CircularApertureFlux_70_0_instFlux\", doc=\"instFlux within 70.000000-pixel aperture\", units=\"count\"), Key<D>(offset=424, nElements=1)),\n",
       "    (Field['D'](name=\"base_CircularApertureFlux_70_0_instFluxErr\", doc=\"1-sigma instFlux uncertainty\", units=\"count\"), Key<D>(offset=432, nElements=1)),\n",
       "    (Field['Flag'](name=\"base_CircularApertureFlux_70_0_flag\", doc=\"General Failure Flag\"), Key['Flag'](offset=32, bit=44)),\n",
       "    (Field['Flag'](name=\"base_CircularApertureFlux_70_0_flag_apertureTruncated\", doc=\"aperture did not fit within measurement image\"), Key['Flag'](offset=32, bit=45)),\n",
       "    (Field['D'](name=\"base_GaussianFlux_instFlux\", doc=\"instFlux from Gaussian Flux algorithm\", units=\"count\"), Key<D>(offset=440, nElements=1)),\n",
       "    (Field['D'](name=\"base_GaussianFlux_instFluxErr\", doc=\"1-sigma instFlux uncertainty\", units=\"count\"), Key<D>(offset=448, nElements=1)),\n",
       "    (Field['Flag'](name=\"base_GaussianFlux_flag\", doc=\"General Failure Flag\"), Key['Flag'](offset=32, bit=46)),\n",
       "    (Field['Flag'](name=\"base_LocalPhotoCalib_flag\", doc=\"Set for any fatal failure\"), Key['Flag'](offset=32, bit=47)),\n",
       "    (Field['D'](name=\"base_LocalPhotoCalib\", doc=\"Local approximation of the PhotoCalib calibration factor at the location of the src.\"), Key<D>(offset=456, nElements=1)),\n",
       "    (Field['D'](name=\"base_LocalPhotoCalibErr\", doc=\"Error on the local approximation of the PhotoCalib calibration factor at the location of the src.\"), Key<D>(offset=464, nElements=1)),\n",
       "    (Field['Flag'](name=\"base_LocalWcs_flag\", doc=\"Set for any fatal failure\"), Key['Flag'](offset=32, bit=48)),\n",
       "    (Field['D'](name=\"base_LocalWcs_CDMatrix_1_1\", doc=\"(1, 1) element of the CDMatrix for the linear approximation of the WCS at the src location. Gives units in radians.\"), Key<D>(offset=472, nElements=1)),\n",
       "    (Field['D'](name=\"base_LocalWcs_CDMatrix_1_2\", doc=\"(1, 2) element of the CDMatrix for the linear approximation of the WCS at the src location. Gives units in radians.\"), Key<D>(offset=480, nElements=1)),\n",
       "    (Field['D'](name=\"base_LocalWcs_CDMatrix_2_1\", doc=\"(2, 1) element of the CDMatrix for the linear approximation of the WCS at the src location. Gives units in radians.\"), Key<D>(offset=488, nElements=1)),\n",
       "    (Field['D'](name=\"base_LocalWcs_CDMatrix_2_2\", doc=\"(2, 2) element of the CDMatrix for the linear approximation of the WCS at the src location. Gives units in radians.\"), Key<D>(offset=496, nElements=1)),\n",
       "    (Field['D'](name=\"base_PeakLikelihoodFlux_instFlux\", doc=\"instFlux from PeakLikelihood Flux algorithm\", units=\"count\"), Key<D>(offset=504, nElements=1)),\n",
       "    (Field['D'](name=\"base_PeakLikelihoodFlux_instFluxErr\", doc=\"1-sigma instFlux uncertainty\", units=\"count\"), Key<D>(offset=512, nElements=1)),\n",
       "    (Field['Flag'](name=\"base_PeakLikelihoodFlux_flag\", doc=\"General Failure Flag\"), Key['Flag'](offset=32, bit=49)),\n",
       "    (Field['Flag'](name=\"base_PixelFlags_flag\", doc=\"General failure flag, set if anything went wrong\"), Key['Flag'](offset=32, bit=50)),\n",
       "    (Field['Flag'](name=\"base_PixelFlags_flag_offimage\", doc=\"Source center is off image\"), Key['Flag'](offset=32, bit=51)),\n",
       "    (Field['Flag'](name=\"base_PixelFlags_flag_edge\", doc=\"Source is outside usable exposure region (masked EDGE or NO_DATA)\"), Key['Flag'](offset=32, bit=52)),\n",
       "    (Field['Flag'](name=\"base_PixelFlags_flag_interpolated\", doc=\"Interpolated pixel in the Source footprint\"), Key['Flag'](offset=32, bit=53)),\n",
       "    (Field['Flag'](name=\"base_PixelFlags_flag_saturated\", doc=\"Saturated pixel in the Source footprint\"), Key['Flag'](offset=32, bit=54)),\n",
       "    (Field['Flag'](name=\"base_PixelFlags_flag_cr\", doc=\"Cosmic ray in the Source footprint\"), Key['Flag'](offset=32, bit=55)),\n",
       "    (Field['Flag'](name=\"base_PixelFlags_flag_bad\", doc=\"Bad pixel in the Source footprint\"), Key['Flag'](offset=32, bit=56)),\n",
       "    (Field['Flag'](name=\"base_PixelFlags_flag_suspect\", doc=\"Source''s footprint includes suspect pixels\"), Key['Flag'](offset=32, bit=57)),\n",
       "    (Field['Flag'](name=\"base_PixelFlags_flag_interpolatedCenter\", doc=\"Interpolated pixel in the Source center\"), Key['Flag'](offset=32, bit=58)),\n",
       "    (Field['Flag'](name=\"base_PixelFlags_flag_saturatedCenter\", doc=\"Saturated pixel in the Source center\"), Key['Flag'](offset=32, bit=59)),\n",
       "    (Field['Flag'](name=\"base_PixelFlags_flag_crCenter\", doc=\"Cosmic ray in the Source center\"), Key['Flag'](offset=32, bit=60)),\n",
       "    (Field['Flag'](name=\"base_PixelFlags_flag_suspectCenter\", doc=\"Source''s center is close to suspect pixels\"), Key['Flag'](offset=32, bit=61)),\n",
       "    (Field['D'](name=\"base_PsfFlux_instFlux\", doc=\"instFlux derived from linear least-squares fit of PSF model\", units=\"count\"), Key<D>(offset=520, nElements=1)),\n",
       "    (Field['D'](name=\"base_PsfFlux_instFluxErr\", doc=\"1-sigma instFlux uncertainty\", units=\"count\"), Key<D>(offset=528, nElements=1)),\n",
       "    (Field['F'](name=\"base_PsfFlux_area\", doc=\"effective area of PSF\", units=\"pixel\"), Key<F>(offset=536, nElements=1)),\n",
       "    (Field['Flag'](name=\"base_PsfFlux_flag\", doc=\"General Failure Flag\"), Key['Flag'](offset=32, bit=62)),\n",
       "    (Field['Flag'](name=\"base_PsfFlux_flag_noGoodPixels\", doc=\"not enough non-rejected pixels in data to attempt the fit\"), Key['Flag'](offset=32, bit=63)),\n",
       "    (Field['Flag'](name=\"base_PsfFlux_flag_edge\", doc=\"object was too close to the edge of the image to use the full PSF model\"), Key['Flag'](offset=544, bit=0)),\n",
       "    (Field['Flag'](name=\"ip_diffim_NaiveDipoleFlux_flag\", doc=\"general failure flag, set if anything went wrong\"), Key['Flag'](offset=544, bit=1)),\n",
       "    (Field['Flag'](name=\"ip_diffim_NaiveDipoleFlux_pos_flag\", doc=\"failure flag for positive, set if anything went wrong\"), Key['Flag'](offset=544, bit=2)),\n",
       "    (Field['Flag'](name=\"ip_diffim_NaiveDipoleFlux_neg_flag\", doc=\"failure flag for negative, set if anything went wrong\"), Key['Flag'](offset=544, bit=3)),\n",
       "    (Field['D'](name=\"ip_diffim_NaiveDipoleFlux_pos_instFlux\", doc=\"raw flux counts: positive lobe\", units=\"count\"), Key<D>(offset=552, nElements=1)),\n",
       "    (Field['D'](name=\"ip_diffim_NaiveDipoleFlux_pos_instFluxErr\", doc=\"1-sigma instFlux uncertainty\", units=\"count\"), Key<D>(offset=560, nElements=1)),\n",
       "    (Field['D'](name=\"ip_diffim_NaiveDipoleFlux_neg_instFlux\", doc=\"raw flux counts: negative lobe\", units=\"count\"), Key<D>(offset=568, nElements=1)),\n",
       "    (Field['D'](name=\"ip_diffim_NaiveDipoleFlux_neg_instFluxErr\", doc=\"1-sigma instFlux uncertainty\", units=\"count\"), Key<D>(offset=576, nElements=1)),\n",
       "    (Field['I'](name=\"ip_diffim_NaiveDipoleFlux_npos\", doc=\"number of positive pixels\", units=\"count\"), Key<I>(offset=584, nElements=1)),\n",
       "    (Field['I'](name=\"ip_diffim_NaiveDipoleFlux_nneg\", doc=\"number of negative pixels\", units=\"count\"), Key<I>(offset=588, nElements=1)),\n",
       "    (Field['Flag'](name=\"ip_diffim_PsfDipoleFlux_flag\", doc=\"general failure flag, set if anything went wrong\"), Key['Flag'](offset=544, bit=4)),\n",
       "    (Field['Flag'](name=\"ip_diffim_PsfDipoleFlux_pos_flag\", doc=\"failure flag for positive, set if anything went wrong\"), Key['Flag'](offset=544, bit=5)),\n",
       "    (Field['Flag'](name=\"ip_diffim_PsfDipoleFlux_neg_flag\", doc=\"failure flag for negative, set if anything went wrong\"), Key['Flag'](offset=544, bit=6)),\n",
       "    (Field['D'](name=\"ip_diffim_PsfDipoleFlux_pos_instFlux\", doc=\"jointly fitted psf flux counts: positive lobe\", units=\"count\"), Key<D>(offset=592, nElements=1)),\n",
       "    (Field['D'](name=\"ip_diffim_PsfDipoleFlux_pos_instFluxErr\", doc=\"1-sigma instFlux uncertainty\", units=\"count\"), Key<D>(offset=600, nElements=1)),\n",
       "    (Field['D'](name=\"ip_diffim_PsfDipoleFlux_neg_instFlux\", doc=\"jointly fitted psf flux counts: negative lobe\", units=\"count\"), Key<D>(offset=608, nElements=1)),\n",
       "    (Field['D'](name=\"ip_diffim_PsfDipoleFlux_neg_instFluxErr\", doc=\"1-sigma instFlux uncertainty\", units=\"count\"), Key<D>(offset=616, nElements=1)),\n",
       "    (Field['F'](name=\"ip_diffim_PsfDipoleFlux_chi2dof\", doc=\"chi2 per degree of freedom of fit\"), Key<F>(offset=624, nElements=1)),\n",
       "    (Field['D'](name=\"ip_diffim_PsfDipoleFlux_pos_centroid_x\", doc=\"psf fitted center of positive lobe\", units=\"pixel\"), Key<D>(offset=632, nElements=1)),\n",
       "    (Field['D'](name=\"ip_diffim_PsfDipoleFlux_pos_centroid_y\", doc=\"psf fitted center of positive lobe\", units=\"pixel\"), Key<D>(offset=640, nElements=1)),\n",
       "    (Field['F'](name=\"ip_diffim_PsfDipoleFlux_pos_centroid_xErr\", doc=\"1-sigma uncertainty on x position\", units=\"pixel\"), Key<F>(offset=648, nElements=1)),\n",
       "    (Field['F'](name=\"ip_diffim_PsfDipoleFlux_pos_centroid_yErr\", doc=\"1-sigma uncertainty on y position\", units=\"pixel\"), Key<F>(offset=652, nElements=1)),\n",
       "    (Field['D'](name=\"ip_diffim_PsfDipoleFlux_neg_centroid_x\", doc=\"psf fitted center of negative lobe\", units=\"pixel\"), Key<D>(offset=656, nElements=1)),\n",
       "    (Field['D'](name=\"ip_diffim_PsfDipoleFlux_neg_centroid_y\", doc=\"psf fitted center of negative lobe\", units=\"pixel\"), Key<D>(offset=664, nElements=1)),\n",
       "    (Field['F'](name=\"ip_diffim_PsfDipoleFlux_neg_centroid_xErr\", doc=\"1-sigma uncertainty on x position\", units=\"pixel\"), Key<F>(offset=672, nElements=1)),\n",
       "    (Field['F'](name=\"ip_diffim_PsfDipoleFlux_neg_centroid_yErr\", doc=\"1-sigma uncertainty on y position\", units=\"pixel\"), Key<F>(offset=676, nElements=1)),\n",
       "    (Field['D'](name=\"ip_diffim_PsfDipoleFlux_centroid_x\", doc=\"average of negative and positive lobe positions\", units=\"pixel\"), Key<D>(offset=680, nElements=1)),\n",
       "    (Field['D'](name=\"ip_diffim_PsfDipoleFlux_centroid_y\", doc=\"average of negative and positive lobe positions\", units=\"pixel\"), Key<D>(offset=688, nElements=1)),\n",
       "    (Field['F'](name=\"ip_diffim_PsfDipoleFlux_centroid_xErr\", doc=\"1-sigma uncertainty on x position\", units=\"pixel\"), Key<F>(offset=696, nElements=1)),\n",
       "    (Field['F'](name=\"ip_diffim_PsfDipoleFlux_centroid_yErr\", doc=\"1-sigma uncertainty on y position\", units=\"pixel\"), Key<F>(offset=700, nElements=1)),\n",
       "    (Field['D'](name=\"ip_diffim_ClassificationDipole_value\", doc=\"Set to 1 for dipoles, else 0.\"), Key<D>(offset=704, nElements=1)),\n",
       "    (Field['Flag'](name=\"ip_diffim_ClassificationDipole_flag\", doc=\"Set to 1 for any fatal failure.\"), Key['Flag'](offset=544, bit=7)),\n",
       "    (Field['D'](name=\"ip_diffim_DipoleFit_pos_instFlux\", doc=\"Dipole pos lobe flux\", units=\"count\"), Key<D>(offset=712, nElements=1)),\n",
       "    (Field['D'](name=\"ip_diffim_DipoleFit_pos_instFluxErr\", doc=\"1-sigma uncertainty for pos dipole flux\", units=\"pixel\"), Key<D>(offset=720, nElements=1)),\n",
       "    (Field['D'](name=\"ip_diffim_DipoleFit_pos_centroid_x\", doc=\"Dipole pos lobe centroid\", units=\"pixel\"), Key<D>(offset=728, nElements=1)),\n",
       "    (Field['D'](name=\"ip_diffim_DipoleFit_pos_centroid_y\", doc=\"Dipole pos lobe centroid\", units=\"pixel\"), Key<D>(offset=736, nElements=1)),\n",
       "    (Field['D'](name=\"ip_diffim_DipoleFit_neg_instFlux\", doc=\"Dipole neg lobe flux\", units=\"count\"), Key<D>(offset=744, nElements=1)),\n",
       "    (Field['D'](name=\"ip_diffim_DipoleFit_neg_instFluxErr\", doc=\"1-sigma uncertainty for neg dipole flux\", units=\"pixel\"), Key<D>(offset=752, nElements=1)),\n",
       "    (Field['D'](name=\"ip_diffim_DipoleFit_neg_centroid_x\", doc=\"Dipole neg lobe centroid\", units=\"pixel\"), Key<D>(offset=760, nElements=1)),\n",
       "    (Field['D'](name=\"ip_diffim_DipoleFit_neg_centroid_y\", doc=\"Dipole neg lobe centroid\", units=\"pixel\"), Key<D>(offset=768, nElements=1)),\n",
       "    (Field['D'](name=\"ip_diffim_DipoleFit_centroid_x\", doc=\"Dipole centroid\", units=\"pixel\"), Key<D>(offset=776, nElements=1)),\n",
       "    (Field['D'](name=\"ip_diffim_DipoleFit_centroid_y\", doc=\"Dipole centroid\", units=\"pixel\"), Key<D>(offset=784, nElements=1)),\n",
       "    (Field['D'](name=\"ip_diffim_DipoleFit_instFlux\", doc=\"Dipole overall flux\", units=\"count\"), Key<D>(offset=792, nElements=1)),\n",
       "    (Field['D'](name=\"ip_diffim_DipoleFit_orientation\", doc=\"Dipole orientation\", units=\"deg\"), Key<D>(offset=800, nElements=1)),\n",
       "    (Field['D'](name=\"ip_diffim_DipoleFit_separation\", doc=\"Pixel separation between positive and negative lobes of dipole\", units=\"pixel\"), Key<D>(offset=808, nElements=1)),\n",
       "    (Field['D'](name=\"ip_diffim_DipoleFit_chi2dof\", doc=\"Chi2 per degree of freedom of dipole fit\"), Key<D>(offset=816, nElements=1)),\n",
       "    (Field['D'](name=\"ip_diffim_DipoleFit_signalToNoise\", doc=\"Estimated signal-to-noise of dipole fit\"), Key<D>(offset=824, nElements=1)),\n",
       "    (Field['Flag'](name=\"ip_diffim_DipoleFit_flag_classification\", doc=\"Flag indicating diaSource is classified as a dipole\"), Key['Flag'](offset=544, bit=8)),\n",
       "    (Field['Flag'](name=\"ip_diffim_DipoleFit_flag_classificationAttempted\", doc=\"Flag indicating diaSource was attempted to be classified as a dipole\"), Key['Flag'](offset=544, bit=9)),\n",
       "    (Field['Flag'](name=\"ip_diffim_DipoleFit_flag\", doc=\"General failure flag for dipole fit\"), Key['Flag'](offset=544, bit=10)),\n",
       "    (Field['Flag'](name=\"ip_diffim_DipoleFit_flag_edge\", doc=\"Flag set when dipole is too close to edge of image\"), Key['Flag'](offset=544, bit=11)),\n",
       "    (Field['D'](name=\"base_GaussianFlux_apCorr\", doc=\"aperture correction applied to base_GaussianFlux\"), Key<D>(offset=832, nElements=1)),\n",
       "    (Field['D'](name=\"base_GaussianFlux_apCorrErr\", doc=\"standard deviation of aperture correction applied to base_GaussianFlux\"), Key<D>(offset=840, nElements=1)),\n",
       "    (Field['Flag'](name=\"base_GaussianFlux_flag_apCorr\", doc=\"set if unable to aperture correct base_GaussianFlux\"), Key['Flag'](offset=544, bit=12)),\n",
       "    (Field['D'](name=\"base_PsfFlux_apCorr\", doc=\"aperture correction applied to base_PsfFlux\"), Key<D>(offset=848, nElements=1)),\n",
       "    (Field['D'](name=\"base_PsfFlux_apCorrErr\", doc=\"standard deviation of aperture correction applied to base_PsfFlux\"), Key<D>(offset=856, nElements=1)),\n",
       "    (Field['Flag'](name=\"base_PsfFlux_flag_apCorr\", doc=\"set if unable to aperture correct base_PsfFlux\"), Key['Flag'](offset=544, bit=13)),\n",
       "    (Field['D'](name=\"ip_diffim_forced_PsfFlux_instFlux\", doc=\"Forced PSF flux measured on the direct image.\"), Key<D>(offset=864, nElements=1)),\n",
       "    (Field['D'](name=\"ip_diffim_forced_PsfFlux_instFluxErr\", doc=\"Forced PSF flux error measured on the direct image.\"), Key<D>(offset=872, nElements=1)),\n",
       "    (Field['F'](name=\"ip_diffim_forced_PsfFlux_area\", doc=\"Forced PSF flux effective area of PSF.\", units=\"pixel\"), Key<F>(offset=880, nElements=1)),\n",
       "    (Field['Flag'](name=\"ip_diffim_forced_PsfFlux_flag\", doc=\"Forced PSF flux general failure flag.\"), Key['Flag'](offset=544, bit=14)),\n",
       "    (Field['Flag'](name=\"ip_diffim_forced_PsfFlux_flag_noGoodPixels\", doc=\"Forced PSF flux not enough non-rejected pixels in data to attempt the fit.\"), Key['Flag'](offset=544, bit=15)),\n",
       "    (Field['Flag'](name=\"ip_diffim_forced_PsfFlux_flag_edge\", doc=\"Forced PSF flux object was too close to the edge of the image to use the full PSF model.\"), Key['Flag'](offset=544, bit=16)),\n",
       "    'base_CircularApertureFlux_flag_badCentroid'->'ip_diffim_NaiveDipoleCentroid_flag'\n",
       "    'base_GaussianFlux_flag_badCentroid'->'ip_diffim_NaiveDipoleCentroid_flag'\n",
       "    'base_GaussianFlux_flag_badShape'->'base_SdssShape_flag'\n",
       "    'base_NaiveCentroid_flag_badInitialCentroid'->'ip_diffim_NaiveDipoleCentroid_flag'\n",
       "    'base_PeakLikelihoodFlux_flag_badCentroid'->'ip_diffim_NaiveDipoleCentroid_flag'\n",
       "    'base_PsfFlux_flag_badCentroid'->'ip_diffim_NaiveDipoleCentroid_flag'\n",
       "    'base_SdssCentroid_flag_badInitialCentroid'->'ip_diffim_NaiveDipoleCentroid_flag'\n",
       "    'base_SdssShape_flag_badCentroid'->'ip_diffim_NaiveDipoleCentroid_flag'\n",
       "    'slot_ApFlux'->'base_CircularApertureFlux_12_0'\n",
       "    'slot_Centroid'->'ip_diffim_NaiveDipoleCentroid'\n",
       "    'slot_PsfFlux'->'base_PsfFlux'\n",
       "    'slot_PsfShape'->'base_SdssShape_psf'\n",
       "    'slot_Shape'->'base_SdssShape'\n",
       ")"
      ]
     },
     "execution_count": 9,
     "metadata": {},
     "output_type": "execute_result"
    }
   ],
   "source": [
    "schema"
   ]
  },
  {
   "cell_type": "markdown",
   "id": "3498768e-cfad-42bf-bd8e-bc7d41587f73",
   "metadata": {},
   "source": [
    "`'base_GaussianFlux_flag_badShape'->'base_SdssShape_flag'`\n",
    "\n",
    "`'slot_Shape'->'base_SdssShape'`\n",
    "\n",
    "` (Field['Flag'](name=\"base_SdssShape_flag\", doc=\"General Failure Flag\"), Key['Flag'](offset=32, bit=16))`"
   ]
  },
  {
   "cell_type": "code",
   "execution_count": null,
   "id": "40b2c78f-c6cc-47b8-9398-b7983033b964",
   "metadata": {},
   "outputs": [],
   "source": []
  },
  {
   "cell_type": "code",
   "execution_count": null,
   "id": "c36f2308-573f-4f91-8165-5375c1f690df",
   "metadata": {},
   "outputs": [],
   "source": []
  },
  {
   "cell_type": "code",
   "execution_count": null,
   "id": "0aca8e89-a3d3-4b8e-b900-b93a83f3bb36",
   "metadata": {},
   "outputs": [],
   "source": []
  }
 ],
 "metadata": {
  "kernelspec": {
   "display_name": "desc-stack",
   "language": "python",
   "name": "desc-stack"
  },
  "language_info": {
   "codemirror_mode": {
    "name": "ipython",
    "version": 3
   },
   "file_extension": ".py",
   "mimetype": "text/x-python",
   "name": "python",
   "nbconvert_exporter": "python",
   "pygments_lexer": "ipython3",
   "version": "3.7.2"
  }
 },
 "nbformat": 4,
 "nbformat_minor": 5
}
