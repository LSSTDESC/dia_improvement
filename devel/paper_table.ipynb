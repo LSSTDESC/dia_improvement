{
 "cells": [
  {
   "cell_type": "code",
   "execution_count": 46,
   "id": "74bcb105-bcfe-4e14-a235-8dda5aca2b79",
   "metadata": {},
   "outputs": [],
   "source": [
    "import sqlite3\n",
    "import re\n",
    "import numpy as np\n",
    "import pandas as pd\n",
    "from astropy.table import Table\n",
    "from astropy import units as u\n",
    "from astropy.coordinates import SkyCoord\n",
    "from lsst.afw.table import BaseCatalog\n",
    "import data_process_utils as dpu"
   ]
  },
  {
   "cell_type": "markdown",
   "id": "e3754d92-2849-4687-ad1b-da7a34e555c2",
   "metadata": {},
   "source": [
    "#### Flag Analysis"
   ]
  },
  {
   "cell_type": "code",
   "execution_count": 47,
   "id": "49eb5747-8387-4aa4-9dcb-5a0dd3f4226e",
   "metadata": {},
   "outputs": [],
   "source": [
    "def get_confm(flux_df, art_df, flag):\n",
    "    tp = (art_df[flag]  == 1).sum()\n",
    "    fp = (flux_df[flag]  == 1).sum()\n",
    "    tn = (flux_df[flag]  == 0).sum()\n",
    "    fn = (art_df[flag]  == 0).sum()\n",
    "    return np.array([tp, fp, tn, fn])\n",
    "def get_confusion_matrix(flux_df, art_df, flag_cols):\n",
    "    confusion_matrix = np.array([0, 0, 0, 0])\n",
    "    flag_list = []\n",
    "    for flag in flag_cols:\n",
    "        row = get_confm(flux_df, art_df, flag)\n",
    "        \"\"\"\n",
    "        if row[0] < len(flux_df) or row[2] < len(fp_df):\n",
    "            confusion_matrix = np.vstack((confusion_matrix, row))\n",
    "            flag_list.append(flag)\n",
    "        \"\"\"\n",
    "        confusion_matrix = np.vstack((confusion_matrix, row))\n",
    "        flag_list.append(flag)\n",
    "    confusion_matrix = confusion_matrix[1:, :]  \n",
    "    return confusion_matrix, flag_list"
   ]
  },
  {
   "cell_type": "code",
   "execution_count": 48,
   "id": "752f27f3-04d1-4b7c-9575-df3284b3da4c",
   "metadata": {},
   "outputs": [],
   "source": [
    "config = 'al_default'\n",
    "db = (\n",
    "    f'./data'\n",
    "    f'/patch_0to6/diff/{config}/detection/detection.sqlite'\n",
    ")\n",
    "conn = sqlite3.connect(db)\n",
    "flux = pd.read_sql_query(\"SELECT * FROM fake_src WHERE host_mag = '20_21' and fake_mag = 20\", conn)\n",
    "flux_det = flux.loc[flux.matched_status.astype(bool)]\n",
    "\n",
    "db = (\n",
    "    f'./data'\n",
    "    f'/patch_0to6/diff/{config}/detection/detection.sqlite'\n",
    ")\n",
    "conn = sqlite3.connect(db)\n",
    "art = pd.read_sql_query(\"SELECT * FROM artifact WHERE host_mag = '20_21' and fake_mag = 20\", conn)"
   ]
  },
  {
   "cell_type": "code",
   "execution_count": 49,
   "id": "0ae91eaf-6d60-45d1-ab89-2dade6657fd3",
   "metadata": {},
   "outputs": [],
   "source": [
    "t = BaseCatalog.readFits('./data/patch_0to6/diff/al_default/00_20_21_1013665_79_i/diff_20/schema/deepDiff_diaSrc.fits')\n",
    "schema = t.schema"
   ]
  },
  {
   "cell_type": "code",
   "execution_count": 50,
   "id": "8011fd2b-873a-4992-9885-c20fe899874e",
   "metadata": {},
   "outputs": [
    {
     "data": {
      "text/plain": [
       "(1862, 1184, 1184)"
      ]
     },
     "execution_count": 50,
     "metadata": {},
     "output_type": "execute_result"
    }
   ],
   "source": [
    "len(art), len(flux), len(flux_det)"
   ]
  },
  {
   "cell_type": "code",
   "execution_count": 51,
   "id": "5b4ebfc8-ef19-49ae-b068-10474ca1e05c",
   "metadata": {},
   "outputs": [],
   "source": [
    "FLAG_LIST = [\n",
    "    'base_PixelFlags_flag_saturated', 'base_PixelFlags_flag_saturatedCenter',\n",
    "    'base_PixelFlags_flag_suspect', 'base_PixelFlags_flag_suspectCenter',\n",
    "    'base_PixelFlags_flag_offimage', 'base_PixelFlags_flag_edge','base_PixelFlags_flag_bad',\n",
    "    'ip_diffim_DipoleFit_flag_classification', 'ip_diffim_DipoleFit_flag_classificationAttempted',\n",
    "    'base_SdssShape_flag', 'base_GaussianFlux_flag_badShape', 'slot_Shape_flag'\n",
    "]\n",
    "confusion_matrix, flag_list = get_confusion_matrix(flux_det, art, FLAG_LIST)\n",
    "\n",
    "FULL_FLAGS = []\n",
    "for i in flux_det.columns:\n",
    "    if re.search('flag', i):\n",
    "        FULL_FLAGS.append(i)\n",
    "confusion_matrix_full, flag_list_full = get_confusion_matrix(flux_det, art, FULL_FLAGS)"
   ]
  },
  {
   "cell_type": "code",
   "execution_count": null,
   "id": "5852bd5d-d698-41f5-a2e0-d24fbaf9a129",
   "metadata": {},
   "outputs": [],
   "source": []
  },
  {
   "cell_type": "code",
   "execution_count": 52,
   "id": "3877d4f6-ffc4-4f3b-8a1b-74dabe5c149c",
   "metadata": {},
   "outputs": [],
   "source": [
    "# selected flags\n",
    "with open('flag_table.txt', \"w+\") as file:\n",
    "    file.write(\"\\\\begin{deluxetable*}{llrrrr}\\n\")\n",
    "    file.write(\"\\\\tablecaption{Confusion Matrces of Selected Flags \"\n",
    "               \"\\\\footnote{Description of each flag is documented in \"\n",
    "               \"the schema data product (deepDiff\\_diaSrc.fits) of the DIA pipeline.} \"\n",
    "               \"\\\\label{tab:flag_selected}}\\n\")\n",
    "    file.write(\"\\\\tablewidth{0pt}\\n\")\n",
    "    file.write(\"\\\\tablehead{\\n\")\n",
    "    file.write(\"\\\\colhead{Flag} & \\\\colhead{Description} & \\\\colhead{TP} & \\\\colhead{FP} & \\\\colhead{TN} & \\\\colhead{FN}}\\n\")\n",
    "    file.write(\"\\\\startdata\\n\")\n",
    "    for i, flag in enumerate(FLAG_LIST):\n",
    "        flag_name = flag.replace('_', '\\\\_')\n",
    "        dscp = schema.extract(f\"{flag}\")[f'{flag}'].getField().getDoc()\n",
    "        dscp = dscp.replace('_', '\\\\_')\n",
    "        file.write(f\"{flag_name} & {dscp} & {confusion_matrix[i, 0]} & {confusion_matrix[i, 1]} & \"\n",
    "                   f\"{confusion_matrix[i, 2]}  &{confusion_matrix[i, 3]} \\\\\\\\\\n\")\n",
    "    file.write(\"\\\\enddata\\n\")\n",
    "    file.write(\"\\\\tablecomments{For a specific flag, \"\n",
    "    \"TP represents the number of artifacts which have the flag set to True. \"\n",
    "    \"TN is the number of synthetic transients which do not have the flag set to True. \"\n",
    "    \"FP represents the number of simulated transients which have the flag set to True. \"\n",
    "    \"FN is the number of artifacts which do not have the flag set to True. \"\n",
    "    \"A flag with high TP, TN and low FP, FN is helpful for filtering out artifacts.}\\n\")\n",
    "    file.write(\"\\\\end{deluxetable*}\\n\")"
   ]
  },
  {
   "cell_type": "code",
   "execution_count": 53,
   "id": "7dfea6df-f1ef-4672-b4a2-eee5e4008813",
   "metadata": {},
   "outputs": [],
   "source": [
    "# all flags\n",
    "with open('flag_table_full.txt', \"w+\") as file:\n",
    "    file.write(\"\\\\begin{longrotatetable}\\n\")\n",
    "    file.write(\"\\\\begin{deluxetable*}{llrrrr}\\n\")\n",
    "    file.write(\"\\\\tablecaption{Confusion Matrces of All Flags \"\n",
    "               \"\\\\footnote{Description of each flag is documented in \"\n",
    "               \"the schema data product (deepDiff\\_diaSrc.fits) of the DIA pipeline.} \"\n",
    "               \"\\label{tab:flag_full}}\\n\")\n",
    "    file.write(\"\\\\tablewidth{700pt} \\n\")\n",
    "    file.write(\"\\\\tabletypesize{\\\\scriptsize}\\n\")\n",
    "    file.write(\"\\\\tablehead{\\n\")\n",
    "    file.write(\"\\\\colhead{Flag} & \\\\colhead{Description} & \\\\colhead{TP} & \\\\colhead{FP} & \\\\colhead{TN} & \\\\colhead{FN}}\\n\")\n",
    "    file.write(\"\\\\startdata\\n\")\n",
    "    for i, flag in enumerate(FULL_FLAGS):\n",
    "        flag_name = flag.replace('_', '\\\\_')\n",
    "        dscp = schema.extract(f\"{flag}\")[f'{flag}'].getField().getDoc()\n",
    "        dscp = dscp.replace('_', '\\\\_')\n",
    "        file.write(f\"{flag_name} & {dscp} & {confusion_matrix_full[i, 0]} & {confusion_matrix_full[i, 1]} & \"\n",
    "                   f\"{confusion_matrix_full[i, 2]}  &{confusion_matrix_full[i, 3]} \\\\\\\\\\n\")\n",
    "    file.write(\"\\\\enddata\\n\")\n",
    "    file.write(\"\\\\tablecomments{For a specific flag, \"\n",
    "    \"TP represents the number of artifacts which have the flag set to True. \"\n",
    "    \"TN is the number of synthetic transients which do not have the flag set to True. \"\n",
    "    \"FP represents the number of simulated transients which have the flag set to True. \"\n",
    "    \"FN is the number of artifacts which do not have the flag set to True. \"\n",
    "    \"A flag with high TP, TN and low FP, FN is helpful for filtering out artifacts.}\\n\")\n",
    "    file.write(\"\\\\end{deluxetable*}\\n\")\n",
    "    file.write(\"\\\\end{longrotatetable}\\n\")"
   ]
  },
  {
   "cell_type": "code",
   "execution_count": null,
   "id": "4b3d0ef6-6c35-4549-bfdc-4c9e175cfbfa",
   "metadata": {},
   "outputs": [],
   "source": []
  },
  {
   "cell_type": "code",
   "execution_count": null,
   "id": "fe4181e9-ffa4-4555-8da9-b872890556e8",
   "metadata": {},
   "outputs": [],
   "source": []
  },
  {
   "cell_type": "code",
   "execution_count": 59,
   "id": "2aed7e6f-92ba-499f-9881-fd3e64691cb7",
   "metadata": {},
   "outputs": [
    {
     "name": "stdout",
     "output_type": "stream",
     "text": [
      "eff:  0.9991554054054054\n",
      "purity  0.8901429646350639\n"
     ]
    }
   ],
   "source": [
    "flux_det_astropy = Table.from_pandas(flux_det)\n",
    "flux_det_astropy_flag_applied = dpu.remove_flag_astropy(flux_det_astropy, FLAG_LIST)\n",
    "\n",
    "art_astropy = Table.from_pandas(art)\n",
    "art_astropy_flag_applied = dpu.remove_flag_astropy(art_astropy, FLAG_LIST)\n",
    "\n",
    "print('eff: ', len(flux_det_astropy_flag_applied) / len(flux_det_astropy))\n",
    "\n",
    "purity = len(flux_det_astropy_flag_applied) / (len(flux_det_astropy_flag_applied) + len(art_astropy_flag_applied))\n",
    "print('purity ', purity)"
   ]
  },
  {
   "cell_type": "code",
   "execution_count": null,
   "id": "580754e9-b62f-4b44-85bf-f929d87a0aea",
   "metadata": {},
   "outputs": [],
   "source": []
  },
  {
   "cell_type": "code",
   "execution_count": null,
   "id": "0c07185e-55e4-4e2f-855e-f533673c7536",
   "metadata": {},
   "outputs": [],
   "source": []
  },
  {
   "cell_type": "markdown",
   "id": "9f9d4ed2-6119-4de2-b3a8-c8af4ad44426",
   "metadata": {},
   "source": [
    "#### Artifact Statistics"
   ]
  },
  {
   "cell_type": "code",
   "execution_count": 13,
   "id": "7311eff1-3c05-499d-9999-a84306dc6b7f",
   "metadata": {},
   "outputs": [],
   "source": [
    "psf_table = Table.read('./data/table/gal_4639/psf_fwhm.csv', format='ascii.csv')\n",
    "psf_table['psf_ratio'] = (psf_table['calexp_fwhm'] - psf_table['coadd_fwhm']) / psf_table['coadd_fwhm']\n",
    "base_flags = ['base_PixelFlags_flag_saturated', 'base_PixelFlags_flag_saturatedCenter', 'base_PixelFlags_flag_suspect',\n",
    "              'base_PixelFlags_flag_suspectCenter', 'base_PixelFlags_flag_offimage', 'base_PixelFlags_flag_edge',\n",
    "              'base_PixelFlags_flag_bad', 'base_NaiveCentroid_flag']\n",
    "dipole_flags = ['ip_diffim_DipoleFit_flag_classification', 'ip_diffim_DipoleFit_flag_classificationAttempted']\n",
    "full_detections = Table.read('./data/table/gal_4639/full_detections.csv', format='ascii.csv')\n",
    "for flag in (base_flags+dipole_flags):\n",
    "    full_detections[flag] = (full_detections[flag].data == 'True')\n",
    "full_detections['diaSrc_snr'] = full_detections['base_PsfFlux_instFlux'] /full_detections['base_PsfFlux_instFluxErr']\n",
    "full_detections['psf_ratio'] = (full_detections['calexp_fwhm'] - full_detections['coadd_fwhm']) / full_detections['coadd_fwhm']"
   ]
  },
  {
   "cell_type": "code",
   "execution_count": null,
   "id": "0673f899-b36f-4898-a3ba-91758f866207",
   "metadata": {},
   "outputs": [],
   "source": []
  },
  {
   "cell_type": "code",
   "execution_count": 14,
   "id": "05da1fc0-20b7-4d40-910d-627b4285619c",
   "metadata": {},
   "outputs": [],
   "source": [
    "art_astropy = Table.from_pandas(art)\n",
    "art_coord = SkyCoord(np.rad2deg(art_astropy['coord_ra'].data),\n",
    "                     np.rad2deg(art_astropy['coord_dec'].data),\n",
    "                     frame=\"icrs\", unit=\"deg\")\n",
    "det_coord = SkyCoord(np.rad2deg(full_detections['coord_ra'].data),\n",
    "                     np.rad2deg(full_detections['coord_dec'].data),\n",
    "                     frame=\"icrs\", unit=\"deg\")\n",
    "matched_status, matched_idx = dpu.two_direction_skymatch(art_coord,  det_coord, radius=2 * u.arcsec)"
   ]
  },
  {
   "cell_type": "code",
   "execution_count": 15,
   "id": "db528084-b8e1-4264-baac-f098d2690415",
   "metadata": {},
   "outputs": [
    {
     "data": {
      "text/plain": [
       "(1862, 1858)"
      ]
     },
     "execution_count": 15,
     "metadata": {},
     "output_type": "execute_result"
    }
   ],
   "source": [
    "# There are four missing artifacts.\n",
    "len(art_coord), np.sum(matched_status)"
   ]
  },
  {
   "cell_type": "code",
   "execution_count": 16,
   "id": "60d17303-515e-4851-a5b9-9460deed80a1",
   "metadata": {},
   "outputs": [
    {
     "data": {
      "text/plain": [
       "(<SkyCoord (ICRS): (ra, dec) in deg\n",
       "     [(56.94192337, -30.93836375), (56.64995067, -30.73225229),\n",
       "      (55.80279134, -30.20938777), (55.79787475, -30.21251826)]>,\n",
       " <SkyCoord (ICRS): (ra, dec) in deg\n",
       "     [(56.94192337, -30.93836375), (56.64995067, -30.73225229),\n",
       "      (55.80279134, -30.20938777), (55.79787475, -30.21251826)]>)"
      ]
     },
     "execution_count": 16,
     "metadata": {},
     "output_type": "execute_result"
    }
   ],
   "source": [
    "# 4 artifacts have matched status = Flase, however, their matched detection have the same coord to them\n",
    "# probably artifacts table have duplicated artifacts from different visits.\n",
    "# they get matched to the same detecion in the full_detection table\n",
    "art_coord[~matched_status], det_coord[matched_idx[~matched_status]]"
   ]
  },
  {
   "cell_type": "code",
   "execution_count": 28,
   "id": "1917a2dd-8572-4ee0-9b1e-e948f5c25925",
   "metadata": {},
   "outputs": [],
   "source": [
    "artifacts = full_detections[matched_idx]\n",
    "base_rm = dpu.remove_flag_astropy(artifacts, flag_list=base_flags)"
   ]
  },
  {
   "cell_type": "code",
   "execution_count": 18,
   "id": "c81c9acf-4f10-41fb-906f-d44f1494292b",
   "metadata": {},
   "outputs": [],
   "source": [
    "broad = base_rm[base_rm['psf_ratio']>=0]\n",
    "near = base_rm[np.logical_and(base_rm['psf_ratio']<0, base_rm['psf_ratio']>=-0.05)]\n",
    "narrow = base_rm[base_rm['psf_ratio']<-0.05]"
   ]
  },
  {
   "cell_type": "code",
   "execution_count": 19,
   "id": "d28fe5a6-ea77-4f9d-9e4d-47dc6ab607be",
   "metadata": {},
   "outputs": [
    {
     "data": {
      "text/plain": [
       "(1862, 772, 261, 164, 347)"
      ]
     },
     "execution_count": 19,
     "metadata": {},
     "output_type": "execute_result"
    }
   ],
   "source": [
    "len(artifacts), len(base_rm), len(broad), len(near), len(narrow)"
   ]
  },
  {
   "cell_type": "code",
   "execution_count": 20,
   "id": "00e9e25c-a0fa-4a29-982b-1286350b0d1e",
   "metadata": {},
   "outputs": [],
   "source": [
    "n_broad = np.sum(psf_table['psf_ratio']>=0)\n",
    "n_near = np.sum(np.logical_and(psf_table['psf_ratio']<0, psf_table['psf_ratio']>=-0.05))\n",
    "n_narrow = np.sum(psf_table['psf_ratio']<-0.05)"
   ]
  },
  {
   "cell_type": "code",
   "execution_count": 21,
   "id": "fd5a809d-9b2b-4007-bdb2-420fe763b2a8",
   "metadata": {},
   "outputs": [
    {
     "data": {
      "text/plain": [
       "(30, 16, 24)"
      ]
     },
     "execution_count": 21,
     "metadata": {},
     "output_type": "execute_result"
    }
   ],
   "source": [
    "n_broad, n_near, n_narrow"
   ]
  },
  {
   "cell_type": "code",
   "execution_count": 22,
   "id": "d10ba492-1ace-4899-a27c-49057c28105f",
   "metadata": {},
   "outputs": [
    {
     "data": {
      "text/plain": [
       "(8.7, 10.25, 14.458333333333334)"
      ]
     },
     "execution_count": 22,
     "metadata": {},
     "output_type": "execute_result"
    }
   ],
   "source": [
    "# artifact per detector\n",
    "len(broad)/30, len(near)/16, len(narrow)/24"
   ]
  },
  {
   "cell_type": "code",
   "execution_count": 23,
   "id": "3a98fa12-fb2a-4dd7-b59d-704bb6aa2110",
   "metadata": {},
   "outputs": [
    {
     "data": {
      "text/html": [
       "<div>\n",
       "<style scoped>\n",
       "    .dataframe tbody tr th:only-of-type {\n",
       "        vertical-align: middle;\n",
       "    }\n",
       "\n",
       "    .dataframe tbody tr th {\n",
       "        vertical-align: top;\n",
       "    }\n",
       "\n",
       "    .dataframe thead th {\n",
       "        text-align: right;\n",
       "    }\n",
       "</style>\n",
       "<table border=\"1\" class=\"dataframe\">\n",
       "  <thead>\n",
       "    <tr style=\"text-align: right;\">\n",
       "      <th></th>\n",
       "      <th>broad</th>\n",
       "      <th>near</th>\n",
       "      <th>sharp</th>\n",
       "    </tr>\n",
       "  </thead>\n",
       "  <tbody>\n",
       "    <tr>\n",
       "      <th>fraction</th>\n",
       "      <td>8.7</td>\n",
       "      <td>10.25</td>\n",
       "      <td>14.458333</td>\n",
       "    </tr>\n",
       "  </tbody>\n",
       "</table>\n",
       "</div>"
      ],
      "text/plain": [
       "          broad   near      sharp\n",
       "fraction    8.7  10.25  14.458333"
      ]
     },
     "execution_count": 23,
     "metadata": {},
     "output_type": "execute_result"
    }
   ],
   "source": [
    "morph = {'broad': [len(broad)/30], 'near': [len(near)/16], 'sharp': [len(narrow)/24]}\n",
    "pd.DataFrame(data=morph, index=['fraction'])"
   ]
  },
  {
   "cell_type": "code",
   "execution_count": 24,
   "id": "024cd506-6590-423d-808e-0908a67ed107",
   "metadata": {},
   "outputs": [],
   "source": [
    "# artifact fraction\n",
    "def get_fraction(all_det, base_flags, dipole_flags):\n",
    "    art_stat = pd.DataFrame(index=['sat', 'dipole', 'remaining'])\n",
    "    base_keep = dpu.keep_flag_astropy(all_det, flag_list=base_flags)\n",
    "    base_rm = dpu.remove_flag_astropy(all_det, flag_list=base_flags)\n",
    "    dipole_keep = dpu.keep_flag_astropy(base_rm, flag_list=dipole_flags)\n",
    "    dipole_rm = dpu.remove_flag_astropy(base_rm, flag_list=dipole_flags)\n",
    "    sat = len(base_keep) / len(all_det)\n",
    "    dipole = len(dipole_keep) / len(all_det)\n",
    "    remaining = len(dipole_rm) / len(all_det)\n",
    "    art_stat['fraction'] = [sat, dipole, remaining]\n",
    "    return art_stat.transpose()\n",
    "    \n",
    "all_broad = artifacts[artifacts['psf_ratio']>=0]\n",
    "all_near = artifacts[np.logical_and(artifacts['psf_ratio']<0, artifacts['psf_ratio']>=-0.05)]\n",
    "all_narrow = artifacts[artifacts['psf_ratio']<-0.05]"
   ]
  },
  {
   "cell_type": "code",
   "execution_count": 25,
   "id": "47b408ae-bf14-4c82-87f5-1a2e19ed7d20",
   "metadata": {},
   "outputs": [
    {
     "data": {
      "text/html": [
       "<div>\n",
       "<style scoped>\n",
       "    .dataframe tbody tr th:only-of-type {\n",
       "        vertical-align: middle;\n",
       "    }\n",
       "\n",
       "    .dataframe tbody tr th {\n",
       "        vertical-align: top;\n",
       "    }\n",
       "\n",
       "    .dataframe thead th {\n",
       "        text-align: right;\n",
       "    }\n",
       "</style>\n",
       "<table border=\"1\" class=\"dataframe\">\n",
       "  <thead>\n",
       "    <tr style=\"text-align: right;\">\n",
       "      <th></th>\n",
       "      <th>sat</th>\n",
       "      <th>dipole</th>\n",
       "      <th>remaining</th>\n",
       "    </tr>\n",
       "  </thead>\n",
       "  <tbody>\n",
       "    <tr>\n",
       "      <th>fraction</th>\n",
       "      <td>0.61674</td>\n",
       "      <td>0.140969</td>\n",
       "      <td>0.242291</td>\n",
       "    </tr>\n",
       "  </tbody>\n",
       "</table>\n",
       "</div>"
      ],
      "text/plain": [
       "              sat    dipole  remaining\n",
       "fraction  0.61674  0.140969   0.242291"
      ]
     },
     "execution_count": 25,
     "metadata": {},
     "output_type": "execute_result"
    }
   ],
   "source": [
    "# broad\n",
    "get_fraction(all_broad, base_flags, dipole_flags)"
   ]
  },
  {
   "cell_type": "code",
   "execution_count": 26,
   "id": "2e05c494-61de-497d-b4fe-220511a19370",
   "metadata": {},
   "outputs": [
    {
     "data": {
      "text/html": [
       "<div>\n",
       "<style scoped>\n",
       "    .dataframe tbody tr th:only-of-type {\n",
       "        vertical-align: middle;\n",
       "    }\n",
       "\n",
       "    .dataframe tbody tr th {\n",
       "        vertical-align: top;\n",
       "    }\n",
       "\n",
       "    .dataframe thead th {\n",
       "        text-align: right;\n",
       "    }\n",
       "</style>\n",
       "<table border=\"1\" class=\"dataframe\">\n",
       "  <thead>\n",
       "    <tr style=\"text-align: right;\">\n",
       "      <th></th>\n",
       "      <th>sat</th>\n",
       "      <th>dipole</th>\n",
       "      <th>remaining</th>\n",
       "    </tr>\n",
       "  </thead>\n",
       "  <tbody>\n",
       "    <tr>\n",
       "      <th>fraction</th>\n",
       "      <td>0.549451</td>\n",
       "      <td>0.159341</td>\n",
       "      <td>0.291209</td>\n",
       "    </tr>\n",
       "  </tbody>\n",
       "</table>\n",
       "</div>"
      ],
      "text/plain": [
       "               sat    dipole  remaining\n",
       "fraction  0.549451  0.159341   0.291209"
      ]
     },
     "execution_count": 26,
     "metadata": {},
     "output_type": "execute_result"
    }
   ],
   "source": [
    "# near\n",
    "get_fraction(all_near, base_flags, dipole_flags)"
   ]
  },
  {
   "cell_type": "code",
   "execution_count": 27,
   "id": "d81626ce-6e72-4bcf-b931-646351f8ba7c",
   "metadata": {},
   "outputs": [
    {
     "data": {
      "text/html": [
       "<div>\n",
       "<style scoped>\n",
       "    .dataframe tbody tr th:only-of-type {\n",
       "        vertical-align: middle;\n",
       "    }\n",
       "\n",
       "    .dataframe tbody tr th {\n",
       "        vertical-align: top;\n",
       "    }\n",
       "\n",
       "    .dataframe thead th {\n",
       "        text-align: right;\n",
       "    }\n",
       "</style>\n",
       "<table border=\"1\" class=\"dataframe\">\n",
       "  <thead>\n",
       "    <tr style=\"text-align: right;\">\n",
       "      <th></th>\n",
       "      <th>sat</th>\n",
       "      <th>dipole</th>\n",
       "      <th>remaining</th>\n",
       "    </tr>\n",
       "  </thead>\n",
       "  <tbody>\n",
       "    <tr>\n",
       "      <th>fraction</th>\n",
       "      <td>0.575275</td>\n",
       "      <td>0.181151</td>\n",
       "      <td>0.243574</td>\n",
       "    </tr>\n",
       "  </tbody>\n",
       "</table>\n",
       "</div>"
      ],
      "text/plain": [
       "               sat    dipole  remaining\n",
       "fraction  0.575275  0.181151   0.243574"
      ]
     },
     "execution_count": 27,
     "metadata": {},
     "output_type": "execute_result"
    }
   ],
   "source": [
    "# sharp\n",
    "get_fraction(all_narrow, base_flags, dipole_flags)"
   ]
  },
  {
   "cell_type": "markdown",
   "id": "ca3522e7-89b7-48ef-9ad4-08df2ef5d5e9",
   "metadata": {},
   "source": [
    "#### matched artifact fraction"
   ]
  },
  {
   "cell_type": "code",
   "execution_count": 29,
   "id": "43b016cf-a1c2-4077-8364-4dce11ff2deb",
   "metadata": {},
   "outputs": [
    {
     "data": {
      "text/plain": [
       "1862"
      ]
     },
     "execution_count": 29,
     "metadata": {},
     "output_type": "execute_result"
    }
   ],
   "source": [
    "len(artifacts)"
   ]
  },
  {
   "cell_type": "code",
   "execution_count": 36,
   "id": "db731af7-df1b-4b14-9464-214dfb7a4610",
   "metadata": {},
   "outputs": [],
   "source": [
    "d = artifacts['matched_status'].data"
   ]
  },
  {
   "cell_type": "code",
   "execution_count": 39,
   "id": "dc4fb06f-3bdb-494f-b16e-f38d56b1bc3f",
   "metadata": {},
   "outputs": [
    {
     "data": {
      "text/plain": [
       "array(['True', 'True', 'True', ..., 'False', 'True', 'True'], dtype='<U5')"
      ]
     },
     "execution_count": 39,
     "metadata": {},
     "output_type": "execute_result"
    }
   ],
   "source": [
    "d"
   ]
  },
  {
   "cell_type": "code",
   "execution_count": 40,
   "id": "73d99295-c84c-4029-9bf7-13d593bf0071",
   "metadata": {},
   "outputs": [
    {
     "data": {
      "text/plain": [
       "0.8952738990332976"
      ]
     },
     "execution_count": 40,
     "metadata": {},
     "output_type": "execute_result"
    }
   ],
   "source": [
    "np.sum(artifacts['matched_status'].data=='True') / len(artifacts)"
   ]
  },
  {
   "cell_type": "markdown",
   "id": "2a991907-7e51-4aa7-8f15-584b0da8893b",
   "metadata": {},
   "source": [
    "89.53% of detected artifacts are from background sources."
   ]
  },
  {
   "cell_type": "markdown",
   "id": "3a4dba21-1b29-4be1-a8cd-ee653ba2034b",
   "metadata": {},
   "source": [
    "#### unmatched artifacts"
   ]
  },
  {
   "cell_type": "code",
   "execution_count": 45,
   "id": "d4232273-9c81-44a3-af5b-8398a3747cb1",
   "metadata": {},
   "outputs": [
    {
     "data": {
      "text/plain": [
       "(9, 3, 22)"
      ]
     },
     "execution_count": 45,
     "metadata": {},
     "output_type": "execute_result"
    }
   ],
   "source": [
    "np.sum(broad['matched_status'].data=='False'), np.sum(near['matched_status'].data=='False') ,np.sum(narrow['matched_status'].data=='False')"
   ]
  },
  {
   "cell_type": "code",
   "execution_count": null,
   "id": "188b440d-bcfb-4b20-a387-9d3a9e3a9c24",
   "metadata": {},
   "outputs": [],
   "source": []
  },
  {
   "cell_type": "code",
   "execution_count": null,
   "id": "d3cc608a-110b-4b27-81a7-8b8c93c0f8c7",
   "metadata": {},
   "outputs": [],
   "source": []
  }
 ],
 "metadata": {
  "kernelspec": {
   "display_name": "desc-stack",
   "language": "python",
   "name": "desc-stack"
  },
  "language_info": {
   "codemirror_mode": {
    "name": "ipython",
    "version": 3
   },
   "file_extension": ".py",
   "mimetype": "text/x-python",
   "name": "python",
   "nbconvert_exporter": "python",
   "pygments_lexer": "ipython3",
   "version": "3.7.2"
  }
 },
 "nbformat": 4,
 "nbformat_minor": 5
}
