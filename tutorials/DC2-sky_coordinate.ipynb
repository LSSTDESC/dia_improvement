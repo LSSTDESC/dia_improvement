{
 "cells": [
  {
   "cell_type": "markdown",
   "metadata": {},
   "source": [
    "# Sky Coordinates of DC2 calexps and deepCoadds in Jupyter Hub\n",
    "\n",
    "Arthur: Shu Liu"
   ]
  },
  {
   "cell_type": "code",
   "execution_count": null,
   "metadata": {},
   "outputs": [],
   "source": []
  },
  {
   "cell_type": "markdown",
   "metadata": {},
   "source": [
    "Questions we want to answer:\n",
    "\n",
    "- Given a list of sky coordinates, how can we get the (tract, patch, filter) information of the deepCoadds that covering these positions in LSST Jupyter hub? \n",
    "\n",
    "- Given a list of sky coordinates, how can we get the (visit, detector, filter) information of the calexp that covering these positions in LSST Jupyter hub?\n",
    "\n",
    "- For a coordinate which lies near the edge of the image, how can we check it is near the edge? \n"
   ]
  },
  {
   "cell_type": "markdown",
   "metadata": {},
   "source": [
    "#### 1. Given a list of sky coordinates, how can we get the (tract, patch, filter) information of the deepCoadds that covering these positions in LSST Jupyter hub?"
   ]
  },
  {
   "cell_type": "code",
   "execution_count": 1,
   "metadata": {},
   "outputs": [],
   "source": [
    "from lsst.daf.persistence import Butler\n",
    "import lsst.geom as geom"
   ]
  },
  {
   "cell_type": "code",
   "execution_count": 2,
   "metadata": {},
   "outputs": [],
   "source": [
    "# Run 2.2i dataset\n",
    "coadd_repo = '/global/cfs/projectdirs/lsst/production/DC2_ImSim/Run2.2i/desc_dm_drp/v19.0.0-v1/rerun/run2.2i-coadd-wfd-dr6-v1-grizy'\n",
    "butler = Butler(coadd_repo)"
   ]
  },
  {
   "cell_type": "code",
   "execution_count": 3,
   "metadata": {},
   "outputs": [],
   "source": [
    "skymap = butler.get('deepCoadd_skyMap')"
   ]
  },
  {
   "cell_type": "code",
   "execution_count": 4,
   "metadata": {},
   "outputs": [],
   "source": [
    "# This function is modified from the get_coadd_id_for_ra_dec function from dm_utilities.py\n",
    "def get_deepCoadd_id(skymap, ra, dec):\n",
    "    \n",
    "    radec = geom.SpherePoint(ra, dec, geom.degrees)\n",
    "    # skymap.findTract finds the tract with the nearest center to the target\n",
    "    # skymap.findAllTracts finds all tracts which include the target\n",
    "    tract_info = skymap.findTract(radec)\n",
    "    patch_info = tract_info.findPatch(radec)\n",
    "    patch_idx = patch_info.getIndex()\n",
    "    coadd_id = {'tract': tract_info.getId(), \n",
    "                'patch': f'{patch_idx[0]},{patch_idx[1]}' }\n",
    "    return coadd_id"
   ]
  },
  {
   "cell_type": "code",
   "execution_count": 5,
   "metadata": {},
   "outputs": [
    {
     "data": {
      "text/plain": [
       "{'tract': 4639, 'patch': '0,0'}"
      ]
     },
     "execution_count": 5,
     "metadata": {},
     "output_type": "execute_result"
    }
   ],
   "source": [
    "# example\n",
    "\n",
    "ra = 57.082\n",
    "dec = -31.1539\n",
    "\n",
    "# expect tract=4639, patch=0,0\n",
    "get_deepCoadd_id(skymap, ra, dec)"
   ]
  },
  {
   "cell_type": "markdown",
   "metadata": {},
   "source": [
    "`Question`: How can we get the filter information?"
   ]
  },
  {
   "cell_type": "code",
   "execution_count": null,
   "metadata": {},
   "outputs": [],
   "source": []
  },
  {
   "cell_type": "markdown",
   "metadata": {},
   "source": [
    "#### 2. Given a list of sky coordinates, how can we get the (visit, detector, filter) information of the calexp that covering these positions in LSST Jupyter hub? "
   ]
  },
  {
   "cell_type": "markdown",
   "metadata": {},
   "source": [
    "Suppose we have already get the coadd which includes the coordinate, we can search for calexps which overlap the coadd, and then check whether they include the coordinate."
   ]
  },
  {
   "cell_type": "code",
   "execution_count": 6,
   "metadata": {},
   "outputs": [],
   "source": [
    "import sqlite3\n",
    "import pandas as pd"
   ]
  },
  {
   "cell_type": "code",
   "execution_count": 7,
   "metadata": {},
   "outputs": [],
   "source": [
    "# connect to the calexp database\n",
    "conn = sqlite3.connect('/global/cfs/projectdirs/lsst/production/DC2_ImSim/Run2.2i/desc_dm_drp/v19.0.0-v1/rerun/run2.2i-calexp-v1/tracts_mapping.sqlite3')"
   ]
  },
  {
   "cell_type": "code",
   "execution_count": 10,
   "metadata": {},
   "outputs": [],
   "source": [
    "query = \"select distinct(visit), filter, detector from overlaps where tract=4639 and filter='r' order by visit\"\n",
    "# use pandas to read the sql query\n",
    "calexp_info = pd.read_sql_query(query, conn)"
   ]
  },
  {
   "cell_type": "code",
   "execution_count": 11,
   "metadata": {},
   "outputs": [
    {
     "data": {
      "text/html": [
       "<div>\n",
       "<style scoped>\n",
       "    .dataframe tbody tr th:only-of-type {\n",
       "        vertical-align: middle;\n",
       "    }\n",
       "\n",
       "    .dataframe tbody tr th {\n",
       "        vertical-align: top;\n",
       "    }\n",
       "\n",
       "    .dataframe thead th {\n",
       "        text-align: right;\n",
       "    }\n",
       "</style>\n",
       "<table border=\"1\" class=\"dataframe\">\n",
       "  <thead>\n",
       "    <tr style=\"text-align: right;\">\n",
       "      <th></th>\n",
       "      <th>visit</th>\n",
       "      <th>filter</th>\n",
       "      <th>detector</th>\n",
       "    </tr>\n",
       "  </thead>\n",
       "  <tbody>\n",
       "    <tr>\n",
       "      <th>0</th>\n",
       "      <td>181868</td>\n",
       "      <td>r</td>\n",
       "      <td>54</td>\n",
       "    </tr>\n",
       "    <tr>\n",
       "      <th>1</th>\n",
       "      <td>181868</td>\n",
       "      <td>r</td>\n",
       "      <td>55</td>\n",
       "    </tr>\n",
       "    <tr>\n",
       "      <th>2</th>\n",
       "      <td>181868</td>\n",
       "      <td>r</td>\n",
       "      <td>56</td>\n",
       "    </tr>\n",
       "    <tr>\n",
       "      <th>3</th>\n",
       "      <td>181868</td>\n",
       "      <td>r</td>\n",
       "      <td>57</td>\n",
       "    </tr>\n",
       "    <tr>\n",
       "      <th>4</th>\n",
       "      <td>181868</td>\n",
       "      <td>r</td>\n",
       "      <td>58</td>\n",
       "    </tr>\n",
       "  </tbody>\n",
       "</table>\n",
       "</div>"
      ],
      "text/plain": [
       "    visit filter  detector\n",
       "0  181868      r        54\n",
       "1  181868      r        55\n",
       "2  181868      r        56\n",
       "3  181868      r        57\n",
       "4  181868      r        58"
      ]
     },
     "execution_count": 11,
     "metadata": {},
     "output_type": "execute_result"
    }
   ],
   "source": [
    "calexp_info.head()"
   ]
  },
  {
   "cell_type": "code",
   "execution_count": 16,
   "metadata": {},
   "outputs": [],
   "source": [
    "def in_image(ra, dec, wcs, bbox, offset):\n",
    "    radec = geom.SpherePoint(ra, dec, geom.degrees)\n",
    "    xy = wcs.skyToPixel(radec)\n",
    "    # getX() and getY() return the physics coordinates, not the image coordinates\n",
    "    phy_x, phy_y = xy.getX(), xy.getY()\n",
    "    if bbox.beginX + offset <= phy_x and bbox.endX - offset >= phy_x and \\\n",
    "    bbox.beginY + offset <= phy_y and bbox.endY - offset >= phy_y:\n",
    "        return True\n",
    "    else:\n",
    "        return False"
   ]
  },
  {
   "cell_type": "code",
   "execution_count": 17,
   "metadata": {},
   "outputs": [],
   "source": [
    "calexp_repo = '/global/cfs/projectdirs/lsst/production/DC2_ImSim/Run2.2i/desc_dm_drp/v19.0.0-v1/rerun/run2.2i-calexp-v1'\n",
    "calexp_butler = Butler(calexp_repo)"
   ]
  },
  {
   "cell_type": "code",
   "execution_count": 18,
   "metadata": {},
   "outputs": [],
   "source": [
    "# example\n",
    "calexp_id = {'visit': 181868, 'detector': 54, 'filter': 'r'}\n",
    "calexp_exposure = calexp_butler.get('calexp',  calexp_id)\n",
    "wcs = calexp_exposure.getWcs()\n",
    "bbox = calexp_exposure.getBBox()"
   ]
  },
  {
   "cell_type": "code",
   "execution_count": 19,
   "metadata": {},
   "outputs": [
    {
     "data": {
      "text/plain": [
       "False"
      ]
     },
     "execution_count": 19,
     "metadata": {},
     "output_type": "execute_result"
    }
   ],
   "source": [
    "ra = 57.082\n",
    "dec = -31.1539\n",
    "in_image(ra, dec, wcs, bbox, offset=0)"
   ]
  },
  {
   "cell_type": "code",
   "execution_count": 20,
   "metadata": {},
   "outputs": [
    {
     "data": {
      "text/plain": [
       "True"
      ]
     },
     "execution_count": 20,
     "metadata": {},
     "output_type": "execute_result"
    }
   ],
   "source": [
    "ra = 57.105\n",
    "dec = -31.239\n",
    "in_image(ra, dec, wcs, bbox, offset=0)"
   ]
  },
  {
   "cell_type": "markdown",
   "metadata": {},
   "source": [
    "`Question`: Loading the calexp exposure takes time, is there any other method for mapping skycoordinates to calexp images? "
   ]
  },
  {
   "cell_type": "markdown",
   "metadata": {},
   "source": [
    "#### 3. For a coordinate which lies near the edge of the image, how can we check it is near the edge?"
   ]
  },
  {
   "cell_type": "markdown",
   "metadata": {},
   "source": [
    "`Answer` Get the corresponding exposure, convert skycoordinates to physics coordinates, and compare to the bbox of the exposure."
   ]
  },
  {
   "cell_type": "code",
   "execution_count": 23,
   "metadata": {},
   "outputs": [],
   "source": [
    "def cal_offset(ra, dec, wcs, bbox):\n",
    "    radec = geom.SpherePoint(ra, dec, geom.degrees)\n",
    "    xy = wcs.skyToPixel(radec)\n",
    "    # getX() and getY() return the physics coordinates, not the image coordinates\n",
    "    phy_x, phy_y = xy.getX(), xy.getY()\n",
    "    dx_begin = phy_x - bbox.beginX\n",
    "    dx_end =  bbox.endX - phy_x\n",
    "    dy_begin = phy_y - bbox.beginY\n",
    "    dy_end = bbox.endY - phy_y\n",
    "    return {'dx_begin': dx_begin, 'dx_end': dx_end, 'dy_begin': dy_begin, 'dy_end': dy_end}\n",
    "    "
   ]
  },
  {
   "cell_type": "code",
   "execution_count": 29,
   "metadata": {},
   "outputs": [
    {
     "data": {
      "text/plain": [
       "{'dx_begin': 2249.3351028976776,\n",
       " 'dx_end': 1822.6648971023224,\n",
       " 'dy_begin': 5120.428898633786,\n",
       " 'dy_end': -1120.428898633786}"
      ]
     },
     "execution_count": 29,
     "metadata": {},
     "output_type": "execute_result"
    }
   ],
   "source": [
    "# Example\n",
    "ra = 57.082\n",
    "dec = -31.1539\n",
    "cal_offset(ra, dec, wcs, bbox)\n",
    "# it is not in the image, we expect to see at least one negative value"
   ]
  },
  {
   "cell_type": "code",
   "execution_count": 26,
   "metadata": {},
   "outputs": [
    {
     "data": {
      "text/plain": [
       "{'dx_begin': 1842.9406496097865,\n",
       " 'dx_end': 2229.0593503902137,\n",
       " 'dy_begin': 3601.463703606275,\n",
       " 'dy_end': 398.536296393725}"
      ]
     },
     "execution_count": 26,
     "metadata": {},
     "output_type": "execute_result"
    }
   ],
   "source": [
    "ra = 57.105\n",
    "dec = -31.239\n",
    "cal_offset(ra, dec, wcs, bbox)\n",
    "# it is in the image, we expect all values be positive"
   ]
  },
  {
   "cell_type": "markdown",
   "metadata": {},
   "source": [
    "#### Other Questions."
   ]
  },
  {
   "cell_type": "markdown",
   "metadata": {},
   "source": [
    "- Given a calexp / deepCoadd exposure, how can we get the bounding sky coordinates?\n",
    "\n",
    "For example, when we are searching sources using the GCRCatalogs, we can set a limit of ra and dec:\n",
    "\n",
    "```\n",
    "gc = GCRCatalogs.load_catalog('cosmoDC2_v1.1.4_image')\n",
    "galaxy_data = gc.get_quantities(['ra', 'dec', 'mag_r', 'halo_id'],\n",
    "                                filters=['mag_r > 20', 'mag_r < 22',\n",
    "                                         'ra > 56.96', 'ra < 57.2',\n",
    "                                        'dec > -31.26', 'dec < -31.05'])\n",
    "```\n",
    "If we want to select the sources in a given image, we need to know the bouding sky coordinates, is there any function can achieve this?\n",
    "\n",
    "We can convert the pixel coordinates of the boundary to the sky coordinates, but it does not seem optimal.\n",
    "\n",
    "```\n",
    "radec = geom.SpherePoint(wcs.pixelToSky(x, y))\n",
    "ra = radec.getRa().asDegrees()\n",
    "dec = radec.getDec().asDegrees()\n",
    "```\n"
   ]
  },
  {
   "cell_type": "markdown",
   "metadata": {},
   "source": [
    "- Given a specific time range, how can we get calexp exposures taken within these days? How can we check the sky area they cover?"
   ]
  },
  {
   "cell_type": "code",
   "execution_count": null,
   "metadata": {},
   "outputs": [],
   "source": []
  },
  {
   "cell_type": "code",
   "execution_count": null,
   "metadata": {},
   "outputs": [],
   "source": []
  }
 ],
 "metadata": {
  "kernelspec": {
   "display_name": "desc-stack",
   "language": "python",
   "name": "desc-stack"
  },
  "language_info": {
   "codemirror_mode": {
    "name": "ipython",
    "version": 3
   },
   "file_extension": ".py",
   "mimetype": "text/x-python",
   "name": "python",
   "nbconvert_exporter": "python",
   "pygments_lexer": "ipython3",
   "version": "3.7.2"
  }
 },
 "nbformat": 4,
 "nbformat_minor": 4
}
