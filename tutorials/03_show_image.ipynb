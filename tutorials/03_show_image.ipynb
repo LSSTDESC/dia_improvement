{
 "cells": [
  {
   "cell_type": "markdown",
   "metadata": {},
   "source": [
    "## Display Post Stamps\n",
    "\n",
    "Author: Shu Liu\n",
    "\n",
    "Last Edited date: 06/17/2020\n",
    "\n",
    "Abstract\n",
    "\n",
    "This notebook shows how to display poststamps of difference image, calexp image, and deepCoadd image at the same position."
   ]
  },
  {
   "cell_type": "code",
   "execution_count": 30,
   "metadata": {},
   "outputs": [],
   "source": [
    "import matplotlib.pyplot as plt\n",
    "\n",
    "import lsst.afw.display as afwDisplay\n",
    "from lsst.afw.math import Warper\n",
    "import lsst.afw.geom as afwGeom\n",
    "from lsst.daf.persistence import Butler\n",
    "from lsst.geom import SpherePoint\n",
    "import lsst.geom as geom"
   ]
  },
  {
   "cell_type": "code",
   "execution_count": null,
   "metadata": {},
   "outputs": [],
   "source": []
  },
  {
   "cell_type": "code",
   "execution_count": 15,
   "metadata": {},
   "outputs": [],
   "source": [
    "tract, patch, filt = 4639, '0,0', 'r'\n",
    "visit, detector = 181868, 57\n",
    "calexp_id = {'visit': visit, 'detector': detector, 'filter': filt}\n",
    "deepCoadd_id = {'tract': tract, 'patch': patch, 'filter': filt}\n",
    "\n",
    "diff_repo = '/global/homes/s/shl159/GitHub/al_test'\n",
    "calexp_repo = '/global/cscratch1/sd/desc/DC2/data/Run2.1i/rerun/calexp-v1'\n",
    "deepCoadd_repo = '/global/cscratch1/sd/desc/DC2/data/Run2.1i/rerun/coadd-dr1b-v1-grizy'\n",
    "data_id = {'visit': visit, 'detector': detector, 'filter': filt, 'tract': tract, 'patch': patch}"
   ]
  },
  {
   "cell_type": "code",
   "execution_count": 16,
   "metadata": {},
   "outputs": [],
   "source": [
    "diff_butler = Butler(diff_repo)\n",
    "calexp_butler = Butler(calexp_repo)\n",
    "deepCoadd_butler = Butler(deepCoadd_repo)"
   ]
  },
  {
   "cell_type": "code",
   "execution_count": null,
   "metadata": {},
   "outputs": [],
   "source": []
  },
  {
   "cell_type": "code",
   "execution_count": 53,
   "metadata": {},
   "outputs": [],
   "source": [
    "def make_cutout(exposure, x, y, cutout_size=60):\n",
    "    # Make a cutout exposure at (x, y).\n",
    "    cutout_extent = geom.ExtentI(cutout_size, cutout_size)\n",
    "    radec = geom.SpherePoint(exposure.getWcs().pixelToSky(x, y))\n",
    "    cutout_image = exposure.getCutout(radec, cutout_extent)\n",
    "    return cutout_image\n",
    "\n",
    "\n",
    "def display_cutout(cutout_image, x, y, scale=None, frame=None, title=None, show_mask_name=False, save_name=None):\n",
    "    # Display the cutout image.\n",
    "    \n",
    "    # xy = geom.Point2I(x, y)\n",
    "    # Call to deprecated function (or staticmethod) Point2I.\n",
    "    # (Replaced by lsst.geom.PointI (will be removed before the release of v20.0))\n",
    "    xy = geom.PointI(x, y)\n",
    "    display = afwDisplay.Display(frame=frame, backend='matplotlib')\n",
    "    if scale:\n",
    "        display.scale(\"linear\", scale[0], scale[1])\n",
    "        \n",
    "    else:\n",
    "        display.scale(\"linear\", \"zscale\")\n",
    "    display.mtv(cutout_image)\n",
    "    display.dot('o', xy.getX(), xy.getY(), ctype='red')\n",
    "    display.show_colorbar()\n",
    "    plt.title(title)\n",
    "    \n",
    "    if show_mask_name:\n",
    "        print(title)\n",
    "        mask = cutout_image.getMask()\n",
    "        for maskName, maskBit in mask.getMaskPlaneDict().items():\n",
    "            print('{}: {}'.format(maskName, display.getMaskPlaneColor(maskName)), end=' ')\n",
    "        print('\\n')\n",
    "        \n",
    "    if save_name:\n",
    "        plt.savefig(save_name, dpi=500)\n",
    "    \n",
    "def display_xy(exposure, x, y, cutout_size=60, scale=None, frame=None, title=None,\n",
    "               show_mask_name=False, save_name=None):\n",
    "    cutout = make_cutout(exposure, x, y, cutout_size=cutout_size)\n",
    "    display_cutout(cutout, x, y, scale=scale, frame=frame, title=title,\n",
    "                    show_mask_name=show_mask_name, save_name=save_name)\n",
    "    \n",
    "def warp_to_exposure(exposure, warp_to_exposure):\n",
    "    warper = Warper(warpingKernelName='lanczos4')\n",
    "    exposure_warped = warper.warpExposure(warp_to_exposure.getWcs(), exposure,\n",
    "                                          destBBox=warp_to_exposure.getBBox())\n",
    "    return exposure_warped\n",
    "\n",
    "def get_mask_name(exposure):\n",
    "    mask = exposure.getMask()\n",
    "    for maskName, maskBit in mask.getMaskPlaneDict().items():\n",
    "        print('{}: {}'.format(maskName, display.getMaskPlaneColor(maskName)))\n",
    "        \n",
    "def display_exposures(x, y, diff_butler, calexp_butler, deepCoadd_butler,\n",
    "                      calexp_id, deepCoadd_id, cutout_size=60, scale=None,\n",
    "                      show_mask_name=False):\n",
    "    diff_exposure = diff_butler.get('deepDiff_differenceExp', calexp_id)\n",
    "    calexp_exposure = calexp_butler.get('calexp', calexp_id)\n",
    "    deepCoadd_exposure = deepCoadd_butler.get('deepCoadd',  deepCoadd_id)\n",
    "    \n",
    "    deepCoadd_warped = warp_to_exposure(deepCoadd_exposure, calexp_exposure)\n",
    "    \n",
    "    # calexp_xy = geom.Point2I(x, y)\n",
    "    # Call to deprecated function (or staticmethod) Point2I.\n",
    "    # (Replaced by lsst.geom.PointI (will be removed before the release of v20.0))\n",
    "    calexp_xy = geom.PointI(x, y)\n",
    "    calexp_radec = geom.SpherePoint(calexp_exposure.getWcs().pixelToSky(x, y))\n",
    "    \n",
    "    deepCoadd_xy = afwGeom.PointI(deepCoadd_warped.getWcs().skyToPixel(calexp_radec))\n",
    "    \n",
    "    deepCoadd_x, deepCoadd_y = deepCoadd_xy.getX(), deepCoadd_xy.getY()\n",
    "    \n",
    "    display_xy(diff_exposure, x, y, cutout_size=60, scale=None, frame=10001, title='diff',\n",
    "                show_mask_name=show_mask_name, save_name=None)\n",
    "    display_xy(calexp_exposure, x, y, cutout_size=60, scale=None, frame=10002, title='calexp',\n",
    "               show_mask_name=show_mask_name, save_name=None)\n",
    "    display_xy(deepCoadd_warped, deepCoadd_x, deepCoadd_y, cutout_size=60,\n",
    "               scale=None, frame=10003, title='deepCoadd',\n",
    "               show_mask_name=show_mask_name, save_name=None)\n",
    "        \n",
    "    "
   ]
  },
  {
   "cell_type": "code",
   "execution_count": 33,
   "metadata": {},
   "outputs": [],
   "source": [
    "repo_20_180  = '/global/cfs/cdirs/desc-sn/dia/data/shl159/fake_injection/fake_data/fake_offset_25_poisson/fake_20_offset/al_20_180_offset'\n",
    "\n",
    "diff_20_180_buter = Butler(repo_20_180)\n",
    "calexp_20_180_buter = Butler('/global/cfs/cdirs/desc-sn/dia/data/shl159/fake_injection/fake_data/fake_offset_25_poisson/fake_20_offset/fake_20_180_offset/')\n",
    "\n",
    "template_repo = '/global/cscratch1/sd/desc/DC2/data/Run2.1i/rerun/coadd-dr1b-v1-grizy'\n",
    "template_butler = Butler(template_repo)"
   ]
  },
  {
   "cell_type": "code",
   "execution_count": null,
   "metadata": {},
   "outputs": [],
   "source": []
  },
  {
   "cell_type": "code",
   "execution_count": null,
   "metadata": {},
   "outputs": [],
   "source": []
  },
  {
   "cell_type": "code",
   "execution_count": null,
   "metadata": {},
   "outputs": [],
   "source": []
  },
  {
   "cell_type": "code",
   "execution_count": 35,
   "metadata": {},
   "outputs": [],
   "source": [
    "x, y = (3379.0266095404404, 2267.0741260852787)"
   ]
  },
  {
   "cell_type": "code",
   "execution_count": 54,
   "metadata": {},
   "outputs": [
    {
     "name": "stderr",
     "output_type": "stream",
     "text": [
      "/opt/lsst/software/stack/python/miniconda3-4.7.10/envs/lsst-scipipe-4d7b902/lib/python3.7/site-packages/ipykernel/__main__.py:69: FutureWarning: Call to deprecated function (or staticmethod) Point2I. (Replaced by lsst.geom.PointI (will be removed before the release of v20.0))\n"
     ]
    },
    {
     "name": "stdout",
     "output_type": "stream",
     "text": [
      "diff\n",
      "BAD: red BRIGHT_OBJECT: None CLIPPED: None CR: magenta CROSSTALK: None DETECTED: blue DETECTED_NEGATIVE: cyan EDGE: yellow FAKE: None INEXACT_PSF: None INTRP: green NOT_DEBLENDED: None NO_DATA: orange REJECTED: None SAT: green SENSOR_EDGE: None SUSPECT: yellow UNMASKEDNAN: None \n",
      "\n",
      "calexp\n",
      "BAD: red BRIGHT_OBJECT: None CLIPPED: None CR: magenta CROSSTALK: None DETECTED: blue DETECTED_NEGATIVE: cyan EDGE: yellow FAKE: None INEXACT_PSF: None INTRP: green NOT_DEBLENDED: None NO_DATA: orange REJECTED: None SAT: green SENSOR_EDGE: None SUSPECT: yellow UNMASKEDNAN: None \n",
      "\n"
     ]
    },
    {
     "name": "stderr",
     "output_type": "stream",
     "text": [
      "/opt/lsst/software/stack/python/miniconda3-4.7.10/envs/lsst-scipipe-4d7b902/lib/python3.7/site-packages/matplotlib/colorbar.py:1042: RuntimeWarning: divide by zero encountered in true_divide\n",
      "  z = np.take(y, i0) + (xn - np.take(b, i0)) * dy / db\n"
     ]
    },
    {
     "name": "stdout",
     "output_type": "stream",
     "text": [
      "deepCoadd\n",
      "BAD: red BRIGHT_OBJECT: None CLIPPED: None CR: magenta CROSSTALK: None DETECTED: blue DETECTED_NEGATIVE: cyan EDGE: yellow FAKE: None INEXACT_PSF: None INTRP: green NOT_DEBLENDED: None NO_DATA: orange REJECTED: None SAT: green SENSOR_EDGE: None SUSPECT: yellow UNMASKEDNAN: None \n",
      "\n"
     ]
    },
    {
     "data": {
      "image/png": "[encoded data removed]",
      "text/plain": [
       "<Figure size 432x288 with 2 Axes>"
      ]
     },
     "metadata": {
      "needs_background": "light"
     },
     "output_type": "display_data"
    },
    {
     "data": {
      "image/png": "[encoded data removed]",
      "text/plain": [
       "<Figure size 432x288 with 2 Axes>"
      ]
     },
     "metadata": {
      "needs_background": "light"
     },
     "output_type": "display_data"
    },
    {
     "name": "stderr",
     "output_type": "stream",
     "text": [
      "/opt/lsst/software/stack/python/miniconda3-4.7.10/envs/lsst-scipipe-4d7b902/lib/python3.7/site-packages/matplotlib/axis.py:1081: UserWarning: Unable to find pixel distance along axis for interval padding of ticks; assuming no interval padding needed.\n",
      "  warnings.warn(\"Unable to find pixel distance along axis \"\n",
      "/opt/lsst/software/stack/python/miniconda3-4.7.10/envs/lsst-scipipe-4d7b902/lib/python3.7/site-packages/matplotlib/axis.py:1091: UserWarning: Unable to find pixel distance along axis for interval padding of ticks; assuming no interval padding needed.\n",
      "  warnings.warn(\"Unable to find pixel distance along axis \"\n",
      "posx and posy should be finite values\n",
      "posx and posy should be finite values\n",
      "posx and posy should be finite values\n",
      "posx and posy should be finite values\n"
     ]
    },
    {
     "data": {
      "image/png": "[encoded data removed]",
      "text/plain": [
       "<Figure size 432x288 with 2 Axes>"
      ]
     },
     "metadata": {
      "needs_background": "light"
     },
     "output_type": "display_data"
    }
   ],
   "source": [
    "display_exposures(x, y, diff_20_180_buter, calexp_20_180_buter, template_butler,\n",
    "                  calexp_id, deepCoadd_id, show_mask_name=True)"
   ]
  },
  {
   "cell_type": "code",
   "execution_count": null,
   "metadata": {},
   "outputs": [],
   "source": []
  },
  {
   "cell_type": "code",
   "execution_count": null,
   "metadata": {},
   "outputs": [],
   "source": []
  },
  {
   "cell_type": "code",
   "execution_count": null,
   "metadata": {},
   "outputs": [],
   "source": []
  },
  {
   "cell_type": "code",
   "execution_count": null,
   "metadata": {},
   "outputs": [],
   "source": []
  },
  {
   "cell_type": "code",
   "execution_count": null,
   "metadata": {},
   "outputs": [],
   "source": [
    "def cutout_ra_dec(butler, data_id, ra, dec, dataset_type='deepDiff_differenceExp',\n",
    "                  cutout_size=75, warp_to_exposure=None, **kwargs):\n",
    "    \"\"\"\n",
    "    Produce a cutout from dataset_type from the given butler at the given ra, dec\n",
    "    \n",
    "    Notes\n",
    "    -----\n",
    "    Trivial wrapper around 'cutout_spherepoint'\n",
    "    \n",
    "    Parameters\n",
    "    ----------\n",
    "    butler: lsst.daf.persistence.Butler\n",
    "        Loaded DM Butler providing access to a data repository\n",
    "    data_id: Butler data ID\n",
    "        E.g., {'visit': 1181556, 'detector': 45, 'filter': 'r'}\n",
    "    ra: float\n",
    "        Right ascension of the center of the cutout, degrees\n",
    "    dec: float\n",
    "        Declination of the center of the cutout, degrees\n",
    "    cutout_size: int [optional] \n",
    "        Side of the cutout region in pixels.  Region will be cutout_size x cutout_size.\n",
    "    warp_to_exposure: optional\n",
    "        Warp coadd to system of specified 'exposure', e.g., the visit image, to warp the coadd to\n",
    "        before making the cutout.  The goal is to that a cut out of a coadd image\n",
    "        and a cutout of a visit image should line up.\n",
    "        'warp_to_exposure' overrides setting of 'cutout_size'.\n",
    "         \n",
    "    Returns\n",
    "    -------\n",
    "    MaskedImage\n",
    "    \"\"\"\n",
    "    cutout_extent = afwGeom.ExtentI(cutout_size, cutout_size)\n",
    "    radec = SpherePoint(ra, dec, afwGeom.degrees)\n",
    "   \n",
    "    image = butler.get(dataset_type, dataId=data_id)\n",
    "\n",
    "    xy = afwGeom.PointI(image.getWcs().skyToPixel(radec))\n",
    "    bbox = afwGeom.BoxI(xy - cutout_extent//2, cutout_extent)\n",
    "    \n",
    "    if warp_to_exposure is not None:\n",
    "        warper = Warper(warpingKernelName='lanczos4')\n",
    "        cutout_image = warper.warpExposure(warp_to_exposure.getWcs(), image,\n",
    "                                           destBBox=warp_to_exposure.getBBox())\n",
    "    else:\n",
    "        cutout_image = image.getCutout(radec, cutout_extent)\n",
    "    \n",
    "    return cutout_image\n",
    "\n",
    "\n",
    "def make_cutout_image(butler, data_id, ra, dec,\n",
    "                      title=None,\n",
    "                      frame=None, display=None, backend='matplotlib',\n",
    "                      show=True, saveplot=False, savefits=False,\n",
    "                      zscale=None,\n",
    "                      dataset_type='deepCoadd',\n",
    "                      **kwargs):\n",
    "    \"\"\"\n",
    "    Generate and optionally display and save a postage stamp for a given RA, Dec.\n",
    "    \n",
    "    Parameters\n",
    "    ----------\n",
    "    butler: lsst.daf.persistence.Butler\n",
    "        Servant providing access to a data repository\n",
    "    data_id:\n",
    "        DM Butler Data Id\n",
    "    ra: float\n",
    "        Right ascension of the center of the cutout, degrees\n",
    "    dec: float\n",
    "        Declination of the center of the cutout, degrees\n",
    "    filter: string \n",
    "        Filter of the image to load\n",
    "    Returns\n",
    "    -------\n",
    "    MaskedImage\n",
    "\n",
    "    Notes\n",
    "    -----\n",
    "    Uses lsst.afw.display with matplotlib to generate stamps.  Saves FITS file if requested.\n",
    "    \"\"\"\n",
    "    cutout_image = cutout_ra_dec(butler, data_id, ra, dec, dataset_type=dataset_type, **kwargs)\n",
    "    \n",
    "    if savefits:\n",
    "        if isinstance(savefits, str):\n",
    "            filename = savefits\n",
    "        else:\n",
    "            filename = 'postage-stamp.fits'\n",
    "        cutout_image.writeFits(filename)\n",
    "    \n",
    "    radec = SpherePoint(ra, dec, afwGeom.degrees)\n",
    "    xy = cutout_image.getWcs().skyToPixel(radec)\n",
    "    \n",
    "    if display is None:\n",
    "        display = afwDisplay.Display(frame=frame, backend=backend)\n",
    "\n",
    "    display.mtv(cutout_image)\n",
    "    display.scale(\"linear\", \"zscale\")\n",
    "    display.dot('o', xy.getX(), xy.getY(), ctype='red')\n",
    "    display.show_colorbar()\n",
    "\n",
    "    plt.xlabel('x')\n",
    "    plt.ylabel('y')\n",
    "    if title is not None:\n",
    "        plt.title(title)\n",
    "\n",
    "    if saveplot:\n",
    "        if isinstance(saveplot, str):\n",
    "            filename = saveplot\n",
    "        else:\n",
    "            filename = 'postage-stamp.png'\n",
    "        plt.savefig(filename)\n",
    "    if show:\n",
    "        plt.show()\n",
    "\n",
    "    return cutout_image"
   ]
  }
 ],
 "metadata": {
  "kernelspec": {
   "display_name": "desc-dia",
   "language": "python",
   "name": "desc-dia"
  },
  "language_info": {
   "codemirror_mode": {
    "name": "ipython",
    "version": 3
   },
   "file_extension": ".py",
   "mimetype": "text/x-python",
   "name": "python",
   "nbconvert_exporter": "python",
   "pygments_lexer": "ipython3",
   "version": "3.7.2"
  }
 },
 "nbformat": 4,
 "nbformat_minor": 4
}
