{
 "cells": [
  {
   "cell_type": "markdown",
   "metadata": {},
   "source": [
    "# Fake Injection\n",
    "\n",
    "Author: Shu Liu\n",
    "\n",
    "This notebook demonstrates the framework of fake injection."
   ]
  },
  {
   "cell_type": "code",
   "execution_count": 52,
   "metadata": {},
   "outputs": [],
   "source": [
    "%matplotlib inline\n",
    "\n",
    "import matplotlib.pyplot as plt\n",
    "import numpy as np\n",
    "from scipy import stats\n",
    "\n",
    "from astropy.table import Table\n",
    "\n",
    "from lsst.daf.persistence import Butler\n",
    "import lsst.geom as geom\n",
    "import lsst.afw.image as afwImage\n",
    "import lsst.afw.display as afwDisplay"
   ]
  },
  {
   "cell_type": "code",
   "execution_count": 13,
   "metadata": {},
   "outputs": [],
   "source": [
    "def inject_star(exposure, photoCalib, x, y, magVar, poisson=False, seed=0):\n",
    "    \"\"\"This function injects a fake source onto an exposure\n",
    "       exposure:    The exposure for injection\n",
    "       photoCalib:  lsst.afw.image.photoCalib.PhotoCalib object\n",
    "       x:           injected x pixel coordinate\n",
    "       y:           injected y pixel coordinate\n",
    "       magVar:      injected magnitude\n",
    "       poisson:     If true, add Poisson fluctuations to the fake model\n",
    "       seed:        random seed of the Poisson distribution\n",
    "       \n",
    "    \"\"\"    \n",
    "    exposure.mask.addMaskPlane(\"FAKE\")\n",
    "    bitmask = exposure.mask.getPlaneBitMask(\"FAKE\")\n",
    "    xy = geom.Point2D(x, y)\n",
    "    psf = exposure.getPsf()\n",
    "    starIm = psf.computeImage(xy)\n",
    "    calibFluxRadius = 12\n",
    "    correctedFlux = psf.computeApertureFlux(calibFluxRadius, xy)\n",
    "    starIm /= correctedFlux\n",
    "    flux = photoCalib.magnitudeToInstFlux(magVar, xy)\n",
    "    starIm *= flux\n",
    "    star_shape = starIm.array.shape\n",
    "    star_array = starIm.getArray()\n",
    "    star_array[star_array < 1e-19] = 0.\n",
    "\n",
    "    if poisson:\n",
    "        # The array of starIm will be changed inplace, we make a copy here to calculate the variance plane.\n",
    "        star_array_copy = starIm.array.copy()\n",
    "        star_array_copy = np.float32(star_array_copy)\n",
    "        \n",
    "        for i in range(star_shape[0]):\n",
    "            for j in range(star_shape[1]):\n",
    "                np.random.seed(seed)\n",
    "                star_array[i][j] = np.random.poisson(star_array[i][j] * 0.7) / 0.7\n",
    "\n",
    "    fakeImage = starIm.convertF()\n",
    "    imageBBox = exposure.getBBox()\n",
    "    imageMI = exposure.maskedImage\n",
    "\n",
    "    interpFakeImage = fakeImage\n",
    "    interpFakeImBBox = fakeImage.getBBox()\n",
    "    interpFakeImBBox.clip(imageBBox)\n",
    "    imageMIView = imageMI.Factory(imageMI, interpFakeImBBox)\n",
    "\n",
    "    if interpFakeImBBox.getArea() > 0:\n",
    "        clippedFakeImage = interpFakeImage.Factory(interpFakeImage, interpFakeImBBox)\n",
    "        clippedFakeImageMI = afwImage.MaskedImageF(clippedFakeImage)\n",
    "        clippedFakeImageMI.mask.set(bitmask)\n",
    "        if poisson:\n",
    "            clippedFakeImageMI.variance.array = star_array_copy / 0.7\n",
    "        imageMIView += clippedFakeImageMI\n",
    "        \n",
    "def inject_fakes_to_calexp(calexp_repo, calexp_id, magVar, coords, poisson=False):\n",
    "    \"\"\"This function injects fakes onto a calexp exposure at given positions.\n",
    "       caelxp_repo:    An empty calexp repo which is used to save the injected exposure.\n",
    "       calexp_id:      The data id of the calexp exposure\n",
    "       magVar:         The injected magnitude\n",
    "       coords:         A list of [x, y] pixel coordinates\n",
    "       poisson:        If true, add Poisson fluctuations to the fake model\n",
    "    \"\"\"\n",
    "    \n",
    "    calexp_butler = Butler(calexp_repo)\n",
    "    calexp_photoCalib = calexp_butler.get('calexp_photoCalib',  calexp_id)\n",
    "    calexp_exposure = calexp_butler.get('calexp', dataId=calexp_id)\n",
    "    for coord in coords:\n",
    "        x, y = coord[0], coord[1]\n",
    "        inject_star(calexp_exposure, calexp_photoCalib, x, y, magVar, poisson=poisson)\n",
    "    calexp_butler.put(calexp_exposure, 'calexp', dataId=calexp_id)"
   ]
  },
  {
   "cell_type": "markdown",
   "metadata": {},
   "source": [
    "## 1. Make calexp repos for injection\n",
    "\n",
    "To begin with, we need to create empty calexp repos for injection. Here are the steps to create an empty calexp repo:\n",
    "- create an empty directory, let us call it `empty_calexp_repo`.\n",
    "- under the `empty_calexp_repo` directory, create an empty directory called `calexp`.\n",
    "- under teh `empty_calexp_repo` directory, create a file named `repositoryCfg.yaml` with content:\n",
    "\n",
    "```\n",
    "!RepositoryCfg_v1\n",
    "_mapper: !!python/name:lsst.obs.lsst.imsim.ImsimMapper ''\n",
    "_mapperArgs: {}\n",
    "_parents:\n",
    "- /global/cscratch1/sd/desc/DC2/data/Run2.1i/rerun/coadd-dr1b-v1-grizy\n",
    "_policy: null\n",
    "_root: null\n",
    "dirty: true\n",
    "```\n",
    "\n",
    "An empty repo has already been created in the shared space(`/global/cfs/cdirs/desc-sn/dia/data/shl159/shared_space/fake_injection/empty_calexp_repo/`) of the dia team. So we can copy it for our use case. Suppose we want to create 3 repos corresponding to the injection magnitudes of 16 17, and 18 in the current working directory. We can do the following code in the terminal:\n",
    "\n",
    "```\n",
    "for ((i=16; i<=18; i=i+1 )); do cp -r /global/cfs/cdirs/desc-sn/dia/data/shl159/shared_space/fake_injection/empty_calexp_repo/ \\\n",
    "./repo_$i; done\n",
    "```"
   ]
  },
  {
   "cell_type": "code",
   "execution_count": 15,
   "metadata": {},
   "outputs": [
    {
     "name": "stdout",
     "output_type": "stream",
     "text": [
      "\n"
     ]
    }
   ],
   "source": [
    "\"\"\"\n",
    "! for ((i=16; i<=18; i=i+1 )); do cp -r /global/cfs/cdirs/desc-sn/dia/data/shl159/shared_space/fake_injection/empty_calexp_repo/ \\\n",
    "./repo_$i; done\n",
    "\"\"\"\n",
    "print()"
   ]
  },
  {
   "cell_type": "markdown",
   "metadata": {},
   "source": [
    "## 2. Fake Injection\n",
    "\n",
    "Next, we inject fakes at given positions, suppose we have a list of [x, y] pixel coordinates for injection."
   ]
  },
  {
   "cell_type": "code",
   "execution_count": 16,
   "metadata": {},
   "outputs": [],
   "source": [
    "injection_coords = [[1656, 1642], [920, 1335], [2737, 2343], [2185, 974], [1703, 1316]]"
   ]
  },
  {
   "cell_type": "markdown",
   "metadata": {},
   "source": [
    "We specify the data id of the exposures."
   ]
  },
  {
   "cell_type": "code",
   "execution_count": 17,
   "metadata": {},
   "outputs": [],
   "source": [
    "# Setup data id\n",
    "tract, patch, filt = 4639, '0,0', 'r'\n",
    "visit, detector = 181868, 57\n",
    "calexp_id = {'visit': visit, 'detector': detector, 'filter': filt}"
   ]
  },
  {
   "cell_type": "markdown",
   "metadata": {},
   "source": [
    "Start injection:"
   ]
  },
  {
   "cell_type": "code",
   "execution_count": 18,
   "metadata": {},
   "outputs": [],
   "source": [
    "for mag in (16, 17, 18):\n",
    "    repo = './repo_{}'.format(mag)\n",
    "    inject_fakes_to_calexp(repo, calexp_id, mag, injection_coords, poisson=False)"
   ]
  },
  {
   "cell_type": "markdown",
   "metadata": {},
   "source": [
    "## 3. Image Differencing\n",
    "\n",
    "Now it is time to run image differencing on injected images. Let us create a script of image differencing in the current working directory.\n",
    "\n",
    "`test_sub.sh`:\n",
    "\n",
    "\n",
    "```\n",
    "with open(f'./test_sub.sh', \"w+\") as file:\n",
    "    file.write('#！/bin/bash\\n\\n')\n",
    "    for i in (16, 17, 18):\n",
    "        line = 'imageDifferenceDriver.py ./repo_{} \\\\\\n'.format(i)\n",
    "        file.write(line)\n",
    "        line2 = '    --output ./diff_{} \\\\\\n'.format(i)\n",
    "        file.write(line2)\n",
    "        line3 = '    --id visit=181868 detector=57  -C diffimConfig_al.py \\\\\\n'\n",
    "        file.write(line3)\n",
    "        line4 = '    --clobber-config --clobber-versions --cores 4\\n'\n",
    "        file.write(line4)\n",
    "```\n",
    "\n",
    "We also need to create a setup file and a config file.\n",
    "\n",
    "`setup.sh`:\n",
    "\n",
    "```\n",
    "#！/bin/bash\n",
    "\n",
    "# For the first time, we need to cd to each repo and do scons, onece this has been achieved, we can comment out cds and scons, and only do the rest part of the file.\n",
    "\n",
    "source /cvmfs/sw.lsst.eu/linux-x86_64/lsst_distrib/v19.0.0/loadLSST.bash\n",
    "setup lsst_distrib\n",
    "\n",
    "cd dia_pipe\n",
    "scons\n",
    "cd ..\n",
    "setup -jr dia_pipe/\n",
    "\n",
    "cd obs_lsst\n",
    "scons\n",
    "cd ..\n",
    "setup -jr obs_lsst/\n",
    "\n",
    "cd ip_diffim\n",
    "scons\n",
    "cd ..\n",
    "setup -jr ip_diffim/\n",
    "\n",
    "export HDF5_USE_FILE_LOCKING=FALSE\n",
    "export OMP_NUM_THREADS=1\n",
    "\n",
    "setup lsst_distrib\n",
    "echo 'done'\n",
    "```\n",
    "\n",
    "`diffimConfig_al.py`:\n",
    "\n",
    "```\n",
    "from lsst.meas.algorithms import LoadIndexedReferenceObjectsTask\n",
    "config.imageDifference.refObjLoader.retarget(LoadIndexedReferenceObjectsTask)\n",
    "config.imageDifference.refObjLoader.load('obs_lsst/config/filterMap.py')\n",
    "config.imageDifference.kernelSourcesFromRef = True\n",
    "config.ccdKey = 'detector'\n",
    "\n",
    "\n",
    "\n",
    "config.imageDifference.doDecorrelation = True\n",
    "config.imageDifference.convolveTemplate = True\n",
    "# config.imageDifference.detection.thresholdValue = 25\n",
    "# config.imageDifference.doSpatiallyVarying = True\n",
    "```\n",
    "\n",
    "To implement image differencing, here are the steps we need to follow:\n",
    "\n",
    "- Clone [dia_pipe](https://github.com/LSSTDESC/dia_pipe), [obs_lsst](https://github.com/lsst/obs_lsst), and [ip_diffim](https://github.com/lsst/ip_diffim) from Github to the current working directory.\n",
    "- source the setup.sh file.\n",
    "- source the test_sub.sh file.\n",
    "\n",
    "Then we can have subtractions in `diff_16`, `diff_17`, and `diff_18`."
   ]
  },
  {
   "cell_type": "markdown",
   "metadata": {},
   "source": [
    "## 4. Analysis"
   ]
  },
  {
   "cell_type": "code",
   "execution_count": 20,
   "metadata": {},
   "outputs": [],
   "source": [
    "def remove_flag_src(src_table):\n",
    "    \"\"\"This function removes sources with flags.\n",
    "       src_table:      The source table(astropy table) we want to apply flag selection.\n",
    "    \"\"\"\n",
    "    FLAG_LIST = ['base_PixelFlags_flag_offimage', 'base_PixelFlags_flag_edge', 'base_PixelFlags_flag_interpolated',\n",
    "                'base_PixelFlags_flag_saturated', 'base_PixelFlags_flag_cr', 'base_PixelFlags_flag_bad',\n",
    "                'base_PixelFlags_flag_suspect', 'base_PixelFlags_flag_interpolatedCenter', 'base_PixelFlags_flag_saturatedCenter',\n",
    "                'base_PixelFlags_flag_crCenter', 'base_PixelFlags_flag_suspectCenter']\n",
    "\n",
    "    row_num = []\n",
    "    for num, src in enumerate(src_table):\n",
    "        flag_count = 0\n",
    "        for flag in FLAG_LIST:\n",
    "            # Here the data type is np.bool_, not python's built-in bool\n",
    "            if src[flag] is np.bool_(True):\n",
    "                flag_count += 1\n",
    "        if flag_count == 0:\n",
    "            row_num.append(num)\n",
    "    good_table = src_table[row_num]\n",
    "    return good_table\n",
    "\n",
    "def check_diaSrc_detecion(check_coords, src_table, half_width=4):\n",
    "    \"\"\"This function checks whether dia sources have been detected at the coordinates given\n",
    "       by the check_coords.\n",
    "       check_coords:      A list of [x, y] pixel coordinates\n",
    "       src_table:         An astropy table of dia sources(diaSrc)\n",
    "       half_width:        The half length of the search width. The total searching region is \n",
    "                          x - half_width: x + half_width, y - half_width, y + half_width\n",
    "       Returns:\n",
    "       detected_set:      A set of diaSrc indexes(ordered as the src_table) of the detected sources\n",
    "       missed_set:        A set of diaSrc indexes(ordered as the src_table) of the missed sources\n",
    "       dia_list:          A list of astropy tables. The first dimension corresponds to the indexes\n",
    "                          given from the check_coords. The second dimension collects the diaSrc table\n",
    "                          of the matched sources. If a source is missed, it corresponds to an empty list.\n",
    "                          e.g. [[diaSrc_0], [], [diaSrc_2], [],...]\n",
    "            \n",
    "    \"\"\"\n",
    "\n",
    "    detected_set = set()\n",
    "    missed_set = set()\n",
    "    dia_list = []\n",
    "\n",
    "    for i, coord in enumerate(check_coords):\n",
    "        x = coord[0]\n",
    "        y = coord[1]\n",
    "        \n",
    "        dx = np.abs(x - src_table['base_NaiveCentroid_x']) < half_width\n",
    "        dy = np.abs(y - src_table['base_NaiveCentroid_y']) < half_width\n",
    "        \n",
    "        dx_and_dy = np.logical_and(dx, dy)\n",
    "        # np.where returns a tuple, only the first element is the index array\n",
    "        row_indexs = np.where(dx_and_dy)[0]\n",
    "        dia_list.append(src_table[row_indexs])\n",
    "        if row_indexs.size > 0:\n",
    "            detected_set.add(i)\n",
    "        else:\n",
    "            missed_set.add(i)\n",
    "        \n",
    "    return detected_set, missed_set, dia_list"
   ]
  },
  {
   "cell_type": "markdown",
   "metadata": {},
   "source": [
    "In the next cell we calculate the efficiency of the injection. (efficiency = detected sources / injected sources). We also collect the diaSrc rows of each detected source."
   ]
  },
  {
   "cell_type": "code",
   "execution_count": 32,
   "metadata": {},
   "outputs": [],
   "source": [
    "efficiency = np.zeros(3)\n",
    "recovery_list = []\n",
    "for i, mag in enumerate((16, 17, 18)):\n",
    "    repo = './diff_{}'.format(mag)\n",
    "    \n",
    "    butler = Butler(repo)\n",
    "    src_table = butler.get('deepDiff_diaSrc', dataId=calexp_id)\n",
    "    src_astropy = src_table.asAstropy()\n",
    "    \n",
    "    # We can also apply the flag selection here.\n",
    "    # src_astropy = remove_flag_src(src_astropy)\n",
    "    \n",
    "    # Convert the injected magnitude to InstFlux for comparison to detections.\n",
    "    dia_calib = butler.get('deepDiff_differenceExp_photoCalib', dataId=calexp_id)\n",
    "    flux = dia_calib.magnitudeToInstFlux(mag)\n",
    "    \n",
    "    # Check detection\n",
    "    diff_detected, diff_missed, dia_list = check_diaSrc_detecion(injection_coords, src_astropy, half_width=4)\n",
    "    \n",
    "    # Calculate the efficiency\n",
    "    efficiency[i] = len(diff_detected) / (len(diff_detected) + len(diff_missed))\n",
    "    \n",
    "    # Create triplets to save the injected flux and the measured flux (injected_flux, measured_flux, measured_flux_err)\n",
    "    # Sources correspond to no detection or multiple detections are ignored.\n",
    "    for i in range(len(dia_list)):\n",
    "        if len(dia_list[i]) == 0 or len(dia_list[i]) > 1:\n",
    "            continue\n",
    "        flux_triplet = [\n",
    "            flux, dia_list[i][0]['base_PsfFlux_instFlux'], dia_list[i][0]['base_PsfFlux_instFluxErr']\n",
    "        ]\n",
    "        recovery_list.append(flux_triplet)"
   ]
  },
  {
   "cell_type": "markdown",
   "metadata": {},
   "source": [
    "Here is the efficiency plot"
   ]
  },
  {
   "cell_type": "code",
   "execution_count": 35,
   "metadata": {},
   "outputs": [
    {
     "data": {
      "text/plain": [
       "Text(0, 0.5, 'efficiency')"
      ]
     },
     "execution_count": 35,
     "metadata": {},
     "output_type": "execute_result"
    },
    {
     "data": {
      "image/png": "[encoded data removed]",
      "text/plain": [
       "<Figure size 432x288 with 1 Axes>"
      ]
     },
     "metadata": {
      "needs_background": "light"
     },
     "output_type": "display_data"
    }
   ],
   "source": [
    "plt.plot((16,17,18), efficiency)\n",
    "plt.xlabel('injected mag', size=15)\n",
    "plt.ylabel('efficiency', size=15)"
   ]
  },
  {
   "cell_type": "markdown",
   "metadata": {},
   "source": [
    "The efficiency looks good. Next, we plot the scatter of the detected flux vs. the injected flux."
   ]
  },
  {
   "cell_type": "code",
   "execution_count": 36,
   "metadata": {},
   "outputs": [
    {
     "data": {
      "image/png": "[encoded data removed]",
      "text/plain": [
       "<Figure size 360x360 with 1 Axes>"
      ]
     },
     "metadata": {
      "needs_background": "light"
     },
     "output_type": "display_data"
    }
   ],
   "source": [
    "flux_triplet = np.array(recovery_list)\n",
    "flux_triplet = flux_triplet.transpose()\n",
    "\n",
    "fig, ax = plt.subplots(figsize=((5,5)))\n",
    "ax.scatter(flux_triplet[0], flux_triplet[1], marker='.')\n",
    "\n",
    "lims = [\n",
    "    np.min([ax.get_xlim(), ax.get_ylim()]),  \n",
    "    np.max([ax.get_xlim(), ax.get_ylim()]),  \n",
    "]\n",
    "ax.plot(lims, lims, '-', alpha=0.5)\n",
    "ax.set_xlim(lims)\n",
    "ax.set_ylim(lims)\n",
    "\n",
    "ax.set_xlabel('injected flux', size=15)\n",
    "ax.set_ylabel('detected flux', size=15)\n",
    "ax.set_title('flux scatter', size=15)\n",
    "plt.grid()"
   ]
  },
  {
   "cell_type": "markdown",
   "metadata": {},
   "source": [
    "We can also plot the distribution of $\\frac{\\Delta Flux}{\\sigma} (\\Delta Flux= detectedInstFlux - injectedInstFlux$). $\\sigma$ is the detected InstFlux error. We expect a standard normal distribution."
   ]
  },
  {
   "cell_type": "code",
   "execution_count": 37,
   "metadata": {},
   "outputs": [
    {
     "data": {
      "text/plain": [
       "<matplotlib.legend.Legend at 0x2aab2b227128>"
      ]
     },
     "execution_count": 37,
     "metadata": {},
     "output_type": "execute_result"
    },
    {
     "data": {
      "image/png": "[encoded data removed]",
      "text/plain": [
       "<Figure size 432x288 with 1 Axes>"
      ]
     },
     "metadata": {
      "needs_background": "light"
     },
     "output_type": "display_data"
    }
   ],
   "source": [
    "delta_flux = (flux_triplet[1] - flux_triplet[0]) / flux_triplet[2]\n",
    "delta_flux = delta_flux.reshape(-1,1)\n",
    "\n",
    "plt.figure()\n",
    "\n",
    "# Plot the distribution of the data\n",
    "plt.hist(delta_flux, density=True, bins=20)\n",
    "plt.title(r'$\\frac{\\Delta Flux}{\\sigma}$', size=15)\n",
    "plt.xlim(-20, 20)\n",
    "\n",
    "# Plot a standard normal distribuiton\n",
    "rv10 = stats.norm(loc=0., scale=1.0)\n",
    "x = np.arange(-5,5.1,0.1)\n",
    "plt.plot(x, rv10.pdf(x), label='sigma=1.0')\n",
    "plt.legend()"
   ]
  },
  {
   "cell_type": "code",
   "execution_count": 38,
   "metadata": {},
   "outputs": [
    {
     "name": "stdout",
     "output_type": "stream",
     "text": [
      "15\n"
     ]
    }
   ],
   "source": [
    "print(len(delta_flux))"
   ]
  },
  {
   "cell_type": "markdown",
   "metadata": {},
   "source": [
    "It seems that we do not have enough data for statistics."
   ]
  },
  {
   "cell_type": "markdown",
   "metadata": {},
   "source": [
    "## 5. Postage Stamp"
   ]
  },
  {
   "cell_type": "code",
   "execution_count": 50,
   "metadata": {},
   "outputs": [],
   "source": [
    "def make_cutout(exposure, x, y, cutout_size=60):\n",
    "    \"\"\"Make a cutout exposure at (x, y) pixel coordinate.\n",
    "       exposure:      lsst.afw.image.exposure.exposure.ExposureF\n",
    "       x:             x pixel coordinate\n",
    "       y:             y pixel coordinate\n",
    "       cutout_size:   Width(in pixel unit) of the postage stamp , default value is 60\n",
    "    \"\"\"\n",
    "    cutout_extent = geom.ExtentI(cutout_size, cutout_size)\n",
    "    radec = geom.SpherePoint(exposure.getWcs().pixelToSky(x, y))\n",
    "    cutout_image = exposure.getCutout(radec, cutout_extent)\n",
    "    return cutout_image\n",
    "\n",
    "def display_exposure(exposure, x, y, cutout_size=60, coord_list=None, scale=None, frame=None,\n",
    "                 show_colorbar=False, title=None, save_name=None):\n",
    "    \"\"\"This function displays the postage stamp of an exposure. The center of the postage stamp\n",
    "       is marked by a red circle. We can also overlay blue circles corresponding to the coordinaes\n",
    "       given in the coord_list on the postage stamp.\n",
    "       exposure:       lsst.afw.image.exposure.exposure.ExposureF\n",
    "       x:              x pixel coordinate\n",
    "       y:              y pixel coordinate\n",
    "       cutout_size:    Width(in pixel unit) of the postage stamp , default value is 60\n",
    "       coord_list:     A list of coordinates where we can overlay blue circles on the postage stamp\n",
    "       scale:          [min_val, max_val], set the min value and the max value for display,\n",
    "                       default is None\n",
    "       frame:          The frame of the afwDisplay.Display object\n",
    "       show_colorbar:  Show colorbar of the postage stamp, default is False\n",
    "       title:          Title of the postage stamp\n",
    "       save_name:      If provided, the postage stamp will be saved as 'save_name.png' in the current\n",
    "                       working directory, default if None\n",
    "    \"\"\"\n",
    "    cutout_extent = geom.ExtentI(cutout_size, cutout_size)\n",
    "    radec = geom.SpherePoint(exposure.getWcs().pixelToSky(x, y))\n",
    "    cutout_image = exposure.getCutout(radec, cutout_extent)\n",
    "    \n",
    "    xy = geom.PointI(x, y)\n",
    "    display = afwDisplay.Display(frame=frame, backend='matplotlib')\n",
    "    if scale:\n",
    "        display.scale(\"linear\", scale[0], scale[1])\n",
    "    else:\n",
    "        display.scale(\"linear\", \"zscale\")\n",
    "    display.mtv(cutout_image)\n",
    "    if show_colorbar:\n",
    "        display.show_colorbar()\n",
    "    display.dot('o', xy.getX(), xy.getY(), ctype='red')\n",
    "    \n",
    "    for coord in coord_list:\n",
    "        coord_x, coord_y = coord\n",
    "        display.dot('o', coord_x, coord_y, ctype='blue')\n",
    "        \n",
    "    \n",
    "    plt.title(title)\n",
    "    if save_name:\n",
    "        plt.savefig(save_name, dpi=500)"
   ]
  },
  {
   "cell_type": "markdown",
   "metadata": {},
   "source": [
    "We can display the postage stamp of the difference image at centered at the injection position. We also want to overlay the detected position on that postage stamp. This can be achieved using the following code."
   ]
  },
  {
   "cell_type": "code",
   "execution_count": 39,
   "metadata": {},
   "outputs": [],
   "source": [
    "# Suppose we want to make a postage stamp of the injection with mag = 16\n",
    "repo = './diff_16'\n",
    "butler = Butler(repo)"
   ]
  },
  {
   "cell_type": "code",
   "execution_count": 44,
   "metadata": {},
   "outputs": [],
   "source": [
    "src_table = butler.get('deepDiff_diaSrc', dataId=calexp_id)\n",
    "src_astropy = src_table.asAstropy()\n",
    "exposure = butler.get('deepDiff_differenceExp', calexp_id)"
   ]
  },
  {
   "cell_type": "code",
   "execution_count": 45,
   "metadata": {},
   "outputs": [],
   "source": [
    "diff_detected, diff_missed, dia_list = check_diaSrc_detecion(injection_coords, src_astropy, half_width=4)"
   ]
  },
  {
   "cell_type": "code",
   "execution_count": 47,
   "metadata": {},
   "outputs": [
    {
     "data": {
      "text/plain": [
       "({0, 1, 2, 3, 4}, set())"
      ]
     },
     "execution_count": 47,
     "metadata": {},
     "output_type": "execute_result"
    }
   ],
   "source": [
    "diff_detected, diff_missed"
   ]
  },
  {
   "cell_type": "code",
   "execution_count": 55,
   "metadata": {},
   "outputs": [
    {
     "data": {
      "image/png": "[encoded data removed]",
      "text/plain": [
       "<Figure size 432x288 with 1 Axes>"
      ]
     },
     "metadata": {
      "needs_background": "light"
     },
     "output_type": "display_data"
    }
   ],
   "source": [
    "# Suppose we want to make a postage stamp at the first injection coordinate\n",
    "idx = 0\n",
    "\n",
    "# get detected coordinates\n",
    "coords_list = []\n",
    "for row in dia_list[idx]:\n",
    "    detected_x, detected_y = row['base_NaiveCentroid_x'], row['base_NaiveCentroid_y']\n",
    "    coords_list.append([detected_x, detected_y])\n",
    "    \n",
    "x, y = injection_coords[idx][0], injection_coords[idx][1]\n",
    "display_exposure(exposure, x, y, cutout_size=100, coord_list=coords_list, show_colorbar=False,\n",
    "                title='diff')"
   ]
  },
  {
   "cell_type": "markdown",
   "metadata": {},
   "source": [
    "The injected position is marked by the red circle, the detected position is marked by the blue circle."
   ]
  }
 ],
 "metadata": {
  "kernelspec": {
   "display_name": "desc-dia",
   "language": "python",
   "name": "desc-dia"
  },
  "language_info": {
   "codemirror_mode": {
    "name": "ipython",
    "version": 3
   },
   "file_extension": ".py",
   "mimetype": "text/x-python",
   "name": "python",
   "nbconvert_exporter": "python",
   "pygments_lexer": "ipython3",
   "version": "3.7.2"
  }
 },
 "nbformat": 4,
 "nbformat_minor": 4
}
