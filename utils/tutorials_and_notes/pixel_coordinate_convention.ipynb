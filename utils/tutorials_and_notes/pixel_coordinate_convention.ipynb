{
 "cells": [
  {
   "cell_type": "markdown",
   "id": "9025899f-1f9a-468c-8beb-c755c1dbf17c",
   "metadata": {},
   "source": [
    "# Image Coordinate and Physical Coordinate\n",
    "This notebooks discuss the indexing convension of the image coordinate and physical coordinate (defined in DS9) of DC2 dataset."
   ]
  },
  {
   "cell_type": "code",
   "execution_count": 12,
   "id": "f5b32d0f-0f7d-4397-a726-9f9a3ed280ea",
   "metadata": {},
   "outputs": [],
   "source": [
    "from lsst.daf.persistence import Butler\n",
    "import lsst.geom as geom"
   ]
  },
  {
   "cell_type": "code",
   "execution_count": null,
   "id": "92be29b0-6246-4602-961f-a583ee0d091f",
   "metadata": {},
   "outputs": [],
   "source": []
  },
  {
   "cell_type": "code",
   "execution_count": null,
   "id": "8134d4f7-6625-43f8-8d82-d74a08e936a0",
   "metadata": {},
   "outputs": [],
   "source": []
  },
  {
   "cell_type": "code",
   "execution_count": null,
   "id": "0d24d343-404f-4bc8-811d-68faa53684f5",
   "metadata": {},
   "outputs": [],
   "source": []
  },
  {
   "cell_type": "markdown",
   "id": "f8035370-7a4a-434a-a856-f05cd5bff9b4",
   "metadata": {},
   "source": [
    "## coadd"
   ]
  },
  {
   "cell_type": "code",
   "execution_count": 16,
   "id": "61a07b79-946c-4c26-83f1-0166a61d578b",
   "metadata": {},
   "outputs": [
    {
     "name": "stdout",
     "output_type": "stream",
     "text": [
      "CameraMapper INFO: Loading exposure registry from /global/cfs/cdirs/lsst/shared/DC2-prod/Run2.2i/desc_dm_drp/v19.0.0/registry.sqlite3\n",
      "CameraMapper INFO: Loading calib registry from /global/cfs/cdirs/lsst/shared/DC2-prod/Run2.2i/desc_dm_drp/v19.0.0/CALIB/calibRegistry.sqlite3\n",
      "CameraMapper INFO: Loading calib registry from /global/cfs/cdirs/lsst/shared/DC2-prod/Run2.2i/desc_dm_drp/v19.0.0/CALIB/calibRegistry.sqlite3\n",
      "LsstCamMapper WARN: Unable to find valid calib root directory\n"
     ]
    }
   ],
   "source": [
    "# get coadd Butler\n",
    "coadd_repo = '/global/cfs/projectdirs/lsst/production/DC2_ImSim/Run2.2i/desc_dm_drp/v19.0.0-v1/rerun/run2.2i-coadd-wfd-dr6-v1-grizy'\n",
    "coadd_butler = Butler(coadd_repo)\n",
    "coadd_id = {'tract': 4639, 'patch': '1,1', 'filter': 'i'}\n",
    "coadd_exp = coadd_butler.get('deepCoadd', coadd_id)\n",
    "# coadd_exp.writeFits('coadd.fits')"
   ]
  },
  {
   "cell_type": "markdown",
   "id": "9b1bf740-76a7-4a23-869c-0cb990684007",
   "metadata": {},
   "source": [
    "The image coordinate and physical coordinate are not always the same for DC2 images. The image coordinate is indexed as 1, 2, ... in x and y direction. The physical coordinate, however, does not always start from 1. (e.g. Coadds with patch number deviates from '0,0' have physical coordinate starts about 4000)\n",
    "\n",
    "The question is which coordinate is used by the stack functions.\n",
    "\n",
    "We explore this question using a coadd exposure with patch '1,1'.\n",
    "\n",
    "Below is the information from DS9."
   ]
  },
  {
   "cell_type": "markdown",
   "id": "f49b1a07-263b-4e84-b8d5-21f139a60ac0",
   "metadata": {},
   "source": [
    "|position                       |          image coordinate (x, y)      |        physical coordinate  (x, y)      |      sky (ra, dec)    |\n",
    "|lower left corner              |                 (0, 0)                |                (3900, 3900)             |     (56.95, -31.05)   |\n",
    "|image center                   |                 (2100, 2100)          |               (6000, 6000)              |     (56.82, -30.93)   |"
   ]
  },
  {
   "cell_type": "code",
   "execution_count": 8,
   "id": "5d776c5f-0a49-4b3b-bd3b-20f027a245fd",
   "metadata": {},
   "outputs": [
    {
     "name": "stdout",
     "output_type": "stream",
     "text": [
      "3900 3900\n"
     ]
    }
   ],
   "source": [
    "# The beginX and beginY from bbox are the offsets\n",
    "coadd_bbox = coadd_exp.getBBox()\n",
    "coadd_begin_x = coadd_bbox.beginX\n",
    "coadd_begin_y = coadd_bbox.beginY\n",
    "print(coadd_begin_x, coadd_begin_y)"
   ]
  },
  {
   "cell_type": "code",
   "execution_count": 9,
   "id": "b92a3e84-93c8-4870-8bff-ab060c7aaf59",
   "metadata": {},
   "outputs": [
    {
     "name": "stdout",
     "output_type": "stream",
     "text": [
      "FITS standard SkyWcs:\n",
      "Sky Origin: (56.3033175355, -30.4958677686)\n",
      "Pixel Origin: (13999, 13999)\n",
      "Pixel Scale: 0.2 arcsec/pixel\n"
     ]
    }
   ],
   "source": [
    "# It is unclear what is the pixel origin from the coadd_wcs\n",
    "coadd_wcs = coadd_exp.getWcs()\n",
    "print(coadd_wcs)"
   ]
  },
  {
   "cell_type": "code",
   "execution_count": 10,
   "id": "a0df7f5e-c618-48bb-a00c-d682fd75f2b9",
   "metadata": {},
   "outputs": [],
   "source": [
    "def radec2xy(ra, dec, wcs):\n",
    "    radec = geom.SpherePoint(ra * geom.degrees, dec * geom.degrees)\n",
    "    xy = geom.PointI(wcs.skyToPixel(radec))\n",
    "    return xy.getX(), xy.getY()"
   ]
  },
  {
   "cell_type": "code",
   "execution_count": 15,
   "id": "620dbbe6-1989-453c-aa45-60d24f824143",
   "metadata": {},
   "outputs": [],
   "source": [
    "# wcs.skyToPixel returns the physical coordinate, if we want to use the image coordinate, we need to subtract the offset."
   ]
  },
  {
   "cell_type": "code",
   "execution_count": 13,
   "id": "f0787a16-ff84-408d-a06b-1d2facbe5d9b",
   "metadata": {},
   "outputs": [
    {
     "data": {
      "text/plain": [
       "(4026, 3995)"
      ]
     },
     "execution_count": 13,
     "metadata": {},
     "output_type": "execute_result"
    }
   ],
   "source": [
    "radec2xy(56.95, -31.05, coadd_wcs)"
   ]
  },
  {
   "cell_type": "code",
   "execution_count": 14,
   "id": "7ce7a908-651f-41e2-8838-1782fc27120a",
   "metadata": {},
   "outputs": [
    {
     "data": {
      "text/plain": [
       "(6021, 6166)"
      ]
     },
     "execution_count": 14,
     "metadata": {},
     "output_type": "execute_result"
    }
   ],
   "source": [
    "radec2xy(56.82, -30.93, coadd_wcs)"
   ]
  },
  {
   "cell_type": "code",
   "execution_count": null,
   "id": "b8c02f91-84f3-4108-b9c4-fb038d797caf",
   "metadata": {},
   "outputs": [],
   "source": []
  },
  {
   "cell_type": "markdown",
   "id": "a4a97ab3-0a28-41dc-9a63-153ee35912b8",
   "metadata": {},
   "source": [
    "## calexp"
   ]
  },
  {
   "cell_type": "code",
   "execution_count": 17,
   "id": "329bd2c1-4614-48d4-a264-749590f56ffc",
   "metadata": {},
   "outputs": [
    {
     "name": "stdout",
     "output_type": "stream",
     "text": [
      "CameraMapper INFO: Loading exposure registry from /global/cfs/cdirs/lsst/shared/DC2-prod/Run2.2i/desc_dm_drp/v19.0.0/registry.sqlite3\n",
      "CameraMapper INFO: Loading calib registry from /global/cfs/cdirs/lsst/shared/DC2-prod/Run2.2i/desc_dm_drp/v19.0.0/CALIB/calibRegistry.sqlite3\n",
      "CameraMapper INFO: Loading calib registry from /global/cfs/cdirs/lsst/shared/DC2-prod/Run2.2i/desc_dm_drp/v19.0.0/CALIB/calibRegistry.sqlite3\n"
     ]
    }
   ],
   "source": [
    "# get calexp Butler\n",
    "calexp_repo = '/global/cfs/projectdirs/lsst/production/DC2_ImSim/Run2.2i/desc_dm_drp/v19.0.0-v1/rerun/run2.2i-calexp-v1'\n",
    "calexp_butler = Butler(calexp_repo)\n",
    "calexp_id = {'visit': 1013665, 'detector': 79, 'filter': 'i'}\n",
    "calexp_exp = calexp_butler.get('calexp', calexp_id)\n",
    "# calexp_exp.writeFits('calexp.fits')"
   ]
  },
  {
   "cell_type": "markdown",
   "id": "a18b92ac-f7a1-41d5-b730-50f4483b00f0",
   "metadata": {},
   "source": [
    "We use a calexp exposure for comparison"
   ]
  },
  {
   "cell_type": "markdown",
   "id": "413d3ca3-c3c2-4f23-a288-6a36a669fcdd",
   "metadata": {},
   "source": [
    "Information from DS9.\n",
    "|Position                       |        image coordinate (x, y)        |        physical coordinate  (x, y)      |      sky (ra, dec)    |\n",
    "|lower left corner              |                 (14.8, 21.6)          |                (14.8, 21.6)             |     (56.927, -31.057) |\n",
    "|image center                   |                 (2047, 2204)          |               (2047, 2204)              |     (57.08, -31.16)   |"
   ]
  },
  {
   "cell_type": "code",
   "execution_count": 19,
   "id": "46a0ab50-ce49-46f8-901c-96155f13f0ba",
   "metadata": {},
   "outputs": [
    {
     "name": "stdout",
     "output_type": "stream",
     "text": [
      "0 0\n"
     ]
    }
   ],
   "source": [
    "# No offset. \n",
    "calexp_bbox = calexp_exp.getBBox()\n",
    "calexp_begin_x = calexp_bbox.beginX\n",
    "calexp_begin_y = calexp_bbox.beginY\n",
    "print(calexp_begin_x, calexp_begin_y)"
   ]
  },
  {
   "cell_type": "code",
   "execution_count": 20,
   "id": "53882b99-d5f4-42b7-af06-f538d4816ef2",
   "metadata": {},
   "outputs": [
    {
     "name": "stdout",
     "output_type": "stream",
     "text": [
      "FITS standard SkyWcs:\n",
      "Sky Origin: (57.0765756225, -31.1436519190)\n",
      "Pixel Origin: (2098.29, 1852.97)\n",
      "Pixel Scale: 0.199748 arcsec/pixel\n"
     ]
    }
   ],
   "source": [
    "# It seems that the pixel origin for calexp exposure represents the center.\n",
    "calexp_wcs = calexp_exp.getWcs()\n",
    "print(calexp_wcs)"
   ]
  },
  {
   "cell_type": "code",
   "execution_count": 26,
   "id": "f0b32e91-340a-4551-afde-a9b5491d4809",
   "metadata": {},
   "outputs": [],
   "source": [
    "# wcs.skyToPixel returns the physical coordinate, which is the same as the image coordinate"
   ]
  },
  {
   "cell_type": "code",
   "execution_count": 24,
   "id": "6a2f02d8-0086-4834-92c6-86b8cb594184",
   "metadata": {},
   "outputs": [
    {
     "data": {
      "text/plain": [
       "(14, 4)"
      ]
     },
     "execution_count": 24,
     "metadata": {},
     "output_type": "execute_result"
    }
   ],
   "source": [
    "radec2xy(56.927, -31.057, calexp_wcs)"
   ]
  },
  {
   "cell_type": "code",
   "execution_count": 25,
   "id": "34a8b941-1af8-46ec-b144-88337440c6f3",
   "metadata": {},
   "outputs": [
    {
     "data": {
      "text/plain": [
       "(2112, 2152)"
      ]
     },
     "execution_count": 25,
     "metadata": {},
     "output_type": "execute_result"
    }
   ],
   "source": [
    "radec2xy(57.08, -31.16, calexp_wcs)"
   ]
  },
  {
   "cell_type": "code",
   "execution_count": null,
   "id": "b026ff03-9377-441a-89b9-457410809e45",
   "metadata": {},
   "outputs": [],
   "source": []
  }
 ],
 "metadata": {
  "kernelspec": {
   "display_name": "desc-stack-weekly-latest",
   "language": "python",
   "name": "desc-stack-weekly-latest"
  },
  "language_info": {
   "codemirror_mode": {
    "name": "ipython",
    "version": 3
   },
   "file_extension": ".py",
   "mimetype": "text/x-python",
   "name": "python",
   "nbconvert_exporter": "python",
   "pygments_lexer": "ipython3",
   "version": "3.8.8"
  }
 },
 "nbformat": 4,
 "nbformat_minor": 5
}
