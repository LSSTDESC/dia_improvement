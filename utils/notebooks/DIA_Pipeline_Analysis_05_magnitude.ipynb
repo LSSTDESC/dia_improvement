{
 "cells": [
  {
   "cell_type": "code",
   "execution_count": 1,
   "id": "73ccb785-e1c3-4c0b-8fa1-4bb792ed0d70",
   "metadata": {
    "tags": []
   },
   "outputs": [],
   "source": [
    "import lsst.afw.image as afwImage\n",
    "import glob\n",
    "import sqlite3\n",
    "import numpy as np\n",
    "import pandas as pd\n",
    "import matplotlib.pyplot as plt\n",
    "from scipy.stats import sigmaclip"
   ]
  },
  {
   "cell_type": "code",
   "execution_count": 2,
   "id": "d980741b-af1e-4bec-933d-4b810ffe3f1f",
   "metadata": {
    "tags": []
   },
   "outputs": [
    {
     "name": "stdout",
     "output_type": "stream",
     "text": [
      "/pscratch/sd/s/shl159/projects/update_plots/dia_improvement/devel\n"
     ]
    }
   ],
   "source": [
    "!pwd"
   ]
  },
  {
   "cell_type": "code",
   "execution_count": null,
   "id": "d3e42498-4956-4798-900b-cd04ed743f9d",
   "metadata": {},
   "outputs": [],
   "source": []
  },
  {
   "cell_type": "code",
   "execution_count": 3,
   "id": "d6b61dfd-7631-4c3f-ac7d-e0756d56af0f",
   "metadata": {
    "tags": []
   },
   "outputs": [],
   "source": [
    "data_dir = '/pscratch/sd/s/shl159/Cori/projects/fake_injection_v23/dia_improvement/devel/data'\n",
    "calexp_pattern = f'{data_dir}/patch_0to6/injection/*/fake_20/calexp/*/*/*.fits'\n"
   ]
  },
  {
   "cell_type": "code",
   "execution_count": 4,
   "id": "1201b64c-fdbb-4806-804a-d24cd7a13e3a",
   "metadata": {
    "tags": []
   },
   "outputs": [],
   "source": [
    "\"\"\"\n",
    "sky_mag = []\n",
    "calexp_path_list = glob.glob(calexp_pattern)\n",
    "print(len(calexp_path_list))\n",
    "\"\"\";"
   ]
  },
  {
   "cell_type": "code",
   "execution_count": 5,
   "id": "72812ef0-3dc1-4899-b5fa-761661304f1b",
   "metadata": {
    "tags": []
   },
   "outputs": [],
   "source": [
    "\"\"\"\n",
    "unique_calexp = []\n",
    "for path in calexp_path_list:\n",
    "    unique_calexp.append(path.split('/')[-1])\n",
    "unique_calexp = np.unique(unique_calexp)\n",
    "print(len(unique_calexp))\n",
    "\"\"\";\n",
    "# We use all calexp paths including duplicate paths."
   ]
  },
  {
   "cell_type": "code",
   "execution_count": null,
   "id": "c0baaa2d-80fc-489a-ae31-80b9ae58ecff",
   "metadata": {
    "tags": []
   },
   "outputs": [],
   "source": []
  },
  {
   "cell_type": "code",
   "execution_count": 6,
   "id": "c7123459-7341-47a2-8a08-a54e81bdde58",
   "metadata": {
    "tags": []
   },
   "outputs": [],
   "source": [
    "\"\"\"\n",
    "sky_mag_list = []\n",
    "for idx, calexp_path in enumerate(calexp_path_list):\n",
    "    calexp_exp = afwImage.ExposureF(calexp_path)\n",
    "    photo_calib = calexp_exp.getPhotoCalib()\n",
    "    var = calexp_exp.getVariance().array\n",
    "    var = var[~np.isnan(var)]\n",
    "    clipped, _, _ = sigmaclip(var, low=5, high=5)\n",
    "    median_of_var = np.median(clipped)\n",
    "    # calexp pixel scale (arcsec/pixel) 0.2 arcsec\n",
    "    var_per_arcsec2 = median_of_var / 0.2 / 0.2\n",
    "    var_mag = photo_calib.instFluxToMagnitude(var_per_arcsec2)\n",
    "    sky_mag_list.append(var_mag)\n",
    "    \n",
    "sky_mag_table = pd.DataFrame({'calexp_path': calexp_path_list, 'sky_mag': sky_mag_list})\n",
    "sky_mag_table.to_csv(f'{data_dir}/table/gal_4639/sky_mag.csv', index=False)\n",
    "\"\"\";"
   ]
  },
  {
   "cell_type": "code",
   "execution_count": null,
   "id": "19ea2bab-bdbd-4d9f-b966-b7cd965f9f98",
   "metadata": {
    "tags": []
   },
   "outputs": [],
   "source": []
  },
  {
   "cell_type": "code",
   "execution_count": null,
   "id": "943afae4-fce5-4a2d-9985-a3e9683ed9f3",
   "metadata": {
    "tags": []
   },
   "outputs": [],
   "source": []
  },
  {
   "cell_type": "code",
   "execution_count": null,
   "id": "b251146d-aa56-4563-b0a2-1fa1bff58519",
   "metadata": {
    "tags": []
   },
   "outputs": [],
   "source": []
  },
  {
   "cell_type": "markdown",
   "id": "6baf4a77-544f-4393-86e4-39fd3d9b6265",
   "metadata": {},
   "source": [
    "#### Magnitude"
   ]
  },
  {
   "cell_type": "markdown",
   "id": "dd6c58b7-e1c2-4486-a77d-08f1e8d7a021",
   "metadata": {},
   "source": [
    "run get_detected sources script first"
   ]
  },
  {
   "cell_type": "code",
   "execution_count": null,
   "id": "000cb8db-d9f6-451b-a4d0-5a1afcce3b6e",
   "metadata": {
    "tags": []
   },
   "outputs": [],
   "source": []
  },
  {
   "cell_type": "code",
   "execution_count": 7,
   "id": "3422f888-e0f9-47d3-9892-008506dac122",
   "metadata": {},
   "outputs": [],
   "source": [
    "\"\"\"\n",
    "sky_mag_table = pd.read_csv(f'{data_dir}/table/gal_4639/sky_mag.csv')\n",
    "# We cannot apply sigmaclip to magnitude\n",
    "detected_sources = pd.read_csv('./data/table/gal_4639/detected_sources_default.csv')\n",
    "\n",
    "fig, ax = plt.subplots(figsize=(8, 6))\n",
    "threshold = 5\n",
    "color_list = ['r', 'orange', 'magenta', 'g', 'blue']\n",
    "tick_labels = ['', '', '',\n",
    "               '20', '',  '',  '',  '',  '',  '',  '',  '',  '',  \n",
    "               '21', '',  '',  '',  '',  '',  '',  '',  '',  '', \n",
    "               '22', '',  '',  '',  '',  '',  '',  '',  '',  '',\n",
    "               '23',  '',  '',  '',  '',  '',  '',  '',  '',  '',\n",
    "               '24', '', '', '']\n",
    "for i, mag in enumerate([20, 21, 22, 23, 24]):\n",
    "    color = color_list[i]\n",
    "    detected_mag = detected_sources.loc[detected_sources.fake_mag == mag].detected_mag\n",
    "    ax.hist(detected_mag, color=color, histtype='step', bins=np.arange(19.65, 24.35, 0.1), align='mid');\n",
    "    ax.axvline(x=mag, color=color, linestyle='dashed', label=f'Injected Mag: {mag}')\n",
    "    o_one_mag_frac = (np.abs(detected_mag - mag) <= 0.1).sum() / len(detected_mag)\n",
    "    b_01_mag_frac = ( (detected_mag - mag) > 0.1 ).sum() / len(detected_mag)\n",
    "    s_01_mag_frac = ( (detected_mag - mag) < -0.1 ).sum() / len(detected_mag)\n",
    "    print(f'true mag: {mag}, fraction within 0.1 mag: {o_one_mag_frac}, > 0.1 frac: {b_01_mag_frac}, < 0.1 frac: {s_01_mag_frac}')\n",
    "    ax.set_yscale('log')\n",
    "    ax.legend(fontsize=10)\n",
    "ax.hist(sky_mag_table.loc[:, 'sky_mag'], bins=np.arange(19.65, 24.35, 0.1), color='cyan', align='mid', label='Sky Mag')\n",
    "ax.legend(fontsize=10)\n",
    "ax.set_xticks(np.arange(19.7, 24.4, 0.1))\n",
    "ax.set_xticklabels(tick_labels)\n",
    "ax.set_xlabel('Detected Magnitude', size=14)\n",
    "ax.set_ylabel('Count', size=14)\n",
    "#plt.savefig('./plots_and_tables/detected_mag.pdf')\n",
    "\"\"\";"
   ]
  },
  {
   "cell_type": "code",
   "execution_count": null,
   "id": "8b7d4ea3-f5f2-41c7-bdd1-413706268456",
   "metadata": {},
   "outputs": [],
   "source": []
  },
  {
   "cell_type": "code",
   "execution_count": 9,
   "id": "923f8f5d-28bb-49c9-84b5-5452a922b02e",
   "metadata": {},
   "outputs": [
    {
     "name": "stdout",
     "output_type": "stream",
     "text": [
      "true mag: 20, fraction within 0.1 mag: 0.9983432736911863, > 0.1 frac: 0.0016567263088137839, < 0.1 frac: 0.0\n",
      "true mag: 21, fraction within 0.1 mag: 0.9945346141106327, > 0.1 frac: 0.005299768135144088, < 0.1 frac: 0.00016561775422325274\n",
      "true mag: 22, fraction within 0.1 mag: 0.9064831702868512, > 0.1 frac: 0.06134969325153374, < 0.1 frac: 0.03216713646161499\n",
      "true mag: 23, fraction within 0.1 mag: 0.5738381482146061, > 0.1 frac: 0.19217656558406604, < 0.1 frac: 0.23380584963215503\n",
      "true mag: 24, fraction within 0.1 mag: 0.0821917808219178, > 0.1 frac: 0.0, < 0.1 frac: 0.9178082191780822\n"
     ]
    },
    {
     "data": {
      "image/png": "[encoded data removed]",
      "text/plain": [
       "<Figure size 800x600 with 1 Axes>"
      ]
     },
     "metadata": {},
     "output_type": "display_data"
    }
   ],
   "source": [
    "# We cannot apply sigmaclip to magnitude\n",
    "detected_sources = pd.read_csv('./data/table/gal_4639/detected_sources_default.csv')\n",
    "\n",
    "fig, ax = plt.subplots(figsize=(8, 6))\n",
    "threshold = 5\n",
    "CBCC = ['#377eb8', '#ff7f00', '#4daf4a', '#f781bf', '#a65628', '#984ea3', '#999999', '#e41a1c', '#dede00']\n",
    "color_list = [CBCC[0], CBCC[6], CBCC[7], CBCC[3], CBCC[4]]\n",
    "tick_labels = ['', '', '',\n",
    "               '20', '',  '',  '',  '',  '',  '',  '',  '',  '',  \n",
    "               '21', '',  '',  '',  '',  '',  '',  '',  '',  '', \n",
    "               '22', '',  '',  '',  '',  '',  '',  '',  '',  '',\n",
    "               '23',  '',  '',  '',  '',  '',  '',  '',  '',  '',\n",
    "               '24', '', '', '']\n",
    "for i, mag in enumerate([20, 21, 22, 23, 24]):\n",
    "    color = color_list[i]\n",
    "    detected_mag = detected_sources.loc[detected_sources.fake_mag == mag].detected_mag\n",
    "    ax.hist(detected_mag, color=color, histtype='step', bins=np.arange(19.65, 24.35, 0.1), align='mid');\n",
    "    ax.axvline(x=mag, color=color, linestyle='dashed', label=f'Injected Mag = {mag}')\n",
    "    o_one_mag_frac = (np.abs(detected_mag - mag) <= 0.1).sum() / len(detected_mag)\n",
    "    b_01_mag_frac = ( (detected_mag - mag) > 0.1 ).sum() / len(detected_mag)\n",
    "    s_01_mag_frac = ( (detected_mag - mag) < -0.1 ).sum() / len(detected_mag)\n",
    "    print(f'true mag: {mag}, fraction within 0.1 mag: {o_one_mag_frac}, > 0.1 frac: {b_01_mag_frac}, < 0.1 frac: {s_01_mag_frac}')\n",
    "    ax.set_yscale('log')\n",
    "    ax.legend(fontsize=10)\n",
    "ax.set_xticks(np.arange(19.7, 24.4, 0.1))\n",
    "ax.set_xticklabels(tick_labels)\n",
    "ax.set_xlabel('Detected Magnitude', size=14)\n",
    "ax.set_ylabel('Count', size=14)\n",
    "plt.savefig('./plots_and_tables/detected_mag.pdf')"
   ]
  },
  {
   "cell_type": "code",
   "execution_count": null,
   "id": "8c1dedb8-8b1c-49fe-9f19-aa6f2fab6bdd",
   "metadata": {},
   "outputs": [],
   "source": []
  }
 ],
 "metadata": {
  "kernelspec": {
   "display_name": "desc-stack-weekly",
   "language": "python",
   "name": "desc-stack-weekly"
  },
  "language_info": {
   "codemirror_mode": {
    "name": "ipython",
    "version": 3
   },
   "file_extension": ".py",
   "mimetype": "text/x-python",
   "name": "python",
   "nbconvert_exporter": "python",
   "pygments_lexer": "ipython3",
   "version": "3.8.8"
  }
 },
 "nbformat": 4,
 "nbformat_minor": 5
}
