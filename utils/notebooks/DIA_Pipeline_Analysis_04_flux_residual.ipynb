{
 "cells": [
  {
   "cell_type": "markdown",
   "id": "805902f8-62a7-4253-8a59-0068758cf898",
   "metadata": {},
   "source": [
    "# DIA Pipeline Analysis 04\n",
    "#### flux residual\n",
    "This notebook is compatible with `desc-stack` kernel."
   ]
  },
  {
   "cell_type": "code",
   "execution_count": 1,
   "id": "05a4c938-50b7-43e1-b2d6-a952519ff8e4",
   "metadata": {},
   "outputs": [
    {
     "data": {
      "text/plain": [
       "<module 'analysis_utils' from '/global/cscratch1/sd/shl159/projects/fake_injection_v23/dia_improvement/devel/analysis_utils.py'>"
      ]
     },
     "execution_count": 1,
     "metadata": {},
     "output_type": "execute_result"
    }
   ],
   "source": [
    "import sqlite3\n",
    "import matplotlib as mpl\n",
    "import matplotlib.pyplot as plt\n",
    "import numpy as np\n",
    "import pandas as pd\n",
    "import fakeInjectionPipeline_v23 as fi\n",
    "import analysis_utils as au\n",
    "import matplotlib.patches as mpatches\n",
    "mpl.rcParams['font.size']=14\n",
    "\n",
    "def get_residual(fake_src_df, fake_mag):\n",
    "    res_dict = {}\n",
    "    fake_mag_str = str(fake_mag).replace('.', '')\n",
    "    fake_src = au.slice_df(fake_src_df, equal={'fake_mag': fake_mag_str})\n",
    "    detected_fake = fake_src.loc[fake_src.matched_status.astype(bool)]\n",
    "    src_f = detected_fake['base_PsfFlux_instFlux']\n",
    "    injected_f = detected_fake['injected_instFlux']\n",
    "    src_inj = (src_f - injected_f) / injected_f\n",
    "    return src_inj\n",
    "def get_forced_residual(fake_src_df, fake_mag):\n",
    "    res_dict = {}\n",
    "    fake_mag_str = str(fake_mag).replace('.', '')\n",
    "    fake_src = au.slice_df(fake_src_df, equal={'fake_mag': fake_mag_str})\n",
    "    detected_fake = fake_src.loc[fake_src.matched_status.astype(bool)]\n",
    "    src_f = detected_fake['base_PsfFlux_instFlux_forced']\n",
    "    injected_f = detected_fake['injected_instFlux']\n",
    "    src_inj = (src_f - injected_f) / injected_f\n",
    "    return src_inj\n",
    "\n",
    "def remove_outlier(arr):\n",
    "    mean = np.mean(arr)\n",
    "    std = np.std(arr)\n",
    "    dist_from_mean = abs(arr - mean)\n",
    "    max_deviations = 5\n",
    "    not_outlier = dist_from_mean < max_deviations * std\n",
    "    no_outliers = arr[not_outlier]\n",
    "    return no_outliers\n",
    "def add_label(violin, label, labels):\n",
    "    color = violin[\"bodies\"][0].get_facecolor().flatten()\n",
    "    labels.append((mpatches.Patch(color=color), label))"
   ]
  },
  {
   "cell_type": "code",
   "execution_count": 3,
   "id": "4ec8fea1-49ca-4784-8460-cb8f43799a20",
   "metadata": {},
   "outputs": [
    {
     "name": "stdout",
     "output_type": "stream",
     "text": [
      "b'20'\n"
     ]
    },
    {
     "data": {
      "image/png": "[encoded data removed]",
      "text/plain": [
       "<Figure size 576x432 with 1 Axes>"
      ]
     },
     "metadata": {
      "needs_background": "light"
     },
     "output_type": "display_data"
    }
   ],
   "source": [
    "# how to plot half-violin plot    https://stackoverflow.com/questions/29776114/half-violin-plot-in-matplotlib\n",
    "\n",
    "patch_list = ['00', '11', '22', '33', '44', '55', '66']\n",
    "host_mag_list = ['20_21', '21_22', '22_23', '23_24', '24_25']\n",
    "fake_mag_list = [20, 21, 22, 23, 24]\n",
    "injection_db_path = './data/table/gal_4639/injection_coord.sqlite'\n",
    "\n",
    "calexp_info_dict, injection_coord_dict = fi.get_calexp_injection_dict(\n",
    "    patch_list, host_mag_list, dbpath=injection_db_path\n",
    ")\n",
    "conn = sqlite3.connect('./data/patch_0to6/diff/al_default_v23/detection/detection.sqlite')\n",
    "query = (f\"SELECT * FROM fake_src\")\n",
    "fake_src = pd.read_sql_query(query, conn)\n",
    "\n",
    "forced_db = ('./data/patch_0to6/diff/al_default_v23/forced/forced.sqlite')\n",
    "conn = sqlite3.connect(forced_db)\n",
    "forced_flux = pd.read_sql_query('SELECT * FROM forced', conn)\n",
    "\n",
    "fake_src_det = fake_src.loc[fake_src.matched_status.astype(bool)].copy().reset_index(drop=True)\n",
    "forced_flux_det = forced_flux.loc[forced_flux.matched_status.astype(bool)].copy().reset_index(drop=True)\n",
    "print(forced_flux_det['fake_mag'][0])\n",
    "forced_flux_det['host_mag'] = forced_flux_det['host_mag'].str.decode(\"utf-8\")\n",
    "forced_flux_det['fake_mag'] = forced_flux_det['fake_mag'].str.decode(\"utf-8\")\n",
    "\n",
    "patch_list = ['00', '11', '22', '33', '44', '55', '66']\n",
    "host_mag_list = ['20_21', '21_22', '22_23', '23_24', '24_25']\n",
    "fake_mag_list = [20, 21, 22, 23, 24]\n",
    "\n",
    "\n",
    "fig, ax = plt.subplots(1, 1, figsize=(8, 6))\n",
    "fig.subplots_adjust(hspace=0.5, wspace=0.2)\n",
    "\n",
    "res_list = []\n",
    "forced_res_list = []\n",
    "for fake_idx, fake_mag in enumerate(fake_mag_list):\n",
    "    res = get_residual(fake_src_det, fake_mag=str(fake_mag))\n",
    "    forced_res = get_forced_residual(forced_flux_det, fake_mag=str(fake_mag))\n",
    "    \n",
    "    res = remove_outlier(res.array)\n",
    "    forced_res = remove_outlier(forced_res.array)\n",
    "    res_list.append(list(res.to_numpy()))\n",
    "    forced_res_list.append(list(forced_res.to_numpy()))\n",
    "parts_diaSrc = ax.violinplot(res_list, showmedians=False, showextrema=False)\n",
    "parts_forced = ax.violinplot(forced_res_list, showmedians=False, showextrema=False)\n",
    "\n",
    "labels = []\n",
    "\n",
    "for pc in parts_diaSrc['bodies']:\n",
    "    pc.set_facecolor('red')\n",
    "    pc.set_edgecolor(None)\n",
    "\n",
    "for pc in parts_forced['bodies']:\n",
    "    # get the center\n",
    "    m = np.mean(pc.get_paths()[0].vertices[:, 0])\n",
    "    # modify the paths to not go further right than the center\n",
    "    pc.get_paths()[0].vertices[:, 0] = np.clip(pc.get_paths()[0].vertices[:, 0], m, np.inf)\n",
    "    pc.set_facecolor('blue')\n",
    "    pc.set_edgecolor(None)\n",
    "    pc.set_alpha(0.2)\n",
    "res_quartile1, res_medians, res_quartile3 = [], [], []\n",
    "forced_res_quartile1, forced_res_medians, forced_res_quartile3 = [], [], []\n",
    "for res in res_list:\n",
    "    quartile1, medians, quartile3 = np.percentile(res, [5, 50, 95])\n",
    "    res_quartile1.append(quartile1) \n",
    "    res_medians.append(medians) \n",
    "    res_quartile3.append(quartile3)\n",
    "\n",
    "for res in forced_res_list:\n",
    "    quartile1, medians, quartile3 = np.percentile(res, [5, 50, 95])\n",
    "    forced_res_quartile1.append(quartile1) \n",
    "    forced_res_medians.append(medians) \n",
    "    forced_res_quartile3.append(quartile3)\n",
    "\n",
    "add_label(parts_diaSrc, 'res_diaSrc_inj', labels)\n",
    "add_label(parts_forced, 'res_forced_inj', labels)\n",
    "# parts_forced['cmaxes'].set_color(['red', 'red', 'red', 'red'])\n",
    "inds = np.arange(1, len(res_list) + 1)\n",
    "ax.set_xticks([1,2,3,4,5])\n",
    "ax.scatter(inds, res_medians, marker='o', color='black', s=15, zorder=3)\n",
    "ax.scatter(inds, forced_res_medians, marker='o', color='r', alpha=0.1, s=30, zorder=3)\n",
    "\n",
    "ax.vlines(inds, res_quartile1, res_quartile3, color='gray', linestyle='-', lw=5)\n",
    "ax.vlines(inds, forced_res_quartile1, forced_res_quartile3, color='r', alpha=0.1,\n",
    "          linestyle='-', lw=5)\n",
    "ax.axhline(y=0.05, color='green', label=\"5%\")\n",
    "ax.axhline(y=-0.05, color='green', label=\"-5%\")\n",
    "ax.set_xticklabels(['20', '21', '22', '23', '24'])\n",
    "yticks = [-1.4,-1.2,-1.0,-0.8,-0.6,-0.4,-0.2,0,0.2,0.4,0.6,0.6,0.8,1.0,1.2,1.4]\n",
    "ax.set_yticks(yticks)\n",
    "ax.set_yticklabels(yticks)\n",
    "# ax.tick_params(axis='y', labelsize=10)\n",
    "ax.set_ylabel('Fractional Flux Residual')\n",
    "ax.set_xlabel('Synthetic Source Magnitude')\n",
    "ax.set_ylim((-1.5, 1.5))\n",
    "    \n",
    "ldg = plt.legend(*zip(*labels[0:2]), loc=2)\n",
    "# plt.savefig('./paper_plots/p_res.pdf')\n"
   ]
  },
  {
   "cell_type": "code",
   "execution_count": null,
   "id": "459802d1-b53f-4656-92da-f88efc653843",
   "metadata": {},
   "outputs": [],
   "source": []
  }
 ],
 "metadata": {
  "kernelspec": {
   "display_name": "desc-stack",
   "language": "python",
   "name": "desc-stack"
  },
  "language_info": {
   "codemirror_mode": {
    "name": "ipython",
    "version": 3
   },
   "file_extension": ".py",
   "mimetype": "text/x-python",
   "name": "python",
   "nbconvert_exporter": "python",
   "pygments_lexer": "ipython3",
   "version": "3.7.2"
  }
 },
 "nbformat": 4,
 "nbformat_minor": 5
}
