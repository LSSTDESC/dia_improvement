{
 "cells": [
  {
   "cell_type": "markdown",
   "id": "dc0c30cf-25a1-418c-b0b8-ee40ec29e510",
   "metadata": {},
   "source": [
    "# DIA Pipeline Analysis 00\n",
    "#### Image Size and Pixel Scale\n",
    "This notebook is compatible with `desc-stack-weekly` kernel."
   ]
  },
  {
   "cell_type": "code",
   "execution_count": 1,
   "id": "18a623eb-a188-4952-b4e7-41886d0700a4",
   "metadata": {},
   "outputs": [],
   "source": [
    "import matplotlib.pyplot as plt\n",
    "import numpy as np\n",
    "from astropy.table import Table\n",
    "import lsst.afw.image as afwImage\n",
    "from scipy.stats import sigmaclip"
   ]
  },
  {
   "cell_type": "code",
   "execution_count": 2,
   "id": "5c0a2347-fb0a-4808-b861-b1b13ab3aaab",
   "metadata": {
    "tags": []
   },
   "outputs": [],
   "source": [
    "def measure_std(data, threshold=5):\n",
    "    data = data[~np.isnan(data)]\n",
    "    clipped, _, _ = sigmaclip(data, low=threshold, high=threshold)\n",
    "    std = np.std(clipped)\n",
    "    return std"
   ]
  },
  {
   "cell_type": "markdown",
   "id": "3214309f-7852-4933-8352-1f97a57bc5bc",
   "metadata": {},
   "source": [
    "#### coadd image size and  pixel scale"
   ]
  },
  {
   "cell_type": "code",
   "execution_count": 4,
   "id": "b5f60b12-8699-4434-84c8-05e5004186a0",
   "metadata": {},
   "outputs": [
    {
     "name": "stdout",
     "output_type": "stream",
     "text": [
      "coadd exposure size\n",
      "[4100 4200]\n",
      "coadd pixel scale\n",
      "[0.2]\n"
     ]
    }
   ],
   "source": [
    "size_list = []\n",
    "pixel_scale_list = []\n",
    "for i in range(7):\n",
    "    coadd_path = f'./data/patch_0to6/coadd/coadd_4639_{i}{i}.fits'\n",
    "    coadd_exp = afwImage.ExposureF(coadd_path)\n",
    "    size_list.append(coadd_exp.getImage().array.shape)\n",
    "    pixel_scale_list.append(coadd_exp.getWcs().getPixelScale().asArcseconds())\n",
    "print('coadd exposure size')\n",
    "print(np.unique(size_list))\n",
    "print('coadd pixel scale (arcsec/pixel)')\n",
    "print(np.unique(pixel_scale_list))"
   ]
  },
  {
   "cell_type": "markdown",
   "id": "1357d568-56f1-49b8-93eb-8691f375b3a2",
   "metadata": {},
   "source": [
    "#### calexp image size and pixel scale"
   ]
  },
  {
   "cell_type": "code",
   "execution_count": 5,
   "id": "ed9eed37-a698-48ef-9aec-96196575a22a",
   "metadata": {},
   "outputs": [
    {
     "name": "stdout",
     "output_type": "stream",
     "text": [
      "calexp exposure size\n",
      "[4000 4072]\n",
      "calexp pixel scale (arcsec/pixel)\n",
      "[0.19950212 0.19950484 0.19951463 0.19951618 0.19953889 0.19956311\n",
      " 0.19957932 0.19959983 0.19961667 0.19962364 0.19962528 0.19963185\n",
      " 0.19963252 0.19965178 0.19965195 0.19966995 0.19967318 0.19969099\n",
      " 0.19972819 0.19972894 0.19973868 0.19974124 0.1997479  0.19975576\n",
      " 0.19975667 0.19975841 0.19975881 0.19977317 0.19977735 0.19977868\n",
      " 0.19978704 0.19980155 0.19980372 0.19981433 0.19982416 0.19983017\n",
      " 0.19983187 0.19985283 0.19985356 0.19985909 0.19986039 0.1998615\n",
      " 0.19986253 0.19986329 0.1998633  0.19986777 0.19989085 0.19989296\n",
      " 0.19989568 0.19990856 0.19993533 0.19993695 0.19994392 0.19995017\n",
      " 0.19996943 0.19998557 0.19998882 0.19999288 0.19999374 0.20000014\n",
      " 0.20001354 0.20002991 0.20003043 0.20003063 0.20003255 0.20003542\n",
      " 0.20005394 0.20006752 0.20006991 0.20007734]\n"
     ]
    }
   ],
   "source": [
    "# this cell is slow\n",
    "image_table = Table.read('./data/table/gal_4639/image_info_20_21_m20.csv', format='ascii.csv')\n",
    "size_list = []\n",
    "pixel_scale_list = []\n",
    "for row in image_table:\n",
    "    calexp_exp = afwImage.ExposureF(row['calexp_path'])\n",
    "    size_list.append(calexp_exp.getImage().array.shape)\n",
    "    pixel_scale_list.append(calexp_exp.getWcs().getPixelScale().asArcseconds())\n",
    "print('calexp exposure size')\n",
    "print(np.unique(size_list))\n",
    "print('calexp pixel scale (arcsec/pixel)')\n",
    "print(np.unique(pixel_scale_list))"
   ]
  },
  {
   "cell_type": "markdown",
   "id": "934c6eef-de37-4cbf-90f6-725579ef07aa",
   "metadata": {},
   "source": [
    "#### difference image size and pixel scale"
   ]
  },
  {
   "cell_type": "code",
   "execution_count": 6,
   "id": "588386c3-e1a9-435b-9604-0a7329019300",
   "metadata": {},
   "outputs": [
    {
     "name": "stdout",
     "output_type": "stream",
     "text": [
      "difference exposure size\n",
      "[4000 4072]\n",
      "difference image pixel scale (arcsec/pixel)\n",
      "[0.19950212 0.19950484 0.19951463 0.19951618 0.19953889 0.19956311\n",
      " 0.19957932 0.19959983 0.19961667 0.19962364 0.19962528 0.19963185\n",
      " 0.19963252 0.19965178 0.19965195 0.19966995 0.19967318 0.19969099\n",
      " 0.19972819 0.19972894 0.19973868 0.19974124 0.1997479  0.19975576\n",
      " 0.19975667 0.19975841 0.19975881 0.19977317 0.19977735 0.19977868\n",
      " 0.19978704 0.19980155 0.19980372 0.19981433 0.19982416 0.19983017\n",
      " 0.19983187 0.19985283 0.19985356 0.19985909 0.19986039 0.1998615\n",
      " 0.19986253 0.19986329 0.1998633  0.19986777 0.19989085 0.19989296\n",
      " 0.19989568 0.19990856 0.19993533 0.19993695 0.19994392 0.19995017\n",
      " 0.19996943 0.19998557 0.19998882 0.19999288 0.19999374 0.20000014\n",
      " 0.20001354 0.20002991 0.20003043 0.20003063 0.20003255 0.20003542\n",
      " 0.20005394 0.20006752 0.20006991 0.20007734]\n"
     ]
    }
   ],
   "source": [
    "# this cell is slow\n",
    "image_table = Table.read('./data/table/gal_4639/image_info_20_21_m20.csv', format='ascii.csv')\n",
    "size_list = []\n",
    "for row in image_table:\n",
    "    diff_exp = afwImage.ExposureF(row['diffexp_path'])\n",
    "    size_list.append(diff_exp.getImage().array.shape)\n",
    "    pixel_scale_list.append(diff_exp.getWcs().getPixelScale().asArcseconds())\n",
    "print('difference exposure size')\n",
    "print(np.unique(size_list))\n",
    "print('difference image pixel scale (arcsec/pixel)')\n",
    "print(np.unique(pixel_scale_list))"
   ]
  },
  {
   "cell_type": "markdown",
   "id": "221b03d6-3bce-4813-8139-d645e2c9bc3e",
   "metadata": {},
   "source": [
    "#### coadd sky"
   ]
  },
  {
   "cell_type": "code",
   "execution_count": 17,
   "id": "498407e3-7d5e-4a0a-b2a6-f24e7d0672a3",
   "metadata": {
    "tags": []
   },
   "outputs": [
    {
     "name": "stdout",
     "output_type": "stream",
     "text": [
      "coadd image std\n",
      "[0.06344167 0.064755   0.06528682 0.06547526 0.06637546 0.06651237\n",
      " 0.06653152]\n",
      "median of stds\n",
      "0.065475255\n"
     ]
    }
   ],
   "source": [
    "sky_sig_list = []\n",
    "data_dir = '/pscratch/sd/s/shl159/Cori/projects/fake_injection_v23/dia_improvement/devel/data'\n",
    "for i in range(7):\n",
    "    coadd_path = f'{data_dir}/patch_0to6/coadd/coadd_4639_{i}{i}.fits'\n",
    "    coadd_exp = afwImage.ExposureF(coadd_path)\n",
    "    img = coadd_exp.getImage().array\n",
    "    sky_sig = measure_std(img, threshold=5)\n",
    "    sky_sig_list.append(sky_sig)\n",
    "print('coadd image std')\n",
    "print(np.unique(sky_sig_list))\n",
    "print('median of stds')\n",
    "print(np.median(sky_sig_list))"
   ]
  },
  {
   "cell_type": "markdown",
   "id": "d5809768-4fa1-44f7-9040-4075cb93fdb6",
   "metadata": {},
   "source": [
    "#### calexp sky "
   ]
  },
  {
   "cell_type": "code",
   "execution_count": 14,
   "id": "3c53733a-3d34-47e2-beb7-fde29382480f",
   "metadata": {
    "tags": []
   },
   "outputs": [
    {
     "name": "stdout",
     "output_type": "stream",
     "text": [
      "calexp image std\n",
      "[46.542343 46.597878 46.625088 46.6786   46.763866 46.782825 46.821114\n",
      " 47.018486 47.126717 47.294323 47.453514 47.466377 47.522114 47.583008\n",
      " 47.71089  47.74805  47.823063 47.858852 48.254253 48.3645   48.54223\n",
      " 48.54233  48.566307 49.83987  49.921288 50.175697 51.01181  51.732243\n",
      " 51.834152 54.204308 54.36382  54.377914 54.529106 55.653683 55.837193\n",
      " 57.162903 58.777466 58.792156 59.05007  60.371094 60.56674  62.80508\n",
      " 62.911373 62.941456 63.283283 63.50242  63.776398 63.820217 66.83026\n",
      " 67.810936 70.15915  73.50709  73.54837  73.79682  74.38514  74.42329\n",
      " 74.53279  75.954    77.13309  77.605415 77.61939  78.58016  78.89756\n",
      " 78.90216  79.23019  80.12686  80.339584 80.443054 84.44044  85.50247 ]\n",
      "median of stds\n",
      "56.500046\n"
     ]
    }
   ],
   "source": [
    "# this cell is slow\n",
    "data_dir = '/pscratch/sd/s/shl159/Cori/projects/fake_injection_v23/dia_improvement/devel/data'\n",
    "image_table = Table.read(f'{data_dir}/table/gal_4639/image_info_20_21_m20.csv', format='ascii.csv')\n",
    "sky_sig_list = []\n",
    "for row in image_table:\n",
    "    calexp_exp = afwImage.ExposureF(row['calexp_path'].replace('./data', data_dir))\n",
    "    img = calexp_exp.getImage().array\n",
    "    sky_sig = measure_std(img, threshold=5)\n",
    "    sky_sig_list.append(sky_sig)\n",
    "print('calexp image std')\n",
    "print(np.unique(sky_sig_list))\n",
    "print('median of stds')\n",
    "print(np.median(sky_sig_list))"
   ]
  },
  {
   "cell_type": "markdown",
   "id": "bbd607eb-3d32-43ce-a141-e1a39ddb6a9f",
   "metadata": {},
   "source": [
    "#### diff sky"
   ]
  },
  {
   "cell_type": "code",
   "execution_count": 16,
   "id": "53992498-351f-49ff-bf70-e48ca89412ae",
   "metadata": {
    "tags": []
   },
   "outputs": [
    {
     "name": "stdout",
     "output_type": "stream",
     "text": [
      "diff image std\n",
      "[44.936607 44.940235 45.04103  45.061317 45.260468 45.348705 45.377987\n",
      " 45.609196 45.734398 45.91325  45.993805 46.104168 46.11461  46.146687\n",
      " 46.198402 46.321995 46.351818 46.412876 46.84429  46.85483  47.08208\n",
      " 47.35525  47.453705 48.47874  48.554527 48.901054 49.76578  50.529457\n",
      " 50.530174 52.457962 52.509727 52.587765 53.154545 54.27629  54.298794\n",
      " 55.779537 57.449394 57.748672 57.77484  59.109882 59.273838 61.15671\n",
      " 61.261276 61.34934  61.89922  62.154823 62.4966   62.56443  65.56368\n",
      " 66.71024  68.6549   72.20289  72.23326  72.29063  73.06292  73.27745\n",
      " 73.34175  74.193634 75.637085 76.23963  76.27255  77.514984 77.69752\n",
      " 77.72003  78.0608   78.780205 78.983925 79.21475  83.2909   84.16083 ]\n",
      "median of stds\n",
      "55.039165\n"
     ]
    }
   ],
   "source": [
    "# this cell is slow\n",
    "data_dir = '/pscratch/sd/s/shl159/Cori/projects/fake_injection_v23/dia_improvement/devel/data'\n",
    "image_table = Table.read(f'{data_dir}/table/gal_4639/image_info_20_21_m20.csv', format='ascii.csv')\n",
    "sky_sig_list = []\n",
    "for row in image_table:\n",
    "    diff_exp = afwImage.ExposureF(row['diffexp_path'].replace('./data', data_dir))\n",
    "    img = diff_exp.getImage().array\n",
    "    sky_sig = measure_std(img, threshold=5)\n",
    "    sky_sig_list.append(sky_sig)\n",
    "print('diff image std')\n",
    "print(np.unique(sky_sig_list))\n",
    "print('median of stds')\n",
    "print(np.median(sky_sig_list))"
   ]
  },
  {
   "cell_type": "code",
   "execution_count": null,
   "id": "aac0bfdc-6865-4e68-b250-acc71d649e38",
   "metadata": {},
   "outputs": [],
   "source": []
  }
 ],
 "metadata": {
  "kernelspec": {
   "display_name": "desc-stack-weekly",
   "language": "python",
   "name": "desc-stack-weekly"
  },
  "language_info": {
   "codemirror_mode": {
    "name": "ipython",
    "version": 3
   },
   "file_extension": ".py",
   "mimetype": "text/x-python",
   "name": "python",
   "nbconvert_exporter": "python",
   "pygments_lexer": "ipython3",
   "version": "3.8.8"
  }
 },
 "nbformat": 4,
 "nbformat_minor": 5
}
