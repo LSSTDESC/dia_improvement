{
 "cells": [
  {
   "cell_type": "code",
   "execution_count": 1,
   "id": "63d0a805-3d60-41a8-959c-c9b6c0cbc140",
   "metadata": {},
   "outputs": [],
   "source": [
    "import os\n",
    "import injection_utils as iu"
   ]
  },
  {
   "cell_type": "code",
   "execution_count": 2,
   "id": "7e4184f1-6e98-4eb1-b627-acf348411501",
   "metadata": {},
   "outputs": [
    {
     "name": "stdout",
     "output_type": "stream",
     "text": [
      "/global/cscratch1/sd/shl159/projects/fake_injection_summer_2022/dia_improvement/devel\n"
     ]
    }
   ],
   "source": [
    "!pwd"
   ]
  },
  {
   "cell_type": "markdown",
   "id": "e0bcc884-ad84-4e81-ab06-ac7178722151",
   "metadata": {},
   "source": [
    "# 1. Repo Preparation"
   ]
  },
  {
   "cell_type": "markdown",
   "id": "91d75149-d7ca-4f3b-80ef-fe92efa9ff60",
   "metadata": {},
   "source": [
    "Install package \n",
    "- obs_lsst: git clone https://github.com/lsst/obs_lsst.git\n",
    "\n",
    "Checkout the correct branch:\n",
    "\n",
    "```\n",
    "cd obs_lsst\n",
    "git checkout -b fake_test 30368a2b8c2941f1a04c704048c33e056a6af57b\n",
    "cd ..\n",
    "```\n",
    "- dia_pipe: git clone https://github.com/LSSTDESC/dia_pipe.git\n",
    "\n",
    "Checkout the correct branch:\n",
    "\n",
    "```\n",
    "cd dia_pipe\n",
    "git checkout -b fake_test 8ae16a9f5e5c1e4f174626b7f1e002b9d0c69b8f\n",
    "cd ..\n",
    "```\n",
    "\n",
    "```\n",
    "commit 8ae16a9f5e5c1e4f174626b7f1e002b9d0c69b8f (HEAD, origin/#19)\n",
    "Author: Bob Armstrong <rearmstr@gmail.com>\n",
    "Date:   Tue Feb 2 14:16:07 2021 -0800\n",
    "```\n",
    "\n",
    "Create setup.sh\n",
    "```\n",
    "#！/bin/bash\n",
    "\n",
    "source /cvmfs/sw.lsst.eu/linux-x86_64/lsst_distrib/v20.0.0/loadLSST.bash\n",
    "\n",
    "setup lsst_distrib\n",
    "\n",
    "# scons only need to be done once. We cannot comment out the following three lines after the first running. setup -jr dia_pipe need to be kept.\n",
    "cd dia_pipe\n",
    "scons\n",
    "cd ..\n",
    "setup -jr dia_pipe\n",
    "\n",
    "export HDF5_USE_FILE_LOCKING=FALSE\n",
    "export OMP_NUM_THREADS=1\n",
    "\n",
    "echo 'done'\n",
    "```\n",
    "In terminal, run `source setup.sh`"
   ]
  },
  {
   "cell_type": "markdown",
   "id": "8c9ab02e-1d91-44b5-bffb-29980578501f",
   "metadata": {},
   "source": [
    "# 2. Inject Fakes"
   ]
  },
  {
   "cell_type": "markdown",
   "id": "e3900125-cd33-444a-b748-05f393848f9c",
   "metadata": {},
   "source": [
    "Create a file named `test_injection.py` with the following content. It is important to use the same version of stack packages for injection and subtraction.\n",
    "\n",
    "```\n",
    "import os\n",
    "import injection_utils as iu\n",
    "\n",
    "COADD_REPO = (\n",
    "    '/global/cfs/projectdirs/lsst/production/DC2_ImSim/Run2.2i'\n",
    "    '/desc_dm_drp/v19.0.0-v1/rerun/run2.2i-coadd-wfd-dr6-v1-grizy'\n",
    ")\n",
    "fake_path = (\n",
    "    './injection_test'\n",
    ")\n",
    "os.makedirs(fake_path)\n",
    "calexp_path = os.path.join(fake_path, 'calexp')\n",
    "os.makedirs(calexp_path)\n",
    "yaml_path = os.path.join(fake_path, 'repositoryCfg.yaml')\n",
    "with open(f'{yaml_path}', \"w+\") as file:\n",
    "    file.write(\"!RepositoryCfg_v1\\n\")\n",
    "    file.write(\"_mapper: !!python/name:lsst.obs.lsst.imsim.ImsimMapper \\'\\'\\n\")\n",
    "    file.write(\"_mapperArgs: {}\\n\")\n",
    "    file.write(\"_parents:\\n\")\n",
    "    file.write(f\"- {COADD_REPO}\\n\")\n",
    "    file.write(\"_policy: null\\n\")\n",
    "    file.write(\"_root: null\\n\")\n",
    "    file.write(\"dirty: true\\n\")\n",
    "    \n",
    "calexp_repo = 'injection_test'\n",
    "calexp_id = {'visit': 1013665, 'detector': 79, 'filter': 'i'}\n",
    "magVar = 16\n",
    "coords = [(i, j) for i in range(500, 3500, 500) for j in range(500, 3500, 500)]\n",
    "\n",
    "iu.inject_fakes_to_calexp(calexp_repo, calexp_id, magVar, coords, poisson=False)  \n",
    "```\n",
    "\n",
    "In terminal, run `python test_injection.py`."
   ]
  },
  {
   "cell_type": "markdown",
   "id": "5032771b-123c-4ca9-9468-da33e21747ea",
   "metadata": {
    "tags": []
   },
   "source": [
    "# 3. Test subtraction"
   ]
  },
  {
   "cell_type": "markdown",
   "id": "f8ea81b0-7b49-4c5b-a2e1-2cbba4c223ec",
   "metadata": {},
   "source": [
    "Create config `diffimConfig_al.py`, with following contents:\n",
    "\n",
    "```\n",
    "from lsst.meas.algorithms import LoadIndexedReferenceObjectsTask\n",
    "config.imageDifference.refObjLoader.retarget(LoadIndexedReferenceObjectsTask)\n",
    "config.imageDifference.refObjLoader.load('obs_lsst/config/filterMap.py')\n",
    "config.imageDifference.kernelSourcesFromRef = True\n",
    "config.ccdKey = 'detector'\n",
    "```\n",
    "\n",
    "Test subtraction without fake injection:\n",
    "```\n",
    "imageDifferenceDriver.py /global/cfs/projectdirs/lsst/production/DC2_ImSim/Run2.2i/desc_dm_drp/v19.0.0-v1/rerun/run2.2i-coadd-wfd-dr6-v1-grizy \\\n",
    "    --output test_al \\\n",
    "    --id visit=1013665 detector=79  -C diffimConfig_al.py \\\n",
    "    --clobber-config --clobber-versions --cores 4\n",
    "```\n",
    "\n",
    "Next, test subtraction with fake injection:\n",
    "\n",
    "```\n",
    "imageDifferenceDriver.py ./injection_test \\\n",
    "    --output test_inj \\\n",
    "    --id visit=1013665 detector=79  -C diffimConfig_al.py \\\n",
    "    --clobber-config --clobber-versions --cores 4\n",
    "```"
   ]
  },
  {
   "cell_type": "code",
   "execution_count": null,
   "id": "23f62bfc-0321-4b56-8ff8-e1d9b1f8d547",
   "metadata": {},
   "outputs": [],
   "source": []
  },
  {
   "cell_type": "code",
   "execution_count": null,
   "id": "d89745ee-da99-4426-bb09-744c4923cb8c",
   "metadata": {},
   "outputs": [],
   "source": []
  }
 ],
 "metadata": {
  "kernelspec": {
   "display_name": "desc-stack",
   "language": "python",
   "name": "desc-stack"
  },
  "language_info": {
   "codemirror_mode": {
    "name": "ipython",
    "version": 3
   },
   "file_extension": ".py",
   "mimetype": "text/x-python",
   "name": "python",
   "nbconvert_exporter": "python",
   "pygments_lexer": "ipython3",
   "version": "3.7.2"
  }
 },
 "nbformat": 4,
 "nbformat_minor": 5
}
