{
 "cells": [
  {
   "cell_type": "markdown",
   "id": "dc0c30cf-25a1-418c-b0b8-ee40ec29e510",
   "metadata": {},
   "source": [
    "# DIA Pipeline Analysis 00\n",
    "#### Image Size and Pixel Scale\n",
    "This notebook is compatible with `desc-stack-weekly` kernel."
   ]
  },
  {
   "cell_type": "code",
   "execution_count": 2,
   "id": "18a623eb-a188-4952-b4e7-41886d0700a4",
   "metadata": {},
   "outputs": [],
   "source": [
    "import matplotlib.pyplot as plt\n",
    "import numpy as np\n",
    "from astropy.table import Table\n",
    "import lsst.afw.image as afwImage"
   ]
  },
  {
   "cell_type": "markdown",
   "id": "3214309f-7852-4933-8352-1f97a57bc5bc",
   "metadata": {},
   "source": [
    "#### coadd image size and  pixel scale"
   ]
  },
  {
   "cell_type": "code",
   "execution_count": 4,
   "id": "b5f60b12-8699-4434-84c8-05e5004186a0",
   "metadata": {},
   "outputs": [
    {
     "name": "stdout",
     "output_type": "stream",
     "text": [
      "coadd exposure size\n",
      "[4100 4200]\n",
      "coadd pixel scale\n",
      "[0.2]\n"
     ]
    }
   ],
   "source": [
    "size_list = []\n",
    "pixel_scale_list = []\n",
    "for i in range(7):\n",
    "    coadd_path = f'./data/patch_0to6/coadd/coadd_4639_{i}{i}.fits'\n",
    "    coadd_exp = afwImage.ExposureF(coadd_path)\n",
    "    size_list.append(coadd_exp.getImage().array.shape)\n",
    "    pixel_scale_list.append(coadd_exp.getWcs().getPixelScale().asArcseconds())\n",
    "print('coadd exposure size')\n",
    "print(np.unique(size_list))\n",
    "print('coadd pixel scale (arcsec/pixel)')\n",
    "print(np.unique(pixel_scale_list))"
   ]
  },
  {
   "cell_type": "markdown",
   "id": "1357d568-56f1-49b8-93eb-8691f375b3a2",
   "metadata": {},
   "source": [
    "#### calexp image size and pixel scale"
   ]
  },
  {
   "cell_type": "code",
   "execution_count": 5,
   "id": "ed9eed37-a698-48ef-9aec-96196575a22a",
   "metadata": {},
   "outputs": [
    {
     "name": "stdout",
     "output_type": "stream",
     "text": [
      "calexp exposure size\n",
      "[4000 4072]\n",
      "calexp pixel scale (arcsec/pixel)\n",
      "[0.19950212 0.19950484 0.19951463 0.19951618 0.19953889 0.19956311\n",
      " 0.19957932 0.19959983 0.19961667 0.19962364 0.19962528 0.19963185\n",
      " 0.19963252 0.19965178 0.19965195 0.19966995 0.19967318 0.19969099\n",
      " 0.19972819 0.19972894 0.19973868 0.19974124 0.1997479  0.19975576\n",
      " 0.19975667 0.19975841 0.19975881 0.19977317 0.19977735 0.19977868\n",
      " 0.19978704 0.19980155 0.19980372 0.19981433 0.19982416 0.19983017\n",
      " 0.19983187 0.19985283 0.19985356 0.19985909 0.19986039 0.1998615\n",
      " 0.19986253 0.19986329 0.1998633  0.19986777 0.19989085 0.19989296\n",
      " 0.19989568 0.19990856 0.19993533 0.19993695 0.19994392 0.19995017\n",
      " 0.19996943 0.19998557 0.19998882 0.19999288 0.19999374 0.20000014\n",
      " 0.20001354 0.20002991 0.20003043 0.20003063 0.20003255 0.20003542\n",
      " 0.20005394 0.20006752 0.20006991 0.20007734]\n"
     ]
    }
   ],
   "source": [
    "# this cell is slow\n",
    "image_table = Table.read('./data/table/gal_4639/image_info_20_21_m20.csv', format='ascii.csv')\n",
    "size_list = []\n",
    "pixel_scale_list = []\n",
    "for row in image_table:\n",
    "    calexp_exp = afwImage.ExposureF(row['calexp_path'])\n",
    "    size_list.append(calexp_exp.getImage().array.shape)\n",
    "    pixel_scale_list.append(calexp_exp.getWcs().getPixelScale().asArcseconds())\n",
    "print('calexp exposure size')\n",
    "print(np.unique(size_list))\n",
    "print('calexp pixel scale (arcsec/pixel)')\n",
    "print(np.unique(pixel_scale_list))"
   ]
  },
  {
   "cell_type": "markdown",
   "id": "934c6eef-de37-4cbf-90f6-725579ef07aa",
   "metadata": {},
   "source": [
    "#### difference image size and pixel scale"
   ]
  },
  {
   "cell_type": "code",
   "execution_count": 6,
   "id": "588386c3-e1a9-435b-9604-0a7329019300",
   "metadata": {},
   "outputs": [
    {
     "name": "stdout",
     "output_type": "stream",
     "text": [
      "difference exposure size\n",
      "[4000 4072]\n",
      "difference image pixel scale (arcsec/pixel)\n",
      "[0.19950212 0.19950484 0.19951463 0.19951618 0.19953889 0.19956311\n",
      " 0.19957932 0.19959983 0.19961667 0.19962364 0.19962528 0.19963185\n",
      " 0.19963252 0.19965178 0.19965195 0.19966995 0.19967318 0.19969099\n",
      " 0.19972819 0.19972894 0.19973868 0.19974124 0.1997479  0.19975576\n",
      " 0.19975667 0.19975841 0.19975881 0.19977317 0.19977735 0.19977868\n",
      " 0.19978704 0.19980155 0.19980372 0.19981433 0.19982416 0.19983017\n",
      " 0.19983187 0.19985283 0.19985356 0.19985909 0.19986039 0.1998615\n",
      " 0.19986253 0.19986329 0.1998633  0.19986777 0.19989085 0.19989296\n",
      " 0.19989568 0.19990856 0.19993533 0.19993695 0.19994392 0.19995017\n",
      " 0.19996943 0.19998557 0.19998882 0.19999288 0.19999374 0.20000014\n",
      " 0.20001354 0.20002991 0.20003043 0.20003063 0.20003255 0.20003542\n",
      " 0.20005394 0.20006752 0.20006991 0.20007734]\n"
     ]
    }
   ],
   "source": [
    "# this cell is slow\n",
    "image_table = Table.read('./data/table/gal_4639/image_info_20_21_m20.csv', format='ascii.csv')\n",
    "size_list = []\n",
    "pixel_scale_list = []\n",
    "for row in image_table:\n",
    "    diff_exp = afwImage.ExposureF(row['diffexp_path'])\n",
    "    size_list.append(diff_exp.getImage().array.shape)\n",
    "    pixel_scale_list.append(diff_exp.getWcs().getPixelScale().asArcseconds())\n",
    "print('difference exposure size')\n",
    "print(np.unique(size_list))\n",
    "print('difference image pixel scale (arcsec/pixel)')\n",
    "print(np.unique(pixel_scale_list))"
   ]
  },
  {
   "cell_type": "code",
   "execution_count": null,
   "id": "763498cf-7458-42a6-9d2d-37c4700c588d",
   "metadata": {},
   "outputs": [],
   "source": []
  }
 ],
 "metadata": {
  "kernelspec": {
   "display_name": "desc-stack-weekly",
   "language": "python",
   "name": "desc-stack-weekly"
  },
  "language_info": {
   "codemirror_mode": {
    "name": "ipython",
    "version": 3
   },
   "file_extension": ".py",
   "mimetype": "text/x-python",
   "name": "python",
   "nbconvert_exporter": "python",
   "pygments_lexer": "ipython3",
   "version": "3.10.5"
  }
 },
 "nbformat": 4,
 "nbformat_minor": 5
}
