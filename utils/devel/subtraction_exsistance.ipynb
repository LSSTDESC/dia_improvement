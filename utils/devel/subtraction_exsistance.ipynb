{
 "cells": [
  {
   "cell_type": "code",
   "execution_count": 1,
   "id": "5abcea01-f55b-4f2a-9320-e2e38d7e1022",
   "metadata": {},
   "outputs": [],
   "source": [
    "import os\n",
    "import fakeInjectionPipeline_v23 as fi\n",
    "\n",
    "\n",
    "patch_list = ['00', '11', '22', '33', '44', '55', '66']\n",
    "host_mag_list = ['20_21', '21_22', '22_23', '23_24', '24_25']\n",
    "\n",
    "calexp_info_dict, injection_coord_dict = fi.get_calexp_injection_dict(patch_list, host_mag_list, dbpath='./data/table/gal_4639/injection_coord.sqlite')"
   ]
  },
  {
   "cell_type": "code",
   "execution_count": 2,
   "id": "0cd44699-6c9f-40e0-a539-3cc49d8974b4",
   "metadata": {},
   "outputs": [
    {
     "name": "stdout",
     "output_type": "stream",
     "text": [
      "/global/cscratch1/sd/shl159/projects/fake_injection_v23/dia_improvement/devel\n"
     ]
    }
   ],
   "source": [
    "!pwd"
   ]
  },
  {
   "cell_type": "markdown",
   "id": "71fc499e-8f1a-48b0-b567-16c3a9bcec4b",
   "metadata": {},
   "source": [
    "    Sometime image subtractions with slurm can fail. We need to check the exsistance of difference images. For failed subtractions, we need to submit jobs for them again. If a job cannot run with slurm, we have to run it locally. Corresponding code for submitting jobs can be found from subtraction scripts."
   ]
  },
  {
   "cell_type": "code",
   "execution_count": 6,
   "id": "eca2c505-ab83-4431-835a-ee72d7e688b5",
   "metadata": {},
   "outputs": [],
   "source": [
    "# fake_mag_list = [20, 21, 22, 23, 24]\n",
    "fake_mag_list = [20.5, 21.5, 22.5, 23.5]\n",
    "diff_dir =  f'./data/patch_0to6/diff/al_default_v23'\n",
    "fi.check_exsistance(patch_list, host_mag_list, fake_mag_list, calexp_info_dict, diff_dir)"
   ]
  },
  {
   "cell_type": "markdown",
   "id": "1b148527-7054-4f4e-a0c8-4b31dd803bfd",
   "metadata": {},
   "source": [
    "#### check faint end"
   ]
  },
  {
   "cell_type": "code",
   "execution_count": 21,
   "id": "069e5738-e2ca-4324-b6a2-b6a9cd7036e0",
   "metadata": {},
   "outputs": [],
   "source": [
    "fake_mag_list = [23.0, 23.1, 23.2, 23.3, 23.4, 23.5, 23.6, 23.7, 23.8, 23.9, 24.0]\n",
    "diff_dir =  f'./data/patch_0to6/diff_faint/al_default_v23'\n",
    "fi.check_exsistance(patch_list, host_mag_list, fake_mag_list, calexp_info_dict, diff_dir)"
   ]
  },
  {
   "cell_type": "markdown",
   "id": "8f2e2061-9470-49cd-9411-ad3a2918fedf",
   "metadata": {},
   "source": [
    "#### check config"
   ]
  },
  {
   "cell_type": "code",
   "execution_count": 22,
   "id": "8957c369-964e-4549-a4ba-4d9bb6c2d883",
   "metadata": {},
   "outputs": [],
   "source": [
    "config_list = ['al_preconv_v23', 'al_decorr_v23', 'al_convSci_v23', 'al_convSciDecorr_v23', 'al_spatial4_v23', 'al_spatial4Pca_v23']\n",
    "fake_mag_list = [20]\n",
    "for config in config_list:\n",
    "    cf_type = config\n",
    "    diff_dir =  f'./data/patch_0to6/diff/{cf_type}'\n",
    "    fi.check_exsistance(patch_list, host_mag_list, fake_mag_list, calexp_info_dict, diff_dir)"
   ]
  },
  {
   "cell_type": "markdown",
   "id": "9a5f2cfa-6c02-44e4-a42e-8088695934a0",
   "metadata": {},
   "source": [
    "#### check spatial degree of freedom"
   ]
  },
  {
   "cell_type": "code",
   "execution_count": 4,
   "id": "05ed8e67-e316-4483-9fe3-7a4edf5a6f99",
   "metadata": {},
   "outputs": [],
   "source": [
    "config_list = ['al_spatial1_v23', 'al_spatial2_v23', 'al_spatial3_v23', 'al_spatial4_v23']\n",
    "fake_mag_list = [20, 23]\n",
    "for config in config_list:\n",
    "    cf_type = config\n",
    "    diff_dir =  f'./data/patch_0to6/diff/{cf_type}'\n",
    "    fi.check_exsistance(patch_list, host_mag_list, fake_mag_list, calexp_info_dict, diff_dir)"
   ]
  },
  {
   "cell_type": "code",
   "execution_count": null,
   "id": "02ee9e0d-2ba5-425e-891c-10ab71bc124c",
   "metadata": {},
   "outputs": [],
   "source": []
  }
 ],
 "metadata": {
  "kernelspec": {
   "display_name": "desc-stack",
   "language": "python",
   "name": "desc-stack"
  },
  "language_info": {
   "codemirror_mode": {
    "name": "ipython",
    "version": 3
   },
   "file_extension": ".py",
   "mimetype": "text/x-python",
   "name": "python",
   "nbconvert_exporter": "python",
   "pygments_lexer": "ipython3",
   "version": "3.7.2"
  }
 },
 "nbformat": 4,
 "nbformat_minor": 5
}
