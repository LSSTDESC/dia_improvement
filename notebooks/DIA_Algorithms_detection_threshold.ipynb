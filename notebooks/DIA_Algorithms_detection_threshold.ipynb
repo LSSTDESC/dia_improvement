{
 "cells": [
  {
   "cell_type": "code",
   "execution_count": 125,
   "id": "30fa86a6",
   "metadata": {},
   "outputs": [],
   "source": [
    "import numpy as np\n",
    "import matplotlib.pyplot as plt\n",
    "import scipy\n",
    "from scipy.stats import multivariate_normal\n",
    "from astropy.visualization import ZScaleInterval\n",
    "from scipy.signal import convolve2d\n",
    "interval = ZScaleInterval()"
   ]
  },
  {
   "cell_type": "code",
   "execution_count": 1,
   "id": "106423e0",
   "metadata": {
    "tags": []
   },
   "outputs": [],
   "source": [
    "from photutils.detection import StarFinder"
   ]
  },
  {
   "cell_type": "markdown",
   "id": "526fea6b",
   "metadata": {},
   "source": [
    "- peak pixel rate of $p \\otimes D$ (p is a Gaussian with standard detivation $\\sigma_g$, D is a white noise image, $\\nu$ is the SNR.)\n",
    "\n",
    "\n",
    "$n(\\nu) = \\frac{1}{2^{5/2}\\pi^{3/2}\\sigma_g^2} \\nu e^{-\\nu^2/2}$"
   ]
  },
  {
   "cell_type": "code",
   "execution_count": 2,
   "id": "fdad41f2",
   "metadata": {
    "tags": []
   },
   "outputs": [],
   "source": [
    "def cal_n(nu, sg):\n",
    "    n = 1 / 2**(5/2) / np.pi**(3/2) / sg**2 * nu * np.exp(- nu**2 / 2)\n",
    "    return n\n",
    "\n",
    "def compute_xy_grids(x_len, y_len):\n",
    "    x = np.arange(- x_len // 2 + 1, x_len // 2 + 1, 1)\n",
    "    y = np.arange(- y_len // 2 + 1, y_len // 2 + 1, 1)\n",
    "    xx, yy = np.meshgrid(x, y)\n",
    "    return xx, yy\n",
    "    \n",
    "def gaussian2d(xx, yy, m=[0., 0.], cov=[[1, 0], [0, 1]]):\n",
    "    grid = np.dstack((xx, yy))\n",
    "    var = multivariate_normal(mean=m, cov=cov)\n",
    "    return var.pdf(grid)\n",
    "\n",
    "def sim_score_image(image_size, sky_sig, psf_sig, random_seed=None):\n",
    "    if random_seed:\n",
    "        np.random.seed(random_seed)\n",
    "    image =  np.random.normal(scale=sky_sig, size=(image_size, image_size))\n",
    "\n",
    "    psf_xx, psf_yy = compute_xy_grids(image_size, image_size)\n",
    "    psf = gaussian2d(\n",
    "            psf_xx, psf_yy, m=[0, 0], cov=[[psf_sig, 0], [0, psf_sig]]\n",
    "        )\n",
    "    # score = scipy.signal.fftconvolve(image, psf, mode='same')\n",
    "    score = convolve2d(image, psf, mode='same')\n",
    "    return psf, image, score"
   ]
  },
  {
   "cell_type": "code",
   "execution_count": null,
   "id": "3de742f2",
   "metadata": {},
   "outputs": [],
   "source": [
    "image_size = 2001\n",
    "sky_sig = 1\n",
    "psf_sig = 3\n",
    "psf, image, score = sim_score_image(image_size, sky_sig, psf_sig, random_seed=1)"
   ]
  },
  {
   "cell_type": "code",
   "execution_count": null,
   "id": "a461526e",
   "metadata": {},
   "outputs": [],
   "source": [
    "np.std(score)"
   ]
  },
  {
   "cell_type": "code",
   "execution_count": null,
   "id": "695c9db8",
   "metadata": {},
   "outputs": [],
   "source": [
    "plt.imshow(interval(score), cmap='gray')"
   ]
  },
  {
   "cell_type": "code",
   "execution_count": null,
   "id": "c17c1e94",
   "metadata": {},
   "outputs": [],
   "source": []
  },
  {
   "cell_type": "code",
   "execution_count": 116,
   "id": "179396c5",
   "metadata": {},
   "outputs": [],
   "source": [
    "threshold = 2"
   ]
  },
  {
   "cell_type": "code",
   "execution_count": 117,
   "id": "3378b480",
   "metadata": {},
   "outputs": [],
   "source": [
    "n_theory = cal_n(threshold, psf_sig)"
   ]
  },
  {
   "cell_type": "code",
   "execution_count": 118,
   "id": "dea43d25",
   "metadata": {},
   "outputs": [],
   "source": [
    "peaks_theory = n_theory * image_size * image_size"
   ]
  },
  {
   "cell_type": "code",
   "execution_count": 119,
   "id": "00dc76cc",
   "metadata": {},
   "outputs": [
    {
     "data": {
      "text/plain": [
       "3822.8996801413577"
      ]
     },
     "execution_count": 119,
     "metadata": {},
     "output_type": "execute_result"
    }
   ],
   "source": [
    "peaks_theory"
   ]
  },
  {
   "cell_type": "code",
   "execution_count": 120,
   "id": "89754944",
   "metadata": {},
   "outputs": [],
   "source": [
    "def find_peaks(image, nu):\n",
    "    n = (image > nu).sum()\n",
    "    return n"
   ]
  },
  {
   "cell_type": "code",
   "execution_count": 121,
   "id": "aba45a9f",
   "metadata": {},
   "outputs": [
    {
     "data": {
      "text/plain": [
       "0"
      ]
     },
     "execution_count": 121,
     "metadata": {},
     "output_type": "execute_result"
    }
   ],
   "source": [
    "find_peaks(score, threshold)"
   ]
  },
  {
   "cell_type": "code",
   "execution_count": 123,
   "id": "62a0de38",
   "metadata": {},
   "outputs": [
    {
     "data": {
      "text/plain": [
       "0.7814526897050111"
      ]
     },
     "execution_count": 123,
     "metadata": {},
     "output_type": "execute_result"
    }
   ],
   "source": [
    "score.max()"
   ]
  },
  {
   "cell_type": "code",
   "execution_count": 124,
   "id": "0c8b1a43",
   "metadata": {},
   "outputs": [
    {
     "data": {
      "text/plain": [
       "0.0010457940597094315"
      ]
     },
     "execution_count": 124,
     "metadata": {},
     "output_type": "execute_result"
    }
   ],
   "source": [
    "fwhm = 2.355 * sky_sig\n",
    "5.8 * 1e-3 / fwhm**2"
   ]
  },
  {
   "cell_type": "code",
   "execution_count": 105,
   "id": "0cde5ca2",
   "metadata": {},
   "outputs": [
    {
     "data": {
      "text/plain": [
       "0.00011755843029898338"
      ]
     },
     "execution_count": 105,
     "metadata": {},
     "output_type": "execute_result"
    }
   ],
   "source": [
    "cal_n(3, psf_sig)"
   ]
  },
  {
   "cell_type": "code",
   "execution_count": null,
   "id": "ed3b161b",
   "metadata": {},
   "outputs": [],
   "source": []
  },
  {
   "cell_type": "code",
   "execution_count": null,
   "id": "2b2b972e",
   "metadata": {},
   "outputs": [],
   "source": []
  }
 ],
 "metadata": {
  "kernelspec": {
   "display_name": "desc-stack-weekly-latest",
   "language": "python",
   "name": "desc-stack-weekly-latest"
  },
  "language_info": {
   "codemirror_mode": {
    "name": "ipython",
    "version": 3
   },
   "file_extension": ".py",
   "mimetype": "text/x-python",
   "name": "python",
   "nbconvert_exporter": "python",
   "pygments_lexer": "ipython3",
   "version": "3.11.4"
  }
 },
 "nbformat": 4,
 "nbformat_minor": 5
}
