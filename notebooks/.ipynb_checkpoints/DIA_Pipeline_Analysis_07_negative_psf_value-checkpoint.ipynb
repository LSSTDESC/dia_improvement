{
 "cells": [
  {
   "cell_type": "code",
   "execution_count": 1,
   "id": "73ccb785-e1c3-4c0b-8fa1-4bb792ed0d70",
   "metadata": {
    "tags": []
   },
   "outputs": [],
   "source": [
    "import lsst.afw.image as afwImage\n",
    "import lsst.geom as geom\n",
    "import glob\n",
    "import sqlite3\n",
    "from astropy.table import Table\n",
    "import pandas as pd"
   ]
  },
  {
   "cell_type": "code",
   "execution_count": 2,
   "id": "d980741b-af1e-4bec-933d-4b810ffe3f1f",
   "metadata": {
    "tags": []
   },
   "outputs": [
    {
     "name": "stdout",
     "output_type": "stream",
     "text": [
      "/pscratch/sd/s/shl159/projects/update_plots/dia_improvement/devel\n"
     ]
    }
   ],
   "source": [
    "!pwd"
   ]
  },
  {
   "cell_type": "code",
   "execution_count": 3,
   "id": "f3cfce2f-a2cd-4a05-a4ab-a55b0e7b44f0",
   "metadata": {
    "tags": []
   },
   "outputs": [],
   "source": [
    "# ! cp '/pscratch/sd/s/shl159/Cori/projects/fake_injection_v23/dia_improvement/devel/data/patch_0to6/diff/al_default_v23/detection/detection.sqlite' './default_detection.sqlite'"
   ]
  },
  {
   "cell_type": "markdown",
   "id": "6baf4a77-544f-4393-86e4-39fd3d9b6265",
   "metadata": {},
   "source": [
    "#### Postage Stamps vs. Spatial Degree of Freedom"
   ]
  },
  {
   "cell_type": "code",
   "execution_count": 4,
   "id": "1501c354-1100-42ce-8517-181a60017b54",
   "metadata": {
    "tags": []
   },
   "outputs": [
    {
     "name": "stdout",
     "output_type": "stream",
     "text": [
      "471 278\n"
     ]
    }
   ],
   "source": [
    "x, y = 1000, 1000\n",
    "magVar = 24\n",
    "calexp_dir = '/pscratch/sd/s/shl159/Cori/projects/fake_injection_v23/dia_improvement/devel/data/patch_0to6/injection'\n",
    "db = '/pscratch/sd/s/shl159/Cori/projects/fake_injection_v23/dia_improvement/devel/data/patch_0to6/diff/al_default_v23/detection/detection.sqlite'\n",
    "conn = sqlite3.connect(db)\n",
    "art = pd.read_sql_query(\"SELECT * FROM artifact WHERE host_mag = '20_21' and fake_mag = 20\", conn)\n",
    "art_astropy = Table.from_pandas(art)\n",
    "for c, row in enumerate(art_astropy):\n",
    "    if c == 1:\n",
    "        break\n",
    "    patch = str(row['patch'])\n",
    "    det = int(row['detector'])\n",
    "    filt = str(row['filter'])\n",
    "    visit = int(row['visit'])\n",
    "    calexp_path = glob.glob(f'{calexp_dir}/{patch}_20_21_{visit}_{det}_{filt}/fake_20/calexp/*/*/calexp*')[0]\n",
    "    calexp_exp = afwImage.ExposureF(calexp_path)\n",
    "    photoCalib = calexp_exp.getPhotoCalib()\n",
    "    psf = calexp_exp.getPsf()\n",
    "    xy = geom.Point2D(x, y)\n",
    "    starIm = psf.computeImage(xy)\n",
    "    calibFluxRadius = 12\n",
    "    correctedFlux = psf.computeApertureFlux(calibFluxRadius, xy)\n",
    "    starIm /= correctedFlux\n",
    "    flux = photoCalib.magnitudeToInstFlux(magVar, xy)\n",
    "    starIm *= flux\n",
    "    star_shape = starIm.array.shape\n",
    "    star_array = starIm.getArray()\n",
    "    print((star_array < 1e-19).sum(), (star_array < 0).sum())\n",
    "   "
   ]
  },
  {
   "cell_type": "code",
   "execution_count": 5,
   "id": "a63fd26a-1e22-4b31-921d-07fdc53fbc09",
   "metadata": {},
   "outputs": [
    {
     "data": {
      "text/plain": [
       "\u001b[0;31mType:\u001b[0m           PsfexPsf\n",
       "\u001b[0;31mString form:\u001b[0m    <lsst.meas.extensions.psfex.psfexPsf.PsfexPsf object at 0x7fb35ef1e530>\n",
       "\u001b[0;31mFile:\u001b[0m           /opt/lsst/software/stack/stack/miniconda3-py38_4.9.2-0.7.0/Linux64/meas_extensions_psfex/g0683b0d77a+65487390d5/python/lsst/meas/extensions/psfex/psfexPsf.so\n",
       "\u001b[0;31mDocstring:\u001b[0m      <no docstring>\n",
       "\u001b[0;31mInit docstring:\u001b[0m __init__(self: lsst.meas.extensions.psfex.psfexPsf.PsfexPsf, psf: lsst.meas.extensions.psfex.psf.Psf, averagePosition: lsst.geom.Point2D = Point2D(0, 0)) -> None\n"
      ]
     },
     "metadata": {},
     "output_type": "display_data"
    }
   ],
   "source": [
    "?psf"
   ]
  },
  {
   "cell_type": "code",
   "execution_count": 6,
   "id": "efbe43c3-ecef-4850-90e8-204ef18ca281",
   "metadata": {
    "tags": []
   },
   "outputs": [
    {
     "name": "stdout",
     "output_type": "stream",
     "text": [
      "(41, 41)\n"
     ]
    }
   ],
   "source": [
    "print(star_array.shape)"
   ]
  },
  {
   "cell_type": "markdown",
   "id": "3f75ef0d-0d6a-4d93-870c-050d3a2156bd",
   "metadata": {},
   "source": [
    "https://github.com/lsst/meas_extensions_psfex/blob/main/python/lsst/meas/extensions/psfex/psfex.py"
   ]
  },
  {
   "cell_type": "code",
   "execution_count": 8,
   "id": "182b2b56-0442-4888-97f7-fc7b47c379ee",
   "metadata": {},
   "outputs": [],
   "source": [
    "calexp_info = calexp_exp.getInfo()"
   ]
  },
  {
   "cell_type": "code",
   "execution_count": 10,
   "id": "51ff38a6-280a-4dbb-9f6f-097faf211107",
   "metadata": {
    "tags": []
   },
   "outputs": [],
   "source": [
    "visit_info = calexp_info.getVisitInfo()"
   ]
  },
  {
   "cell_type": "code",
   "execution_count": 13,
   "id": "e193e86a-2277-424e-ae92-f688a3f42172",
   "metadata": {
    "tags": []
   },
   "outputs": [
    {
     "data": {
      "text/plain": [
       "30.0"
      ]
     },
     "execution_count": 13,
     "metadata": {},
     "output_type": "execute_result"
    }
   ],
   "source": [
    "visit_info.exposureTime"
   ]
  },
  {
   "cell_type": "code",
   "execution_count": null,
   "id": "52e50576-dc6e-42b3-ad56-cd851c91c47b",
   "metadata": {},
   "outputs": [],
   "source": []
  }
 ],
 "metadata": {
  "kernelspec": {
   "display_name": "desc-stack-weekly",
   "language": "python",
   "name": "desc-stack-weekly"
  },
  "language_info": {
   "codemirror_mode": {
    "name": "ipython",
    "version": 3
   },
   "file_extension": ".py",
   "mimetype": "text/x-python",
   "name": "python",
   "nbconvert_exporter": "python",
   "pygments_lexer": "ipython3",
   "version": "3.8.8"
  }
 },
 "nbformat": 4,
 "nbformat_minor": 5
}
