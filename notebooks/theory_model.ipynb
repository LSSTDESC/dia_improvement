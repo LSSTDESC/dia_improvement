{
 "cells": [
  {
   "cell_type": "code",
   "execution_count": null,
   "id": "62f2d4c6-7372-4e68-8bbb-8207232e3202",
   "metadata": {},
   "outputs": [],
   "source": [
    "import os\n",
    "import sqlite3\n",
    "import matplotlib.pyplot as plt\n",
    "import numpy as np\n",
    "import pandas as pd\n",
    "\n",
    "import scipy.stats as stats\n",
    "from scipy.stats import norm\n",
    "from scipy.stats import sigmaclip\n",
    "from scipy.stats import median_abs_deviation\n",
    "\n",
    "from astropy.table import Table\n",
    "import astropy.units as u\n",
    "\n",
    "from lsst.daf.persistence import Butler\n",
    "# ignore warnings\n",
    "# import warnings\n",
    "# warnings.filterwarnings('ignore')"
   ]
  },
  {
   "cell_type": "code",
   "execution_count": null,
   "id": "6ec591f5-bae7-42fc-bdf4-a08b9c84c4d0",
   "metadata": {},
   "outputs": [],
   "source": [
    "!pwd"
   ]
  },
  {
   "cell_type": "markdown",
   "id": "91dcc341-2b69-4539-bafb-ad29088d089d",
   "metadata": {},
   "source": [
    "## Functions used to calculate the empirical efficiency"
   ]
  },
  {
   "cell_type": "code",
   "execution_count": null,
   "id": "6afa0a59-ffaf-4ded-835f-de527ca62b5e",
   "metadata": {},
   "outputs": [],
   "source": [
    "# slice the dataframe with given conditions\n",
    "def slice_df(df, equal=None, big=None, small=None):\n",
    "    # condition list\n",
    "    cond_ls = []\n",
    "    if equal:\n",
    "        for key, item in equal.items():\n",
    "            cond_ls.append(df.loc[:, key]==item)\n",
    "    if big:\n",
    "        for key, item in big.items():\n",
    "            cond_ls.append(df.loc[:, key]>item)\n",
    "    if small:\n",
    "        for key, item in small.items():\n",
    "            cond_ls.append(df.loc[:, key]<item)\n",
    "    if not cond_ls:\n",
    "        return df.copy().reset_index(drop=True)\n",
    "    else:\n",
    "        index = np.logical_and.reduce(cond_ls)\n",
    "        sliced_df = df.loc[index].copy().reset_index(drop=True)\n",
    "        return sliced_df\n",
    "    \n",
    "# calculate efficiency\n",
    "def cal_eff(fake_src):\n",
    "    detected_fake = fake_src.loc[fake_src.matched_status.astype(bool)].copy().reset_index(drop=True)\n",
    "    eff = len(detected_fake) / len(fake_src)\n",
    "    err = np.sqrt(eff * (1-eff)) / len(fake_src)\n",
    "    return eff, err\n",
    "\n",
    "# get efficiencies for all host mags at given fake mags\n",
    "def get_efficiency(fake_src_df, host_mag_list=None, fake_mag_list=None):\n",
    "    eff_dict, err_dict = {}, {}\n",
    "    for host_mag in host_mag_list:\n",
    "        efficiency_list = []\n",
    "        err_list = []\n",
    "        for fake_mag in fake_mag_list:\n",
    "            fake_mag_str = str(fake_mag).replace('.', '')\n",
    "            fake_src = slice_df(fake_src_df, equal={'host_mag': host_mag, 'fake_mag': fake_mag_str})\n",
    "            eff, err = cal_eff(fake_src)\n",
    "            efficiency_list.append(eff)\n",
    "            err_list.append(err)\n",
    "        eff_dict[host_mag] = efficiency_list\n",
    "        err_dict[host_mag] = err_list\n",
    "    return eff_dict, err_dict\n"
   ]
  },
  {
   "cell_type": "markdown",
   "id": "f17a7ca2-b2e6-440d-acf3-cb4ca5fe02b8",
   "metadata": {},
   "source": [
    "## Functions used to calculate the theoretical efficiency"
   ]
  },
  {
   "cell_type": "code",
   "execution_count": null,
   "id": "6b445001-3488-4fef-81ad-2eb6af5105f6",
   "metadata": {},
   "outputs": [],
   "source": [
    "# estimate the mean variance of an exposure (unit: instFlux^2)\n",
    "def estimate_var(exp): \n",
    "    # get the variance plane\n",
    "    var_arr = exp.getVariance().array\n",
    "    # remove infinite value and nan value\n",
    "    inf_idx = np.isinf(var_arr)\n",
    "    nan_idx = np.isnan(var_arr)\n",
    "    remove_idx = np.logical_or(inf_idx, nan_idx)\n",
    "    keep_idx = remove_idx == False\n",
    "    var_remove = var_arr[keep_idx].copy()\n",
    "    # remove outliers\n",
    "    var_clipped, _, _ = sigmaclip(var_remove)\n",
    "    var = np.median(var_clipped)\n",
    "    return var\n",
    "\n",
    "# convert mags to fluxes with a given photoCalib (unit: number of electrons)\n",
    "def convert_to_flux(mag_arr, photo_calib):\n",
    "    gain = 0.7\n",
    "    arr_length = len(mag_arr)\n",
    "    flux_list = []\n",
    "    for mag in mag_arr:\n",
    "        flux = photo_calib.magnitudeToInstFlux(mag) * gain\n",
    "        flux_list.append(flux)\n",
    "    return flux_list\n",
    "\n",
    "# calculate the median fluxes (unit: number of electrons)\n",
    "def cal_median_flux(mag_arr, calexp_butler, calexp_info):\n",
    "    full_flux_list = []\n",
    "    for idx, row in calexp_info.iterrows():\n",
    "        # get calexp id\n",
    "        visit = int(row['visit'])\n",
    "        filt = str(row['filter'])\n",
    "        detector = int(row['detector'])\n",
    "        data_id = {'visit': visit, 'filter': filt, 'detector': detector}\n",
    "        # get photoCalib\n",
    "        photo_calib = calexp_butler.get('calexp_photoCalib',  data_id)\n",
    "        flux_list = convert_to_flux(mag_arr, photo_calib)\n",
    "        full_flux_list.append(flux_list)\n",
    "    full_flux_arr = np.array(full_flux_list)\n",
    "    median_flux_arr = np.median(full_flux_arr, axis=0)\n",
    "    return median_flux_arr\n",
    "\n",
    "# calculate the median sky variance (unit: number of electrons)\n",
    "def cal_sky_var(calexp_butler, calexp_info):\n",
    "    gain = 0.7\n",
    "    var_arr = np.zeros(len(calexp_info))\n",
    "    for idx, row in calexp_info.iterrows():\n",
    "        # get calexp id\n",
    "        visit = int(row['visit'])\n",
    "        filt = str(row['filter'])\n",
    "        detector = int(row['detector'])\n",
    "        data_id = {'visit': visit, 'filter': filt, 'detector': detector}\n",
    "        exposure = calexp_butler.get('calexp', dataId=data_id)\n",
    "        # psf = exposure.getPsf().computeImage().array.ravel()\n",
    "        var = estimate_var(exposure) * gain * gain\n",
    "        var_arr[idx] = var\n",
    "    return np.median(var_arr)"
   ]
  },
  {
   "cell_type": "markdown",
   "id": "d0a28687-4559-4b57-8019-dae5dabe86b4",
   "metadata": {},
   "source": [
    "## Get the empirical efficiency"
   ]
  },
  {
   "cell_type": "code",
   "execution_count": null,
   "id": "7d041fd4-7e92-4024-890a-665600340aae",
   "metadata": {},
   "outputs": [],
   "source": [
    "# get the detection information of the fake source\n",
    "default_db = (\n",
    "    f'/global/cscratch1/sd/shl159/projects/dia_improvement/data'\n",
    "    f'/patch_0to6/diff/perfect/al_default/detection/detection.sqlite'\n",
    ")\n",
    "conn = sqlite3.connect(default_db)\n",
    "default_flux = pd.read_sql_query('SELECT * FROM fake_src', conn)"
   ]
  },
  {
   "cell_type": "code",
   "execution_count": null,
   "id": "4b6f368a-8777-4646-b5c7-d92acaeb79f4",
   "metadata": {},
   "outputs": [],
   "source": [
    "host_mag_list = ['20_21', '21_22', '22_23', '23_24', '24_25']\n",
    "fake_mag_list = [20, 21, 22, 23, 24]\n",
    "# get the empirical efficiency and error\n",
    "eff_dict, err_dict = get_efficiency(default_flux, host_mag_list, fake_mag_list)"
   ]
  },
  {
   "cell_type": "markdown",
   "id": "db1c2c07-5136-4ec4-bcce-4f10c465a148",
   "metadata": {},
   "source": [
    "## Get the theoretical efficiency"
   ]
  },
  {
   "cell_type": "code",
   "execution_count": null,
   "id": "9b297978-7cca-4fe1-9f58-22bc40351eea",
   "metadata": {},
   "outputs": [],
   "source": [
    "# get information of the calexp exposures\n",
    "injection_db = (\n",
    "    \"/global/cscratch1/sd/shl159/projects/dia_improvement/data\"\n",
    "    \"/table/gal_4639/injection_coord.sqlite\"\n",
    ")\n",
    "conn = sqlite3.connect(injection_db)\n",
    "calexp_info_query = (f'SELECT distinct(visit), filter, detector, patch_1, patch_2, tract FROM injection_coord')\n",
    "calexp_info = pd.read_sql_query(calexp_info_query, conn)\n",
    "\n",
    "# get butler\n",
    "COADD_REPO = ('/global/cfs/projectdirs/lsst/production/DC2_ImSim/Run2.2i/desc_dm_drp/v19.0.0-v1/rerun/run2.2i-coadd-wfd-dr6-v1-grizy')\n",
    "CALEXP_REPO = ('/global/cfs/projectdirs/lsst/production/DC2_ImSim/Run2.2i/desc_dm_drp/v19.0.0-v1/rerun/run2.2i-calexp-v1')\n",
    "coadd_butler = Butler(COADD_REPO)\n",
    "calexp_butler = Butler(CALEXP_REPO)"
   ]
  },
  {
   "cell_type": "code",
   "execution_count": null,
   "id": "1b7b58da-6f61-4016-968c-d85c03c4c467",
   "metadata": {},
   "outputs": [],
   "source": []
  },
  {
   "cell_type": "code",
   "execution_count": null,
   "id": "997d4432-d33b-4b2b-8dd1-d1ee73010100",
   "metadata": {},
   "outputs": [],
   "source": [
    "# calculate host median flux (unit: number of electrons)\n",
    "# in the number of electrons unit, the host flux is equal to its variance\n",
    "host_mag_arr = np.array([20.5, 21.5, 22.5, 23.5, 24.5])\n",
    "host_median_flux = cal_median_flux(host_mag_arr, calexp_butler, calexp_info)\n",
    "\n",
    "# calculate fake median flux (unit: number of electrons)\n",
    "fake_mag_arr = np.arange(18, 25, 0.1)\n",
    "fake_median_flux = cal_median_flux(fake_mag_arr, calexp_butler, calexp_info)"
   ]
  },
  {
   "cell_type": "code",
   "execution_count": null,
   "id": "29b67728-9694-48a8-97f4-46ea7f74c4b6",
   "metadata": {
    "tags": []
   },
   "outputs": [],
   "source": []
  },
  {
   "cell_type": "code",
   "execution_count": null,
   "id": "42a63a51-ad17-4685-a51b-cdafd516567c",
   "metadata": {},
   "outputs": [],
   "source": [
    "# calculate sky variance (unit: number of electrons)\n",
    "# sky_var = cal_sky_var(calexp_butler, calexp_info)\n",
    "print('sky variance: ', sky_var)\n",
    "# To avoid replicated calculation, we set the sky variance directly\n",
    "sky_var = 1463.3723791503903"
   ]
  },
  {
   "cell_type": "code",
   "execution_count": null,
   "id": "16268a15-ee57-4b25-a43e-beef99619367",
   "metadata": {},
   "outputs": [],
   "source": []
  },
  {
   "cell_type": "code",
   "execution_count": null,
   "id": "4b26dcd6-81ea-4988-896b-26faa62dc14d",
   "metadata": {},
   "outputs": [],
   "source": [
    "# take a look of the variance\n",
    "fig, ax = plt.subplots(1,1, figsize=(8,4))\n",
    "ax.plot(np.arange(5), np.repeat(sky_var, 5), color='b', label='sky variance')\n",
    "ax.plot(np.arange(5), host_median_flux, color='r', label='host variance')\n",
    "ax.set_xlabel('host mag',size=14)\n",
    "ax.set_xticks(np.arange(5))\n",
    "ax.set_xticklabels(host_mag_list, size=15, rotation=45)\n",
    "ax.set_ylabel('variance (unit: # of electrons)',size=15)\n",
    "ax.set_title('variance vs. host mag',size=20)\n",
    "ax.legend()\n",
    "print()"
   ]
  },
  {
   "cell_type": "markdown",
   "id": "159ec0a0-d0e1-4f8d-8472-643a8f043472",
   "metadata": {},
   "source": [
    "## Plotting"
   ]
  },
  {
   "cell_type": "code",
   "execution_count": null,
   "id": "65f1f172-98d8-408a-b447-ad0572cff3e8",
   "metadata": {},
   "outputs": [],
   "source": [
    "# the detection status of the fake source should obey the Bernoulli distribution\n",
    "# calculate the efficiency, which equals the area under the cdf curve starting from 5 to infinity\n",
    "def cal_theory_eff(s2n):\n",
    "    rv = norm(s2n)\n",
    "    return 1 - rv.cdf(5)"
   ]
  },
  {
   "cell_type": "code",
   "execution_count": null,
   "id": "acb2cfe0-b1a1-47b5-a5e8-249439c65bd2",
   "metadata": {},
   "outputs": [],
   "source": [
    "# free parameters used to fit the theory to data\n",
    "sky_scale = 80\n",
    "host_scale = 2\n",
    "\n",
    "host_len = len(host_median_flux)\n",
    "fake_len = len(fake_median_flux)\n",
    "eff_theory_arr = np.zeros((host_len, fake_len))\n",
    "for host_idx, host_flux in enumerate(host_median_flux):\n",
    "    for fake_idx, fake_flux in enumerate(fake_median_flux):\n",
    "        signal = fake_flux\n",
    "        # calculate the variance\n",
    "        variance = sky_var * sky_scale  + host_flux * host_scale\n",
    "        s2n = signal / np.sqrt(variance)\n",
    "        eff = cal_theory_eff(s2n)\n",
    "        eff_theory_arr[host_idx][fake_idx] = eff\n"
   ]
  },
  {
   "cell_type": "code",
   "execution_count": null,
   "id": "174d5e32-d0a2-46a5-bd06-563b817dedaa",
   "metadata": {},
   "outputs": [],
   "source": [
    "fig, ax = plt.subplots(1, 1, figsize=(10, 8))\n",
    "fig.subplots_adjust(hspace=0.3)\n",
    "# plot_efficiency(ax, eff_dict, err_dict, 'efficiency vs. fake mag', host_mag_list, fake_mag_list)\n",
    "\n",
    "color_list = ['r', 'orange', 'y', 'g', 'blue']\n",
    "\n",
    "for host_idx, host_mag in enumerate(host_mag_list):\n",
    "    color = color_list[host_idx]\n",
    "    eff_theory = eff_theory_arr[host_idx]\n",
    "    # plot the empirical efficiency\n",
    "    ax.errorbar(fake_mag_list, eff_dict[host_mag], yerr=err_dict[host_mag],\n",
    "                marker='o', ls='--', color=color, label=host_mag + \" mag\")\n",
    "    # plot the theoretical efficiency\n",
    "    ax.plot(fake_mag_arr, eff_theory, ls='-', color=color)\n",
    "ax.set_xticks(fake_mag_list)\n",
    "ax.set_xticklabels(fake_mag_list, size=15)\n",
    "ax.set_yticks([0, 0.2, 0.4, 0.6, 0.8, 1])\n",
    "ax.set_yticklabels([0, 0.2, 0.4, 0.6, 0.8, 1], size=15)\n",
    "ax.set_ylim((-0.1, 1.1))\n",
    "ax.set_xlabel('fake mag', size=15)\n",
    "ax.set_ylabel('efficiency', size=15)\n",
    "ax.set_title('efficiency vs. fake mag', size=20)\n",
    "ax.legend()"
   ]
  },
  {
   "cell_type": "code",
   "execution_count": null,
   "id": "c1a23084-a4e4-4e5c-a4c4-49df65530e9e",
   "metadata": {},
   "outputs": [],
   "source": []
  }
 ],
 "metadata": {
  "kernelspec": {
   "display_name": "desc-stack-weekly-latest",
   "language": "python",
   "name": "desc-stack-weekly-latest"
  },
  "language_info": {
   "codemirror_mode": {
    "name": "ipython",
    "version": 3
   },
   "file_extension": ".py",
   "mimetype": "text/x-python",
   "name": "python",
   "nbconvert_exporter": "python",
   "pygments_lexer": "ipython3",
   "version": "3.10.5"
  }
 },
 "nbformat": 4,
 "nbformat_minor": 5
}
