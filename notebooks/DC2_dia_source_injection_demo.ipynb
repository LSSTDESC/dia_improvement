{
 "cells": [
  {
   "cell_type": "markdown",
   "id": "6dd10f78-e26e-4b8b-8583-3f536c06fc47",
   "metadata": {},
   "source": [
    "# Inject Sources in v23 for DIA Improvement\n",
    "\n",
    "Michael Wood-Vasey and Shu Liu\n",
    "\n",
    "Based heavily on\n",
    "https://github.com/lsst/source_injection/blob/tickets/DM-34253/examples/si_demo_dc2_visit.ipynb"
   ]
  },
  {
   "cell_type": "code",
   "execution_count": null,
   "id": "8001b736-b728-4742-8023-0e2ceaf8c7e7",
   "metadata": {},
   "outputs": [],
   "source": [
    "import matplotlib.pyplot as plt\n",
    "import numpy as np\n",
    "import pandas as pd\n",
    "from scipy.ndimage import gaussian_filter\n",
    "\n",
    "from lsst.daf.butler import Butler, DimensionUniverse, DatasetType, CollectionTy0pe\n",
    "from lsst.daf.butler.registry import MissingCollectionError\n",
    "import lsst.afw.display as afwDisplay\n",
    "from lsst.source.injection.inject_visit import VisitInjectionConfig, VisitInjectionTask\n",
    "\n",
    "afwDisplay.setDefaultBackend(\"matplotlib\")"
   ]
  },
  {
   "cell_type": "code",
   "execution_count": null,
   "id": "9fb11fa4-4977-4fd5-b46a-3c14c8e8336f",
   "metadata": {},
   "outputs": [],
   "source": [
    "repo_location = \"/global/cfs/cdirs/lsst/production/gen3/DC2/Run2.2i/repo\""
   ]
  }
 ],
 "metadata": {
  "kernelspec": {
   "display_name": "desc-stack-weekly",
   "language": "python",
   "name": "desc-stack-weekly"
  },
  "language_info": {
   "codemirror_mode": {
    "name": "ipython",
    "version": 3
   },
   "file_extension": ".py",
   "mimetype": "text/x-python",
   "name": "python",
   "nbconvert_exporter": "python",
   "pygments_lexer": "ipython3",
   "version": "3.10.5"
  }
 },
 "nbformat": 4,
 "nbformat_minor": 5
}
