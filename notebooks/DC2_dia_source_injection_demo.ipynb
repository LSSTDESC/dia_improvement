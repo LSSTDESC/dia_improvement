{
 "cells": [
  {
   "cell_type": "markdown",
   "id": "6dd10f78-e26e-4b8b-8583-3f536c06fc47",
   "metadata": {},
   "source": [
    "# Inject Sources in v23 for DIA Improvement\n",
    "\n",
    "Michael Wood-Vasey and Shu Liu\n",
    "\n",
    "Based heavily on\n",
    "https://github.com/lsst/source_injection/blob/tickets/DM-34253/examples/si_demo_dc2_visit.ipynb\n",
    "\n",
    "Uses a custom Jupyter kernel to load `tickets/DM-34253` version of `source_injection` package with a\n",
    "setup -j -r ${HOME}/local/lsst/source_injection\n",
    "\n",
    "This is most convenient to do in the `eups` world (and thus before the Notebook starts) rather than in the Jupyter notebook."
   ]
  },
  {
   "cell_type": "code",
   "execution_count": null,
   "id": "9b5cd9b4-c81e-4f4c-8e16-fcc282324ae7",
   "metadata": {},
   "outputs": [],
   "source": [
    "import matplotlib.pyplot as plt\n",
    "import numpy as np\n",
    "import pandas as pd\n",
    "from scipy.ndimage import gaussian_filter"
   ]
  },
  {
   "cell_type": "code",
   "execution_count": null,
   "id": "6637117e-988a-4fe6-ba79-2f4f8711c06d",
   "metadata": {},
   "outputs": [],
   "source": [
    "from lsst.daf.butler import Butler, DimensionUniverse, DatasetType, CollectionType\n",
    "from lsst.daf.butler.registry import MissingCollectionError\n",
    "import lsst.afw.display as afwDisplay\n",
    "from lsst.geom import SpherePoint, degrees\n",
    "\n",
    "afwDisplay.setDefaultBackend(\"matplotlib\")"
   ]
  },
  {
   "cell_type": "code",
   "execution_count": null,
   "id": "95e024dc-f553-40fe-a67e-604f460a085b",
   "metadata": {},
   "outputs": [],
   "source": [
    "from lsst.source.injection.inject_visit import VisitInjectConfig, VisitInjectTask"
   ]
  },
  {
   "cell_type": "markdown",
   "id": "de64188e-5c26-4b4c-a445-6b50177b9562",
   "metadata": {},
   "source": [
    "Need to have a `~/.lsst/db-auth.yaml` file with the db URL, username, and password to load the Butler:"
   ]
  },
  {
   "cell_type": "code",
   "execution_count": null,
   "id": "9fb11fa4-4977-4fd5-b46a-3c14c8e8336f",
   "metadata": {},
   "outputs": [],
   "source": [
    "repo = \"/global/cfs/cdirs/lsst/production/gen3/DC2/Run2.2i/repo\"\n",
    "butler = Butler(repo)"
   ]
  },
  {
   "cell_type": "code",
   "execution_count": null,
   "id": "2cd44aa2-cee7-42fe-80ba-a66ee6c1faad",
   "metadata": {},
   "outputs": [],
   "source": [
    "collections = sorted(list(set(\n",
    "    butler.registry.queryCollections()\n",
    ")))"
   ]
  },
  {
   "cell_type": "code",
   "execution_count": null,
   "id": "b7d3c191-6af8-45cf-affa-c76e7e368aa2",
   "metadata": {},
   "outputs": [],
   "source": [
    "display(collections)"
   ]
  },
  {
   "cell_type": "code",
   "execution_count": null,
   "id": "ca497ef8-f2b4-4efc-a508-a4cbd647fadb",
   "metadata": {},
   "outputs": [],
   "source": [
    "# Let's pick\n",
    "input_collection = \"u/descdm/coadds_Y1_4639\""
   ]
  },
  {
   "cell_type": "code",
   "execution_count": null,
   "id": "31c10720-dc3d-4f0e-b02a-407bad76d1ea",
   "metadata": {},
   "outputs": [],
   "source": [
    "# Find a calexp\n",
    "tract = 4639\n",
    "detector = 1\n",
    "calexp_DatasetRefs = sorted(list(set(\n",
    "    butler.registry.queryDatasets(\n",
    "        \"calexp\",\n",
    "        collections = input_collection,\n",
    "        where=f\"instrument='LSSTCam-imSim' AND skymap='DC2' AND tract={tract} AND detector={detector}\",\n",
    "    ))))"
   ]
  },
  {
   "cell_type": "code",
   "execution_count": null,
   "id": "14454cd0-cb2d-4ec7-aaf9-8fe14d2e77a3",
   "metadata": {},
   "outputs": [],
   "source": [
    "# Find a calexp\n",
    "tract = 4639\n",
    "detector = 1\n",
    "patch = 0\n",
    "calexp_DatasetRefs = sorted(list(set(\n",
    "    butler.registry.queryDatasets(\n",
    "        \"calexp\",\n",
    "        collections = input_collection,\n",
    "        where=f\"instrument='LSSTCam-imSim' AND skymap='DC2' AND tract={tract} AND patch={patch}\",\n",
    "    ))))"
   ]
  },
  {
   "cell_type": "code",
   "execution_count": null,
   "id": "6d1d28fe-74c4-49b2-a05f-b7627b772977",
   "metadata": {},
   "outputs": [],
   "source": [
    "print(f\"Identified {len(calexp_DatasetRefs)} calexp DatasetRefs\")\n",
    "\n",
    "# Let's just pick one and look at it.\n",
    "display(calexp_DatasetRefs[5])\n",
    "\n",
    "dataId = calexp_DatasetRefs[5].dataId\n",
    "\n",
    "print(f\"{dataId = }\")"
   ]
  },
  {
   "cell_type": "code",
   "execution_count": null,
   "id": "91b22b15-b3b6-4fda-9af1-5dcc55bc9e6e",
   "metadata": {},
   "outputs": [],
   "source": [
    "calexp = butler.get(\"calexp\", dataId=dataId, collections=input_collection)\n",
    "display(calexp)"
   ]
  },
  {
   "cell_type": "markdown",
   "id": "68cff360-7995-4349-b5cf-3fca2ce35cc9",
   "metadata": {
    "tags": []
   },
   "source": [
    "## Plot the input calexp\n",
    "\n",
    "Lets generate a plot of this `calexp` and its associated `mask`.\n",
    "\n",
    "First, we smooth the `calexp` image (for the purpose of aiding its display in this notebook).\n",
    "\n",
    "Then, we use afwDisplay to display these data."
   ]
  },
  {
   "cell_type": "code",
   "execution_count": null,
   "id": "ce6adccd-0e48-4a61-af0e-5b80c4edcded",
   "metadata": {},
   "outputs": [],
   "source": [
    "Q = 10\n",
    "\n",
    "plot_calexp = calexp.clone()\n",
    "plot_calexp.image.array = gaussian_filter(calexp.image.array, sigma=3)\n",
    "\n",
    "fig, ax = plt.subplots(1, 2, figsize=(8, 6), dpi=150)\n",
    "\n",
    "plt.sca(ax[0])\n",
    "display0 = afwDisplay.Display(frame=fig)\n",
    "display0.scale(\"asinh\", min=-5/Q, max=25/Q, Q=Q)\n",
    "display0.mtv(plot_calexp.image)\n",
    "plt.title(\"calexp image\")\n",
    "\n",
    "plt.sca(ax[1])\n",
    "display1 = afwDisplay.Display(frame=fig)\n",
    "display1.scale(\"linear\", min=1, max=2)\n",
    "display1.mtv(plot_calexp.mask)\n",
    "plt.title(\"calexp mask\")\n",
    "\n",
    "plt.suptitle(str(dataId), y=0.8)\n",
    "plt.tight_layout()\n",
    "plt.show()"
   ]
  },
  {
   "cell_type": "markdown",
   "id": "139f6953-e703-4a62-aade-ef80298622eb",
   "metadata": {},
   "source": [
    "Set up a synthetic source input catalogue\n",
    "\n",
    "We now have a calexp image that we want to inject into. Next we need to set up a simple synthetic source catalogue.\n",
    "\n",
    "In this notebook, we opt to inject 100 synthetic _point_ sources into the detector.\n"
   ]
  },
  {
   "cell_type": "code",
   "execution_count": null,
   "id": "b95e5790-9024-4075-8642-937d40db5428",
   "metadata": {},
   "outputs": [],
   "source": [
    "np.random.seed(0)\n",
    "\n",
    "nsource = 100\n",
    "\n",
    "x = np.random.uniform(0, calexp.getBBox().endX, nsource)\n",
    "y = np.random.uniform(0, calexp.getBBox().endY, nsource)\n",
    "ra, dec = calexp.wcs.pixelToSkyArray(x, y, degrees=True)"
   ]
  },
  {
   "cell_type": "code",
   "execution_count": null,
   "id": "0d541e07-32a3-420a-9acd-b38fc6708897",
   "metadata": {},
   "outputs": [],
   "source": [
    "si_cat = pd.DataFrame(dict(\n",
    "    ra=ra,\n",
    "    dec=dec,\n",
    "    mag=np.random.uniform(15, 25, nsource),\n",
    "    source_type=\"DeltaFunction\",\n",
    "))\n",
    "\n",
    "display(si_cat[:5])"
   ]
  },
  {
   "cell_type": "markdown",
   "id": "ef5f5b76-48ec-4f3b-abcf-da3df4d74d5e",
   "metadata": {},
   "source": [
    "## Register the source injection collection\n",
    "\n",
    "The input `si_cat` will be ingested into a RUN collection in the `repo`. Here we register this collection for subsequent use below.\n",
    "\n",
    "To begin, we first instantiate a writable `butler`. Butlers are instantiated in read-only mode by default. By setting the argument `writeable` to `True`, a butler can also be made to be writeable.\n",
    "\n",
    "> Warning: take care when working with a writeable butler, as data on-disk has the potential to be permanently removed or corrupted.\n",
    "\n",
    "As a precaution, we attempt to remove our chosen RUN collection if it exists before continuing with processing. If we attempt to inject synthetic sources into a collection which already exists, the task will complain that the output data already exist on disk.\n",
    "\n",
    "Finally, the source injection collection is registered in the `repo`."
   ]
  },
  {
   "cell_type": "code",
   "execution_count": null,
   "id": "9c94d4c4-b2f9-4bde-94cc-411bb04cd1ef",
   "metadata": {},
   "outputs": [],
   "source": [
    "writeable_butler = Butler(repo, writeable=True)\n",
    "\n",
    "si_input_collection = \"u/wmwv/si_demo\"\n",
    "\n",
    "try:\n",
    "    writeable_butler.removeRuns([si_input_collection])\n",
    "except MissingCollectionError:\n",
    "    print(\"Writing into a new RUN collection\")\n",
    "    pass\n",
    "else:\n",
    "    print(\"Prior RUN collection located and successfully removed\")\n",
    "\n",
    "# Register the collection\n",
    "_ = writeable_butler.registry.registerCollection(si_input_collection, type=CollectionType.RUN)"
   ]
  },
  {
   "cell_type": "markdown",
   "id": "926d99f9-2a2d-43b9-a19d-9312fdcab006",
   "metadata": {},
   "source": [
    "## Register the input catalogue dataset type\n",
    "\n",
    "Here we define the `si_cat` dataset type, which lets the `repo` know about the dimensions and storage class for these synthetic source data.\n",
    "\n",
    "Using this definition, the new dataset type is registered in the `repo` using `registerDatasetType`. This method returns True if the datasetType was inserted, and False if an identical existing DatsetType was found."
   ]
  },
  {
   "cell_type": "code",
   "execution_count": null,
   "id": "42f45fa7-0765-4cec-9178-6f257ac3e075",
   "metadata": {},
   "outputs": [],
   "source": [
    "si_dataset_type =  DatasetType(\n",
    "    \"si_cat\",\n",
    "    dimensions=[\"skymap\", \"tract\"],\n",
    "    storageClass=\"DataFrame\",\n",
    "    universe=DimensionUniverse(),\n",
    ")\n",
    "\n",
    "writeable_butler.registry.registerDatasetType(si_dataset_type)"
   ]
  },
  {
   "cell_type": "markdown",
   "id": "d9f5fe08-9a9c-490b-8c53-3a461840538c",
   "metadata": {},
   "source": [
    "## Ingest the input catalogue into the repo\n",
    "\n",
    "Finally, we ingest the input catalogue into the `repo`."
   ]
  },
  {
   "cell_type": "code",
   "execution_count": null,
   "id": "39c4b1b0-af3c-4230-a5cc-095d93084d9b",
   "metadata": {},
   "outputs": [],
   "source": [
    "si_dataId = dict(tract=tract, skymap=\"DC2\")\n",
    "\n",
    "writeable_butler.put(si_cat, si_dataset_type, si_dataId, run=si_input_collection)"
   ]
  },
  {
   "cell_type": "markdown",
   "id": "bcebca75-da67-47e8-886b-854d22a2d15e",
   "metadata": {},
   "source": [
    "Instantiate the injection classes\n",
    "\n",
    "At this stage, we have an input image and we have a fully ingested synthetic source input catalogue. We're now ready to inject synthetic sources into the image using the tools available in the `source_injection` repo.\n",
    "\n",
    "First, we instantiate the `VisitInjectConfig` class. The `VisitInjectConfig` class is where configuration of the injection task occurs, allowing for modifications to be made to how the task operates.\n",
    "\n",
    "Following this, we then instantiate the `VisitInjectTask`, using `inject_config` as the configuration argument."
   ]
  },
  {
   "cell_type": "code",
   "execution_count": null,
   "id": "9e57d03a-d061-4ea7-a7c3-91d0aa175717",
   "metadata": {},
   "outputs": [],
   "source": [
    "inject_config = VisitInjectConfig()\n",
    "\n",
    "display(inject_config)\n",
    "\n",
    "inject_task = VisitInjectTask(config=inject_config)"
   ]
  },
  {
   "cell_type": "markdown",
   "id": "7662f15a-8de5-47fb-b696-56e03f3a3b35",
   "metadata": {},
   "source": [
    "## Generate a deferred dataset handle\n",
    "\n",
    "The visit inject task requires the input catalogue to be in the form of a 'deferred dataset handle'.\n",
    "\n",
    "A deferred dataset handle is an object which performs an immediate registry lookup but does not immediately retrieve the data, allowing for that data to be subsequently accessed as needed.\n",
    "\n",
    "> Note: Prior to running `getDeferred` below, we first re-instantiate the `butler`. This updates the registry, allowing us to make use of our newly constructed source injection RUN collection.\n"
   ]
  },
  {
   "cell_type": "code",
   "execution_count": null,
   "id": "30629e38-1ec0-48cd-bc16-4f6cc4eaff43",
   "metadata": {},
   "outputs": [],
   "source": [
    "butler = Butler(repo)\n",
    "\n",
    "si_cat_deferred = butler.getDeferred(\"si_cat\", dataId=si_dataId, collections=si_input_collection)\n",
    "\n",
    "display(si_cat_deferred)"
   ]
  },
  {
   "cell_type": "markdown",
   "id": "945d943a-f454-4530-a81a-8c0084627a98",
   "metadata": {},
   "source": [
    "## Run the source injection task\n",
    "\n",
    "Finally, we run the run method of the inject task.\n",
    "\n",
    "As an input, the run method needs:\n",
    "\n",
    "the input injection catalogue\n",
    "the input exposure\n",
    "the WCS information\n",
    "the photometric calibration information\n",
    "the skyMap dataset type.\n",
    "The skyMap is easily loaded using butler.get. All other inputs are ready for use at this stage.\n",
    "\n",
    "As an output, the inject task provides:\n",
    "\n",
    "the output exposure with sources injected\n",
    "the output source injection catalogue\n",
    "\n",
    "Note: here we use a clone of the input calexp. This is because the calexp is edited in-place, so inputting a clone allows us to continue using the original calexp later in this notebook."
   ]
  },
  {
   "cell_type": "code",
   "execution_count": null,
   "id": "88ebbf10-a86c-4a87-aed1-41bd5e4ae283",
   "metadata": {},
   "outputs": [],
   "source": [
    "skyMap = butler.get(\"skyMap\", collections=input_collection, skymap=\"DC2\")"
   ]
  },
  {
   "cell_type": "code",
   "execution_count": null,
   "id": "844c1013-a214-4e29-8e0f-c3cd1e598c97",
   "metadata": {},
   "outputs": [],
   "source": [
    "inject_output = inject_task.run(\n",
    "    injection_catalogs=[si_cat_deferred],\n",
    "    input_exposure=calexp.clone(),\n",
    "    sky_map=skyMap,\n",
    "    wcs=calexp.getWcs(),\n",
    "    photo_calib=calexp.getPhotoCalib(),\n",
    ")\n",
    "si_calexp = inject_output.output_exposure\n",
    "si_cat_out = inject_output.output_catalog"
   ]
  },
  {
   "cell_type": "code",
   "execution_count": null,
   "id": "44bfb2f6-ec67-4480-92c5-9fa707a6aef2",
   "metadata": {},
   "outputs": [],
   "source": [
    "display(si_cat_out[:5])"
   ]
  },
  {
   "cell_type": "markdown",
   "id": "3283c31d-905a-4035-9493-1d21936d5b62",
   "metadata": {},
   "source": [
    "## Plot the output si_calexp\n",
    "\n",
    "As before, lets display an image of our newly constructed `si_calexp`.\n",
    "\n",
    "We similarly smooth the new image first, and then display the `calexp` alongside the `si_calexp` using `afwDisplay`."
   ]
  },
  {
   "cell_type": "code",
   "execution_count": null,
   "id": "2b7a2035-bcb9-47e3-a893-695a37acaa42",
   "metadata": {},
   "outputs": [],
   "source": [
    "Q = 10\n",
    "\n",
    "plot_si_calexp = si_calexp.clone()\n",
    "plot_si_calexp.image.array = gaussian_filter(si_calexp.image.array, sigma=3)\n",
    "\n",
    "fig, ax = plt.subplots(1, 2, figsize=(8, 6), dpi=150)\n",
    "\n",
    "plt.sca(ax[0])\n",
    "display0 = afwDisplay.Display(frame=fig)\n",
    "display0.scale(\"asinh\", min=-5/Q, max=25/Q, Q=Q)\n",
    "display0.mtv(plot_calexp.image)\n",
    "plt.title(\"calexp image\")\n",
    "\n",
    "plt.sca(ax[1])\n",
    "display1 = afwDisplay.Display(frame=fig)\n",
    "display1.scale(\"asinh\", min=-5/Q, max=25/Q, Q=Q)\n",
    "display1.mtv(plot_si_calexp.image)\n",
    "plt.title(\"si_calexp image\")\n",
    "\n",
    "plt.suptitle(str(dataId), y=0.8)\n",
    "plt.tight_layout()\n",
    "plt.show()"
   ]
  },
  {
   "cell_type": "markdown",
   "id": "435a25d0-409d-448e-a197-e923d4aa740e",
   "metadata": {},
   "source": [
    "## Plot a zoomed-in view of the si_calexp\n",
    "\n",
    "Here is a zoomed in section of the above."
   ]
  },
  {
   "cell_type": "code",
   "execution_count": null,
   "id": "cb170608-987b-4ac4-bc52-78c53c1b18a9",
   "metadata": {},
   "outputs": [],
   "source": [
    "fig, ax = plt.subplots(1, 2, figsize=(8, 6), dpi=150)\n",
    "\n",
    "plt.sca(ax[0])\n",
    "display0 = afwDisplay.Display(frame=fig)\n",
    "display0.scale(\"asinh\", min=-5/Q, max=25/Q, Q=Q)\n",
    "display0.mtv(plot_calexp.image)\n",
    "plt.title(\"calexp image (zoom)\")\n",
    "plt.xlim(1000, 2500)\n",
    "plt.ylim(300, 1800)\n",
    "\n",
    "plt.sca(ax[1])\n",
    "display1 = afwDisplay.Display(frame=fig)\n",
    "display1.scale(\"asinh\", min=-5/Q, max=25/Q, Q=Q)\n",
    "display1.mtv(plot_si_calexp.image)\n",
    "plt.title(\"si_calexp image (zoom)\")\n",
    "plt.xlim(1000, 2500)\n",
    "plt.ylim(300, 1800)\n",
    "\n",
    "plt.suptitle(str(dataId), y=0.8)\n",
    "plt.tight_layout()\n",
    "plt.show()"
   ]
  },
  {
   "cell_type": "markdown",
   "id": "50f4ba9d-4dae-4178-a4ea-530572b1645d",
   "metadata": {},
   "source": [
    "## Plot the differences between the images\n",
    "\n",
    "It is reasurring to look at a difference image to see the sources we injected."
   ]
  },
  {
   "cell_type": "code",
   "execution_count": null,
   "id": "3572b488-7cd0-485d-be81-90dd9f998933",
   "metadata": {},
   "outputs": [],
   "source": [
    "# Get the x, y back from the ra, dec in si_cat (because that's all that's saved)\n",
    "# This feels a little silly.  There should surely be a one-line version of this:\n",
    "sky = [SpherePoint(ra, dec, degrees) for ra, dec in zip(si_cat_out.ra, si_cat_out.dec)]\n",
    "xy = calexp.wcs.skyToPixel(sky)\n",
    "\n",
    "x = [i.x for i in xy]\n",
    "y = [i.y for i in xy]"
   ]
  },
  {
   "cell_type": "code",
   "execution_count": null,
   "id": "a96074c4-8355-4c2f-863f-38c7c419c5e4",
   "metadata": {},
   "outputs": [],
   "source": [
    "plot_diff_calexp = calexp.clone()\n",
    "plot_diff_calexp.image.array = si_calexp.image.array - calexp.image.array\n",
    "\n",
    "fig, ax = plt.subplots(1, 2, figsize=(8, 6), dpi=150)\n",
    "\n",
    "plt.sca(ax[0])\n",
    "display0 = afwDisplay.Display(frame=fig)\n",
    "display0.scale(\"asinh\", min=-5/Q, max=25/Q, Q=Q)\n",
    "display0.mtv(plot_diff_calexp.image)\n",
    "plt.title(\"diff image (si_calexp - calexp)\")\n",
    "\n",
    "plt.sca(ax[1])\n",
    "display1 = afwDisplay.Display(frame=fig)\n",
    "display1.scale(\"asinh\", min=-5/Q, max=25/Q, Q=Q)\n",
    "display1.mtv(plot_diff_calexp.image)\n",
    "plt.title(\"diff image with markers\")\n",
    "plt.scatter(x, y, marker=\"o\", s=50, fc=\"none\", ec=\"orange\", lw=1.5)\n",
    "\n",
    "plt.suptitle(str(dataId), y=0.8)\n",
    "plt.tight_layout()\n",
    "plt.show()"
   ]
  },
  {
   "cell_type": "code",
   "execution_count": null,
   "id": "a8cbb57c-815b-42a4-833e-db2da6c7b371",
   "metadata": {},
   "outputs": [],
   "source": []
  }
 ],
 "metadata": {
  "kernelspec": {
   "display_name": "desc-stack-weekly-user",
   "language": "python",
   "name": "desc-stack-weekly-user"
  },
  "language_info": {
   "codemirror_mode": {
    "name": "ipython",
    "version": 3
   },
   "file_extension": ".py",
   "mimetype": "text/x-python",
   "name": "python",
   "nbconvert_exporter": "python",
   "pygments_lexer": "ipython3",
   "version": "3.10.5"
  }
 },
 "nbformat": 4,
 "nbformat_minor": 5
}
