{
 "cells": [
  {
   "cell_type": "markdown",
   "id": "6dd10f78-e26e-4b8b-8583-3f536c06fc47",
   "metadata": {},
   "source": [
    "# Inject Sources in v23 for DIA Improvement\n",
    "\n",
    "Michael Wood-Vasey and Shu Liu\n",
    "\n",
    "Based heavily on\n",
    "https://github.com/lsst/source_injection/blob/tickets/DM-34253/examples/si_demo_dc2_visit.ipynb\n",
    "and Shu's work on building host galaxy catalogs from CosmoDC2.\n",
    "\n",
    "This Notebook uses a custom Jupyter kernel to load a version of `source_injection` package with a\n",
    "\n",
    "setup -j -r ${HOME}/local/lsst/source_injection\n",
    "\n",
    "Loading this package is most convenient to do in the `eups` world (and thus before the Notebook starts) rather than in the Jupyter notebook."
   ]
  },
  {
   "cell_type": "code",
   "execution_count": null,
   "id": "9b5cd9b4-c81e-4f4c-8e16-fcc282324ae7",
   "metadata": {},
   "outputs": [],
   "source": [
    "import matplotlib.pyplot as plt\n",
    "import numpy as np\n",
    "import pandas as pd\n",
    "from scipy.ndimage import gaussian_filter\n",
    "\n",
    "from astropy.table import Table"
   ]
  },
  {
   "cell_type": "code",
   "execution_count": null,
   "id": "6637117e-988a-4fe6-ba79-2f4f8711c06d",
   "metadata": {},
   "outputs": [],
   "source": [
    "from lsst.daf.butler import Butler, DimensionUniverse, DatasetType, CollectionType\n",
    "from lsst.daf.butler.registry import MissingCollectionError\n",
    "import lsst.afw.display as afwDisplay\n",
    "from lsst.geom import SpherePoint, degrees\n",
    "from lsst import sphgeom\n",
    "\n",
    "afwDisplay.setDefaultBackend(\"matplotlib\")"
   ]
  },
  {
   "cell_type": "code",
   "execution_count": null,
   "id": "95e024dc-f553-40fe-a67e-604f460a085b",
   "metadata": {},
   "outputs": [],
   "source": [
    "from lsst.source.injection import (\n",
    "    BaseInjectConfig,\n",
    "    BaseInjectTask,\n",
    "    ExposureInjectConfig,\n",
    "    ExposureInjectTask,\n",
    "    VisitInjectConfig,\n",
    "    VisitInjectTask\n",
    ")\n",
    "from lsst.source.injection.utils import ingest_injection_catalog"
   ]
  },
  {
   "cell_type": "markdown",
   "id": "de64188e-5c26-4b4c-a445-6b50177b9562",
   "metadata": {},
   "source": [
    "Need to have a `~/.lsst/db-auth.yaml` file with the db URL, username, and password to load the Butler:"
   ]
  },
  {
   "cell_type": "code",
   "execution_count": null,
   "id": "9fb11fa4-4977-4fd5-b46a-3c14c8e8336f",
   "metadata": {},
   "outputs": [],
   "source": [
    "repo = \"/global/cfs/cdirs/lsst/production/gen3/DC2/Run2.2i/repo\"\n",
    "butler = Butler(repo)"
   ]
  },
  {
   "cell_type": "code",
   "execution_count": null,
   "id": "2cd44aa2-cee7-42fe-80ba-a66ee6c1faad",
   "metadata": {},
   "outputs": [],
   "source": [
    "collections = sorted(list(set(\n",
    "    butler.registry.queryCollections()\n",
    ")))"
   ]
  },
  {
   "cell_type": "code",
   "execution_count": null,
   "id": "b7d3c191-6af8-45cf-affa-c76e7e368aa2",
   "metadata": {
    "scrolled": true,
    "tags": []
   },
   "outputs": [],
   "source": [
    "display(collections)"
   ]
  },
  {
   "cell_type": "code",
   "execution_count": null,
   "id": "ca497ef8-f2b4-4efc-a508-a4cbd647fadb",
   "metadata": {},
   "outputs": [],
   "source": [
    "# Let's pick\n",
    "input_collection = \"u/descdm/coadds_Y1_4639\""
   ]
  },
  {
   "cell_type": "code",
   "execution_count": null,
   "id": "14454cd0-cb2d-4ec7-aaf9-8fe14d2e77a3",
   "metadata": {},
   "outputs": [],
   "source": [
    "# Find a calexp\n",
    "tract = 4639\n",
    "patch = 8\n",
    "band = \"r\"\n",
    "calexp_DatasetRefs = sorted(list(set(\n",
    "    butler.registry.queryDatasets(\n",
    "        \"calexp\",\n",
    "        collections = input_collection,\n",
    "        where=f\"instrument='LSSTCam-imSim' AND skymap='DC2' AND tract={tract} AND patch={patch} AND band='{band}'\",\n",
    "    ))))"
   ]
  },
  {
   "cell_type": "code",
   "execution_count": null,
   "id": "6d1d28fe-74c4-49b2-a05f-b7627b772977",
   "metadata": {},
   "outputs": [],
   "source": [
    "print(f\"Identified {len(calexp_DatasetRefs)} calexp DatasetRefs\")\n",
    "\n",
    "# Let's just pick one and look at it.\n",
    "display(calexp_DatasetRefs[5])\n",
    "\n",
    "data_id = calexp_DatasetRefs[5].dataId\n",
    "\n",
    "print(f\"{data_id = }\")"
   ]
  },
  {
   "cell_type": "code",
   "execution_count": null,
   "id": "91b22b15-b3b6-4fda-9af1-5dcc55bc9e6e",
   "metadata": {},
   "outputs": [],
   "source": [
    "calexp = butler.get(\"calexp\", dataId=data_id, collections=input_collection)\n",
    "src = butler.get(\"src\", dataId=data_id, collections=input_collection)\n",
    "display(calexp)"
   ]
  },
  {
   "cell_type": "markdown",
   "id": "68cff360-7995-4349-b5cf-3fca2ce35cc9",
   "metadata": {
    "tags": []
   },
   "source": [
    "## Plot the input calexp\n",
    "\n",
    "Lets generate a plot of this `calexp` and its associated `mask`.\n",
    "\n",
    "First, we smooth the `calexp` image (for the purpose of aiding its display in this notebook).\n",
    "\n",
    "Then, we use afwDisplay to display these data."
   ]
  },
  {
   "cell_type": "code",
   "execution_count": null,
   "id": "ce6adccd-0e48-4a61-af0e-5b80c4edcded",
   "metadata": {},
   "outputs": [],
   "source": [
    "Q = 10\n",
    "\n",
    "plot_calexp = calexp.clone()\n",
    "plot_calexp.image.array = gaussian_filter(calexp.image.array, sigma=3)\n",
    "\n",
    "fig, ax = plt.subplots(1, 2, figsize=(8, 6), dpi=150)\n",
    "\n",
    "plt.sca(ax[0])\n",
    "display0 = afwDisplay.Display(frame=fig)\n",
    "display0.scale(\"asinh\", min=-5/Q, max=25/Q, Q=Q)\n",
    "display0.mtv(plot_calexp.image)\n",
    "plt.title(\"calexp image\")\n",
    "\n",
    "plt.sca(ax[1])\n",
    "display1 = afwDisplay.Display(frame=fig)\n",
    "display1.scale(\"linear\", min=1, max=2)\n",
    "display1.mtv(plot_calexp.mask)\n",
    "plt.title(\"calexp mask\")\n",
    "\n",
    "plt.suptitle(str(data_id), y=0.8)\n",
    "plt.tight_layout()\n",
    "plt.show()"
   ]
  },
  {
   "cell_type": "markdown",
   "id": "c00e0fc3-eaad-48ed-a78b-cace61d1e663",
   "metadata": {},
   "source": [
    "Note that \"mask\" is an information mask, so the objects show up because their footprint is marked in the \"mask\" plane."
   ]
  },
  {
   "cell_type": "markdown",
   "id": "139f6953-e703-4a62-aade-ef80298622eb",
   "metadata": {},
   "source": [
    "## Set up a synthetic source input catalogue\n",
    "\n",
    "We now have a calexp image that we want to inject into.\n",
    "\n",
    "Use Shu's curated host galaxy catalog to determine locations to inject point sources (\"supernovae\")."
   ]
  },
  {
   "cell_type": "code",
   "execution_count": null,
   "id": "5780c05d-fd85-47b1-9d2f-779d91497ad1",
   "metadata": {},
   "outputs": [],
   "source": [
    "injection_db_path = f\"../data/table/gal_{tract}/injection_coord.sqlite\"\n",
    "injection_table_name = \"injection_coord\""
   ]
  },
  {
   "cell_type": "code",
   "execution_count": null,
   "id": "7e7a4075-98a0-42a2-816d-32437976a113",
   "metadata": {},
   "outputs": [],
   "source": [
    "bands_to_simulate = [\"r\"]\n",
    "mags_to_simulate = [20, 21, 22, 23, 24]\n",
    "si_mag = mags_to_simulate[0]"
   ]
  },
  {
   "cell_type": "code",
   "execution_count": null,
   "id": "0b1ed8b5-6db9-4457-a6e9-03d8cfb7e666",
   "metadata": {},
   "outputs": [],
   "source": [
    "import sqlite3\n",
    "\n",
    "conn = sqlite3.connect(injection_db_path)"
   ]
  },
  {
   "cell_type": "code",
   "execution_count": null,
   "id": "dfecc233-27e9-45ff-81d3-bb7764505e1e",
   "metadata": {},
   "outputs": [],
   "source": [
    "query = f\"SELECT DISTINCT(visit), ra, dec FROM {injection_table_name}\""
   ]
  },
  {
   "cell_type": "code",
   "execution_count": null,
   "id": "0d541e07-32a3-420a-9acd-b38fc6708897",
   "metadata": {},
   "outputs": [],
   "source": [
    "si_cat = pd.read_sql_query(query, conn)\n",
    "si_cat.drop(columns=[\"visit\"], inplace=True)\n",
    "si_cat[\"mag\"] = si_mag\n",
    "si_cat[\"source_type\"] = \"DeltaFunction\"\n",
    "si_cat = Table.from_pandas(si_cat)\n",
    "\n",
    "display(si_cat[:5])"
   ]
  },
  {
   "cell_type": "code",
   "execution_count": null,
   "id": "74ec4ed7-d849-4095-9bcc-767045c2aa62",
   "metadata": {},
   "outputs": [],
   "source": [
    "len(si_cat)"
   ]
  },
  {
   "cell_type": "code",
   "execution_count": null,
   "id": "ba75cbce-5982-4df0-a7cb-908ef49828f8",
   "metadata": {},
   "outputs": [],
   "source": [
    "plt.scatter(si_cat[\"ra\"], si_cat[\"dec\"], marker=\".\")\n",
    "plt.xlim(plt.xlim()[::-1])\n",
    "plt.xlabel(\"RA\")\n",
    "plt.ylabel(\"Dec\")"
   ]
  },
  {
   "cell_type": "markdown",
   "id": "ef5f5b76-48ec-4f3b-abcf-da3df4d74d5e",
   "metadata": {},
   "source": [
    "## Register the source injection collection\n",
    "\n",
    "The input `si_cat` will be ingested into a RUN collection in the `repo`. Here we register this collection for subsequent use below.\n",
    "\n",
    "To begin, we first instantiate a writable `butler`. Butlers are instantiated in read-only mode by default. By setting the argument `writeable` to `True`, a butler can also be made to be writeable.\n",
    "\n",
    "> Warning: take care when working with a writeable butler, as data on-disk has the potential to be permanently removed or corrupted.\n",
    "\n",
    "We ensure our chosen RUN collection doesn't already exist.\n",
    "\n",
    "Finally, the source injection collection is registered in the `repo`."
   ]
  },
  {
   "cell_type": "code",
   "execution_count": null,
   "id": "9c94d4c4-b2f9-4bde-94cc-411bb04cd1ef",
   "metadata": {},
   "outputs": [],
   "source": [
    "writeable_butler = Butler(repo, writeable=True)\n",
    "\n",
    "# Write a separate RUN collection for each fake magnitude range.\n",
    "si_input_collection = f\"u/wmwv/si_demo_{si_mag:02.0f}p{si_mag % 1:1d}\"\n",
    "\n",
    "try:\n",
    "    writeable_butler.removeRuns([si_input_collection])\n",
    "except MissingCollectionError:\n",
    "    print(\"Writing into a new RUN collection\")\n",
    "    pass\n",
    "else:\n",
    "    print(\"Prior RUN collection located and successfully removed\")\n",
    "\n",
    "# Register the collection\n",
    "_ = writeable_butler.registry.registerCollection(si_input_collection, type=CollectionType.RUN)\n",
    "print(f\"Registered collection: {si_input_collection}\")"
   ]
  },
  {
   "cell_type": "markdown",
   "id": "d9f5fe08-9a9c-490b-8c53-3a461840538c",
   "metadata": {},
   "source": [
    "## Ingest the input catalogue into the repo\n",
    "\n",
    "Finally, we ingest the input catalogue into the `repo`.\n",
    "We use the `lsst.source.injection.utils.ingest_injection_catalog` for a little convenience, to make sure we use the same dataset type as in `source_injection`, and to set up how a larger pipetask would do this.  The injection catalogs are arranged sharded by HTM7, so this routine handles that too.\n",
    "\n",
    "This function also ensures that the `injection_catalog` DatasetType exists in the Butler registry, and creates it if it doesn't exist."
   ]
  },
  {
   "cell_type": "code",
   "execution_count": null,
   "id": "c1a5ac00-392a-493b-a703-51845e3b48be",
   "metadata": {
    "tags": []
   },
   "outputs": [],
   "source": [
    "for band in bands_to_simulate:\n",
    "    ingest_injection_catalog(writeable_butler, si_cat, band=band, output_collection=si_input_collection)"
   ]
  },
  {
   "cell_type": "markdown",
   "id": "bcebca75-da67-47e8-886b-854d22a2d15e",
   "metadata": {
    "tags": []
   },
   "source": [
    "## Instantiate the injection classes\n",
    "\n",
    "At this stage, we have an input image and we have a fully ingested synthetic source input catalogue. We're now ready to inject synthetic sources into the image using the tools available in the `source_injection` repo.\n",
    "\n",
    "We'll build up from `BaseInject`->`ExposureInject`->`VisitInject`\n",
    "\n",
    "`BaseInject` is the basic process of what we're doing.  We take an input catalog, and image, and we run image injection and get an image with the added sources.\n",
    "\n",
    "`ExposureInject` wraps this with pulling in information from the input and output collection for a single-detector image.\n",
    "VisitInject takes this to the level of visits.\n",
    "\n",
    "First, we instantiate the `BaseInjectConfig` class. The `BaseInjectConfig` class is where configuration of the injection task occurs, allowing for modifications to be made to how the task operates.\n",
    "\n",
    "Following this, we then instantiate the `BaseInjectTask`, using our `BaseInjectConfig` object as the configuration argument."
   ]
  },
  {
   "cell_type": "code",
   "execution_count": null,
   "id": "9e57d03a-d061-4ea7-a7c3-91d0aa175717",
   "metadata": {},
   "outputs": [],
   "source": [
    "inject_config = ExposureInjectConfig()\n",
    "\n",
    "display(inject_config)\n",
    "\n",
    "inject_task = ExposureInjectTask(config=inject_config)"
   ]
  },
  {
   "cell_type": "markdown",
   "id": "945d943a-f454-4530-a81a-8c0084627a98",
   "metadata": {},
   "source": [
    "## Run the source injection task\n",
    "\n",
    "Finally, we run the run method of the inject task.\n",
    "\n",
    "As an input, the run method needs:\n",
    "\n",
    "the input injection catalogue  \n",
    "the input exposure  \n",
    "the WCS information  \n",
    "the photometric calibration information  \n",
    "the skyMap dataset type.\n",
    "\n",
    "The skyMap is easily loaded using butler.get. All other inputs are already ready for use at this stage.\n",
    "\n",
    "As an output, the inject task provides:\n",
    "\n",
    "the output exposure with sources injected  \n",
    "the output source injection catalogue  \n",
    "\n",
    "Note: here we use a clone of the input calexp. This is because the calexp is edited in-place, so inputting a clone allows us to continue using the original calexp later in this notebook."
   ]
  },
  {
   "cell_type": "code",
   "execution_count": null,
   "id": "2d0418bc-9786-4714-b939-b298cb785ad5",
   "metadata": {},
   "outputs": [],
   "source": [
    "inject_output = inject_task.run(\n",
    "    injection_catalogs=si_cat,\n",
    "    input_exposure=calexp.clone(),\n",
    "    psf=calexp.getPsf(),\n",
    "    wcs=calexp.getWcs(),\n",
    "    photo_calib=calexp.getPhotoCalib(),\n",
    ")"
   ]
  },
  {
   "cell_type": "code",
   "execution_count": null,
   "id": "d1a39a3e-be17-42d6-8bc6-93b66bb45fb1",
   "metadata": {},
   "outputs": [],
   "source": [
    "injected_exposure = inject_output.output_exposure\n",
    "injected_catalog = inject_output.output_catalog"
   ]
  },
  {
   "cell_type": "code",
   "execution_count": null,
   "id": "1d74f288-8471-4e8b-a940-68b705b52690",
   "metadata": {
    "tags": []
   },
   "outputs": [],
   "source": [
    "print(inject_task.config.connections.injected_prefix)\n",
    "print(inject_task.config.connections.output_exposure)\n",
    "print(inject_task.config.connections.output_catalog)"
   ]
  },
  {
   "cell_type": "code",
   "execution_count": null,
   "id": "0cddbae7-5f53-430a-8c25-53c9b6184a73",
   "metadata": {
    "tags": []
   },
   "outputs": [],
   "source": [
    "# We can resolve the f-style string by passing a dict to the string's format method:\n",
    "output_exposure_dataset_type = inject_task.config.connections.output_exposure.format(**inject_task.config.connections.toDict())\n",
    "output_catalog_dataset_type = inject_task.config.connections.output_catalog.format(**inject_task.config.connections.toDict())\n",
    "print(output_exposure_dataset_type)\n",
    "print(output_catalog_dataset_type)"
   ]
  },
  {
   "cell_type": "markdown",
   "id": "9dfe852f-e02c-42e8-b415-b0a5f7f94c41",
   "metadata": {},
   "source": [
    "Put the outputs into the \"injected_postISRCCD{|_catalog}\" datasets.  We use the same data_id that we used to load the calexp."
   ]
  },
  {
   "cell_type": "code",
   "execution_count": null,
   "id": "d6eb2355-89fc-47ab-9399-ae57192084b4",
   "metadata": {
    "tags": []
   },
   "outputs": [],
   "source": [
    "data_id"
   ]
  },
  {
   "cell_type": "markdown",
   "id": "942042d4-c2df-446c-9b51-2d5a275c1678",
   "metadata": {},
   "source": [
    "Create the dataset types that we need.  This only needs to be run for a given butler, so by virtue of me running this demo, these next two lines aren't needed any more."
   ]
  },
  {
   "cell_type": "code",
   "execution_count": null,
   "id": "93fdbc0e-3563-45ea-a2d7-7cef1e54f115",
   "metadata": {
    "tags": []
   },
   "outputs": [],
   "source": [
    "CREATE_DATASET_TYPES = False\n",
    "if CREATE_DATASET_TYPES:\n",
    "    injected_calexp_dataset_type = DatasetType(\n",
    "        name=output_exposure_dataset_type,\n",
    "        storageClass=\"ExposureF\",\n",
    "        dimensions=(\"instrument\", \"visit\", \"detector\"),\n",
    "        universe=DimensionUniverse(),\n",
    "    )\n",
    "    writeable_butler.registry.registerDatasetType(injected_calexp_dataset_type)\n",
    "\n",
    "    injected_catalog_dataset_type = DatasetType(\n",
    "        name=output_catalog_dataset_type,\n",
    "        storageClass=\"ArrowAstropy\",\n",
    "        dimensions=(\"instrument\", \"visit\", \"detector\"),\n",
    "        universe=DimensionUniverse(),\n",
    "    )\n",
    "    writeable_butler.registry.registerDatasetType(injected_catalog_dataset_type)\n",
    "    \n",
    "    injected_catalog_dataset_type = DatasetType(\n",
    "        name=output_catalog_dataset_type,\n",
    "        storageClass=\"ArrowAstropy\",\n",
    "        dimensions=(\"instrument\", \"visit\", \"detector\"),\n",
    "        universe=DimensionUniverse(),\n",
    "    )\n",
    "    writeable_butler.registry.registerDatasetType(injected_catalog_dataset_type)\n",
    "    \n",
    "CREATE_DIFF_DATASET_TYPES = False\n",
    "if CREATE_DIFF_DATASET_TYPES:\n",
    "    coaddName = \"deepCoadd\"\n",
    "    for fakesType in (\"\", \"injected_\"):\n",
    "        deepCoaddDiff_differenceTempExp_dataset_type = DatasetType(\n",
    "            name=f\"{fakesType}{coaddName}Diff_differenceTempExp\",\n",
    "            storageClass=\"ExposureF\",\n",
    "            dimensions=(\"instrument\", \"visit\", \"detector\"),\n",
    "            universe=DimensionUniverse(),\n",
    "        )\n",
    "        writeable_butler.registry.registerDatasetType(deepCoaddDiff_differenceTempExp_dataset_type)\n",
    "\n",
    "        deepCoaddDiff_matchedExp_dataset_type = DatasetType(\n",
    "            name=f\"{fakesType}{coaddName}Diff_matchedExp\",\n",
    "            storageClass=\"ExposureF\",\n",
    "            dimensions=(\"instrument\", \"visit\", \"detector\"),\n",
    "            universe=DimensionUniverse(),\n",
    "        )\n",
    "        writeable_butler.registry.registerDatasetType(deepCoaddDiff_matchedExp_dataset_type)\n",
    "\n",
    "        deepCoaddDiff_differenceScoreExp_dataset_type = DatasetType(\n",
    "            name=f\"{fakesType}{coaddName}Diff_scoreExp\",\n",
    "            storageClass=\"ExposureF\",\n",
    "            dimensions=(\"instrument\", \"visit\", \"detector\"),\n",
    "            universe=DimensionUniverse(),\n",
    "        )\n",
    "        writeable_butler.registry.registerDatasetType(deepCoaddDiff_differenceScoreExp_dataset_type)\n",
    "\n",
    "        deepCoaddDiff_differenceExp_dataset_type = DatasetType(\n",
    "            name=f\"{fakesType}{coaddName}Diff_differenceExp\",\n",
    "            storageClass=\"ExposureF\",\n",
    "            dimensions=(\"instrument\", \"visit\", \"detector\"),\n",
    "            universe=DimensionUniverse(),\n",
    "        )\n",
    "        writeable_butler.registry.registerDatasetType(deepCoaddDiff_differenceExp_dataset_type)\n",
    "\n",
    "        deepCoaddDiff_diaSrc_dataset_type = DatasetType(\n",
    "            name=f\"{fakesType}{coaddName}Diff_diaSrc\",\n",
    "            storageClass=\"SourceCatalog\",\n",
    "            dimensions=(\"instrument\", \"visit\", \"detector\"),\n",
    "            universe=DimensionUniverse(),\n",
    "        )\n",
    "        writeable_butler.registry.registerDatasetType(deepCoaddDiff_diaSrc_dataset_type)\n"
   ]
  },
  {
   "cell_type": "code",
   "execution_count": null,
   "id": "fa647348-48be-4773-8545-32f9be9d9a26",
   "metadata": {
    "tags": []
   },
   "outputs": [],
   "source": [
    "writeable_butler.put(injected_exposure, output_exposure_dataset_type, dataId=data_id, run=si_input_collection)"
   ]
  },
  {
   "cell_type": "code",
   "execution_count": null,
   "id": "c67c943c-7246-4793-af0a-5685b7a0ddfa",
   "metadata": {
    "tags": []
   },
   "outputs": [],
   "source": [
    "writeable_butler.put(injected_catalog, output_catalog_dataset_type, dataId=data_id, run=si_input_collection)"
   ]
  },
  {
   "cell_type": "code",
   "execution_count": null,
   "id": "44bfb2f6-ec67-4480-92c5-9fa707a6aef2",
   "metadata": {},
   "outputs": [],
   "source": [
    "display(injected_catalog[:5])"
   ]
  },
  {
   "cell_type": "markdown",
   "id": "3283c31d-905a-4035-9493-1d21936d5b62",
   "metadata": {},
   "source": [
    "## Plot the output si_calexp\n",
    "\n",
    "As before, let's display an image of our newly constructed `si_calexp`.\n",
    "\n",
    "We similarly smooth the new image first, and then display the `calexp` alongside the `si_calexp` using `afwDisplay`."
   ]
  },
  {
   "cell_type": "code",
   "execution_count": null,
   "id": "2b7a2035-bcb9-47e3-a893-695a37acaa42",
   "metadata": {},
   "outputs": [],
   "source": [
    "Q = 10\n",
    "\n",
    "plot_si_calexp = injected_exposure.clone()\n",
    "plot_si_calexp.image.array = gaussian_filter(injected_exposure.image.array, sigma=3)\n",
    "\n",
    "fig, ax = plt.subplots(1, 2, figsize=(8, 6), dpi=150)\n",
    "\n",
    "plt.sca(ax[0])\n",
    "display0 = afwDisplay.Display(frame=fig)\n",
    "display0.scale(\"asinh\", min=-5/Q, max=25/Q, Q=Q)\n",
    "display0.mtv(plot_calexp.image)\n",
    "plt.title(\"calexp image\")\n",
    "\n",
    "plt.sca(ax[1])\n",
    "display1 = afwDisplay.Display(frame=fig)\n",
    "display1.scale(\"asinh\", min=-5/Q, max=25/Q, Q=Q)\n",
    "display1.mtv(plot_si_calexp.image)\n",
    "plt.title(\"injected calexp image\")\n",
    "\n",
    "plt.suptitle(str(data_id), y=0.8)\n",
    "plt.tight_layout()\n",
    "plt.show()"
   ]
  },
  {
   "cell_type": "markdown",
   "id": "435a25d0-409d-448e-a197-e923d4aa740e",
   "metadata": {},
   "source": [
    "## Plot a zoomed-in view of the si_calexp\n",
    "\n",
    "Here is a zoomed in section of the above."
   ]
  },
  {
   "cell_type": "code",
   "execution_count": null,
   "id": "cb170608-987b-4ac4-bc52-78c53c1b18a9",
   "metadata": {},
   "outputs": [],
   "source": [
    "fig, ax = plt.subplots(1, 2, figsize=(8, 6), dpi=150)\n",
    "\n",
    "plt.sca(ax[0])\n",
    "display0 = afwDisplay.Display(frame=fig)\n",
    "display0.scale(\"asinh\", min=-5/Q, max=25/Q, Q=Q)\n",
    "display0.mtv(plot_calexp.image)\n",
    "plt.title(\"calexp image (zoom)\")\n",
    "plt.xlim(1000, 2500)\n",
    "plt.ylim(300, 1800)\n",
    "\n",
    "plt.sca(ax[1])\n",
    "display1 = afwDisplay.Display(frame=fig)\n",
    "display1.scale(\"asinh\", min=-5/Q, max=25/Q, Q=Q)\n",
    "display1.mtv(plot_si_calexp.image)\n",
    "plt.title(\"si_calexp image (zoom)\")\n",
    "plt.xlim(1000, 2500)\n",
    "plt.ylim(300, 1800)\n",
    "\n",
    "plt.suptitle(str(data_id), y=0.8)\n",
    "plt.tight_layout()\n",
    "plt.show()"
   ]
  },
  {
   "cell_type": "markdown",
   "id": "50f4ba9d-4dae-4178-a4ea-530572b1645d",
   "metadata": {},
   "source": [
    "## Plot the differences between the images\n",
    "\n",
    "It is reasurring to look at a difference image to see the sources we injected."
   ]
  },
  {
   "cell_type": "code",
   "execution_count": null,
   "id": "3572b488-7cd0-485d-be81-90dd9f998933",
   "metadata": {},
   "outputs": [],
   "source": [
    "# Get the x, y back from the ra, dec in si_cat (because that's all that's saved)\n",
    "# This feels a little silly.  There should surely be a one-line version of this:\n",
    "sky = [SpherePoint(ra, dec, degrees) for ra, dec in zip(injected_catalog[\"ra\"], injected_catalog[\"dec\"])]\n",
    "xy = calexp.wcs.skyToPixel(sky)\n",
    "\n",
    "x = [i.x for i in xy]\n",
    "y = [i.y for i in xy]"
   ]
  },
  {
   "cell_type": "code",
   "execution_count": null,
   "id": "a96074c4-8355-4c2f-863f-38c7c419c5e4",
   "metadata": {},
   "outputs": [],
   "source": [
    "plot_diff_calexp = calexp.clone()\n",
    "plot_diff_calexp.image.array = injected_exposure.image.array - calexp.image.array\n",
    "\n",
    "fig, ax = plt.subplots(1, 2, figsize=(8, 6), dpi=150)\n",
    "\n",
    "plt.sca(ax[0])\n",
    "display0 = afwDisplay.Display(frame=fig)\n",
    "display0.scale(\"asinh\", min=-5/Q, max=25/Q, Q=Q)\n",
    "display0.mtv(plot_diff_calexp.image)\n",
    "plt.title(\"diff image (si_calexp - calexp)\")\n",
    "\n",
    "plt.sca(ax[1])\n",
    "display1 = afwDisplay.Display(frame=fig)\n",
    "display1.scale(\"asinh\", min=-5/Q, max=25/Q, Q=Q)\n",
    "display1.mtv(plot_diff_calexp.image)\n",
    "plt.title(\"diff image with markers\")\n",
    "plt.scatter(x, y, marker=\"o\", s=50, fc=\"none\", ec=\"orange\", lw=1.5)\n",
    "\n",
    "plt.suptitle(str(data_id), y=0.8)\n",
    "plt.tight_layout()\n",
    "plt.show()"
   ]
  },
  {
   "cell_type": "code",
   "execution_count": null,
   "id": "24e5a268-2fa4-4955-89eb-c9588a1c0013",
   "metadata": {
    "tags": []
   },
   "outputs": [],
   "source": [
    "data_id"
   ]
  },
  {
   "cell_type": "markdown",
   "id": "44fb6709-1892-46fc-b006-59bb38c14281",
   "metadata": {},
   "source": [
    "Double-check that we can load our datasets that we just saved:"
   ]
  },
  {
   "cell_type": "code",
   "execution_count": null,
   "id": "83d1de90-d5b3-4014-a4eb-e05fdaad8164",
   "metadata": {},
   "outputs": [],
   "source": [
    "injected_postISRCCD_datarefs = writeable_butler.registry.queryDatasets(\n",
    "    \"injected_postISRCCD\",\n",
    "    collections = si_input_collection,\n",
    "    where=f\"instrument='LSSTCam-imSim' AND visit={data_id['visit']} AND detector={data_id['detector']}\",\n",
    ")"
   ]
  },
  {
   "cell_type": "code",
   "execution_count": null,
   "id": "0b592d16-a4fb-474b-ae8e-d1109fd274d1",
   "metadata": {
    "tags": []
   },
   "outputs": [],
   "source": [
    "list(injected_postISRCCD_datarefs)"
   ]
  },
  {
   "cell_type": "markdown",
   "id": "ddca917d-6b12-46cb-a27c-549548acf67f",
   "metadata": {},
   "source": [
    "## Now let's run some subtractions"
   ]
  },
  {
   "cell_type": "markdown",
   "id": "3dd08991-2f6f-44ad-84f7-20fde51e685e",
   "metadata": {
    "tags": []
   },
   "source": [
    "### Utility functions"
   ]
  },
  {
   "cell_type": "code",
   "execution_count": null,
   "id": "b88b0428-50ef-40e0-a106-18cbcf95ca22",
   "metadata": {},
   "outputs": [],
   "source": [
    "def detect(science, subtraction):\n",
    "    # Run detection on subtraction\n",
    "    # Use option to place \"sky\" sources to measure blank regions on the image\n",
    "    detect_and_measure_config = DetectAndMeasureConfig(doSkySources=True)\n",
    "    detect_and_measure_task = DetectAndMeasureTask(config=detect_and_measure_config)\n",
    "\n",
    "    detect_and_measure = detect_and_measure_task.run(science,\n",
    "                                                     subtraction.matchedTemplate,\n",
    "                                                     subtraction.difference)\n",
    "\n",
    "    return detect_and_measure"
   ]
  },
  {
   "cell_type": "code",
   "execution_count": null,
   "id": "69b92f24-5cdb-4f17-8b0c-b793bf09512a",
   "metadata": {
    "tags": []
   },
   "outputs": [],
   "source": [
    "from lsst.ip.diffim import AlardLuptonSubtractConfig, AlardLuptonSubtractTask\n",
    "from lsst.ip.diffim import GetTemplateConfig, GetTemplateTask\n",
    "from lsst.ip.diffim import DetectAndMeasureConfig, DetectAndMeasureTask"
   ]
  },
  {
   "cell_type": "markdown",
   "id": "60fe2464-aa18-4362-ab7b-0de268736e93",
   "metadata": {
    "tags": []
   },
   "source": [
    "### Make a Template Image"
   ]
  },
  {
   "cell_type": "code",
   "execution_count": null,
   "id": "52d8ecd0-98fa-4328-bb9c-efab1e45d0d7",
   "metadata": {
    "tags": []
   },
   "outputs": [],
   "source": [
    "sky_map = butler.get(\"skyMap\", collections=input_collection, skymap=\"DC2\")"
   ]
  },
  {
   "cell_type": "code",
   "execution_count": null,
   "id": "fe9f6acf-11cc-485e-a5a2-fc626c406dee",
   "metadata": {
    "tags": []
   },
   "outputs": [],
   "source": [
    "get_template_task_config = GetTemplateConfig()\n",
    "get_template_task = GetTemplateTask(config=get_template_task_config)"
   ]
  },
  {
   "cell_type": "code",
   "execution_count": null,
   "id": "381ad0ae-9f6f-4e1e-8fb8-282a80ceab60",
   "metadata": {
    "tags": []
   },
   "outputs": [],
   "source": [
    "patches = (0, 1, 2, 7, 8, 9, 14, 15, 16, 17)\n",
    "band = calexp.getFilter().bandLabel\n",
    "coadd_exposure_deferred_dataset_handles = butler.registry.queryDatasets(\n",
    "    \"deepCoadd\",\n",
    "    collections=input_collection,\n",
    "    where=f\"instrument='LSSTCam-imSim' AND skymap='DC2' AND tract={tract} AND patch IN {patches} AND band='{band}'\",\n",
    ")"
   ]
  },
  {
   "cell_type": "code",
   "execution_count": null,
   "id": "9b5b1e4b-8970-4e1f-a6e2-a26cd381e147",
   "metadata": {
    "tags": []
   },
   "outputs": [],
   "source": [
    "list(coadd_exposure_deferred_dataset_handles)"
   ]
  },
  {
   "cell_type": "code",
   "execution_count": null,
   "id": "b9155a17-41f7-4814-b245-b6c9f9775a63",
   "metadata": {
    "tags": []
   },
   "outputs": [],
   "source": [
    "coadd_exposures = [butler.get(dR) for dR in coadd_exposure_deferred_dataset_handles]"
   ]
  },
  {
   "cell_type": "code",
   "execution_count": null,
   "id": "6a99cd70-efc0-40c0-852c-fabe93d9ca2c",
   "metadata": {
    "tags": []
   },
   "outputs": [],
   "source": [
    "coadd_data_ids = [{\"tract\": tract, \"patch\": p, \"band\": band} for p in patches]\n",
    "deep_coadd_template = get_template_task.run(coaddExposures=coadd_exposures,\n",
    "                                            bbox=calexp.getBBox(),\n",
    "                                            wcs=calexp.getWcs(),\n",
    "                                            dataIds=coadd_data_ids)"
   ]
  },
  {
   "cell_type": "code",
   "execution_count": null,
   "id": "2a8d9e5e-3959-4d79-be37-c9fc416075b7",
   "metadata": {},
   "outputs": [],
   "source": [
    "del coadd_exposures"
   ]
  },
  {
   "cell_type": "code",
   "execution_count": null,
   "id": "663d8e2e-5932-43c3-9fa7-b0dc37c9ee16",
   "metadata": {
    "tags": []
   },
   "outputs": [],
   "source": [
    "displayc = afwDisplay.Display()\n",
    "displayc.scale(\"asinh\", min=-5/Q, max=25/Q, Q=Q)\n",
    "displayc.mtv(deep_coadd_template.template.image)"
   ]
  },
  {
   "cell_type": "code",
   "execution_count": null,
   "id": "a18a845b-3d26-4a37-a590-9f02c3e88784",
   "metadata": {
    "tags": []
   },
   "outputs": [],
   "source": [
    "### Run Subtraction"
   ]
  },
  {
   "cell_type": "markdown",
   "id": "90f78f7c-daec-4a88-8cf1-9273ade061f8",
   "metadata": {},
   "source": [
    "Now we can run a subtraction for each of the original image and for the injected image:"
   ]
  },
  {
   "cell_type": "code",
   "execution_count": null,
   "id": "bb731f7e-9c0b-4011-8ba5-b5213986c079",
   "metadata": {
    "tags": []
   },
   "outputs": [],
   "source": [
    "config = AlardLuptonSubtractConfig()\n",
    "task = AlardLuptonSubtractTask(config=config)"
   ]
  },
  {
   "cell_type": "markdown",
   "id": "f32d5a3a-1509-4287-b916-bf5fee4e2fb1",
   "metadata": {},
   "source": [
    "We'll use the source catalog from the original image that we loaded at the beginning"
   ]
  },
  {
   "cell_type": "code",
   "execution_count": null,
   "id": "20b79906-bcd5-44ff-9757-32a02c0abc9b",
   "metadata": {
    "tags": []
   },
   "outputs": [],
   "source": [
    "subtraction = task.run(deep_coadd_template.template, calexp, src)"
   ]
  },
  {
   "cell_type": "code",
   "execution_count": null,
   "id": "b9ef1331-8a06-47ef-a885-ba43b52b8c11",
   "metadata": {
    "tags": []
   },
   "outputs": [],
   "source": [
    "detections = detect(calexp, subtraction)"
   ]
  },
  {
   "cell_type": "markdown",
   "id": "8688850a-2866-4d29-8afe-d47ec02caa2c",
   "metadata": {},
   "source": [
    "#### Save to butler"
   ]
  },
  {
   "cell_type": "code",
   "execution_count": null,
   "id": "4d46f084-9f81-41c7-a354-87e42385c035",
   "metadata": {
    "tags": []
   },
   "outputs": [],
   "source": [
    "fakesType = \"\"\n",
    "coaddName = \"deepCoadd\"\n",
    "output_difference_dataset_type = f\"{fakesType}{coaddName}Diff_differenceTempExp\"\n",
    "output_matchedTemplate_dataset_type = f\"{fakesType}{coaddName}Diff_matchedExp\"\n",
    "output_diaSrc_dataset_type = f\"{fakesType}{coaddName}Diff_diaSrc\"\n",
    "output_measuredExposure_dataset_type = f\"{fakesType}{coaddName}Diff_differenceExp\""
   ]
  },
  {
   "cell_type": "markdown",
   "id": "104c4e26-cf89-4995-88df-29f0eeab07ec",
   "metadata": {
    "tags": []
   },
   "source": [
    "The `subtractedMeasuredExposure` has footprints recorded in the mask plane for sources measured in the difference image."
   ]
  },
  {
   "cell_type": "code",
   "execution_count": null,
   "id": "1780608a-8671-4909-9481-0ac36e51fc19",
   "metadata": {
    "tags": []
   },
   "outputs": [],
   "source": [
    "writeable_butler.put(subtraction.difference, output_difference_dataset_type, dataId=data_id, run=si_input_collection)\n",
    "writeable_butler.put(subtraction.matchedTemplate, output_matchedTemplate_dataset_type, dataId=data_id, run=si_input_collection)\n",
    "writeable_butler.put(detections.diaSources, output_diaSrc_dataset_type, dataId=data_id, run=si_input_collection)\n",
    "writeable_butler.put(detections.subtractedMeasuredExposure, output_measuredExposure_dataset_type, dataId=data_id, run=si_input_collection);"
   ]
  },
  {
   "cell_type": "code",
   "execution_count": null,
   "id": "2851826f-1143-4de9-b0d7-5a7b655eda3e",
   "metadata": {
    "tags": []
   },
   "outputs": [],
   "source": [
    "#### Run Injected Subtraction"
   ]
  },
  {
   "cell_type": "code",
   "execution_count": null,
   "id": "ceb977e9-1e7e-47b7-97dc-dc207fe2821d",
   "metadata": {
    "tags": []
   },
   "outputs": [],
   "source": [
    "injected_subtraction = task.run(deep_coadd_template.template, injected_exposure, src)"
   ]
  },
  {
   "cell_type": "code",
   "execution_count": null,
   "id": "60649b3f-5d0a-4867-95c2-3e26b48bc4f4",
   "metadata": {
    "tags": []
   },
   "outputs": [],
   "source": [
    "injected_detections = detect(calexp, injected_subtraction)"
   ]
  },
  {
   "cell_type": "markdown",
   "id": "52d82205-d553-440b-a25c-dfe771880ad9",
   "metadata": {},
   "source": [
    "#### Save Injected Subtraction results"
   ]
  },
  {
   "cell_type": "code",
   "execution_count": null,
   "id": "55d63eac-aaf9-4304-868c-690b6350b642",
   "metadata": {
    "tags": []
   },
   "outputs": [],
   "source": [
    "fakesType = \"injected_\"\n",
    "coaddName = \"deepCoadd\"\n",
    "output_difference_dataset_type = f\"{fakesType}{coaddName}Diff_differenceTempExp\"\n",
    "output_matchedTemplate_dataset_type = f\"{fakesType}{coaddName}Diff_matchedExp\"\n",
    "output_diaSrc_dataset_type = f\"{fakesType}{coaddName}Diff_diaSrc\"\n",
    "output_measuredExposure_dataset_type = f\"{fakesType}{coaddName}Diff_differenceExp\""
   ]
  },
  {
   "cell_type": "code",
   "execution_count": null,
   "id": "bdad4cca-0c4a-42fb-bfd8-02375807df83",
   "metadata": {
    "tags": []
   },
   "outputs": [],
   "source": [
    "writeable_butler.put(injected_subtraction.difference, output_difference_dataset_type, dataId=data_id, run=si_input_collection)\n",
    "writeable_butler.put(injected_subtraction.matchedTemplate, output_matchedTemplate_dataset_type, dataId=data_id, run=si_input_collection)\n",
    "writeable_butler.put(injected_detections.diaSources, output_diaSrc_dataset_type, dataId=data_id, run=si_input_collection)\n",
    "writeable_butler.put(injected_detections.subtractedMeasuredExposure, output_measuredExposure_dataset_type, dataId=data_id, run=si_input_collection);"
   ]
  },
  {
   "cell_type": "markdown",
   "id": "bad84d41-6506-4165-9043-05a2de88aa8f",
   "metadata": {},
   "source": [
    "## Analyze results"
   ]
  },
  {
   "cell_type": "markdown",
   "id": "b5e8665a-5f7a-4801-84d3-d0ae1c4a63db",
   "metadata": {
    "tags": []
   },
   "source": [
    "We now have some data products written to our butler repo.  Let's use some `analysis_tools` metrics to analyze.\n",
    "\n",
    "Example here taken from https://github.com/lsst-sitcom/notebooks_dia/blob/main/explore_auxtel_latiss_dia.ipynb"
   ]
  },
  {
   "cell_type": "code",
   "execution_count": null,
   "id": "5782fbb3-b247-4020-bf75-99121754ec06",
   "metadata": {
    "tags": []
   },
   "outputs": [],
   "source": [
    "from lsst.analysis.tools.actions.vector import ConvertUnits, FlagSelector, GoodDiaSourceSelector, LoadVector\n",
    "from lsst.analysis.tools.atools import SkySourceHistPlot, SkySourceSkyPlot, NumDiaSourcesAllMetric, NumDiaSourcesMetric, NumDipolesMetric"
   ]
  },
  {
   "cell_type": "code",
   "execution_count": null,
   "id": "12ebbf39-f082-4a71-a40e-f38620acf1ae",
   "metadata": {
    "tags": []
   },
   "outputs": [],
   "source": [
    "diaSrc = detections.diaSources\n",
    "injected_diaSrc = injected_detections.diaSources"
   ]
  },
  {
   "cell_type": "code",
   "execution_count": null,
   "id": "d3d0e4f8-4543-4b25-8d72-a90f92140919",
   "metadata": {
    "tags": []
   },
   "outputs": [],
   "source": [
    "plot_info_dict = {\"bands\": data_id[\"band\"], \"visit\": data_id[\"visit\"], \"run\": si_input_collection, \"tableName\": \"deepDiff_diaSrc\"}"
   ]
  },
  {
   "cell_type": "code",
   "execution_count": null,
   "id": "d664be8f-9c5f-4ef4-baac-eb9f89a0a28d",
   "metadata": {
    "tags": []
   },
   "outputs": [],
   "source": [
    "plot = SkySourceHistPlot()"
   ]
  },
  {
   "cell_type": "code",
   "execution_count": null,
   "id": "b41e6198-926c-4fae-bbb4-7c04a6f442d2",
   "metadata": {
    "tags": []
   },
   "outputs": [],
   "source": [
    "# Use the GoodDiaSourceSelector to get the standard pixel flag selection of good DIA sources\n",
    "plot.prep.selectors.skySourceSelector = GoodDiaSourceSelector\n",
    "# And then specify that we just want the sky sources\n",
    "plot.prep.selectors.skySourceSelector.selectWhenTrue = [\"sky_source\"]\n",
    "\n",
    "# We have to rename the columns from the SkySource assumptions of having a DPDD-ified catalog\n",
    "plot.process.buildActions.hist_psf_flux.vectorKey = \"slot_PsfFlux_instFlux\"\n",
    "plot.process.buildActions.hist_ap09_flux.vectorKey = \"base_CircularApertureFlux_9_0_instFlux\"\n",
    "plot.process.buildActions.hist_psf_sn.fluxType = \"slot_PsfFlux_instFlux\"\n",
    "plot.process.buildActions.hist_ap09_sn.fluxType = \"base_CircularApertureFlux_9_0_instFlux\""
   ]
  },
  {
   "cell_type": "code",
   "execution_count": null,
   "id": "276feca3-a745-4369-ac26-b5f30f35d27a",
   "metadata": {
    "tags": []
   },
   "outputs": [],
   "source": [
    "plot.produce.plot.panels[\"panel_flux\"].bins = 25\n",
    "plot.produce.plot.panels[\"panel_sn\"].bins = 25"
   ]
  },
  {
   "cell_type": "code",
   "execution_count": null,
   "id": "f5124826-1379-4ece-9773-ce071bd415f5",
   "metadata": {
    "tags": []
   },
   "outputs": [],
   "source": [
    "plot.finalize()\n",
    "results = plot(diaSrc, band=data_id[\"band\"], plotInfo=plot_info_dict)"
   ]
  },
  {
   "cell_type": "code",
   "execution_count": null,
   "id": "7ada0b1c-49b7-4f58-9865-d1b0fe8a2249",
   "metadata": {
    "tags": []
   },
   "outputs": [],
   "source": [
    "plot.finalize()\n",
    "results = plot(injected_diaSrc, band=data_id[\"band\"], plotInfo=plot_info_dict)"
   ]
  },
  {
   "cell_type": "code",
   "execution_count": null,
   "id": "00733eaf-e3e6-4b00-be4c-6560c763e229",
   "metadata": {
    "tags": []
   },
   "outputs": [],
   "source": [
    "plot = SkySourceSkyPlot()\n",
    "\n",
    "# Use the GoodDiaSourceSelector to get the standard pixel flag selection of good DIA sources\n",
    "plot.prep.selectors.skySourceSelector = GoodDiaSourceSelector\n",
    "# And then specify that we just want the sky sources\n",
    "plot.prep.selectors.skySourceSelector.selectWhenTrue = [\"sky_source\"]\n",
    "\n",
    "# We have to rename the columns from the SkySource assumptions of having a DPDD-ified catalog\n",
    "plot.process.buildActions.z.vectorKey = \"base_CircularApertureFlux_9_0_instFlux\"\n",
    "plot.process.buildActions.statMask.fluxType = \"slot_PsfFlux_instFlux\"\n",
    "\n",
    "# Convert from rad to degree\n",
    "# I think this is the simplest way to do it\n",
    "# We have to override the existing x, y VectorActions\n",
    "plot.process.buildActions.x = ConvertUnits(buildAction=LoadVector, inUnit=\"rad\", outUnit=\"degree\")\n",
    "plot.process.buildActions.x.buildAction.vectorKey = \"coord_ra\"\n",
    "plot.process.buildActions.y = ConvertUnits(buildAction=LoadVector, inUnit=\"rad\", outUnit=\"degree\")\n",
    "plot.process.buildActions.y.buildAction.vectorKey = \"coord_dec\""
   ]
  },
  {
   "cell_type": "code",
   "execution_count": null,
   "id": "2f83997c-44dd-402e-bde3-339f0e74a946",
   "metadata": {
    "tags": []
   },
   "outputs": [],
   "source": [
    "plot.finalize()\n",
    "results = plot(diaSrc, band=data_id[\"band\"], plotInfo=plot_info_dict)"
   ]
  },
  {
   "cell_type": "code",
   "execution_count": null,
   "id": "71edfa22-39dd-4fe3-9669-16673072617f",
   "metadata": {},
   "outputs": [],
   "source": [
    "plot.finalize()\n",
    "results = plot(injected_diaSrc, band=data_id[\"band\"], plotInfo=plot_info_dict)"
   ]
  }
 ],
 "metadata": {
  "kernelspec": {
   "display_name": "desc-stack-weekly-user",
   "language": "python",
   "name": "desc-stack-weekly-user"
  },
  "language_info": {
   "codemirror_mode": {
    "name": "ipython",
    "version": 3
   },
   "file_extension": ".py",
   "mimetype": "text/x-python",
   "name": "python",
   "nbconvert_exporter": "python",
   "pygments_lexer": "ipython3",
   "version": "3.11.4"
  }
 },
 "nbformat": 4,
 "nbformat_minor": 5
}
