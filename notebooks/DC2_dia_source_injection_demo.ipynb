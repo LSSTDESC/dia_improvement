{
 "cells": [
  {
   "cell_type": "markdown",
   "id": "6dd10f78-e26e-4b8b-8583-3f536c06fc47",
   "metadata": {},
   "source": [
    "# Inject Sources, Subtract and Analyze for DIA Improvement\n",
    "\n",
    "Michael Wood-Vasey and Shu Liu\n",
    "\n",
    "Based heavily on\n",
    "https://github.com/lsst/source_injection/blob/tickets/DM-34253/examples/si_demo_dc2_visit.ipynb\n",
    "and Shu's work on building host galaxy catalogs from CosmoDC2.\n",
    "\n",
    "This Notebook uses a custom Jupyter kernel to load a version of `source_injection` package with a\n",
    "\n",
    "setup -j -r ${HOME}/local/lsst/source_injection\n",
    "\n",
    "Loading this package is most convenient to do in the `eups` world (and thus before the Notebook starts) rather than in the Jupyter notebook.\n",
    "\n",
    "### Butler\n",
    "\n",
    "This Notebook uses the Butler to store data products, and loads new ones for each section."
   ]
  },
  {
   "cell_type": "markdown",
   "id": "d72b524d-4b4a-466d-b624-179a86f0f32c",
   "metadata": {
    "tags": []
   },
   "source": [
    "### Import Modules"
   ]
  },
  {
   "cell_type": "code",
   "execution_count": null,
   "id": "9b5cd9b4-c81e-4f4c-8e16-fcc282324ae7",
   "metadata": {},
   "outputs": [],
   "source": [
    "import matplotlib.pyplot as plt\n",
    "import numpy as np\n",
    "import pandas as pd\n",
    "from scipy.ndimage import gaussian_filter\n",
    "import sqlite3\n",
    "\n",
    "from astropy.coordinates import SkyCoord\n",
    "from astropy.table import Table\n",
    "import astropy.units as u"
   ]
  },
  {
   "cell_type": "code",
   "execution_count": null,
   "id": "0c88df43-d34d-437b-8234-3571066aa38c",
   "metadata": {
    "tags": []
   },
   "outputs": [],
   "source": [
    "from lsst.ap.association import TransformDiaSourceCatalogConfig, TransformDiaSourceCatalogTask"
   ]
  },
  {
   "cell_type": "code",
   "execution_count": null,
   "id": "6637117e-988a-4fe6-ba79-2f4f8711c06d",
   "metadata": {},
   "outputs": [],
   "source": [
    "from lsst.daf.butler import Butler, DimensionUniverse, DatasetType, CollectionType\n",
    "from lsst.daf.butler.registry import MissingCollectionError\n",
    "import lsst.afw.display as afwDisplay\n",
    "from lsst.geom import SpherePoint, degrees\n",
    "from lsst.ip.diffim import AlardLuptonSubtractConfig, AlardLuptonSubtractTask\n",
    "from lsst.ip.diffim import GetTemplateConfig, GetTemplateTask\n",
    "from lsst.ip.diffim import DetectAndMeasureConfig, DetectAndMeasureTask\n",
    "\n",
    "afwDisplay.setDefaultBackend(\"matplotlib\")"
   ]
  },
  {
   "cell_type": "code",
   "execution_count": null,
   "id": "95e024dc-f553-40fe-a67e-604f460a085b",
   "metadata": {},
   "outputs": [],
   "source": [
    "from lsst.source.injection import (ExposureInjectConfig, ExposureInjectTask)\n",
    "from lsst.source.injection.utils import ingest_injection_catalog"
   ]
  },
  {
   "cell_type": "markdown",
   "id": "bb6f93b1-5a4a-4f69-a84c-bb1d28fe48c8",
   "metadata": {
    "jp-MarkdownHeadingCollapsed": true,
    "tags": []
   },
   "source": [
    "### Load Butler and Pick Image for this Example"
   ]
  },
  {
   "cell_type": "markdown",
   "id": "de64188e-5c26-4b4c-a445-6b50177b9562",
   "metadata": {},
   "source": [
    "Need to have a `~/.lsst/db-auth.yaml` file with the db URL, username, and password to load the Butler:"
   ]
  },
  {
   "cell_type": "code",
   "execution_count": null,
   "id": "9fb11fa4-4977-4fd5-b46a-3c14c8e8336f",
   "metadata": {},
   "outputs": [],
   "source": [
    "repo = \"/global/cfs/cdirs/lsst/production/gen3/DC2/Run2.2i/repo\"\n",
    "butler = Butler(repo, writeable=True)"
   ]
  },
  {
   "cell_type": "code",
   "execution_count": null,
   "id": "2cd44aa2-cee7-42fe-80ba-a66ee6c1faad",
   "metadata": {
    "tags": []
   },
   "outputs": [],
   "source": [
    "collections = sorted(list(set(\n",
    "    butler.registry.queryCollections()\n",
    ")))"
   ]
  },
  {
   "cell_type": "code",
   "execution_count": null,
   "id": "b7d3c191-6af8-45cf-affa-c76e7e368aa2",
   "metadata": {
    "scrolled": true,
    "tags": []
   },
   "outputs": [],
   "source": [
    "display(collections)"
   ]
  },
  {
   "cell_type": "code",
   "execution_count": null,
   "id": "ca497ef8-f2b4-4efc-a508-a4cbd647fadb",
   "metadata": {},
   "outputs": [],
   "source": [
    "# Let's pick\n",
    "input_collection = \"u/descdm/coadds_Y1_4639\""
   ]
  },
  {
   "cell_type": "code",
   "execution_count": null,
   "id": "14454cd0-cb2d-4ec7-aaf9-8fe14d2e77a3",
   "metadata": {},
   "outputs": [],
   "source": [
    "# Find a calexp\n",
    "tract = 4639\n",
    "patch = 8\n",
    "band = \"r\"\n",
    "calexp_DatasetRefs = sorted(list(set(\n",
    "    butler.registry.queryDatasets(\n",
    "        \"calexp\",\n",
    "        collections = input_collection,\n",
    "        where=f\"instrument='LSSTCam-imSim' AND skymap='DC2' AND tract={tract} AND patch={patch} AND band='{band}'\",\n",
    "    ))))"
   ]
  },
  {
   "cell_type": "code",
   "execution_count": null,
   "id": "6d1d28fe-74c4-49b2-a05f-b7627b772977",
   "metadata": {},
   "outputs": [],
   "source": [
    "print(f\"Identified {len(calexp_DatasetRefs)} calexp DatasetRefs\")\n",
    "\n",
    "# Let's just pick one and look at it.\n",
    "display(calexp_DatasetRefs[5])\n",
    "\n",
    "data_id = calexp_DatasetRefs[5].dataId\n",
    "\n",
    "print(f\"{data_id = }\")"
   ]
  },
  {
   "cell_type": "code",
   "execution_count": null,
   "id": "91b22b15-b3b6-4fda-9af1-5dcc55bc9e6e",
   "metadata": {},
   "outputs": [],
   "source": [
    "calexp = butler.get(\"calexp\", dataId=data_id, collections=input_collection)\n",
    "src = butler.get(\"src\", dataId=data_id, collections=input_collection)\n",
    "display(calexp)"
   ]
  },
  {
   "cell_type": "markdown",
   "id": "139f6953-e703-4a62-aade-ef80298622eb",
   "metadata": {
    "tags": []
   },
   "source": [
    "## Create Synthetic Source Input Catalogue\n",
    "\n",
    "We now have a calexp image that we want to inject into.\n",
    "\n",
    "Use Shu's curated host galaxy catalog to determine locations to inject point sources."
   ]
  },
  {
   "cell_type": "markdown",
   "id": "2975e5f4-38a0-4087-90d9-59490b0aad6d",
   "metadata": {},
   "source": [
    "### Read Catalog"
   ]
  },
  {
   "cell_type": "code",
   "execution_count": null,
   "id": "5780c05d-fd85-47b1-9d2f-779d91497ad1",
   "metadata": {},
   "outputs": [],
   "source": [
    "injection_db_path = f\"../data/table/gal_{tract}/injection_coord.sqlite\"\n",
    "injection_table_name = \"injection_coord\""
   ]
  },
  {
   "cell_type": "code",
   "execution_count": null,
   "id": "7e7a4075-98a0-42a2-816d-32437976a113",
   "metadata": {},
   "outputs": [],
   "source": [
    "bands_to_simulate = [\"r\"]\n",
    "mags_to_simulate = [20, 21, 22, 23, 24]\n",
    "injection_mag = mags_to_simulate[0]"
   ]
  },
  {
   "cell_type": "code",
   "execution_count": null,
   "id": "0b1ed8b5-6db9-4457-a6e9-03d8cfb7e666",
   "metadata": {},
   "outputs": [],
   "source": [
    "conn = sqlite3.connect(injection_db_path)"
   ]
  },
  {
   "cell_type": "code",
   "execution_count": null,
   "id": "dfecc233-27e9-45ff-81d3-bb7764505e1e",
   "metadata": {},
   "outputs": [],
   "source": [
    "query = f\"SELECT DISTINCT(visit), ra, dec FROM {injection_table_name}\""
   ]
  },
  {
   "cell_type": "code",
   "execution_count": null,
   "id": "f9e4236b-4537-4537-b76e-c1c2bbc6cf5a",
   "metadata": {},
   "outputs": [],
   "source": [
    "injection_cat = pd.read_sql_query(query, conn)\n",
    "injection_cat.drop(columns=[\"visit\"], inplace=True)\n",
    "injection_cat[\"mag\"] = injection_mag\n",
    "injection_cat[\"source_type\"] = \"DeltaFunction\"\n",
    "injection_cat = Table.from_pandas(injection_cat)"
   ]
  },
  {
   "cell_type": "code",
   "execution_count": null,
   "id": "74ec4ed7-d849-4095-9bcc-767045c2aa62",
   "metadata": {},
   "outputs": [],
   "source": [
    "print(f\"{len(injection_cat)} in raw catalog\")"
   ]
  },
  {
   "cell_type": "markdown",
   "id": "9f9066d7-b9d9-4652-954d-fbc75cc47721",
   "metadata": {},
   "source": [
    "But this catalog was organized by \"visit, ra, dec\" so it has duplicates for every visit that covered that RA, Dec.  The RA, Dec values are exactly the same, however, so we can do float comparison.  I'm going to do this through formatting as a string explicitly, just to make it easier to see if things don't work."
   ]
  },
  {
   "cell_type": "code",
   "execution_count": null,
   "id": "6d60f702-deef-4f64-8d5a-2c7a62b7d0e2",
   "metadata": {
    "tags": []
   },
   "outputs": [],
   "source": [
    "str_position = [\"{:0.7f} {:0.7f}\".format(ra, dec) for ra, dec in injection_cat[\"ra\", \"dec\"]]\n",
    "_, uniq_idx = np.unique(str_position, return_index=True)\n",
    "injection_cat = injection_cat[uniq_idx]"
   ]
  },
  {
   "cell_type": "code",
   "execution_count": null,
   "id": "5db63244-d570-4515-a13d-9e360ca0ed52",
   "metadata": {
    "tags": []
   },
   "outputs": [],
   "source": [
    "print(f\"{len(injection_cat)} after de-duplication\")"
   ]
  },
  {
   "cell_type": "code",
   "execution_count": null,
   "id": "ba75cbce-5982-4df0-a7cb-908ef49828f8",
   "metadata": {},
   "outputs": [],
   "source": [
    "plt.scatter(injection_cat[\"ra\"], injection_cat[\"dec\"], marker=\".\")\n",
    "plt.xlim(plt.xlim()[::-1])\n",
    "plt.xlabel(\"RA\")\n",
    "plt.ylabel(\"Dec\")"
   ]
  },
  {
   "cell_type": "markdown",
   "id": "ef5f5b76-48ec-4f3b-abcf-da3df4d74d5e",
   "metadata": {},
   "source": [
    "### Register the source injection collection\n",
    "\n",
    "The input `injection_cat` will be ingested into a RUN collection in the `repo`. Here we register this collection for subsequent use below.\n",
    "\n",
    "> Warning: take care when working with a writeable butler, as data on-disk has the potential to be permanently removed or corrupted.\n",
    "\n",
    "We ensure our chosen RUN collection doesn't already exist.\n",
    "\n",
    "Finally, the source injection collection is registered in the `repo`."
   ]
  },
  {
   "cell_type": "code",
   "execution_count": null,
   "id": "9c94d4c4-b2f9-4bde-94cc-411bb04cd1ef",
   "metadata": {},
   "outputs": [],
   "source": [
    "# Write a separate RUN collection for each fake magnitude range.\n",
    "injection_input_collection = f\"u/wmwv/injection_demo_{injection_mag:02.0f}p{injection_mag % 1:1d}\"\n",
    "\n",
    "OVERWRITE = True\n",
    "if OVERWRITE:\n",
    "    try:\n",
    "        butler.removeRuns([injection_input_collection])\n",
    "    except MissingCollectionError:\n",
    "        print(\"Writing into a new RUN collection\")\n",
    "        pass\n",
    "    else:\n",
    "        print(\"Prior RUN collection located and successfully removed\")\n",
    "\n",
    "# Register the collection\n",
    "_ = butler.registry.registerCollection(injection_input_collection, type=CollectionType.RUN)\n",
    "print(f\"Registered collection: {injection_input_collection}\")"
   ]
  },
  {
   "cell_type": "markdown",
   "id": "d9f5fe08-9a9c-490b-8c53-3a461840538c",
   "metadata": {},
   "source": [
    "### Ingest the input catalogue into the repo\n",
    "\n",
    "Finally, we ingest the input catalogue into the `repo`.\n",
    "We use the `lsst.source.injection.utils.ingest_injection_catalog` for a little convenience, to make sure we use the same dataset type as in `source_injection`, and to set up how a larger pipetask would do this.  The injection catalogs are arranged sharded by HTM7, so this routine handles that too.\n",
    "\n",
    "This function also ensures that the `injection_catalog` DatasetType exists in the Butler registry, and creates it if it doesn't exist."
   ]
  },
  {
   "cell_type": "code",
   "execution_count": null,
   "id": "c1a5ac00-392a-493b-a703-51845e3b48be",
   "metadata": {
    "tags": []
   },
   "outputs": [],
   "source": [
    "for band in bands_to_simulate:\n",
    "    ingest_injection_catalog(butler, injection_cat, band=band, output_collection=injection_input_collection)"
   ]
  },
  {
   "cell_type": "markdown",
   "id": "bcebca75-da67-47e8-886b-854d22a2d15e",
   "metadata": {
    "tags": []
   },
   "source": [
    "### Instantiate the injection class\n",
    "\n",
    "At this stage, we have an input image and we have a fully ingested synthetic source input catalogue. We're now ready to inject synthetic sources into the image using the tools available in the `source_injection` repo.\n",
    "\n",
    "We'll build up from `BaseInject`->`VisitInject`->`ExposureInject` and use the last as our Task\n",
    "\n",
    "`BaseInject` is the basic process of what we're doing.  This Task takes an input catalog, and image, and we run image injection and get an image with the added sources.  We can't actually use the class directly because it assumes the existence of a declared Connections attribute `input_exposure`, but that's not actually initialized in `BaseInject`.  So we use `ExposureInject`, just to use the metadata implied by the Connections attached to the object."
   ]
  },
  {
   "cell_type": "code",
   "execution_count": null,
   "id": "9e57d03a-d061-4ea7-a7c3-91d0aa175717",
   "metadata": {},
   "outputs": [],
   "source": [
    "inject_config = ExposureInjectConfig()\n",
    "\n",
    "display(inject_config)\n",
    "\n",
    "inject_task = ExposureInjectTask(config=inject_config)"
   ]
  },
  {
   "cell_type": "markdown",
   "id": "945d943a-f454-4530-a81a-8c0084627a98",
   "metadata": {
    "tags": []
   },
   "source": [
    "### Run the source injection task\n",
    "\n",
    "Finally, we run the run method of the inject task.\n",
    "\n",
    "As an input, the run method needs:\n",
    "\n",
    "the input injection catalogue  \n",
    "the input exposure  \n",
    "the WCS information  \n",
    "the photometric calibration information  \n",
    "the skyMap dataset type.\n",
    "\n",
    "The skyMap is easily loaded using butler.get. All other inputs are already ready for use at this stage.\n",
    "\n",
    "As an output, the inject task provides:\n",
    "\n",
    "the output exposure with sources injected  \n",
    "the output source injection catalogue  "
   ]
  },
  {
   "cell_type": "code",
   "execution_count": null,
   "id": "2d0418bc-9786-4714-b939-b298cb785ad5",
   "metadata": {},
   "outputs": [],
   "source": [
    "inject_output = inject_task.run(\n",
    "    injection_catalogs=injection_cat,\n",
    "    input_exposure=calexp,\n",
    "    psf=calexp.getPsf(),\n",
    "    wcs=calexp.getWcs(),\n",
    "    photo_calib=calexp.getPhotoCalib(),\n",
    ")"
   ]
  },
  {
   "cell_type": "code",
   "execution_count": null,
   "id": "d1a39a3e-be17-42d6-8bc6-93b66bb45fb1",
   "metadata": {},
   "outputs": [],
   "source": [
    "injected_exposure = inject_output.output_exposure\n",
    "injected_catalog = inject_output.output_catalog"
   ]
  },
  {
   "cell_type": "code",
   "execution_count": null,
   "id": "1d74f288-8471-4e8b-a940-68b705b52690",
   "metadata": {
    "tags": []
   },
   "outputs": [],
   "source": [
    "print(inject_task.config.connections.injected_prefix)\n",
    "print(inject_task.config.connections.output_exposure)\n",
    "print(inject_task.config.connections.output_catalog)"
   ]
  },
  {
   "cell_type": "code",
   "execution_count": null,
   "id": "0cddbae7-5f53-430a-8c25-53c9b6184a73",
   "metadata": {
    "tags": []
   },
   "outputs": [],
   "source": [
    "# We can resolve the f-style string by passing a dict to the string's format method:\n",
    "output_exposure_dataset_type = inject_task.config.connections.output_exposure.format(**inject_task.config.connections.toDict())\n",
    "output_catalog_dataset_type = inject_task.config.connections.output_catalog.format(**inject_task.config.connections.toDict())\n",
    "print(output_exposure_dataset_type)\n",
    "print(output_catalog_dataset_type)"
   ]
  },
  {
   "cell_type": "markdown",
   "id": "9dfe852f-e02c-42e8-b415-b0a5f7f94c41",
   "metadata": {},
   "source": [
    "Put the outputs into the \"injected_postISRCCD{|_catalog}\" datasets.  We use the same data_id that we used to load the calexp."
   ]
  },
  {
   "cell_type": "code",
   "execution_count": null,
   "id": "d6eb2355-89fc-47ab-9399-ae57192084b4",
   "metadata": {
    "tags": []
   },
   "outputs": [],
   "source": [
    "data_id"
   ]
  },
  {
   "cell_type": "markdown",
   "id": "942042d4-c2df-446c-9b51-2d5a275c1678",
   "metadata": {},
   "source": [
    "Create the dataset types that we need.  This only needs to be run for a given butler, so by virtue of me running this demo, these next two lines aren't needed any more."
   ]
  },
  {
   "cell_type": "code",
   "execution_count": null,
   "id": "e4a30db4-d77b-4061-a225-002214de3cae",
   "metadata": {
    "tags": []
   },
   "outputs": [],
   "source": [
    "CREATE_DATASET_TYPES = False\n",
    "if CREATE_DATASET_TYPES:\n",
    "    injected_calexp_dataset_type = DatasetType(\n",
    "        name=output_exposure_dataset_type,\n",
    "        storageClass=\"ExposureF\",\n",
    "        dimensions=(\"instrument\", \"visit\", \"detector\"),\n",
    "        universe=DimensionUniverse(),\n",
    "    )\n",
    "    butler.registry.registerDatasetType(injected_calexp_dataset_type)\n",
    "\n",
    "    injected_catalog_dataset_type = DatasetType(\n",
    "        name=output_catalog_dataset_type,\n",
    "        storageClass=\"ArrowAstropy\",\n",
    "        dimensions=(\"instrument\", \"visit\", \"detector\"),\n",
    "        universe=DimensionUniverse(),\n",
    "    )\n",
    "    butler.registry.registerDatasetType(injected_catalog_dataset_type)\n",
    "    \n",
    "    injected_catalog_dataset_type = DatasetType(\n",
    "        name=output_catalog_dataset_type,\n",
    "        storageClass=\"ArrowAstropy\",\n",
    "        dimensions=(\"instrument\", \"visit\", \"detector\"),\n",
    "        universe=DimensionUniverse(),\n",
    "    )\n",
    "    butler.registry.registerDatasetType(injected_catalog_dataset_type)\n",
    "    "
   ]
  },
  {
   "cell_type": "code",
   "execution_count": null,
   "id": "913fe8f2-fdb5-4266-9d05-5e456ccda756",
   "metadata": {
    "tags": []
   },
   "outputs": [],
   "source": [
    "CREATE_DIFF_DATASET_TYPES = False\n",
    "if CREATE_DIFF_DATASET_TYPES:\n",
    "    coaddName = \"deepCoadd\"\n",
    "    for fakesType in (\"\", \"injected_\"):\n",
    "        deepCoaddDiff_differenceTempExp_dataset_type = DatasetType(\n",
    "            name=f\"{fakesType}{coaddName}Diff_differenceTempExp\",\n",
    "            storageClass=\"ExposureF\",\n",
    "            dimensions=(\"instrument\", \"visit\", \"detector\"),\n",
    "            universe=DimensionUniverse(),\n",
    "        )\n",
    "        butler.registry.registerDatasetType(deepCoaddDiff_differenceTempExp_dataset_type)\n",
    "\n",
    "        deepCoaddDiff_matchedExp_dataset_type = DatasetType(\n",
    "            name=f\"{fakesType}{coaddName}Diff_matchedExp\",\n",
    "            storageClass=\"ExposureF\",\n",
    "            dimensions=(\"instrument\", \"visit\", \"detector\"),\n",
    "            universe=DimensionUniverse(),\n",
    "        )\n",
    "        butler.registry.registerDatasetType(deepCoaddDiff_matchedExp_dataset_type)\n",
    "\n",
    "        deepCoaddDiff_differenceScoreExp_dataset_type = DatasetType(\n",
    "            name=f\"{fakesType}{coaddName}Diff_scoreExp\",\n",
    "            storageClass=\"ExposureF\",\n",
    "            dimensions=(\"instrument\", \"visit\", \"detector\"),\n",
    "            universe=DimensionUniverse(),\n",
    "        )\n",
    "        butler.registry.registerDatasetType(deepCoaddDiff_differenceScoreExp_dataset_type)\n",
    "\n",
    "        deepCoaddDiff_differenceExp_dataset_type = DatasetType(\n",
    "            name=f\"{fakesType}{coaddName}Diff_differenceExp\",\n",
    "            storageClass=\"ExposureF\",\n",
    "            dimensions=(\"instrument\", \"visit\", \"detector\"),\n",
    "            universe=DimensionUniverse(),\n",
    "        )\n",
    "        butler.registry.registerDatasetType(deepCoaddDiff_differenceExp_dataset_type)\n",
    "\n",
    "        deepCoaddDiff_diaSrc_dataset_type = DatasetType(\n",
    "            name=f\"{fakesType}{coaddName}Diff_diaSrc\",\n",
    "            storageClass=\"SourceCatalog\",\n",
    "            dimensions=(\"instrument\", \"visit\", \"detector\"),\n",
    "            universe=DimensionUniverse(),\n",
    "        )\n",
    "        butler.registry.registerDatasetType(deepCoaddDiff_diaSrc_dataset_type)\n",
    "\n",
    "        "
   ]
  },
  {
   "cell_type": "code",
   "execution_count": null,
   "id": "667fcd5d-1799-4583-b251-8de02996b9d4",
   "metadata": {
    "tags": []
   },
   "outputs": [],
   "source": [
    "CREATE_MATCHED_DATASET_TYPES = True\n",
    "if CREATE_MATCHED_DATASET_TYPES:\n",
    "    coaddName = \"deepCoadd\"\n",
    "    fakesType = \"injected_\"\n",
    "    match_diaSrc_dataset_type = DatasetType(\n",
    "        name=f\"{fakesType}{coaddName}Diff_matchDiaSrc\",\n",
    "        storageClass=\"DataFrame\",\n",
    "        dimensions=(\"instrument\", \"visit\", \"detector\"),\n",
    "        universe=DimensionUniverse(),\n",
    "    )\n",
    "    butler.registry.registerDatasetType(match_diaSrc_dataset_type)\n"
   ]
  },
  {
   "cell_type": "code",
   "execution_count": null,
   "id": "16c7b5dc-7b94-4e00-b608-9ccc9bae7ebe",
   "metadata": {},
   "outputs": [],
   "source": [
    "butler.registry.refresh()"
   ]
  },
  {
   "cell_type": "code",
   "execution_count": null,
   "id": "fa647348-48be-4773-8545-32f9be9d9a26",
   "metadata": {
    "tags": []
   },
   "outputs": [],
   "source": [
    "butler.put(injected_exposure, output_exposure_dataset_type, dataId=data_id, run=injection_input_collection)"
   ]
  },
  {
   "cell_type": "code",
   "execution_count": null,
   "id": "c67c943c-7246-4793-af0a-5685b7a0ddfa",
   "metadata": {
    "tags": []
   },
   "outputs": [],
   "source": [
    "butler.put(injected_catalog, output_catalog_dataset_type, dataId=data_id, run=injection_input_collection)"
   ]
  },
  {
   "cell_type": "code",
   "execution_count": null,
   "id": "44bfb2f6-ec67-4480-92c5-9fa707a6aef2",
   "metadata": {},
   "outputs": [],
   "source": [
    "display(injected_catalog[:5])"
   ]
  },
  {
   "cell_type": "markdown",
   "id": "3afd1278-46fd-4de0-9411-72bb1d20eda9",
   "metadata": {},
   "source": [
    "Clear the data products.  Future steps will load from the Butler"
   ]
  },
  {
   "cell_type": "code",
   "execution_count": null,
   "id": "029fe3f0-99f3-4d5e-b293-6feaf29d31ac",
   "metadata": {},
   "outputs": [],
   "source": [
    "del injected_exposure, injected_catalog, calexp, src"
   ]
  },
  {
   "cell_type": "markdown",
   "id": "3283c31d-905a-4035-9493-1d21936d5b62",
   "metadata": {},
   "source": [
    "## Plot the output injected_exposure\n",
    "\n",
    "As before, let's display an image of our newly constructed `injected_exposure`.\n",
    "\n",
    "We similarly smooth the new image first, and then display the `exposure` alongside the `injected_exposure` using `afwDisplay`."
   ]
  },
  {
   "cell_type": "markdown",
   "id": "19422cd7-1785-4da0-a722-e98eda1c3ea1",
   "metadata": {
    "tags": []
   },
   "source": [
    "### Plot the full images"
   ]
  },
  {
   "cell_type": "code",
   "execution_count": null,
   "id": "47f4a7ed-227a-4d92-bf72-4d044995822c",
   "metadata": {},
   "outputs": [],
   "source": [
    "exposure = butler.get(\"calexp\", dataId=data_id, collections=input_collection)\n",
    "injected_exposure = butler.get(output_exposure_dataset_type, dataId=data_id, collections=injection_input_collection)\n",
    "injected_catalog = butler.get(output_catalog_dataset_type, dataId=data_id, collections=injection_input_collection)"
   ]
  },
  {
   "cell_type": "code",
   "execution_count": null,
   "id": "3572b488-7cd0-485d-be81-90dd9f998933",
   "metadata": {},
   "outputs": [],
   "source": [
    "# Get the x, y back from the ra, dec in injection_cat (because that's all that's saved)\n",
    "# This feels a little silly.  There should surely be a one-line version of this:\n",
    "sky = [SpherePoint(ra, dec, degrees) for ra, dec in zip(injected_catalog[\"ra\"], injected_catalog[\"dec\"])]\n",
    "xy = exposure.wcs.skyToPixel(sky)\n",
    "\n",
    "x = [i.x for i in xy]\n",
    "y = [i.y for i in xy]"
   ]
  },
  {
   "cell_type": "code",
   "execution_count": null,
   "id": "2b7a2035-bcb9-47e3-a893-695a37acaa42",
   "metadata": {},
   "outputs": [],
   "source": [
    "Q = 10\n",
    "\n",
    "plot_exposure = exposure.clone()\n",
    "plot_exposure.image.array = gaussian_filter(exposure.image.array, sigma=3)\n",
    "\n",
    "plot_injected_exposure = injected_exposure.clone()\n",
    "plot_injected_exposure.image.array = gaussian_filter(injected_exposure.image.array, sigma=3)\n",
    "\n",
    "fig, ax = plt.subplots(1, 2, figsize=(8, 6), dpi=150)\n",
    "\n",
    "plt.sca(ax[0])\n",
    "display0 = afwDisplay.Display(frame=fig)\n",
    "display0.scale(\"asinh\", min=-5/Q, max=25/Q, Q=Q)\n",
    "display0.mtv(plot_exposure.image)\n",
    "plt.title(\"original exposure\")\n",
    "\n",
    "plt.sca(ax[1])\n",
    "display1 = afwDisplay.Display(frame=fig)\n",
    "display1.scale(\"asinh\", min=-5/Q, max=25/Q, Q=Q)\n",
    "display1.mtv(plot_injected_exposure.image)\n",
    "plt.title(\"injected exposure\")\n",
    "\n",
    "plt.suptitle(str(data_id), y=0.8)\n",
    "plt.tight_layout()\n",
    "plt.show()"
   ]
  },
  {
   "cell_type": "markdown",
   "id": "435a25d0-409d-448e-a197-e923d4aa740e",
   "metadata": {},
   "source": [
    "### Plot a zoomed-in view of the injected_exposure\n",
    "\n",
    "Here is a zoomed in section of the above."
   ]
  },
  {
   "cell_type": "code",
   "execution_count": null,
   "id": "cb170608-987b-4ac4-bc52-78c53c1b18a9",
   "metadata": {},
   "outputs": [],
   "source": [
    "fig, ax = plt.subplots(1, 2, figsize=(8, 6), dpi=150)\n",
    "\n",
    "plt.sca(ax[0])\n",
    "display0 = afwDisplay.Display(frame=fig)\n",
    "display0.scale(\"asinh\", min=-5/Q, max=25/Q, Q=Q)\n",
    "display0.mtv(plot_exposure.image)\n",
    "plt.title(\"exposure image (zoom)\")\n",
    "plt.xlim(1000, 2500)\n",
    "plt.ylim(300, 1800)\n",
    "\n",
    "plt.sca(ax[1])\n",
    "display1 = afwDisplay.Display(frame=fig)\n",
    "display1.scale(\"asinh\", min=-5/Q, max=25/Q, Q=Q)\n",
    "display1.mtv(plot_injected_exposure.image)\n",
    "plt.title(\"injected_exposure image (zoom)\")\n",
    "plt.scatter(x, y, marker=\"o\", s=50, fc=\"none\", ec=\"orange\", lw=1.5)\n",
    "plt.xlim(1000, 2500)\n",
    "plt.ylim(300, 1800)\n",
    "\n",
    "plt.suptitle(str(data_id), y=0.8)\n",
    "plt.tight_layout()\n",
    "plt.show()"
   ]
  },
  {
   "cell_type": "markdown",
   "id": "50f4ba9d-4dae-4178-a4ea-530572b1645d",
   "metadata": {},
   "source": [
    "### Plot the differences between the images\n",
    "\n",
    "It is reassuring to look at a difference image to see the sources we injected."
   ]
  },
  {
   "cell_type": "code",
   "execution_count": null,
   "id": "a96074c4-8355-4c2f-863f-38c7c419c5e4",
   "metadata": {},
   "outputs": [],
   "source": [
    "plot_diff_exposure = exposure.clone()\n",
    "plot_diff_exposure.image.array = injected_exposure.image.array - exposure.image.array\n",
    "\n",
    "fig, ax = plt.subplots(1, 2, figsize=(8, 6), dpi=150)\n",
    "\n",
    "plt.sca(ax[0])\n",
    "display0 = afwDisplay.Display(frame=fig)\n",
    "display0.scale(\"asinh\", min=-5/Q, max=25/Q, Q=Q)\n",
    "display0.mtv(plot_diff_exposure.image)\n",
    "plt.title(\"diff image (injected_exposure - exposure)\")\n",
    "\n",
    "plt.sca(ax[1])\n",
    "display1 = afwDisplay.Display(frame=fig)\n",
    "display1.scale(\"asinh\", min=-5/Q, max=25/Q, Q=Q)\n",
    "display1.mtv(plot_diff_exposure.image)\n",
    "plt.title(\"diff image with markers\")\n",
    "plt.scatter(x, y, marker=\"o\", s=50, fc=\"none\", ec=\"orange\", lw=1.5)\n",
    "\n",
    "plt.suptitle(str(data_id), y=0.8)\n",
    "plt.tight_layout()\n",
    "plt.show()"
   ]
  },
  {
   "cell_type": "code",
   "execution_count": null,
   "id": "6f265184-00b4-4609-bb1b-87123a6542ae",
   "metadata": {},
   "outputs": [],
   "source": [
    "del plot_diff_exposure, plot_exposure, plot_injected_exposure\n",
    "del exposure, injected_exposure"
   ]
  },
  {
   "cell_type": "markdown",
   "id": "ddca917d-6b12-46cb-a27c-549548acf67f",
   "metadata": {},
   "source": [
    "## Run Subtractions\n",
    "\n",
    "We're going to clear earlier data and load afresh from the Butler products"
   ]
  },
  {
   "cell_type": "code",
   "execution_count": null,
   "id": "c2345130-7f29-424e-ac6d-bbc719c39cef",
   "metadata": {},
   "outputs": [],
   "source": [
    "exposure = butler.get(\"calexp\", dataId=data_id, collections=input_collection)\n",
    "src = butler.get(\"src\", dataId=data_id, collections=input_collection)\n",
    "\n",
    "injected_exposure = butler.get(output_exposure_dataset_type, dataId=data_id, collections=injection_input_collection)\n",
    "injected_catalog = butler.get(output_catalog_dataset_type, dataId=data_id, collections=injection_input_collection)"
   ]
  },
  {
   "cell_type": "markdown",
   "id": "60fe2464-aa18-4362-ab7b-0de268736e93",
   "metadata": {
    "tags": []
   },
   "source": [
    "### Make a Template Image"
   ]
  },
  {
   "cell_type": "code",
   "execution_count": null,
   "id": "fe9f6acf-11cc-485e-a5a2-fc626c406dee",
   "metadata": {
    "tags": []
   },
   "outputs": [],
   "source": [
    "get_template_task_config = GetTemplateConfig()\n",
    "get_template_task = GetTemplateTask(config=get_template_task_config)"
   ]
  },
  {
   "cell_type": "code",
   "execution_count": null,
   "id": "381ad0ae-9f6f-4e1e-8fb8-282a80ceab60",
   "metadata": {
    "tags": []
   },
   "outputs": [],
   "source": [
    "patches = (0, 1, 2, 7, 8, 9, 14, 15, 16, 17)\n",
    "band = exposure.getFilter().bandLabel\n",
    "coadd_exposure_deferred_dataset_handles = butler.registry.queryDatasets(\n",
    "    \"deepCoadd\",\n",
    "    collections=input_collection,\n",
    "    where=f\"instrument='LSSTCam-imSim' AND skymap='DC2' AND tract={tract} AND patch IN {patches} AND band='{band}'\",\n",
    ")"
   ]
  },
  {
   "cell_type": "code",
   "execution_count": null,
   "id": "9b5b1e4b-8970-4e1f-a6e2-a26cd381e147",
   "metadata": {
    "tags": []
   },
   "outputs": [],
   "source": [
    "list(coadd_exposure_deferred_dataset_handles)"
   ]
  },
  {
   "cell_type": "code",
   "execution_count": null,
   "id": "b9155a17-41f7-4814-b245-b6c9f9775a63",
   "metadata": {
    "tags": []
   },
   "outputs": [],
   "source": [
    "coadd_exposures = [butler.get(dR) for dR in coadd_exposure_deferred_dataset_handles]"
   ]
  },
  {
   "cell_type": "code",
   "execution_count": null,
   "id": "6a99cd70-efc0-40c0-852c-fabe93d9ca2c",
   "metadata": {
    "tags": []
   },
   "outputs": [],
   "source": [
    "coadd_data_ids = [{\"tract\": tract, \"patch\": p, \"band\": band} for p in patches]\n",
    "deep_coadd_template = get_template_task.run(coaddExposures=coadd_exposures,\n",
    "                                            bbox=exposure.getBBox(),\n",
    "                                            wcs=exposure.getWcs(),\n",
    "                                            dataIds=coadd_data_ids)"
   ]
  },
  {
   "cell_type": "code",
   "execution_count": null,
   "id": "2a8d9e5e-3959-4d79-be37-c9fc416075b7",
   "metadata": {},
   "outputs": [],
   "source": [
    "del coadd_exposures"
   ]
  },
  {
   "cell_type": "code",
   "execution_count": null,
   "id": "663d8e2e-5932-43c3-9fa7-b0dc37c9ee16",
   "metadata": {
    "tags": []
   },
   "outputs": [],
   "source": [
    "displayc = afwDisplay.Display()\n",
    "displayc.scale(\"asinh\", min=-5/Q, max=25/Q, Q=Q)\n",
    "displayc.mtv(deep_coadd_template.template.image)"
   ]
  },
  {
   "cell_type": "markdown",
   "id": "a641eef4-e34a-4cdb-98f8-0233f55f9b72",
   "metadata": {
    "tags": []
   },
   "source": [
    "### Run Original Subtraction"
   ]
  },
  {
   "cell_type": "markdown",
   "id": "90f78f7c-daec-4a88-8cf1-9273ade061f8",
   "metadata": {},
   "source": [
    "Now we can run a subtraction for each of the original image and for the injected image:"
   ]
  },
  {
   "cell_type": "markdown",
   "id": "d7cdf771-abb8-44a2-8bfc-8f3928d2ec6f",
   "metadata": {},
   "source": [
    "We'll use the source catalog from the original image.  Subtraction is relatively fast (1 min).  The detection and measure steps takes minutes (5-10?)."
   ]
  },
  {
   "cell_type": "code",
   "execution_count": null,
   "id": "bb731f7e-9c0b-4011-8ba5-b5213986c079",
   "metadata": {
    "tags": []
   },
   "outputs": [],
   "source": [
    "subtraction_config = AlardLuptonSubtractConfig()\n",
    "subtraction_task = AlardLuptonSubtractTask(config=subtraction_config)"
   ]
  },
  {
   "cell_type": "code",
   "execution_count": null,
   "id": "b88b0428-50ef-40e0-a106-18cbcf95ca22",
   "metadata": {},
   "outputs": [],
   "source": [
    "detect_and_measure_config = DetectAndMeasureConfig(doSkySources=True)\n",
    "detect_and_measure_task = DetectAndMeasureTask(config=detect_and_measure_config)"
   ]
  },
  {
   "cell_type": "code",
   "execution_count": null,
   "id": "20b79906-bcd5-44ff-9757-32a02c0abc9b",
   "metadata": {
    "tags": []
   },
   "outputs": [],
   "source": [
    "subtraction = subtraction_task.run(deep_coadd_template.template, exposure, src)"
   ]
  },
  {
   "cell_type": "code",
   "execution_count": null,
   "id": "b9ef1331-8a06-47ef-a885-ba43b52b8c11",
   "metadata": {
    "tags": []
   },
   "outputs": [],
   "source": [
    "detections = detect_and_measure_task.run(exposure,\n",
    "                                         subtraction.matchedTemplate,\n",
    "                                         subtraction.difference)"
   ]
  },
  {
   "cell_type": "markdown",
   "id": "8688850a-2866-4d29-8afe-d47ec02caa2c",
   "metadata": {},
   "source": [
    "#### Save to butler"
   ]
  },
  {
   "cell_type": "code",
   "execution_count": null,
   "id": "806cd447-8f1d-49df-a4c0-916bc4702ea4",
   "metadata": {
    "tags": []
   },
   "outputs": [],
   "source": [
    "subtraction_task.config.connections"
   ]
  },
  {
   "cell_type": "code",
   "execution_count": null,
   "id": "87ce1d5e-1525-4704-8dd1-5cc6d3f316d0",
   "metadata": {
    "tags": []
   },
   "outputs": [],
   "source": [
    "detect_and_measure_task.config.connections"
   ]
  },
  {
   "cell_type": "code",
   "execution_count": null,
   "id": "c6cf9ea1-5c56-45c4-9426-16b5c204a3e3",
   "metadata": {
    "tags": []
   },
   "outputs": [],
   "source": [
    "# We could use the values in the task configs, but we didn't actually set different ones.\n",
    "# In part to keep things simple, and in part because I don't completely agree.\n",
    "# E.g., I think we want to use the regular `src` not the `injected_src` to pass to subtraction.\n",
    "# But clearly the are times when one will want to do the one vs. the other.\n",
    "label_kwargs = {\"fakesType\": \"\", \"coaddName\": \"deepCoadd\"}\n",
    "output_difference_dataset_type = subtraction_task.config.connections.difference.format(**label_kwargs)\n",
    "output_matchedTemplate_dataset_type = subtraction_task.config.connections.matchedTemplate.format(**label_kwargs)\n",
    "output_diaSrc_dataset_type = detect_and_measure_task.config.connections.diaSources.format(**label_kwargs)\n",
    "output_measuredExposure_dataset_type = detect_and_measure_task.config.connections.subtractedMeasuredExposure.format(**label_kwargs)"
   ]
  },
  {
   "cell_type": "markdown",
   "id": "b0f8e5a5-3a9d-4e73-8ed2-83addc100473",
   "metadata": {
    "tags": []
   },
   "source": [
    "The differnce between the `subtraction.difference` and `detect_and_measure.subtractedMeasuredExposure` is that the latter adds the footprints recorded in the mask plane for sources measured in the difference image.  So we only save the second one."
   ]
  },
  {
   "cell_type": "code",
   "execution_count": null,
   "id": "1780608a-8671-4909-9481-0ac36e51fc19",
   "metadata": {
    "tags": []
   },
   "outputs": [],
   "source": [
    "butler.put(subtraction.difference, output_difference_dataset_type, dataId=data_id, run=injection_input_collection)\n",
    "butler.put(subtraction.matchedTemplate, output_matchedTemplate_dataset_type, dataId=data_id, run=injection_input_collection)\n",
    "butler.put(detections.diaSources, output_diaSrc_dataset_type, dataId=data_id, run=injection_input_collection)\n",
    "butler.put(detections.subtractedMeasuredExposure, output_measuredExposure_dataset_type, dataId=data_id, run=injection_input_collection);"
   ]
  },
  {
   "cell_type": "code",
   "execution_count": null,
   "id": "7e59a6fd-9b84-4503-85db-a4fe7c094985",
   "metadata": {},
   "outputs": [],
   "source": [
    "del detections, exposure, subtraction"
   ]
  },
  {
   "cell_type": "markdown",
   "id": "183bf89f-ebd5-401a-b8fd-151c4ea70b43",
   "metadata": {
    "tags": []
   },
   "source": [
    "### Run Injected Subtraction"
   ]
  },
  {
   "cell_type": "code",
   "execution_count": null,
   "id": "ceb977e9-1e7e-47b7-97dc-dc207fe2821d",
   "metadata": {
    "tags": []
   },
   "outputs": [],
   "source": [
    "injected_subtraction = subtraction_task.run(deep_coadd_template.template, injected_exposure, src)"
   ]
  },
  {
   "cell_type": "code",
   "execution_count": null,
   "id": "60649b3f-5d0a-4867-95c2-3e26b48bc4f4",
   "metadata": {
    "tags": []
   },
   "outputs": [],
   "source": [
    "injected_detections = detect_and_measure_task.run(exposure,\n",
    "                                                  injected_subtraction.matchedTemplate,\n",
    "                                                  injected_subtraction.difference)"
   ]
  },
  {
   "cell_type": "markdown",
   "id": "52d82205-d553-440b-a25c-dfe771880ad9",
   "metadata": {},
   "source": [
    "#### Save Injected Subtraction results"
   ]
  },
  {
   "cell_type": "code",
   "execution_count": null,
   "id": "a578a200-0c38-48e0-ba3a-5076d13f5db5",
   "metadata": {
    "tags": []
   },
   "outputs": [],
   "source": [
    "label_kwargs = {\"fakesType\": \"injected_\", \"coaddName\": \"deepCoadd\"}\n",
    "output_difference_dataset_type = subtraction_task.config.connections.difference.format(**label_kwargs)\n",
    "output_matchedTemplate_dataset_type = subtraction_task.config.connections.matchedTemplate.format(**label_kwargs)\n",
    "output_diaSrc_dataset_type = detect_and_measure_task.config.connections.diaSources.format(**label_kwargs)\n",
    "output_measuredExposure_dataset_type = detect_and_measure_task.config.connections.subtractedMeasuredExposure.format(**label_kwargs)\n",
    "output_diaSrc_schema_dataset_type = detect_and_measure_task.config.connections.outputSchema.format(**label_kwargs)"
   ]
  },
  {
   "cell_type": "code",
   "execution_count": null,
   "id": "bdad4cca-0c4a-42fb-bfd8-02375807df83",
   "metadata": {
    "tags": []
   },
   "outputs": [],
   "source": [
    "butler.put(injected_subtraction.difference, output_difference_dataset_type, dataId=data_id, run=injection_input_collection)\n",
    "butler.put(injected_subtraction.matchedTemplate, output_matchedTemplate_dataset_type, dataId=data_id, run=injection_input_collection)\n",
    "butler.put(injected_detections.diaSources, output_diaSrc_dataset_type, dataId=data_id, run=injection_input_collection)\n",
    "butler.put(injected_detections.outputSchema, output_diaSrc_schema_dataset_type, dataId=data_id, run=injection_input_collection)\n",
    "butler.put(injected_detections.subtractedMeasuredExposure, output_measuredExposure_dataset_type, dataId=data_id, run=injection_input_collection);"
   ]
  },
  {
   "cell_type": "code",
   "execution_count": null,
   "id": "aaad942c-8da2-4a69-ac0f-23d04596d0ab",
   "metadata": {
    "tags": []
   },
   "outputs": [],
   "source": [
    "# diaSrc O SDM -> diaSrcTable\n",
    "transform_dia_source_config = TransformDiaSourceCatalogConfig\n",
    "initInputs = {\"diaSrcSchema\": injected_detections.outputSchema}\n",
    "transform_dia_source_task = TransformDiaSourceCatalogTask(initInputs, config=transform_dia_source_config)"
   ]
  },
  {
   "cell_type": "code",
   "execution_count": null,
   "id": "778460ac-2792-46f6-856b-332cc48459b0",
   "metadata": {
    "tags": []
   },
   "outputs": [],
   "source": [
    "difference.getInfo().getVisitInfo().id"
   ]
  },
  {
   "cell_type": "code",
   "execution_count": null,
   "id": "3ce6a7cc-93b2-4cc4-82c4-01eba3b61071",
   "metadata": {
    "tags": []
   },
   "outputs": [],
   "source": [
    "foo = exposure.getInfo()"
   ]
  },
  {
   "cell_type": "code",
   "execution_count": null,
   "id": "23289223-9251-4093-9e59-abd9f5f7117e",
   "metadata": {
    "tags": []
   },
   "outputs": [],
   "source": [
    "transformed_diaSrcTable = transform_dia_source_task.run(injected_detections.diaSources, injected_subtraction.difference, band=difference.getFilter().bandLabel, ccdVisitId=difference.getInfo().getVisitInfo().id)"
   ]
  },
  {
   "cell_type": "code",
   "execution_count": null,
   "id": "f5e068e5-d348-4095-acc7-ebe4c02ac153",
   "metadata": {},
   "outputs": [],
   "source": [
    "transform_dia_source_dataset_type = transform_dia_source_task.config.connections.diaSourceTable.format(**label_kwargs)\n",
    "butler.put(transformed_diaSrcTable, transform_dia_source_dataset_type, dataId=data_id, run=injection_input_collection)"
   ]
  },
  {
   "cell_type": "code",
   "execution_count": null,
   "id": "0cfb6a20-23b5-44ea-a73b-0b2dd704c7a7",
   "metadata": {},
   "outputs": [],
   "source": [
    "del deep_coadd_template, injected_exposure, injected_detections, injected_subtraction"
   ]
  },
  {
   "cell_type": "markdown",
   "id": "1ea4637e-b0da-4e09-a974-fc918233d7fe",
   "metadata": {
    "tags": []
   },
   "source": [
    "## Match DIA Detections to Injected Sources"
   ]
  },
  {
   "cell_type": "code",
   "execution_count": null,
   "id": "a12d4d0f-3384-486e-8bcc-447f981a0656",
   "metadata": {
    "tags": []
   },
   "outputs": [],
   "source": [
    "injected_catalog = butler.get(\"injected_postISRCCD_catalog\", dataId=data_id, collections=injection_input_collection)"
   ]
  },
  {
   "cell_type": "code",
   "execution_count": null,
   "id": "13c09b84-c3d4-4801-8a73-8c447290e3e9",
   "metadata": {
    "tags": []
   },
   "outputs": [],
   "source": [
    "fakesType = \"injected_\"\n",
    "coaddName = \"deepCoadd\"\n",
    "\n",
    "difference = butler.get(output_difference_dataset_type, dataId=data_id, collections=injection_input_collection)\n",
    "diaSrc = butler.get(f\"{coaddName}Diff_diaSrc\", dataId=data_id, collections=injection_input_collection)\n",
    "injected_diaSrc = butler.get(f\"{fakesType}{coaddName}Diff_diaSrc\", dataId=data_id, collections=injection_input_collection)\n",
    "injected_diaSrc = injected_diaSrc.asAstropy()"
   ]
  },
  {
   "cell_type": "code",
   "execution_count": null,
   "id": "c7ebae5c-0452-407a-9eea-c9042029dffb",
   "metadata": {
    "tags": []
   },
   "outputs": [],
   "source": [
    "from lsst.pipe.tasks.matchFakes import MatchFakesConfig, MatchFakesTask"
   ]
  },
  {
   "cell_type": "code",
   "execution_count": null,
   "id": "c20d1c7b-2c0e-4f00-b5b9-80c3884c221a",
   "metadata": {
    "tags": []
   },
   "outputs": [],
   "source": [
    "match_fakes_config = MatchFakesConfig()\n",
    "match_fakes_task = MatchFakesTask(config=match_fakes_config)"
   ]
  },
  {
   "cell_type": "code",
   "execution_count": null,
   "id": "0b282e82-89ed-42e2-ae8c-bdd2938a8237",
   "metadata": {
    "tags": []
   },
   "outputs": [],
   "source": [
    "# Updating few columns as a hack to SDMify the columns\n",
    "injected_diaSrc[\"ra\"] = np.rad2deg(injected_diaSrc[\"coord_ra\"])\n",
    "injected_diaSrc[\"dec\"] = np.rad2deg(injected_diaSrc[\"coord_dec\"])\n",
    "# 2023-10-19: diaSrc doesn't have id actually set to anything, so we do a simple index here\n",
    "injected_diaSrc[\"diaSourceId\"] = list(range(len(injected_diaSrc)))"
   ]
  },
  {
   "cell_type": "code",
   "execution_count": null,
   "id": "ba30c780-5fb3-4d48-bc49-dfff1df19bf9",
   "metadata": {
    "tags": []
   },
   "outputs": [],
   "source": [
    "df = injected_catalog.to_pandas()\n",
    "df[\"ra\"] = np.deg2rad(df[\"ra\"])\n",
    "df[\"dec\"] = np.deg2rad(df[\"dec\"])"
   ]
  },
  {
   "cell_type": "markdown",
   "id": "8bbfc534-0cbc-4b75-9954-d0ee15e4c337",
   "metadata": {},
   "source": [
    "Clean injected sky coordinates to match diffim bbox"
   ]
  },
  {
   "cell_type": "code",
   "execution_count": null,
   "id": "86f69576-f812-42d9-9a60-6c01670909e3",
   "metadata": {
    "tags": []
   },
   "outputs": [],
   "source": [
    "df = match_fakes_task._addPixCoords(fakeCat=df, image=difference)\n",
    "trimmed_df = match_fakes_task._trimFakeCat(fakeCat=df, image=difference)"
   ]
  },
  {
   "cell_type": "code",
   "execution_count": null,
   "id": "1506cfef-ff24-43bd-8aa3-a182f2429edf",
   "metadata": {
    "tags": []
   },
   "outputs": [],
   "source": [
    "print(len(trimmed_df))\n",
    "print(len(injected_catalog))"
   ]
  },
  {
   "cell_type": "code",
   "execution_count": null,
   "id": "a1b4c3c9-6f39-4b3d-8717-85c834f8e138",
   "metadata": {
    "tags": []
   },
   "outputs": [],
   "source": [
    "matched_fakes = match_fakes_task._processFakes(fakeCat=df, diffIm=difference, associatedDiaSources=injected_diaSrc.to_pandas())"
   ]
  },
  {
   "cell_type": "code",
   "execution_count": null,
   "id": "b3aa2ced-aa81-4df8-a334-f09b98bcc779",
   "metadata": {
    "tags": []
   },
   "outputs": [],
   "source": [
    "matched_injected_catalog = matched_fakes.matchedDiaSources"
   ]
  },
  {
   "cell_type": "code",
   "execution_count": null,
   "id": "6fe85931-dae9-48df-b2b0-0a70799fa93d",
   "metadata": {
    "tags": []
   },
   "outputs": [],
   "source": [
    "df_injected_diaSrc = injected_diaSrc.to_pandas()\n",
    "df_injected_diaSrc.set_index(\"diaSourceId\", drop=False, inplace=True)\n",
    "df_injected_catalog = injected_catalog.to_pandas()\n",
    "df_injected_catalog.set_index(\"injection_id\", drop=False, inplace=True)"
   ]
  },
  {
   "cell_type": "code",
   "execution_count": null,
   "id": "0c35e091-e92c-4d4f-9165-8f8a3bdd21de",
   "metadata": {
    "tags": []
   },
   "outputs": [],
   "source": [
    "unmatched_injected_idx = list(set(injected_catalog[\"injection_id\"]) - set(matched_injected_catalog[\"injection_id\"]))\n",
    "unmatched_recovered_idx = list(set(injected_diaSrc[\"diaSourceId\"]) - set(matched_injected_catalog[\"diaSourceId\"]))\n",
    "unmatched_recovered_catalog = df_injected_diaSrc.loc[unmatched_recovered_idx]\n",
    "unmatched_injected_catalog = df_injected_catalog.loc[unmatched_injected_idx]"
   ]
  },
  {
   "cell_type": "code",
   "execution_count": null,
   "id": "e921b3d5-76d8-4dc6-b1da-9a5758d05082",
   "metadata": {
    "tags": []
   },
   "outputs": [],
   "source": [
    "print(f\"Recovered {len(matched_injected_catalog)} / {len(injected_catalog)} injected sources\")\n",
    "print(f\"Found {len(unmatched_recovered_idx)} / {len(injected_diaSrc)} objects in diaSrc that don't match injected catalog\")"
   ]
  },
  {
   "cell_type": "markdown",
   "id": "c36f3768-e54f-4c49-bdb6-94135a0b1226",
   "metadata": {},
   "source": [
    "Note that we haven't checked if any injected catalog objects match several diaSources.  So the numbers above don't have to quite add up."
   ]
  },
  {
   "cell_type": "code",
   "execution_count": null,
   "id": "41854806-60b2-45cd-a17d-18d9e3c1a8a4",
   "metadata": {
    "tags": []
   },
   "outputs": [],
   "source": [
    "_, axes = plt.subplots(1, 1, figsize=(8, 4))\n",
    "\n",
    "ax = axes\n",
    "# ax.scatter(unmatched_injected_catalog[\"ra\"], unmatched_injected_catalog[\"dec\"], marker=\".\", color=\"orange\")\n",
    "ax.scatter(matched_injected_catalog[\"ra_y\"], matched_injected_catalog[\"dec_y\"], marker=\".\", color=\"blue\")\n",
    "ax.scatter(np.rad2deg(matched_injected_catalog[\"ra_x\"]), np.rad2deg(matched_injected_catalog[\"dec_x\"]), marker=\".\", color=\"red\")\n",
    "\n",
    "# ax.scatter(injected_catalog[\"ra\"], injected_catalog[\"dec\"], marker=\"o\", color=\"green\")\n",
    "ax.set_xlabel(\"RA\")\n",
    "ax.set_ylabel(\"Dec\")\n",
    "ax.set_xlim(ax.get_xlim()[::-1]);"
   ]
  },
  {
   "cell_type": "markdown",
   "id": "4ba009bf-0fec-4958-83ef-2c0274649bd7",
   "metadata": {},
   "source": [
    "There's an error in the matching.  As one source in the recovered_diaSrc at (57.135862, -30.797897), got matched even though it's clearly not in the injected catlaog."
   ]
  },
  {
   "cell_type": "code",
   "execution_count": null,
   "id": "65e33f49-5824-42d5-b2df-862f455a6d5c",
   "metadata": {
    "tags": []
   },
   "outputs": [],
   "source": [
    "# np.rad2deg(matched_injected_catalog[[\"ra_x\", \"dec_x\"]])\n",
    "matched_injected_catalog[[\"ra_y\", \"dec_y\"]]"
   ]
  },
  {
   "cell_type": "markdown",
   "id": "f7aaabd2-ce38-4348-8fab-c495a168252f",
   "metadata": {},
   "source": [
    "#### Saved matched catalog"
   ]
  },
  {
   "cell_type": "code",
   "execution_count": null,
   "id": "6240c663-ed1d-405d-a220-71d24a4eb2b4",
   "metadata": {
    "tags": []
   },
   "outputs": [],
   "source": [
    "butler.put(matched_injected_catalog, \"injected_deepCoaddDiff_matchDiaSrc\", dataId=data_id, run=injection_input_collection)"
   ]
  },
  {
   "cell_type": "markdown",
   "id": "bad84d41-6506-4165-9043-05a2de88aa8f",
   "metadata": {},
   "source": [
    "## Analyze results"
   ]
  },
  {
   "cell_type": "markdown",
   "id": "b5e8665a-5f7a-4801-84d3-d0ae1c4a63db",
   "metadata": {
    "tags": []
   },
   "source": [
    "We now have some data products written to our butler repo.  Let's use some `analysis_tools` metrics to analyze.\n",
    "\n",
    "Example here taken from https://github.com/lsst-sitcom/notebooks_dia/blob/main/explore_auxtel_latiss_dia.ipynb"
   ]
  },
  {
   "cell_type": "code",
   "execution_count": null,
   "id": "5782fbb3-b247-4020-bf75-99121754ec06",
   "metadata": {
    "tags": []
   },
   "outputs": [],
   "source": [
    "from lsst.analysis.tools.actions.vector import ConvertUnits, FlagSelector, GoodDiaSourceSelector, LoadVector\n",
    "from lsst.analysis.tools.atools import SkySourceHistPlot, SkySourceSkyPlot, NumDiaSourcesAllMetric, NumDiaSourcesMetric, NumDipolesMetric"
   ]
  },
  {
   "cell_type": "code",
   "execution_count": null,
   "id": "72c83665-b3ed-46d3-b1af-db7ac7a44b46",
   "metadata": {
    "tags": []
   },
   "outputs": [],
   "source": [
    "exposure = butler.get(\"calexp\", dataId=data_id, collections=input_collection)\n",
    "diaSrc = butler.get(f\"{coaddName}Diff_diaSrc\", dataId=data_id, collections=injection_input_collection)\n",
    "injected_diaSrc = butler.get(f\"{fakesType}{coaddName}Diff_diaSrc\", dataId=data_id, collections=injection_input_collection)\n",
    "injected_diaSrc = injected_diaSrc.asAstropy()"
   ]
  },
  {
   "cell_type": "code",
   "execution_count": null,
   "id": "d3d0e4f8-4543-4b25-8d72-a90f92140919",
   "metadata": {
    "tags": []
   },
   "outputs": [],
   "source": [
    "plot_info_dict = {\"bands\": data_id[\"band\"], \"visit\": data_id[\"visit\"], \"run\": injection_input_collection, \"tableName\": \"deepDiff_diaSrc\"}"
   ]
  },
  {
   "cell_type": "code",
   "execution_count": null,
   "id": "d664be8f-9c5f-4ef4-baac-eb9f89a0a28d",
   "metadata": {
    "tags": []
   },
   "outputs": [],
   "source": [
    "plot = SkySourceHistPlot()"
   ]
  },
  {
   "cell_type": "code",
   "execution_count": null,
   "id": "b41e6198-926c-4fae-bbb4-7c04a6f442d2",
   "metadata": {
    "tags": []
   },
   "outputs": [],
   "source": [
    "# Use the GoodDiaSourceSelector to get the standard pixel flag selection of good DIA sources\n",
    "plot.prep.selectors.skySourceSelector = GoodDiaSourceSelector\n",
    "# And then specify that we just want the sky sources\n",
    "plot.prep.selectors.skySourceSelector.selectWhenTrue = [\"sky_source\"]\n",
    "\n",
    "# We have to rename the columns from the SkySource assumptions of having a DPDD-ified catalog\n",
    "plot.process.buildActions.hist_psf_flux.vectorKey = \"slot_PsfFlux_instFlux\"\n",
    "plot.process.buildActions.hist_ap09_flux.vectorKey = \"base_CircularApertureFlux_9_0_instFlux\"\n",
    "plot.process.buildActions.hist_psf_sn.fluxType = \"slot_PsfFlux_instFlux\"\n",
    "plot.process.buildActions.hist_ap09_sn.fluxType = \"base_CircularApertureFlux_9_0_instFlux\""
   ]
  },
  {
   "cell_type": "code",
   "execution_count": null,
   "id": "276feca3-a745-4369-ac26-b5f30f35d27a",
   "metadata": {
    "tags": []
   },
   "outputs": [],
   "source": [
    "plot.produce.plot.panels[\"panel_flux\"].bins = 25\n",
    "plot.produce.plot.panels[\"panel_sn\"].bins = 25"
   ]
  },
  {
   "cell_type": "code",
   "execution_count": null,
   "id": "f5124826-1379-4ece-9773-ce071bd415f5",
   "metadata": {
    "tags": []
   },
   "outputs": [],
   "source": [
    "plot.finalize()\n",
    "results = plot(diaSrc, band=data_id[\"band\"], plotInfo=plot_info_dict)"
   ]
  },
  {
   "cell_type": "code",
   "execution_count": null,
   "id": "7ada0b1c-49b7-4f58-9865-d1b0fe8a2249",
   "metadata": {
    "tags": []
   },
   "outputs": [],
   "source": [
    "plot.finalize()\n",
    "results = plot(injected_diaSrc, band=data_id[\"band\"], plotInfo=plot_info_dict)"
   ]
  },
  {
   "cell_type": "code",
   "execution_count": null,
   "id": "00733eaf-e3e6-4b00-be4c-6560c763e229",
   "metadata": {
    "tags": []
   },
   "outputs": [],
   "source": [
    "plot = SkySourceSkyPlot()\n",
    "\n",
    "# Use the GoodDiaSourceSelector to get the standard pixel flag selection of good DIA sources\n",
    "plot.prep.selectors.skySourceSelector = GoodDiaSourceSelector\n",
    "# And then specify that we just want the sky sources\n",
    "plot.prep.selectors.skySourceSelector.selectWhenTrue = [\"sky_source\"]\n",
    "\n",
    "# We have to rename the columns from the SkySource assumptions of having a DPDD-ified catalog\n",
    "plot.process.buildActions.z.vectorKey = \"base_CircularApertureFlux_9_0_instFlux\"\n",
    "plot.process.buildActions.statMask.fluxType = \"slot_PsfFlux_instFlux\"\n",
    "\n",
    "# Convert from rad to degree\n",
    "# I think this is the simplest way to do it\n",
    "# We have to override the existing x, y VectorActions\n",
    "plot.process.buildActions.x = ConvertUnits(buildAction=LoadVector, inUnit=\"rad\", outUnit=\"degree\")\n",
    "plot.process.buildActions.x.buildAction.vectorKey = \"coord_ra\"\n",
    "plot.process.buildActions.y = ConvertUnits(buildAction=LoadVector, inUnit=\"rad\", outUnit=\"degree\")\n",
    "plot.process.buildActions.y.buildAction.vectorKey = \"coord_dec\""
   ]
  },
  {
   "cell_type": "code",
   "execution_count": null,
   "id": "2f83997c-44dd-402e-bde3-339f0e74a946",
   "metadata": {
    "tags": []
   },
   "outputs": [],
   "source": [
    "plot.finalize()\n",
    "results = plot(diaSrc, band=data_id[\"band\"], plotInfo=plot_info_dict)"
   ]
  },
  {
   "cell_type": "code",
   "execution_count": null,
   "id": "71edfa22-39dd-4fe3-9669-16673072617f",
   "metadata": {},
   "outputs": [],
   "source": [
    "plot.finalize()\n",
    "results = plot(injected_diaSrc, band=data_id[\"band\"], plotInfo=plot_info_dict)"
   ]
  },
  {
   "cell_type": "code",
   "execution_count": null,
   "id": "5879a1f9-b81b-4f7a-b86d-6915ae2eaa05",
   "metadata": {},
   "outputs": [],
   "source": []
  }
 ],
 "metadata": {
  "kernelspec": {
   "display_name": "desc-stack-weekly-user",
   "language": "python",
   "name": "desc-stack-weekly-user"
  },
  "language_info": {
   "codemirror_mode": {
    "name": "ipython",
    "version": 3
   },
   "file_extension": ".py",
   "mimetype": "text/x-python",
   "name": "python",
   "nbconvert_exporter": "python",
   "pygments_lexer": "ipython3",
   "version": "3.11.4"
  }
 },
 "nbformat": 4,
 "nbformat_minor": 5
}
