{
 "cells": [
  {
   "cell_type": "markdown",
   "id": "56e33567-698e-4d36-b9c3-d13803425820",
   "metadata": {},
   "source": [
    "<img align=\"left\" src = https://lsstdesc.org/assets/img/logo.png width=250 style=\"padding: 10px\"> \n",
    "<b>Testing New DIA Kernel Bases</b> <br>\n",
    "Contact author: Michael Wood-Vasey <br>\n",
    "Last verified to run: 2023-06-05 <br>\n",
    "LSST Science Pipelines version: Weekly 2023_21 <br>\n",
    "Container Size: large <br>\n",
    "Targeted learning level: intermediate <br>"
   ]
  },
  {
   "cell_type": "markdown",
   "id": "adcd41fa-bff0-42af-b1ba-c9eb98a08f7a",
   "metadata": {
    "tags": []
   },
   "source": [
    "Sets up a interactive stepping through of the tasks to do image subtraction to allow for easier modifications to StarSelector, Kernel bases, and Detection."
   ]
  },
  {
   "cell_type": "markdown",
   "id": "46152cfb-4828-4458-bdf2-fa7615f5fb10",
   "metadata": {},
   "source": [
    "Note: This Notebook is written below the PipelineTask level.  Rather is uses individual Tasks directly and reads/writes output products to the butler.  This is pedagogically useful to understand how that works, and pratically helpful in working with the evolving `source_injection` package.  However, this structure is not scalable to larger runs (100+ images).  Such large-scale runs should be done as part of an integrated Task that can be connected and run through the large-scale cluster jobs submission."
   ]
  },
  {
   "cell_type": "markdown",
   "id": "f08728c8-e41a-42f5-8bd8-fbfbb21d4229",
   "metadata": {
    "tags": []
   },
   "source": [
    "1. [x] Find set of images that overlap\n",
    "2. [x] Pick one as template, one as science\n",
    "3. [ ] Also deepCoadd.  Be able to use either.\n",
    "4. [ ] Run subtractions through Tasks\n",
    "5. [ ] Run detection and measurement through Task"
   ]
  },
  {
   "cell_type": "code",
   "execution_count": null,
   "id": "b0c6b5a2-1fde-4dc2-84ee-97260750b278",
   "metadata": {
    "tags": []
   },
   "outputs": [],
   "source": [
    "import os\n",
    "\n",
    "from astropy.coordinates import SkyCoord\n",
    "from astropy.table import Table\n",
    "from astropy.wcs import WCS\n",
    "import astropy.units as u\n",
    "\n",
    "import gc\n",
    "\n",
    "import matplotlib.pyplot as plt\n",
    "import numpy as np\n",
    "import pandas as pd\n",
    "\n",
    "import lsst.afw.display as afwDisplay\n",
    "from lsst.afw.image import MultibandExposure\n",
    "from lsst.afw.math import Warper, WarperConfig\n",
    "from lsst.daf.butler import Butler, DeferredDatasetHandle\n",
    "import lsst.geom as geom\n",
    "from lsst.ip.diffim import AlardLuptonSubtractConfig, AlardLuptonSubtractTask\n",
    "from lsst.ip.diffim import GetTemplateConfig, GetTemplateTask\n",
    "from lsst.ip.diffim import DetectAndMeasureConfig, DetectAndMeasureTask\n",
    "from lsst.pipe.tasks.makeWarp import MakeWarpConfig, MakeWarpTask\n",
    "import lsst.sphgeom"
   ]
  },
  {
   "cell_type": "code",
   "execution_count": null,
   "id": "7caa7cac-2dd3-4cc2-9d36-c1002981d08a",
   "metadata": {
    "tags": []
   },
   "outputs": [],
   "source": [
    "afwDisplay.setDefaultBackend('matplotlib')\n",
    "plt.style.use('tableau-colorblind10')\n",
    "%matplotlib inline"
   ]
  },
  {
   "cell_type": "markdown",
   "id": "393d9a34-2b35-42e6-ba6e-9ce2669a31a8",
   "metadata": {
    "tags": []
   },
   "source": [
    "## Some helper utilities"
   ]
  },
  {
   "cell_type": "code",
   "execution_count": null,
   "id": "0b0b8e5d-40d7-42d9-aebc-ecd5cecb7992",
   "metadata": {
    "tags": []
   },
   "outputs": [],
   "source": [
    "def show_image_on_wcs(calexp, figsize=(8, 8), ax=None, x=None, y=None,\n",
    "                           pixel_extent=None, stamp_size=None,\n",
    "                           vmin=-200, vmax=400,\n",
    "                           marker=\"o\", color=\"red\", size=20):\n",
    "    \"\"\"\n",
    "    Show an image with an RA, Dec grid overlaid.  Optionally add markers.\n",
    "    \n",
    "    Notes\n",
    "    -----\n",
    "    Specifying both pixel_extent and size is undefined.\n",
    "    \"\"\"\n",
    "    if ax is None:\n",
    "        fig = plt.figure(figsize=figsize)\n",
    "        plt.subplot(projection=WCS(calexp.getWcs().getFitsMetadata()))\n",
    "        ax = plt.gca()\n",
    "\n",
    "    if stamp_size is not None and x is not None and y is not None:    \n",
    "        half_stamp = stamp_size / 2\n",
    "        # If x and y are of different types, then user should clarify what they wanted\n",
    "        if np.isscalar(x):\n",
    "            first_x = x\n",
    "            first_y = y\n",
    "        else:\n",
    "            first_x = x[0]\n",
    "            first_y = y[0]\n",
    "            \n",
    "        pixel_extent = (int(first_x - half_stamp), int(first_x + half_stamp),\n",
    "                        int(first_y - half_stamp), int(first_y + half_stamp))\n",
    "    if pixel_extent is None:\n",
    "        pixel_extent = (0, calexp.width, 0, calexp.height)\n",
    "\n",
    "    print(pixel_extent)\n",
    "    # Image array is y, x.  \n",
    "    # So we select from the image array in [Y_Begin:Y_End, X_Begin:X_End]\n",
    "    # But then `extent` is (X_Begin, X_End, Y_Begin, Y_End)\n",
    "    im = ax.imshow(calexp.image.array[pixel_extent[2]:pixel_extent[3],\n",
    "                                      pixel_extent[0]:pixel_extent[1]],\n",
    "                   cmap=\"gray\", vmin=vmin, vmax=vmax,\n",
    "                   extent=pixel_extent, origin=\"lower\")\n",
    "    ax.grid(color=\"white\", ls=\"solid\")\n",
    "    ax.set_xlabel(\"Right Ascension\")\n",
    "    ax.set_ylabel(\"Declination\")\n",
    "    if x is not None and y is not None:\n",
    "        ax.scatter(x, y, s=size, marker=marker, edgecolor=color, facecolor=\"none\")\n",
    "        ax.set_xlim(pixel_extent[0:2])\n",
    "        ax.set_ylim(pixel_extent[2:4])"
   ]
  },
  {
   "cell_type": "code",
   "execution_count": null,
   "id": "36519e1e-6d97-4d32-937c-d16d400c19c9",
   "metadata": {},
   "outputs": [],
   "source": [
    "def show_image_with_mask_plane(calexp, figsize=(8, 8)):\n",
    "    fig, ax = plt.subplots(figsize=figsize)\n",
    "    display = afwDisplay.Display(frame=fig)\n",
    "    display.scale('asinh', 'zscale')\n",
    "    display.setMaskTransparency(80)\n",
    "    display.setMaskPlaneColor('DETECTED', 'blue')\n",
    "    display.mtv(calexp)\n",
    "    plt.show()\n",
    "    \n",
    "    return display"
   ]
  },
  {
   "cell_type": "code",
   "execution_count": null,
   "id": "b2ff7249-bf1d-4474-82cf-b89a1fbe55b7",
   "metadata": {
    "tags": []
   },
   "outputs": [],
   "source": [
    "def htm_from_ra_dec_level(ra, dec, level):\n",
    "    pixelization = lsst.sphgeom.HtmPixelization(level)\n",
    "    htm_id = pixelization.index(\n",
    "        lsst.sphgeom.UnitVector3d(\n",
    "            lsst.sphgeom.LonLat.fromDegrees(ra, dec)\n",
    "        )\n",
    "    )\n",
    "    return htm_id"
   ]
  },
  {
   "cell_type": "code",
   "execution_count": null,
   "id": "e664233e-5849-4ca2-ba04-b4fa2162b6a0",
   "metadata": {
    "tags": []
   },
   "outputs": [],
   "source": [
    "def get_dataset_refs_from_htm_list(dataset_type, htm_ids, level, aggregate=\"intersection\"):\n",
    "    hi = htm_ids[0]\n",
    "\n",
    "    # dataset_refs is an iterator, but each query is only a few hundred results,\n",
    "    #   so convert to a list for future convenience\n",
    "    htm_kwargs = {}\n",
    "    htm_kwargs[f\"htm{level}\"] = hi\n",
    "    dataset_refs = list(butler.registry.queryDatasets(dataset_type, dataId={\"band\": band}, **htm_kwargs))\n",
    "    dataset_refs = set(dataset_refs)\n",
    "    \n",
    "    for hi in htm_ids[1:]:\n",
    "        htm_kwargs = {}\n",
    "        htm_kwargs[f\"htm{level}\"] = hi\n",
    "        dr = list(butler.registry.queryDatasets(dataset_type, dataId={\"band\": band}, **htm_kwargs))\n",
    "        if aggregate == \"intersection\":\n",
    "            dataset_refs = dataset_refs.intersection(set(dr))\n",
    "        elif aggregate == \"union\":\n",
    "            dataset_refs = dataset_refs.union(set(dr))\n",
    "        else:\n",
    "            print(\"Aggregation method '{aggregate}' not supported.\")\n",
    "            return\n",
    "        \n",
    "    return list(dataset_refs)"
   ]
  },
  {
   "cell_type": "markdown",
   "id": "66d51062-67f9-4ce5-b0e8-f0e9deb4d487",
   "metadata": {
    "execution": {
     "iopub.execute_input": "2023-06-02T16:14:15.228965Z",
     "iopub.status.busy": "2023-06-02T16:14:15.228253Z",
     "iopub.status.idle": "2023-06-02T16:14:15.233334Z",
     "shell.execute_reply": "2023-06-02T16:14:15.232377Z",
     "shell.execute_reply.started": "2023-06-02T16:14:15.228931Z"
    },
    "tags": []
   },
   "source": [
    "## Defining Dataset based on Site"
   ]
  },
  {
   "cell_type": "markdown",
   "id": "463b0dd0-2d54-41d8-a043-0e3ab5c16672",
   "metadata": {},
   "source": [
    "We can run this on either DC2 or HSC by choosing appropriate RA, Dec\n",
    "\n",
    "Currently (2023-05-26) DC2 is only available at the IDF and HSC is only available at the USDF,\n",
    "so we split by site."
   ]
  },
  {
   "cell_type": "code",
   "execution_count": null,
   "id": "ff0462aa-afec-49d0-88d9-04d075cb2ab0",
   "metadata": {
    "tags": []
   },
   "outputs": [],
   "source": [
    "SITE = \"IDF\"\n",
    "\n",
    "survey_site = {\"USDF\": \"HSC\", \"IDF\": \"DC2\"}\n",
    "repo_site = {\"USDF\": \"/repo/main\", \"IDF\": \"dp02\"}\n",
    "collection_site = {\"USDF\": \"HSC/runs/RC2/w_2023_15/DM-38691\", \"IDF\": \"2.2i/runs/DP0.2\"}\n",
    "\n",
    "ra_dec_survey = {\"HSC\": (150, 2.5), \"DC2\": (55, -30)}"
   ]
  },
  {
   "cell_type": "code",
   "execution_count": null,
   "id": "68e2510b-9d8c-4a44-a2c0-7dd27662110c",
   "metadata": {
    "tags": []
   },
   "outputs": [],
   "source": [
    "collection = collection_site[SITE]\n",
    "repo_config = repo_site[SITE]\n",
    "\n",
    "user = os.getenv(\"USER\")\n",
    "output_collection = f\"u/{user}/test_dia\""
   ]
  },
  {
   "cell_type": "code",
   "execution_count": null,
   "id": "30ea1bd1-83b9-4f48-a824-cee94014583b",
   "metadata": {
    "tags": []
   },
   "outputs": [],
   "source": [
    "butler = Butler(repo_config, run=output_collection, collections=[output_collection, collection])"
   ]
  },
  {
   "cell_type": "code",
   "execution_count": null,
   "id": "4f9269a3-a928-43c1-bd56-2e87e52322ea",
   "metadata": {
    "tags": []
   },
   "outputs": [],
   "source": [
    "# Do a spatial query for calexps using HTM levels following example in 04b_Intermediate_Butler_Queries.ipynb\n",
    "ra, dec = ra_dec_survey[survey_site[SITE]]\n",
    "band = \"i\""
   ]
  },
  {
   "cell_type": "code",
   "execution_count": null,
   "id": "e704e956-b196-4cc8-9bcf-9a4dac30ee3b",
   "metadata": {
    "tags": []
   },
   "outputs": [],
   "source": [
    "level = 20  # the resolution of the HTM grid\n",
    "htm_id = htm_from_ra_dec_level(ra, dec, level)"
   ]
  },
  {
   "cell_type": "code",
   "execution_count": null,
   "id": "ac405a8c-98b2-45e6-8fec-3f87d6fbedce",
   "metadata": {
    "tags": []
   },
   "outputs": [],
   "source": [
    "parent_level = htm_id // 10\n",
    "htm_ids = [parent_level * 10 + i for i in [0, 1, 2, 3]]"
   ]
  },
  {
   "cell_type": "code",
   "execution_count": null,
   "id": "b048f6c4-0b4f-45f8-8493-b92aa3b7ac81",
   "metadata": {
    "tags": []
   },
   "outputs": [],
   "source": [
    "htm_ids"
   ]
  },
  {
   "cell_type": "code",
   "execution_count": null,
   "id": "a9b03aed-bcd3-441e-bf17-120c8f02f274",
   "metadata": {
    "scrolled": true,
    "tags": []
   },
   "outputs": [],
   "source": [
    "dataset_refs = get_dataset_refs_from_htm_list(\"calexp\", htm_ids, level)\n",
    "\n",
    "# Sort by visitId to get a loose time order\n",
    "ids_visit = [dr.dataId[\"visit\"] for dr in dataset_refs]\n",
    "dataset_refs = [dataset_refs[idx] for idx in np.argsort(ids_visit)]\n",
    "\n",
    "print(dataset_refs)"
   ]
  },
  {
   "cell_type": "code",
   "execution_count": null,
   "id": "5f51bbfa-92e9-4a66-9a74-081286815ece",
   "metadata": {
    "tags": []
   },
   "outputs": [],
   "source": [
    "print(f\"Found {len(list(dataset_refs))} calexps\")"
   ]
  },
  {
   "cell_type": "code",
   "execution_count": null,
   "id": "31ca2798-dc98-426b-9a89-c32b952dab03",
   "metadata": {
    "tags": []
   },
   "outputs": [],
   "source": [
    "visit_table = butler.get(\"visitTable\")"
   ]
  },
  {
   "cell_type": "markdown",
   "id": "3902d976-a034-47b7-9a77-af9e835f9942",
   "metadata": {},
   "source": [
    "We should find 17 calexps for DC2.  (RA, Dec) = (55, -30)  \n",
    "[2023-06-02] Wait, now we find 140 under w_2023_21?  Maybe I just have run this on DC2 for a while and changed the HTM level or something.\n",
    "\n",
    "We should find 44 calexps for HSC COSMOS.  (RA, Dec) = (150, +2.5)"
   ]
  },
  {
   "cell_type": "markdown",
   "id": "88ded5d5-1a4a-4612-8479-fe9a2f4dba2f",
   "metadata": {
    "execution": {
     "iopub.execute_input": "2023-05-02T14:54:47.776325Z",
     "iopub.status.busy": "2023-05-02T14:54:47.775867Z",
     "iopub.status.idle": "2023-05-02T14:54:47.792118Z",
     "shell.execute_reply": "2023-05-02T14:54:47.791426Z",
     "shell.execute_reply.started": "2023-05-02T14:54:47.776303Z"
    },
    "tags": []
   },
   "source": [
    "# Run subtraction between calexps 1 and 0."
   ]
  },
  {
   "cell_type": "code",
   "execution_count": null,
   "id": "13a432b4-8ca3-4e5f-8304-51dc24e11faa",
   "metadata": {
    "tags": []
   },
   "outputs": [],
   "source": [
    "single_image_template = butler.get(\"calexp\", dataset_refs[0].dataId)"
   ]
  },
  {
   "cell_type": "code",
   "execution_count": null,
   "id": "3354e6dd-f99b-417a-af95-7811de40b6b5",
   "metadata": {
    "tags": []
   },
   "outputs": [],
   "source": [
    "science_dr = dataset_refs[1]\n",
    "science = butler.get(\"calexp\", science_dr.dataId)"
   ]
  },
  {
   "cell_type": "markdown",
   "id": "efd061a2-d2c0-4692-9429-036a980ac146",
   "metadata": {},
   "source": [
    "### Get a template from the deepCoadd\n",
    "Here we get a template from the (tract, patch) deepCoadd reassembled to be continous across calexp."
   ]
  },
  {
   "cell_type": "code",
   "execution_count": null,
   "id": "d8992e85-9a0a-42f3-b1e3-587b6af22b0f",
   "metadata": {},
   "outputs": [],
   "source": [
    "sky_map = butler.get(\"skyMap\")"
   ]
  },
  {
   "cell_type": "code",
   "execution_count": null,
   "id": "8bdbf4f0-49ba-48e6-8a38-c09ebc8477ba",
   "metadata": {
    "tags": []
   },
   "outputs": [],
   "source": [
    "get_template_task_config = GetTemplateConfig()\n",
    "get_template_task = GetTemplateTask(config=get_template_task_config)"
   ]
  },
  {
   "cell_type": "code",
   "execution_count": null,
   "id": "206a001f-0f54-4536-8c2c-c45bd4d6ffaf",
   "metadata": {
    "tags": []
   },
   "outputs": [],
   "source": [
    "coadd_exposure_refs = get_dataset_refs_from_htm_list(\"deepCoadd\", htm_ids, level, aggregate=\"union\")\n",
    "print(len(coadd_exposure_refs))"
   ]
  },
  {
   "cell_type": "code",
   "execution_count": null,
   "id": "b24bd6dc-f5af-4a89-ae22-e9aa054ad870",
   "metadata": {
    "tags": []
   },
   "outputs": [],
   "source": [
    "coadd_exposure_refs"
   ]
  },
  {
   "cell_type": "code",
   "execution_count": null,
   "id": "f6f82af3-8b1d-4b13-a731-bd81091f398d",
   "metadata": {},
   "outputs": [],
   "source": [
    "help(sky_map.findClosestTractPatchList)"
   ]
  },
  {
   "cell_type": "code",
   "execution_count": null,
   "id": "edf0d7ba-a2ab-4191-8f2e-c75d0a9fa515",
   "metadata": {
    "tags": []
   },
   "outputs": [],
   "source": [
    "tract_info = sky_map.findClosestTractPatchList([geom.SpherePoint(ra, dec, geom.degrees)])"
   ]
  },
  {
   "cell_type": "code",
   "execution_count": null,
   "id": "0dfc0bfa-9e09-45d0-baac-cc71aea72ef3",
   "metadata": {
    "tags": []
   },
   "outputs": [],
   "source": [
    "t, p = tract_info[0]"
   ]
  },
  {
   "cell_type": "code",
   "execution_count": null,
   "id": "299d7369-6478-4f2f-86d8-c38e2ab5bf56",
   "metadata": {
    "tags": []
   },
   "outputs": [],
   "source": [
    "p[0].sequential_index"
   ]
  },
  {
   "cell_type": "code",
   "execution_count": null,
   "id": "e61581f9-701d-4812-b8c5-c2aa76fb57c7",
   "metadata": {
    "tags": []
   },
   "outputs": [],
   "source": [
    "# coadd_exposure_deferred_dataset_handles = [DeferredDatasetHandle(butler, dr, parameters=None) for dr in coadd_exposure_refs]"
   ]
  },
  {
   "cell_type": "code",
   "execution_count": null,
   "id": "96c5b56f-4944-46f4-b4dd-4f4c9dbf34c8",
   "metadata": {
    "tags": []
   },
   "outputs": [],
   "source": [
    "coadd_exposure_deferred_dataset_handles = [butler.getDeferred(dr) for dr in coadd_exposure_refs]"
   ]
  },
  {
   "cell_type": "markdown",
   "id": "cf620fce-be38-4b4e-9173-6b45f812fd66",
   "metadata": {},
   "source": [
    "Check that we're close to original RA, Dec"
   ]
  },
  {
   "cell_type": "code",
   "execution_count": null,
   "id": "6df7c674-f78e-459b-a6db-b1b58ae3ab83",
   "metadata": {
    "tags": []
   },
   "outputs": [],
   "source": [
    "bbox = science.getBBox()\n",
    "wcs = science.getWcs()"
   ]
  },
  {
   "cell_type": "code",
   "execution_count": null,
   "id": "8351b2b2-dad6-4c63-bd01-e45d8e5e246f",
   "metadata": {
    "tags": []
   },
   "outputs": [],
   "source": [
    "science.getWcs().pixelToSky(bbox.getCenter())"
   ]
  },
  {
   "cell_type": "code",
   "execution_count": null,
   "id": "72cf73d5-ade1-40c2-9a50-b2328066675b",
   "metadata": {
    "tags": []
   },
   "outputs": [],
   "source": [
    "inputs = {\"coaddExposures\" : coadd_exposure_deferred_dataset_handles,\n",
    "          \"bbox\": science.getBBox(),\n",
    "          \"skyMap\": sky_map,\n",
    "          \"wcs\": science.getWcs(),\n",
    "          \"visitInfo\": science.visitInfo,\n",
    "         }"
   ]
  },
  {
   "cell_type": "code",
   "execution_count": null,
   "id": "3fb0bcf8-5fd7-4e69-a335-0ffee37b4e63",
   "metadata": {},
   "outputs": [],
   "source": [
    "data_ids"
   ]
  },
  {
   "cell_type": "code",
   "execution_count": null,
   "id": "4935e25a-70ee-442e-9683-9514210063e2",
   "metadata": {
    "tags": []
   },
   "outputs": [],
   "source": [
    "results = get_template_task.getOverlappingExposures(inputs)\n",
    "coadd_exposures = results.coaddExposures\n",
    "data_ids = results.dataIds\n",
    "\n",
    "deep_coadd_template = get_template_task.run(coadd_exposures, inputs[\"bbox\"], inputs[\"wcs\"], data_ids)"
   ]
  },
  {
   "cell_type": "code",
   "execution_count": null,
   "id": "ab524d73-52a1-49db-a34e-e34ab37a44cc",
   "metadata": {
    "tags": []
   },
   "outputs": [],
   "source": [
    "expanded_data_ids = data_ids\n",
    "# patch is 36\n",
    "# Square of patches around is\n",
    "patches = [28, 29, 30,\n",
    "           35, 36, 37,\n",
    "           42, 43, 44]\n",
    "expanded_data_ids = [{\"band\": \"i\", \"skymap\": \"DC2\", \"tract\": 4638, \"patch\": p} for p in patches]\n",
    "coadd_exposures = [butler.get(\"deepCoadd\", dataId=did) for did in expanded_data_ids]\n",
    "\n",
    "expanded_deep_coadd_template = get_template_task.run(coadd_exposures, inputs[\"bbox\"], inputs[\"wcs\"], expanded_data_ids)\n"
   ]
  },
  {
   "cell_type": "code",
   "execution_count": null,
   "id": "b71d0f7c-ebe5-451e-8327-ab0b7fb5d6cc",
   "metadata": {
    "tags": []
   },
   "outputs": [],
   "source": [
    "show_image_on_wcs(expanded_deep_coadd_template.template, vmin=-1, vmax=+2)"
   ]
  },
  {
   "cell_type": "markdown",
   "id": "c4fb0724-752e-4c60-a9a0-d93337cec13f",
   "metadata": {
    "execution": {
     "iopub.execute_input": "2023-06-02T20:27:29.648116Z",
     "iopub.status.busy": "2023-06-02T20:27:29.647429Z",
     "iopub.status.idle": "2023-06-02T20:27:29.651340Z",
     "shell.execute_reply": "2023-06-02T20:27:29.650651Z",
     "shell.execute_reply.started": "2023-06-02T20:27:29.648086Z"
    },
    "tags": []
   },
   "source": [
    "## Subtraction"
   ]
  },
  {
   "cell_type": "code",
   "execution_count": null,
   "id": "a92263b0-2c7c-4bcb-af42-e9b8ed018ac6",
   "metadata": {
    "tags": []
   },
   "outputs": [],
   "source": [
    "def warp(science, template):\n",
    "    warper_config = WarperConfig()\n",
    "    warper = Warper.fromConfig(warper_config)\n",
    "\n",
    "    science_wcs = science.getWcs()\n",
    "    science_bbox = science.getBBox()\n",
    "    \n",
    "    warped_template = warper.warpExposure(science_wcs, template, destBBox=science_bbox)\n",
    "    # Add PSF.  I think doing this directly without warping is wrong.\n",
    "    # At least the x,y mapping should be updated\n",
    "    warped_template.setPsf(template.getPsf())\n",
    "    \n",
    "    return warped_template\n",
    "\n",
    "\n",
    "def subtract(science, template, source_catalog):\n",
    "    # https://github.com/lsst/ip_diffim/blob/main/python/lsst/ip/diffim/subtractImages.py#L196\n",
    "    config = AlardLuptonSubtractConfig()\n",
    "    task = AlardLuptonSubtractTask(config=config)\n",
    "    # Star Selection is done here:\n",
    "    #   https://github.com/lsst/ip_diffim/blob/main/python/lsst/ip/diffim/subtractImages.py#L603\n",
    "\n",
    "    warped_template = warp(science, template)\n",
    "    \n",
    "    subtraction = task.run(warped_template, science, source_catalog)\n",
    "    \n",
    "    return subtraction\n",
    "\n",
    "\n",
    "def detect(science, subtraction):\n",
    "    # Run detection on subtraction\n",
    "    detect_and_measure_config = DetectAndMeasureConfig()\n",
    "    detect_and_measure_task = DetectAndMeasureTask(config=detect_and_measure_config)\n",
    "\n",
    "    detect_and_measure = detect_and_measure_task.run(science,\n",
    "                                                     subtraction.matchedTemplate,\n",
    "                                                     subtraction.difference)\n",
    "\n",
    "    return detect_and_measure"
   ]
  },
  {
   "cell_type": "code",
   "execution_count": null,
   "id": "3cc103c3-f797-4e81-8fa6-993b48f9f905",
   "metadata": {
    "tags": []
   },
   "outputs": [],
   "source": [
    "# template = single_image_template\n",
    "template = expanded_deep_coadd_template.template"
   ]
  },
  {
   "cell_type": "code",
   "execution_count": null,
   "id": "8a99d04e-fe59-4c5f-b67d-a6397a5976fc",
   "metadata": {
    "tags": []
   },
   "outputs": [],
   "source": [
    "\"\"\"\n",
    "Subtract template image from image referred to by data_id and run detection.\n",
    "\n",
    "Butler needs to be writeable to store output of subtraction and detection.\n",
    "\"\"\"\n",
    "science = butler.get(\"calexp\", science_dr.dataId)\n",
    "source_catalog = butler.get(\"src\", dataId=science_dr.dataId)\n",
    "\n",
    "subtraction = subtract(science, template, source_catalog)\n",
    "\n",
    "detection_catalog = detect(science, subtraction)"
   ]
  },
  {
   "cell_type": "code",
   "execution_count": null,
   "id": "ea16b98b-ac70-4967-8b29-a0a258736770",
   "metadata": {
    "tags": []
   },
   "outputs": [],
   "source": [
    "show_image_on_wcs(template, vmin=-1, vmax=+2)"
   ]
  },
  {
   "cell_type": "code",
   "execution_count": null,
   "id": "a92878e2-57c1-4065-9fa6-ea9bdf8bcb38",
   "metadata": {
    "tags": []
   },
   "outputs": [],
   "source": [
    "show_image_on_wcs(science)"
   ]
  },
  {
   "cell_type": "code",
   "execution_count": null,
   "id": "e56e2730-8707-487a-a08e-f867817598bd",
   "metadata": {
    "tags": []
   },
   "outputs": [],
   "source": [
    "show_image_on_wcs(subtraction.difference)"
   ]
  },
  {
   "cell_type": "markdown",
   "id": "9c0d885f-01a5-42ff-9ec4-7135174df12e",
   "metadata": {},
   "source": [
    "The negative regions above are saturated stars, as indicated by the masked-image view below where \"green\" is saturated.he negative regions above are saturated stars, as indicated by the masked-image view below where \"green\" is saturated.\n",
    "\n",
    "Interpreting the above image plane correctly requires marking the saturated regions.  Stars brighter than ~17th mag will saturate in LSST images.  This means that the recording counts are not propotional to the flux, so the subtraction between two images of that field will not yield clean subtractions of the stars.  In general in one of the images the stars will be a little more saturated than the other and so have fewer proporational counts.  In this case for DC2, , it's the template image that has slightly more saturated stars (due to a higher sky brightness or a sharper PSF FWHM).T"
   ]
  },
  {
   "cell_type": "code",
   "execution_count": null,
   "id": "69d3a43c-92be-4eb7-b33c-36a0dc7c33e7",
   "metadata": {
    "tags": []
   },
   "outputs": [],
   "source": [
    "show_image_with_mask_plane(subtraction.difference)"
   ]
  },
  {
   "cell_type": "code",
   "execution_count": null,
   "id": "8ace8a62-34c8-405e-a74d-15c145c1d3cd",
   "metadata": {},
   "outputs": [],
   "source": [
    "print(\"Mask plane bit definitions:\\n\", display.getMaskPlaneColor())\n",
    "print(\"\\nMask plane methods:\\n\")\n",
    "help(display.setMaskPlaneColor)"
   ]
  },
  {
   "cell_type": "code",
   "execution_count": null,
   "id": "7996d137-8d87-45e2-b6f2-fd43308d5d90",
   "metadata": {},
   "outputs": [],
   "source": []
  },
  {
   "cell_type": "markdown",
   "id": "e5141fd2-2fb3-42ff-b073-b2ae92262254",
   "metadata": {},
   "source": [
    "## DIA Source Catalog\n",
    "\n",
    "We can getting a better sense of the true performance of the image subtraction by looking at the catalog of detected and measured sources, the DIA Source Cstalog."
   ]
  },
  {
   "cell_type": "code",
   "execution_count": null,
   "id": "89add2b5-46f7-4672-82ec-34d60f247064",
   "metadata": {
    "tags": []
   },
   "outputs": [],
   "source": [
    "dia_src = detection_catalog.diaSources.asAstropy()"
   ]
  },
  {
   "cell_type": "code",
   "execution_count": null,
   "id": "435968ab-1b77-4666-8c63-a6d4f37862cc",
   "metadata": {
    "tags": []
   },
   "outputs": [],
   "source": [
    "# Specific list.  But \"base_PixelFlags_flag\" should be set for any of these\n",
    "full_list_pixelflags_indicating_bad_source = [\"base_PixelFlags_flag_saturated\",\n",
    "\"base_PixelFlags_flag_saturatedCenter\",\n",
    "\"base_PixelFlags_flag_suspect\",\n",
    "\"base_PixelFlags_flag_suspectCenter\",\n",
    "\"base_PixelFlags_flag_offimage\",\n",
    "\"base_PixelFlags_flag_edge\",\n",
    "\"base_PixelFlags_flag_bad\",]"
   ]
  },
  {
   "cell_type": "markdown",
   "id": "0d691412-4264-47b3-b4fb-4026a612afb0",
   "metadata": {},
   "source": [
    "There seem to be objects with some of the above flags set, but where \"base_PixelFlags_flag\" is not set.  Investigate.  This is a bug."
   ]
  },
  {
   "cell_type": "markdown",
   "id": "5505947e-7aac-425c-9e72-a949ab7a2990",
   "metadata": {},
   "source": [
    "Apply flags that marker things that pipeline is indicating might be real transients."
   ]
  },
  {
   "cell_type": "code",
   "execution_count": null,
   "id": "ee2f756a-5a75-49be-adc9-7d8c2d4ebb2e",
   "metadata": {
    "tags": []
   },
   "outputs": [],
   "source": [
    "flags_indicating_bad_source = [\"base_PixelFlags_flag_saturated\",\n",
    "                               \"base_PixelFlags_flag_saturatedCenter\",\n",
    "                               \"base_PixelFlags_flag_suspect\",\n",
    "                               \"base_PixelFlags_flag_suspectCenter\",\n",
    "                               \"base_PixelFlags_flag_offimage\",\n",
    "                               \"base_PixelFlags_flag_edge\",\n",
    "                               \"base_PixelFlags_flag_bad\",\n",
    "                               \"base_SdssShape_flag\",\n",
    "                               \"ip_diffim_DipoleFit_flag_classification\",\n",
    "                               \"ip_diffim_DipoleFit_flag_classificationAttempted\",\n",
    "                               \"base_GaussianFlux_flag\",\n",
    "                               \"slot_Shape_flag\",]"
   ]
  },
  {
   "cell_type": "code",
   "execution_count": null,
   "id": "78068003-58f8-4ba2-b950-7e9a0c494e50",
   "metadata": {
    "tags": []
   },
   "outputs": [],
   "source": [
    "bad = [dia_src[flag] for flag in flags_indicating_bad_source]\n",
    "bad = np.any(np.vstack(bad), axis=0)"
   ]
  },
  {
   "cell_type": "code",
   "execution_count": null,
   "id": "d5813250-e02b-443b-9362-20aa5f881f99",
   "metadata": {
    "tags": []
   },
   "outputs": [],
   "source": [
    "good_dia_src = dia_src[~bad]"
   ]
  },
  {
   "cell_type": "code",
   "execution_count": null,
   "id": "06a155d6-49b1-480d-a5c1-fade0456655e",
   "metadata": {
    "tags": []
   },
   "outputs": [],
   "source": [
    "print(f\"Found {len(good_dia_src)} good DIA sources.\")"
   ]
  },
  {
   "cell_type": "code",
   "execution_count": null,
   "id": "462ae4c2-26c0-4ad9-98f6-c03cd207edcc",
   "metadata": {
    "scrolled": true,
    "tags": []
   },
   "outputs": [],
   "source": [
    "import re\n",
    "shape_flags = [c for c in good_dia_src.columns if re.search(\"base.*Shape.*_.*flag\", c)]\n",
    "sdss_flags = [c for c in good_dia_src.columns if re.search(\"base.*Sdss.*_.*flag\", c)]\n",
    "slot_flags = [c for c in good_dia_src.columns if re.search(\"slot_.*flag\", c)]"
   ]
  },
  {
   "cell_type": "code",
   "execution_count": null,
   "id": "82d71cb3-f9e1-4494-9bf9-27fef5d3d5ce",
   "metadata": {
    "tags": []
   },
   "outputs": [],
   "source": [
    "x = good_dia_src[\"slot_Shape_x\"]\n",
    "y = good_dia_src[\"slot_Shape_y\"]"
   ]
  },
  {
   "cell_type": "code",
   "execution_count": null,
   "id": "3426bba0-16f2-482a-b471-f07203b1c246",
   "metadata": {},
   "outputs": [],
   "source": [
    "print(3810/171751)\n",
    "print(5876/549468)"
   ]
  },
  {
   "cell_type": "code",
   "execution_count": null,
   "id": "da092954-66eb-4ce0-8d68-423d121cea65",
   "metadata": {
    "tags": []
   },
   "outputs": [],
   "source": [
    "good_dia_src[[\"slot_PsfFlux_instFlux\", \"ip_diffim_forced_PsfFlux_instFlux\", \"ip_diffim_forced_PsfFlux_instFluxErr\"]]"
   ]
  },
  {
   "cell_type": "code",
   "execution_count": null,
   "id": "4cfbb277-e3ab-4ade-b513-df1509bb04ad",
   "metadata": {
    "tags": []
   },
   "outputs": [],
   "source": [
    "i = 1"
   ]
  },
  {
   "cell_type": "code",
   "execution_count": null,
   "id": "83759c89-1d8f-46b5-8803-45d1b7a559cf",
   "metadata": {
    "tags": []
   },
   "outputs": [],
   "source": [
    "show_image_on_wcs(subtraction.matchedTemplate, x=x[i], y=y[i], stamp_size=100)"
   ]
  },
  {
   "cell_type": "code",
   "execution_count": null,
   "id": "8af2554a-63ad-4aa4-99d4-5c9331100057",
   "metadata": {
    "tags": []
   },
   "outputs": [],
   "source": [
    "show_image_on_wcs(subtraction.matchedScience, x=x[i], y=y[i], stamp_size=100)"
   ]
  },
  {
   "cell_type": "code",
   "execution_count": null,
   "id": "0ad41cc9-ccd4-4b2c-8f30-af270845fcc6",
   "metadata": {
    "tags": []
   },
   "outputs": [],
   "source": [
    "show_image_on_wcs(subtraction.difference, x=x[i], y=y[i], stamp_size=100)"
   ]
  },
  {
   "cell_type": "code",
   "execution_count": null,
   "id": "61a9a3c9-5c21-4cdb-acaf-045916533719",
   "metadata": {
    "tags": []
   },
   "outputs": [],
   "source": [
    "geom.Extent2I(100, 100)"
   ]
  },
  {
   "cell_type": "code",
   "execution_count": null,
   "id": "102137dc-05b8-4d0b-bb1d-d5c544a53c08",
   "metadata": {
    "tags": []
   },
   "outputs": [],
   "source": [
    "center = geom.SpherePoint(good_dia_src[\"coord_ra\"][i], good_dia_src[\"coord_dec\"][i], geom.radians)\n",
    "extent = geom.Extent2I(100, 100)\n",
    "cutout = subtraction.difference.getCutout(center, extent)"
   ]
  },
  {
   "cell_type": "code",
   "execution_count": null,
   "id": "93af3b7c-73c8-4a47-bf5c-e74717a0061a",
   "metadata": {
    "tags": []
   },
   "outputs": [],
   "source": [
    "show_image_with_mask_plane(cutout)"
   ]
  },
  {
   "cell_type": "code",
   "execution_count": null,
   "id": "0c55cd0e-7426-45e0-bb27-38e9971de7bc",
   "metadata": {
    "tags": []
   },
   "outputs": [],
   "source": [
    "good_dia_src[i][slot_flags]"
   ]
  },
  {
   "cell_type": "code",
   "execution_count": null,
   "id": "315e9854-398a-435e-8c97-200b0eccca1b",
   "metadata": {},
   "outputs": [],
   "source": [
    "flags = [c for c in good_dia_src.columns if re.search(\"_flag\", c)]"
   ]
  },
  {
   "cell_type": "code",
   "execution_count": null,
   "id": "9ddfa146-f76f-41b9-9893-3b414f47e748",
   "metadata": {},
   "outputs": [],
   "source": [
    "good_dia_src[flags]"
   ]
  },
  {
   "cell_type": "code",
   "execution_count": null,
   "id": "4f12a846-93ca-4049-ad76-6a4b4a60d482",
   "metadata": {},
   "outputs": [],
   "source": [
    "dia_src.columns"
   ]
  },
  {
   "cell_type": "code",
   "execution_count": null,
   "id": "f97a0a03-157c-4448-b952-5641658e7e84",
   "metadata": {},
   "outputs": [],
   "source": [
    "len(dia_src.columns)"
   ]
  },
  {
   "cell_type": "code",
   "execution_count": null,
   "id": "c9751930-ae64-40c7-9778-b089267e4645",
   "metadata": {},
   "outputs": [],
   "source": []
  }
 ],
 "metadata": {
  "kernelspec": {
   "display_name": "LSST",
   "language": "python",
   "name": "lsst"
  },
  "language_info": {
   "codemirror_mode": {
    "name": "ipython",
    "version": 3
   },
   "file_extension": ".py",
   "mimetype": "text/x-python",
   "name": "python",
   "nbconvert_exporter": "python",
   "pygments_lexer": "ipython3",
   "version": "3.10.9"
  }
 },
 "nbformat": 4,
 "nbformat_minor": 5
}
