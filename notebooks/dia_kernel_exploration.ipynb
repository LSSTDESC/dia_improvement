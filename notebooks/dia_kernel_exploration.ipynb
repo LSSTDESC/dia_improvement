{
 "cells": [
  {
   "cell_type": "markdown",
   "id": "56e33567-698e-4d36-b9c3-d13803425820",
   "metadata": {},
   "source": [
    "<img align=\"left\" src = https://lsstdesc.org/assets/img/logo.png width=250 style=\"padding: 10px\"> \n",
    "<b>Testing New DIA Kernel Bases</b> <br>\n",
    "Contact author: Michael Wood-Vasey <br>\n",
    "Last verified to run: 2023-06-01 <br>\n",
    "LSST Science Pipelines version: Weekly 2023_21 <br>\n",
    "Container Size: large <br>\n",
    "Targeted learning level: intermediate <br>"
   ]
  },
  {
   "cell_type": "markdown",
   "id": "adcd41fa-bff0-42af-b1ba-c9eb98a08f7a",
   "metadata": {
    "tags": []
   },
   "source": [
    "Sets up a interactive stepping through of the tasks to do image subtraction to allow for easier modifications to StarSelector, Kernel bases, and Detection."
   ]
  },
  {
   "cell_type": "markdown",
   "id": "46152cfb-4828-4458-bdf2-fa7615f5fb10",
   "metadata": {},
   "source": [
    "Note: This Notebook is written below the PipelineTask level.  Rather is uses individual Tasks directly and reads/writes output products to the butler.  This is pedagogically useful to understand how that works, and pratically helpful in working with the evolving `source_injection` package.  However, this structure is not scalable to larger runs (100+ images).  Such large-scale runs should be done as part of an integrated Task that can be connected and run through the large-scale cluster jobs submission."
   ]
  },
  {
   "cell_type": "markdown",
   "id": "f08728c8-e41a-42f5-8bd8-fbfbb21d4229",
   "metadata": {
    "tags": []
   },
   "source": [
    "1. [ ] Find set of images that overlap\n",
    "2. [ ] Pick one as template, one as science\n",
    "3. [ ] Also deepCoadd.  Be able to use either.\n",
    "4. [ ] Run subtractions through Tasks\n",
    "5. [ ] Run detection and measurement through Task"
   ]
  },
  {
   "cell_type": "code",
   "execution_count": null,
   "id": "b0c6b5a2-1fde-4dc2-84ee-97260750b278",
   "metadata": {
    "tags": []
   },
   "outputs": [],
   "source": [
    "import os\n",
    "\n",
    "from astropy.coordinates import SkyCoord\n",
    "from astropy.table import Table\n",
    "from astropy.wcs import WCS\n",
    "import astropy.units as u\n",
    "\n",
    "import gc\n",
    "\n",
    "import matplotlib.pyplot as plt\n",
    "import numpy as np\n",
    "import pandas as pd\n",
    "\n",
    "import lsst.afw.display as afwDisplay\n",
    "from lsst.afw.image import MultibandExposure\n",
    "from lsst.afw.math import Warper, WarperConfig\n",
    "import lsst.geom as geom\n",
    "from lsst.daf.butler import Butler, DimensionUniverse, DatasetType, CollectionType\n",
    "from lsst.daf.butler.registry import MissingCollectionError\n",
    "from lsst.ip.diffim import AlardLuptonSubtractConfig, AlardLuptonSubtractTask\n",
    "from lsst.ip.diffim import DetectAndMeasureConfig, DetectAndMeasureTask\n",
    "from lsst.pipe.tasks.makeWarp import MakeWarpConfig, MakeWarpTask\n",
    "import lsst.sphgeom"
   ]
  },
  {
   "cell_type": "code",
   "execution_count": null,
   "id": "7caa7cac-2dd3-4cc2-9d36-c1002981d08a",
   "metadata": {
    "tags": []
   },
   "outputs": [],
   "source": [
    "afwDisplay.setDefaultBackend('matplotlib')\n",
    "plt.style.use('tableau-colorblind10')\n",
    "%matplotlib inline"
   ]
  },
  {
   "cell_type": "markdown",
   "id": "463b0dd0-2d54-41d8-a043-0e3ab5c16672",
   "metadata": {},
   "source": [
    "We can run this on either DC2 or HSC by choosing appropriate RA, Dec\n",
    "\n",
    "Currently (2023-05-26) DC2 is only available at the IDF and HSC is only available at the USDF,\n",
    "so we split by site."
   ]
  },
  {
   "cell_type": "code",
   "execution_count": null,
   "id": "ff0462aa-afec-49d0-88d9-04d075cb2ab0",
   "metadata": {
    "tags": []
   },
   "outputs": [],
   "source": [
    "SITE = \"IDF\"\n",
    "\n",
    "survey_site = {\"USDF\": \"HSC\", \"IDF\": \"DC2\"}\n",
    "repo_site = {\"USDF\": \"/repo/main\", \"IDF\": \"dp02\"}\n",
    "collection_site = {\"USDF\": \"HSC/runs/RC2/w_2023_15/DM-38691\", \"IDF\": \"2.2i/runs/DP0.2\"}\n",
    "\n",
    "ra_dec_survey = {\"HSC\": (150, 2.5), \"DC2\": (55, -30)}"
   ]
  },
  {
   "cell_type": "code",
   "execution_count": null,
   "id": "68e2510b-9d8c-4a44-a2c0-7dd27662110c",
   "metadata": {
    "tags": []
   },
   "outputs": [],
   "source": [
    "collection = collection_site[SITE]\n",
    "repo_config = repo_site[SITE]\n",
    "\n",
    "user = os.getenv(\"USER\")\n",
    "output_collection = f\"u/{user}/test_dia\""
   ]
  },
  {
   "cell_type": "code",
   "execution_count": null,
   "id": "30ea1bd1-83b9-4f48-a824-cee94014583b",
   "metadata": {
    "tags": []
   },
   "outputs": [],
   "source": [
    "butler = Butler(repo_config, run=output_collection, collections=[output_collection, collection])"
   ]
  },
  {
   "cell_type": "code",
   "execution_count": null,
   "id": "4f9269a3-a928-43c1-bd56-2e87e52322ea",
   "metadata": {
    "tags": []
   },
   "outputs": [],
   "source": [
    "# Do a spatial query for calexps using HTM levels following example in 04b_Intermediate_Butler_Queries.ipynb\n",
    "ra, dec = ra_dec_survey[survey_site[SITE]]\n",
    "band = \"i\""
   ]
  },
  {
   "cell_type": "code",
   "execution_count": null,
   "id": "b2ff7249-bf1d-4474-82cf-b89a1fbe55b7",
   "metadata": {
    "tags": []
   },
   "outputs": [],
   "source": [
    "def htm_from_ra_dec_level(ra, dec, level):\n",
    "    pixelization = lsst.sphgeom.HtmPixelization(level)\n",
    "    htm_id = pixelization.index(\n",
    "        lsst.sphgeom.UnitVector3d(\n",
    "            lsst.sphgeom.LonLat.fromDegrees(ra, dec)\n",
    "        )\n",
    "    )\n",
    "    return htm_id"
   ]
  },
  {
   "cell_type": "code",
   "execution_count": null,
   "id": "e704e956-b196-4cc8-9bcf-9a4dac30ee3b",
   "metadata": {
    "tags": []
   },
   "outputs": [],
   "source": [
    "level = 20  # the resolution of the HTM grid\n",
    "htm_id = htm_from_ra_dec_level(ra, dec, level)"
   ]
  },
  {
   "cell_type": "code",
   "execution_count": null,
   "id": "ac405a8c-98b2-45e6-8fec-3f87d6fbedce",
   "metadata": {
    "tags": []
   },
   "outputs": [],
   "source": [
    "parent_level = htm_id // 10\n",
    "htm_ids = [parent_level * 10 + i for i in [0, 1, 2, 3]]"
   ]
  },
  {
   "cell_type": "code",
   "execution_count": null,
   "id": "b048f6c4-0b4f-45f8-8493-b92aa3b7ac81",
   "metadata": {
    "tags": []
   },
   "outputs": [],
   "source": [
    "htm_ids"
   ]
  },
  {
   "cell_type": "code",
   "execution_count": null,
   "id": "e664233e-5849-4ca2-ba04-b4fa2162b6a0",
   "metadata": {
    "tags": []
   },
   "outputs": [],
   "source": [
    "hi = htm_ids[0]\n",
    "\n",
    "# dataset_refs is an iterator, but each query is only a few hundred results,\n",
    "#   so convert to a list for future convenience\n",
    "htm_kwargs = {}\n",
    "htm_kwargs[f\"htm{level}\"] = hi\n",
    "dataset_refs = list(butler.registry.queryDatasets(\"calexp\", dataId={\"band\": band}, **htm_kwargs))\n",
    "dataset_refs = set(dataset_refs)"
   ]
  },
  {
   "cell_type": "code",
   "execution_count": null,
   "id": "c105ea28-8430-4a97-baed-1458e3de4287",
   "metadata": {
    "tags": []
   },
   "outputs": [],
   "source": [
    "ra, dec"
   ]
  },
  {
   "cell_type": "code",
   "execution_count": null,
   "id": "ef7357f7-7278-490d-a2c6-de6f7750ce3a",
   "metadata": {
    "tags": []
   },
   "outputs": [],
   "source": [
    "for hi in htm_ids[1:]:\n",
    "    htm_kwargs = {}\n",
    "    htm_kwargs[f\"htm{level}\"] = hi\n",
    "    dr = list(butler.registry.queryDatasets(\"calexp\", dataId={\"band\": band}, **htm_kwargs))\n",
    "    dataset_refs = dataset_refs.intersection(set(dr))"
   ]
  },
  {
   "cell_type": "code",
   "execution_count": null,
   "id": "a9b03aed-bcd3-441e-bf17-120c8f02f274",
   "metadata": {
    "tags": []
   },
   "outputs": [],
   "source": [
    "dataset_refs = list(dataset_refs)\n",
    "# Sort by visitId to get a loose time order\n",
    "ids_visit = [dr.dataId[\"visit\"] for dr in dataset_refs]\n",
    "dataset_refs = [dataset_refs[idx] for idx in np.argsort(ids_visit)]\n",
    "\n",
    "print(dataset_refs)"
   ]
  },
  {
   "cell_type": "code",
   "execution_count": null,
   "id": "5f51bbfa-92e9-4a66-9a74-081286815ece",
   "metadata": {
    "tags": []
   },
   "outputs": [],
   "source": [
    "print(f\"Found {len(list(dataset_refs))} calexps\")"
   ]
  },
  {
   "cell_type": "code",
   "execution_count": null,
   "id": "31ca2798-dc98-426b-9a89-c32b952dab03",
   "metadata": {
    "tags": []
   },
   "outputs": [],
   "source": [
    "visit_table = butler.get(\"visitTable\") #, dataset_refs[0].dataId)"
   ]
  },
  {
   "cell_type": "markdown",
   "id": "3902d976-a034-47b7-9a77-af9e835f9942",
   "metadata": {},
   "source": [
    "We should find 17 calexps for DC2.  (RA, Dec) = (55, -30)\n",
    "\n",
    "We should find 44 calexps for HSC COSMOS.  (RA, Dec) = (150, +2.5)"
   ]
  },
  {
   "cell_type": "markdown",
   "id": "88ded5d5-1a4a-4612-8479-fe9a2f4dba2f",
   "metadata": {
    "execution": {
     "iopub.execute_input": "2023-05-02T14:54:47.776325Z",
     "iopub.status.busy": "2023-05-02T14:54:47.775867Z",
     "iopub.status.idle": "2023-05-02T14:54:47.792118Z",
     "shell.execute_reply": "2023-05-02T14:54:47.791426Z",
     "shell.execute_reply.started": "2023-05-02T14:54:47.776303Z"
    },
    "tags": []
   },
   "source": [
    "# Run subtraction between calexps 1 and calexp 0."
   ]
  },
  {
   "cell_type": "code",
   "execution_count": null,
   "id": "26c3437b-cadd-4684-a327-1c1faed8a8cc",
   "metadata": {
    "tags": []
   },
   "outputs": [],
   "source": []
  },
  {
   "cell_type": "code",
   "execution_count": null,
   "id": "13a432b4-8ca3-4e5f-8304-51dc24e11faa",
   "metadata": {
    "tags": []
   },
   "outputs": [],
   "source": [
    "single_image_template = butler.get(\"calexp\", dataset_refs[0].dataId)"
   ]
  },
  {
   "cell_type": "code",
   "execution_count": null,
   "id": "a92263b0-2c7c-4bcb-af42-e9b8ed018ac6",
   "metadata": {
    "tags": []
   },
   "outputs": [],
   "source": [
    "def warp(science, template):\n",
    "    warper_config = WarperConfig()\n",
    "    warper = Warper.fromConfig(warper_config)\n",
    "\n",
    "    science_wcs = science.getWcs()\n",
    "    science_bbox = science.getBBox()\n",
    "    \n",
    "    warped_template = warper.warpExposure(science_wcs, template, destBBox=science_bbox)\n",
    "    # Add PSF.  I think doing this directly without warping is wrong.\n",
    "    # At least the x,y mapping should be updated\n",
    "    warped_template.setPsf(template.getPsf())\n",
    "    \n",
    "    return warped_template\n",
    "\n",
    "\n",
    "def subtract(science, template, source_catalog):\n",
    "    # https://github.com/lsst/ip_diffim/blob/main/python/lsst/ip/diffim/subtractImages.py#L196\n",
    "    config = AlardLuptonSubtractConfig()\n",
    "    task = AlardLuptonSubtractTask(config=config)\n",
    "    # Star Selection is done here:\n",
    "    #   https://github.com/lsst/ip_diffim/blob/main/python/lsst/ip/diffim/subtractImages.py#L603\n",
    "\n",
    "    warped_template = warp(science, template)\n",
    "    \n",
    "    subtraction = task.run(warped_template, science, source_catalog)\n",
    "    \n",
    "    return subtraction\n",
    "\n",
    "\n",
    "def detect(science, subtraction):\n",
    "    # Run detection on subtraction\n",
    "    detect_and_measure_config = DetectAndMeasureConfig()\n",
    "    detect_and_measure_task = DetectAndMeasureTask(config=detect_and_measure_config)\n",
    "\n",
    "    detect_and_measure = detect_and_measure_task.run(science,\n",
    "                                                     subtraction.matchedTemplate,\n",
    "                                                     subtraction.difference)\n",
    "\n",
    "    return detect_and_measure"
   ]
  },
  {
   "cell_type": "code",
   "execution_count": null,
   "id": "3354e6dd-f99b-417a-af95-7811de40b6b5",
   "metadata": {
    "tags": []
   },
   "outputs": [],
   "source": [
    "science_dr = dataset_refs[1]\n",
    "template = single_image_template"
   ]
  },
  {
   "cell_type": "code",
   "execution_count": null,
   "id": "8a99d04e-fe59-4c5f-b67d-a6397a5976fc",
   "metadata": {
    "tags": []
   },
   "outputs": [],
   "source": [
    "\"\"\"\n",
    "Subtract template image from image referred to by data_id and run detection.\n",
    "\n",
    "Butler needs to be writeable to store output of subtraction and detection.\n",
    "\"\"\"\n",
    "science = butler.get(\"calexp\", science_dr.dataId)\n",
    "source_catalog = butler.get(\"src\", dataId=science_dr.dataId)\n",
    "\n",
    "subtraction = subtract(science, template, source_catalog)\n",
    "\n",
    "detection_catalog = detect(science, subtraction)"
   ]
  },
  {
   "cell_type": "markdown",
   "id": "8581fc72-f0c1-4d48-9824-10a910e9a2a0",
   "metadata": {
    "tags": []
   },
   "source": [
    "## Some helper utilities for plotting"
   ]
  },
  {
   "cell_type": "code",
   "execution_count": null,
   "id": "d415822d-4ccd-489a-96e5-0f2a7cdf9e77",
   "metadata": {
    "tags": []
   },
   "outputs": [],
   "source": [
    "def show_image_on_wcs(calexp, figsize=(8, 8), ax=None, x=None, y=None,\n",
    "                      pixel_extent=None, stamp_size=None,\n",
    "                      marker=\"o\", color=\"red\", size=20):\n",
    "    \"\"\"\n",
    "    Show an image with an RA, Dec grid overlaid.  Optionally add markers.\n",
    "    \n",
    "    Notes\n",
    "    -----\n",
    "    Specifying both pixel_extent and size is undefined.\n",
    "    \"\"\"\n",
    "    if ax is None:\n",
    "        fig = plt.figure(figsize=figsize)\n",
    "        plt.subplot(projection=WCS(calexp.getWcs().getFitsMetadata()))\n",
    "        ax = plt.gca()\n",
    "\n",
    "    if stamp_size is not None and x is not None and y is not None:    \n",
    "        half_stamp = stamp_size / 2\n",
    "        # If x and y are of different types, then user should clarify what they wanted\n",
    "        if np.isscalar(x):\n",
    "            first_x = x\n",
    "            first_y = y\n",
    "        else:\n",
    "            first_x = x[0]\n",
    "            first_y = y[0]\n",
    "            \n",
    "        pixel_extent = (int(first_x - half_stamp), int(first_x + half_stamp),\n",
    "                        int(first_y - half_stamp), int(first_y + half_stamp))\n",
    "    if pixel_extent is None:\n",
    "        pixel_extent = (int(calexp.getBBox().beginX), int(calexp.getBBox().endX),\n",
    "                        int(calexp.getBBox().beginY), int(calexp.getBBox().endY))\n",
    "    # Image array is y, x.  \n",
    "    # So we select from the image array in [Y_Begin:Y_End, X_Begin:X_End]\n",
    "    # But then `extent` is (X_Begin, X_End, Y_Begin, Y_End)\n",
    "\n",
    "    im = ax.imshow(calexp.image.array[pixel_extent[2]:pixel_extent[3], pixel_extent[0]:pixel_extent[1]],\n",
    "                   cmap=\"gray\", vmin=-200.0, vmax=400,\n",
    "                   extent=pixel_extent, origin=\"lower\")\n",
    "    ax.grid(color=\"white\", ls=\"solid\")\n",
    "    ax.set_xlabel(\"Right Ascension\")\n",
    "    ax.set_ylabel(\"Declination\")\n",
    "    if x is not None and y is not None:\n",
    "        ax.scatter(x, y, s=size, marker=marker, edgecolor=color, facecolor=\"none\")"
   ]
  },
  {
   "cell_type": "code",
   "execution_count": null,
   "id": "a92878e2-57c1-4065-9fa6-ea9bdf8bcb38",
   "metadata": {
    "tags": []
   },
   "outputs": [],
   "source": [
    "show_image_on_wcs(science)"
   ]
  },
  {
   "cell_type": "code",
   "execution_count": null,
   "id": "e56e2730-8707-487a-a08e-f867817598bd",
   "metadata": {
    "tags": []
   },
   "outputs": [],
   "source": [
    "show_image_on_wcs(subtraction.difference)"
   ]
  },
  {
   "cell_type": "code",
   "execution_count": null,
   "id": "316265dd-3cfd-4e88-aac9-a1f0ed9450a7",
   "metadata": {
    "tags": []
   },
   "outputs": [],
   "source": [
    "dir(subtraction)"
   ]
  },
  {
   "cell_type": "code",
   "execution_count": null,
   "id": "90274a8b-177f-45bd-8ebb-ce157537f03b",
   "metadata": {},
   "outputs": [],
   "source": []
  }
 ],
 "metadata": {
  "kernelspec": {
   "display_name": "LSST",
   "language": "python",
   "name": "lsst"
  },
  "language_info": {
   "codemirror_mode": {
    "name": "ipython",
    "version": 3
   },
   "file_extension": ".py",
   "mimetype": "text/x-python",
   "name": "python",
   "nbconvert_exporter": "python",
   "pygments_lexer": "ipython3",
   "version": "3.10.10"
  }
 },
 "nbformat": 4,
 "nbformat_minor": 5
}
