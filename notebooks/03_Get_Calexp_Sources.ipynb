{
 "cells": [
  {
   "cell_type": "markdown",
   "metadata": {},
   "source": [
    "# How to Separate Calexp Catalog Sources into Different Magnitude Categories.\n",
    "\n",
    "This notebook illustrates how to separate calexp catalog sources into three catagories: saturation stars, super bright stars, and less bright stars."
   ]
  },
  {
   "cell_type": "code",
   "execution_count": 2,
   "metadata": {},
   "outputs": [],
   "source": [
    "import pandas as pd\n",
    "import numpy as np\n",
    "\n",
    "from astropy.table import Table\n",
    "from lsst.daf.persistence import Butler\n",
    "from lsst.afw.image import PhotoCalib"
   ]
  },
  {
   "cell_type": "markdown",
   "metadata": {},
   "source": [
    "## 1. Get calexp sources\n",
    "\n",
    "To begin with, we need to specify the `visit`, `detector`, and `filter` information of the calexp image. We also need to specify the `repo` of the calexp image. Next we do calibration to the source catalog. Relevent columns are saved in `calexp_source.csv`."
   ]
  },
  {
   "cell_type": "code",
   "execution_count": 6,
   "metadata": {},
   "outputs": [],
   "source": [
    "# visit, detector and filter information\n",
    "visit, detector, filt = 400390, 157, 'g'\n",
    "calexp_id = {'visit': visit, 'detector': detector, 'filter': filt}\n",
    "\n",
    "# calexp repo\n",
    "calexp_repo = '/global/cscratch1/sd/desc/DC2/data/Run2.1i/rerun/calexp-v1'\n",
    "calexp_butler = Butler(calexp_repo)\n",
    "\n",
    "# Get calexp catalog\n",
    "calexp_catalog = calexp_butler.get('src', calexp_id)\n",
    "\n",
    "# Calibration\n",
    "calexp_Calib = calexp_butler.get('calexp_photoCalib',  calexp_id)\n",
    "calexp_mag = calexp_Calib.instFluxToMagnitude(calexp_catalog, 'base_PsfFlux')\n",
    "\n",
    "# Get relevant columns\n",
    "calexp_astropy = calexp_catalog.asAstropy()\n",
    "calexp_astropy2 =  calexp_astropy[['coord_ra', 'coord_dec', \\\n",
    "'base_FPPosition_x', 'base_FPPosition_y', \\\n",
    "'base_NaiveCentroid_x', 'base_NaiveCentroid_y', \\\n",
    "'deblend_psfCenter_x', 'deblend_psfCenter_y', \\\n",
    "'base_PixelFlags_flag_saturated', 'base_PixelFlags_flag_saturatedCenter' \\\n",
    "]] \n",
    "calexp_astropy2['calexp_magnitude'] = calexp_mag[:, 0]\n",
    "calexp_astropy2['calexp_magnitude_err'] = calexp_mag[:, 1]\n",
    "\n",
    "# Save results\n",
    "calexp_astropy2.write('calexp_source.csv', format='ascii.csv')"
   ]
  },
  {
   "cell_type": "markdown",
   "metadata": {},
   "source": [
    "# 2. pick up stars"
   ]
  },
  {
   "cell_type": "markdown",
   "metadata": {},
   "source": [
    "Here we separate stars into three catagories: `saturation stars`, `super bright stars`, and `less bright stars`."
   ]
  },
  {
   "cell_type": "code",
   "execution_count": 8,
   "metadata": {},
   "outputs": [
    {
     "name": "stdout",
     "output_type": "stream",
     "text": [
      "16.0\n"
     ]
    }
   ],
   "source": [
    "# Read source table\n",
    "calexp_catalog = Table.read('./calexp_source.csv', format='ascii.csv')\n",
    "# Get the floor of the minimum magnitude\n",
    "min_mag = np.floor(np.min(calexp_catalog['calexp_magnitude'].data))\n",
    "print(min_mag)"
   ]
  },
  {
   "cell_type": "markdown",
   "metadata": {},
   "source": [
    "## a). saturation stars\n",
    "#### saturatedCenter = True and saturated = True"
   ]
  },
  {
   "cell_type": "code",
   "execution_count": 11,
   "metadata": {},
   "outputs": [
    {
     "name": "stderr",
     "output_type": "stream",
     "text": [
      "WARNING: AstropyDeprecationWarning: ./saturation_stars.csv already exists. Automatically overwriting ASCII files is deprecated. Use the argument 'overwrite=True' in the future. [astropy.io.ascii.ui]\n"
     ]
    }
   ],
   "source": [
    "row_num = []\n",
    "for num, src in enumerate(calexp_catalog):\n",
    "    if src['base_PixelFlags_flag_saturatedCenter'] == 'True' \\\n",
    "    and src['base_PixelFlags_flag_saturated'] == 'True':\n",
    "        row_num.append(num)\n",
    "satur_center = calexp_catalog[row_num]\n",
    "satur_center['coord_ra'] = np.rad2deg(satur_center ['coord_ra'])\n",
    "satur_center['coord_dec'] = np.rad2deg(satur_center ['coord_dec'])\n",
    "satur_center_coord = satur_center[['coord_ra', 'coord_dec']]\n",
    "satur_center_coord.write('./saturation_stars.csv', format='ascii.csv')"
   ]
  },
  {
   "cell_type": "code",
   "execution_count": 12,
   "metadata": {},
   "outputs": [
    {
     "name": "stdout",
     "output_type": "stream",
     "text": [
      "21\n"
     ]
    }
   ],
   "source": [
    "print(len(satur_center_coord))"
   ]
  },
  {
   "cell_type": "markdown",
   "metadata": {},
   "source": [
    "## b). super bright stars"
   ]
  },
  {
   "cell_type": "code",
   "execution_count": 13,
   "metadata": {},
   "outputs": [
    {
     "name": "stdout",
     "output_type": "stream",
     "text": [
      "16.0\n"
     ]
    }
   ],
   "source": [
    "print(min_mag)"
   ]
  },
  {
   "cell_type": "markdown",
   "metadata": {},
   "source": [
    "We choose stars with magnitude between ming_mag(16) and 18 as super bright stars."
   ]
  },
  {
   "cell_type": "code",
   "execution_count": 14,
   "metadata": {},
   "outputs": [],
   "source": [
    "row_num = []\n",
    "for num, src in enumerate(calexp_catalog):\n",
    "    if src['base_PixelFlags_flag_saturatedCenter'] == 'False' \\\n",
    "    and src['base_PixelFlags_flag_saturated'] == 'False' \\\n",
    "    and src['calexp_magnitude'] >= min_mag \\\n",
    "    and src['calexp_magnitude'] < 18:\n",
    "        row_num.append(num)\n",
    "super_bright = calexp_catalog[row_num]\n",
    "super_bright['coord_ra'] = np.rad2deg(super_bright['coord_ra'])\n",
    "super_bright['coord_dec'] = np.rad2deg(super_bright['coord_dec'])\n",
    "\n",
    "super_bright_coord = super_bright[['coord_ra', 'coord_dec']]\n",
    "super_bright_coord.write('./super_bright_stars.csv', format='ascii.csv')"
   ]
  },
  {
   "cell_type": "code",
   "execution_count": 15,
   "metadata": {},
   "outputs": [
    {
     "name": "stdout",
     "output_type": "stream",
     "text": [
      "24\n"
     ]
    }
   ],
   "source": [
    "print(len(super_bright_coord))"
   ]
  },
  {
   "cell_type": "markdown",
   "metadata": {},
   "source": [
    "## c). less bright stars"
   ]
  },
  {
   "cell_type": "markdown",
   "metadata": {},
   "source": [
    "We choose stars with magnitude between 18 and 20 as less bright stars."
   ]
  },
  {
   "cell_type": "code",
   "execution_count": 16,
   "metadata": {},
   "outputs": [],
   "source": [
    "row_num = []\n",
    "for num, src in enumerate(calexp_catalog):\n",
    "    if src['base_PixelFlags_flag_saturatedCenter'] == 'False' \\\n",
    "    and src['base_PixelFlags_flag_saturated'] == 'False' \\\n",
    "    and src['calexp_magnitude'] >= 18 \\\n",
    "    and src['calexp_magnitude'] < 20:\n",
    "        row_num.append(num)\n",
    "less_bright = calexp_catalog[row_num]\n",
    "less_bright['coord_ra'] = np.rad2deg(less_bright['coord_ra'])\n",
    "less_bright['coord_dec'] = np.rad2deg(less_bright['coord_dec'])\n",
    "less_bright_coord = less_bright[['coord_ra', 'coord_dec']]\n",
    "less_bright_coord.write('./less_bright_stars.csv', format='ascii.csv')"
   ]
  },
  {
   "cell_type": "code",
   "execution_count": 17,
   "metadata": {},
   "outputs": [
    {
     "name": "stdout",
     "output_type": "stream",
     "text": [
      "57\n"
     ]
    }
   ],
   "source": [
    "print(len(less_bright_coord))"
   ]
  },
  {
   "cell_type": "code",
   "execution_count": null,
   "metadata": {},
   "outputs": [],
   "source": []
  }
 ],
 "metadata": {
  "kernelspec": {
   "display_name": "desc-dia",
   "language": "python",
   "name": "desc-dia"
  },
  "language_info": {
   "codemirror_mode": {
    "name": "ipython",
    "version": 3
   },
   "file_extension": ".py",
   "mimetype": "text/x-python",
   "name": "python",
   "nbconvert_exporter": "python",
   "pygments_lexer": "ipython3",
   "version": "3.7.2"
  }
 },
 "nbformat": 4,
 "nbformat_minor": 4
}
