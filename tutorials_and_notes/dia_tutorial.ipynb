{
 "cells": [
  {
   "cell_type": "markdown",
   "id": "f9d35b2b-a3ab-4670-940b-c853e73dbffe",
   "metadata": {},
   "source": [
    "# Difference Image Analysis Tutorial"
   ]
  },
  {
   "cell_type": "markdown",
   "id": "8c0ff78b-630c-452b-b8b1-e719195435c0",
   "metadata": {},
   "source": [
    "This notebook shows how to run image subtraction using [dia_pipe](https://github.com/LSSTDESC/dia_pipe) on a single image pair. Association and forced photometry are not discussed here."
   ]
  },
  {
   "cell_type": "markdown",
   "id": "e06f57dd-85bd-4543-a109-bf3f1c9d7f05",
   "metadata": {
    "tags": []
   },
   "source": [
    "### Download prerequisite packages.\n",
    "\n",
    "- [obs_lsst](https://github.com/lsst/obs_lsst)\n",
    "- [dia_pipe](https://github.com/LSSTDESC/dia_pipe)\n",
    "\n",
    "Let us create a working directory called `dia_tutorial`, and download `obs_lsst` and `dia_pipe` to the `dia_tutorial` using git clone.\n",
    "\n",
    "### Setup\n",
    "\n",
    "Next, create a script in the `dia_tutorial` with the following content in it. Here we name the script as `setup.sh`\n",
    "\n",
    "```\n",
    "#！/bin/bash\n",
    "\n",
    "source /cvmfs/sw.lsst.eu/linux-x86_64/lsst_distrib/v20.0.0/loadLSST.bash\n",
    "\n",
    "setup lsst_distrib\n",
    "\n",
    "# scons only need to be done once. We cannot comment out the following three lines after the first running. setup -jr dia_pipe need to be kept.\n",
    "cd dia_pipe\n",
    "scons\n",
    "cd ..\n",
    "setup -jr dia_pipe\n",
    "\n",
    "export HDF5_USE_FILE_LOCKING=FALSE\n",
    "export OMP_NUM_THREADS=1\n",
    "\n",
    "echo 'done'\n",
    "```\n",
    "\n",
    "After creating the `setup.sh`. Open a terminal, `cd` to the `dia_tutorial` directory, and run `source ./setup.sh`\n",
    "\n",
    "### DC2 Dataset\n",
    "\n",
    "We use [DC2](https://arxiv.org/abs/2010.05926) dataset to performa difference imaging. We use the calexp exposure as the science image and the coadd exposure as the template image. A calexp exposure is identified by its `visit` and `detector`. A coadd exposure is identified by its `tract`, `patch`, and `filter`. When running `imageDifferenceDriver.py` of the `dia_pipe`, we need to speficy the calexp exposure. The pipeline will match the coadds which overlap with the calexp and resample the coadds to create a template which has the same orientation of the calexp."
   ]
  },
  {
   "cell_type": "code",
   "execution_count": null,
   "id": "415ac4a3-9237-4f66-b82e-af2eecb827bc",
   "metadata": {},
   "outputs": [],
   "source": []
  },
  {
   "cell_type": "markdown",
   "id": "4d3a8d89-dfdf-43a1-9beb-e39973a09832",
   "metadata": {},
   "source": [
    "### Performing Image Differencing\n",
    "\n",
    "Both the [AL](https://arxiv.org/abs/astro-ph/9712287) algorithm and the [ZOGY](https://arxiv.org/abs/1601.02655) algorithm have been implemented in the `dia_pipe`.\n",
    "\n",
    "#### AL algorithm\n",
    "\n",
    "$N = \\kappa \\otimes R, \\quad \\kappa = \\Sigma x^ly^m \\times e^{-(u^2 + v^2) / (2\\sigma_n^2)}u^{i_n}v^{j_n}.$\n",
    "\n",
    "To run the AL algorithm, we need to write a config file (`diffimConfig_al.py`) in the `dia_tutorial` directory with the following content in it.\n",
    "```\n",
    "from lsst.meas.algorithms import LoadIndexedReferenceObjectsTask\n",
    "config.imageDifference.refObjLoader.retarget(LoadIndexedReferenceObjectsTask)\n",
    "config.imageDifference.refObjLoader.load('obs_lsst/config/filterMap.py')\n",
    "config.imageDifference.kernelSourcesFromRef = True\n",
    "config.ccdKey = 'detector'\n",
    "```\n",
    "This config will enable the defaut AL algorithm. Below are some configs for adjusting the behavior of the pipeline. We can add them to the config file if we want more variability of the algorithm.\n",
    "```\n",
    "config.imageDifference.detection.thresholdValue = 5.5\n",
    "config.imageDifference.subtract['al'].kernel['AL'].spatialKernelOrder=4\n",
    "config.imageDifference.subtract['al'].kernel['AL'].usePcaForSpatialKernel=False\n",
    "\n",
    "# Number of base Gaussians in alard-lupton kernel basis function generation.\n",
    "config.imageDifference.subtract['al'].kernel['AL'].alardNGauss=4\n",
    "\n",
    "# Polynomial order of spatial modification of base Gaussians. List length must be `alardNGauss`.\n",
    "config.imageDifference.subtract['al'].kernel['AL'].alardDegGauss=[2, 4, 2, 2]\n",
    "\n",
    "# Default sigma values in pixels of base Gaussians. List length must be `alardNGauss`.\n",
    "config.imageDifference.subtract['al'].kernel['AL'].alardSigGauss=[0.1, 0.7, 1.5, 3.0]\n",
    "\n",
    "config.imageDifference.subtract['al'].kernel['AL'].usePcaForSpatialKernel=False\n",
    "\n",
    "# Convolve science image by its PSF before PSF-matching?\n",
    "config.imageDifference.doPreConvolve=False\n",
    "# Use a simple gaussian PSF model for pre-convolution (else use fit PSF)? Ignored if doPreConvolve false.\n",
    "config.imageDifference.useGaussianForPreConvolution=False\n",
    "\n",
    "# Perform diffim decorrelation to undo pixel correlation due to A&L kernel convolution? If True, also update the diffim PSF.\n",
    "config.imageDifference.doDecorrelation = False\n",
    "# If using Zogy or A&L decorrelation, perform these on a grid across the image in order to allow for spatial variations\n",
    "config.imageDifference.doSpatiallyVarying = False\n",
    "\n",
    "config.imageDifference.convolveTemplate = True\n",
    "config.imageDifference.doDeblend = True\n",
    "```\n",
    "\n",
    "After writing the `diffimConfig_al.py`) in the `dia_tutorial` directory, we can run the following code in the terminal, which will create a difference image and a detection table for the calexp with data id (visit=1013665 detector=79 filter=i)\n",
    "```\n",
    "imageDifferenceDriver.py /global/cfs/projectdirs/lsst/production/DC2_ImSim/Run2.2i/desc_dm_drp/v19.0.0-v1/rerun/run2.2i-coadd-wfd-dr6-v1-grizy \\\n",
    "    --output test_al \\\n",
    "    --id visit=1013665 detector=79  -C diffimConfig_al.py \\\n",
    "    --clobber-config --clobber-versions --cores 4\n",
    "```\n",
    "Here `/global/cfs/projectdirs/lsst/production/DC2_ImSim/Run2.2i/desc_dm_drp/v19.0.0-v1/rerun/run2.2i-coadd-wfd-dr6-v1-grizy` is the repo of the dataset. `--output` speficy the directory of the difference image. `-C` specify the config file.\n",
    "\n",
    "#### slurm\n",
    "If we are running multiple subtractions, our script will take too much time. If it needs more than 24 hours, we can use [slurm](https://docs.nersc.gov/jobs/) to run image differencing.\n",
    "Using slurm requires the user to set the running time, which is hard to estimate. Below is a simple example which works for single subtractions.\n",
    "\n",
    "To begin with, we need to create a directory called `logs_folder` in the `dia_tutorial` directory.\n",
    "\n",
    "Next, we run the following code in terminal.\n",
    "\n",
    "```\n",
    "imageDifferenceDriver.py /global/cfs/projectdirs/lsst/production/DC2_ImSim/Run2.2i/desc_dm_drp/v19.0.0-v1/rerun/run2.2i-coadd-wfd-dr6-v1-grizy \\\n",
    "    --output test_al_slurm \\\n",
    "    --id visit=1013665 detector=79  -C diffimConfig_al.py \\\n",
    "    --clobber-config --clobber-versions --cores 1 \\\n",
    "    --batch-type=slurm \\\n",
    "    --time 5000 \\\n",
    "    --mpiexec='-bind-to socket' \\\n",
    "    --batch-output logs_folder \\\n",
    "    --batch-options='-C haswell -q shared'\n",
    "```\n",
    "We can use `squeue -u username` to check the progrerss.\n",
    "\n",
    "#### ZOGY algorithm\n",
    "\n",
    "To run the ZOGY algorithm, we need the following config.\n",
    "\n",
    "`diffimConfig_zogy.py`\n",
    "```\n",
    "import os\n",
    "from lsst.utils import getPackageDir\n",
    "from lsst.meas.algorithms import LoadIndexedReferenceObjectsTask\n",
    "from lsst.ip.diffim.getTemplate import GetCalexpAsTemplateTask\n",
    "\n",
    "config.imageDifference.refObjLoader.retarget(LoadIndexedReferenceObjectsTask)\n",
    "config.imageDifference.refObjLoader.load(os.path.join(getPackageDir('obs_lsst'), 'config', 'filterMap.py'))\n",
    "config.imageDifference.kernelSourcesFromRef = True\n",
    "config.ccdKey = 'detector'\n",
    "config.imageDifference.subtract='zogy'\n",
    "config.imageDifference.subtract['zogy'].zogyConfig.inImageSpace=False\n",
    "```\n",
    "\n",
    "The image subtraction code should also be modified as following\n",
    "\n",
    "```\n",
    "imageDifferenceDriver.py /global/cfs/projectdirs/lsst/production/DC2_ImSim/Run2.2i/desc_dm_drp/v19.0.0-v1/rerun/run2.2i-coadd-wfd-dr6-v1-grizy \\\n",
    "    --output test_zogy \\\n",
    "    --id visit=1013665 detector=79  -C diffimConfig_zogy.py \\\n",
    "    --clobber-config --clobber-versions --cores 4\n",
    "```\n",
    "We should also be careful of where we are running the slurm. Because not all spaces on nersc support slurm. (cscratch1 works)"
   ]
  },
  {
   "cell_type": "markdown",
   "id": "f885eb71-a216-4c7c-ba8c-1ce814d4f2d7",
   "metadata": {},
   "source": [
    "### Analysis\n",
    "\n",
    "We use the data product from the AL algorithm for analysis.\n",
    "\n",
    "There are two popular methods to read the data product. One is to use [Butler](https://github.com/lsst/obs_lsst/blob/w.2019.19_diff/policy/lsstCamMapper.yaml) (slow), the other is to read directly from the path."
   ]
  },
  {
   "cell_type": "code",
   "execution_count": 1,
   "id": "fd57a318-b48b-4081-9818-8d23b344ef66",
   "metadata": {},
   "outputs": [],
   "source": [
    "# use butler\n",
    "from lsst.daf.persistence import Butler\n",
    "\n",
    "diff_repo = './test_al/'\n",
    "diff_butler = Butler(diff_repo)\n",
    "# get difference exposure\n",
    "diff_id = {'visit': 1013665, 'detector': 79, 'filter': 'i'}\n",
    "diff_exp = diff_butler.get('deepDiff_differenceExp', diff_id)\n",
    "# get diaSrc table (detection table)\n",
    "diff_diaSrc = diff_butler.get('deepDiff_diaSrc', diff_id)\n",
    "# we can also change the diaSrc table to an astropy table\n",
    "# diff_diaSrc_astropy = diff_diaSrc.asAstropy()"
   ]
  },
  {
   "cell_type": "code",
   "execution_count": 2,
   "id": "cf274e3b-d6c5-46c7-b2eb-51f9f55192c2",
   "metadata": {},
   "outputs": [],
   "source": [
    "# read directly from the path\n",
    "import lsst.afw.image as afwImage\n",
    "from lsst.afw.table import BaseCatalog\n",
    "\n",
    "diff_exp = afwImage.ExposureF('./test_al/deepDiff/v01013665-fi/R20/diffexp_01013665-i-R20-S21-det079.fits')\n",
    "diff_diaSrc = BaseCatalog.readFits('./test_al/deepDiff/v01013665-fi/R20/diaSrc_01013665-i-R20-S21-det079.fits')\n",
    "diff_diaSrc_astropy = diff_diaSrc.asAstropy()"
   ]
  },
  {
   "cell_type": "code",
   "execution_count": 3,
   "id": "941b29f3-06f4-4214-9d29-5c6e8981cebc",
   "metadata": {},
   "outputs": [],
   "source": [
    "# get the image, variance, mask, bounding box, wcs  \n",
    "# diff_exp.getImage().array\n",
    "# diff_exp.getVariance().array\n",
    "# diff_exp.getMask().array\n",
    "# diff_exp.getBBox()\n",
    "# diff_exp.getWcs()\n",
    "\n",
    "# psf \n",
    "diff_psf = diff_exp.getPsf()\n",
    "# get psf array\n",
    "# diff_psf.computeImage().array.shape\n",
    "# psf width\n",
    "psf_shape = diff_psf.computeShape()\n",
    "# second order moment\n",
    "# ixx = psf_shape.getIxx()\n",
    "# iyy = psf_shape.getIyy()\n",
    "# Gaussian sigma and fwhm\n",
    "# sigma = np.sqrt(( ixx + iyy) / 2 )\n",
    "# fwhm = 2.355 * sigma"
   ]
  },
  {
   "cell_type": "code",
   "execution_count": 4,
   "id": "61515d98-510d-4eda-9aab-ac088730badd",
   "metadata": {},
   "outputs": [
    {
     "name": "stdout",
     "output_type": "stream",
     "text": [
      "value=17.28362684298275553, error=0.00487471151148300124\n",
      "17.283626842982756\n",
      "value=443148.4787702015019, error=1989.637060356218171\n"
     ]
    }
   ],
   "source": [
    "# calibration\n",
    "# usee Butler\n",
    "# diff_photoCalib = diff_butler.get('deepDiff_differenceExp_photoCalib', diff_id)\n",
    "# use difference exposure\n",
    "diff_photoCalib = diff_exp.getPhotoCalib()\n",
    "\n",
    "# convert the instrumental flux to magnitude\n",
    "inst_flux = diff_diaSrc['base_PsfFlux_instFlux']\n",
    "inst_flux_err = diff_diaSrc['base_PsfFlux_instFluxErr']\n",
    "mag_with_error = diff_photoCalib.instFluxToMagnitude(inst_flux[1], inst_flux_err[1])\n",
    "print(mag_with_error)\n",
    "mag = diff_photoCalib.instFluxToMagnitude(inst_flux[1])\n",
    "print(mag)\n",
    "# convert the instrumental flux to nanojansky\n",
    "nanojansky = diff_photoCalib.instFluxToNanojansky(inst_flux[1], inst_flux_err[1])\n",
    "print(nanojansky)\n",
    "\n",
    "# diaSrc table has many importmant measurements, such as\n",
    "# pixel coordiantes: base_NaiveCentroid_x, base_NaiveCentroid_y\n",
    "# sky coordinates: coord_ra, coord_dec"
   ]
  },
  {
   "cell_type": "markdown",
   "id": "e09d4d68-8252-4d41-8518-854ef754b004",
   "metadata": {},
   "source": [
    "### Display cutout"
   ]
  },
  {
   "cell_type": "code",
   "execution_count": 12,
   "id": "25df6285-4854-4d1d-98e8-aaf5cf53d61d",
   "metadata": {},
   "outputs": [
    {
     "name": "stdout",
     "output_type": "stream",
     "text": [
      "\n"
     ]
    },
    {
     "data": {
      "image/png": "[encoded data removed]",
      "text/plain": [
       "<Figure size 432x288 with 1 Axes>"
      ]
     },
     "metadata": {
      "needs_background": "light"
     },
     "output_type": "display_data"
    }
   ],
   "source": [
    "import lsst.geom as geom\n",
    "import matplotlib.pyplot as plt\n",
    "import lsst.afw.display as afwDisplay\n",
    "\n",
    "# pick a pixel coordinate\n",
    "x, y = diff_diaSrc['base_NaiveCentroid_x'][1], diff_diaSrc['base_NaiveCentroid_y'][1]\n",
    "cutout_size=50\n",
    "cutout_extent = geom.ExtentI(cutout_size, cutout_size)\n",
    "radec = geom.SpherePoint(diff_exp.getWcs().pixelToSky(x, y))\n",
    "cutout_exp = diff_exp.getCutout(radec, cutout_extent)\n",
    "xy = geom.PointI(x, y)\n",
    "afwDisplay.setDefaultBackend('matplotlib')\n",
    "display = afwDisplay.Display(frame=None)\n",
    "display.mtv(cutout_exp)\n",
    "plt.title('cutout')\n",
    "print()"
   ]
  },
  {
   "cell_type": "code",
   "execution_count": 16,
   "id": "83b1ed6c-1eb6-4c85-91e9-ab436b0f0910",
   "metadata": {},
   "outputs": [
    {
     "name": "stdout",
     "output_type": "stream",
     "text": [
      "BAD: red\n",
      "BRIGHT_OBJECT: None\n",
      "CLIPPED: None\n",
      "CR: magenta\n",
      "CROSSTALK: None\n",
      "DETECTED: blue\n",
      "DETECTED_NEGATIVE: cyan\n",
      "EDGE: yellow\n",
      "INEXACT_PSF: None\n",
      "INTRP: green\n",
      "NOT_DEBLENDED: None\n",
      "NO_DATA: orange\n",
      "REJECTED: None\n",
      "SAT: green\n",
      "SENSOR_EDGE: None\n",
      "SUSPECT: yellow\n",
      "UNMASKEDNAN: None\n"
     ]
    },
    {
     "data": {
      "text/plain": [
       "<Figure size 432x288 with 0 Axes>"
      ]
     },
     "metadata": {},
     "output_type": "display_data"
    }
   ],
   "source": [
    "# show color code\n",
    "mask = diff_exp.getMask()\n",
    "dsp = afwDisplay.Display()\n",
    "for maskName, maskBit in mask.getMaskPlaneDict().items():\n",
    "    print('{}: {}'.format(maskName, dsp.getMaskPlaneColor(maskName)))"
   ]
  },
  {
   "cell_type": "markdown",
   "id": "9d1b3006-a93c-42b0-b9e8-1e969f12f3b5",
   "metadata": {},
   "source": [
    "### Reading calexp and coadd information"
   ]
  },
  {
   "cell_type": "code",
   "execution_count": 67,
   "id": "17c91e98-71c2-40e0-b193-9273f0669e81",
   "metadata": {},
   "outputs": [],
   "source": [
    "# get calexp Butler\n",
    "calexp_repo = '/global/cfs/projectdirs/lsst/production/DC2_ImSim/Run2.2i/desc_dm_drp/v19.0.0-v1/rerun/run2.2i-calexp-v1'\n",
    "calexp_butler = Butler(calexp_repo)\n",
    "\n",
    "# get exp and photocalib\n",
    "calexp_id = {'visit': 1013665, 'detector': 79, 'filter': 'i'}\n",
    "calexp_exp = calexp_butler.get('calexp', calexp_id)\n",
    "calexp_photocalib = calexp_butler.get('calexp_photoCalib', calexp_id)\n",
    "# get the source table measured from the calexp exposure\n",
    "calexp_src = calexp_butler.get('src', calexp_id)"
   ]
  },
  {
   "cell_type": "code",
   "execution_count": 65,
   "id": "d9c65737-8f71-403f-a9de-473479cd2446",
   "metadata": {},
   "outputs": [],
   "source": [
    "# get coadd Butler\n",
    "coadd_repo = '/global/cfs/projectdirs/lsst/production/DC2_ImSim/Run2.2i/desc_dm_drp/v19.0.0-v1/rerun/run2.2i-coadd-wfd-dr6-v1-grizy'\n",
    "coadd_butler = Butler(coadd_repo)\n",
    "\n",
    "# get expo and photocalib\n",
    "coadd_id = {'tract': 4639, 'patch': '0,0', 'filter': 'i'}\n",
    "coadd_exp = coadd_butler.get('deepCoadd', coadd_id)\n",
    "coadd_photocalib = coadd_butler.get('deepCoadd_photoCalib', coadd_id)"
   ]
  },
  {
   "cell_type": "markdown",
   "id": "73c99b28-1780-493f-b843-b723374ee9cc",
   "metadata": {},
   "source": [
    "### Getting the nearest coadd coadd id with a given calexp exposure"
   ]
  },
  {
   "cell_type": "code",
   "execution_count": 85,
   "id": "47714f21-442d-4fe0-b57d-e34899d1ac77",
   "metadata": {},
   "outputs": [
    {
     "name": "stdout",
     "output_type": "stream",
     "text": [
      "FITS standard SkyWcs:\n",
      "Sky Origin: (57.076576, -31.143652)\n",
      "Pixel Origin: (2098.29, 1852.97)\n",
      "Pixel Scale: 0.199748 arcsec/pixel\n"
     ]
    }
   ],
   "source": [
    "calexp_wcs = calexp_exp.getWcs()\n",
    "print(calexp_wcs)"
   ]
  },
  {
   "cell_type": "code",
   "execution_count": 121,
   "id": "f6c6f152-5bfd-4cee-88ea-836e7de4360e",
   "metadata": {},
   "outputs": [
    {
     "name": "stdout",
     "output_type": "stream",
     "text": [
      "{'tract': 4639, 'patch': '0,0'}\n"
     ]
    }
   ],
   "source": [
    "# use sky origin as the center of the calexp\n",
    "sky_origin = calexp_wcs.getSkyOrigin()\n",
    "# use skymap to match the coadd\n",
    "skymap = coadd_butler.get(\"deepCoadd_skyMap\")\n",
    "tract_info = skymap.findTract(sky_origin)\n",
    "patch_info = tract_info.findPatch(sky_origin)\n",
    "patch_idx = patch_info.getIndex()\n",
    "\n",
    "coadd_id = {'tract': tract_info.getId(), \n",
    "                'patch': f'{patch_idx[0]},{patch_idx[1]}' }\n",
    "print(coadd_id)"
   ]
  },
  {
   "cell_type": "markdown",
   "id": "3f600797-fdd7-48fd-98cd-8e5ccf607020",
   "metadata": {},
   "source": [
    "### Getting the calexp information with a given coadd"
   ]
  },
  {
   "cell_type": "code",
   "execution_count": 127,
   "id": "f5e3e131-d786-4df5-83d7-25bbc2279a68",
   "metadata": {},
   "outputs": [],
   "source": [
    "import sqlite3\n",
    "import pandas as pd\n",
    "\n",
    "# use the tracts_mapping.sqlite3 data base\n",
    "db = '/global/cfs/projectdirs/lsst/production/DC2_ImSim/Run2.2i/desc_dm_drp/v19.0.0-v1/rerun/run2.2i-calexp-v1/tracts_mapping.sqlite3'\n",
    "conn = sqlite3.connect(db)\n",
    "\n",
    "tract = 4639\n",
    "# here patch is a tuple\n",
    "patch = (0, 0)\n",
    "filt = 'i'\n",
    "query = (f\"select distinct(visit), filter, detector, tract, patch from overlaps where tract={tract} \" \n",
    "         f\"and patch='{patch}' and filter='{filt}' order by visit\")\n",
    "calexp_info = pd.read_sql_query(query, conn)"
   ]
  },
  {
   "cell_type": "markdown",
   "id": "21449b4d-1bb4-4953-9729-e470caa28fcf",
   "metadata": {},
   "source": [
    "### Forced photometry\n",
    "\n",
    "The `dia_pipe` can perform forced photometry by providing `id`, `coord_ra` (in radian), and `coord_dec` (in radian). This method is available in branch `origin/#19`. To setup this branch, we need to change the setup file as following.\n",
    "\n",
    "`setup.sh`\n",
    "```\n",
    "#！/bin/bash\n",
    "\n",
    "source /cvmfs/sw.lsst.eu/linux-x86_64/lsst_distrib/v20.0.0/loadLSST.bash\n",
    "\n",
    "setup lsst_distrib\n",
    "\n",
    "# scons only need to be done once. We cannot comment out the following three lines after the first running. setup -jr dia_pipe need to be kept.\n",
    "# cd dia_pipe\n",
    "# git checkout origin/#19\n",
    "# scons\n",
    "# cd ..\n",
    "setup -jr dia_pipe\n",
    "\n",
    "export HDF5_USE_FILE_LOCKING=FALSE\n",
    "export OMP_NUM_THREADS=1\n",
    "\n",
    "echo 'done'\n",
    "```\n",
    "\n",
    "After running `source setup.sh` in the `dia_tutorial` directory, we create the config file for the forced photometry. Let us call this config file as `forcedConfig.py`. We can set the aperture radii in the config.\n",
    "\n",
    "\n",
    "```\n",
    "config.measurement.plugins.names |= [\"base_CircularApertureFlux\"]\n",
    "# radii in pixels\n",
    "config.measurement.plugins[\"base_CircularApertureFlux\"].radii = [1.0, 2.0, 3.0, 4.0, 5.0, 10.0, 20.0, 30.0, 40.0]\n",
    "```"
   ]
  },
  {
   "cell_type": "code",
   "execution_count": 21,
   "id": "9c4f7797-aa2d-4fa4-8b26-0bfb0eba9e8f",
   "metadata": {},
   "outputs": [],
   "source": [
    "# Next, we create the coordinate table\n",
    "coord = diff_diaSrc_astropy[['id', 'coord_ra', 'coord_dec']]\n",
    "coord.write('coord.fits', format='fits', overwrite=True)"
   ]
  },
  {
   "cell_type": "markdown",
   "id": "09580496-7093-4c35-8fc7-1647c07fda44",
   "metadata": {},
   "source": [
    "Now we can run the `forcedPhotCatalogDia.py` as following.\n",
    "```\n",
    "forcedPhotCatalogDia.py /global/cfs/projectdirs/lsst/production/DC2_ImSim/Run2.2i/desc_dm_drp/v19.0.0-v1/rerun/run2.2i-coadd-wfd-dr6-v1-grizy \\\n",
    "    --output test_al \\\n",
    "    --id visit=1013665 detector=79 \\\n",
    "    -c catalogName=coord.fits outputDir=forced -C forcedConfig.py \\\n",
    "    --clobber-versions --clobber-config\n",
    "```"
   ]
  },
  {
   "cell_type": "code",
   "execution_count": 31,
   "id": "2c1af998-d78d-4d84-a28e-e4a220ece299",
   "metadata": {},
   "outputs": [],
   "source": [
    "# read forced photometry table\n",
    "forced_table = BaseCatalog.readFits('./forced/forced_1013665_79.fits')\n",
    "forced_astropy  = forced_table.asAstropy()\n",
    "\n",
    "# merge diaSrc table and forced photometry table using pandas\n",
    "\n",
    "import pandas as pd\n",
    "diff_diaSrc_pd = diff_diaSrc_astropy.to_pandas()\n",
    "forced_pd = forced_astropy.to_pandas()\n",
    "joint_table = diff_diaSrc_pd.merge(forced_pd, left_on='id', right_on='dia_object_id',\n",
    "                                 suffixes=['_diaSrc', '_forced'])"
   ]
  },
  {
   "cell_type": "code",
   "execution_count": 32,
   "id": "0f8ce8cb-ad38-475a-9578-c2eab0625644",
   "metadata": {},
   "outputs": [
    {
     "data": {
      "text/plain": [
       "[<matplotlib.lines.Line2D at 0x2aab28052978>]"
      ]
     },
     "execution_count": 32,
     "metadata": {},
     "output_type": "execute_result"
    },
    {
     "data": {
      "image/png": "[encoded data removed]",
      "text/plain": [
       "<Figure size 432x288 with 1 Axes>"
      ]
     },
     "metadata": {
      "needs_background": "light"
     },
     "output_type": "display_data"
    }
   ],
   "source": [
    "# calculate flux residuals\n",
    "forced_flux = joint_table['base_PsfFlux_instFlux_forced']\n",
    "diaSrc_flux = joint_table['base_PsfFlux_instFlux_diaSrc']\n",
    "res = (forced_flux - diaSrc_flux) / diaSrc_flux\n",
    "plt.plot(res)"
   ]
  },
  {
   "cell_type": "markdown",
   "id": "91a18c3d-9718-4234-ba90-b3eafd459846",
   "metadata": {},
   "source": [
    "### Reference\n",
    "\n",
    "- [Butler data types](https://github.com/lsst/obs_lsst/blob/w.2019.19_diff/policy/lsstCamMapper.yaml)"
   ]
  },
  {
   "cell_type": "code",
   "execution_count": null,
   "id": "4279bada-d43e-4998-91ee-c69ba65b8d58",
   "metadata": {},
   "outputs": [],
   "source": []
  }
 ],
 "metadata": {
  "kernelspec": {
   "display_name": "desc-stack",
   "language": "python",
   "name": "desc-stack"
  },
  "language_info": {
   "codemirror_mode": {
    "name": "ipython",
    "version": 3
   },
   "file_extension": ".py",
   "mimetype": "text/x-python",
   "name": "python",
   "nbconvert_exporter": "python",
   "pygments_lexer": "ipython3",
   "version": "3.7.2"
  }
 },
 "nbformat": 4,
 "nbformat_minor": 5
}
